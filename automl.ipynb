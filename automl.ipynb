{
 "cells": [
  {
   "cell_type": "markdown",
   "metadata": {},
   "source": [
    "# Automated ML\n",
    "\n",
    "TODO: Import Dependencies. In the cell below, import all the dependencies that you will need to complete the project."
   ]
  },
  {
   "cell_type": "code",
   "execution_count": 1,
   "metadata": {
    "gather": {
     "logged": 1598423888013
    },
    "jupyter": {
     "outputs_hidden": false,
     "source_hidden": false
    },
    "nteract": {
     "transient": {
      "deleting": false
     }
    }
   },
   "outputs": [
    {
     "name": "stdout",
     "output_type": "stream",
     "text": [
      "SDK version: 1.20.0\n"
     ]
    }
   ],
   "source": [
    "import logging\n",
    "import os\n",
    "import csv\n",
    "\n",
    "from matplotlib import pyplot as plt\n",
    "import numpy as np\n",
    "import pandas as pd\n",
    "from sklearn import datasets\n",
    "import pkg_resources\n",
    "\n",
    "import azureml.core\n",
    "from azureml.core.experiment import Experiment\n",
    "from azureml.core.workspace import Workspace\n",
    "from azureml.train.automl import AutoMLConfig\n",
    "from azureml.core.dataset import Dataset\n",
    "\n",
    "from azureml.pipeline.steps import AutoMLStep\n",
    "from azureml.widgets import RunDetails\n",
    "from azureml.core import Workspace, Dataset\n",
    "\n",
    "from azureml.core.environment import Environment\n",
    "from azureml.core.model import InferenceConfig\n",
    "from azureml.core.webservice import AciWebservice\n",
    "from azureml.core import Model\n",
    "\n",
    "\n",
    "# Check core SDK version number\n",
    "print(\"SDK version:\", azureml.core.VERSION)\n"
   ]
  },
  {
   "cell_type": "code",
   "execution_count": 2,
   "metadata": {
    "gather": {
     "logged": 1598423890461
    },
    "jupyter": {
     "outputs_hidden": false,
     "source_hidden": false
    },
    "nteract": {
     "transient": {
      "deleting": false
     }
    }
   },
   "outputs": [
    {
     "name": "stdout",
     "output_type": "stream",
     "text": [
      "quick-starts-ws-136929\n",
      "aml-quickstarts-136929\n",
      "southcentralus\n",
      "cdbe0b43-92a0-4715-838a-f2648cc7ad21\n"
     ]
    }
   ],
   "source": [
    "ws = Workspace.from_config()\n",
    "# ws = Workspace.get(name='quick-starts-ws-136929')\n",
    "# choose a name for experiment\n",
    "experiment_name = 'automl-experiment'\n",
    "project_folder = './pipeline-project'\n",
    "experiment=Experiment(ws, experiment_name)\n",
    "print(ws.name, ws.resource_group, ws.location, ws.subscription_id, sep = '\\n')"
   ]
  },
  {
   "cell_type": "code",
   "execution_count": 3,
   "metadata": {},
   "outputs": [
    {
     "name": "stdout",
     "output_type": "stream",
     "text": [
      "Found existing cluster, use it.\n",
      "Succeeded\n",
      "AmlCompute wait for completion finished\n",
      "\n",
      "Minimum number of nodes requested have been provisioned\n"
     ]
    }
   ],
   "source": [
    "from azureml.core.compute import AmlCompute\n",
    "from azureml.core.compute import ComputeTarget\n",
    "from azureml.core.compute_target import ComputeTargetException\n",
    "\n",
    "# NOTE: update the cluster name to match the existing cluster\n",
    "# Choose a name for your CPU cluster\n",
    "amlcompute_cluster_name = \"project3\"\n",
    "\n",
    "# Verify that cluster does not exist already\n",
    "try:\n",
    "    compute_target = ComputeTarget(workspace=ws, name=amlcompute_cluster_name)\n",
    "    print('Found existing cluster, use it.')\n",
    "except ComputeTargetException:\n",
    "    compute_config = AmlCompute.provisioning_configuration(vm_size='STANDARD_D2_V2',# for GPU, use \"STANDARD_NC6\"\n",
    "                                                           #vm_priority = 'lowpriority', # optional\n",
    "                                                           max_nodes=4)\n",
    "    compute_target = ComputeTarget.create(ws, amlcompute_cluster_name, compute_config)\n",
    "\n",
    "compute_target.wait_for_completion(show_output=True)"
   ]
  },
  {
   "cell_type": "markdown",
   "metadata": {},
   "source": [
    "## Dataset\n",
    "\n",
    "### Overview\n",
    "TODO: In this markdown cell, give an overview of the dataset you are using. Also mention the task you will be performing.\n",
    "\n",
    "Data is taken from **Kaggle** [link to the dataset](https://www.kaggle.com/roshansharma/online-shoppers-intention)  \n",
    "  \n",
    "Data consists of various Information related to customer behavior in online shopping websites. It helps us to perform Marketing Analytics.\n",
    "We will try to predict from the data if shopper will generate Revenue or not. \n",
    "\n",
    "We will perform classification task\n",
    "Data consists of various Information related to customer behavior in online shopping websites\n",
    "\n",
    "TODO: Get data. In the cell below, write code to access the data you will be using in this project. Remember that the dataset needs to be external."
   ]
  },
  {
   "cell_type": "code",
   "execution_count": 4,
   "metadata": {},
   "outputs": [],
   "source": [
    "dataset = Dataset.get_by_name(workspace=ws, name='online_shoppers_intention')\n",
    "df = dataset.to_pandas_dataframe()"
   ]
  },
  {
   "cell_type": "markdown",
   "metadata": {},
   "source": [
    "## AutoML Configuration\n",
    "\n",
    "TODO: Explain why you chose the automl settings and cofiguration you used below."
   ]
  },
  {
   "cell_type": "code",
   "execution_count": 5,
   "metadata": {
    "gather": {
     "logged": 1598429217746
    },
    "jupyter": {
     "outputs_hidden": false,
     "source_hidden": false
    },
    "nteract": {
     "transient": {
      "deleting": false
     }
    }
   },
   "outputs": [],
   "source": [
    "automl_settings = {\n",
    "    \"experiment_timeout_minutes\": 20,\n",
    "    \"max_concurrent_iterations\": 5,\n",
    "    \"primary_metric\" : 'accuracy'\n",
    "}\n",
    "automl_config = AutoMLConfig(compute_target=compute_target,\n",
    "                             task = \"classification\",\n",
    "                             training_data=dataset,\n",
    "                             label_column_name=\"Revenue\",   \n",
    "                             path = project_folder,\n",
    "                             enable_onnx_compatible_models=True,\n",
    "                             enable_early_stopping= True,\n",
    "                             featurization= 'auto',\n",
    "                             debug_log = \"automl_errors.log\",\n",
    "                             **automl_settings\n",
    "                            )"
   ]
  },
  {
   "cell_type": "code",
   "execution_count": 6,
   "metadata": {
    "gather": {
     "logged": 1598431107951
    },
    "jupyter": {
     "outputs_hidden": false,
     "source_hidden": false
    },
    "nteract": {
     "transient": {
      "deleting": false
     }
    },
    "scrolled": false
   },
   "outputs": [
    {
     "name": "stdout",
     "output_type": "stream",
     "text": [
      "Running on remote.\n",
      "No run_configuration provided, running on project3 with default configuration\n",
      "Running on remote compute: project3\n",
      "Parent Run ID: AutoML_ab681bdd-9a2e-4342-9e6e-3c96b9d2e191\n",
      "\n",
      "Current status: FeaturesGeneration. Generating features for the dataset.\n",
      "Current status: DatasetBalancing. Performing class balancing sweeping\n",
      "Current status: DatasetCrossValidationSplit. Generating individually featurized CV splits.\n",
      "Current status: ModelSelection. Beginning model selection.\n",
      "\n",
      "****************************************************************************************************\n",
      "DATA GUARDRAILS: \n",
      "\n",
      "TYPE:         Cross validation\n",
      "STATUS:       DONE\n",
      "DESCRIPTION:  Each iteration of the trained model was validated through cross-validation.\n",
      "              \n",
      "DETAILS:      \n",
      "+---------------------------------+\n",
      "|Number of folds                  |\n",
      "+=================================+\n",
      "|3                                |\n",
      "+---------------------------------+\n",
      "\n",
      "****************************************************************************************************\n",
      "\n",
      "TYPE:         Class balancing detection\n",
      "STATUS:       ALERTED\n",
      "DESCRIPTION:  To decrease model bias, please cancel the current run and fix balancing problem.\n",
      "              Learn more about imbalanced data: https://aka.ms/AutomatedMLImbalancedData\n",
      "DETAILS:      Imbalanced data can lead to a falsely perceived positive effect of a model's accuracy because the input data has bias towards one class.\n",
      "+---------------------------------+---------------------------------+--------------------------------------+\n",
      "|Size of the smallest class       |Name/Label of the smallest class |Number of samples in the training data|\n",
      "+=================================+=================================+======================================+\n",
      "|1908                             |True                             |12330                                 |\n",
      "+---------------------------------+---------------------------------+--------------------------------------+\n",
      "\n",
      "****************************************************************************************************\n",
      "\n",
      "TYPE:         Missing feature values imputation\n",
      "STATUS:       DONE\n",
      "DESCRIPTION:  If the missing values are expected, let the run complete. Otherwise cancel the current run and use a script to customize the handling of missing feature values that may be more appropriate based on the data type and business requirement.\n",
      "              Learn more about missing value imputation: https://aka.ms/AutomatedMLFeaturization\n",
      "DETAILS:      \n",
      "+---------------------------------+---------------------------------+---------------------------------+\n",
      "|Column name                      |Missing value count              |Imputation type                  |\n",
      "+=================================+=================================+=================================+\n",
      "|Administrative                   |14                               |mean                             |\n",
      "|Administrative_Duration          |14                               |mean                             |\n",
      "|Informational                    |14                               |mean                             |\n",
      "|Informational_Duration           |14                               |mean                             |\n",
      "|ProductRelated                   |14                               |mean                             |\n",
      "|ProductRelated_Duration          |14                               |mean                             |\n",
      "|BounceRates                      |14                               |mean                             |\n",
      "|ExitRates                        |14                               |mean                             |\n",
      "+---------------------------------+---------------------------------+---------------------------------+\n",
      "\n",
      "****************************************************************************************************\n",
      "\n",
      "TYPE:         High cardinality feature detection\n",
      "STATUS:       PASSED\n",
      "DESCRIPTION:  Your inputs were analyzed, and no high cardinality features were detected.\n",
      "              Learn more about high cardinality feature handling: https://aka.ms/AutomatedMLFeaturization\n",
      "\n",
      "****************************************************************************************************\n",
      "\n",
      "****************************************************************************************************\n",
      "ITERATION: The iteration being evaluated.\n",
      "PIPELINE: A summary description of the pipeline being evaluated.\n",
      "DURATION: Time taken for the current iteration.\n",
      "METRIC: The result of computing score on the fitted pipeline.\n",
      "BEST: The best observed score thus far.\n",
      "****************************************************************************************************\n",
      "\n",
      " ITERATION   PIPELINE                                       DURATION      METRIC      BEST\n",
      "         3   MaxAbsScaler RandomForest                      0:00:45       0.8453    0.8453\n",
      "         0   MaxAbsScaler LightGBM                          0:00:56       0.9002    0.9002\n",
      "         4   MaxAbsScaler RandomForest                      0:01:00       0.8236    0.9002\n",
      "         2   MaxAbsScaler RandomForest                      0:00:57       0.8487    0.9002\n",
      "         7   SparseNormalizer XGBoostClassifier             0:00:56       0.9023    0.9023\n",
      "         8   SparseNormalizer XGBoostClassifier             0:00:54       0.8981    0.9023\n",
      "         1   MaxAbsScaler XGBoostClassifier                 0:03:27       0.9052    0.9052\n",
      "         5   MaxAbsScaler RandomForest                      0:03:28       0.8347    0.9052\n",
      "         9   StandardScalerWrapper RandomForest             0:00:57       0.8931    0.9052\n",
      "        10   SparseNormalizer XGBoostClassifier             0:01:01       0.8874    0.9052\n",
      "        11   MaxAbsScaler RandomForest                      0:00:49       0.8804    0.9052\n",
      "         6   SparseNormalizer XGBoostClassifier             0:03:56       0.8981    0.9052\n",
      "        12   MaxAbsScaler LogisticRegression                0:00:55       0.8800    0.9052\n",
      "        13   MaxAbsScaler LightGBM                          0:00:59       0.8725    0.9052\n",
      "        14   MaxAbsScaler RandomForest                      0:01:09       0.8834    0.9052\n",
      "        15   SparseNormalizer LightGBM                      0:00:54       0.9021    0.9052\n",
      "        16   MaxAbsScaler ExtremeRandomTrees                0:01:14       0.8453    0.9052\n",
      "        17   MaxAbsScaler LightGBM                          0:00:52       0.8622    0.9052\n",
      "        18   MaxAbsScaler LightGBM                          0:00:52       0.8848    0.9052\n",
      "        19   StandardScalerWrapper RandomForest             0:00:58       0.8453    0.9052\n",
      "        20   MaxAbsScaler ExtremeRandomTrees                0:01:00       0.8453    0.9052\n",
      "        21   SparseNormalizer XGBoostClassifier             0:00:57       0.9019    0.9052\n",
      "        22   MaxAbsScaler LogisticRegression                0:00:53       0.8836    0.9052\n",
      "        23   MaxAbsScaler LogisticRegression                0:00:57       0.8841    0.9052\n",
      "        24   MaxAbsScaler LogisticRegression                0:00:47       0.8825    0.9052\n",
      "        25   SparseNormalizer XGBoostClassifier             0:00:45       0.8453    0.9052\n",
      "        26   MaxAbsScaler LightGBM                          0:00:54       0.8852    0.9052\n",
      "        27   SparseNormalizer LightGBM                      0:00:51       0.8531    0.9052\n",
      "        28   MaxAbsScaler LightGBM                          0:00:55       0.9033    0.9052\n",
      "        29   SparseNormalizer XGBoostClassifier             0:00:52       0.9021    0.9052\n",
      "        30   SparseNormalizer LightGBM                      0:00:51       0.9017    0.9052\n",
      "        31   StandardScalerWrapper XGBoostClassifier        0:00:52       0.9014    0.9052\n",
      "        32   SparseNormalizer LightGBM                      0:01:00       0.9018    0.9052\n",
      "        33   StandardScalerWrapper XGBoostClassifier        0:00:55       0.9019    0.9052\n",
      "        34   SparseNormalizer XGBoostClassifier             0:01:11       0.8975    0.9052\n",
      "        35   SparseNormalizer XGBoostClassifier             0:00:53          nan    0.9052\n",
      "        36                                                  0:00:13          nan    0.9052\n",
      "        37                                                  0:00:18          nan    0.9052\n",
      "        38    VotingEnsemble                                0:01:23       0.9074    0.9074\n"
     ]
    }
   ],
   "source": [
    "# TODO: Submit your experiment\n",
    "remote_run = experiment.submit(automl_config,show_output=True)"
   ]
  },
  {
   "cell_type": "markdown",
   "metadata": {},
   "source": [
    "## Run Details\n",
    "\n",
    "OPTIONAL: Write about the different models trained and their performance. Why do you think some models did better than others?\n",
    "\n",
    "TODO: In the cell below, use the `RunDetails` widget to show the different experiments."
   ]
  },
  {
   "cell_type": "code",
   "execution_count": 7,
   "metadata": {
    "gather": {
     "logged": 1598431121770
    },
    "jupyter": {
     "outputs_hidden": false,
     "source_hidden": false
    },
    "nteract": {
     "transient": {
      "deleting": false
     }
    }
   },
   "outputs": [
    {
     "data": {
      "application/vnd.jupyter.widget-view+json": {
       "model_id": "3adc217e03c94ad382a50ea36d38cc2e",
       "version_major": 2,
       "version_minor": 0
      },
      "text/plain": [
       "_AutoMLWidget(widget_settings={'childWidgetDisplay': 'popup', 'send_telemetry': False, 'log_level': 'INFO', 's…"
      ]
     },
     "metadata": {},
     "output_type": "display_data"
    },
    {
     "data": {
      "application/aml.mini.widget.v1": "{\"status\": \"Completed\", \"workbench_run_details_uri\": \"https://ml.azure.com/experiments/automl-experiment/runs/AutoML_ab681bdd-9a2e-4342-9e6e-3c96b9d2e191?wsid=/subscriptions/cdbe0b43-92a0-4715-838a-f2648cc7ad21/resourcegroups/aml-quickstarts-136929/workspaces/quick-starts-ws-136929\", \"run_id\": \"AutoML_ab681bdd-9a2e-4342-9e6e-3c96b9d2e191\", \"run_properties\": {\"run_id\": \"AutoML_ab681bdd-9a2e-4342-9e6e-3c96b9d2e191\", \"created_utc\": \"2021-02-02T12:52:43.950214Z\", \"properties\": {\"num_iterations\": \"1000\", \"training_type\": \"TrainFull\", \"acquisition_function\": \"EI\", \"primary_metric\": \"accuracy\", \"train_split\": \"0\", \"acquisition_parameter\": \"0\", \"num_cross_validation\": null, \"target\": \"project3\", \"AMLSettingsJsonString\": \"{\\\"path\\\":null,\\\"name\\\":\\\"automl-experiment\\\",\\\"subscription_id\\\":\\\"cdbe0b43-92a0-4715-838a-f2648cc7ad21\\\",\\\"resource_group\\\":\\\"aml-quickstarts-136929\\\",\\\"workspace_name\\\":\\\"quick-starts-ws-136929\\\",\\\"region\\\":\\\"southcentralus\\\",\\\"compute_target\\\":\\\"project3\\\",\\\"spark_service\\\":null,\\\"azure_service\\\":\\\"remote\\\",\\\"many_models\\\":false,\\\"pipeline_fetch_max_batch_size\\\":1,\\\"iterations\\\":1000,\\\"primary_metric\\\":\\\"accuracy\\\",\\\"task_type\\\":\\\"classification\\\",\\\"data_script\\\":null,\\\"validation_size\\\":0.0,\\\"n_cross_validations\\\":null,\\\"y_min\\\":null,\\\"y_max\\\":null,\\\"num_classes\\\":null,\\\"featurization\\\":\\\"auto\\\",\\\"_ignore_package_version_incompatibilities\\\":false,\\\"is_timeseries\\\":false,\\\"max_cores_per_iteration\\\":1,\\\"max_concurrent_iterations\\\":5,\\\"iteration_timeout_minutes\\\":null,\\\"mem_in_mb\\\":null,\\\"enforce_time_on_windows\\\":false,\\\"experiment_timeout_minutes\\\":20,\\\"experiment_exit_score\\\":null,\\\"whitelist_models\\\":null,\\\"blacklist_algos\\\":[\\\"TensorFlowLinearClassifier\\\",\\\"TensorFlowDNN\\\"],\\\"supported_models\\\":[\\\"LinearSVM\\\",\\\"LogisticRegression\\\",\\\"XGBoostClassifier\\\",\\\"SGD\\\",\\\"AveragedPerceptronClassifier\\\",\\\"KNN\\\",\\\"DecisionTree\\\",\\\"RandomForest\\\",\\\"LightGBM\\\",\\\"TensorFlowDNN\\\",\\\"MultinomialNaiveBayes\\\",\\\"SVM\\\",\\\"ExtremeRandomTrees\\\",\\\"BernoulliNaiveBayes\\\",\\\"TensorFlowLinearClassifier\\\",\\\"GradientBoosting\\\"],\\\"auto_blacklist\\\":true,\\\"blacklist_samples_reached\\\":false,\\\"exclude_nan_labels\\\":true,\\\"verbosity\\\":20,\\\"_debug_log\\\":\\\"azureml_automl.log\\\",\\\"show_warnings\\\":false,\\\"model_explainability\\\":true,\\\"service_url\\\":null,\\\"sdk_url\\\":null,\\\"sdk_packages\\\":null,\\\"enable_onnx_compatible_models\\\":true,\\\"enable_split_onnx_featurizer_estimator_models\\\":false,\\\"vm_type\\\":\\\"STANDARD_D2_V2\\\",\\\"telemetry_verbosity\\\":20,\\\"send_telemetry\\\":true,\\\"enable_dnn\\\":false,\\\"scenario\\\":\\\"SDK-1.13.0\\\",\\\"environment_label\\\":null,\\\"force_text_dnn\\\":false,\\\"enable_feature_sweeping\\\":false,\\\"enable_early_stopping\\\":true,\\\"early_stopping_n_iters\\\":10,\\\"metrics\\\":null,\\\"enable_ensembling\\\":true,\\\"enable_stack_ensembling\\\":false,\\\"ensemble_iterations\\\":15,\\\"enable_tf\\\":false,\\\"enable_subsampling\\\":null,\\\"subsample_seed\\\":null,\\\"enable_nimbusml\\\":false,\\\"enable_streaming\\\":false,\\\"force_streaming\\\":false,\\\"track_child_runs\\\":true,\\\"allowed_private_models\\\":[],\\\"label_column_name\\\":\\\"Revenue\\\",\\\"weight_column_name\\\":null,\\\"cv_split_column_names\\\":null,\\\"enable_local_managed\\\":false,\\\"_local_managed_run_id\\\":null,\\\"cost_mode\\\":1,\\\"lag_length\\\":0,\\\"metric_operation\\\":\\\"maximize\\\",\\\"preprocess\\\":true}\", \"DataPrepJsonString\": \"{\\\\\\\"training_data\\\\\\\": \\\\\\\"{\\\\\\\\\\\\\\\"blocks\\\\\\\\\\\\\\\": [{\\\\\\\\\\\\\\\"id\\\\\\\\\\\\\\\": \\\\\\\\\\\\\\\"94727ed6-8e64-429b-8f84-0eeb98344580\\\\\\\\\\\\\\\", \\\\\\\\\\\\\\\"type\\\\\\\\\\\\\\\": \\\\\\\\\\\\\\\"Microsoft.DPrep.GetFilesBlock\\\\\\\\\\\\\\\", \\\\\\\\\\\\\\\"arguments\\\\\\\\\\\\\\\": {\\\\\\\\\\\\\\\"isArchive\\\\\\\\\\\\\\\": false, \\\\\\\\\\\\\\\"path\\\\\\\\\\\\\\\": {\\\\\\\\\\\\\\\"target\\\\\\\\\\\\\\\": 4, \\\\\\\\\\\\\\\"resourceDetails\\\\\\\\\\\\\\\": [{\\\\\\\\\\\\\\\"path\\\\\\\\\\\\\\\": \\\\\\\\\\\\\\\"https://raw.githubusercontent.com/Bhosalenileshn/ML-Azure-Udacity-Capstone-Project/main/online_shoppers_intention.csv\\\\\\\\\\\\\\\"}]}}, \\\\\\\\\\\\\\\"localData\\\\\\\\\\\\\\\": {}, \\\\\\\\\\\\\\\"isEnabled\\\\\\\\\\\\\\\": true, \\\\\\\\\\\\\\\"name\\\\\\\\\\\\\\\": null, \\\\\\\\\\\\\\\"annotation\\\\\\\\\\\\\\\": null}, {\\\\\\\\\\\\\\\"id\\\\\\\\\\\\\\\": \\\\\\\\\\\\\\\"d73be2d3-ab39-443a-9daa-c4adc0f7bb2d\\\\\\\\\\\\\\\", \\\\\\\\\\\\\\\"type\\\\\\\\\\\\\\\": \\\\\\\\\\\\\\\"Microsoft.DPrep.ParseDelimitedBlock\\\\\\\\\\\\\\\", \\\\\\\\\\\\\\\"arguments\\\\\\\\\\\\\\\": {\\\\\\\\\\\\\\\"columnHeadersMode\\\\\\\\\\\\\\\": 3, \\\\\\\\\\\\\\\"fileEncoding\\\\\\\\\\\\\\\": 0, \\\\\\\\\\\\\\\"handleQuotedLineBreaks\\\\\\\\\\\\\\\": false, \\\\\\\\\\\\\\\"preview\\\\\\\\\\\\\\\": false, \\\\\\\\\\\\\\\"separator\\\\\\\\\\\\\\\": \\\\\\\\\\\\\\\",\\\\\\\\\\\\\\\", \\\\\\\\\\\\\\\"skipRows\\\\\\\\\\\\\\\": 0, \\\\\\\\\\\\\\\"skipRowsMode\\\\\\\\\\\\\\\": 0}, \\\\\\\\\\\\\\\"localData\\\\\\\\\\\\\\\": {}, \\\\\\\\\\\\\\\"isEnabled\\\\\\\\\\\\\\\": true, \\\\\\\\\\\\\\\"name\\\\\\\\\\\\\\\": null, \\\\\\\\\\\\\\\"annotation\\\\\\\\\\\\\\\": null}, {\\\\\\\\\\\\\\\"id\\\\\\\\\\\\\\\": \\\\\\\\\\\\\\\"1ce5690d-6ac5-4f5f-9c63-5697ba992fe2\\\\\\\\\\\\\\\", \\\\\\\\\\\\\\\"type\\\\\\\\\\\\\\\": \\\\\\\\\\\\\\\"Microsoft.DPrep.DropColumnsBlock\\\\\\\\\\\\\\\", \\\\\\\\\\\\\\\"arguments\\\\\\\\\\\\\\\": {\\\\\\\\\\\\\\\"columns\\\\\\\\\\\\\\\": {\\\\\\\\\\\\\\\"type\\\\\\\\\\\\\\\": 0, \\\\\\\\\\\\\\\"details\\\\\\\\\\\\\\\": {\\\\\\\\\\\\\\\"selectedColumns\\\\\\\\\\\\\\\": [\\\\\\\\\\\\\\\"Path\\\\\\\\\\\\\\\"]}}}, \\\\\\\\\\\\\\\"localData\\\\\\\\\\\\\\\": {}, \\\\\\\\\\\\\\\"isEnabled\\\\\\\\\\\\\\\": true, \\\\\\\\\\\\\\\"name\\\\\\\\\\\\\\\": null, \\\\\\\\\\\\\\\"annotation\\\\\\\\\\\\\\\": null}, {\\\\\\\\\\\\\\\"id\\\\\\\\\\\\\\\": \\\\\\\\\\\\\\\"096a5965-d860-4aeb-9b93-391ab5c30a09\\\\\\\\\\\\\\\", \\\\\\\\\\\\\\\"type\\\\\\\\\\\\\\\": \\\\\\\\\\\\\\\"Microsoft.DPrep.SetColumnTypesBlock\\\\\\\\\\\\\\\", \\\\\\\\\\\\\\\"arguments\\\\\\\\\\\\\\\": {\\\\\\\\\\\\\\\"columnConversion\\\\\\\\\\\\\\\": [{\\\\\\\\\\\\\\\"column\\\\\\\\\\\\\\\": {\\\\\\\\\\\\\\\"type\\\\\\\\\\\\\\\": 2, \\\\\\\\\\\\\\\"details\\\\\\\\\\\\\\\": {\\\\\\\\\\\\\\\"selectedColumn\\\\\\\\\\\\\\\": \\\\\\\\\\\\\\\"Administrative\\\\\\\\\\\\\\\"}}, \\\\\\\\\\\\\\\"typeProperty\\\\\\\\\\\\\\\": 2}, {\\\\\\\\\\\\\\\"column\\\\\\\\\\\\\\\": {\\\\\\\\\\\\\\\"type\\\\\\\\\\\\\\\": 2, \\\\\\\\\\\\\\\"details\\\\\\\\\\\\\\\": {\\\\\\\\\\\\\\\"selectedColumn\\\\\\\\\\\\\\\": \\\\\\\\\\\\\\\"Administrative_Duration\\\\\\\\\\\\\\\"}}, \\\\\\\\\\\\\\\"typeProperty\\\\\\\\\\\\\\\": 3}, {\\\\\\\\\\\\\\\"column\\\\\\\\\\\\\\\": {\\\\\\\\\\\\\\\"type\\\\\\\\\\\\\\\": 2, \\\\\\\\\\\\\\\"details\\\\\\\\\\\\\\\": {\\\\\\\\\\\\\\\"selectedColumn\\\\\\\\\\\\\\\": \\\\\\\\\\\\\\\"Informational\\\\\\\\\\\\\\\"}}, \\\\\\\\\\\\\\\"typeProperty\\\\\\\\\\\\\\\": 2}, {\\\\\\\\\\\\\\\"column\\\\\\\\\\\\\\\": {\\\\\\\\\\\\\\\"type\\\\\\\\\\\\\\\": 2, \\\\\\\\\\\\\\\"details\\\\\\\\\\\\\\\": {\\\\\\\\\\\\\\\"selectedColumn\\\\\\\\\\\\\\\": \\\\\\\\\\\\\\\"Informational_Duration\\\\\\\\\\\\\\\"}}, \\\\\\\\\\\\\\\"typeProperty\\\\\\\\\\\\\\\": 3}, {\\\\\\\\\\\\\\\"column\\\\\\\\\\\\\\\": {\\\\\\\\\\\\\\\"type\\\\\\\\\\\\\\\": 2, \\\\\\\\\\\\\\\"details\\\\\\\\\\\\\\\": {\\\\\\\\\\\\\\\"selectedColumn\\\\\\\\\\\\\\\": \\\\\\\\\\\\\\\"ProductRelated\\\\\\\\\\\\\\\"}}, \\\\\\\\\\\\\\\"typeProperty\\\\\\\\\\\\\\\": 2}, {\\\\\\\\\\\\\\\"column\\\\\\\\\\\\\\\": {\\\\\\\\\\\\\\\"type\\\\\\\\\\\\\\\": 2, \\\\\\\\\\\\\\\"details\\\\\\\\\\\\\\\": {\\\\\\\\\\\\\\\"selectedColumn\\\\\\\\\\\\\\\": \\\\\\\\\\\\\\\"ProductRelated_Duration\\\\\\\\\\\\\\\"}}, \\\\\\\\\\\\\\\"typeProperty\\\\\\\\\\\\\\\": 3}, {\\\\\\\\\\\\\\\"column\\\\\\\\\\\\\\\": {\\\\\\\\\\\\\\\"type\\\\\\\\\\\\\\\": 2, \\\\\\\\\\\\\\\"details\\\\\\\\\\\\\\\": {\\\\\\\\\\\\\\\"selectedColumn\\\\\\\\\\\\\\\": \\\\\\\\\\\\\\\"BounceRates\\\\\\\\\\\\\\\"}}, \\\\\\\\\\\\\\\"typeProperty\\\\\\\\\\\\\\\": 3}, {\\\\\\\\\\\\\\\"column\\\\\\\\\\\\\\\": {\\\\\\\\\\\\\\\"type\\\\\\\\\\\\\\\": 2, \\\\\\\\\\\\\\\"details\\\\\\\\\\\\\\\": {\\\\\\\\\\\\\\\"selectedColumn\\\\\\\\\\\\\\\": \\\\\\\\\\\\\\\"ExitRates\\\\\\\\\\\\\\\"}}, \\\\\\\\\\\\\\\"typeProperty\\\\\\\\\\\\\\\": 3}, {\\\\\\\\\\\\\\\"column\\\\\\\\\\\\\\\": {\\\\\\\\\\\\\\\"type\\\\\\\\\\\\\\\": 2, \\\\\\\\\\\\\\\"details\\\\\\\\\\\\\\\": {\\\\\\\\\\\\\\\"selectedColumn\\\\\\\\\\\\\\\": \\\\\\\\\\\\\\\"PageValues\\\\\\\\\\\\\\\"}}, \\\\\\\\\\\\\\\"typeProperty\\\\\\\\\\\\\\\": 3}, {\\\\\\\\\\\\\\\"column\\\\\\\\\\\\\\\": {\\\\\\\\\\\\\\\"type\\\\\\\\\\\\\\\": 2, \\\\\\\\\\\\\\\"details\\\\\\\\\\\\\\\": {\\\\\\\\\\\\\\\"selectedColumn\\\\\\\\\\\\\\\": \\\\\\\\\\\\\\\"SpecialDay\\\\\\\\\\\\\\\"}}, \\\\\\\\\\\\\\\"typeProperty\\\\\\\\\\\\\\\": 3}, {\\\\\\\\\\\\\\\"column\\\\\\\\\\\\\\\": {\\\\\\\\\\\\\\\"type\\\\\\\\\\\\\\\": 2, \\\\\\\\\\\\\\\"details\\\\\\\\\\\\\\\": {\\\\\\\\\\\\\\\"selectedColumn\\\\\\\\\\\\\\\": \\\\\\\\\\\\\\\"Month\\\\\\\\\\\\\\\"}}, \\\\\\\\\\\\\\\"typeProperty\\\\\\\\\\\\\\\": 0}, {\\\\\\\\\\\\\\\"column\\\\\\\\\\\\\\\": {\\\\\\\\\\\\\\\"type\\\\\\\\\\\\\\\": 2, \\\\\\\\\\\\\\\"details\\\\\\\\\\\\\\\": {\\\\\\\\\\\\\\\"selectedColumn\\\\\\\\\\\\\\\": \\\\\\\\\\\\\\\"OperatingSystems\\\\\\\\\\\\\\\"}}, \\\\\\\\\\\\\\\"typeProperty\\\\\\\\\\\\\\\": 2}, {\\\\\\\\\\\\\\\"column\\\\\\\\\\\\\\\": {\\\\\\\\\\\\\\\"type\\\\\\\\\\\\\\\": 2, \\\\\\\\\\\\\\\"details\\\\\\\\\\\\\\\": {\\\\\\\\\\\\\\\"selectedColumn\\\\\\\\\\\\\\\": \\\\\\\\\\\\\\\"Browser\\\\\\\\\\\\\\\"}}, \\\\\\\\\\\\\\\"typeProperty\\\\\\\\\\\\\\\": 2}, {\\\\\\\\\\\\\\\"column\\\\\\\\\\\\\\\": {\\\\\\\\\\\\\\\"type\\\\\\\\\\\\\\\": 2, \\\\\\\\\\\\\\\"details\\\\\\\\\\\\\\\": {\\\\\\\\\\\\\\\"selectedColumn\\\\\\\\\\\\\\\": \\\\\\\\\\\\\\\"Region\\\\\\\\\\\\\\\"}}, \\\\\\\\\\\\\\\"typeProperty\\\\\\\\\\\\\\\": 2}, {\\\\\\\\\\\\\\\"column\\\\\\\\\\\\\\\": {\\\\\\\\\\\\\\\"type\\\\\\\\\\\\\\\": 2, \\\\\\\\\\\\\\\"details\\\\\\\\\\\\\\\": {\\\\\\\\\\\\\\\"selectedColumn\\\\\\\\\\\\\\\": \\\\\\\\\\\\\\\"TrafficType\\\\\\\\\\\\\\\"}}, \\\\\\\\\\\\\\\"typeProperty\\\\\\\\\\\\\\\": 2}, {\\\\\\\\\\\\\\\"column\\\\\\\\\\\\\\\": {\\\\\\\\\\\\\\\"type\\\\\\\\\\\\\\\": 2, \\\\\\\\\\\\\\\"details\\\\\\\\\\\\\\\": {\\\\\\\\\\\\\\\"selectedColumn\\\\\\\\\\\\\\\": \\\\\\\\\\\\\\\"VisitorType\\\\\\\\\\\\\\\"}}, \\\\\\\\\\\\\\\"typeProperty\\\\\\\\\\\\\\\": 0}, {\\\\\\\\\\\\\\\"column\\\\\\\\\\\\\\\": {\\\\\\\\\\\\\\\"type\\\\\\\\\\\\\\\": 2, \\\\\\\\\\\\\\\"details\\\\\\\\\\\\\\\": {\\\\\\\\\\\\\\\"selectedColumn\\\\\\\\\\\\\\\": \\\\\\\\\\\\\\\"Weekend\\\\\\\\\\\\\\\"}}, \\\\\\\\\\\\\\\"typeProperty\\\\\\\\\\\\\\\": 1}, {\\\\\\\\\\\\\\\"column\\\\\\\\\\\\\\\": {\\\\\\\\\\\\\\\"type\\\\\\\\\\\\\\\": 2, \\\\\\\\\\\\\\\"details\\\\\\\\\\\\\\\": {\\\\\\\\\\\\\\\"selectedColumn\\\\\\\\\\\\\\\": \\\\\\\\\\\\\\\"Revenue\\\\\\\\\\\\\\\"}}, \\\\\\\\\\\\\\\"typeProperty\\\\\\\\\\\\\\\": 1}]}, \\\\\\\\\\\\\\\"localData\\\\\\\\\\\\\\\": {}, \\\\\\\\\\\\\\\"isEnabled\\\\\\\\\\\\\\\": true, \\\\\\\\\\\\\\\"name\\\\\\\\\\\\\\\": null, \\\\\\\\\\\\\\\"annotation\\\\\\\\\\\\\\\": null}], \\\\\\\\\\\\\\\"inspectors\\\\\\\\\\\\\\\": [], \\\\\\\\\\\\\\\"meta\\\\\\\\\\\\\\\": {\\\\\\\\\\\\\\\"savedDatasetId\\\\\\\\\\\\\\\": \\\\\\\\\\\\\\\"16aa8d52-b134-4d8a-b9ab-a43659aad40a\\\\\\\\\\\\\\\", \\\\\\\\\\\\\\\"datasetType\\\\\\\\\\\\\\\": \\\\\\\\\\\\\\\"tabular\\\\\\\\\\\\\\\", \\\\\\\\\\\\\\\"subscriptionId\\\\\\\\\\\\\\\": \\\\\\\\\\\\\\\"cdbe0b43-92a0-4715-838a-f2648cc7ad21\\\\\\\\\\\\\\\", \\\\\\\\\\\\\\\"workspaceId\\\\\\\\\\\\\\\": \\\\\\\\\\\\\\\"6e347715-6105-449d-8c09-73ffa95b5ff9\\\\\\\\\\\\\\\", \\\\\\\\\\\\\\\"workspaceLocation\\\\\\\\\\\\\\\": \\\\\\\\\\\\\\\"southcentralus\\\\\\\\\\\\\\\"}}\\\\\\\", \\\\\\\"activities\\\\\\\": 0}\", \"EnableSubsampling\": null, \"runTemplate\": \"AutoML\", \"azureml.runsource\": \"automl\", \"display_task_type\": \"classification\", \"dependencies_versions\": \"{\\\"azureml-widgets\\\": \\\"1.20.0\\\", \\\"azureml-train\\\": \\\"1.20.0\\\", \\\"azureml-train-restclients-hyperdrive\\\": \\\"1.20.0\\\", \\\"azureml-train-core\\\": \\\"1.20.0\\\", \\\"azureml-train-automl\\\": \\\"1.20.0\\\", \\\"azureml-train-automl-runtime\\\": \\\"1.20.0\\\", \\\"azureml-train-automl-client\\\": \\\"1.20.0\\\", \\\"azureml-tensorboard\\\": \\\"1.20.0\\\", \\\"azureml-telemetry\\\": \\\"1.20.0\\\", \\\"azureml-sdk\\\": \\\"1.20.0\\\", \\\"azureml-samples\\\": \\\"0+unknown\\\", \\\"azureml-pipeline\\\": \\\"1.20.0\\\", \\\"azureml-pipeline-steps\\\": \\\"1.20.0\\\", \\\"azureml-pipeline-core\\\": \\\"1.20.0\\\", \\\"azureml-opendatasets\\\": \\\"1.20.0\\\", \\\"azureml-model-management-sdk\\\": \\\"1.0.1b6.post1\\\", \\\"azureml-mlflow\\\": \\\"1.20.0.post1\\\", \\\"azureml-interpret\\\": \\\"1.20.0\\\", \\\"azureml-explain-model\\\": \\\"1.20.0\\\", \\\"azureml-defaults\\\": \\\"1.20.0\\\", \\\"azureml-dataset-runtime\\\": \\\"1.20.0\\\", \\\"azureml-dataprep\\\": \\\"2.7.3\\\", \\\"azureml-dataprep-rslex\\\": \\\"1.5.0\\\", \\\"azureml-dataprep-native\\\": \\\"27.0.0\\\", \\\"azureml-datadrift\\\": \\\"1.20.0\\\", \\\"azureml-core\\\": \\\"1.20.0\\\", \\\"azureml-contrib-services\\\": \\\"1.20.0\\\", \\\"azureml-contrib-server\\\": \\\"1.20.0\\\", \\\"azureml-contrib-reinforcementlearning\\\": \\\"1.20.0\\\", \\\"azureml-contrib-pipeline-steps\\\": \\\"1.20.0\\\", \\\"azureml-contrib-notebook\\\": \\\"1.20.0\\\", \\\"azureml-contrib-interpret\\\": \\\"1.20.0\\\", \\\"azureml-contrib-gbdt\\\": \\\"1.20.0\\\", \\\"azureml-contrib-fairness\\\": \\\"1.20.0\\\", \\\"azureml-contrib-dataset\\\": \\\"1.20.0\\\", \\\"azureml-cli-common\\\": \\\"1.20.0\\\", \\\"azureml-automl-runtime\\\": \\\"1.20.0\\\", \\\"azureml-automl-core\\\": \\\"1.20.0\\\", \\\"azureml-accel-models\\\": \\\"1.20.0\\\"}\", \"_aml_system_scenario_identification\": \"Remote.Parent\", \"ClientType\": \"SDK\", \"environment_cpu_name\": \"AzureML-AutoML\", \"environment_cpu_label\": \"prod\", \"environment_gpu_name\": \"AzureML-AutoML-GPU\", \"environment_gpu_label\": \"prod\", \"root_attribution\": \"automl\", \"attribution\": \"AutoML\", \"Orchestrator\": \"AutoML\", \"CancelUri\": \"https://southcentralus.experiments.azureml.net/jasmine/v1.0/subscriptions/cdbe0b43-92a0-4715-838a-f2648cc7ad21/resourceGroups/aml-quickstarts-136929/providers/Microsoft.MachineLearningServices/workspaces/quick-starts-ws-136929/experimentids/b4a9c260-62f3-435c-b3d5-a5b487cb2f62/cancel/AutoML_ab681bdd-9a2e-4342-9e6e-3c96b9d2e191\", \"ClientSdkVersion\": \"1.21.0\", \"snapshotId\": \"00000000-0000-0000-0000-000000000000\", \"SetupRunId\": \"AutoML_ab681bdd-9a2e-4342-9e6e-3c96b9d2e191_setup\", \"SetupRunContainerId\": \"dcid.AutoML_ab681bdd-9a2e-4342-9e6e-3c96b9d2e191_setup\", \"FeaturizationRunJsonPath\": \"featurizer_container.json\", \"FeaturizationRunId\": \"AutoML_ab681bdd-9a2e-4342-9e6e-3c96b9d2e191_featurize\", \"ProblemInfoJsonString\": \"{\\\"dataset_num_categorical\\\": 0, \\\"is_sparse\\\": true, \\\"subsampling\\\": false, \\\"dataset_classes\\\": 2, \\\"dataset_features\\\": 74, \\\"dataset_samples\\\": 12330, \\\"single_frequency_class_detected\\\": false}\", \"ModelExplainRunId\": \"AutoML_ab681bdd-9a2e-4342-9e6e-3c96b9d2e191_ModelExplain\"}, \"tags\": {\"model_explain_run\": \"best_run\", \"_aml_system_azureml.automlComponent\": \"AutoML\", \"pipeline_id\": \"\", \"score\": \"\", \"predicted_cost\": \"\", \"fit_time\": \"\", \"training_percent\": \"\", \"iteration\": \"\", \"run_preprocessor\": \"\", \"run_algorithm\": \"\", \"dynamic_whitelisting_iterations\": \"<25>;<29>;<35>;\", \"automl_best_child_run_id\": \"AutoML_ab681bdd-9a2e-4342-9e6e-3c96b9d2e191_38\", \"model_explain_best_run_child_id\": \"AutoML_ab681bdd-9a2e-4342-9e6e-3c96b9d2e191_38\"}, \"end_time_utc\": \"2021-02-02T13:19:06.88201Z\", \"status\": \"Completed\", \"log_files\": {}, \"log_groups\": [], \"run_duration\": \"0:26:22\"}, \"child_runs\": [{\"run_id\": \"AutoML_ab681bdd-9a2e-4342-9e6e-3c96b9d2e191_0\", \"run_number\": 62, \"metric\": null, \"status\": \"Completed\", \"run_type\": \"azureml.scriptrun\", \"training_percent\": \"100\", \"start_time\": \"2021-02-02T13:04:13.013503Z\", \"end_time\": \"2021-02-02T13:05:09.436636Z\", \"created_time\": \"2021-02-02T13:03:14.771819Z\", \"created_time_dt\": \"2021-02-02T13:03:14.771819Z\", \"duration\": \"0:01:54\", \"iteration\": \"0\", \"goal\": \"accuracy_max\", \"run_name\": \"MaxAbsScaler, LightGBM\", \"run_properties\": \"copy=True\", \"primary_metric\": 0.90016221, \"best_metric\": 0.90016221}, {\"run_id\": \"AutoML_ab681bdd-9a2e-4342-9e6e-3c96b9d2e191_1\", \"run_number\": 63, \"metric\": null, \"status\": \"Completed\", \"run_type\": \"azureml.scriptrun\", \"training_percent\": \"100\", \"start_time\": \"2021-02-02T13:06:39.601787Z\", \"end_time\": \"2021-02-02T13:10:06.449952Z\", \"created_time\": \"2021-02-02T13:03:14.778093Z\", \"created_time_dt\": \"2021-02-02T13:03:14.778093Z\", \"duration\": \"0:06:51\", \"iteration\": \"1\", \"goal\": \"accuracy_max\", \"run_name\": \"MaxAbsScaler, XGBoostClassifier\", \"run_properties\": \"copy=True\", \"primary_metric\": 0.90519059, \"best_metric\": 0.90519059}, {\"run_id\": \"AutoML_ab681bdd-9a2e-4342-9e6e-3c96b9d2e191_3\", \"run_number\": 64, \"metric\": null, \"status\": \"Completed\", \"run_type\": \"azureml.scriptrun\", \"training_percent\": \"100\", \"start_time\": \"2021-02-02T13:03:24.851819Z\", \"end_time\": \"2021-02-02T13:04:09.357733Z\", \"created_time\": \"2021-02-02T13:03:14.827676Z\", \"created_time_dt\": \"2021-02-02T13:03:14.827676Z\", \"duration\": \"0:00:54\", \"iteration\": \"3\", \"goal\": \"accuracy_max\", \"run_name\": \"MaxAbsScaler, RandomForest\", \"run_properties\": \"copy=True\", \"primary_metric\": 0.84525547, \"best_metric\": 0.90519059}, {\"run_id\": \"AutoML_ab681bdd-9a2e-4342-9e6e-3c96b9d2e191_2\", \"run_number\": 65, \"metric\": null, \"status\": \"Completed\", \"run_type\": \"azureml.scriptrun\", \"training_percent\": \"100\", \"start_time\": \"2021-02-02T13:06:14.672391Z\", \"end_time\": \"2021-02-02T13:07:11.962201Z\", \"created_time\": \"2021-02-02T13:03:14.778411Z\", \"created_time_dt\": \"2021-02-02T13:03:14.778411Z\", \"duration\": \"0:03:57\", \"iteration\": \"2\", \"goal\": \"accuracy_max\", \"run_name\": \"MaxAbsScaler, RandomForest\", \"run_properties\": \"copy=True\", \"primary_metric\": 0.8486618, \"best_metric\": 0.90519059}, {\"run_id\": \"AutoML_ab681bdd-9a2e-4342-9e6e-3c96b9d2e191_4\", \"run_number\": 66, \"metric\": null, \"status\": \"Completed\", \"run_type\": \"azureml.scriptrun\", \"training_percent\": \"100\", \"start_time\": \"2021-02-02T13:05:13.676499Z\", \"end_time\": \"2021-02-02T13:06:13.937038Z\", \"created_time\": \"2021-02-02T13:03:14.793197Z\", \"created_time_dt\": \"2021-02-02T13:03:14.793197Z\", \"duration\": \"0:02:59\", \"iteration\": \"4\", \"goal\": \"accuracy_max\", \"run_name\": \"MaxAbsScaler, RandomForest\", \"run_properties\": \"copy=True\", \"primary_metric\": 0.82360097, \"best_metric\": 0.90519059}, {\"run_id\": \"AutoML_ab681bdd-9a2e-4342-9e6e-3c96b9d2e191_5\", \"run_number\": 67, \"metric\": null, \"status\": \"Completed\", \"run_type\": \"azureml.scriptrun\", \"training_percent\": \"100\", \"start_time\": \"2021-02-02T13:06:42.252872Z\", \"end_time\": \"2021-02-02T13:10:10.05296Z\", \"created_time\": \"2021-02-02T13:04:13.023799Z\", \"created_time_dt\": \"2021-02-02T13:04:13.023799Z\", \"duration\": \"0:05:57\", \"iteration\": \"5\", \"goal\": \"accuracy_max\", \"run_name\": \"MaxAbsScaler, RandomForest\", \"run_properties\": \"copy=True\", \"primary_metric\": 0.83471208, \"best_metric\": 0.90519059}, {\"run_id\": \"AutoML_ab681bdd-9a2e-4342-9e6e-3c96b9d2e191_6\", \"run_number\": 68, \"metric\": null, \"status\": \"Completed\", \"run_type\": \"azureml.scriptrun\", \"training_percent\": \"100\", \"start_time\": \"2021-02-02T13:06:43.338048Z\", \"end_time\": \"2021-02-02T13:10:39.124694Z\", \"created_time\": \"2021-02-02T13:05:12.155953Z\", \"created_time_dt\": \"2021-02-02T13:05:12.155953Z\", \"duration\": \"0:05:26\", \"iteration\": \"6\", \"goal\": \"accuracy_max\", \"run_name\": \"SparseNormalizer, XGBoostClassifier\", \"run_properties\": \"<azureml.automl.runtime.shared.model_wrappers.SparseNormalizer object at 0x7f5631659940\", \"primary_metric\": 0.89813463, \"best_metric\": 0.90519059}, {\"run_id\": \"AutoML_ab681bdd-9a2e-4342-9e6e-3c96b9d2e191_7\", \"run_number\": 69, \"metric\": null, \"status\": \"Completed\", \"run_type\": \"azureml.scriptrun\", \"training_percent\": \"100\", \"start_time\": \"2021-02-02T13:07:14.329607Z\", \"end_time\": \"2021-02-02T13:08:10.769042Z\", \"created_time\": \"2021-02-02T13:06:17.460994Z\", \"created_time_dt\": \"2021-02-02T13:06:17.460994Z\", \"duration\": \"0:01:53\", \"iteration\": \"7\", \"goal\": \"accuracy_max\", \"run_name\": \"SparseNormalizer, XGBoostClassifier\", \"run_properties\": \"<azureml.automl.runtime.shared.model_wrappers.SparseNormalizer object at 0x7fa350c05588\", \"primary_metric\": 0.90227088, \"best_metric\": 0.90519059}, {\"run_id\": \"AutoML_ab681bdd-9a2e-4342-9e6e-3c96b9d2e191_8\", \"run_number\": 70, \"metric\": null, \"status\": \"Completed\", \"run_type\": \"azureml.scriptrun\", \"training_percent\": \"100\", \"start_time\": \"2021-02-02T13:08:14.361921Z\", \"end_time\": \"2021-02-02T13:09:07.98425Z\", \"created_time\": \"2021-02-02T13:07:14.493172Z\", \"created_time_dt\": \"2021-02-02T13:07:14.493172Z\", \"duration\": \"0:01:53\", \"iteration\": \"8\", \"goal\": \"accuracy_max\", \"run_name\": \"SparseNormalizer, XGBoostClassifier\", \"run_properties\": \"<azureml.automl.runtime.shared.model_wrappers.SparseNormalizer object at 0x7f5ca7275390\", \"primary_metric\": 0.89805353, \"best_metric\": 0.90519059}, {\"run_id\": \"AutoML_ab681bdd-9a2e-4342-9e6e-3c96b9d2e191_9\", \"run_number\": 71, \"metric\": null, \"status\": \"Completed\", \"run_type\": \"azureml.scriptrun\", \"training_percent\": \"100\", \"start_time\": \"2021-02-02T13:09:09.972501Z\", \"end_time\": \"2021-02-02T13:10:07.445503Z\", \"created_time\": \"2021-02-02T13:08:13.898294Z\", \"created_time_dt\": \"2021-02-02T13:08:13.898294Z\", \"duration\": \"0:01:53\", \"iteration\": \"9\", \"goal\": \"accuracy_max\", \"run_name\": \"StandardScalerWrapper, RandomForest\", \"run_properties\": \"<azureml.automl.runtime.shared.model_wrappers.StandardScalerWrapper object at 0x7f0655834cf8\", \"primary_metric\": 0.89310624, \"best_metric\": 0.90519059}, {\"run_id\": \"AutoML_ab681bdd-9a2e-4342-9e6e-3c96b9d2e191_10\", \"run_number\": 72, \"metric\": null, \"status\": \"Completed\", \"run_type\": \"azureml.scriptrun\", \"training_percent\": \"100\", \"start_time\": \"2021-02-02T13:10:07.563512Z\", \"end_time\": \"2021-02-02T13:11:08.914171Z\", \"created_time\": \"2021-02-02T13:09:11.059752Z\", \"created_time_dt\": \"2021-02-02T13:09:11.059752Z\", \"duration\": \"0:01:57\", \"iteration\": \"10\", \"goal\": \"accuracy_max\", \"run_name\": \"SparseNormalizer, XGBoostClassifier\", \"run_properties\": \"<azureml.automl.runtime.shared.model_wrappers.SparseNormalizer object at 0x7f6c9c4c6c50\", \"primary_metric\": 0.88742903, \"best_metric\": 0.90519059}, {\"run_id\": \"AutoML_ab681bdd-9a2e-4342-9e6e-3c96b9d2e191_11\", \"run_number\": 73, \"metric\": null, \"status\": \"Completed\", \"run_type\": \"azureml.scriptrun\", \"training_percent\": \"100\", \"start_time\": \"2021-02-02T13:10:19.806647Z\", \"end_time\": \"2021-02-02T13:11:08.49266Z\", \"created_time\": \"2021-02-02T13:10:09.400198Z\", \"created_time_dt\": \"2021-02-02T13:10:09.400198Z\", \"duration\": \"0:00:59\", \"iteration\": \"11\", \"goal\": \"accuracy_max\", \"run_name\": \"MaxAbsScaler, RandomForest\", \"run_properties\": \"copy=True\", \"primary_metric\": 0.88037307, \"best_metric\": 0.90519059}, {\"run_id\": \"AutoML_ab681bdd-9a2e-4342-9e6e-3c96b9d2e191_12\", \"run_number\": 74, \"metric\": null, \"status\": \"Completed\", \"run_type\": \"azureml.scriptrun\", \"training_percent\": \"100\", \"start_time\": \"2021-02-02T13:10:26.10465Z\", \"end_time\": \"2021-02-02T13:11:21.026709Z\", \"created_time\": \"2021-02-02T13:10:13.574998Z\", \"created_time_dt\": \"2021-02-02T13:10:13.574998Z\", \"duration\": \"0:01:07\", \"iteration\": \"12\", \"goal\": \"accuracy_max\", \"run_name\": \"MaxAbsScaler, LogisticRegression\", \"run_properties\": \"copy=True\", \"primary_metric\": 0.88004866, \"best_metric\": 0.90519059}, {\"run_id\": \"AutoML_ab681bdd-9a2e-4342-9e6e-3c96b9d2e191_13\", \"run_number\": 75, \"metric\": null, \"status\": \"Completed\", \"run_type\": \"azureml.scriptrun\", \"training_percent\": \"100\", \"start_time\": \"2021-02-02T13:10:38.626869Z\", \"end_time\": \"2021-02-02T13:11:37.561349Z\", \"created_time\": \"2021-02-02T13:10:13.770964Z\", \"created_time_dt\": \"2021-02-02T13:10:13.770964Z\", \"duration\": \"0:01:23\", \"iteration\": \"13\", \"goal\": \"accuracy_max\", \"run_name\": \"MaxAbsScaler, LightGBM\", \"run_properties\": \"copy=True\", \"primary_metric\": 0.87250608, \"best_metric\": 0.90519059}, {\"run_id\": \"AutoML_ab681bdd-9a2e-4342-9e6e-3c96b9d2e191_14\", \"run_number\": 76, \"metric\": null, \"status\": \"Completed\", \"run_type\": \"azureml.scriptrun\", \"training_percent\": \"100\", \"start_time\": \"2021-02-02T13:11:08.482107Z\", \"end_time\": \"2021-02-02T13:12:17.866647Z\", \"created_time\": \"2021-02-02T13:10:42.24944Z\", \"created_time_dt\": \"2021-02-02T13:10:42.24944Z\", \"duration\": \"0:01:35\", \"iteration\": \"14\", \"goal\": \"accuracy_max\", \"run_name\": \"MaxAbsScaler, RandomForest\", \"run_properties\": \"copy=True\", \"primary_metric\": 0.88337388, \"best_metric\": 0.90519059}, {\"run_id\": \"AutoML_ab681bdd-9a2e-4342-9e6e-3c96b9d2e191_15\", \"run_number\": 77, \"metric\": null, \"status\": \"Completed\", \"run_type\": \"azureml.scriptrun\", \"training_percent\": \"100\", \"start_time\": \"2021-02-02T13:11:25.434029Z\", \"end_time\": \"2021-02-02T13:12:19.638961Z\", \"created_time\": \"2021-02-02T13:11:11.855471Z\", \"created_time_dt\": \"2021-02-02T13:11:11.855471Z\", \"duration\": \"0:01:07\", \"iteration\": \"15\", \"goal\": \"accuracy_max\", \"run_name\": \"SparseNormalizer, LightGBM\", \"run_properties\": \"<azureml.automl.runtime.shared.model_wrappers.SparseNormalizer object at 0x7f7cc86168d0\", \"primary_metric\": 0.90210868, \"best_metric\": 0.90519059}, {\"run_id\": \"AutoML_ab681bdd-9a2e-4342-9e6e-3c96b9d2e191_16\", \"run_number\": 78, \"metric\": null, \"status\": \"Completed\", \"run_type\": \"azureml.scriptrun\", \"training_percent\": \"100\", \"start_time\": \"2021-02-02T13:11:23.139694Z\", \"end_time\": \"2021-02-02T13:12:36.762718Z\", \"created_time\": \"2021-02-02T13:11:12.066738Z\", \"created_time_dt\": \"2021-02-02T13:11:12.066738Z\", \"duration\": \"0:01:24\", \"iteration\": \"16\", \"goal\": \"accuracy_max\", \"run_name\": \"MaxAbsScaler, ExtremeRandomTrees\", \"run_properties\": \"copy=True\", \"primary_metric\": 0.84525547, \"best_metric\": 0.90519059}, {\"run_id\": \"AutoML_ab681bdd-9a2e-4342-9e6e-3c96b9d2e191_17\", \"run_number\": 79, \"metric\": null, \"status\": \"Completed\", \"run_type\": \"azureml.scriptrun\", \"training_percent\": \"100\", \"start_time\": \"2021-02-02T13:11:38.980913Z\", \"end_time\": \"2021-02-02T13:12:30.707488Z\", \"created_time\": \"2021-02-02T13:11:25.086087Z\", \"created_time_dt\": \"2021-02-02T13:11:25.086087Z\", \"duration\": \"0:01:05\", \"iteration\": \"17\", \"goal\": \"accuracy_max\", \"run_name\": \"MaxAbsScaler, LightGBM\", \"run_properties\": \"copy=True\", \"primary_metric\": 0.862206, \"best_metric\": 0.90519059}, {\"run_id\": \"AutoML_ab681bdd-9a2e-4342-9e6e-3c96b9d2e191_18\", \"run_number\": 80, \"metric\": null, \"status\": \"Completed\", \"run_type\": \"azureml.scriptrun\", \"training_percent\": \"100\", \"start_time\": \"2021-02-02T13:12:21.320362Z\", \"end_time\": \"2021-02-02T13:13:12.843914Z\", \"created_time\": \"2021-02-02T13:11:40.778571Z\", \"created_time_dt\": \"2021-02-02T13:11:40.778571Z\", \"duration\": \"0:01:32\", \"iteration\": \"18\", \"goal\": \"accuracy_max\", \"run_name\": \"MaxAbsScaler, LightGBM\", \"run_properties\": \"copy=True\", \"primary_metric\": 0.88475264, \"best_metric\": 0.90519059}, {\"run_id\": \"AutoML_ab681bdd-9a2e-4342-9e6e-3c96b9d2e191_19\", \"run_number\": 81, \"metric\": null, \"status\": \"Completed\", \"run_type\": \"azureml.scriptrun\", \"training_percent\": \"100\", \"start_time\": \"2021-02-02T13:12:35.126056Z\", \"end_time\": \"2021-02-02T13:13:33.109613Z\", \"created_time\": \"2021-02-02T13:12:21.079642Z\", \"created_time_dt\": \"2021-02-02T13:12:21.079642Z\", \"duration\": \"0:01:12\", \"iteration\": \"19\", \"goal\": \"accuracy_max\", \"run_name\": \"StandardScalerWrapper, RandomForest\", \"run_properties\": \"<azureml.automl.runtime.shared.model_wrappers.StandardScalerWrapper object at 0x7fbacfc4f2b0\", \"primary_metric\": 0.84525547, \"best_metric\": 0.90519059}, {\"run_id\": \"AutoML_ab681bdd-9a2e-4342-9e6e-3c96b9d2e191_20\", \"run_number\": 82, \"metric\": null, \"status\": \"Completed\", \"run_type\": \"azureml.scriptrun\", \"training_percent\": \"100\", \"start_time\": \"2021-02-02T13:12:40.870655Z\", \"end_time\": \"2021-02-02T13:13:41.330464Z\", \"created_time\": \"2021-02-02T13:12:28.258586Z\", \"created_time_dt\": \"2021-02-02T13:12:28.258586Z\", \"duration\": \"0:01:13\", \"iteration\": \"20\", \"goal\": \"accuracy_max\", \"run_name\": \"MaxAbsScaler, ExtremeRandomTrees\", \"run_properties\": \"copy=True\", \"primary_metric\": 0.84525547, \"best_metric\": 0.90519059}, {\"run_id\": \"AutoML_ab681bdd-9a2e-4342-9e6e-3c96b9d2e191_21\", \"run_number\": 83, \"metric\": null, \"status\": \"Completed\", \"run_type\": \"azureml.scriptrun\", \"training_percent\": \"100\", \"start_time\": \"2021-02-02T13:12:47.025346Z\", \"end_time\": \"2021-02-02T13:13:44.179344Z\", \"created_time\": \"2021-02-02T13:12:35.383207Z\", \"created_time_dt\": \"2021-02-02T13:12:35.383207Z\", \"duration\": \"0:01:08\", \"iteration\": \"21\", \"goal\": \"accuracy_max\", \"run_name\": \"SparseNormalizer, XGBoostClassifier\", \"run_properties\": \"<azureml.automl.runtime.shared.model_wrappers.SparseNormalizer object at 0x7f7532b78320\", \"primary_metric\": 0.90194647, \"best_metric\": 0.90519059}, {\"run_id\": \"AutoML_ab681bdd-9a2e-4342-9e6e-3c96b9d2e191_22\", \"run_number\": 84, \"metric\": null, \"status\": \"Completed\", \"run_type\": \"azureml.scriptrun\", \"training_percent\": \"100\", \"start_time\": \"2021-02-02T13:13:18.597107Z\", \"end_time\": \"2021-02-02T13:14:11.966372Z\", \"created_time\": \"2021-02-02T13:12:40.1841Z\", \"created_time_dt\": \"2021-02-02T13:12:40.1841Z\", \"duration\": \"0:01:31\", \"iteration\": \"22\", \"goal\": \"accuracy_max\", \"run_name\": \"MaxAbsScaler, LogisticRegression\", \"run_properties\": \"copy=True\", \"primary_metric\": 0.88361719, \"best_metric\": 0.90519059}, {\"run_id\": \"AutoML_ab681bdd-9a2e-4342-9e6e-3c96b9d2e191_23\", \"run_number\": 85, \"metric\": null, \"status\": \"Completed\", \"run_type\": \"azureml.scriptrun\", \"training_percent\": \"100\", \"start_time\": \"2021-02-02T13:13:33.743222Z\", \"end_time\": \"2021-02-02T13:14:30.744139Z\", \"created_time\": \"2021-02-02T13:13:15.718899Z\", \"created_time_dt\": \"2021-02-02T13:13:15.718899Z\", \"duration\": \"0:01:15\", \"iteration\": \"23\", \"goal\": \"accuracy_max\", \"run_name\": \"MaxAbsScaler, LogisticRegression\", \"run_properties\": \"copy=True\", \"primary_metric\": 0.88410381, \"best_metric\": 0.90519059}, {\"run_id\": \"AutoML_ab681bdd-9a2e-4342-9e6e-3c96b9d2e191_24\", \"run_number\": 86, \"metric\": null, \"status\": \"Completed\", \"run_type\": \"azureml.scriptrun\", \"training_percent\": \"100\", \"start_time\": \"2021-02-02T13:13:48.161213Z\", \"end_time\": \"2021-02-02T13:14:35.015083Z\", \"created_time\": \"2021-02-02T13:13:35.381305Z\", \"created_time_dt\": \"2021-02-02T13:13:35.381305Z\", \"duration\": \"0:00:59\", \"iteration\": \"24\", \"goal\": \"accuracy_max\", \"run_name\": \"MaxAbsScaler, LogisticRegression\", \"run_properties\": \"copy=True\", \"primary_metric\": 0.88248175, \"best_metric\": 0.90519059}, {\"run_id\": \"AutoML_ab681bdd-9a2e-4342-9e6e-3c96b9d2e191_25\", \"run_number\": 87, \"metric\": null, \"status\": \"Completed\", \"run_type\": \"azureml.scriptrun\", \"training_percent\": \"100\", \"start_time\": \"2021-02-02T13:13:55.472594Z\", \"end_time\": \"2021-02-02T13:14:40.240581Z\", \"created_time\": \"2021-02-02T13:13:44.68516Z\", \"created_time_dt\": \"2021-02-02T13:13:44.68516Z\", \"duration\": \"0:00:55\", \"iteration\": \"25\", \"goal\": \"accuracy_max\", \"run_name\": \"SparseNormalizer, XGBoostClassifier\", \"run_properties\": \"<azureml.automl.runtime.shared.model_wrappers.SparseNormalizer object at 0x7f8b04aac438\", \"primary_metric\": 0.84525547, \"best_metric\": 0.90519059}, {\"run_id\": \"AutoML_ab681bdd-9a2e-4342-9e6e-3c96b9d2e191_26\", \"run_number\": 88, \"metric\": null, \"status\": \"Completed\", \"run_type\": \"azureml.scriptrun\", \"training_percent\": \"100\", \"start_time\": \"2021-02-02T13:14:17.038503Z\", \"end_time\": \"2021-02-02T13:15:11.042396Z\", \"created_time\": \"2021-02-02T13:13:48.919323Z\", \"created_time_dt\": \"2021-02-02T13:13:48.919323Z\", \"duration\": \"0:01:22\", \"iteration\": \"26\", \"goal\": \"accuracy_max\", \"run_name\": \"MaxAbsScaler, LightGBM\", \"run_properties\": \"copy=True\", \"primary_metric\": 0.88523925, \"best_metric\": 0.90519059}, {\"run_id\": \"AutoML_ab681bdd-9a2e-4342-9e6e-3c96b9d2e191_27\", \"run_number\": 89, \"metric\": null, \"status\": \"Completed\", \"run_type\": \"azureml.scriptrun\", \"training_percent\": \"100\", \"start_time\": \"2021-02-02T13:14:31.55472Z\", \"end_time\": \"2021-02-02T13:15:22.210231Z\", \"created_time\": \"2021-02-02T13:14:14.521424Z\", \"created_time_dt\": \"2021-02-02T13:14:14.521424Z\", \"duration\": \"0:01:07\", \"iteration\": \"27\", \"goal\": \"accuracy_max\", \"run_name\": \"SparseNormalizer, LightGBM\", \"run_properties\": \"<azureml.automl.runtime.shared.model_wrappers.SparseNormalizer object at 0x7f848aea6080\", \"primary_metric\": 0.85312247, \"best_metric\": 0.90519059}, {\"run_id\": \"AutoML_ab681bdd-9a2e-4342-9e6e-3c96b9d2e191_28\", \"run_number\": 90, \"metric\": null, \"status\": \"Completed\", \"run_type\": \"azureml.scriptrun\", \"training_percent\": \"100\", \"start_time\": \"2021-02-02T13:14:56.78209Z\", \"end_time\": \"2021-02-02T13:15:51.817452Z\", \"created_time\": \"2021-02-02T13:14:43.442831Z\", \"created_time_dt\": \"2021-02-02T13:14:43.442831Z\", \"duration\": \"0:01:08\", \"iteration\": \"28\", \"goal\": \"accuracy_max\", \"run_name\": \"MaxAbsScaler, LightGBM\", \"run_properties\": \"copy=True\", \"primary_metric\": 0.90332522, \"best_metric\": 0.90519059}, {\"run_id\": \"AutoML_ab681bdd-9a2e-4342-9e6e-3c96b9d2e191_29\", \"run_number\": 91, \"metric\": null, \"status\": \"Completed\", \"run_type\": \"azureml.scriptrun\", \"training_percent\": \"100\", \"start_time\": \"2021-02-02T13:14:59.809883Z\", \"end_time\": \"2021-02-02T13:15:52.104435Z\", \"created_time\": \"2021-02-02T13:14:49.454192Z\", \"created_time_dt\": \"2021-02-02T13:14:49.454192Z\", \"duration\": \"0:01:02\", \"iteration\": \"29\", \"goal\": \"accuracy_max\", \"run_name\": \"SparseNormalizer, XGBoostClassifier\", \"run_properties\": \"<azureml.automl.runtime.shared.model_wrappers.SparseNormalizer object at 0x7f9c101a3b70\", \"primary_metric\": 0.90210868, \"best_metric\": 0.90519059}, {\"run_id\": \"AutoML_ab681bdd-9a2e-4342-9e6e-3c96b9d2e191_30\", \"run_number\": 92, \"metric\": null, \"status\": \"Completed\", \"run_type\": \"azureml.scriptrun\", \"training_percent\": \"100\", \"start_time\": \"2021-02-02T13:15:17.574538Z\", \"end_time\": \"2021-02-02T13:16:08.415291Z\", \"created_time\": \"2021-02-02T13:14:49.746168Z\", \"created_time_dt\": \"2021-02-02T13:14:49.746168Z\", \"duration\": \"0:01:18\", \"iteration\": \"30\", \"goal\": \"accuracy_max\", \"run_name\": \"SparseNormalizer, LightGBM\", \"run_properties\": \"<azureml.automl.runtime.shared.model_wrappers.SparseNormalizer object at 0x7fe521290e10\", \"primary_metric\": 0.90170316, \"best_metric\": 0.90519059}, {\"run_id\": \"AutoML_ab681bdd-9a2e-4342-9e6e-3c96b9d2e191_31\", \"run_number\": 93, \"metric\": null, \"status\": \"Completed\", \"run_type\": \"azureml.scriptrun\", \"training_percent\": \"100\", \"start_time\": \"2021-02-02T13:15:27.945474Z\", \"end_time\": \"2021-02-02T13:16:20.392797Z\", \"created_time\": \"2021-02-02T13:15:13.843163Z\", \"created_time_dt\": \"2021-02-02T13:15:13.843163Z\", \"duration\": \"0:01:06\", \"iteration\": \"31\", \"goal\": \"accuracy_max\", \"run_name\": \"StandardScalerWrapper, XGBoostClassifier\", \"run_properties\": \"<azureml.automl.runtime.shared.model_wrappers.StandardScalerWrapper object at 0x7f6c373383c8\", \"primary_metric\": 0.90137875, \"best_metric\": 0.90519059}, {\"run_id\": \"AutoML_ab681bdd-9a2e-4342-9e6e-3c96b9d2e191_32\", \"run_number\": 94, \"metric\": null, \"status\": \"Completed\", \"run_type\": \"azureml.scriptrun\", \"training_percent\": \"100\", \"start_time\": \"2021-02-02T13:15:55.622242Z\", \"end_time\": \"2021-02-02T13:16:55.138509Z\", \"created_time\": \"2021-02-02T13:15:24.880863Z\", \"created_time_dt\": \"2021-02-02T13:15:24.880863Z\", \"duration\": \"0:01:30\", \"iteration\": \"32\", \"goal\": \"accuracy_max\", \"run_name\": \"SparseNormalizer, LightGBM\", \"run_properties\": \"<azureml.automl.runtime.shared.model_wrappers.SparseNormalizer object at 0x7fedec491080\", \"primary_metric\": 0.90178427, \"best_metric\": 0.90519059}, {\"run_id\": \"AutoML_ab681bdd-9a2e-4342-9e6e-3c96b9d2e191_33\", \"run_number\": 95, \"metric\": null, \"status\": \"Completed\", \"run_type\": \"azureml.scriptrun\", \"training_percent\": \"100\", \"start_time\": \"2021-02-02T13:16:12.642419Z\", \"end_time\": \"2021-02-02T13:17:07.63358Z\", \"created_time\": \"2021-02-02T13:15:54.233975Z\", \"created_time_dt\": \"2021-02-02T13:15:54.233975Z\", \"duration\": \"0:01:13\", \"iteration\": \"33\", \"goal\": \"accuracy_max\", \"run_name\": \"StandardScalerWrapper, XGBoostClassifier\", \"run_properties\": \"<azureml.automl.runtime.shared.model_wrappers.StandardScalerWrapper object at 0x7f92608b69b0\", \"primary_metric\": 0.90194647, \"best_metric\": 0.90519059}, {\"run_id\": \"AutoML_ab681bdd-9a2e-4342-9e6e-3c96b9d2e191_34\", \"run_number\": 96, \"metric\": null, \"status\": \"Canceled\", \"run_type\": \"azureml.scriptrun\", \"training_percent\": \"100\", \"start_time\": \"2021-02-02T13:16:05.867805Z\", \"end_time\": \"2021-02-02T13:17:16.813264Z\", \"created_time\": \"2021-02-02T13:15:54.396457Z\", \"created_time_dt\": \"2021-02-02T13:15:54.396457Z\", \"duration\": \"0:01:22\", \"iteration\": \"34\", \"goal\": \"accuracy_max\", \"run_name\": \"SparseNormalizer, XGBoostClassifier\", \"run_properties\": \"<azureml.automl.runtime.shared.model_wrappers.SparseNormalizer object at 0x7faadb1d4f28\", \"primary_metric\": 0.89748581, \"best_metric\": 0.90519059}, {\"run_id\": \"AutoML_ab681bdd-9a2e-4342-9e6e-3c96b9d2e191_35\", \"run_number\": 97, \"metric\": null, \"status\": \"Canceled\", \"run_type\": \"azureml.scriptrun\", \"training_percent\": \"100\", \"start_time\": \"2021-02-02T13:16:24.236691Z\", \"end_time\": \"2021-02-02T13:17:17.354153Z\", \"created_time\": \"2021-02-02T13:16:11.786125Z\", \"created_time_dt\": \"2021-02-02T13:16:11.786125Z\", \"duration\": \"0:01:05\", \"iteration\": \"35\", \"goal\": null, \"run_name\": \"SparseNormalizer, XGBoostClassifier\", \"run_properties\": null}, {\"run_id\": \"AutoML_ab681bdd-9a2e-4342-9e6e-3c96b9d2e191_36\", \"run_number\": 98, \"metric\": null, \"status\": \"Canceled\", \"run_type\": \"azureml.scriptrun\", \"training_percent\": \"100\", \"start_time\": \"2021-02-02T13:17:02.87422Z\", \"end_time\": \"2021-02-02T13:17:15.94112Z\", \"created_time\": \"2021-02-02T13:16:22.715934Z\", \"created_time_dt\": \"2021-02-02T13:16:22.715934Z\", \"duration\": \"0:00:53\", \"iteration\": \"36\", \"goal\": null, \"run_name\": \"Canceled\", \"run_properties\": null}, {\"run_id\": \"AutoML_ab681bdd-9a2e-4342-9e6e-3c96b9d2e191_37\", \"run_number\": 99, \"metric\": null, \"status\": \"Canceled\", \"run_type\": \"azureml.scriptrun\", \"training_percent\": \"100\", \"start_time\": \"2021-02-02T13:16:57.877248Z\", \"end_time\": \"2021-02-02T13:17:16.143398Z\", \"created_time\": \"2021-02-02T13:16:57.877248Z\", \"created_time_dt\": \"2021-02-02T13:16:57.877248Z\", \"duration\": \"0:00:18\", \"iteration\": \"37\", \"goal\": null, \"run_name\": \"Canceled\", \"run_properties\": null}, {\"run_id\": \"AutoML_ab681bdd-9a2e-4342-9e6e-3c96b9d2e191_38\", \"run_number\": 100, \"metric\": null, \"status\": \"Completed\", \"run_type\": \"azureml.scriptrun\", \"training_percent\": \"100\", \"start_time\": \"2021-02-02T13:17:30.29911Z\", \"end_time\": \"2021-02-02T13:18:53.682075Z\", \"created_time\": \"2021-02-02T13:17:19.305023Z\", \"created_time_dt\": \"2021-02-02T13:17:19.305023Z\", \"duration\": \"0:01:34\", \"iteration\": \"38\", \"goal\": \"accuracy_max\", \"run_name\": \"VotingEnsemble\", \"run_properties\": \"classification_labels=None,\\n                              estimators=[('1',\\n                                           Pipeline(memory=None,\\n                                                    steps=[('maxabsscaler',\\n                                                            MaxAbsScaler(copy=True\", \"primary_metric\": 0.90738037, \"best_metric\": 0.90738037}], \"children_metrics\": {\"categories\": [0], \"series\": {\"log_loss\": [{\"categories\": [\"0\", \"1\", \"2\", \"3\", \"4\", \"5\", \"6\", \"7\", \"8\", \"9\", \"10\", \"11\", \"12\", \"13\", \"14\", \"15\", \"16\", \"17\", \"18\", \"19\", \"20\", \"21\", \"22\", \"23\", \"24\", \"25\", \"26\", \"27\", \"28\", \"29\", \"30\", \"31\", \"32\", \"33\", \"34\", \"38\"], \"mode\": \"markers\", \"name\": \"log_loss\", \"stepped\": false, \"type\": \"scatter\", \"data\": [0.23210554876318376, 0.2255707563493307, 0.3034330122364912, 0.3335752932689679, 0.4739801283078536, 0.49873689281018013, 0.26025569735198967, 0.22763136880229715, 0.24873698608252984, 0.25455929717697406, 0.3735173928350288, 0.25633526174733706, 0.2957082243161805, 0.2827357821279411, 0.2595556895215758, 0.24029753954954658, 0.3450347340223982, 0.29306739176465846, 0.2748169348398384, 0.34222733884690415, 0.361393839846978, 0.23012249028060383, 0.29364100138413857, 0.2945162626247971, 0.2936506788672369, 0.4310204894369656, 0.2761796394058677, 0.3019276107737805, 0.23340052878874282, 0.24995115599969142, 0.23895737975679462, 0.3526076925755383, 0.22449095760312696, 0.23100973960881346, 0.25454772803524617, 0.25610546516075167]}, {\"categories\": [\"0\", \"1\", \"2\", \"3\", \"4\", \"5\", \"6\", \"7\", \"8\", \"9\", \"10\", \"11\", \"12\", \"13\", \"14\", \"15\", \"16\", \"17\", \"18\", \"19\", \"20\", \"21\", \"22\", \"23\", \"24\", \"25\", \"26\", \"27\", \"28\", \"29\", \"30\", \"31\", \"32\", \"33\", \"34\", \"38\"], \"mode\": \"lines\", \"name\": \"log_loss_min\", \"stepped\": true, \"type\": \"scatter\", \"data\": [0.23210554876318376, 0.2255707563493307, 0.2255707563493307, 0.2255707563493307, 0.2255707563493307, 0.2255707563493307, 0.2255707563493307, 0.2255707563493307, 0.2255707563493307, 0.2255707563493307, 0.2255707563493307, 0.2255707563493307, 0.2255707563493307, 0.2255707563493307, 0.2255707563493307, 0.2255707563493307, 0.2255707563493307, 0.2255707563493307, 0.2255707563493307, 0.2255707563493307, 0.2255707563493307, 0.2255707563493307, 0.2255707563493307, 0.2255707563493307, 0.2255707563493307, 0.2255707563493307, 0.2255707563493307, 0.2255707563493307, 0.2255707563493307, 0.2255707563493307, 0.2255707563493307, 0.2255707563493307, 0.22449095760312696, 0.22449095760312696, 0.22449095760312696, 0.22449095760312696]}], \"accuracy\": [{\"categories\": [\"0\", \"1\", \"2\", \"3\", \"4\", \"5\", \"6\", \"7\", \"8\", \"9\", \"10\", \"11\", \"12\", \"13\", \"14\", \"15\", \"16\", \"17\", \"18\", \"19\", \"20\", \"21\", \"22\", \"23\", \"24\", \"25\", \"26\", \"27\", \"28\", \"29\", \"30\", \"31\", \"32\", \"33\", \"34\", \"38\"], \"mode\": \"markers\", \"name\": \"accuracy\", \"stepped\": false, \"type\": \"scatter\", \"data\": [0.9001622060016222, 0.9051905920519059, 0.8486618004866181, 0.8452554744525548, 0.8236009732360098, 0.8347120843471209, 0.8981346309813464, 0.9022708840227089, 0.8980535279805353, 0.8931062449310625, 0.8874290348742905, 0.8803730738037308, 0.8800486618004867, 0.8725060827250609, 0.8833738848337388, 0.9021086780210869, 0.8452554744525548, 0.86220600162206, 0.8847526358475264, 0.8452554744525548, 0.8452554744525548, 0.9019464720194647, 0.8836171938361718, 0.8841038118410381, 0.8824817518248175, 0.8452554744525548, 0.8852392538523924, 0.8531224655312246, 0.9033252230332524, 0.9021086780210869, 0.9017031630170317, 0.9013787510137875, 0.9017842660178426, 0.9019464720194647, 0.897485806974858, 0.9073803730738037]}, {\"categories\": [\"0\", \"1\", \"2\", \"3\", \"4\", \"5\", \"6\", \"7\", \"8\", \"9\", \"10\", \"11\", \"12\", \"13\", \"14\", \"15\", \"16\", \"17\", \"18\", \"19\", \"20\", \"21\", \"22\", \"23\", \"24\", \"25\", \"26\", \"27\", \"28\", \"29\", \"30\", \"31\", \"32\", \"33\", \"34\", \"38\"], \"mode\": \"lines\", \"name\": \"accuracy_max\", \"stepped\": true, \"type\": \"scatter\", \"data\": [0.9001622060016222, 0.9051905920519059, 0.9051905920519059, 0.9051905920519059, 0.9051905920519059, 0.9051905920519059, 0.9051905920519059, 0.9051905920519059, 0.9051905920519059, 0.9051905920519059, 0.9051905920519059, 0.9051905920519059, 0.9051905920519059, 0.9051905920519059, 0.9051905920519059, 0.9051905920519059, 0.9051905920519059, 0.9051905920519059, 0.9051905920519059, 0.9051905920519059, 0.9051905920519059, 0.9051905920519059, 0.9051905920519059, 0.9051905920519059, 0.9051905920519059, 0.9051905920519059, 0.9051905920519059, 0.9051905920519059, 0.9051905920519059, 0.9051905920519059, 0.9051905920519059, 0.9051905920519059, 0.9051905920519059, 0.9051905920519059, 0.9051905920519059, 0.9073803730738037]}], \"recall_score_macro\": [{\"categories\": [\"0\", \"1\", \"2\", \"3\", \"4\", \"5\", \"6\", \"7\", \"8\", \"9\", \"10\", \"11\", \"12\", \"13\", \"14\", \"15\", \"16\", \"17\", \"18\", \"19\", \"20\", \"21\", \"22\", \"23\", \"24\", \"25\", \"26\", \"27\", \"28\", \"29\", \"30\", \"31\", \"32\", \"33\", \"34\", \"38\"], \"mode\": \"markers\", \"name\": \"recall_score_macro\", \"stepped\": false, \"type\": \"scatter\", \"data\": [0.77692834505401, 0.782398650768284, 0.5116581206270715, 0.5, 0.8261560591052479, 0.8249047867289105, 0.7758310463040807, 0.7735058518882112, 0.7648717742864509, 0.715971623092457, 0.6790751343924631, 0.8355000346722615, 0.6551205362463807, 0.6034904827610199, 0.7947180039139653, 0.7800876151443928, 0.5, 0.5625864951484553, 0.6522600480868823, 0.5, 0.5, 0.7740391204913758, 0.676092668159519, 0.6791660036860881, 0.6709530255584744, 0.5, 0.6501471408388285, 0.5268550428529911, 0.7872401455146353, 0.7664643392407573, 0.7764927007165339, 0.7617864632300463, 0.7762614949453212, 0.7804313783681461, 0.7712081218392367, 0.7818369246603626]}, {\"categories\": [\"0\", \"1\", \"2\", \"3\", \"4\", \"5\", \"6\", \"7\", \"8\", \"9\", \"10\", \"11\", \"12\", \"13\", \"14\", \"15\", \"16\", \"17\", \"18\", \"19\", \"20\", \"21\", \"22\", \"23\", \"24\", \"25\", \"26\", \"27\", \"28\", \"29\", \"30\", \"31\", \"32\", \"33\", \"34\", \"38\"], \"mode\": \"lines\", \"name\": \"recall_score_macro_max\", \"stepped\": true, \"type\": \"scatter\", \"data\": [0.77692834505401, 0.782398650768284, 0.782398650768284, 0.782398650768284, 0.8261560591052479, 0.8261560591052479, 0.8261560591052479, 0.8261560591052479, 0.8261560591052479, 0.8261560591052479, 0.8261560591052479, 0.8355000346722615, 0.8355000346722615, 0.8355000346722615, 0.8355000346722615, 0.8355000346722615, 0.8355000346722615, 0.8355000346722615, 0.8355000346722615, 0.8355000346722615, 0.8355000346722615, 0.8355000346722615, 0.8355000346722615, 0.8355000346722615, 0.8355000346722615, 0.8355000346722615, 0.8355000346722615, 0.8355000346722615, 0.8355000346722615, 0.8355000346722615, 0.8355000346722615, 0.8355000346722615, 0.8355000346722615, 0.8355000346722615, 0.8355000346722615, 0.8355000346722615]}], \"norm_macro_recall\": [{\"categories\": [\"0\", \"1\", \"2\", \"3\", \"4\", \"5\", \"6\", \"7\", \"8\", \"9\", \"10\", \"11\", \"12\", \"13\", \"14\", \"15\", \"16\", \"17\", \"18\", \"19\", \"20\", \"21\", \"22\", \"23\", \"24\", \"25\", \"26\", \"27\", \"28\", \"29\", \"30\", \"31\", \"32\", \"33\", \"34\", \"38\"], \"mode\": \"markers\", \"name\": \"norm_macro_recall\", \"stepped\": false, \"type\": \"scatter\", \"data\": [0.5538566901080199, 0.5647973015365682, 0.02331624125414285, 0.0, 0.6523121182104957, 0.6498095734578212, 0.5516620926081616, 0.5470117037764224, 0.5297435485729018, 0.43194324618491403, 0.35815026878492656, 0.6710000693445229, 0.31024107249276134, 0.20698096552203982, 0.5894360078279307, 0.5601752302887857, 0.0, 0.12517299029691076, 0.30452009617376463, 0.0, 0.0, 0.5480782409827517, 0.3521853363190379, 0.35833200737217635, 0.3419060511169487, 0.0, 0.3002942816776572, 0.05371008570598238, 0.5744802910292708, 0.5329286784815147, 0.5529854014330678, 0.5235729264600926, 0.5525229898906424, 0.560862756736292, 0.5424162436784736, 0.5636738493207251]}, {\"categories\": [\"0\", \"1\", \"2\", \"3\", \"4\", \"5\", \"6\", \"7\", \"8\", \"9\", \"10\", \"11\", \"12\", \"13\", \"14\", \"15\", \"16\", \"17\", \"18\", \"19\", \"20\", \"21\", \"22\", \"23\", \"24\", \"25\", \"26\", \"27\", \"28\", \"29\", \"30\", \"31\", \"32\", \"33\", \"34\", \"38\"], \"mode\": \"lines\", \"name\": \"norm_macro_recall_max\", \"stepped\": true, \"type\": \"scatter\", \"data\": [0.5538566901080199, 0.5647973015365682, 0.5647973015365682, 0.5647973015365682, 0.6523121182104957, 0.6523121182104957, 0.6523121182104957, 0.6523121182104957, 0.6523121182104957, 0.6523121182104957, 0.6523121182104957, 0.6710000693445229, 0.6710000693445229, 0.6710000693445229, 0.6710000693445229, 0.6710000693445229, 0.6710000693445229, 0.6710000693445229, 0.6710000693445229, 0.6710000693445229, 0.6710000693445229, 0.6710000693445229, 0.6710000693445229, 0.6710000693445229, 0.6710000693445229, 0.6710000693445229, 0.6710000693445229, 0.6710000693445229, 0.6710000693445229, 0.6710000693445229, 0.6710000693445229, 0.6710000693445229, 0.6710000693445229, 0.6710000693445229, 0.6710000693445229, 0.6710000693445229]}], \"AUC_weighted\": [{\"categories\": [\"0\", \"1\", \"2\", \"3\", \"4\", \"5\", \"6\", \"7\", \"8\", \"9\", \"10\", \"11\", \"12\", \"13\", \"14\", \"15\", \"16\", \"17\", \"18\", \"19\", \"20\", \"21\", \"22\", \"23\", \"24\", \"25\", \"26\", \"27\", \"28\", \"29\", \"30\", \"31\", \"32\", \"33\", \"34\", \"38\"], \"mode\": \"markers\", \"name\": \"AUC_weighted\", \"stepped\": false, \"type\": \"scatter\", \"data\": [0.9302080032593238, 0.9335745716329092, 0.9032804347133027, 0.8611137701318811, 0.8958317187100322, 0.8818992085987585, 0.9214645676566429, 0.9319552555007157, 0.9273703065696335, 0.9259386767684393, 0.9076894868869525, 0.9077876041741373, 0.8844738331058682, 0.9140317665379687, 0.9104745793808119, 0.9242013991896222, 0.8663261417168399, 0.9121141626124462, 0.9169673013080549, 0.8901063999990754, 0.8368462505697974, 0.9307448460726796, 0.8906286095295627, 0.8907764397858143, 0.8890300180971851, 0.5, 0.9163586600625439, 0.9118621130995409, 0.9272436527746047, 0.9293297960819314, 0.9226557273624777, 0.9258070605891829, 0.933633284195302, 0.9324918593298855, 0.9252466332723966, 0.9334879129007229]}, {\"categories\": [\"0\", \"1\", \"2\", \"3\", \"4\", \"5\", \"6\", \"7\", \"8\", \"9\", \"10\", \"11\", \"12\", \"13\", \"14\", \"15\", \"16\", \"17\", \"18\", \"19\", \"20\", \"21\", \"22\", \"23\", \"24\", \"25\", \"26\", \"27\", \"28\", \"29\", \"30\", \"31\", \"32\", \"33\", \"34\", \"38\"], \"mode\": \"lines\", \"name\": \"AUC_weighted_max\", \"stepped\": true, \"type\": \"scatter\", \"data\": [0.9302080032593238, 0.9335745716329092, 0.9335745716329092, 0.9335745716329092, 0.9335745716329092, 0.9335745716329092, 0.9335745716329092, 0.9335745716329092, 0.9335745716329092, 0.9335745716329092, 0.9335745716329092, 0.9335745716329092, 0.9335745716329092, 0.9335745716329092, 0.9335745716329092, 0.9335745716329092, 0.9335745716329092, 0.9335745716329092, 0.9335745716329092, 0.9335745716329092, 0.9335745716329092, 0.9335745716329092, 0.9335745716329092, 0.9335745716329092, 0.9335745716329092, 0.9335745716329092, 0.9335745716329092, 0.9335745716329092, 0.9335745716329092, 0.9335745716329092, 0.9335745716329092, 0.9335745716329092, 0.933633284195302, 0.933633284195302, 0.933633284195302, 0.933633284195302]}], \"precision_score_weighted\": [{\"categories\": [\"0\", \"1\", \"2\", \"3\", \"4\", \"5\", \"6\", \"7\", \"8\", \"9\", \"10\", \"11\", \"12\", \"13\", \"14\", \"15\", \"16\", \"17\", \"18\", \"19\", \"20\", \"21\", \"22\", \"23\", \"24\", \"25\", \"26\", \"27\", \"28\", \"29\", \"30\", \"31\", \"32\", \"33\", \"34\", \"38\"], \"mode\": \"markers\", \"name\": \"precision_score_weighted\", \"stepped\": false, \"type\": \"scatter\", \"data\": [0.8947856717432913, 0.8997486911160756, 0.8675196678329263, 0.7144901265483075, 0.885981737641922, 0.8869384478797806, 0.8929252259308521, 0.8961848627930257, 0.8915132703742481, 0.884588047499574, 0.8792316211707849, 0.8982227209633704, 0.8688423047565833, 0.8699079717629252, 0.8876759500420855, 0.896850058753445, 0.7144901265483075, 0.8625221686037704, 0.8801822342629805, 0.7144901265483075, 0.7144901265483075, 0.8959730736684232, 0.8722408577980362, 0.8727217692252448, 0.8708906539250102, 0.7144901265483075, 0.8827519913314429, 0.8666276123355514, 0.8986877722534284, 0.8954829724363905, 0.8960161851692572, 0.8943992546487536, 0.8960833552960227, 0.8967387022962693, 0.8917790935727572, 0.9017601723422036]}, {\"categories\": [\"0\", \"1\", \"2\", \"3\", \"4\", \"5\", \"6\", \"7\", \"8\", \"9\", \"10\", \"11\", \"12\", \"13\", \"14\", \"15\", \"16\", \"17\", \"18\", \"19\", \"20\", \"21\", \"22\", \"23\", \"24\", \"25\", \"26\", \"27\", \"28\", \"29\", \"30\", \"31\", \"32\", \"33\", \"34\", \"38\"], \"mode\": \"lines\", \"name\": \"precision_score_weighted_max\", \"stepped\": true, \"type\": \"scatter\", \"data\": [0.8947856717432913, 0.8997486911160756, 0.8997486911160756, 0.8997486911160756, 0.8997486911160756, 0.8997486911160756, 0.8997486911160756, 0.8997486911160756, 0.8997486911160756, 0.8997486911160756, 0.8997486911160756, 0.8997486911160756, 0.8997486911160756, 0.8997486911160756, 0.8997486911160756, 0.8997486911160756, 0.8997486911160756, 0.8997486911160756, 0.8997486911160756, 0.8997486911160756, 0.8997486911160756, 0.8997486911160756, 0.8997486911160756, 0.8997486911160756, 0.8997486911160756, 0.8997486911160756, 0.8997486911160756, 0.8997486911160756, 0.8997486911160756, 0.8997486911160756, 0.8997486911160756, 0.8997486911160756, 0.8997486911160756, 0.8997486911160756, 0.8997486911160756, 0.9017601723422036]}], \"f1_score_macro\": [{\"categories\": [\"0\", \"1\", \"2\", \"3\", \"4\", \"5\", \"6\", \"7\", \"8\", \"9\", \"10\", \"11\", \"12\", \"13\", \"14\", \"15\", \"16\", \"17\", \"18\", \"19\", \"20\", \"21\", \"22\", \"23\", \"24\", \"25\", \"26\", \"27\", \"28\", \"29\", \"30\", \"31\", \"32\", \"33\", \"34\", \"38\"], \"mode\": \"markers\", \"name\": \"f1_score_macro\", \"stepped\": false, \"type\": \"scatter\", \"data\": [0.7958091515195553, 0.8043225633710266, 0.48166511821822405, 0.45806432077149334, 0.7400685670883664, 0.7507187509608505, 0.7929893379154306, 0.7967616176213236, 0.7877474160035529, 0.7529070386149179, 0.7206867933190768, 0.7965971742514064, 0.695882649621027, 0.6356097617508213, 0.784547119845613, 0.7996462965399896, 0.45806432077149334, 0.5713394257574725, 0.6971617646379297, 0.45806432077149334, 0.45806432077149334, 0.7966862767276476, 0.7169089827311242, 0.719798257160715, 0.7117598031886182, 0.45806432077149334, 0.6949378922532284, 0.5107097678354166, 0.8041272061993835, 0.7932975872291284, 0.7975947169782728, 0.7900823712906025, 0.797604918144896, 0.7995603845624449, 0.789991032416559, 0.8067900163105252]}, {\"categories\": [\"0\", \"1\", \"2\", \"3\", \"4\", \"5\", \"6\", \"7\", \"8\", \"9\", \"10\", \"11\", \"12\", \"13\", \"14\", \"15\", \"16\", \"17\", \"18\", \"19\", \"20\", \"21\", \"22\", \"23\", \"24\", \"25\", \"26\", \"27\", \"28\", \"29\", \"30\", \"31\", \"32\", \"33\", \"34\", \"38\"], \"mode\": \"lines\", \"name\": \"f1_score_macro_max\", \"stepped\": true, \"type\": \"scatter\", \"data\": [0.7958091515195553, 0.8043225633710266, 0.8043225633710266, 0.8043225633710266, 0.8043225633710266, 0.8043225633710266, 0.8043225633710266, 0.8043225633710266, 0.8043225633710266, 0.8043225633710266, 0.8043225633710266, 0.8043225633710266, 0.8043225633710266, 0.8043225633710266, 0.8043225633710266, 0.8043225633710266, 0.8043225633710266, 0.8043225633710266, 0.8043225633710266, 0.8043225633710266, 0.8043225633710266, 0.8043225633710266, 0.8043225633710266, 0.8043225633710266, 0.8043225633710266, 0.8043225633710266, 0.8043225633710266, 0.8043225633710266, 0.8043225633710266, 0.8043225633710266, 0.8043225633710266, 0.8043225633710266, 0.8043225633710266, 0.8043225633710266, 0.8043225633710266, 0.8067900163105252]}], \"balanced_accuracy\": [{\"categories\": [\"0\", \"1\", \"2\", \"3\", \"4\", \"5\", \"6\", \"7\", \"8\", \"9\", \"10\", \"11\", \"12\", \"13\", \"14\", \"15\", \"16\", \"17\", \"18\", \"19\", \"20\", \"21\", \"22\", \"23\", \"24\", \"25\", \"26\", \"27\", \"28\", \"29\", \"30\", \"31\", \"32\", \"33\", \"34\", \"38\"], \"mode\": \"markers\", \"name\": \"balanced_accuracy\", \"stepped\": false, \"type\": \"scatter\", \"data\": [0.77692834505401, 0.782398650768284, 0.5116581206270715, 0.5, 0.8261560591052479, 0.8249047867289105, 0.7758310463040807, 0.7735058518882112, 0.7648717742864509, 0.715971623092457, 0.6790751343924631, 0.8355000346722615, 0.6551205362463807, 0.6034904827610199, 0.7947180039139653, 0.7800876151443928, 0.5, 0.5625864951484553, 0.6522600480868823, 0.5, 0.5, 0.7740391204913758, 0.676092668159519, 0.6791660036860881, 0.6709530255584744, 0.5, 0.6501471408388285, 0.5268550428529911, 0.7872401455146353, 0.7664643392407573, 0.7764927007165339, 0.7617864632300463, 0.7762614949453212, 0.7804313783681461, 0.7712081218392367, 0.7818369246603626]}, {\"categories\": [\"0\", \"1\", \"2\", \"3\", \"4\", \"5\", \"6\", \"7\", \"8\", \"9\", \"10\", \"11\", \"12\", \"13\", \"14\", \"15\", \"16\", \"17\", \"18\", \"19\", \"20\", \"21\", \"22\", \"23\", \"24\", \"25\", \"26\", \"27\", \"28\", \"29\", \"30\", \"31\", \"32\", \"33\", \"34\", \"38\"], \"mode\": \"lines\", \"name\": \"balanced_accuracy_max\", \"stepped\": true, \"type\": \"scatter\", \"data\": [0.77692834505401, 0.782398650768284, 0.782398650768284, 0.782398650768284, 0.8261560591052479, 0.8261560591052479, 0.8261560591052479, 0.8261560591052479, 0.8261560591052479, 0.8261560591052479, 0.8261560591052479, 0.8355000346722615, 0.8355000346722615, 0.8355000346722615, 0.8355000346722615, 0.8355000346722615, 0.8355000346722615, 0.8355000346722615, 0.8355000346722615, 0.8355000346722615, 0.8355000346722615, 0.8355000346722615, 0.8355000346722615, 0.8355000346722615, 0.8355000346722615, 0.8355000346722615, 0.8355000346722615, 0.8355000346722615, 0.8355000346722615, 0.8355000346722615, 0.8355000346722615, 0.8355000346722615, 0.8355000346722615, 0.8355000346722615, 0.8355000346722615, 0.8355000346722615]}], \"AUC_macro\": [{\"categories\": [\"0\", \"1\", \"2\", \"3\", \"4\", \"5\", \"6\", \"7\", \"8\", \"9\", \"10\", \"11\", \"12\", \"13\", \"14\", \"15\", \"16\", \"17\", \"18\", \"19\", \"20\", \"21\", \"22\", \"23\", \"24\", \"25\", \"26\", \"27\", \"28\", \"29\", \"30\", \"31\", \"32\", \"33\", \"34\", \"38\"], \"mode\": \"markers\", \"name\": \"AUC_macro\", \"stepped\": false, \"type\": \"scatter\", \"data\": [0.9302080032593238, 0.9335745193091164, 0.9032804347133027, 0.8611137701318811, 0.8958317187100322, 0.8818992085987586, 0.9214645676566428, 0.9319552555007157, 0.9273703065696335, 0.9259386767684393, 0.9076894868869526, 0.9077876041741373, 0.8844738331058682, 0.9140317665379687, 0.9104745793808117, 0.9242013991896222, 0.8663261417168399, 0.9121141626124462, 0.9169673013080549, 0.8901063999990754, 0.8368462505697973, 0.9307448460726796, 0.8906286095295627, 0.8907764397858143, 0.8890300180971851, 0.5, 0.916358660062544, 0.9118621130995409, 0.9272436527746047, 0.9293297701415485, 0.9226557273624777, 0.9258070605891829, 0.933633284195302, 0.9324918593298855, 0.9252466579243143, 0.9334879129007229]}, {\"categories\": [\"0\", \"1\", \"2\", \"3\", \"4\", \"5\", \"6\", \"7\", \"8\", \"9\", \"10\", \"11\", \"12\", \"13\", \"14\", \"15\", \"16\", \"17\", \"18\", \"19\", \"20\", \"21\", \"22\", \"23\", \"24\", \"25\", \"26\", \"27\", \"28\", \"29\", \"30\", \"31\", \"32\", \"33\", \"34\", \"38\"], \"mode\": \"lines\", \"name\": \"AUC_macro_max\", \"stepped\": true, \"type\": \"scatter\", \"data\": [0.9302080032593238, 0.9335745193091164, 0.9335745193091164, 0.9335745193091164, 0.9335745193091164, 0.9335745193091164, 0.9335745193091164, 0.9335745193091164, 0.9335745193091164, 0.9335745193091164, 0.9335745193091164, 0.9335745193091164, 0.9335745193091164, 0.9335745193091164, 0.9335745193091164, 0.9335745193091164, 0.9335745193091164, 0.9335745193091164, 0.9335745193091164, 0.9335745193091164, 0.9335745193091164, 0.9335745193091164, 0.9335745193091164, 0.9335745193091164, 0.9335745193091164, 0.9335745193091164, 0.9335745193091164, 0.9335745193091164, 0.9335745193091164, 0.9335745193091164, 0.9335745193091164, 0.9335745193091164, 0.933633284195302, 0.933633284195302, 0.933633284195302, 0.933633284195302]}], \"recall_score_micro\": [{\"categories\": [\"0\", \"1\", \"2\", \"3\", \"4\", \"5\", \"6\", \"7\", \"8\", \"9\", \"10\", \"11\", \"12\", \"13\", \"14\", \"15\", \"16\", \"17\", \"18\", \"19\", \"20\", \"21\", \"22\", \"23\", \"24\", \"25\", \"26\", \"27\", \"28\", \"29\", \"30\", \"31\", \"32\", \"33\", \"34\", \"38\"], \"mode\": \"markers\", \"name\": \"recall_score_micro\", \"stepped\": false, \"type\": \"scatter\", \"data\": [0.9001622060016222, 0.9051905920519059, 0.8486618004866181, 0.8452554744525548, 0.8236009732360098, 0.8347120843471209, 0.8981346309813464, 0.9022708840227089, 0.8980535279805353, 0.8931062449310625, 0.8874290348742905, 0.8803730738037308, 0.8800486618004867, 0.8725060827250609, 0.8833738848337388, 0.9021086780210869, 0.8452554744525548, 0.86220600162206, 0.8847526358475264, 0.8452554744525548, 0.8452554744525548, 0.9019464720194647, 0.8836171938361718, 0.8841038118410381, 0.8824817518248175, 0.8452554744525548, 0.8852392538523924, 0.8531224655312246, 0.9033252230332524, 0.9021086780210869, 0.9017031630170317, 0.9013787510137875, 0.9017842660178426, 0.9019464720194647, 0.897485806974858, 0.9073803730738037]}, {\"categories\": [\"0\", \"1\", \"2\", \"3\", \"4\", \"5\", \"6\", \"7\", \"8\", \"9\", \"10\", \"11\", \"12\", \"13\", \"14\", \"15\", \"16\", \"17\", \"18\", \"19\", \"20\", \"21\", \"22\", \"23\", \"24\", \"25\", \"26\", \"27\", \"28\", \"29\", \"30\", \"31\", \"32\", \"33\", \"34\", \"38\"], \"mode\": \"lines\", \"name\": \"recall_score_micro_max\", \"stepped\": true, \"type\": \"scatter\", \"data\": [0.9001622060016222, 0.9051905920519059, 0.9051905920519059, 0.9051905920519059, 0.9051905920519059, 0.9051905920519059, 0.9051905920519059, 0.9051905920519059, 0.9051905920519059, 0.9051905920519059, 0.9051905920519059, 0.9051905920519059, 0.9051905920519059, 0.9051905920519059, 0.9051905920519059, 0.9051905920519059, 0.9051905920519059, 0.9051905920519059, 0.9051905920519059, 0.9051905920519059, 0.9051905920519059, 0.9051905920519059, 0.9051905920519059, 0.9051905920519059, 0.9051905920519059, 0.9051905920519059, 0.9051905920519059, 0.9051905920519059, 0.9051905920519059, 0.9051905920519059, 0.9051905920519059, 0.9051905920519059, 0.9051905920519059, 0.9051905920519059, 0.9051905920519059, 0.9073803730738037]}], \"f1_score_micro\": [{\"categories\": [\"0\", \"1\", \"2\", \"3\", \"4\", \"5\", \"6\", \"7\", \"8\", \"9\", \"10\", \"11\", \"12\", \"13\", \"14\", \"15\", \"16\", \"17\", \"18\", \"19\", \"20\", \"21\", \"22\", \"23\", \"24\", \"25\", \"26\", \"27\", \"28\", \"29\", \"30\", \"31\", \"32\", \"33\", \"34\", \"38\"], \"mode\": \"markers\", \"name\": \"f1_score_micro\", \"stepped\": false, \"type\": \"scatter\", \"data\": [0.9001622060016222, 0.9051905920519059, 0.8486618004866181, 0.8452554744525548, 0.8236009732360098, 0.8347120843471209, 0.8981346309813464, 0.9022708840227088, 0.8980535279805353, 0.8931062449310625, 0.8874290348742905, 0.8803730738037308, 0.8800486618004868, 0.8725060827250609, 0.8833738848337388, 0.9021086780210869, 0.8452554744525548, 0.86220600162206, 0.8847526358475264, 0.8452554744525548, 0.8452554744525548, 0.9019464720194647, 0.8836171938361718, 0.8841038118410381, 0.8824817518248175, 0.8452554744525548, 0.8852392538523924, 0.8531224655312246, 0.9033252230332524, 0.9021086780210869, 0.9017031630170317, 0.9013787510137875, 0.9017842660178426, 0.9019464720194647, 0.897485806974858, 0.9073803730738037]}, {\"categories\": [\"0\", \"1\", \"2\", \"3\", \"4\", \"5\", \"6\", \"7\", \"8\", \"9\", \"10\", \"11\", \"12\", \"13\", \"14\", \"15\", \"16\", \"17\", \"18\", \"19\", \"20\", \"21\", \"22\", \"23\", \"24\", \"25\", \"26\", \"27\", \"28\", \"29\", \"30\", \"31\", \"32\", \"33\", \"34\", \"38\"], \"mode\": \"lines\", \"name\": \"f1_score_micro_max\", \"stepped\": true, \"type\": \"scatter\", \"data\": [0.9001622060016222, 0.9051905920519059, 0.9051905920519059, 0.9051905920519059, 0.9051905920519059, 0.9051905920519059, 0.9051905920519059, 0.9051905920519059, 0.9051905920519059, 0.9051905920519059, 0.9051905920519059, 0.9051905920519059, 0.9051905920519059, 0.9051905920519059, 0.9051905920519059, 0.9051905920519059, 0.9051905920519059, 0.9051905920519059, 0.9051905920519059, 0.9051905920519059, 0.9051905920519059, 0.9051905920519059, 0.9051905920519059, 0.9051905920519059, 0.9051905920519059, 0.9051905920519059, 0.9051905920519059, 0.9051905920519059, 0.9051905920519059, 0.9051905920519059, 0.9051905920519059, 0.9051905920519059, 0.9051905920519059, 0.9051905920519059, 0.9051905920519059, 0.9073803730738037]}], \"precision_score_macro\": [{\"categories\": [\"0\", \"1\", \"2\", \"3\", \"4\", \"5\", \"6\", \"7\", \"8\", \"9\", \"10\", \"11\", \"12\", \"13\", \"14\", \"15\", \"16\", \"17\", \"18\", \"19\", \"20\", \"21\", \"22\", \"23\", \"24\", \"25\", \"26\", \"27\", \"28\", \"29\", \"30\", \"31\", \"32\", \"33\", \"34\", \"38\"], \"mode\": \"markers\", \"name\": \"precision_score_macro\", \"stepped\": false, \"type\": \"scatter\", \"data\": [0.8198792276521926, 0.833135280130417, 0.909643621684851, 0.4226277372262774, 0.7125604190531357, 0.723780036453821, 0.8143905582301324, 0.8282528806084164, 0.8188464190624268, 0.8330155045944257, 0.8413337866563363, 0.7709568228643855, 0.8247022720483032, 0.8627533422851767, 0.7756600299021742, 0.8248203510811553, 0.4226277372262774, 0.8640903800395288, 0.8640185119223137, 0.4226277372262774, 0.4226277372262774, 0.8269490022880687, 0.821057652185997, 0.8205166497145228, 0.8203683428684926, 0.4226277372262774, 0.8737558635004851, 0.8990995864784909, 0.8249674078472896, 0.8316426654967364, 0.825127379278986, 0.8316758322711363, 0.8255131125724948, 0.823789514576566, 0.8141848313521924, 0.840911855316211]}, {\"categories\": [\"0\", \"1\", \"2\", \"3\", \"4\", \"5\", \"6\", \"7\", \"8\", \"9\", \"10\", \"11\", \"12\", \"13\", \"14\", \"15\", \"16\", \"17\", \"18\", \"19\", \"20\", \"21\", \"22\", \"23\", \"24\", \"25\", \"26\", \"27\", \"28\", \"29\", \"30\", \"31\", \"32\", \"33\", \"34\", \"38\"], \"mode\": \"lines\", \"name\": \"precision_score_macro_max\", \"stepped\": true, \"type\": \"scatter\", \"data\": [0.8198792276521926, 0.833135280130417, 0.909643621684851, 0.909643621684851, 0.909643621684851, 0.909643621684851, 0.909643621684851, 0.909643621684851, 0.909643621684851, 0.909643621684851, 0.909643621684851, 0.909643621684851, 0.909643621684851, 0.909643621684851, 0.909643621684851, 0.909643621684851, 0.909643621684851, 0.909643621684851, 0.909643621684851, 0.909643621684851, 0.909643621684851, 0.909643621684851, 0.909643621684851, 0.909643621684851, 0.909643621684851, 0.909643621684851, 0.909643621684851, 0.909643621684851, 0.909643621684851, 0.909643621684851, 0.909643621684851, 0.909643621684851, 0.909643621684851, 0.909643621684851, 0.909643621684851, 0.909643621684851]}], \"average_precision_score_micro\": [{\"categories\": [\"0\", \"1\", \"2\", \"3\", \"4\", \"5\", \"6\", \"7\", \"8\", \"9\", \"10\", \"11\", \"12\", \"13\", \"14\", \"15\", \"16\", \"17\", \"18\", \"19\", \"20\", \"21\", \"22\", \"23\", \"24\", \"25\", \"26\", \"27\", \"28\", \"29\", \"30\", \"31\", \"32\", \"33\", \"34\", \"38\"], \"mode\": \"markers\", \"name\": \"average_precision_score_micro\", \"stepped\": false, \"type\": \"scatter\", \"data\": [0.9692024524545738, 0.9704549084235478, 0.9515843649131259, 0.9395675016216822, 0.8889911804678, 0.8748591142076165, 0.9652092622791226, 0.9698814250811365, 0.9680704661018847, 0.9653446192478858, 0.9551564316335774, 0.9523998409333189, 0.9457407614973444, 0.9565761337311115, 0.9608543945673501, 0.9665667346218679, 0.9425235916264826, 0.9550190516135256, 0.9589003067315627, 0.9481665994079741, 0.9346667577452675, 0.9692718755810841, 0.9447339367645403, 0.9438844621291197, 0.9452290425448758, 0.7918623893220302, 0.9585917086421974, 0.9536958525018401, 0.9679588432234362, 0.9686491205289993, 0.9659751285626061, 0.9672576874678188, 0.9705160955187702, 0.9698481085348648, 0.9667668486775396, 0.9700800689039183]}, {\"categories\": [\"0\", \"1\", \"2\", \"3\", \"4\", \"5\", \"6\", \"7\", \"8\", \"9\", \"10\", \"11\", \"12\", \"13\", \"14\", \"15\", \"16\", \"17\", \"18\", \"19\", \"20\", \"21\", \"22\", \"23\", \"24\", \"25\", \"26\", \"27\", \"28\", \"29\", \"30\", \"31\", \"32\", \"33\", \"34\", \"38\"], \"mode\": \"lines\", \"name\": \"average_precision_score_micro_max\", \"stepped\": true, \"type\": \"scatter\", \"data\": [0.9692024524545738, 0.9704549084235478, 0.9704549084235478, 0.9704549084235478, 0.9704549084235478, 0.9704549084235478, 0.9704549084235478, 0.9704549084235478, 0.9704549084235478, 0.9704549084235478, 0.9704549084235478, 0.9704549084235478, 0.9704549084235478, 0.9704549084235478, 0.9704549084235478, 0.9704549084235478, 0.9704549084235478, 0.9704549084235478, 0.9704549084235478, 0.9704549084235478, 0.9704549084235478, 0.9704549084235478, 0.9704549084235478, 0.9704549084235478, 0.9704549084235478, 0.9704549084235478, 0.9704549084235478, 0.9704549084235478, 0.9704549084235478, 0.9704549084235478, 0.9704549084235478, 0.9704549084235478, 0.9705160955187702, 0.9705160955187702, 0.9705160955187702, 0.9705160955187702]}], \"f1_score_weighted\": [{\"categories\": [\"0\", \"1\", \"2\", \"3\", \"4\", \"5\", \"6\", \"7\", \"8\", \"9\", \"10\", \"11\", \"12\", \"13\", \"14\", \"15\", \"16\", \"17\", \"18\", \"19\", \"20\", \"21\", \"22\", \"23\", \"24\", \"25\", \"26\", \"27\", \"28\", \"29\", \"30\", \"31\", \"32\", \"33\", \"34\", \"38\"], \"mode\": \"markers\", \"name\": \"f1_score_weighted\", \"stepped\": false, \"type\": \"scatter\", \"data\": [0.896525296771615, 0.9012184656233285, 0.782720128618985, 0.7743823073621229, 0.8418856360780591, 0.8503218414854471, 0.8947521791014678, 0.8977321179327243, 0.8932900020871907, 0.8811622715381077, 0.8698979827458974, 0.8866930155272281, 0.8592603615485147, 0.8383938042589016, 0.885286966509673, 0.8984605326950638, 0.7743823073621229, 0.8152915122912322, 0.8617304531990012, 0.7743823073621229, 0.7743823073621229, 0.8975796809895499, 0.8668894254096494, 0.8679287500717868, 0.8648939939838977, 0.7743823073621229, 0.8611362818899325, 0.7936056835340309, 0.9002808282599662, 0.89672289938237, 0.8976937325245687, 0.8954949113986294, 0.897746508851638, 0.8984163994042506, 0.8936381168297999, 0.9029150692014744]}, {\"categories\": [\"0\", \"1\", \"2\", \"3\", \"4\", \"5\", \"6\", \"7\", \"8\", \"9\", \"10\", \"11\", \"12\", \"13\", \"14\", \"15\", \"16\", \"17\", \"18\", \"19\", \"20\", \"21\", \"22\", \"23\", \"24\", \"25\", \"26\", \"27\", \"28\", \"29\", \"30\", \"31\", \"32\", \"33\", \"34\", \"38\"], \"mode\": \"lines\", \"name\": \"f1_score_weighted_max\", \"stepped\": true, \"type\": \"scatter\", \"data\": [0.896525296771615, 0.9012184656233285, 0.9012184656233285, 0.9012184656233285, 0.9012184656233285, 0.9012184656233285, 0.9012184656233285, 0.9012184656233285, 0.9012184656233285, 0.9012184656233285, 0.9012184656233285, 0.9012184656233285, 0.9012184656233285, 0.9012184656233285, 0.9012184656233285, 0.9012184656233285, 0.9012184656233285, 0.9012184656233285, 0.9012184656233285, 0.9012184656233285, 0.9012184656233285, 0.9012184656233285, 0.9012184656233285, 0.9012184656233285, 0.9012184656233285, 0.9012184656233285, 0.9012184656233285, 0.9012184656233285, 0.9012184656233285, 0.9012184656233285, 0.9012184656233285, 0.9012184656233285, 0.9012184656233285, 0.9012184656233285, 0.9012184656233285, 0.9029150692014744]}], \"weighted_accuracy\": [{\"categories\": [\"0\", \"1\", \"2\", \"3\", \"4\", \"5\", \"6\", \"7\", \"8\", \"9\", \"10\", \"11\", \"12\", \"13\", \"14\", \"15\", \"16\", \"17\", \"18\", \"19\", \"20\", \"21\", \"22\", \"23\", \"24\", \"25\", \"26\", \"27\", \"28\", \"29\", \"30\", \"31\", \"32\", \"33\", \"34\", \"38\"], \"mode\": \"markers\", \"name\": \"weighted_accuracy\", \"stepped\": false, \"type\": \"scatter\", \"data\": [0.9438921597272083, 0.9488002101585732, 0.9680446644574285, 0.9674987125732741, 0.8227559113866315, 0.8381381949470565, 0.9415573632531253, 0.9480230232075798, 0.9453315177477152, 0.9561661926799115, 0.9609489944922603, 0.8963056997239905, 0.959704696405475, 0.9678132515198312, 0.9148410175937064, 0.9454216436310366, 0.9674987125732741, 0.9681951309041285, 0.9670686225885513, 0.9674987125732741, 0.9674987125732741, 0.9473581558966612, 0.9571227948101025, 0.9566928339078103, 0.9574096979166496, 0.9674987125732741, 0.9686476132374046, 0.9685056089012715, 0.9445471110842564, 0.9502709863033205, 0.9461634208515365, 0.9509518690444324, 0.9463367839721086, 0.9450322226425228, 0.9423348726342261, 0.9519802326230805]}, {\"categories\": [\"0\", \"1\", \"2\", \"3\", \"4\", \"5\", \"6\", \"7\", \"8\", \"9\", \"10\", \"11\", \"12\", \"13\", \"14\", \"15\", \"16\", \"17\", \"18\", \"19\", \"20\", \"21\", \"22\", \"23\", \"24\", \"25\", \"26\", \"27\", \"28\", \"29\", \"30\", \"31\", \"32\", \"33\", \"34\", \"38\"], \"mode\": \"lines\", \"name\": \"weighted_accuracy_max\", \"stepped\": true, \"type\": \"scatter\", \"data\": [0.9438921597272083, 0.9488002101585732, 0.9680446644574285, 0.9680446644574285, 0.9680446644574285, 0.9680446644574285, 0.9680446644574285, 0.9680446644574285, 0.9680446644574285, 0.9680446644574285, 0.9680446644574285, 0.9680446644574285, 0.9680446644574285, 0.9680446644574285, 0.9680446644574285, 0.9680446644574285, 0.9680446644574285, 0.9681951309041285, 0.9681951309041285, 0.9681951309041285, 0.9681951309041285, 0.9681951309041285, 0.9681951309041285, 0.9681951309041285, 0.9681951309041285, 0.9681951309041285, 0.9686476132374046, 0.9686476132374046, 0.9686476132374046, 0.9686476132374046, 0.9686476132374046, 0.9686476132374046, 0.9686476132374046, 0.9686476132374046, 0.9686476132374046, 0.9686476132374046]}], \"average_precision_score_macro\": [{\"categories\": [\"0\", \"1\", \"2\", \"3\", \"4\", \"5\", \"6\", \"7\", \"8\", \"9\", \"10\", \"11\", \"12\", \"13\", \"14\", \"15\", \"16\", \"17\", \"18\", \"19\", \"20\", \"21\", \"22\", \"23\", \"24\", \"25\", \"26\", \"27\", \"28\", \"29\", \"30\", \"31\", \"32\", \"33\", \"34\", \"38\"], \"mode\": \"markers\", \"name\": \"average_precision_score_macro\", \"stepped\": false, \"type\": \"scatter\", \"data\": [0.861599501682337, 0.86783193820032, 0.8201587817539412, 0.7472570725988098, 0.7929588798291567, 0.7581455710869651, 0.8505535982177129, 0.8644519868715942, 0.8593915730313233, 0.8513511851387808, 0.8348138253065072, 0.7678332544280909, 0.8001760166916091, 0.8376723782456911, 0.7873928507548946, 0.8547502398038073, 0.7569710075172922, 0.8348476446112828, 0.8538693360232611, 0.77528750366289, 0.7282236526529969, 0.863239218010556, 0.8062747177006154, 0.8065898911821666, 0.804778058789997, 0.5, 0.8506407809035376, 0.8373175432439073, 0.8597893465923488, 0.8650072799743352, 0.8505304917297445, 0.8587900618813588, 0.8686489964052521, 0.8676701852627784, 0.8521245152218005, 0.8697581721871223]}, {\"categories\": [\"0\", \"1\", \"2\", \"3\", \"4\", \"5\", \"6\", \"7\", \"8\", \"9\", \"10\", \"11\", \"12\", \"13\", \"14\", \"15\", \"16\", \"17\", \"18\", \"19\", \"20\", \"21\", \"22\", \"23\", \"24\", \"25\", \"26\", \"27\", \"28\", \"29\", \"30\", \"31\", \"32\", \"33\", \"34\", \"38\"], \"mode\": \"lines\", \"name\": \"average_precision_score_macro_max\", \"stepped\": true, \"type\": \"scatter\", \"data\": [0.861599501682337, 0.86783193820032, 0.86783193820032, 0.86783193820032, 0.86783193820032, 0.86783193820032, 0.86783193820032, 0.86783193820032, 0.86783193820032, 0.86783193820032, 0.86783193820032, 0.86783193820032, 0.86783193820032, 0.86783193820032, 0.86783193820032, 0.86783193820032, 0.86783193820032, 0.86783193820032, 0.86783193820032, 0.86783193820032, 0.86783193820032, 0.86783193820032, 0.86783193820032, 0.86783193820032, 0.86783193820032, 0.86783193820032, 0.86783193820032, 0.86783193820032, 0.86783193820032, 0.86783193820032, 0.86783193820032, 0.86783193820032, 0.8686489964052521, 0.8686489964052521, 0.8686489964052521, 0.8697581721871223]}], \"average_precision_score_weighted\": [{\"categories\": [\"0\", \"1\", \"2\", \"3\", \"4\", \"5\", \"6\", \"7\", \"8\", \"9\", \"10\", \"11\", \"12\", \"13\", \"14\", \"15\", \"16\", \"17\", \"18\", \"19\", \"20\", \"21\", \"22\", \"23\", \"24\", \"25\", \"26\", \"27\", \"28\", \"29\", \"30\", \"31\", \"32\", \"33\", \"34\", \"38\"], \"mode\": \"markers\", \"name\": \"average_precision_score_weighted\", \"stepped\": false, \"type\": \"scatter\", \"data\": [0.9474804923046368, 0.9497749635045584, 0.9294818604722807, 0.8996542783894474, 0.9206344416024108, 0.9072911187593409, 0.9422469268979982, 0.9485605933217115, 0.9461605848980033, 0.94343124679507, 0.9319178555946919, 0.9119024914991886, 0.9203124741384164, 0.9364524643700397, 0.9217294435609603, 0.9438989604863659, 0.905056437573767, 0.9352360937504259, 0.9415455298559626, 0.9137586147819632, 0.8914995581661677, 0.9478714135254699, 0.9230939466694501, 0.9230151295461249, 0.92241199173457, 0.7384693041915057, 0.940662654917443, 0.9357184109933759, 0.9459367541383364, 0.9479237649169393, 0.9422764761421941, 0.9454708005259297, 0.9500667169869011, 0.9495517457013074, 0.9436314322010873, 0.9503074099674711]}, {\"categories\": [\"0\", \"1\", \"2\", \"3\", \"4\", \"5\", \"6\", \"7\", \"8\", \"9\", \"10\", \"11\", \"12\", \"13\", \"14\", \"15\", \"16\", \"17\", \"18\", \"19\", \"20\", \"21\", \"22\", \"23\", \"24\", \"25\", \"26\", \"27\", \"28\", \"29\", \"30\", \"31\", \"32\", \"33\", \"34\", \"38\"], \"mode\": \"lines\", \"name\": \"average_precision_score_weighted_max\", \"stepped\": true, \"type\": \"scatter\", \"data\": [0.9474804923046368, 0.9497749635045584, 0.9497749635045584, 0.9497749635045584, 0.9497749635045584, 0.9497749635045584, 0.9497749635045584, 0.9497749635045584, 0.9497749635045584, 0.9497749635045584, 0.9497749635045584, 0.9497749635045584, 0.9497749635045584, 0.9497749635045584, 0.9497749635045584, 0.9497749635045584, 0.9497749635045584, 0.9497749635045584, 0.9497749635045584, 0.9497749635045584, 0.9497749635045584, 0.9497749635045584, 0.9497749635045584, 0.9497749635045584, 0.9497749635045584, 0.9497749635045584, 0.9497749635045584, 0.9497749635045584, 0.9497749635045584, 0.9497749635045584, 0.9497749635045584, 0.9497749635045584, 0.9500667169869011, 0.9500667169869011, 0.9500667169869011, 0.9503074099674711]}], \"AUC_micro\": [{\"categories\": [\"0\", \"1\", \"2\", \"3\", \"4\", \"5\", \"6\", \"7\", \"8\", \"9\", \"10\", \"11\", \"12\", \"13\", \"14\", \"15\", \"16\", \"17\", \"18\", \"19\", \"20\", \"21\", \"22\", \"23\", \"24\", \"25\", \"26\", \"27\", \"28\", \"29\", \"30\", \"31\", \"32\", \"33\", \"34\", \"38\"], \"mode\": \"markers\", \"name\": \"AUC_micro\", \"stepped\": false, \"type\": \"scatter\", \"data\": [0.9680599215017671, 0.9695271162259279, 0.9507350378776668, 0.9395745151086405, 0.889074064207529, 0.8764656654096687, 0.9645198445821813, 0.968805042988537, 0.9671256682117676, 0.964363124379641, 0.9586091131357262, 0.9585499335981513, 0.9488608087015035, 0.9558783494454014, 0.9596970378658268, 0.9660254596330041, 0.9410079465154323, 0.9542822581759127, 0.95886672862857, 0.9472199233172115, 0.933295110337574, 0.9683267918139249, 0.9497274070916779, 0.9494062313152302, 0.9496399500358156, 0.8452554744525548, 0.9582443469629788, 0.9531670425820354, 0.9674141166580829, 0.9680023107448649, 0.9654904363578241, 0.9665990216333867, 0.9695217882915683, 0.9688996039568792, 0.965773971264674, 0.9691662177388641]}, {\"categories\": [\"0\", \"1\", \"2\", \"3\", \"4\", \"5\", \"6\", \"7\", \"8\", \"9\", \"10\", \"11\", \"12\", \"13\", \"14\", \"15\", \"16\", \"17\", \"18\", \"19\", \"20\", \"21\", \"22\", \"23\", \"24\", \"25\", \"26\", \"27\", \"28\", \"29\", \"30\", \"31\", \"32\", \"33\", \"34\", \"38\"], \"mode\": \"lines\", \"name\": \"AUC_micro_max\", \"stepped\": true, \"type\": \"scatter\", \"data\": [0.9680599215017671, 0.9695271162259279, 0.9695271162259279, 0.9695271162259279, 0.9695271162259279, 0.9695271162259279, 0.9695271162259279, 0.9695271162259279, 0.9695271162259279, 0.9695271162259279, 0.9695271162259279, 0.9695271162259279, 0.9695271162259279, 0.9695271162259279, 0.9695271162259279, 0.9695271162259279, 0.9695271162259279, 0.9695271162259279, 0.9695271162259279, 0.9695271162259279, 0.9695271162259279, 0.9695271162259279, 0.9695271162259279, 0.9695271162259279, 0.9695271162259279, 0.9695271162259279, 0.9695271162259279, 0.9695271162259279, 0.9695271162259279, 0.9695271162259279, 0.9695271162259279, 0.9695271162259279, 0.9695271162259279, 0.9695271162259279, 0.9695271162259279, 0.9695271162259279]}], \"precision_score_micro\": [{\"categories\": [\"0\", \"1\", \"2\", \"3\", \"4\", \"5\", \"6\", \"7\", \"8\", \"9\", \"10\", \"11\", \"12\", \"13\", \"14\", \"15\", \"16\", \"17\", \"18\", \"19\", \"20\", \"21\", \"22\", \"23\", \"24\", \"25\", \"26\", \"27\", \"28\", \"29\", \"30\", \"31\", \"32\", \"33\", \"34\", \"38\"], \"mode\": \"markers\", \"name\": \"precision_score_micro\", \"stepped\": false, \"type\": \"scatter\", \"data\": [0.9001622060016222, 0.9051905920519059, 0.8486618004866181, 0.8452554744525548, 0.8236009732360098, 0.8347120843471209, 0.8981346309813464, 0.9022708840227089, 0.8980535279805353, 0.8931062449310625, 0.8874290348742905, 0.8803730738037308, 0.8800486618004867, 0.8725060827250609, 0.8833738848337388, 0.9021086780210869, 0.8452554744525548, 0.86220600162206, 0.8847526358475264, 0.8452554744525548, 0.8452554744525548, 0.9019464720194647, 0.8836171938361718, 0.8841038118410381, 0.8824817518248175, 0.8452554744525548, 0.8852392538523924, 0.8531224655312246, 0.9033252230332524, 0.9021086780210869, 0.9017031630170317, 0.9013787510137875, 0.9017842660178426, 0.9019464720194647, 0.897485806974858, 0.9073803730738037]}, {\"categories\": [\"0\", \"1\", \"2\", \"3\", \"4\", \"5\", \"6\", \"7\", \"8\", \"9\", \"10\", \"11\", \"12\", \"13\", \"14\", \"15\", \"16\", \"17\", \"18\", \"19\", \"20\", \"21\", \"22\", \"23\", \"24\", \"25\", \"26\", \"27\", \"28\", \"29\", \"30\", \"31\", \"32\", \"33\", \"34\", \"38\"], \"mode\": \"lines\", \"name\": \"precision_score_micro_max\", \"stepped\": true, \"type\": \"scatter\", \"data\": [0.9001622060016222, 0.9051905920519059, 0.9051905920519059, 0.9051905920519059, 0.9051905920519059, 0.9051905920519059, 0.9051905920519059, 0.9051905920519059, 0.9051905920519059, 0.9051905920519059, 0.9051905920519059, 0.9051905920519059, 0.9051905920519059, 0.9051905920519059, 0.9051905920519059, 0.9051905920519059, 0.9051905920519059, 0.9051905920519059, 0.9051905920519059, 0.9051905920519059, 0.9051905920519059, 0.9051905920519059, 0.9051905920519059, 0.9051905920519059, 0.9051905920519059, 0.9051905920519059, 0.9051905920519059, 0.9051905920519059, 0.9051905920519059, 0.9051905920519059, 0.9051905920519059, 0.9051905920519059, 0.9051905920519059, 0.9051905920519059, 0.9051905920519059, 0.9073803730738037]}], \"matthews_correlation\": [{\"categories\": [\"0\", \"1\", \"2\", \"3\", \"4\", \"5\", \"6\", \"7\", \"8\", \"9\", \"10\", \"11\", \"12\", \"13\", \"14\", \"15\", \"16\", \"17\", \"18\", \"19\", \"20\", \"21\", \"22\", \"23\", \"24\", \"25\", \"26\", \"27\", \"28\", \"29\", \"30\", \"31\", \"32\", \"33\", \"34\", \"38\"], \"mode\": \"markers\", \"name\": \"matthews_correlation\", \"stepped\": false, \"type\": \"scatter\", \"data\": [0.5952280497602397, 0.6134057692822686, 0.12889639619929136, 0.0, 0.5264805428095899, 0.5388299014774072, 0.5889415336925837, 0.599213249054629, 0.5811876244897592, 0.5343363998230646, 0.4918345817825201, 0.6030080522811039, 0.44863863805867954, 0.3874960690060807, 0.5700181955188158, 0.6031823944317396, 0.0, 0.2930331820534858, 0.4708272385371905, 0.0, 0.0, 0.5986362565292072, 0.4755095252270031, 0.4792489899531675, 0.46801545697437613, 0.0, 0.4731382438719696, 0.1944688020970408, 0.6110095310946662, 0.5944958811696598, 0.5996428064132451, 0.5892768720002595, 0.5997513549063728, 0.6026600047245451, 0.5837557432488619, 0.6198781571979504]}, {\"categories\": [\"0\", \"1\", \"2\", \"3\", \"4\", \"5\", \"6\", \"7\", \"8\", \"9\", \"10\", \"11\", \"12\", \"13\", \"14\", \"15\", \"16\", \"17\", \"18\", \"19\", \"20\", \"21\", \"22\", \"23\", \"24\", \"25\", \"26\", \"27\", \"28\", \"29\", \"30\", \"31\", \"32\", \"33\", \"34\", \"38\"], \"mode\": \"lines\", \"name\": \"matthews_correlation_max\", \"stepped\": true, \"type\": \"scatter\", \"data\": [0.5952280497602397, 0.6134057692822686, 0.6134057692822686, 0.6134057692822686, 0.6134057692822686, 0.6134057692822686, 0.6134057692822686, 0.6134057692822686, 0.6134057692822686, 0.6134057692822686, 0.6134057692822686, 0.6134057692822686, 0.6134057692822686, 0.6134057692822686, 0.6134057692822686, 0.6134057692822686, 0.6134057692822686, 0.6134057692822686, 0.6134057692822686, 0.6134057692822686, 0.6134057692822686, 0.6134057692822686, 0.6134057692822686, 0.6134057692822686, 0.6134057692822686, 0.6134057692822686, 0.6134057692822686, 0.6134057692822686, 0.6134057692822686, 0.6134057692822686, 0.6134057692822686, 0.6134057692822686, 0.6134057692822686, 0.6134057692822686, 0.6134057692822686, 0.6198781571979504]}], \"recall_score_weighted\": [{\"categories\": [\"0\", \"1\", \"2\", \"3\", \"4\", \"5\", \"6\", \"7\", \"8\", \"9\", \"10\", \"11\", \"12\", \"13\", \"14\", \"15\", \"16\", \"17\", \"18\", \"19\", \"20\", \"21\", \"22\", \"23\", \"24\", \"25\", \"26\", \"27\", \"28\", \"29\", \"30\", \"31\", \"32\", \"33\", \"34\", \"38\"], \"mode\": \"markers\", \"name\": \"recall_score_weighted\", \"stepped\": false, \"type\": \"scatter\", \"data\": [0.9001622060016222, 0.9051905920519059, 0.8486618004866181, 0.8452554744525548, 0.8236009732360098, 0.8347120843471209, 0.8981346309813464, 0.9022708840227089, 0.8980535279805353, 0.8931062449310625, 0.8874290348742905, 0.8803730738037308, 0.8800486618004867, 0.8725060827250609, 0.8833738848337388, 0.9021086780210869, 0.8452554744525548, 0.86220600162206, 0.8847526358475264, 0.8452554744525548, 0.8452554744525548, 0.9019464720194647, 0.8836171938361718, 0.8841038118410381, 0.8824817518248175, 0.8452554744525548, 0.8852392538523924, 0.8531224655312246, 0.9033252230332524, 0.9021086780210869, 0.9017031630170317, 0.9013787510137875, 0.9017842660178426, 0.9019464720194647, 0.897485806974858, 0.9073803730738037]}, {\"categories\": [\"0\", \"1\", \"2\", \"3\", \"4\", \"5\", \"6\", \"7\", \"8\", \"9\", \"10\", \"11\", \"12\", \"13\", \"14\", \"15\", \"16\", \"17\", \"18\", \"19\", \"20\", \"21\", \"22\", \"23\", \"24\", \"25\", \"26\", \"27\", \"28\", \"29\", \"30\", \"31\", \"32\", \"33\", \"34\", \"38\"], \"mode\": \"lines\", \"name\": \"recall_score_weighted_max\", \"stepped\": true, \"type\": \"scatter\", \"data\": [0.9001622060016222, 0.9051905920519059, 0.9051905920519059, 0.9051905920519059, 0.9051905920519059, 0.9051905920519059, 0.9051905920519059, 0.9051905920519059, 0.9051905920519059, 0.9051905920519059, 0.9051905920519059, 0.9051905920519059, 0.9051905920519059, 0.9051905920519059, 0.9051905920519059, 0.9051905920519059, 0.9051905920519059, 0.9051905920519059, 0.9051905920519059, 0.9051905920519059, 0.9051905920519059, 0.9051905920519059, 0.9051905920519059, 0.9051905920519059, 0.9051905920519059, 0.9051905920519059, 0.9051905920519059, 0.9051905920519059, 0.9051905920519059, 0.9051905920519059, 0.9051905920519059, 0.9051905920519059, 0.9051905920519059, 0.9051905920519059, 0.9051905920519059, 0.9073803730738037]}]}, \"metricName\": null, \"primaryMetricName\": \"accuracy\", \"showLegend\": false}, \"run_metrics\": [{\"name\": \"experiment_status\", \"run_id\": \"AutoML_ab681bdd-9a2e-4342-9e6e-3c96b9d2e191\", \"categories\": [0, 1, 2, 3, 4, 5, 6, 7, 8, 9, 10, 11, 12, 13, 14], \"series\": [{\"data\": [\"DatasetEvaluation\", \"FeaturesGeneration\", \"DatasetFeaturization\", \"DatasetFeaturizationCompleted\", \"DatasetBalancing\", \"DatasetCrossValidationSplit\", \"ModelSelection\", \"BestRunExplainModel\", \"ModelExplanationDataSetSetup\", \"PickSurrogateModel\", \"EngineeredFeatureExplanations\", \"EngineeredFeatureExplanations\", \"RawFeaturesExplanations\", \"RawFeaturesExplanations\", \"BestRunExplainModel\"]}]}, {\"name\": \"experiment_status_description\", \"run_id\": \"AutoML_ab681bdd-9a2e-4342-9e6e-3c96b9d2e191\", \"categories\": [0, 1, 2, 3, 4, 5, 6, 7, 8, 9, 10, 11, 12, 13, 14], \"series\": [{\"data\": [\"Gathering dataset statistics.\", \"Generating features for the dataset.\", \"Beginning to fit featurizers and featurize the dataset.\", \"Completed fit featurizers and featurizing the dataset.\", \"Performing class balancing sweeping\", \"Generating individually featurized CV splits.\", \"Beginning model selection.\", \"Best run model explanations started\", \"Model explanations data setup completed\", \"Choosing LightGBM as the surrogate model for explanations\", \"Computation of engineered features started\", \"Computation of engineered features completed\", \"Computation of raw features started\", \"Computation of raw features completed\", \"Best run model explanations completed\"]}]}, {\"name\": \"AUC_weighted\", \"run_id\": \"AutoML_ab681bdd-9a2e-4342-9e6e-3c96b9d2e191\", \"categories\": [0], \"series\": [{\"data\": [0.9334879129007229]}]}, {\"name\": \"recall_score_weighted\", \"run_id\": \"AutoML_ab681bdd-9a2e-4342-9e6e-3c96b9d2e191\", \"categories\": [0], \"series\": [{\"data\": [0.9073803730738037]}]}, {\"name\": \"matthews_correlation\", \"run_id\": \"AutoML_ab681bdd-9a2e-4342-9e6e-3c96b9d2e191\", \"categories\": [0], \"series\": [{\"data\": [0.6198781571979504]}]}, {\"name\": \"average_precision_score_micro\", \"run_id\": \"AutoML_ab681bdd-9a2e-4342-9e6e-3c96b9d2e191\", \"categories\": [0], \"series\": [{\"data\": [0.9700800689039183]}]}, {\"name\": \"average_precision_score_macro\", \"run_id\": \"AutoML_ab681bdd-9a2e-4342-9e6e-3c96b9d2e191\", \"categories\": [0], \"series\": [{\"data\": [0.8697581721871223]}]}, {\"name\": \"f1_score_micro\", \"run_id\": \"AutoML_ab681bdd-9a2e-4342-9e6e-3c96b9d2e191\", \"categories\": [0], \"series\": [{\"data\": [0.9073803730738037]}]}, {\"name\": \"f1_score_macro\", \"run_id\": \"AutoML_ab681bdd-9a2e-4342-9e6e-3c96b9d2e191\", \"categories\": [0], \"series\": [{\"data\": [0.8067900163105252]}]}, {\"name\": \"recall_score_micro\", \"run_id\": \"AutoML_ab681bdd-9a2e-4342-9e6e-3c96b9d2e191\", \"categories\": [0], \"series\": [{\"data\": [0.9073803730738037]}]}, {\"name\": \"log_loss\", \"run_id\": \"AutoML_ab681bdd-9a2e-4342-9e6e-3c96b9d2e191\", \"categories\": [0], \"series\": [{\"data\": [0.25610546516075167]}]}, {\"name\": \"f1_score_weighted\", \"run_id\": \"AutoML_ab681bdd-9a2e-4342-9e6e-3c96b9d2e191\", \"categories\": [0], \"series\": [{\"data\": [0.9029150692014744]}]}, {\"name\": \"recall_score_macro\", \"run_id\": \"AutoML_ab681bdd-9a2e-4342-9e6e-3c96b9d2e191\", \"categories\": [0], \"series\": [{\"data\": [0.7818369246603626]}]}, {\"name\": \"norm_macro_recall\", \"run_id\": \"AutoML_ab681bdd-9a2e-4342-9e6e-3c96b9d2e191\", \"categories\": [0], \"series\": [{\"data\": [0.5636738493207251]}]}, {\"name\": \"balanced_accuracy\", \"run_id\": \"AutoML_ab681bdd-9a2e-4342-9e6e-3c96b9d2e191\", \"categories\": [0], \"series\": [{\"data\": [0.7818369246603626]}]}, {\"name\": \"accuracy\", \"run_id\": \"AutoML_ab681bdd-9a2e-4342-9e6e-3c96b9d2e191\", \"categories\": [0], \"series\": [{\"data\": [0.9073803730738037]}]}, {\"name\": \"precision_score_weighted\", \"run_id\": \"AutoML_ab681bdd-9a2e-4342-9e6e-3c96b9d2e191\", \"categories\": [0], \"series\": [{\"data\": [0.9017601723422036]}]}, {\"name\": \"precision_score_macro\", \"run_id\": \"AutoML_ab681bdd-9a2e-4342-9e6e-3c96b9d2e191\", \"categories\": [0], \"series\": [{\"data\": [0.840911855316211]}]}, {\"name\": \"average_precision_score_weighted\", \"run_id\": \"AutoML_ab681bdd-9a2e-4342-9e6e-3c96b9d2e191\", \"categories\": [0], \"series\": [{\"data\": [0.9503074099674711]}]}, {\"name\": \"AUC_macro\", \"run_id\": \"AutoML_ab681bdd-9a2e-4342-9e6e-3c96b9d2e191\", \"categories\": [0], \"series\": [{\"data\": [0.9334879129007229]}]}, {\"name\": \"precision_score_micro\", \"run_id\": \"AutoML_ab681bdd-9a2e-4342-9e6e-3c96b9d2e191\", \"categories\": [0], \"series\": [{\"data\": [0.9073803730738037]}]}, {\"name\": \"weighted_accuracy\", \"run_id\": \"AutoML_ab681bdd-9a2e-4342-9e6e-3c96b9d2e191\", \"categories\": [0], \"series\": [{\"data\": [0.9519802326230805]}]}, {\"name\": \"AUC_micro\", \"run_id\": \"AutoML_ab681bdd-9a2e-4342-9e6e-3c96b9d2e191\", \"categories\": [0], \"series\": [{\"data\": [0.9691662177388641]}]}], \"run_logs\": \"\\nRun is completed.\", \"graph\": {}, \"widget_settings\": {\"childWidgetDisplay\": \"popup\", \"send_telemetry\": false, \"log_level\": \"INFO\", \"sdk_version\": \"1.20.0\"}, \"loading\": false}"
     },
     "metadata": {},
     "output_type": "display_data"
    },
    {
     "name": "stdout",
     "output_type": "stream",
     "text": [
      "\n",
      "\n",
      "****************************************************************************************************\n",
      "DATA GUARDRAILS: \n",
      "\n",
      "TYPE:         Cross validation\n",
      "STATUS:       DONE\n",
      "DESCRIPTION:  Each iteration of the trained model was validated through cross-validation.\n",
      "              \n",
      "DETAILS:      \n",
      "+---------------------------------+\n",
      "|Number of folds                  |\n",
      "+=================================+\n",
      "|3                                |\n",
      "+---------------------------------+\n",
      "\n",
      "****************************************************************************************************\n",
      "\n",
      "TYPE:         Class balancing detection\n",
      "STATUS:       ALERTED\n",
      "DESCRIPTION:  To decrease model bias, please cancel the current run and fix balancing problem.\n",
      "              Learn more about imbalanced data: https://aka.ms/AutomatedMLImbalancedData\n",
      "DETAILS:      Imbalanced data can lead to a falsely perceived positive effect of a model's accuracy because the input data has bias towards one class.\n",
      "+---------------------------------+---------------------------------+--------------------------------------+\n",
      "|Size of the smallest class       |Name/Label of the smallest class |Number of samples in the training data|\n",
      "+=================================+=================================+======================================+\n",
      "|1908                             |True                             |12330                                 |\n",
      "+---------------------------------+---------------------------------+--------------------------------------+\n",
      "\n",
      "****************************************************************************************************\n",
      "\n",
      "TYPE:         Missing feature values imputation\n",
      "STATUS:       DONE\n",
      "DESCRIPTION:  If the missing values are expected, let the run complete. Otherwise cancel the current run and use a script to customize the handling of missing feature values that may be more appropriate based on the data type and business requirement.\n",
      "              Learn more about missing value imputation: https://aka.ms/AutomatedMLFeaturization\n",
      "DETAILS:      \n",
      "+---------------------------------+---------------------------------+---------------------------------+\n",
      "|Column name                      |Missing value count              |Imputation type                  |\n",
      "+=================================+=================================+=================================+\n",
      "|Administrative                   |14                               |mean                             |\n",
      "|Administrative_Duration          |14                               |mean                             |\n",
      "|Informational                    |14                               |mean                             |\n",
      "|Informational_Duration           |14                               |mean                             |\n",
      "|ProductRelated                   |14                               |mean                             |\n",
      "|ProductRelated_Duration          |14                               |mean                             |\n",
      "|BounceRates                      |14                               |mean                             |\n",
      "|ExitRates                        |14                               |mean                             |\n",
      "+---------------------------------+---------------------------------+---------------------------------+\n",
      "\n",
      "****************************************************************************************************\n",
      "\n",
      "TYPE:         High cardinality feature detection\n",
      "STATUS:       PASSED\n",
      "DESCRIPTION:  Your inputs were analyzed, and no high cardinality features were detected.\n",
      "              Learn more about high cardinality feature handling: https://aka.ms/AutomatedMLFeaturization\n",
      "\n",
      "****************************************************************************************************\n",
      "\n",
      "****************************************************************************************************\n",
      "ITERATION: The iteration being evaluated.\n",
      "PIPELINE: A summary description of the pipeline being evaluated.\n",
      "DURATION: Time taken for the current iteration.\n",
      "METRIC: The result of computing score on the fitted pipeline.\n",
      "BEST: The best observed score thus far.\n",
      "****************************************************************************************************\n",
      "\n",
      " ITERATION   PIPELINE                                       DURATION      METRIC      BEST\n",
      "         0   MaxAbsScaler LightGBM                          0:00:56       0.9002    0.9002\n",
      "         1   MaxAbsScaler XGBoostClassifier                 0:03:27       0.9052    0.9052\n",
      "         2   MaxAbsScaler RandomForest                      0:00:57       0.8487    0.9052\n",
      "         3   MaxAbsScaler RandomForest                      0:00:45       0.8453    0.9052\n",
      "         4   MaxAbsScaler RandomForest                      0:01:00       0.8236    0.9052\n",
      "         5   MaxAbsScaler RandomForest                      0:03:28       0.8347    0.9052\n",
      "         6   SparseNormalizer XGBoostClassifier             0:03:56       0.8981    0.9052\n",
      "         7   SparseNormalizer XGBoostClassifier             0:00:56       0.9023    0.9052\n",
      "         8   SparseNormalizer XGBoostClassifier             0:00:54       0.8981    0.9052\n",
      "         9   StandardScalerWrapper RandomForest             0:00:57       0.8931    0.9052\n",
      "        10   SparseNormalizer XGBoostClassifier             0:01:01       0.8874    0.9052\n",
      "        11   MaxAbsScaler RandomForest                      0:00:49       0.8804    0.9052\n",
      "        12   MaxAbsScaler LogisticRegression                0:00:55       0.8800    0.9052\n",
      "        13   MaxAbsScaler LightGBM                          0:00:59       0.8725    0.9052\n",
      "        14   MaxAbsScaler RandomForest                      0:01:09       0.8834    0.9052\n",
      "        15   SparseNormalizer LightGBM                      0:00:54       0.9021    0.9052\n",
      "        16   MaxAbsScaler ExtremeRandomTrees                0:01:14       0.8453    0.9052\n",
      "        17   MaxAbsScaler LightGBM                          0:00:52       0.8622    0.9052\n",
      "        18   MaxAbsScaler LightGBM                          0:00:52       0.8848    0.9052\n",
      "        19   StandardScalerWrapper RandomForest             0:00:58       0.8453    0.9052\n",
      "        20   MaxAbsScaler ExtremeRandomTrees                0:01:00       0.8453    0.9052\n",
      "        21   SparseNormalizer XGBoostClassifier             0:00:57       0.9019    0.9052\n",
      "        22   MaxAbsScaler LogisticRegression                0:00:53       0.8836    0.9052\n",
      "        23   MaxAbsScaler LogisticRegression                0:00:57       0.8841    0.9052\n",
      "        24   MaxAbsScaler LogisticRegression                0:00:47       0.8825    0.9052\n",
      "        25   SparseNormalizer XGBoostClassifier             0:00:45       0.8453    0.9052\n",
      "        26   MaxAbsScaler LightGBM                          0:00:54       0.8852    0.9052\n",
      "        27   SparseNormalizer LightGBM                      0:00:51       0.8531    0.9052\n",
      "        28   MaxAbsScaler LightGBM                          0:00:55       0.9033    0.9052\n",
      "        29   SparseNormalizer XGBoostClassifier             0:00:52       0.9021    0.9052\n",
      "        30   SparseNormalizer LightGBM                      0:00:51       0.9017    0.9052\n",
      "        31   StandardScalerWrapper XGBoostClassifier        0:00:52       0.9014    0.9052\n",
      "        32   SparseNormalizer LightGBM                      0:01:00       0.9018    0.9052\n",
      "        33   StandardScalerWrapper XGBoostClassifier        0:00:55       0.9019    0.9052\n",
      "        34   SparseNormalizer XGBoostClassifier             0:01:11       0.8975    0.9052\n",
      "        35   SparseNormalizer XGBoostClassifier             0:00:53          nan    0.9052\n",
      "        36                                                  0:00:13          nan    0.9052\n",
      "        37                                                  0:00:18          nan    0.9052\n",
      "        38    VotingEnsemble                                0:01:23       0.9074    0.9074\n"
     ]
    },
    {
     "data": {
      "text/plain": [
       "{'runId': 'AutoML_ab681bdd-9a2e-4342-9e6e-3c96b9d2e191',\n",
       " 'target': 'project3',\n",
       " 'status': 'Completed',\n",
       " 'startTimeUtc': '2021-02-02T12:53:02.119708Z',\n",
       " 'endTimeUtc': '2021-02-02T13:19:06.88201Z',\n",
       " 'properties': {'num_iterations': '1000',\n",
       "  'training_type': 'TrainFull',\n",
       "  'acquisition_function': 'EI',\n",
       "  'primary_metric': 'accuracy',\n",
       "  'train_split': '0',\n",
       "  'acquisition_parameter': '0',\n",
       "  'num_cross_validation': None,\n",
       "  'target': 'project3',\n",
       "  'AMLSettingsJsonString': '{\"path\":null,\"name\":\"automl-experiment\",\"subscription_id\":\"cdbe0b43-92a0-4715-838a-f2648cc7ad21\",\"resource_group\":\"aml-quickstarts-136929\",\"workspace_name\":\"quick-starts-ws-136929\",\"region\":\"southcentralus\",\"compute_target\":\"project3\",\"spark_service\":null,\"azure_service\":\"remote\",\"many_models\":false,\"pipeline_fetch_max_batch_size\":1,\"iterations\":1000,\"primary_metric\":\"accuracy\",\"task_type\":\"classification\",\"data_script\":null,\"validation_size\":0.0,\"n_cross_validations\":null,\"y_min\":null,\"y_max\":null,\"num_classes\":null,\"featurization\":\"auto\",\"_ignore_package_version_incompatibilities\":false,\"is_timeseries\":false,\"max_cores_per_iteration\":1,\"max_concurrent_iterations\":5,\"iteration_timeout_minutes\":null,\"mem_in_mb\":null,\"enforce_time_on_windows\":false,\"experiment_timeout_minutes\":20,\"experiment_exit_score\":null,\"whitelist_models\":null,\"blacklist_algos\":[\"TensorFlowLinearClassifier\",\"TensorFlowDNN\"],\"supported_models\":[\"LinearSVM\",\"LogisticRegression\",\"XGBoostClassifier\",\"SGD\",\"AveragedPerceptronClassifier\",\"KNN\",\"DecisionTree\",\"RandomForest\",\"LightGBM\",\"TensorFlowDNN\",\"MultinomialNaiveBayes\",\"SVM\",\"ExtremeRandomTrees\",\"BernoulliNaiveBayes\",\"TensorFlowLinearClassifier\",\"GradientBoosting\"],\"auto_blacklist\":true,\"blacklist_samples_reached\":false,\"exclude_nan_labels\":true,\"verbosity\":20,\"_debug_log\":\"azureml_automl.log\",\"show_warnings\":false,\"model_explainability\":true,\"service_url\":null,\"sdk_url\":null,\"sdk_packages\":null,\"enable_onnx_compatible_models\":true,\"enable_split_onnx_featurizer_estimator_models\":false,\"vm_type\":\"STANDARD_D2_V2\",\"telemetry_verbosity\":20,\"send_telemetry\":true,\"enable_dnn\":false,\"scenario\":\"SDK-1.13.0\",\"environment_label\":null,\"force_text_dnn\":false,\"enable_feature_sweeping\":false,\"enable_early_stopping\":true,\"early_stopping_n_iters\":10,\"metrics\":null,\"enable_ensembling\":true,\"enable_stack_ensembling\":false,\"ensemble_iterations\":15,\"enable_tf\":false,\"enable_subsampling\":null,\"subsample_seed\":null,\"enable_nimbusml\":false,\"enable_streaming\":false,\"force_streaming\":false,\"track_child_runs\":true,\"allowed_private_models\":[],\"label_column_name\":\"Revenue\",\"weight_column_name\":null,\"cv_split_column_names\":null,\"enable_local_managed\":false,\"_local_managed_run_id\":null,\"cost_mode\":1,\"lag_length\":0,\"metric_operation\":\"maximize\",\"preprocess\":true}',\n",
       "  'DataPrepJsonString': '{\\\\\"training_data\\\\\": \\\\\"{\\\\\\\\\\\\\"blocks\\\\\\\\\\\\\": [{\\\\\\\\\\\\\"id\\\\\\\\\\\\\": \\\\\\\\\\\\\"94727ed6-8e64-429b-8f84-0eeb98344580\\\\\\\\\\\\\", \\\\\\\\\\\\\"type\\\\\\\\\\\\\": \\\\\\\\\\\\\"Microsoft.DPrep.GetFilesBlock\\\\\\\\\\\\\", \\\\\\\\\\\\\"arguments\\\\\\\\\\\\\": {\\\\\\\\\\\\\"isArchive\\\\\\\\\\\\\": false, \\\\\\\\\\\\\"path\\\\\\\\\\\\\": {\\\\\\\\\\\\\"target\\\\\\\\\\\\\": 4, \\\\\\\\\\\\\"resourceDetails\\\\\\\\\\\\\": [{\\\\\\\\\\\\\"path\\\\\\\\\\\\\": \\\\\\\\\\\\\"https://raw.githubusercontent.com/Bhosalenileshn/ML-Azure-Udacity-Capstone-Project/main/online_shoppers_intention.csv\\\\\\\\\\\\\"}]}}, \\\\\\\\\\\\\"localData\\\\\\\\\\\\\": {}, \\\\\\\\\\\\\"isEnabled\\\\\\\\\\\\\": true, \\\\\\\\\\\\\"name\\\\\\\\\\\\\": null, \\\\\\\\\\\\\"annotation\\\\\\\\\\\\\": null}, {\\\\\\\\\\\\\"id\\\\\\\\\\\\\": \\\\\\\\\\\\\"d73be2d3-ab39-443a-9daa-c4adc0f7bb2d\\\\\\\\\\\\\", \\\\\\\\\\\\\"type\\\\\\\\\\\\\": \\\\\\\\\\\\\"Microsoft.DPrep.ParseDelimitedBlock\\\\\\\\\\\\\", \\\\\\\\\\\\\"arguments\\\\\\\\\\\\\": {\\\\\\\\\\\\\"columnHeadersMode\\\\\\\\\\\\\": 3, \\\\\\\\\\\\\"fileEncoding\\\\\\\\\\\\\": 0, \\\\\\\\\\\\\"handleQuotedLineBreaks\\\\\\\\\\\\\": false, \\\\\\\\\\\\\"preview\\\\\\\\\\\\\": false, \\\\\\\\\\\\\"separator\\\\\\\\\\\\\": \\\\\\\\\\\\\",\\\\\\\\\\\\\", \\\\\\\\\\\\\"skipRows\\\\\\\\\\\\\": 0, \\\\\\\\\\\\\"skipRowsMode\\\\\\\\\\\\\": 0}, \\\\\\\\\\\\\"localData\\\\\\\\\\\\\": {}, \\\\\\\\\\\\\"isEnabled\\\\\\\\\\\\\": true, \\\\\\\\\\\\\"name\\\\\\\\\\\\\": null, \\\\\\\\\\\\\"annotation\\\\\\\\\\\\\": null}, {\\\\\\\\\\\\\"id\\\\\\\\\\\\\": \\\\\\\\\\\\\"1ce5690d-6ac5-4f5f-9c63-5697ba992fe2\\\\\\\\\\\\\", \\\\\\\\\\\\\"type\\\\\\\\\\\\\": \\\\\\\\\\\\\"Microsoft.DPrep.DropColumnsBlock\\\\\\\\\\\\\", \\\\\\\\\\\\\"arguments\\\\\\\\\\\\\": {\\\\\\\\\\\\\"columns\\\\\\\\\\\\\": {\\\\\\\\\\\\\"type\\\\\\\\\\\\\": 0, \\\\\\\\\\\\\"details\\\\\\\\\\\\\": {\\\\\\\\\\\\\"selectedColumns\\\\\\\\\\\\\": [\\\\\\\\\\\\\"Path\\\\\\\\\\\\\"]}}}, \\\\\\\\\\\\\"localData\\\\\\\\\\\\\": {}, \\\\\\\\\\\\\"isEnabled\\\\\\\\\\\\\": true, \\\\\\\\\\\\\"name\\\\\\\\\\\\\": null, \\\\\\\\\\\\\"annotation\\\\\\\\\\\\\": null}, {\\\\\\\\\\\\\"id\\\\\\\\\\\\\": \\\\\\\\\\\\\"096a5965-d860-4aeb-9b93-391ab5c30a09\\\\\\\\\\\\\", \\\\\\\\\\\\\"type\\\\\\\\\\\\\": \\\\\\\\\\\\\"Microsoft.DPrep.SetColumnTypesBlock\\\\\\\\\\\\\", \\\\\\\\\\\\\"arguments\\\\\\\\\\\\\": {\\\\\\\\\\\\\"columnConversion\\\\\\\\\\\\\": [{\\\\\\\\\\\\\"column\\\\\\\\\\\\\": {\\\\\\\\\\\\\"type\\\\\\\\\\\\\": 2, \\\\\\\\\\\\\"details\\\\\\\\\\\\\": {\\\\\\\\\\\\\"selectedColumn\\\\\\\\\\\\\": \\\\\\\\\\\\\"Administrative\\\\\\\\\\\\\"}}, \\\\\\\\\\\\\"typeProperty\\\\\\\\\\\\\": 2}, {\\\\\\\\\\\\\"column\\\\\\\\\\\\\": {\\\\\\\\\\\\\"type\\\\\\\\\\\\\": 2, \\\\\\\\\\\\\"details\\\\\\\\\\\\\": {\\\\\\\\\\\\\"selectedColumn\\\\\\\\\\\\\": \\\\\\\\\\\\\"Administrative_Duration\\\\\\\\\\\\\"}}, \\\\\\\\\\\\\"typeProperty\\\\\\\\\\\\\": 3}, {\\\\\\\\\\\\\"column\\\\\\\\\\\\\": {\\\\\\\\\\\\\"type\\\\\\\\\\\\\": 2, \\\\\\\\\\\\\"details\\\\\\\\\\\\\": {\\\\\\\\\\\\\"selectedColumn\\\\\\\\\\\\\": \\\\\\\\\\\\\"Informational\\\\\\\\\\\\\"}}, \\\\\\\\\\\\\"typeProperty\\\\\\\\\\\\\": 2}, {\\\\\\\\\\\\\"column\\\\\\\\\\\\\": {\\\\\\\\\\\\\"type\\\\\\\\\\\\\": 2, \\\\\\\\\\\\\"details\\\\\\\\\\\\\": {\\\\\\\\\\\\\"selectedColumn\\\\\\\\\\\\\": \\\\\\\\\\\\\"Informational_Duration\\\\\\\\\\\\\"}}, \\\\\\\\\\\\\"typeProperty\\\\\\\\\\\\\": 3}, {\\\\\\\\\\\\\"column\\\\\\\\\\\\\": {\\\\\\\\\\\\\"type\\\\\\\\\\\\\": 2, \\\\\\\\\\\\\"details\\\\\\\\\\\\\": {\\\\\\\\\\\\\"selectedColumn\\\\\\\\\\\\\": \\\\\\\\\\\\\"ProductRelated\\\\\\\\\\\\\"}}, \\\\\\\\\\\\\"typeProperty\\\\\\\\\\\\\": 2}, {\\\\\\\\\\\\\"column\\\\\\\\\\\\\": {\\\\\\\\\\\\\"type\\\\\\\\\\\\\": 2, \\\\\\\\\\\\\"details\\\\\\\\\\\\\": {\\\\\\\\\\\\\"selectedColumn\\\\\\\\\\\\\": \\\\\\\\\\\\\"ProductRelated_Duration\\\\\\\\\\\\\"}}, \\\\\\\\\\\\\"typeProperty\\\\\\\\\\\\\": 3}, {\\\\\\\\\\\\\"column\\\\\\\\\\\\\": {\\\\\\\\\\\\\"type\\\\\\\\\\\\\": 2, \\\\\\\\\\\\\"details\\\\\\\\\\\\\": {\\\\\\\\\\\\\"selectedColumn\\\\\\\\\\\\\": \\\\\\\\\\\\\"BounceRates\\\\\\\\\\\\\"}}, \\\\\\\\\\\\\"typeProperty\\\\\\\\\\\\\": 3}, {\\\\\\\\\\\\\"column\\\\\\\\\\\\\": {\\\\\\\\\\\\\"type\\\\\\\\\\\\\": 2, \\\\\\\\\\\\\"details\\\\\\\\\\\\\": {\\\\\\\\\\\\\"selectedColumn\\\\\\\\\\\\\": \\\\\\\\\\\\\"ExitRates\\\\\\\\\\\\\"}}, \\\\\\\\\\\\\"typeProperty\\\\\\\\\\\\\": 3}, {\\\\\\\\\\\\\"column\\\\\\\\\\\\\": {\\\\\\\\\\\\\"type\\\\\\\\\\\\\": 2, \\\\\\\\\\\\\"details\\\\\\\\\\\\\": {\\\\\\\\\\\\\"selectedColumn\\\\\\\\\\\\\": \\\\\\\\\\\\\"PageValues\\\\\\\\\\\\\"}}, \\\\\\\\\\\\\"typeProperty\\\\\\\\\\\\\": 3}, {\\\\\\\\\\\\\"column\\\\\\\\\\\\\": {\\\\\\\\\\\\\"type\\\\\\\\\\\\\": 2, \\\\\\\\\\\\\"details\\\\\\\\\\\\\": {\\\\\\\\\\\\\"selectedColumn\\\\\\\\\\\\\": \\\\\\\\\\\\\"SpecialDay\\\\\\\\\\\\\"}}, \\\\\\\\\\\\\"typeProperty\\\\\\\\\\\\\": 3}, {\\\\\\\\\\\\\"column\\\\\\\\\\\\\": {\\\\\\\\\\\\\"type\\\\\\\\\\\\\": 2, \\\\\\\\\\\\\"details\\\\\\\\\\\\\": {\\\\\\\\\\\\\"selectedColumn\\\\\\\\\\\\\": \\\\\\\\\\\\\"Month\\\\\\\\\\\\\"}}, \\\\\\\\\\\\\"typeProperty\\\\\\\\\\\\\": 0}, {\\\\\\\\\\\\\"column\\\\\\\\\\\\\": {\\\\\\\\\\\\\"type\\\\\\\\\\\\\": 2, \\\\\\\\\\\\\"details\\\\\\\\\\\\\": {\\\\\\\\\\\\\"selectedColumn\\\\\\\\\\\\\": \\\\\\\\\\\\\"OperatingSystems\\\\\\\\\\\\\"}}, \\\\\\\\\\\\\"typeProperty\\\\\\\\\\\\\": 2}, {\\\\\\\\\\\\\"column\\\\\\\\\\\\\": {\\\\\\\\\\\\\"type\\\\\\\\\\\\\": 2, \\\\\\\\\\\\\"details\\\\\\\\\\\\\": {\\\\\\\\\\\\\"selectedColumn\\\\\\\\\\\\\": \\\\\\\\\\\\\"Browser\\\\\\\\\\\\\"}}, \\\\\\\\\\\\\"typeProperty\\\\\\\\\\\\\": 2}, {\\\\\\\\\\\\\"column\\\\\\\\\\\\\": {\\\\\\\\\\\\\"type\\\\\\\\\\\\\": 2, \\\\\\\\\\\\\"details\\\\\\\\\\\\\": {\\\\\\\\\\\\\"selectedColumn\\\\\\\\\\\\\": \\\\\\\\\\\\\"Region\\\\\\\\\\\\\"}}, \\\\\\\\\\\\\"typeProperty\\\\\\\\\\\\\": 2}, {\\\\\\\\\\\\\"column\\\\\\\\\\\\\": {\\\\\\\\\\\\\"type\\\\\\\\\\\\\": 2, \\\\\\\\\\\\\"details\\\\\\\\\\\\\": {\\\\\\\\\\\\\"selectedColumn\\\\\\\\\\\\\": \\\\\\\\\\\\\"TrafficType\\\\\\\\\\\\\"}}, \\\\\\\\\\\\\"typeProperty\\\\\\\\\\\\\": 2}, {\\\\\\\\\\\\\"column\\\\\\\\\\\\\": {\\\\\\\\\\\\\"type\\\\\\\\\\\\\": 2, \\\\\\\\\\\\\"details\\\\\\\\\\\\\": {\\\\\\\\\\\\\"selectedColumn\\\\\\\\\\\\\": \\\\\\\\\\\\\"VisitorType\\\\\\\\\\\\\"}}, \\\\\\\\\\\\\"typeProperty\\\\\\\\\\\\\": 0}, {\\\\\\\\\\\\\"column\\\\\\\\\\\\\": {\\\\\\\\\\\\\"type\\\\\\\\\\\\\": 2, \\\\\\\\\\\\\"details\\\\\\\\\\\\\": {\\\\\\\\\\\\\"selectedColumn\\\\\\\\\\\\\": \\\\\\\\\\\\\"Weekend\\\\\\\\\\\\\"}}, \\\\\\\\\\\\\"typeProperty\\\\\\\\\\\\\": 1}, {\\\\\\\\\\\\\"column\\\\\\\\\\\\\": {\\\\\\\\\\\\\"type\\\\\\\\\\\\\": 2, \\\\\\\\\\\\\"details\\\\\\\\\\\\\": {\\\\\\\\\\\\\"selectedColumn\\\\\\\\\\\\\": \\\\\\\\\\\\\"Revenue\\\\\\\\\\\\\"}}, \\\\\\\\\\\\\"typeProperty\\\\\\\\\\\\\": 1}]}, \\\\\\\\\\\\\"localData\\\\\\\\\\\\\": {}, \\\\\\\\\\\\\"isEnabled\\\\\\\\\\\\\": true, \\\\\\\\\\\\\"name\\\\\\\\\\\\\": null, \\\\\\\\\\\\\"annotation\\\\\\\\\\\\\": null}], \\\\\\\\\\\\\"inspectors\\\\\\\\\\\\\": [], \\\\\\\\\\\\\"meta\\\\\\\\\\\\\": {\\\\\\\\\\\\\"savedDatasetId\\\\\\\\\\\\\": \\\\\\\\\\\\\"16aa8d52-b134-4d8a-b9ab-a43659aad40a\\\\\\\\\\\\\", \\\\\\\\\\\\\"datasetType\\\\\\\\\\\\\": \\\\\\\\\\\\\"tabular\\\\\\\\\\\\\", \\\\\\\\\\\\\"subscriptionId\\\\\\\\\\\\\": \\\\\\\\\\\\\"cdbe0b43-92a0-4715-838a-f2648cc7ad21\\\\\\\\\\\\\", \\\\\\\\\\\\\"workspaceId\\\\\\\\\\\\\": \\\\\\\\\\\\\"6e347715-6105-449d-8c09-73ffa95b5ff9\\\\\\\\\\\\\", \\\\\\\\\\\\\"workspaceLocation\\\\\\\\\\\\\": \\\\\\\\\\\\\"southcentralus\\\\\\\\\\\\\"}}\\\\\", \\\\\"activities\\\\\": 0}',\n",
       "  'EnableSubsampling': None,\n",
       "  'runTemplate': 'AutoML',\n",
       "  'azureml.runsource': 'automl',\n",
       "  'display_task_type': 'classification',\n",
       "  'dependencies_versions': '{\"azureml-widgets\": \"1.20.0\", \"azureml-train\": \"1.20.0\", \"azureml-train-restclients-hyperdrive\": \"1.20.0\", \"azureml-train-core\": \"1.20.0\", \"azureml-train-automl\": \"1.20.0\", \"azureml-train-automl-runtime\": \"1.20.0\", \"azureml-train-automl-client\": \"1.20.0\", \"azureml-tensorboard\": \"1.20.0\", \"azureml-telemetry\": \"1.20.0\", \"azureml-sdk\": \"1.20.0\", \"azureml-samples\": \"0+unknown\", \"azureml-pipeline\": \"1.20.0\", \"azureml-pipeline-steps\": \"1.20.0\", \"azureml-pipeline-core\": \"1.20.0\", \"azureml-opendatasets\": \"1.20.0\", \"azureml-model-management-sdk\": \"1.0.1b6.post1\", \"azureml-mlflow\": \"1.20.0.post1\", \"azureml-interpret\": \"1.20.0\", \"azureml-explain-model\": \"1.20.0\", \"azureml-defaults\": \"1.20.0\", \"azureml-dataset-runtime\": \"1.20.0\", \"azureml-dataprep\": \"2.7.3\", \"azureml-dataprep-rslex\": \"1.5.0\", \"azureml-dataprep-native\": \"27.0.0\", \"azureml-datadrift\": \"1.20.0\", \"azureml-core\": \"1.20.0\", \"azureml-contrib-services\": \"1.20.0\", \"azureml-contrib-server\": \"1.20.0\", \"azureml-contrib-reinforcementlearning\": \"1.20.0\", \"azureml-contrib-pipeline-steps\": \"1.20.0\", \"azureml-contrib-notebook\": \"1.20.0\", \"azureml-contrib-interpret\": \"1.20.0\", \"azureml-contrib-gbdt\": \"1.20.0\", \"azureml-contrib-fairness\": \"1.20.0\", \"azureml-contrib-dataset\": \"1.20.0\", \"azureml-cli-common\": \"1.20.0\", \"azureml-automl-runtime\": \"1.20.0\", \"azureml-automl-core\": \"1.20.0\", \"azureml-accel-models\": \"1.20.0\"}',\n",
       "  '_aml_system_scenario_identification': 'Remote.Parent',\n",
       "  'ClientType': 'SDK',\n",
       "  'environment_cpu_name': 'AzureML-AutoML',\n",
       "  'environment_cpu_label': 'prod',\n",
       "  'environment_gpu_name': 'AzureML-AutoML-GPU',\n",
       "  'environment_gpu_label': 'prod',\n",
       "  'root_attribution': 'automl',\n",
       "  'attribution': 'AutoML',\n",
       "  'Orchestrator': 'AutoML',\n",
       "  'CancelUri': 'https://southcentralus.experiments.azureml.net/jasmine/v1.0/subscriptions/cdbe0b43-92a0-4715-838a-f2648cc7ad21/resourceGroups/aml-quickstarts-136929/providers/Microsoft.MachineLearningServices/workspaces/quick-starts-ws-136929/experimentids/b4a9c260-62f3-435c-b3d5-a5b487cb2f62/cancel/AutoML_ab681bdd-9a2e-4342-9e6e-3c96b9d2e191',\n",
       "  'ClientSdkVersion': '1.21.0',\n",
       "  'snapshotId': '00000000-0000-0000-0000-000000000000',\n",
       "  'SetupRunId': 'AutoML_ab681bdd-9a2e-4342-9e6e-3c96b9d2e191_setup',\n",
       "  'SetupRunContainerId': 'dcid.AutoML_ab681bdd-9a2e-4342-9e6e-3c96b9d2e191_setup',\n",
       "  'FeaturizationRunJsonPath': 'featurizer_container.json',\n",
       "  'FeaturizationRunId': 'AutoML_ab681bdd-9a2e-4342-9e6e-3c96b9d2e191_featurize',\n",
       "  'ProblemInfoJsonString': '{\"dataset_num_categorical\": 0, \"is_sparse\": true, \"subsampling\": false, \"dataset_classes\": 2, \"dataset_features\": 74, \"dataset_samples\": 12330, \"single_frequency_class_detected\": false}',\n",
       "  'ModelExplainRunId': 'AutoML_ab681bdd-9a2e-4342-9e6e-3c96b9d2e191_ModelExplain'},\n",
       " 'inputDatasets': [{'dataset': {'id': '16aa8d52-b134-4d8a-b9ab-a43659aad40a'}, 'consumptionDetails': {'type': 'RunInput', 'inputName': 'training_data', 'mechanism': 'Direct'}}],\n",
       " 'outputDatasets': [],\n",
       " 'logFiles': {},\n",
       " 'submittedBy': 'ODL_User 136929'}"
      ]
     },
     "execution_count": 7,
     "metadata": {},
     "output_type": "execute_result"
    }
   ],
   "source": [
    "RunDetails(remote_run).show()\n",
    "remote_run.wait_for_completion(show_output=True)"
   ]
  },
  {
   "cell_type": "markdown",
   "metadata": {},
   "source": [
    "## Best Model\n",
    "\n",
    "TODO: In the cell below, get the best model from the automl experiments and display all the properties of the model.\n",
    "\n"
   ]
  },
  {
   "cell_type": "code",
   "execution_count": 8,
   "metadata": {
    "gather": {
     "logged": 1598431425670
    },
    "jupyter": {
     "outputs_hidden": false,
     "source_hidden": false
    },
    "nteract": {
     "transient": {
      "deleting": false
     }
    }
   },
   "outputs": [
    {
     "name": "stderr",
     "output_type": "stream",
     "text": [
      "WARNING:root:The version of the SDK does not match the version the model was trained on.\n",
      "WARNING:root:The consistency in the result may not be guaranteed.\n",
      "WARNING:root:Package:azureml-automl-core, training version:1.21.0, current version:1.20.0\n",
      "Package:azureml-automl-runtime, training version:1.21.0, current version:1.20.0\n",
      "Package:azureml-core, training version:1.21.0.post1, current version:1.20.0\n",
      "Package:azureml-dataprep, training version:2.8.2, current version:2.7.3\n",
      "Package:azureml-dataprep-native, training version:28.0.0, current version:27.0.0\n",
      "Package:azureml-dataprep-rslex, training version:1.6.0, current version:1.5.0\n",
      "Package:azureml-dataset-runtime, training version:1.21.0, current version:1.20.0\n",
      "Package:azureml-defaults, training version:1.21.0, current version:1.20.0\n",
      "Package:azureml-interpret, training version:1.21.0, current version:1.20.0\n",
      "Package:azureml-pipeline-core, training version:1.21.0, current version:1.20.0\n",
      "Package:azureml-telemetry, training version:1.21.0, current version:1.20.0\n",
      "Package:azureml-train-automl-client, training version:1.21.0, current version:1.20.0\n",
      "Package:azureml-train-automl-runtime, training version:1.21.0, current version:1.20.0\n",
      "WARNING:root:Please ensure the version of your local conda dependencies match the version on which your model was trained in order to properly retrieve your model.\n"
     ]
    },
    {
     "name": "stdout",
     "output_type": "stream",
     "text": [
      "Pipeline(memory=None,\n",
      "         steps=[('datatransformer',\n",
      "                 DataTransformer(enable_dnn=None, enable_feature_sweeping=None,\n",
      "                                 feature_sweeping_config=None,\n",
      "                                 feature_sweeping_timeout=None,\n",
      "                                 featurization_config=None, force_text_dnn=None,\n",
      "                                 is_cross_validation=None,\n",
      "                                 is_onnx_compatible=None, logger=None,\n",
      "                                 observer=None, task=None, working_dir=None)),\n",
      "                ('prefittedsoftvotingclassifier',...\n",
      "                                                                                                    max_samples=None,\n",
      "                                                                                                    min_impurity_decrease=0.0,\n",
      "                                                                                                    min_impurity_split=None,\n",
      "                                                                                                    min_samples_leaf=0.01,\n",
      "                                                                                                    min_samples_split=0.10368421052631578,\n",
      "                                                                                                    min_weight_fraction_leaf=0.0,\n",
      "                                                                                                    n_estimators=25,\n",
      "                                                                                                    n_jobs=1,\n",
      "                                                                                                    oob_score=False,\n",
      "                                                                                                    random_state=None,\n",
      "                                                                                                    verbose=0,\n",
      "                                                                                                    warm_start=False))],\n",
      "                                                                     verbose=False))],\n",
      "                                               flatten_transform=None,\n",
      "                                               weights=[0.125, 0.125, 0.125,\n",
      "                                                        0.125, 0.125, 0.25,\n",
      "                                                        0.125]))],\n",
      "         verbose=False)\n",
      "Y_transformer(['LabelEncoder', LabelEncoder()])\n"
     ]
    }
   ],
   "source": [
    "automl_best_run, fitted_model = remote_run.get_output()\n",
    "print(fitted_model)"
   ]
  },
  {
   "cell_type": "code",
   "execution_count": 15,
   "metadata": {},
   "outputs": [
    {
     "name": "stdout",
     "output_type": "stream",
     "text": [
      "Best Run Id:  AutoML_ab681bdd-9a2e-4342-9e6e-3c96b9d2e191_38\n",
      "\n",
      " Accuracy: 0.9073803730738037\n"
     ]
    }
   ],
   "source": [
    "best_run_metrics = automl_best_run.get_metrics()\n",
    "# parameter_values = best_run.get_details()\n",
    "\n",
    "print('Best Run Id: ', automl_best_run.id)\n",
    "print('\\n Accuracy:', best_run_metrics['accuracy'])"
   ]
  },
  {
   "cell_type": "code",
   "execution_count": 10,
   "metadata": {
    "gather": {
     "logged": 1598431426111
    },
    "jupyter": {
     "outputs_hidden": false,
     "source_hidden": false
    },
    "nteract": {
     "transient": {
      "deleting": false
     }
    }
   },
   "outputs": [],
   "source": [
    "#TODO: Save the best model\n",
    "automl_model = automl_best_run.register_model(model_name='classification_automl',model_path='outputs/')"
   ]
  },
  {
   "cell_type": "code",
   "execution_count": 11,
   "metadata": {},
   "outputs": [],
   "source": [
    "# env = automl_best_run.get_environment()\n",
    "# automl_best_run.download_files?"
   ]
  },
  {
   "cell_type": "code",
   "execution_count": 12,
   "metadata": {},
   "outputs": [
    {
     "name": "stdout",
     "output_type": "stream",
     "text": [
      "Metric name : f1_score_weighted = 0.9029150692014744\n",
      "Metric name : AUC_micro = 0.9691662177388641\n",
      "Metric name : AUC_weighted = 0.9334879129007229\n",
      "Metric name : average_precision_score_weighted = 0.9503074099674711\n",
      "Metric name : f1_score_micro = 0.9073803730738037\n",
      "Metric name : log_loss = 0.25610546516075167\n",
      "Metric name : f1_score_macro = 0.8067900163105252\n",
      "Metric name : weighted_accuracy = 0.9519802326230805\n",
      "Metric name : norm_macro_recall = 0.5636738493207251\n",
      "Metric name : average_precision_score_macro = 0.8697581721871223\n",
      "Metric name : recall_score_micro = 0.9073803730738037\n",
      "Metric name : precision_score_weighted = 0.9017601723422036\n",
      "Metric name : AUC_macro = 0.9334879129007229\n",
      "Metric name : recall_score_weighted = 0.9073803730738037\n",
      "Metric name : recall_score_macro = 0.7818369246603626\n",
      "Metric name : matthews_correlation = 0.6198781571979504\n",
      "Metric name : precision_score_micro = 0.9073803730738037\n",
      "Metric name : accuracy = 0.9073803730738037\n",
      "Metric name : precision_score_macro = 0.840911855316211\n",
      "Metric name : balanced_accuracy = 0.7818369246603626\n",
      "Metric name : average_precision_score_micro = 0.9700800689039183\n",
      "Metric name : confusion_matrix = aml://artifactId/ExperimentRun/dcid.AutoML_ab681bdd-9a2e-4342-9e6e-3c96b9d2e191_38/confusion_matrix\n",
      "Metric name : accuracy_table = aml://artifactId/ExperimentRun/dcid.AutoML_ab681bdd-9a2e-4342-9e6e-3c96b9d2e191_38/accuracy_table\n"
     ]
    }
   ],
   "source": [
    "# automl metrics\n",
    "automl_metrics = automl_best_run.get_metrics()\n",
    "for metric in automl_metrics:\n",
    "    print('Metric name : {} = {}'.format(metric,automl_metrics[metric]))"
   ]
  },
  {
   "cell_type": "code",
   "execution_count": 16,
   "metadata": {},
   "outputs": [
    {
     "name": "stdout",
     "output_type": "stream",
     "text": [
      "Metric name : accuracy = 0.9073803730738037\n"
     ]
    }
   ],
   "source": [
    "# automl metrics\n",
    "#automl_metrics = automl_best_run.get_metrics()\n",
    "print('Metric name : accuracy = {}'.format(automl_metrics['accuracy']))"
   ]
  },
  {
   "cell_type": "code",
   "execution_count": 17,
   "metadata": {},
   "outputs": [],
   "source": [
    "# for model in Model.list(ws):\n",
    "#     print(model.name, 'version:', model.version)\n",
    "#     print(model.properties)"
   ]
  },
  {
   "cell_type": "markdown",
   "metadata": {},
   "source": [
    "## Model Deployment\n",
    "\n",
    "Remember you have to deploy only one of the two models you trained.. Perform the steps in the rest of this notebook only if you wish to deploy this model.\n",
    "\n",
    "TODO: In the cell below, register the model, create an inference config and deploy the model as a web service."
   ]
  },
  {
   "cell_type": "code",
   "execution_count": 18,
   "metadata": {
    "gather": {
     "logged": 1598431435189
    },
    "jupyter": {
     "outputs_hidden": false,
     "source_hidden": false
    },
    "nteract": {
     "transient": {
      "deleting": false
     }
    }
   },
   "outputs": [],
   "source": [
    "# Download scoring file \n",
    "automl_best_run.download_file('outputs/scoring_file_v_1_0_0.py', 'score.py')\n",
    "\n",
    "# Download environment file\n",
    "automl_best_run.download_file('outputs/conda_env_v_1_0_0.yml', 'envFile.yml')\n",
    "automl_best_run.download_file('outputs/env_dependencies.json', 'envDependencies.json')\n"
   ]
  },
  {
   "cell_type": "markdown",
   "metadata": {
    "collapsed": true,
    "gather": {
     "logged": 1598431657736
    },
    "jupyter": {
     "outputs_hidden": false,
     "source_hidden": false
    },
    "nteract": {
     "transient": {
      "deleting": false
     }
    }
   },
   "source": [
    "TODO: In the cell below, send a request to the web service you deployed to test it."
   ]
  },
  {
   "cell_type": "code",
   "execution_count": 19,
   "metadata": {
    "gather": {
     "logged": 1598432707604
    },
    "jupyter": {
     "outputs_hidden": false,
     "source_hidden": false
    },
    "nteract": {
     "transient": {
      "deleting": false
     }
    }
   },
   "outputs": [],
   "source": [
    "# from azureml.core.environment import Environment\n",
    "# from azureml.core.model import InferenceConfig\n",
    "# from azureml.core.webservice import AciWebservice\n",
    "# from azureml.core import Model\n",
    "# #automl_best_run.get_environment()"
   ]
  },
  {
   "cell_type": "code",
   "execution_count": 50,
   "metadata": {},
   "outputs": [
    {
     "name": "stdout",
     "output_type": "stream",
     "text": [
      "Tips: You can try get_logs(): https://aka.ms/debugimage#dockerlog or local deployment: https://aka.ms/debugimage#debug-locally to debug if deployment takes longer than 10 minutes.\n",
      "Running........................................\n",
      "Succeeded\n",
      "ACI service creation operation finished, operation \"Succeeded\"\n",
      "Healthy\n",
      "http://f37b9dd1-1083-468b-8164-16fe9bcc9602.southcentralus.azurecontainer.io/score\n",
      "http://f37b9dd1-1083-468b-8164-16fe9bcc9602.southcentralus.azurecontainer.io/swagger.json\n"
     ]
    }
   ],
   "source": [
    "inference_config = InferenceConfig(entry_script='score.py',\n",
    "                                    environment=automl_best_run.get_environment())\n",
    "\n",
    "deployment_config = AciWebservice.deploy_configuration(cpu_cores = 1, memory_gb = 4,enable_app_insights=True,auth_enabled=True)\n",
    "  \n",
    "service = Model.deploy(ws, \"shopping-intension\", [automl_model], inference_config, deployment_config)\n",
    "\n",
    "service.wait_for_deployment(show_output = True)\n",
    "\n",
    "print(service.state)\n",
    "\n",
    "print(service.scoring_uri)\n",
    "\n",
    "print(service.swagger_uri)"
   ]
  },
  {
   "cell_type": "code",
   "execution_count": 51,
   "metadata": {},
   "outputs": [
    {
     "name": "stdout",
     "output_type": "stream",
     "text": [
      "2021-02-02T14:27:16,106210065+00:00 - iot-server/run \n",
      "2021-02-02T14:27:16,148402693+00:00 - rsyslog/run \n",
      "2021-02-02T14:27:16,150127011+00:00 - gunicorn/run \n",
      "2021-02-02T14:27:16,151725627+00:00 - nginx/run \n",
      "/usr/sbin/nginx: /azureml-envs/azureml_20a8278aa8b20dd48cc50f56a6d2586c/lib/libcrypto.so.1.0.0: no version information available (required by /usr/sbin/nginx)\n",
      "/usr/sbin/nginx: /azureml-envs/azureml_20a8278aa8b20dd48cc50f56a6d2586c/lib/libcrypto.so.1.0.0: no version information available (required by /usr/sbin/nginx)\n",
      "/usr/sbin/nginx: /azureml-envs/azureml_20a8278aa8b20dd48cc50f56a6d2586c/lib/libssl.so.1.0.0: no version information available (required by /usr/sbin/nginx)\n",
      "/usr/sbin/nginx: /azureml-envs/azureml_20a8278aa8b20dd48cc50f56a6d2586c/lib/libssl.so.1.0.0: no version information available (required by /usr/sbin/nginx)\n",
      "/usr/sbin/nginx: /azureml-envs/azureml_20a8278aa8b20dd48cc50f56a6d2586c/lib/libssl.so.1.0.0: no version information available (required by /usr/sbin/nginx)\n",
      "rsyslogd: /azureml-envs/azureml_20a8278aa8b20dd48cc50f56a6d2586c/lib/libuuid.so.1: no version information available (required by rsyslogd)\n",
      "EdgeHubConnectionString and IOTEDGE_IOTHUBHOSTNAME are not set. Exiting...\n",
      "2021-02-02T14:27:16,217855798+00:00 - iot-server/finish 1 0\n",
      "2021-02-02T14:27:16,219272812+00:00 - Exit code 1 is normal. Not restarting iot-server.\n",
      "Starting gunicorn 19.9.0\n",
      "Listening at: http://127.0.0.1:31311 (22)\n",
      "Using worker: sync\n",
      "worker timeout is set to 300\n",
      "Booting worker with pid: 43\n",
      "SPARK_HOME not set. Skipping PySpark Initialization.\n",
      "Generating new fontManager, this may take some time...\n",
      "Initializing logger\n",
      "2021-02-02 14:27:17,423 | root | INFO | Starting up app insights client\n",
      "2021-02-02 14:27:17,423 | root | INFO | Starting up request id generator\n",
      "2021-02-02 14:27:17,423 | root | INFO | Starting up app insight hooks\n",
      "2021-02-02 14:27:17,423 | root | INFO | Invoking user's init function\n",
      "2021-02-02 14:27:20,323 | root | INFO | Users's init has completed successfully\n",
      "2021-02-02 14:27:20,326 | root | INFO | Skipping middleware: dbg_model_info as it's not enabled.\n",
      "2021-02-02 14:27:20,326 | root | INFO | Skipping middleware: dbg_resource_usage as it's not enabled.\n",
      "2021-02-02 14:27:20,327 | root | INFO | Scoring timeout is found from os.environ: 60000 ms\n",
      "2021-02-02 14:27:30,261 | root | INFO | 200\n",
      "127.0.0.1 - - [02/Feb/2021:14:27:30 +0000] \"GET /swagger.json HTTP/1.0\" 200 3258 \"-\" \"Go-http-client/1.1\"\n",
      "2021-02-02 14:27:33,226 | root | INFO | 200\n",
      "127.0.0.1 - - [02/Feb/2021:14:27:33 +0000] \"GET /swagger.json HTTP/1.0\" 200 3258 \"-\" \"Go-http-client/1.1\"\n",
      "\n"
     ]
    }
   ],
   "source": [
    "print(service.get_logs())"
   ]
  },
  {
   "cell_type": "markdown",
   "metadata": {
    "collapsed": true,
    "gather": {
     "logged": 1598432765711
    },
    "jupyter": {
     "outputs_hidden": false,
     "source_hidden": false
    },
    "nteract": {
     "transient": {
      "deleting": false
     }
    }
   },
   "source": [
    "TODO: In the cell below, print the logs of the web service and delete the service"
   ]
  },
  {
   "cell_type": "code",
   "execution_count": 25,
   "metadata": {},
   "outputs": [
    {
     "data": {
      "text/plain": [
       "'azureml-models/classification_automl/1/outputs'"
      ]
     },
     "execution_count": 25,
     "metadata": {},
     "output_type": "execute_result"
    }
   ],
   "source": [
    "Model.get_model_path('classification_automl',_workspace=ws)"
   ]
  },
  {
   "cell_type": "code",
   "execution_count": 26,
   "metadata": {},
   "outputs": [
    {
     "name": "stdout",
     "output_type": "stream",
     "text": [
      "{\"data\": [{\"Administrative\": 6.0, \"Administrative_Duration\": 106.18, \"Informational\": 2.0, \"Informational_Duration\": 115.8, \"ProductRelated\": 32.0, \"ProductRelated_Duration\": 518.4433333, \"BounceRates\": 0.001960784, \"ExitRates\": 0.014215686, \"PageValues\": 0.0, \"SpecialDay\": 0.0, \"Month\": \"Aug\", \"OperatingSystems\": 3, \"Browser\": 2, \"Region\": 6, \"TrafficType\": 4, \"VisitorType\": \"Returning_Visitor\", \"Weekend\": false}, {\"Administrative\": 0.0, \"Administrative_Duration\": 0.0, \"Informational\": 0.0, \"Informational_Duration\": 0.0, \"ProductRelated\": 6.0, \"ProductRelated_Duration\": 75.0, \"BounceRates\": 0.0, \"ExitRates\": 0.016666667, \"PageValues\": 0.0, \"SpecialDay\": 0.0, \"Month\": \"Mar\", \"OperatingSystems\": 1, \"Browser\": 1, \"Region\": 1, \"TrafficType\": 2, \"VisitorType\": \"Returning_Visitor\", \"Weekend\": false}, {\"Administrative\": 3.0, \"Administrative_Duration\": 45.0, \"Informational\": 0.0, \"Informational_Duration\": 0.0, \"ProductRelated\": 42.0, \"ProductRelated_Duration\": 1288.066667, \"BounceRates\": 0.0, \"ExitRates\": 0.007317073, \"PageValues\": 0.0, \"SpecialDay\": 0.0, \"Month\": \"May\", \"OperatingSystems\": 2, \"Browser\": 5, \"Region\": 1, \"TrafficType\": 4, \"VisitorType\": \"Returning_Visitor\", \"Weekend\": false}, {\"Administrative\": 2.0, \"Administrative_Duration\": 6.0, \"Informational\": 0.0, \"Informational_Duration\": 0.0, \"ProductRelated\": 37.0, \"ProductRelated_Duration\": 501.7666667, \"BounceRates\": 0.01025641, \"ExitRates\": 0.020512821, \"PageValues\": 0.0, \"SpecialDay\": 0.0, \"Month\": \"Sep\", \"OperatingSystems\": 2, \"Browser\": 2, \"Region\": 1, \"TrafficType\": 1, \"VisitorType\": \"Returning_Visitor\", \"Weekend\": false}, {\"Administrative\": 0.0, \"Administrative_Duration\": 0.0, \"Informational\": 0.0, \"Informational_Duration\": 0.0, \"ProductRelated\": 1.0, \"ProductRelated_Duration\": 0.0, \"BounceRates\": 0.2, \"ExitRates\": 0.2, \"PageValues\": 0.0, \"SpecialDay\": 0.0, \"Month\": \"Mar\", \"OperatingSystems\": 2, \"Browser\": 2, \"Region\": 1, \"TrafficType\": 1, \"VisitorType\": \"Returning_Visitor\", \"Weekend\": false}, {\"Administrative\": 7.0, \"Administrative_Duration\": 216.4, \"Informational\": 0.0, \"Informational_Duration\": 0.0, \"ProductRelated\": 37.0, \"ProductRelated_Duration\": 825.205, \"BounceRates\": 0.0, \"ExitRates\": 0.004625745, \"PageValues\": 0.0, \"SpecialDay\": 0.0, \"Month\": \"Sep\", \"OperatingSystems\": 2, \"Browser\": 2, \"Region\": 1, \"TrafficType\": 1, \"VisitorType\": \"Returning_Visitor\", \"Weekend\": false}, {\"Administrative\": 8.0, \"Administrative_Duration\": 310.0666667, \"Informational\": 1.0, \"Informational_Duration\": 49.4, \"ProductRelated\": 71.0, \"ProductRelated_Duration\": 1441.974535, \"BounceRates\": 0.003013699, \"ExitRates\": 0.009218133, \"PageValues\": 48.30461627, \"SpecialDay\": 0.0, \"Month\": \"Oct\", \"OperatingSystems\": 1, \"Browser\": 1, \"Region\": 2, \"TrafficType\": 20, \"VisitorType\": \"Returning_Visitor\", \"Weekend\": true}, {\"Administrative\": 0.0, \"Administrative_Duration\": 0.0, \"Informational\": 0.0, \"Informational_Duration\": 0.0, \"ProductRelated\": 12.0, \"ProductRelated_Duration\": 676.25, \"BounceRates\": 0.0, \"ExitRates\": 0.025, \"PageValues\": 0.0, \"SpecialDay\": 0.0, \"Month\": \"Nov\", \"OperatingSystems\": 2, \"Browser\": 4, \"Region\": 1, \"TrafficType\": 6, \"VisitorType\": \"Returning_Visitor\", \"Weekend\": false}, {\"Administrative\": 0.0, \"Administrative_Duration\": 0.0, \"Informational\": 0.0, \"Informational_Duration\": 0.0, \"ProductRelated\": 2.0, \"ProductRelated_Duration\": 0.0, \"BounceRates\": 0.2, \"ExitRates\": 0.2, \"PageValues\": 0.0, \"SpecialDay\": 0.0, \"Month\": \"May\", \"OperatingSystems\": 2, \"Browser\": 2, \"Region\": 6, \"TrafficType\": 1, \"VisitorType\": \"Returning_Visitor\", \"Weekend\": true}, {\"Administrative\": 18.0, \"Administrative_Duration\": 280.95, \"Informational\": 6.0, \"Informational_Duration\": 762.5, \"ProductRelated\": 79.0, \"ProductRelated_Duration\": 2096.911364, \"BounceRates\": 0.003333333, \"ExitRates\": 0.014008551, \"PageValues\": 25.96702005, \"SpecialDay\": 0.0, \"Month\": \"Mar\", \"OperatingSystems\": 2, \"Browser\": 4, \"Region\": 2, \"TrafficType\": 2, \"VisitorType\": \"Returning_Visitor\", \"Weekend\": false}]}\n"
     ]
    }
   ],
   "source": [
    "import json\n",
    "#Creating Test data\n",
    "#Created test data from the original data bytaking first 10 rows\n",
    "test_df = df.sample(10) \n",
    "test_df_label = test_df.pop('Revenue')\n",
    "\n",
    "test_data = json.dumps({'data': test_df.to_dict(orient='records')})\n",
    "\n",
    "print(test_data)"
   ]
  },
  {
   "cell_type": "code",
   "execution_count": 27,
   "metadata": {},
   "outputs": [],
   "source": [
    "# We will send POST request to the deployed service for that we will import the request module\n",
    "import requests \n",
    "key = 'Vne9f4i24JDWVI44LBykFduclWOdoEjS'\n",
    "# Set the content type\n",
    "headers = {'Content-type': 'application/json'}\n",
    "headers['Authorization'] = f'Bearer {key}'\n",
    "response = requests.post(service.scoring_uri, test_data, headers=headers)"
   ]
  },
  {
   "cell_type": "code",
   "execution_count": 28,
   "metadata": {},
   "outputs": [
    {
     "data": {
      "text/plain": [
       "'\"{\\\\\"result\\\\\": [false, false, false, false, false, false, true, false, false, false]}\"'"
      ]
     },
     "execution_count": 28,
     "metadata": {},
     "output_type": "execute_result"
    }
   ],
   "source": [
    "response.text"
   ]
  },
  {
   "cell_type": "code",
   "execution_count": 29,
   "metadata": {},
   "outputs": [
    {
     "data": {
      "text/plain": [
       "[False, False, False, False, False, False, True, False, False, False]"
      ]
     },
     "execution_count": 29,
     "metadata": {},
     "output_type": "execute_result"
    }
   ],
   "source": [
    "test_df_label.to_list()"
   ]
  },
  {
   "cell_type": "code",
   "execution_count": 52,
   "metadata": {},
   "outputs": [],
   "source": [
    "service.delete()\n"
   ]
  },
  {
   "cell_type": "code",
   "execution_count": 53,
   "metadata": {},
   "outputs": [],
   "source": [
    "compute_target.delete()"
   ]
  },
  {
   "cell_type": "markdown",
   "metadata": {},
   "source": [
    "## Onnx Model Retrieving"
   ]
  },
  {
   "cell_type": "code",
   "execution_count": 32,
   "metadata": {},
   "outputs": [],
   "source": [
    "from azureml.automl.runtime.onnx_convert import OnnxConverter"
   ]
  },
  {
   "cell_type": "code",
   "execution_count": 45,
   "metadata": {},
   "outputs": [],
   "source": [
    "best_run_onnx, onnx_mdl = remote_run.get_output(return_onnx_model=True)\n"
   ]
  },
  {
   "cell_type": "code",
   "execution_count": 34,
   "metadata": {},
   "outputs": [],
   "source": [
    "onnx_fl_path = \"./outputs/best_model.onnx\"\n",
    "OnnxConverter.save_onnx_model(onnx_mdl, onnx_fl_path)"
   ]
  },
  {
   "cell_type": "code",
   "execution_count": 35,
   "metadata": {},
   "outputs": [],
   "source": [
    "#TODO: Save the best model\n",
    "automl_onnx_model = best_run_onnx.register_model(model_name='classification_automl_onnx',model_path='outputs/')"
   ]
  },
  {
   "cell_type": "code",
   "execution_count": 47,
   "metadata": {},
   "outputs": [
    {
     "name": "stdout",
     "output_type": "stream",
     "text": [
      "Best Run Id:  AutoML_ab681bdd-9a2e-4342-9e6e-3c96b9d2e191_38\n",
      "\n",
      " Accuracy: 0.9073803730738037\n"
     ]
    }
   ],
   "source": [
    "best_run_metrics_onnx = best_run_onnx.get_metrics()\n",
    "# parameter_values = best_run.get_details()\n",
    "\n",
    "print('Best Run Id: ', best_run_onnx.id)\n",
    "print('\\n Accuracy:', best_run_metrics_onnx['accuracy'])\n",
    "# parameter_values = best_run.get_details()\n",
    "\n"
   ]
  },
  {
   "cell_type": "code",
   "execution_count": null,
   "metadata": {},
   "outputs": [],
   "source": []
  }
 ],
 "metadata": {
  "kernel_info": {
   "name": "python3"
  },
  "kernelspec": {
   "display_name": "Python 3.6 - AzureML",
   "language": "python",
   "name": "python3-azureml"
  },
  "language_info": {
   "codemirror_mode": {
    "name": "ipython",
    "version": 3
   },
   "file_extension": ".py",
   "mimetype": "text/x-python",
   "name": "python",
   "nbconvert_exporter": "python",
   "pygments_lexer": "ipython3",
   "version": "3.6.9"
  },
  "nteract": {
   "version": "nteract-front-end@1.0.0"
  }
 },
 "nbformat": 4,
 "nbformat_minor": 2
}
