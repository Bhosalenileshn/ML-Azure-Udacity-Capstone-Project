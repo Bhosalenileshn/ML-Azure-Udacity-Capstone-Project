{
 "cells": [
  {
   "cell_type": "markdown",
   "metadata": {},
   "source": [
    "# Automated ML\n",
    "\n",
    "TODO: Import Dependencies. In the cell below, import all the dependencies that you will need to complete the project."
   ]
  },
  {
   "cell_type": "code",
   "execution_count": 2,
   "metadata": {},
   "outputs": [],
   "source": [
    "# from azureml.core.workspace import Workspace\n",
    "# from azureml.core import Environment"
   ]
  },
  {
   "cell_type": "code",
   "execution_count": 3,
   "metadata": {},
   "outputs": [],
   "source": [
    "# myenv = Environment.from_conda_specification(name=\"myenv\", file_path=\"envFile.yml\")"
   ]
  },
  {
   "cell_type": "code",
   "execution_count": 2,
   "metadata": {},
   "outputs": [],
   "source": [
    "# !pip uninstall azureml-train-automl-runtime "
   ]
  },
  {
   "cell_type": "code",
   "execution_count": 3,
   "metadata": {},
   "outputs": [],
   "source": [
    "# import azureml.automl.runtime\n",
    "# import azureml.core\n",
    "# import azureml.dataprep\n",
    "# import azureml.dataprep.native\n",
    "# import azureml.dataprep.rslex\n",
    "# import azureml.dataset.runtime\n",
    "# import azureml.defaults\n",
    "# import azureml.interpret\n",
    "# import azureml.pipeline.core\n",
    "# import azureml.telemetry\n",
    "# import azureml.train.automl.client\n",
    "# import azureml.train.automl.runtime"
   ]
  },
  {
   "cell_type": "code",
   "execution_count": 4,
   "metadata": {},
   "outputs": [],
   "source": [
    "# import azureml.train.automl\n",
    "# import azureml.automl.core\n",
    "# import importlib\n",
    "# importlib.reload(azureml.train.automl)\n",
    "# importlib.reload(azureml.automl.core)\n",
    "# importlib.reload(azureml-automl-core==1.20.0)\n",
    "\n",
    "\n",
    "# importlib.reload(azureml-automl-runtime==1.20.0)\n",
    "# importlib.reload(azureml-core==1.20.0)\n",
    "# importlib.reload(azureml-dataprep==2.7.2\n",
    "# importlib.reload(azureml-dataprep-native==27.0).0)\n",
    "# importlib.reload(azureml-dataprep-rslex==1.5.0)\n",
    "# importlib.reload(azureml-dataset-runtime==1.20.0)\n",
    "# importlib.reload(azureml-defaults==1.20.0)\n",
    "# importlib.reload(azureml-interpret==1.20.0)\n",
    "# importlib.reload(azureml-pipeline-core==1.20.0)\n",
    "# importlib.reload(azureml-telemetry==1.20.0)\n",
    "# importlib.reload(azureml-train-automl-client==1.20.0)"
   ]
  },
  {
   "cell_type": "code",
   "execution_count": 5,
   "metadata": {},
   "outputs": [],
   "source": [
    "#!pip install --upgrade azureml-automl-core==1.20.0"
   ]
  },
  {
   "cell_type": "code",
   "execution_count": 1,
   "metadata": {
    "gather": {
     "logged": 1598423888013
    },
    "jupyter": {
     "outputs_hidden": false,
     "source_hidden": false
    },
    "nteract": {
     "transient": {
      "deleting": false
     }
    }
   },
   "outputs": [
    {
     "name": "stdout",
     "output_type": "stream",
     "text": [
      "SDK version: 1.20.0\n"
     ]
    }
   ],
   "source": [
    "import logging\n",
    "import os\n",
    "import csv\n",
    "\n",
    "from matplotlib import pyplot as plt\n",
    "import numpy as np\n",
    "import pandas as pd\n",
    "from sklearn import datasets\n",
    "import pkg_resources\n",
    "\n",
    "import azureml.core\n",
    "from azureml.core.experiment import Experiment\n",
    "from azureml.core.workspace import Workspace\n",
    "from azureml.train.automl import AutoMLConfig\n",
    "from azureml.core.dataset import Dataset\n",
    "\n",
    "from azureml.pipeline.steps import AutoMLStep\n",
    "from azureml.widgets import RunDetails\n",
    "from azureml.core import Workspace, Dataset\n",
    "\n",
    "# Check core SDK version number\n",
    "print(\"SDK version:\", azureml.core.VERSION)\n"
   ]
  },
  {
   "cell_type": "code",
   "execution_count": 5,
   "metadata": {
    "gather": {
     "logged": 1598423890461
    },
    "jupyter": {
     "outputs_hidden": false,
     "source_hidden": false
    },
    "nteract": {
     "transient": {
      "deleting": false
     }
    }
   },
   "outputs": [
    {
     "name": "stdout",
     "output_type": "stream",
     "text": [
      "quick-starts-ws-135691\n",
      "aml-quickstarts-135691\n",
      "southcentralus\n",
      "f5091c60-1c3c-430f-8d81-d802f6bf2414\n"
     ]
    }
   ],
   "source": [
    "ws = Workspace.from_config()\n",
    "\n",
    "# choose a name for experiment\n",
    "experiment_name = 'automl-experiment'\n",
    "project_folder = './pipeline-project'\n",
    "experiment=Experiment(ws, experiment_name)\n",
    "print(ws.name, ws.resource_group, ws.location, ws.subscription_id, sep = '\\n')"
   ]
  },
  {
   "cell_type": "markdown",
   "metadata": {},
   "source": [
    "## Dataset\n",
    "\n",
    "### Overview\n",
    "TODO: In this markdown cell, give an overview of the dataset you are using. Also mention the task you will be performing.\n",
    "\n",
    "\n",
    "TODO: Get data. In the cell below, write code to access the data you will be using in this project. Remember that the dataset needs to be external."
   ]
  },
  {
   "cell_type": "code",
   "execution_count": 35,
   "metadata": {},
   "outputs": [],
   "source": [
    "dataset = Dataset.get_by_name(workspace=ws, name='online_shoppers_intention')\n",
    "df = dataset.to_pandas_dataframe()"
   ]
  },
  {
   "cell_type": "code",
   "execution_count": 7,
   "metadata": {},
   "outputs": [
    {
     "name": "stdout",
     "output_type": "stream",
     "text": [
      "Found existing cluster, use it.\n",
      "Succeeded\n",
      "AmlCompute wait for completion finished\n",
      "\n",
      "Minimum number of nodes requested have been provisioned\n"
     ]
    }
   ],
   "source": [
    "from azureml.core.compute import AmlCompute\n",
    "from azureml.core.compute import ComputeTarget\n",
    "from azureml.core.compute_target import ComputeTargetException\n",
    "\n",
    "# NOTE: update the cluster name to match the existing cluster\n",
    "# Choose a name for your CPU cluster\n",
    "amlcompute_cluster_name = \"project3\"\n",
    "\n",
    "# Verify that cluster does not exist already\n",
    "try:\n",
    "    compute_target = ComputeTarget(workspace=ws, name=amlcompute_cluster_name)\n",
    "    print('Found existing cluster, use it.')\n",
    "except ComputeTargetException:\n",
    "    compute_config = AmlCompute.provisioning_configuration(vm_size='STANDARD_D2_V2',# for GPU, use \"STANDARD_NC6\"\n",
    "                                                           #vm_priority = 'lowpriority', # optional\n",
    "                                                           max_nodes=4)\n",
    "    compute_target = ComputeTarget.create(ws, amlcompute_cluster_name, compute_config)\n",
    "\n",
    "compute_target.wait_for_completion(show_output=True)"
   ]
  },
  {
   "cell_type": "markdown",
   "metadata": {},
   "source": [
    "## AutoML Configuration\n",
    "\n",
    "TODO: Explain why you chose the automl settings and cofiguration you used below."
   ]
  },
  {
   "cell_type": "code",
   "execution_count": 8,
   "metadata": {
    "gather": {
     "logged": 1598429217746
    },
    "jupyter": {
     "outputs_hidden": false,
     "source_hidden": false
    },
    "nteract": {
     "transient": {
      "deleting": false
     }
    }
   },
   "outputs": [],
   "source": [
    "automl_settings = {\n",
    "    \"experiment_timeout_minutes\": 15,\n",
    "    \"max_concurrent_iterations\": 5,\n",
    "    \"primary_metric\" : 'accuracy'\n",
    "}\n",
    "automl_config = AutoMLConfig(compute_target=compute_target,\n",
    "                             task = \"classification\",\n",
    "                             training_data=dataset,\n",
    "                             label_column_name=\"Revenue\",   \n",
    "                             path = project_folder,\n",
    "                             enable_early_stopping= True,\n",
    "                             featurization= 'auto',\n",
    "                             debug_log = \"automl_errors.log\",\n",
    "                             **automl_settings\n",
    "                            )"
   ]
  },
  {
   "cell_type": "code",
   "execution_count": 9,
   "metadata": {
    "gather": {
     "logged": 1598431107951
    },
    "jupyter": {
     "outputs_hidden": false,
     "source_hidden": false
    },
    "nteract": {
     "transient": {
      "deleting": false
     }
    }
   },
   "outputs": [
    {
     "name": "stdout",
     "output_type": "stream",
     "text": [
      "Running on remote.\n",
      "No run_configuration provided, running on project3 with default configuration\n",
      "Running on remote compute: project3\n",
      "Parent Run ID: AutoML_918668b3-b496-4eac-a938-568ba54b9fbc\n",
      "\n",
      "Current status: FeaturesGeneration. Generating features for the dataset.\n",
      "Current status: DatasetFeaturization. Beginning to fit featurizers and featurize the dataset.\n",
      "Current status: DatasetCrossValidationSplit. Generating individually featurized CV splits.\n",
      "Current status: ModelSelection. Beginning model selection.\n",
      "\n",
      "****************************************************************************************************\n",
      "DATA GUARDRAILS: \n",
      "\n",
      "TYPE:         Cross validation\n",
      "STATUS:       DONE\n",
      "DESCRIPTION:  Each iteration of the trained model was validated through cross-validation.\n",
      "              \n",
      "DETAILS:      \n",
      "+---------------------------------+\n",
      "|Number of folds                  |\n",
      "+=================================+\n",
      "|3                                |\n",
      "+---------------------------------+\n",
      "\n",
      "****************************************************************************************************\n",
      "\n",
      "TYPE:         Class balancing detection\n",
      "STATUS:       ALERTED\n",
      "DESCRIPTION:  To decrease model bias, please cancel the current run and fix balancing problem.\n",
      "              Learn more about imbalanced data: https://aka.ms/AutomatedMLImbalancedData\n",
      "DETAILS:      Imbalanced data can lead to a falsely perceived positive effect of a model's accuracy because the input data has bias towards one class.\n",
      "+---------------------------------+---------------------------------+--------------------------------------+\n",
      "|Size of the smallest class       |Name/Label of the smallest class |Number of samples in the training data|\n",
      "+=================================+=================================+======================================+\n",
      "|1908                             |True                             |12330                                 |\n",
      "+---------------------------------+---------------------------------+--------------------------------------+\n",
      "\n",
      "****************************************************************************************************\n",
      "\n",
      "TYPE:         Missing feature values imputation\n",
      "STATUS:       DONE\n",
      "DESCRIPTION:  If the missing values are expected, let the run complete. Otherwise cancel the current run and use a script to customize the handling of missing feature values that may be more appropriate based on the data type and business requirement.\n",
      "              Learn more about missing value imputation: https://aka.ms/AutomatedMLFeaturization\n",
      "DETAILS:      \n",
      "+---------------------------------+---------------------------------+---------------------------------+\n",
      "|Column name                      |Missing value count              |Imputation type                  |\n",
      "+=================================+=================================+=================================+\n",
      "|Administrative                   |14                               |mean                             |\n",
      "|Administrative_Duration          |14                               |mean                             |\n",
      "|Informational                    |14                               |mean                             |\n",
      "|Informational_Duration           |14                               |mean                             |\n",
      "|ProductRelated                   |14                               |mean                             |\n",
      "|ProductRelated_Duration          |14                               |mean                             |\n",
      "|BounceRates                      |14                               |mean                             |\n",
      "|ExitRates                        |14                               |mean                             |\n",
      "+---------------------------------+---------------------------------+---------------------------------+\n",
      "\n",
      "****************************************************************************************************\n",
      "\n",
      "TYPE:         High cardinality feature detection\n",
      "STATUS:       PASSED\n",
      "DESCRIPTION:  Your inputs were analyzed, and no high cardinality features were detected.\n",
      "              Learn more about high cardinality feature handling: https://aka.ms/AutomatedMLFeaturization\n",
      "\n",
      "****************************************************************************************************\n",
      "\n",
      "****************************************************************************************************\n",
      "ITERATION: The iteration being evaluated.\n",
      "PIPELINE: A summary description of the pipeline being evaluated.\n",
      "DURATION: Time taken for the current iteration.\n",
      "METRIC: The result of computing score on the fitted pipeline.\n",
      "BEST: The best observed score thus far.\n",
      "****************************************************************************************************\n",
      "\n",
      " ITERATION   PIPELINE                                       DURATION      METRIC      BEST\n",
      "         2   MaxAbsScaler RandomForest                      0:00:43       0.8533    0.8533\n",
      "         4   MaxAbsScaler RandomForest                      0:00:59       0.8317    0.8533\n",
      "         3   MaxAbsScaler RandomForest                      0:00:42       0.8453    0.8533\n",
      "         0   MaxAbsScaler LightGBM                          0:00:45       0.9002    0.9002\n",
      "         7   SparseNormalizer XGBoostClassifier             0:00:55       0.8981    0.9002\n",
      "         8   SparseNormalizer XGBoostClassifier             0:00:59       0.9016    0.9016\n",
      "         1   MaxAbsScaler XGBoostClassifier                 0:03:30       0.9052    0.9052\n",
      "         5   MaxAbsScaler RandomForest                      0:03:26       0.7891    0.9052\n",
      "         9   MaxAbsScaler RandomForest                      0:00:58       0.8453    0.9052\n",
      "         6   SparseNormalizer XGBoostClassifier             0:03:54       0.9023    0.9052\n",
      "        10   SparseNormalizer LightGBM                      0:00:48       0.9021    0.9052\n",
      "        11   StandardScalerWrapper RandomForest             0:00:46       0.8798    0.9052\n",
      "        12   SparseNormalizer XGBoostClassifier             0:00:44       0.8874    0.9052\n",
      "        13   MaxAbsScaler LogisticRegression                0:00:47       0.8800    0.9052\n",
      "        14   MaxAbsScaler LightGBM                          0:00:53       0.8852    0.9052\n",
      "        15   SparseNormalizer XGBoostClassifier             0:00:58       0.8999    0.9052\n",
      "        16   StandardScalerWrapper LogisticRegression       0:00:44       0.8843    0.9052\n",
      "        17   SparseNormalizer XGBoostClassifier             0:00:49       0.8984    0.9052\n",
      "        18   SparseNormalizer XGBoostClassifier             0:00:46       0.8992    0.9052\n",
      "        19   StandardScalerWrapper XGBoostClassifier        0:00:44       0.9008    0.9052\n",
      "        20   SparseNormalizer GradientBoosting              0:00:41       0.8812    0.9052\n",
      "        21   MaxAbsScaler LightGBM                          0:00:42       0.9049    0.9052\n",
      "        22   MaxAbsScaler LightGBM                          0:00:54       0.9045    0.9052\n",
      "        23   MaxAbsScaler RandomForest                      0:00:55       0.8572    0.9052\n",
      "        24   StandardScalerWrapper LightGBM                 0:00:43       0.9053    0.9053\n",
      "        25   SparseNormalizer XGBoostClassifier             0:00:47       0.8453    0.9053\n",
      "        26   MaxAbsScaler LightGBM                          0:00:43       0.9033    0.9053\n",
      "        27   SparseNormalizer LightGBM                      0:00:47       0.9036    0.9053\n",
      "        28   SparseNormalizer XGBoostClassifier             0:00:53       0.8970    0.9053\n",
      "        29   SparseNormalizer XGBoostClassifier             0:00:45       0.9012    0.9053\n",
      "        30   MaxAbsScaler LightGBM                          0:00:50       0.8453    0.9053\n",
      "        31   SparseNormalizer XGBoostClassifier             0:00:46       0.9015    0.9053\n",
      "        33   SparseNormalizer XGBoostClassifier             0:01:05       0.8991    0.9053\n",
      "        34   SparseNormalizer XGBoostClassifier             0:00:59       0.9012    0.9053\n",
      "        35   SparseNormalizer LightGBM                      0:00:54       0.9010    0.9053\n",
      "        32   SparseNormalizer XGBoostClassifier             0:01:29       0.8969    0.9053\n",
      "        36   SparseNormalizer XGBoostClassifier             0:00:59       0.9007    0.9053\n",
      "        37   SparseNormalizer XGBoostClassifier             0:01:04       0.9011    0.9053\n",
      "        38   SparseNormalizer XGBoostClassifier             0:00:50       0.9025    0.9053\n",
      "        39   SparseNormalizer XGBoostClassifier             0:00:48       0.9001    0.9053\n",
      "        40                                                  0:00:13          nan    0.9053\n",
      "        41                                                  0:00:18          nan    0.9053\n",
      "        42    VotingEnsemble                                0:01:29       0.9083    0.9083\n",
      "        43    StackEnsemble                                 0:01:29       0.9046    0.9083\n"
     ]
    }
   ],
   "source": [
    "# TODO: Submit your experiment\n",
    "remote_run = experiment.submit(automl_config,show_output=True)"
   ]
  },
  {
   "cell_type": "markdown",
   "metadata": {},
   "source": [
    "## Run Details\n",
    "\n",
    "OPTIONAL: Write about the different models trained and their performance. Why do you think some models did better than others?\n",
    "\n",
    "TODO: In the cell below, use the `RunDetails` widget to show the different experiments."
   ]
  },
  {
   "cell_type": "code",
   "execution_count": 10,
   "metadata": {
    "gather": {
     "logged": 1598431121770
    },
    "jupyter": {
     "outputs_hidden": false,
     "source_hidden": false
    },
    "nteract": {
     "transient": {
      "deleting": false
     }
    }
   },
   "outputs": [
    {
     "data": {
      "application/vnd.jupyter.widget-view+json": {
       "model_id": "6faec6a15f5a43b48813990c547d883b",
       "version_major": 2,
       "version_minor": 0
      },
      "text/plain": [
       "_AutoMLWidget(widget_settings={'childWidgetDisplay': 'popup', 'send_telemetry': False, 'log_level': 'INFO', 's…"
      ]
     },
     "metadata": {},
     "output_type": "display_data"
    },
    {
     "data": {
      "application/aml.mini.widget.v1": "{\"status\": \"Completed\", \"workbench_run_details_uri\": \"https://ml.azure.com/experiments/automl-experiment/runs/AutoML_918668b3-b496-4eac-a938-568ba54b9fbc?wsid=/subscriptions/f5091c60-1c3c-430f-8d81-d802f6bf2414/resourcegroups/aml-quickstarts-135691/workspaces/quick-starts-ws-135691\", \"run_id\": \"AutoML_918668b3-b496-4eac-a938-568ba54b9fbc\", \"run_properties\": {\"run_id\": \"AutoML_918668b3-b496-4eac-a938-568ba54b9fbc\", \"created_utc\": \"2021-01-22T11:18:56.303872Z\", \"properties\": {\"num_iterations\": \"1000\", \"training_type\": \"TrainFull\", \"acquisition_function\": \"EI\", \"primary_metric\": \"accuracy\", \"train_split\": \"0\", \"acquisition_parameter\": \"0\", \"num_cross_validation\": null, \"target\": \"project3\", \"AMLSettingsJsonString\": \"{\\\"path\\\":null,\\\"name\\\":\\\"automl-experiment\\\",\\\"subscription_id\\\":\\\"f5091c60-1c3c-430f-8d81-d802f6bf2414\\\",\\\"resource_group\\\":\\\"aml-quickstarts-135691\\\",\\\"workspace_name\\\":\\\"quick-starts-ws-135691\\\",\\\"region\\\":\\\"southcentralus\\\",\\\"compute_target\\\":\\\"project3\\\",\\\"spark_service\\\":null,\\\"azure_service\\\":\\\"remote\\\",\\\"many_models\\\":false,\\\"pipeline_fetch_max_batch_size\\\":1,\\\"iterations\\\":1000,\\\"primary_metric\\\":\\\"accuracy\\\",\\\"task_type\\\":\\\"classification\\\",\\\"data_script\\\":null,\\\"validation_size\\\":0.0,\\\"n_cross_validations\\\":null,\\\"y_min\\\":null,\\\"y_max\\\":null,\\\"num_classes\\\":null,\\\"featurization\\\":\\\"auto\\\",\\\"_ignore_package_version_incompatibilities\\\":false,\\\"is_timeseries\\\":false,\\\"max_cores_per_iteration\\\":1,\\\"max_concurrent_iterations\\\":5,\\\"iteration_timeout_minutes\\\":null,\\\"mem_in_mb\\\":null,\\\"enforce_time_on_windows\\\":false,\\\"experiment_timeout_minutes\\\":15,\\\"experiment_exit_score\\\":null,\\\"whitelist_models\\\":null,\\\"blacklist_algos\\\":[\\\"TensorFlowLinearClassifier\\\",\\\"TensorFlowDNN\\\"],\\\"supported_models\\\":[\\\"GradientBoosting\\\",\\\"ExtremeRandomTrees\\\",\\\"XGBoostClassifier\\\",\\\"MultinomialNaiveBayes\\\",\\\"LightGBM\\\",\\\"TensorFlowLinearClassifier\\\",\\\"SVM\\\",\\\"AveragedPerceptronClassifier\\\",\\\"LogisticRegression\\\",\\\"DecisionTree\\\",\\\"LinearSVM\\\",\\\"BernoulliNaiveBayes\\\",\\\"KNN\\\",\\\"TensorFlowDNN\\\",\\\"SGD\\\",\\\"RandomForest\\\"],\\\"auto_blacklist\\\":true,\\\"blacklist_samples_reached\\\":false,\\\"exclude_nan_labels\\\":true,\\\"verbosity\\\":20,\\\"_debug_log\\\":\\\"azureml_automl.log\\\",\\\"show_warnings\\\":false,\\\"model_explainability\\\":true,\\\"service_url\\\":null,\\\"sdk_url\\\":null,\\\"sdk_packages\\\":null,\\\"enable_onnx_compatible_models\\\":false,\\\"enable_split_onnx_featurizer_estimator_models\\\":false,\\\"vm_type\\\":\\\"STANDARD_D2_V2\\\",\\\"telemetry_verbosity\\\":20,\\\"send_telemetry\\\":true,\\\"enable_dnn\\\":false,\\\"scenario\\\":\\\"SDK-1.13.0\\\",\\\"environment_label\\\":null,\\\"force_text_dnn\\\":false,\\\"enable_feature_sweeping\\\":true,\\\"enable_early_stopping\\\":true,\\\"early_stopping_n_iters\\\":10,\\\"metrics\\\":null,\\\"enable_ensembling\\\":true,\\\"enable_stack_ensembling\\\":true,\\\"ensemble_iterations\\\":15,\\\"enable_tf\\\":false,\\\"enable_subsampling\\\":null,\\\"subsample_seed\\\":null,\\\"enable_nimbusml\\\":false,\\\"enable_streaming\\\":false,\\\"force_streaming\\\":false,\\\"track_child_runs\\\":true,\\\"allowed_private_models\\\":[],\\\"label_column_name\\\":\\\"Revenue\\\",\\\"weight_column_name\\\":null,\\\"cv_split_column_names\\\":null,\\\"enable_local_managed\\\":false,\\\"_local_managed_run_id\\\":null,\\\"cost_mode\\\":1,\\\"lag_length\\\":0,\\\"metric_operation\\\":\\\"maximize\\\",\\\"preprocess\\\":true}\", \"DataPrepJsonString\": \"{\\\\\\\"training_data\\\\\\\": \\\\\\\"{\\\\\\\\\\\\\\\"blocks\\\\\\\\\\\\\\\": [{\\\\\\\\\\\\\\\"id\\\\\\\\\\\\\\\": \\\\\\\\\\\\\\\"7cf00a8d-6851-4df7-9c86-181ab78ba18b\\\\\\\\\\\\\\\", \\\\\\\\\\\\\\\"type\\\\\\\\\\\\\\\": \\\\\\\\\\\\\\\"Microsoft.DPrep.GetFilesBlock\\\\\\\\\\\\\\\", \\\\\\\\\\\\\\\"arguments\\\\\\\\\\\\\\\": {\\\\\\\\\\\\\\\"isArchive\\\\\\\\\\\\\\\": false, \\\\\\\\\\\\\\\"path\\\\\\\\\\\\\\\": {\\\\\\\\\\\\\\\"target\\\\\\\\\\\\\\\": 4, \\\\\\\\\\\\\\\"resourceDetails\\\\\\\\\\\\\\\": [{\\\\\\\\\\\\\\\"path\\\\\\\\\\\\\\\": \\\\\\\\\\\\\\\"https://raw.githubusercontent.com/Bhosalenileshn/ML-Azure-Udacity-Capstone-Project/main/online_shoppers_intention.csv\\\\\\\\\\\\\\\"}]}}, \\\\\\\\\\\\\\\"localData\\\\\\\\\\\\\\\": {}, \\\\\\\\\\\\\\\"isEnabled\\\\\\\\\\\\\\\": true, \\\\\\\\\\\\\\\"name\\\\\\\\\\\\\\\": null, \\\\\\\\\\\\\\\"annotation\\\\\\\\\\\\\\\": null}, {\\\\\\\\\\\\\\\"id\\\\\\\\\\\\\\\": \\\\\\\\\\\\\\\"63b59711-6f95-473d-995b-f6f434869690\\\\\\\\\\\\\\\", \\\\\\\\\\\\\\\"type\\\\\\\\\\\\\\\": \\\\\\\\\\\\\\\"Microsoft.DPrep.ParseDelimitedBlock\\\\\\\\\\\\\\\", \\\\\\\\\\\\\\\"arguments\\\\\\\\\\\\\\\": {\\\\\\\\\\\\\\\"columnHeadersMode\\\\\\\\\\\\\\\": 3, \\\\\\\\\\\\\\\"fileEncoding\\\\\\\\\\\\\\\": 0, \\\\\\\\\\\\\\\"handleQuotedLineBreaks\\\\\\\\\\\\\\\": false, \\\\\\\\\\\\\\\"preview\\\\\\\\\\\\\\\": false, \\\\\\\\\\\\\\\"separator\\\\\\\\\\\\\\\": \\\\\\\\\\\\\\\",\\\\\\\\\\\\\\\", \\\\\\\\\\\\\\\"skipRows\\\\\\\\\\\\\\\": 0, \\\\\\\\\\\\\\\"skipRowsMode\\\\\\\\\\\\\\\": 0}, \\\\\\\\\\\\\\\"localData\\\\\\\\\\\\\\\": {}, \\\\\\\\\\\\\\\"isEnabled\\\\\\\\\\\\\\\": true, \\\\\\\\\\\\\\\"name\\\\\\\\\\\\\\\": null, \\\\\\\\\\\\\\\"annotation\\\\\\\\\\\\\\\": null}, {\\\\\\\\\\\\\\\"id\\\\\\\\\\\\\\\": \\\\\\\\\\\\\\\"46fc4129-d47e-4e58-9c75-cbdaa55392c8\\\\\\\\\\\\\\\", \\\\\\\\\\\\\\\"type\\\\\\\\\\\\\\\": \\\\\\\\\\\\\\\"Microsoft.DPrep.DropColumnsBlock\\\\\\\\\\\\\\\", \\\\\\\\\\\\\\\"arguments\\\\\\\\\\\\\\\": {\\\\\\\\\\\\\\\"columns\\\\\\\\\\\\\\\": {\\\\\\\\\\\\\\\"type\\\\\\\\\\\\\\\": 0, \\\\\\\\\\\\\\\"details\\\\\\\\\\\\\\\": {\\\\\\\\\\\\\\\"selectedColumns\\\\\\\\\\\\\\\": [\\\\\\\\\\\\\\\"Path\\\\\\\\\\\\\\\"]}}}, \\\\\\\\\\\\\\\"localData\\\\\\\\\\\\\\\": {}, \\\\\\\\\\\\\\\"isEnabled\\\\\\\\\\\\\\\": true, \\\\\\\\\\\\\\\"name\\\\\\\\\\\\\\\": null, \\\\\\\\\\\\\\\"annotation\\\\\\\\\\\\\\\": null}, {\\\\\\\\\\\\\\\"id\\\\\\\\\\\\\\\": \\\\\\\\\\\\\\\"4f516f28-933f-48b8-b938-bdc46d93d658\\\\\\\\\\\\\\\", \\\\\\\\\\\\\\\"type\\\\\\\\\\\\\\\": \\\\\\\\\\\\\\\"Microsoft.DPrep.SetColumnTypesBlock\\\\\\\\\\\\\\\", \\\\\\\\\\\\\\\"arguments\\\\\\\\\\\\\\\": {\\\\\\\\\\\\\\\"columnConversion\\\\\\\\\\\\\\\": [{\\\\\\\\\\\\\\\"column\\\\\\\\\\\\\\\": {\\\\\\\\\\\\\\\"type\\\\\\\\\\\\\\\": 2, \\\\\\\\\\\\\\\"details\\\\\\\\\\\\\\\": {\\\\\\\\\\\\\\\"selectedColumn\\\\\\\\\\\\\\\": \\\\\\\\\\\\\\\"Administrative\\\\\\\\\\\\\\\"}}, \\\\\\\\\\\\\\\"typeProperty\\\\\\\\\\\\\\\": 2}, {\\\\\\\\\\\\\\\"column\\\\\\\\\\\\\\\": {\\\\\\\\\\\\\\\"type\\\\\\\\\\\\\\\": 2, \\\\\\\\\\\\\\\"details\\\\\\\\\\\\\\\": {\\\\\\\\\\\\\\\"selectedColumn\\\\\\\\\\\\\\\": \\\\\\\\\\\\\\\"Administrative_Duration\\\\\\\\\\\\\\\"}}, \\\\\\\\\\\\\\\"typeProperty\\\\\\\\\\\\\\\": 3}, {\\\\\\\\\\\\\\\"column\\\\\\\\\\\\\\\": {\\\\\\\\\\\\\\\"type\\\\\\\\\\\\\\\": 2, \\\\\\\\\\\\\\\"details\\\\\\\\\\\\\\\": {\\\\\\\\\\\\\\\"selectedColumn\\\\\\\\\\\\\\\": \\\\\\\\\\\\\\\"Informational\\\\\\\\\\\\\\\"}}, \\\\\\\\\\\\\\\"typeProperty\\\\\\\\\\\\\\\": 2}, {\\\\\\\\\\\\\\\"column\\\\\\\\\\\\\\\": {\\\\\\\\\\\\\\\"type\\\\\\\\\\\\\\\": 2, \\\\\\\\\\\\\\\"details\\\\\\\\\\\\\\\": {\\\\\\\\\\\\\\\"selectedColumn\\\\\\\\\\\\\\\": \\\\\\\\\\\\\\\"Informational_Duration\\\\\\\\\\\\\\\"}}, \\\\\\\\\\\\\\\"typeProperty\\\\\\\\\\\\\\\": 3}, {\\\\\\\\\\\\\\\"column\\\\\\\\\\\\\\\": {\\\\\\\\\\\\\\\"type\\\\\\\\\\\\\\\": 2, \\\\\\\\\\\\\\\"details\\\\\\\\\\\\\\\": {\\\\\\\\\\\\\\\"selectedColumn\\\\\\\\\\\\\\\": \\\\\\\\\\\\\\\"ProductRelated\\\\\\\\\\\\\\\"}}, \\\\\\\\\\\\\\\"typeProperty\\\\\\\\\\\\\\\": 2}, {\\\\\\\\\\\\\\\"column\\\\\\\\\\\\\\\": {\\\\\\\\\\\\\\\"type\\\\\\\\\\\\\\\": 2, \\\\\\\\\\\\\\\"details\\\\\\\\\\\\\\\": {\\\\\\\\\\\\\\\"selectedColumn\\\\\\\\\\\\\\\": \\\\\\\\\\\\\\\"ProductRelated_Duration\\\\\\\\\\\\\\\"}}, \\\\\\\\\\\\\\\"typeProperty\\\\\\\\\\\\\\\": 3}, {\\\\\\\\\\\\\\\"column\\\\\\\\\\\\\\\": {\\\\\\\\\\\\\\\"type\\\\\\\\\\\\\\\": 2, \\\\\\\\\\\\\\\"details\\\\\\\\\\\\\\\": {\\\\\\\\\\\\\\\"selectedColumn\\\\\\\\\\\\\\\": \\\\\\\\\\\\\\\"BounceRates\\\\\\\\\\\\\\\"}}, \\\\\\\\\\\\\\\"typeProperty\\\\\\\\\\\\\\\": 3}, {\\\\\\\\\\\\\\\"column\\\\\\\\\\\\\\\": {\\\\\\\\\\\\\\\"type\\\\\\\\\\\\\\\": 2, \\\\\\\\\\\\\\\"details\\\\\\\\\\\\\\\": {\\\\\\\\\\\\\\\"selectedColumn\\\\\\\\\\\\\\\": \\\\\\\\\\\\\\\"ExitRates\\\\\\\\\\\\\\\"}}, \\\\\\\\\\\\\\\"typeProperty\\\\\\\\\\\\\\\": 3}, {\\\\\\\\\\\\\\\"column\\\\\\\\\\\\\\\": {\\\\\\\\\\\\\\\"type\\\\\\\\\\\\\\\": 2, \\\\\\\\\\\\\\\"details\\\\\\\\\\\\\\\": {\\\\\\\\\\\\\\\"selectedColumn\\\\\\\\\\\\\\\": \\\\\\\\\\\\\\\"PageValues\\\\\\\\\\\\\\\"}}, \\\\\\\\\\\\\\\"typeProperty\\\\\\\\\\\\\\\": 3}, {\\\\\\\\\\\\\\\"column\\\\\\\\\\\\\\\": {\\\\\\\\\\\\\\\"type\\\\\\\\\\\\\\\": 2, \\\\\\\\\\\\\\\"details\\\\\\\\\\\\\\\": {\\\\\\\\\\\\\\\"selectedColumn\\\\\\\\\\\\\\\": \\\\\\\\\\\\\\\"SpecialDay\\\\\\\\\\\\\\\"}}, \\\\\\\\\\\\\\\"typeProperty\\\\\\\\\\\\\\\": 3}, {\\\\\\\\\\\\\\\"column\\\\\\\\\\\\\\\": {\\\\\\\\\\\\\\\"type\\\\\\\\\\\\\\\": 2, \\\\\\\\\\\\\\\"details\\\\\\\\\\\\\\\": {\\\\\\\\\\\\\\\"selectedColumn\\\\\\\\\\\\\\\": \\\\\\\\\\\\\\\"Month\\\\\\\\\\\\\\\"}}, \\\\\\\\\\\\\\\"typeProperty\\\\\\\\\\\\\\\": 0}, {\\\\\\\\\\\\\\\"column\\\\\\\\\\\\\\\": {\\\\\\\\\\\\\\\"type\\\\\\\\\\\\\\\": 2, \\\\\\\\\\\\\\\"details\\\\\\\\\\\\\\\": {\\\\\\\\\\\\\\\"selectedColumn\\\\\\\\\\\\\\\": \\\\\\\\\\\\\\\"OperatingSystems\\\\\\\\\\\\\\\"}}, \\\\\\\\\\\\\\\"typeProperty\\\\\\\\\\\\\\\": 2}, {\\\\\\\\\\\\\\\"column\\\\\\\\\\\\\\\": {\\\\\\\\\\\\\\\"type\\\\\\\\\\\\\\\": 2, \\\\\\\\\\\\\\\"details\\\\\\\\\\\\\\\": {\\\\\\\\\\\\\\\"selectedColumn\\\\\\\\\\\\\\\": \\\\\\\\\\\\\\\"Browser\\\\\\\\\\\\\\\"}}, \\\\\\\\\\\\\\\"typeProperty\\\\\\\\\\\\\\\": 2}, {\\\\\\\\\\\\\\\"column\\\\\\\\\\\\\\\": {\\\\\\\\\\\\\\\"type\\\\\\\\\\\\\\\": 2, \\\\\\\\\\\\\\\"details\\\\\\\\\\\\\\\": {\\\\\\\\\\\\\\\"selectedColumn\\\\\\\\\\\\\\\": \\\\\\\\\\\\\\\"Region\\\\\\\\\\\\\\\"}}, \\\\\\\\\\\\\\\"typeProperty\\\\\\\\\\\\\\\": 2}, {\\\\\\\\\\\\\\\"column\\\\\\\\\\\\\\\": {\\\\\\\\\\\\\\\"type\\\\\\\\\\\\\\\": 2, \\\\\\\\\\\\\\\"details\\\\\\\\\\\\\\\": {\\\\\\\\\\\\\\\"selectedColumn\\\\\\\\\\\\\\\": \\\\\\\\\\\\\\\"TrafficType\\\\\\\\\\\\\\\"}}, \\\\\\\\\\\\\\\"typeProperty\\\\\\\\\\\\\\\": 2}, {\\\\\\\\\\\\\\\"column\\\\\\\\\\\\\\\": {\\\\\\\\\\\\\\\"type\\\\\\\\\\\\\\\": 2, \\\\\\\\\\\\\\\"details\\\\\\\\\\\\\\\": {\\\\\\\\\\\\\\\"selectedColumn\\\\\\\\\\\\\\\": \\\\\\\\\\\\\\\"VisitorType\\\\\\\\\\\\\\\"}}, \\\\\\\\\\\\\\\"typeProperty\\\\\\\\\\\\\\\": 0}, {\\\\\\\\\\\\\\\"column\\\\\\\\\\\\\\\": {\\\\\\\\\\\\\\\"type\\\\\\\\\\\\\\\": 2, \\\\\\\\\\\\\\\"details\\\\\\\\\\\\\\\": {\\\\\\\\\\\\\\\"selectedColumn\\\\\\\\\\\\\\\": \\\\\\\\\\\\\\\"Weekend\\\\\\\\\\\\\\\"}}, \\\\\\\\\\\\\\\"typeProperty\\\\\\\\\\\\\\\": 1}, {\\\\\\\\\\\\\\\"column\\\\\\\\\\\\\\\": {\\\\\\\\\\\\\\\"type\\\\\\\\\\\\\\\": 2, \\\\\\\\\\\\\\\"details\\\\\\\\\\\\\\\": {\\\\\\\\\\\\\\\"selectedColumn\\\\\\\\\\\\\\\": \\\\\\\\\\\\\\\"Revenue\\\\\\\\\\\\\\\"}}, \\\\\\\\\\\\\\\"typeProperty\\\\\\\\\\\\\\\": 1}]}, \\\\\\\\\\\\\\\"localData\\\\\\\\\\\\\\\": {}, \\\\\\\\\\\\\\\"isEnabled\\\\\\\\\\\\\\\": true, \\\\\\\\\\\\\\\"name\\\\\\\\\\\\\\\": null, \\\\\\\\\\\\\\\"annotation\\\\\\\\\\\\\\\": null}], \\\\\\\\\\\\\\\"inspectors\\\\\\\\\\\\\\\": [], \\\\\\\\\\\\\\\"meta\\\\\\\\\\\\\\\": {\\\\\\\\\\\\\\\"savedDatasetId\\\\\\\\\\\\\\\": \\\\\\\\\\\\\\\"9061b872-7291-45da-8113-c3826884f98b\\\\\\\\\\\\\\\", \\\\\\\\\\\\\\\"datasetType\\\\\\\\\\\\\\\": \\\\\\\\\\\\\\\"tabular\\\\\\\\\\\\\\\", \\\\\\\\\\\\\\\"subscriptionId\\\\\\\\\\\\\\\": \\\\\\\\\\\\\\\"f5091c60-1c3c-430f-8d81-d802f6bf2414\\\\\\\\\\\\\\\", \\\\\\\\\\\\\\\"workspaceId\\\\\\\\\\\\\\\": \\\\\\\\\\\\\\\"d865f395-57a8-4df9-9fdc-15c5cdc80f5e\\\\\\\\\\\\\\\", \\\\\\\\\\\\\\\"workspaceLocation\\\\\\\\\\\\\\\": \\\\\\\\\\\\\\\"southcentralus\\\\\\\\\\\\\\\"}}\\\\\\\", \\\\\\\"activities\\\\\\\": 0}\", \"EnableSubsampling\": null, \"runTemplate\": \"AutoML\", \"azureml.runsource\": \"automl\", \"display_task_type\": \"classification\", \"dependencies_versions\": \"{\\\"azureml-widgets\\\": \\\"1.19.0\\\", \\\"azureml-train\\\": \\\"1.19.0\\\", \\\"azureml-train-restclients-hyperdrive\\\": \\\"1.19.0\\\", \\\"azureml-train-core\\\": \\\"1.19.0\\\", \\\"azureml-train-automl\\\": \\\"1.19.0\\\", \\\"azureml-train-automl-runtime\\\": \\\"1.20.0\\\", \\\"azureml-train-automl-client\\\": \\\"1.20.0\\\", \\\"azureml-tensorboard\\\": \\\"1.19.0\\\", \\\"azureml-telemetry\\\": \\\"1.20.0\\\", \\\"azureml-sdk\\\": \\\"1.19.0\\\", \\\"azureml-samples\\\": \\\"0+unknown\\\", \\\"azureml-pipeline\\\": \\\"1.19.0\\\", \\\"azureml-pipeline-steps\\\": \\\"1.19.0\\\", \\\"azureml-pipeline-core\\\": \\\"1.20.0\\\", \\\"azureml-opendatasets\\\": \\\"1.19.0\\\", \\\"azureml-model-management-sdk\\\": \\\"1.0.1b6.post1\\\", \\\"azureml-mlflow\\\": \\\"1.19.0\\\", \\\"azureml-interpret\\\": \\\"1.20.0\\\", \\\"azureml-explain-model\\\": \\\"1.19.0\\\", \\\"azureml-defaults\\\": \\\"1.20.0\\\", \\\"azureml-dataset-runtime\\\": \\\"1.20.0\\\", \\\"azureml-dataprep\\\": \\\"2.7.2\\\", \\\"azureml-dataprep-rslex\\\": \\\"1.5.0\\\", \\\"azureml-dataprep-native\\\": \\\"27.0.0\\\", \\\"azureml-datadrift\\\": \\\"1.19.0\\\", \\\"azureml-core\\\": \\\"1.20.0\\\", \\\"azureml-contrib-services\\\": \\\"1.19.0\\\", \\\"azureml-contrib-server\\\": \\\"1.19.0\\\", \\\"azureml-contrib-reinforcementlearning\\\": \\\"1.19.0\\\", \\\"azureml-contrib-pipeline-steps\\\": \\\"1.19.0\\\", \\\"azureml-contrib-notebook\\\": \\\"1.19.0\\\", \\\"azureml-contrib-interpret\\\": \\\"1.19.0\\\", \\\"azureml-contrib-gbdt\\\": \\\"1.19.0\\\", \\\"azureml-contrib-fairness\\\": \\\"1.19.0\\\", \\\"azureml-contrib-dataset\\\": \\\"1.19.0\\\", \\\"azureml-cli-common\\\": \\\"1.19.0\\\", \\\"azureml-automl-runtime\\\": \\\"1.20.0\\\", \\\"azureml-automl-core\\\": \\\"1.20.0\\\", \\\"azureml-accel-models\\\": \\\"1.19.0\\\"}\", \"_aml_system_scenario_identification\": \"Remote.Parent\", \"ClientType\": \"SDK\", \"environment_cpu_name\": \"AzureML-AutoML\", \"environment_cpu_label\": \"prod\", \"environment_gpu_name\": \"AzureML-AutoML-GPU\", \"environment_gpu_label\": \"prod\", \"root_attribution\": \"automl\", \"attribution\": \"AutoML\", \"Orchestrator\": \"AutoML\", \"CancelUri\": \"https://southcentralus.experiments.azureml.net/jasmine/v1.0/subscriptions/f5091c60-1c3c-430f-8d81-d802f6bf2414/resourceGroups/aml-quickstarts-135691/providers/Microsoft.MachineLearningServices/workspaces/quick-starts-ws-135691/experimentids/0177a2a5-9aab-4c18-9759-3dbc918eb7e5/cancel/AutoML_918668b3-b496-4eac-a938-568ba54b9fbc\", \"ClientSdkVersion\": \"1.20.0\", \"snapshotId\": \"00000000-0000-0000-0000-000000000000\", \"SetupRunId\": \"AutoML_918668b3-b496-4eac-a938-568ba54b9fbc_setup\", \"SetupRunContainerId\": \"dcid.AutoML_918668b3-b496-4eac-a938-568ba54b9fbc_setup\", \"FeaturizationRunJsonPath\": \"featurizer_container.json\", \"FeaturizationRunId\": \"AutoML_918668b3-b496-4eac-a938-568ba54b9fbc_featurize\", \"ProblemInfoJsonString\": \"{\\\"dataset_num_categorical\\\": 0, \\\"is_sparse\\\": true, \\\"subsampling\\\": false, \\\"dataset_classes\\\": 2, \\\"dataset_features\\\": 74, \\\"dataset_samples\\\": 12330, \\\"single_frequency_class_detected\\\": false}\", \"ModelExplainRunId\": \"AutoML_918668b3-b496-4eac-a938-568ba54b9fbc_ModelExplain\"}, \"tags\": {\"model_explain_run\": \"best_run\", \"_aml_system_azureml.automlComponent\": \"AutoML\", \"pipeline_id\": \"\", \"score\": \"\", \"predicted_cost\": \"\", \"fit_time\": \"\", \"training_percent\": \"\", \"iteration\": \"\", \"run_preprocessor\": \"\", \"run_algorithm\": \"\", \"dynamic_whitelisting_iterations\": \"<25>;<30>;<35>;<40>;\", \"automl_best_child_run_id\": \"AutoML_918668b3-b496-4eac-a938-568ba54b9fbc_42\", \"model_explain_best_run_child_id\": \"AutoML_918668b3-b496-4eac-a938-568ba54b9fbc_42\"}, \"end_time_utc\": \"2021-01-22T11:45:52.495796Z\", \"status\": \"Completed\", \"log_files\": {}, \"log_groups\": [], \"run_duration\": \"0:26:56\"}, \"child_runs\": [{\"run_id\": \"AutoML_918668b3-b496-4eac-a938-568ba54b9fbc_0\", \"run_number\": 5, \"metric\": null, \"status\": \"Completed\", \"run_type\": \"azureml.scriptrun\", \"training_percent\": \"100\", \"start_time\": \"2021-01-22T11:32:46.001972Z\", \"end_time\": \"2021-01-22T11:33:30.71116Z\", \"created_time\": \"2021-01-22T11:29:58.993767Z\", \"created_time_dt\": \"2021-01-22T11:29:58.993767Z\", \"duration\": \"0:03:31\", \"iteration\": \"0\", \"goal\": \"accuracy_max\", \"run_name\": \"MaxAbsScaler, LightGBM\", \"run_properties\": \"copy=True\", \"primary_metric\": 0.90016221, \"best_metric\": 0.90016221}, {\"run_id\": \"AutoML_918668b3-b496-4eac-a938-568ba54b9fbc_4\", \"run_number\": 6, \"metric\": null, \"status\": \"Completed\", \"run_type\": \"azureml.scriptrun\", \"training_percent\": \"100\", \"start_time\": \"2021-01-22T11:30:53.583111Z\", \"end_time\": \"2021-01-22T11:31:52.245676Z\", \"created_time\": \"2021-01-22T11:29:59.098129Z\", \"created_time_dt\": \"2021-01-22T11:29:59.098129Z\", \"duration\": \"0:01:53\", \"iteration\": \"4\", \"goal\": \"accuracy_max\", \"run_name\": \"MaxAbsScaler, RandomForest\", \"run_properties\": \"copy=True\", \"primary_metric\": 0.83171127, \"best_metric\": 0.90519059}, {\"run_id\": \"AutoML_918668b3-b496-4eac-a938-568ba54b9fbc_3\", \"run_number\": 7, \"metric\": null, \"status\": \"Completed\", \"run_type\": \"azureml.scriptrun\", \"training_percent\": \"100\", \"start_time\": \"2021-01-22T11:31:59.76874Z\", \"end_time\": \"2021-01-22T11:32:41.300237Z\", \"created_time\": \"2021-01-22T11:29:59.098825Z\", \"created_time_dt\": \"2021-01-22T11:29:59.098825Z\", \"duration\": \"0:02:42\", \"iteration\": \"3\", \"goal\": \"accuracy_max\", \"run_name\": \"MaxAbsScaler, RandomForest\", \"run_properties\": \"copy=True\", \"primary_metric\": 0.84525547, \"best_metric\": 0.90519059}, {\"run_id\": \"AutoML_918668b3-b496-4eac-a938-568ba54b9fbc_2\", \"run_number\": 8, \"metric\": null, \"status\": \"Completed\", \"run_type\": \"azureml.scriptrun\", \"training_percent\": \"100\", \"start_time\": \"2021-01-22T11:30:10.237217Z\", \"end_time\": \"2021-01-22T11:30:53.382817Z\", \"created_time\": \"2021-01-22T11:29:59.116284Z\", \"created_time_dt\": \"2021-01-22T11:29:59.116284Z\", \"duration\": \"0:00:54\", \"iteration\": \"2\", \"goal\": \"accuracy_max\", \"run_name\": \"MaxAbsScaler, RandomForest\", \"run_properties\": \"copy=True\", \"primary_metric\": 0.85328467, \"best_metric\": 0.90519059}, {\"run_id\": \"AutoML_918668b3-b496-4eac-a938-568ba54b9fbc_1\", \"run_number\": 9, \"metric\": null, \"status\": \"Completed\", \"run_type\": \"azureml.scriptrun\", \"training_percent\": \"100\", \"start_time\": \"2021-01-22T11:32:54.18405Z\", \"end_time\": \"2021-01-22T11:36:23.999301Z\", \"created_time\": \"2021-01-22T11:29:59.146416Z\", \"created_time_dt\": \"2021-01-22T11:29:59.146416Z\", \"duration\": \"0:06:24\", \"iteration\": \"1\", \"goal\": \"accuracy_max\", \"run_name\": \"MaxAbsScaler, XGBoostClassifier\", \"run_properties\": \"copy=True\", \"primary_metric\": 0.90519059, \"best_metric\": 0.90519059}, {\"run_id\": \"AutoML_918668b3-b496-4eac-a938-568ba54b9fbc_5\", \"run_number\": 10, \"metric\": null, \"status\": \"Completed\", \"run_type\": \"azureml.scriptrun\", \"training_percent\": \"100\", \"start_time\": \"2021-01-22T11:32:56.881153Z\", \"end_time\": \"2021-01-22T11:36:23.110252Z\", \"created_time\": \"2021-01-22T11:30:57.286145Z\", \"created_time_dt\": \"2021-01-22T11:30:57.286145Z\", \"duration\": \"0:05:25\", \"iteration\": \"5\", \"goal\": \"accuracy_max\", \"run_name\": \"MaxAbsScaler, RandomForest\", \"run_properties\": \"copy=True\", \"primary_metric\": 0.78905109, \"best_metric\": 0.90519059}, {\"run_id\": \"AutoML_918668b3-b496-4eac-a938-568ba54b9fbc_6\", \"run_number\": 11, \"metric\": null, \"status\": \"Completed\", \"run_type\": \"azureml.scriptrun\", \"training_percent\": \"100\", \"start_time\": \"2021-01-22T11:32:58.217945Z\", \"end_time\": \"2021-01-22T11:36:52.43069Z\", \"created_time\": \"2021-01-22T11:32:26.518323Z\", \"created_time_dt\": \"2021-01-22T11:32:26.518323Z\", \"duration\": \"0:04:25\", \"iteration\": \"6\", \"goal\": \"accuracy_max\", \"run_name\": \"SparseNormalizer, XGBoostClassifier\", \"run_properties\": \"<azureml.automl.runtime.shared.model_wrappers.SparseNormalizer object at 0x7fbf9c23ef60\", \"primary_metric\": 0.90227088, \"best_metric\": 0.90519059}, {\"run_id\": \"AutoML_918668b3-b496-4eac-a938-568ba54b9fbc_7\", \"run_number\": 12, \"metric\": null, \"status\": \"Completed\", \"run_type\": \"azureml.scriptrun\", \"training_percent\": \"100\", \"start_time\": \"2021-01-22T11:33:31.097346Z\", \"end_time\": \"2021-01-22T11:34:25.774117Z\", \"created_time\": \"2021-01-22T11:32:43.745645Z\", \"created_time_dt\": \"2021-01-22T11:32:43.745645Z\", \"duration\": \"0:01:42\", \"iteration\": \"7\", \"goal\": \"accuracy_max\", \"run_name\": \"SparseNormalizer, XGBoostClassifier\", \"run_properties\": \"<azureml.automl.runtime.shared.model_wrappers.SparseNormalizer object at 0x7f403e67ef98\", \"primary_metric\": 0.89805353, \"best_metric\": 0.90519059}, {\"run_id\": \"AutoML_918668b3-b496-4eac-a938-568ba54b9fbc_8\", \"run_number\": 13, \"metric\": null, \"status\": \"Completed\", \"run_type\": \"azureml.scriptrun\", \"training_percent\": \"100\", \"start_time\": \"2021-01-22T11:34:29.739553Z\", \"end_time\": \"2021-01-22T11:35:29.10378Z\", \"created_time\": \"2021-01-22T11:33:34.141698Z\", \"created_time_dt\": \"2021-01-22T11:33:34.141698Z\", \"duration\": \"0:01:54\", \"iteration\": \"8\", \"goal\": \"accuracy_max\", \"run_name\": \"SparseNormalizer, XGBoostClassifier\", \"run_properties\": \"<azureml.automl.runtime.shared.model_wrappers.SparseNormalizer object at 0x7f65f6da2208\", \"primary_metric\": 0.90162206, \"best_metric\": 0.90519059}, {\"run_id\": \"AutoML_918668b3-b496-4eac-a938-568ba54b9fbc_9\", \"run_number\": 14, \"metric\": null, \"status\": \"Completed\", \"run_type\": \"azureml.scriptrun\", \"training_percent\": \"100\", \"start_time\": \"2021-01-22T11:35:30.887207Z\", \"end_time\": \"2021-01-22T11:36:28.864136Z\", \"created_time\": \"2021-01-22T11:34:28.168298Z\", \"created_time_dt\": \"2021-01-22T11:34:28.168298Z\", \"duration\": \"0:02:00\", \"iteration\": \"9\", \"goal\": \"accuracy_max\", \"run_name\": \"MaxAbsScaler, RandomForest\", \"run_properties\": \"copy=True\", \"primary_metric\": 0.84525547, \"best_metric\": 0.90519059}, {\"run_id\": \"AutoML_918668b3-b496-4eac-a938-568ba54b9fbc_10\", \"run_number\": 15, \"metric\": null, \"status\": \"Completed\", \"run_type\": \"azureml.scriptrun\", \"training_percent\": \"100\", \"start_time\": \"2021-01-22T11:36:22.914061Z\", \"end_time\": \"2021-01-22T11:37:10.462354Z\", \"created_time\": \"2021-01-22T11:35:31.548537Z\", \"created_time_dt\": \"2021-01-22T11:35:31.548537Z\", \"duration\": \"0:01:38\", \"iteration\": \"10\", \"goal\": \"accuracy_max\", \"run_name\": \"SparseNormalizer, LightGBM\", \"run_properties\": \"<azureml.automl.runtime.shared.model_wrappers.SparseNormalizer object at 0x7f9ec26ec400\", \"primary_metric\": 0.90210868, \"best_metric\": 0.90519059}, {\"run_id\": \"AutoML_918668b3-b496-4eac-a938-568ba54b9fbc_11\", \"run_number\": 16, \"metric\": null, \"status\": \"Completed\", \"run_type\": \"azureml.scriptrun\", \"training_percent\": \"100\", \"start_time\": \"2021-01-22T11:36:39.027404Z\", \"end_time\": \"2021-01-22T11:37:25.023301Z\", \"created_time\": \"2021-01-22T11:36:26.03744Z\", \"created_time_dt\": \"2021-01-22T11:36:26.03744Z\", \"duration\": \"0:00:58\", \"iteration\": \"11\", \"goal\": \"accuracy_max\", \"run_name\": \"StandardScalerWrapper, RandomForest\", \"run_properties\": \"<azureml.automl.runtime.shared.model_wrappers.StandardScalerWrapper object at 0x7f764032ed30\", \"primary_metric\": 0.87980535, \"best_metric\": 0.90519059}, {\"run_id\": \"AutoML_918668b3-b496-4eac-a938-568ba54b9fbc_12\", \"run_number\": 17, \"metric\": null, \"status\": \"Completed\", \"run_type\": \"azureml.scriptrun\", \"training_percent\": \"100\", \"start_time\": \"2021-01-22T11:36:38.132601Z\", \"end_time\": \"2021-01-22T11:37:21.795Z\", \"created_time\": \"2021-01-22T11:36:26.215353Z\", \"created_time_dt\": \"2021-01-22T11:36:26.215353Z\", \"duration\": \"0:00:55\", \"iteration\": \"12\", \"goal\": \"accuracy_max\", \"run_name\": \"SparseNormalizer, XGBoostClassifier\", \"run_properties\": \"<azureml.automl.runtime.shared.model_wrappers.SparseNormalizer object at 0x7fbd714679b0\", \"primary_metric\": 0.88742903, \"best_metric\": 0.90519059}, {\"run_id\": \"AutoML_918668b3-b496-4eac-a938-568ba54b9fbc_13\", \"run_number\": 18, \"metric\": null, \"status\": \"Completed\", \"run_type\": \"azureml.scriptrun\", \"training_percent\": \"100\", \"start_time\": \"2021-01-22T11:36:52.205963Z\", \"end_time\": \"2021-01-22T11:37:39.611587Z\", \"created_time\": \"2021-01-22T11:36:31.710648Z\", \"created_time_dt\": \"2021-01-22T11:36:31.710648Z\", \"duration\": \"0:01:07\", \"iteration\": \"13\", \"goal\": \"accuracy_max\", \"run_name\": \"MaxAbsScaler, LogisticRegression\", \"run_properties\": \"copy=True\", \"primary_metric\": 0.88004866, \"best_metric\": 0.90519059}, {\"run_id\": \"AutoML_918668b3-b496-4eac-a938-568ba54b9fbc_14\", \"run_number\": 19, \"metric\": null, \"status\": \"Completed\", \"run_type\": \"azureml.scriptrun\", \"training_percent\": \"100\", \"start_time\": \"2021-01-22T11:37:11.876885Z\", \"end_time\": \"2021-01-22T11:38:04.451781Z\", \"created_time\": \"2021-01-22T11:36:55.384498Z\", \"created_time_dt\": \"2021-01-22T11:36:55.384498Z\", \"duration\": \"0:01:09\", \"iteration\": \"14\", \"goal\": \"accuracy_max\", \"run_name\": \"MaxAbsScaler, LightGBM\", \"run_properties\": \"copy=True\", \"primary_metric\": 0.88523925, \"best_metric\": 0.90519059}, {\"run_id\": \"AutoML_918668b3-b496-4eac-a938-568ba54b9fbc_15\", \"run_number\": 20, \"metric\": null, \"status\": \"Completed\", \"run_type\": \"azureml.scriptrun\", \"training_percent\": \"100\", \"start_time\": \"2021-01-22T11:37:26.08796Z\", \"end_time\": \"2021-01-22T11:38:23.634253Z\", \"created_time\": \"2021-01-22T11:37:13.76291Z\", \"created_time_dt\": \"2021-01-22T11:37:13.76291Z\", \"duration\": \"0:01:09\", \"iteration\": \"15\", \"goal\": \"accuracy_max\", \"run_name\": \"SparseNormalizer, XGBoostClassifier\", \"run_properties\": \"<azureml.automl.runtime.shared.model_wrappers.SparseNormalizer object at 0x7fe3144eadd8\", \"primary_metric\": 0.8999189, \"best_metric\": 0.90519059}, {\"run_id\": \"AutoML_918668b3-b496-4eac-a938-568ba54b9fbc_16\", \"run_number\": 21, \"metric\": null, \"status\": \"Completed\", \"run_type\": \"azureml.scriptrun\", \"training_percent\": \"100\", \"start_time\": \"2021-01-22T11:37:36.406536Z\", \"end_time\": \"2021-01-22T11:38:20.781259Z\", \"created_time\": \"2021-01-22T11:37:24.640303Z\", \"created_time_dt\": \"2021-01-22T11:37:24.640303Z\", \"duration\": \"0:00:56\", \"iteration\": \"16\", \"goal\": \"accuracy_max\", \"run_name\": \"StandardScalerWrapper, LogisticRegression\", \"run_properties\": \"<azureml.automl.runtime.shared.model_wrappers.StandardScalerWrapper object at 0x7f47d9447470\", \"primary_metric\": 0.88426602, \"best_metric\": 0.90519059}, {\"run_id\": \"AutoML_918668b3-b496-4eac-a938-568ba54b9fbc_17\", \"run_number\": 22, \"metric\": null, \"status\": \"Completed\", \"run_type\": \"azureml.scriptrun\", \"training_percent\": \"100\", \"start_time\": \"2021-01-22T11:37:45.940117Z\", \"end_time\": \"2021-01-22T11:38:35.137542Z\", \"created_time\": \"2021-01-22T11:37:29.442517Z\", \"created_time_dt\": \"2021-01-22T11:37:29.442517Z\", \"duration\": \"0:01:05\", \"iteration\": \"17\", \"goal\": \"accuracy_max\", \"run_name\": \"SparseNormalizer, XGBoostClassifier\", \"run_properties\": \"<azureml.automl.runtime.shared.model_wrappers.SparseNormalizer object at 0x7f5cf5ee4710\", \"primary_metric\": 0.89837794, \"best_metric\": 0.90519059}, {\"run_id\": \"AutoML_918668b3-b496-4eac-a938-568ba54b9fbc_18\", \"run_number\": 23, \"metric\": null, \"status\": \"Completed\", \"run_type\": \"azureml.scriptrun\", \"training_percent\": \"100\", \"start_time\": \"2021-01-22T11:38:08.643085Z\", \"end_time\": \"2021-01-22T11:38:54.471355Z\", \"created_time\": \"2021-01-22T11:37:42.604403Z\", \"created_time_dt\": \"2021-01-22T11:37:42.604403Z\", \"duration\": \"0:01:11\", \"iteration\": \"18\", \"goal\": \"accuracy_max\", \"run_name\": \"SparseNormalizer, XGBoostClassifier\", \"run_properties\": \"<azureml.automl.runtime.shared.model_wrappers.SparseNormalizer object at 0x7efead3a6c88\", \"primary_metric\": 0.89918897, \"best_metric\": 0.90519059}, {\"run_id\": \"AutoML_918668b3-b496-4eac-a938-568ba54b9fbc_19\", \"run_number\": 24, \"metric\": null, \"status\": \"Completed\", \"run_type\": \"azureml.scriptrun\", \"training_percent\": \"100\", \"start_time\": \"2021-01-22T11:38:24.446317Z\", \"end_time\": \"2021-01-22T11:39:08.583109Z\", \"created_time\": \"2021-01-22T11:38:07.290471Z\", \"created_time_dt\": \"2021-01-22T11:38:07.290471Z\", \"duration\": \"0:01:01\", \"iteration\": \"19\", \"goal\": \"accuracy_max\", \"run_name\": \"StandardScalerWrapper, XGBoostClassifier\", \"run_properties\": \"<azureml.automl.runtime.shared.model_wrappers.StandardScalerWrapper object at 0x7f91d1952a58\", \"primary_metric\": 0.90081103, \"best_metric\": 0.90519059}, {\"run_id\": \"AutoML_918668b3-b496-4eac-a938-568ba54b9fbc_20\", \"run_number\": 25, \"metric\": null, \"status\": \"Completed\", \"run_type\": \"azureml.scriptrun\", \"training_percent\": \"100\", \"start_time\": \"2021-01-22T11:38:39.483712Z\", \"end_time\": \"2021-01-22T11:39:20.221272Z\", \"created_time\": \"2021-01-22T11:38:23.730428Z\", \"created_time_dt\": \"2021-01-22T11:38:23.730428Z\", \"duration\": \"0:00:56\", \"iteration\": \"20\", \"goal\": \"accuracy_max\", \"run_name\": \"SparseNormalizer, GradientBoosting\", \"run_properties\": \"<azureml.automl.runtime.shared.model_wrappers.SparseNormalizer object at 0x7fec53c78d30\", \"primary_metric\": 0.8811841, \"best_metric\": 0.90519059}, {\"run_id\": \"AutoML_918668b3-b496-4eac-a938-568ba54b9fbc_21\", \"run_number\": 26, \"metric\": null, \"status\": \"Completed\", \"run_type\": \"azureml.scriptrun\", \"training_percent\": \"100\", \"start_time\": \"2021-01-22T11:38:39.347129Z\", \"end_time\": \"2021-01-22T11:39:20.998426Z\", \"created_time\": \"2021-01-22T11:38:29.439022Z\", \"created_time_dt\": \"2021-01-22T11:38:29.439022Z\", \"duration\": \"0:00:51\", \"iteration\": \"21\", \"goal\": \"accuracy_max\", \"run_name\": \"MaxAbsScaler, LightGBM\", \"run_properties\": \"copy=True\", \"primary_metric\": 0.90494728, \"best_metric\": 0.90519059}, {\"run_id\": \"AutoML_918668b3-b496-4eac-a938-568ba54b9fbc_22\", \"run_number\": 27, \"metric\": null, \"status\": \"Completed\", \"run_type\": \"azureml.scriptrun\", \"training_percent\": \"100\", \"start_time\": \"2021-01-22T11:38:57.352886Z\", \"end_time\": \"2021-01-22T11:39:50.907196Z\", \"created_time\": \"2021-01-22T11:38:38.393717Z\", \"created_time_dt\": \"2021-01-22T11:38:38.393717Z\", \"duration\": \"0:01:12\", \"iteration\": \"22\", \"goal\": \"accuracy_max\", \"run_name\": \"MaxAbsScaler, LightGBM\", \"run_properties\": \"copy=True\", \"primary_metric\": 0.90454177, \"best_metric\": 0.90519059}, {\"run_id\": \"AutoML_918668b3-b496-4eac-a938-568ba54b9fbc_23\", \"run_number\": 28, \"metric\": null, \"status\": \"Completed\", \"run_type\": \"azureml.scriptrun\", \"training_percent\": \"100\", \"start_time\": \"2021-01-22T11:39:12.791967Z\", \"end_time\": \"2021-01-22T11:40:07.557989Z\", \"created_time\": \"2021-01-22T11:38:57.686796Z\", \"created_time_dt\": \"2021-01-22T11:38:57.686796Z\", \"duration\": \"0:01:09\", \"iteration\": \"23\", \"goal\": \"accuracy_max\", \"run_name\": \"MaxAbsScaler, RandomForest\", \"run_properties\": \"copy=True\", \"primary_metric\": 0.85717762, \"best_metric\": 0.90519059}, {\"run_id\": \"AutoML_918668b3-b496-4eac-a938-568ba54b9fbc_24\", \"run_number\": 29, \"metric\": null, \"status\": \"Completed\", \"run_type\": \"azureml.scriptrun\", \"training_percent\": \"100\", \"start_time\": \"2021-01-22T11:39:23.559898Z\", \"end_time\": \"2021-01-22T11:40:06.168103Z\", \"created_time\": \"2021-01-22T11:39:11.828936Z\", \"created_time_dt\": \"2021-01-22T11:39:11.828936Z\", \"duration\": \"0:00:54\", \"iteration\": \"24\", \"goal\": \"accuracy_max\", \"run_name\": \"StandardScalerWrapper, LightGBM\", \"run_properties\": \"<azureml.automl.runtime.shared.model_wrappers.StandardScalerWrapper object at 0x7f14b0b3add8\", \"primary_metric\": 0.9052717, \"best_metric\": 0.9052717}, {\"run_id\": \"AutoML_918668b3-b496-4eac-a938-568ba54b9fbc_25\", \"run_number\": 30, \"metric\": null, \"status\": \"Completed\", \"run_type\": \"azureml.scriptrun\", \"training_percent\": \"100\", \"start_time\": \"2021-01-22T11:39:34.939432Z\", \"end_time\": \"2021-01-22T11:40:22.312298Z\", \"created_time\": \"2021-01-22T11:39:23.434717Z\", \"created_time_dt\": \"2021-01-22T11:39:23.434717Z\", \"duration\": \"0:00:58\", \"iteration\": \"25\", \"goal\": \"accuracy_max\", \"run_name\": \"SparseNormalizer, XGBoostClassifier\", \"run_properties\": \"<azureml.automl.runtime.shared.model_wrappers.SparseNormalizer object at 0x7fd1a89f6b00\", \"primary_metric\": 0.84525547, \"best_metric\": 0.9052717}, {\"run_id\": \"AutoML_918668b3-b496-4eac-a938-568ba54b9fbc_26\", \"run_number\": 31, \"metric\": null, \"status\": \"Completed\", \"run_type\": \"azureml.scriptrun\", \"training_percent\": \"100\", \"start_time\": \"2021-01-22T11:39:54.038886Z\", \"end_time\": \"2021-01-22T11:40:37.39716Z\", \"created_time\": \"2021-01-22T11:39:28.471419Z\", \"created_time_dt\": \"2021-01-22T11:39:28.471419Z\", \"duration\": \"0:01:08\", \"iteration\": \"26\", \"goal\": \"accuracy_max\", \"run_name\": \"MaxAbsScaler, LightGBM\", \"run_properties\": \"copy=True\", \"primary_metric\": 0.90332522, \"best_metric\": 0.9052717}, {\"run_id\": \"AutoML_918668b3-b496-4eac-a938-568ba54b9fbc_27\", \"run_number\": 32, \"metric\": null, \"status\": \"Completed\", \"run_type\": \"azureml.scriptrun\", \"training_percent\": \"100\", \"start_time\": \"2021-01-22T11:40:09.247639Z\", \"end_time\": \"2021-01-22T11:40:56.169045Z\", \"created_time\": \"2021-01-22T11:39:53.126238Z\", \"created_time_dt\": \"2021-01-22T11:39:53.126238Z\", \"duration\": \"0:01:03\", \"iteration\": \"27\", \"goal\": \"accuracy_max\", \"run_name\": \"SparseNormalizer, LightGBM\", \"run_properties\": \"<azureml.automl.runtime.shared.model_wrappers.SparseNormalizer object at 0x7febb6d61da0\", \"primary_metric\": 0.90364964, \"best_metric\": 0.9052717}, {\"run_id\": \"AutoML_918668b3-b496-4eac-a938-568ba54b9fbc_28\", \"run_number\": 33, \"metric\": null, \"status\": \"Completed\", \"run_type\": \"azureml.scriptrun\", \"training_percent\": \"100\", \"start_time\": \"2021-01-22T11:40:20.990578Z\", \"end_time\": \"2021-01-22T11:41:13.512572Z\", \"created_time\": \"2021-01-22T11:40:08.354675Z\", \"created_time_dt\": \"2021-01-22T11:40:08.354675Z\", \"duration\": \"0:01:05\", \"iteration\": \"28\", \"goal\": \"accuracy_max\", \"run_name\": \"SparseNormalizer, XGBoostClassifier\", \"run_properties\": \"<azureml.automl.runtime.shared.model_wrappers.SparseNormalizer object at 0x7f5355760198\", \"primary_metric\": 0.89699919, \"best_metric\": 0.9052717}, {\"run_id\": \"AutoML_918668b3-b496-4eac-a938-568ba54b9fbc_29\", \"run_number\": 34, \"metric\": null, \"status\": \"Completed\", \"run_type\": \"azureml.scriptrun\", \"training_percent\": \"100\", \"start_time\": \"2021-01-22T11:40:26.32878Z\", \"end_time\": \"2021-01-22T11:41:11.782075Z\", \"created_time\": \"2021-01-22T11:40:13.376916Z\", \"created_time_dt\": \"2021-01-22T11:40:13.376916Z\", \"duration\": \"0:00:58\", \"iteration\": \"29\", \"goal\": \"accuracy_max\", \"run_name\": \"SparseNormalizer, XGBoostClassifier\", \"run_properties\": \"<azureml.automl.runtime.shared.model_wrappers.SparseNormalizer object at 0x7fb2a9d7a978\", \"primary_metric\": 0.90121655, \"best_metric\": 0.9052717}, {\"run_id\": \"AutoML_918668b3-b496-4eac-a938-568ba54b9fbc_30\", \"run_number\": 35, \"metric\": null, \"status\": \"Completed\", \"run_type\": \"azureml.scriptrun\", \"training_percent\": \"100\", \"start_time\": \"2021-01-22T11:40:42.392137Z\", \"end_time\": \"2021-01-22T11:41:32.497412Z\", \"created_time\": \"2021-01-22T11:40:25.420934Z\", \"created_time_dt\": \"2021-01-22T11:40:25.420934Z\", \"duration\": \"0:01:07\", \"iteration\": \"30\", \"goal\": \"accuracy_max\", \"run_name\": \"MaxAbsScaler, LightGBM\", \"run_properties\": \"copy=True\", \"primary_metric\": 0.84525547, \"best_metric\": 0.9052717}, {\"run_id\": \"AutoML_918668b3-b496-4eac-a938-568ba54b9fbc_31\", \"run_number\": 36, \"metric\": null, \"status\": \"Completed\", \"run_type\": \"azureml.scriptrun\", \"training_percent\": \"100\", \"start_time\": \"2021-01-22T11:40:58.60092Z\", \"end_time\": \"2021-01-22T11:41:44.604272Z\", \"created_time\": \"2021-01-22T11:40:39.55675Z\", \"created_time_dt\": \"2021-01-22T11:40:39.55675Z\", \"duration\": \"0:01:05\", \"iteration\": \"31\", \"goal\": \"accuracy_max\", \"run_name\": \"SparseNormalizer, XGBoostClassifier\", \"run_properties\": \"<azureml.automl.runtime.shared.model_wrappers.SparseNormalizer object at 0x7fdac47a0c50\", \"primary_metric\": 0.90154096, \"best_metric\": 0.9052717}, {\"run_id\": \"AutoML_918668b3-b496-4eac-a938-568ba54b9fbc_32\", \"run_number\": 37, \"metric\": null, \"status\": \"Completed\", \"run_type\": \"azureml.scriptrun\", \"training_percent\": \"100\", \"start_time\": \"2021-01-22T11:41:19.282527Z\", \"end_time\": \"2021-01-22T11:42:48.351245Z\", \"created_time\": \"2021-01-22T11:40:58.516993Z\", \"created_time_dt\": \"2021-01-22T11:40:58.516993Z\", \"duration\": \"0:01:49\", \"iteration\": \"32\", \"goal\": \"accuracy_max\", \"run_name\": \"SparseNormalizer, XGBoostClassifier\", \"run_properties\": \"<azureml.automl.runtime.shared.model_wrappers.SparseNormalizer object at 0x7fb9d208ef60\", \"primary_metric\": 0.89691809, \"best_metric\": 0.9052717}, {\"run_id\": \"AutoML_918668b3-b496-4eac-a938-568ba54b9fbc_33\", \"run_number\": 38, \"metric\": null, \"status\": \"Completed\", \"run_type\": \"azureml.scriptrun\", \"training_percent\": \"100\", \"start_time\": \"2021-01-22T11:41:24.090878Z\", \"end_time\": \"2021-01-22T11:42:29.563181Z\", \"created_time\": \"2021-01-22T11:41:13.897016Z\", \"created_time_dt\": \"2021-01-22T11:41:13.897016Z\", \"duration\": \"0:01:15\", \"iteration\": \"33\", \"goal\": \"accuracy_max\", \"run_name\": \"SparseNormalizer, XGBoostClassifier\", \"run_properties\": \"<azureml.automl.runtime.shared.model_wrappers.SparseNormalizer object at 0x7fb5e461f080\", \"primary_metric\": 0.89910787, \"best_metric\": 0.9052717}, {\"run_id\": \"AutoML_918668b3-b496-4eac-a938-568ba54b9fbc_34\", \"run_number\": 39, \"metric\": null, \"status\": \"Completed\", \"run_type\": \"azureml.scriptrun\", \"training_percent\": \"100\", \"start_time\": \"2021-01-22T11:41:35.774327Z\", \"end_time\": \"2021-01-22T11:42:34.833821Z\", \"created_time\": \"2021-01-22T11:41:18.13857Z\", \"created_time_dt\": \"2021-01-22T11:41:18.13857Z\", \"duration\": \"0:01:16\", \"iteration\": \"34\", \"goal\": \"accuracy_max\", \"run_name\": \"SparseNormalizer, XGBoostClassifier\", \"run_properties\": \"<azureml.automl.runtime.shared.model_wrappers.SparseNormalizer object at 0x7fcbdda815c0\", \"primary_metric\": 0.90121655, \"best_metric\": 0.9052717}, {\"run_id\": \"AutoML_918668b3-b496-4eac-a938-568ba54b9fbc_35\", \"run_number\": 40, \"metric\": null, \"status\": \"Completed\", \"run_type\": \"azureml.scriptrun\", \"training_percent\": \"100\", \"start_time\": \"2021-01-22T11:41:48.041225Z\", \"end_time\": \"2021-01-22T11:42:42.518633Z\", \"created_time\": \"2021-01-22T11:41:35.66046Z\", \"created_time_dt\": \"2021-01-22T11:41:35.66046Z\", \"duration\": \"0:01:06\", \"iteration\": \"35\", \"goal\": \"accuracy_max\", \"run_name\": \"SparseNormalizer, LightGBM\", \"run_properties\": \"<azureml.automl.runtime.shared.model_wrappers.SparseNormalizer object at 0x7f0e456fc2b0\", \"primary_metric\": 0.90097324, \"best_metric\": 0.9052717}, {\"run_id\": \"AutoML_918668b3-b496-4eac-a938-568ba54b9fbc_36\", \"run_number\": 41, \"metric\": null, \"status\": \"Completed\", \"run_type\": \"azureml.scriptrun\", \"training_percent\": \"100\", \"start_time\": \"2021-01-22T11:42:31.966377Z\", \"end_time\": \"2021-01-22T11:43:31.269724Z\", \"created_time\": \"2021-01-22T11:41:47.140702Z\", \"created_time_dt\": \"2021-01-22T11:41:47.140702Z\", \"duration\": \"0:01:44\", \"iteration\": \"36\", \"goal\": \"accuracy_max\", \"run_name\": \"SparseNormalizer, XGBoostClassifier\", \"run_properties\": \"<azureml.automl.runtime.shared.model_wrappers.SparseNormalizer object at 0x7f2d4fa1f978\", \"primary_metric\": 0.90072993, \"best_metric\": 0.9052717}, {\"run_id\": \"AutoML_918668b3-b496-4eac-a938-568ba54b9fbc_37\", \"run_number\": 42, \"metric\": null, \"status\": \"Canceled\", \"run_type\": \"azureml.scriptrun\", \"training_percent\": \"100\", \"start_time\": \"2021-01-22T11:42:42.8922Z\", \"end_time\": \"2021-01-22T11:43:46.594001Z\", \"created_time\": \"2021-01-22T11:42:31.733986Z\", \"created_time_dt\": \"2021-01-22T11:42:31.733986Z\", \"duration\": \"0:01:14\", \"iteration\": \"37\", \"goal\": \"accuracy_max\", \"run_name\": \"SparseNormalizer, XGBoostClassifier\", \"run_properties\": \"<azureml.automl.runtime.shared.model_wrappers.SparseNormalizer object at 0x7f5169f8d9e8\", \"primary_metric\": 0.90113544, \"best_metric\": 0.9052717}, {\"run_id\": \"AutoML_918668b3-b496-4eac-a938-568ba54b9fbc_38\", \"run_number\": 43, \"metric\": null, \"status\": \"Completed\", \"run_type\": \"azureml.scriptrun\", \"training_percent\": \"100\", \"start_time\": \"2021-01-22T11:42:48.999944Z\", \"end_time\": \"2021-01-22T11:43:39.302942Z\", \"created_time\": \"2021-01-22T11:42:37.242529Z\", \"created_time_dt\": \"2021-01-22T11:42:37.242529Z\", \"duration\": \"0:01:02\", \"iteration\": \"38\", \"goal\": \"accuracy_max\", \"run_name\": \"SparseNormalizer, XGBoostClassifier\", \"run_properties\": \"<azureml.automl.runtime.shared.model_wrappers.SparseNormalizer object at 0x7f6bd45c87f0\", \"primary_metric\": 0.90251419, \"best_metric\": 0.9052717}, {\"run_id\": \"AutoML_918668b3-b496-4eac-a938-568ba54b9fbc_39\", \"run_number\": 44, \"metric\": null, \"status\": \"Canceled\", \"run_type\": \"azureml.scriptrun\", \"training_percent\": \"100\", \"start_time\": \"2021-01-22T11:43:00.94817Z\", \"end_time\": \"2021-01-22T11:43:48.793233Z\", \"created_time\": \"2021-01-22T11:42:47.773532Z\", \"created_time_dt\": \"2021-01-22T11:42:47.773532Z\", \"duration\": \"0:01:01\", \"iteration\": \"39\", \"goal\": \"accuracy_max\", \"run_name\": \"SparseNormalizer, XGBoostClassifier\", \"run_properties\": \"<azureml.automl.runtime.shared.model_wrappers.SparseNormalizer object at 0x7f445da05400\", \"primary_metric\": 0.9000811, \"best_metric\": 0.9052717}, {\"run_id\": \"AutoML_918668b3-b496-4eac-a938-568ba54b9fbc_40\", \"run_number\": 45, \"metric\": null, \"status\": \"Canceled\", \"run_type\": \"azureml.scriptrun\", \"training_percent\": \"100\", \"start_time\": \"2021-01-22T11:43:33.742389Z\", \"end_time\": \"2021-01-22T11:43:47.084473Z\", \"created_time\": \"2021-01-22T11:42:53.169167Z\", \"created_time_dt\": \"2021-01-22T11:42:53.169167Z\", \"duration\": \"0:00:53\", \"iteration\": \"40\", \"goal\": null, \"run_name\": \"Canceled\", \"run_properties\": null}, {\"run_id\": \"AutoML_918668b3-b496-4eac-a938-568ba54b9fbc_41\", \"run_number\": 46, \"metric\": null, \"status\": \"Canceled\", \"run_type\": \"azureml.scriptrun\", \"training_percent\": \"100\", \"start_time\": \"2021-01-22T11:43:33.47876Z\", \"end_time\": \"2021-01-22T11:43:51.104449Z\", \"created_time\": \"2021-01-22T11:43:33.47876Z\", \"created_time_dt\": \"2021-01-22T11:43:33.47876Z\", \"duration\": \"0:00:17\", \"iteration\": \"41\", \"goal\": null, \"run_name\": \"Canceled\", \"run_properties\": null}, {\"run_id\": \"AutoML_918668b3-b496-4eac-a938-568ba54b9fbc_42\", \"run_number\": 47, \"metric\": null, \"status\": \"Completed\", \"run_type\": \"azureml.scriptrun\", \"training_percent\": \"100\", \"start_time\": \"2021-01-22T11:44:03.219265Z\", \"end_time\": \"2021-01-22T11:45:32.067592Z\", \"created_time\": \"2021-01-22T11:43:52.966838Z\", \"created_time_dt\": \"2021-01-22T11:43:52.966838Z\", \"duration\": \"0:01:39\", \"iteration\": \"42\", \"goal\": \"accuracy_max\", \"run_name\": \"VotingEnsemble\", \"run_properties\": \"classification_labels=None,\\n                              estimators=[('24',\\n                                           Pipeline(memory=None,\\n                                                    steps=[('standardscalerwrapper',\\n                                                            <azureml.automl.runtime.shared.model_wrappers.StandardScalerWrapper object at 0x7fbbd2950ac8>\", \"primary_metric\": 0.90827251, \"best_metric\": 0.90827251}, {\"run_id\": \"AutoML_918668b3-b496-4eac-a938-568ba54b9fbc_43\", \"run_number\": 48, \"metric\": null, \"status\": \"Completed\", \"run_type\": \"azureml.scriptrun\", \"training_percent\": \"100\", \"start_time\": \"2021-01-22T11:44:07.224544Z\", \"end_time\": \"2021-01-22T11:45:36.270107Z\", \"created_time\": \"2021-01-22T11:43:53.104638Z\", \"created_time_dt\": \"2021-01-22T11:43:53.104638Z\", \"duration\": \"0:01:43\", \"iteration\": \"43\", \"goal\": \"accuracy_max\", \"run_name\": \"StackEnsemble\", \"run_properties\": \"base_learners=[('24',\\n                                        Pipeline(memory=None,\\n                                                 steps=[('standardscalerwrapper',\\n                                                         <azureml.automl.runtime.shared.model_wrappers.StandardScalerWrapper object at 0x7f9cc004aef0>\", \"primary_metric\": 0.90462287, \"best_metric\": 0.90827251}], \"children_metrics\": {\"categories\": [0], \"series\": {\"AUC_weighted\": [{\"categories\": [\"0\", \"1\", \"2\", \"3\", \"4\", \"5\", \"6\", \"7\", \"8\", \"9\", \"10\", \"11\", \"12\", \"13\", \"14\", \"15\", \"16\", \"17\", \"18\", \"19\", \"20\", \"21\", \"22\", \"23\", \"24\", \"25\", \"26\", \"27\", \"28\", \"29\", \"30\", \"31\", \"32\", \"33\", \"34\", \"35\", \"36\", \"37\", \"38\", \"39\", \"42\", \"43\"], \"mode\": \"markers\", \"name\": \"AUC_weighted\", \"stepped\": false, \"type\": \"scatter\", \"data\": [0.9302080032593238, 0.9335745716329092, 0.9041846894302562, 0.8599855485795738, 0.8998744589751971, 0.8744925365754571, 0.9319552555007157, 0.9273703065696335, 0.9315397501196868, 0.8962560783356944, 0.9242013991896222, 0.9189584301830163, 0.9076894868869525, 0.8844755867513775, 0.9163586600625439, 0.9269179531852378, 0.8914673640956782, 0.9253712722118949, 0.9211412561240914, 0.926307002698502, 0.9090349339140849, 0.9311442945747382, 0.9267259075507015, 0.9036005694401857, 0.9314704354567166, 0.5, 0.9272436527746047, 0.9328501930595504, 0.9263363733988211, 0.9182406678778173, 0.9139359835548281, 0.9259085613099707, 0.9207820980102177, 0.9243090546606519, 0.9290653941467267, 0.9325102069170318, 0.9296641763758932, 0.9267436942692866, 0.9335193813301116, 0.9264394207294737, 0.9339241775471206, 0.9336065699791755]}, {\"categories\": [\"0\", \"1\", \"2\", \"3\", \"4\", \"5\", \"6\", \"7\", \"8\", \"9\", \"10\", \"11\", \"12\", \"13\", \"14\", \"15\", \"16\", \"17\", \"18\", \"19\", \"20\", \"21\", \"22\", \"23\", \"24\", \"25\", \"26\", \"27\", \"28\", \"29\", \"30\", \"31\", \"32\", \"33\", \"34\", \"35\", \"36\", \"37\", \"38\", \"39\", \"42\", \"43\"], \"mode\": \"lines\", \"name\": \"AUC_weighted_max\", \"stepped\": true, \"type\": \"scatter\", \"data\": [0.9302080032593238, 0.9335745716329092, 0.9335745716329092, 0.9335745716329092, 0.9335745716329092, 0.9335745716329092, 0.9335745716329092, 0.9335745716329092, 0.9335745716329092, 0.9335745716329092, 0.9335745716329092, 0.9335745716329092, 0.9335745716329092, 0.9335745716329092, 0.9335745716329092, 0.9335745716329092, 0.9335745716329092, 0.9335745716329092, 0.9335745716329092, 0.9335745716329092, 0.9335745716329092, 0.9335745716329092, 0.9335745716329092, 0.9335745716329092, 0.9335745716329092, 0.9335745716329092, 0.9335745716329092, 0.9335745716329092, 0.9335745716329092, 0.9335745716329092, 0.9335745716329092, 0.9335745716329092, 0.9335745716329092, 0.9335745716329092, 0.9335745716329092, 0.9335745716329092, 0.9335745716329092, 0.9335745716329092, 0.9335745716329092, 0.9335745716329092, 0.9339241775471206, 0.9339241775471206]}], \"f1_score_micro\": [{\"categories\": [\"0\", \"1\", \"2\", \"3\", \"4\", \"5\", \"6\", \"7\", \"8\", \"9\", \"10\", \"11\", \"12\", \"13\", \"14\", \"15\", \"16\", \"17\", \"18\", \"19\", \"20\", \"21\", \"22\", \"23\", \"24\", \"25\", \"26\", \"27\", \"28\", \"29\", \"30\", \"31\", \"32\", \"33\", \"34\", \"35\", \"36\", \"37\", \"38\", \"39\", \"42\", \"43\"], \"mode\": \"markers\", \"name\": \"f1_score_micro\", \"stepped\": false, \"type\": \"scatter\", \"data\": [0.9001622060016222, 0.9051905920519059, 0.8532846715328467, 0.8452554744525548, 0.8317112733171127, 0.7890510948905108, 0.9022708840227088, 0.8980535279805353, 0.9016220600162206, 0.8452554744525548, 0.9021086780210869, 0.8798053527980535, 0.8874290348742905, 0.8800486618004868, 0.8852392538523924, 0.8999188969991891, 0.8842660178426601, 0.8983779399837794, 0.8991889699918897, 0.9008110300081102, 0.8811841038118411, 0.9049472830494728, 0.9045417680454176, 0.8571776155717762, 0.905271695052717, 0.8452554744525548, 0.9033252230332524, 0.9036496350364963, 0.8969991889699919, 0.9012165450121654, 0.8452554744525548, 0.9015409570154095, 0.8969180859691809, 0.8991078669910787, 0.9012165450121654, 0.9009732360097323, 0.9007299270072994, 0.9011354420113543, 0.902514193025142, 0.900081103000811, 0.9082725060827249, 0.9046228710462287]}, {\"categories\": [\"0\", \"1\", \"2\", \"3\", \"4\", \"5\", \"6\", \"7\", \"8\", \"9\", \"10\", \"11\", \"12\", \"13\", \"14\", \"15\", \"16\", \"17\", \"18\", \"19\", \"20\", \"21\", \"22\", \"23\", \"24\", \"25\", \"26\", \"27\", \"28\", \"29\", \"30\", \"31\", \"32\", \"33\", \"34\", \"35\", \"36\", \"37\", \"38\", \"39\", \"42\", \"43\"], \"mode\": \"lines\", \"name\": \"f1_score_micro_max\", \"stepped\": true, \"type\": \"scatter\", \"data\": [0.9001622060016222, 0.9051905920519059, 0.9051905920519059, 0.9051905920519059, 0.9051905920519059, 0.9051905920519059, 0.9051905920519059, 0.9051905920519059, 0.9051905920519059, 0.9051905920519059, 0.9051905920519059, 0.9051905920519059, 0.9051905920519059, 0.9051905920519059, 0.9051905920519059, 0.9051905920519059, 0.9051905920519059, 0.9051905920519059, 0.9051905920519059, 0.9051905920519059, 0.9051905920519059, 0.9051905920519059, 0.9051905920519059, 0.9051905920519059, 0.905271695052717, 0.905271695052717, 0.905271695052717, 0.905271695052717, 0.905271695052717, 0.905271695052717, 0.905271695052717, 0.905271695052717, 0.905271695052717, 0.905271695052717, 0.905271695052717, 0.905271695052717, 0.905271695052717, 0.905271695052717, 0.905271695052717, 0.905271695052717, 0.9082725060827249, 0.9082725060827249]}], \"weighted_accuracy\": [{\"categories\": [\"0\", \"1\", \"2\", \"3\", \"4\", \"5\", \"6\", \"7\", \"8\", \"9\", \"10\", \"11\", \"12\", \"13\", \"14\", \"15\", \"16\", \"17\", \"18\", \"19\", \"20\", \"21\", \"22\", \"23\", \"24\", \"25\", \"26\", \"27\", \"28\", \"29\", \"30\", \"31\", \"32\", \"33\", \"34\", \"35\", \"36\", \"37\", \"38\", \"39\", \"42\", \"43\"], \"mode\": \"markers\", \"name\": \"weighted_accuracy\", \"stepped\": false, \"type\": \"scatter\", \"data\": [0.9438921597272083, 0.9488002101585732, 0.9683091055388372, 0.9674987125732741, 0.8301170057519975, 0.7825014344661998, 0.9480230232075798, 0.9453315177477152, 0.9468240845343076, 0.9674987125732741, 0.9454216436310366, 0.9653346383067362, 0.9609489944922603, 0.959704696405475, 0.9686476132374046, 0.9442826651454506, 0.9567291742275043, 0.9438012342874901, 0.950919248711951, 0.9500717691907837, 0.9593503296797242, 0.9508009208018394, 0.9459391558427667, 0.9588738799809456, 0.9471523800588266, 0.9674987125732741, 0.9445471110842564, 0.9459621868889866, 0.9433140306393305, 0.9465436514755025, 0.9674987125732741, 0.945533546411007, 0.9423296665972342, 0.9430421725207276, 0.944170635131134, 0.9499587176758931, 0.9458074838350351, 0.9455433906911286, 0.9478501894773275, 0.9435714089580648, 0.9506636670144618, 0.9485228173468929]}, {\"categories\": [\"0\", \"1\", \"2\", \"3\", \"4\", \"5\", \"6\", \"7\", \"8\", \"9\", \"10\", \"11\", \"12\", \"13\", \"14\", \"15\", \"16\", \"17\", \"18\", \"19\", \"20\", \"21\", \"22\", \"23\", \"24\", \"25\", \"26\", \"27\", \"28\", \"29\", \"30\", \"31\", \"32\", \"33\", \"34\", \"35\", \"36\", \"37\", \"38\", \"39\", \"42\", \"43\"], \"mode\": \"lines\", \"name\": \"weighted_accuracy_max\", \"stepped\": true, \"type\": \"scatter\", \"data\": [0.9438921597272083, 0.9488002101585732, 0.9683091055388372, 0.9683091055388372, 0.9683091055388372, 0.9683091055388372, 0.9683091055388372, 0.9683091055388372, 0.9683091055388372, 0.9683091055388372, 0.9683091055388372, 0.9683091055388372, 0.9683091055388372, 0.9683091055388372, 0.9686476132374046, 0.9686476132374046, 0.9686476132374046, 0.9686476132374046, 0.9686476132374046, 0.9686476132374046, 0.9686476132374046, 0.9686476132374046, 0.9686476132374046, 0.9686476132374046, 0.9686476132374046, 0.9686476132374046, 0.9686476132374046, 0.9686476132374046, 0.9686476132374046, 0.9686476132374046, 0.9686476132374046, 0.9686476132374046, 0.9686476132374046, 0.9686476132374046, 0.9686476132374046, 0.9686476132374046, 0.9686476132374046, 0.9686476132374046, 0.9686476132374046, 0.9686476132374046, 0.9686476132374046, 0.9686476132374046]}], \"f1_score_macro\": [{\"categories\": [\"0\", \"1\", \"2\", \"3\", \"4\", \"5\", \"6\", \"7\", \"8\", \"9\", \"10\", \"11\", \"12\", \"13\", \"14\", \"15\", \"16\", \"17\", \"18\", \"19\", \"20\", \"21\", \"22\", \"23\", \"24\", \"25\", \"26\", \"27\", \"28\", \"29\", \"30\", \"31\", \"32\", \"33\", \"34\", \"35\", \"36\", \"37\", \"38\", \"39\", \"42\", \"43\"], \"mode\": \"markers\", \"name\": \"f1_score_macro\", \"stepped\": false, \"type\": \"scatter\", \"data\": [0.7958091515195553, 0.8043225633710266, 0.5131552178103466, 0.45806432077149334, 0.750321673267747, 0.7091553148438958, 0.7967616176213236, 0.7877474160035529, 0.796387865294561, 0.45806432077149334, 0.7996462965399896, 0.6780526596520692, 0.7206867933190768, 0.695882649621027, 0.6949378922532284, 0.7947711913874853, 0.7203410657827485, 0.7907757266709708, 0.7830897678273535, 0.7895860879653928, 0.70094336199901, 0.8010639933453777, 0.8059923747152448, 0.5754059462913789, 0.8065997011371128, 0.45806432077149334, 0.8041272061993835, 0.8034657635874666, 0.7872182577473037, 0.7954153394063296, 0.45806432077149334, 0.7977580528043164, 0.7881924341971907, 0.7939178548417357, 0.7985703853049052, 0.7903176576892478, 0.7950527517788322, 0.7965484606475174, 0.7977074061399007, 0.7960109341335587, 0.8109262548598518, 0.803081099067751]}, {\"categories\": [\"0\", \"1\", \"2\", \"3\", \"4\", \"5\", \"6\", \"7\", \"8\", \"9\", \"10\", \"11\", \"12\", \"13\", \"14\", \"15\", \"16\", \"17\", \"18\", \"19\", \"20\", \"21\", \"22\", \"23\", \"24\", \"25\", \"26\", \"27\", \"28\", \"29\", \"30\", \"31\", \"32\", \"33\", \"34\", \"35\", \"36\", \"37\", \"38\", \"39\", \"42\", \"43\"], \"mode\": \"lines\", \"name\": \"f1_score_macro_max\", \"stepped\": true, \"type\": \"scatter\", \"data\": [0.7958091515195553, 0.8043225633710266, 0.8043225633710266, 0.8043225633710266, 0.8043225633710266, 0.8043225633710266, 0.8043225633710266, 0.8043225633710266, 0.8043225633710266, 0.8043225633710266, 0.8043225633710266, 0.8043225633710266, 0.8043225633710266, 0.8043225633710266, 0.8043225633710266, 0.8043225633710266, 0.8043225633710266, 0.8043225633710266, 0.8043225633710266, 0.8043225633710266, 0.8043225633710266, 0.8043225633710266, 0.8059923747152448, 0.8059923747152448, 0.8065997011371128, 0.8065997011371128, 0.8065997011371128, 0.8065997011371128, 0.8065997011371128, 0.8065997011371128, 0.8065997011371128, 0.8065997011371128, 0.8065997011371128, 0.8065997011371128, 0.8065997011371128, 0.8065997011371128, 0.8065997011371128, 0.8065997011371128, 0.8065997011371128, 0.8065997011371128, 0.8109262548598518, 0.8109262548598518]}], \"average_precision_score_weighted\": [{\"categories\": [\"0\", \"1\", \"2\", \"3\", \"4\", \"5\", \"6\", \"7\", \"8\", \"9\", \"10\", \"11\", \"12\", \"13\", \"14\", \"15\", \"16\", \"17\", \"18\", \"19\", \"20\", \"21\", \"22\", \"23\", \"24\", \"25\", \"26\", \"27\", \"28\", \"29\", \"30\", \"31\", \"32\", \"33\", \"34\", \"35\", \"36\", \"37\", \"38\", \"39\", \"42\", \"43\"], \"mode\": \"markers\", \"name\": \"average_precision_score_weighted\", \"stepped\": false, \"type\": \"scatter\", \"data\": [0.9474804923046368, 0.9497749635045584, 0.9296456112001165, 0.9009311920301233, 0.9210448870819786, 0.9070545623189351, 0.9485605933217115, 0.9461605848980033, 0.9484142557453504, 0.918746343504432, 0.9438989604863659, 0.9387433547630756, 0.9319178555946919, 0.9203125367453463, 0.940662654917443, 0.94561623483975, 0.9231990691375533, 0.9445368030775683, 0.9432699575461507, 0.9452099785753597, 0.9319481355167404, 0.9484918097988383, 0.9451495210642255, 0.9208447372229989, 0.9489536555980173, 0.7384693041915057, 0.9459367541383364, 0.9493396067477899, 0.9451473927498252, 0.9402043511404351, 0.9346410292414774, 0.9449882113340183, 0.9413462784391956, 0.9433906827003254, 0.9467605971231476, 0.9492779192009779, 0.9467915148584627, 0.9457949584322236, 0.9499667379460203, 0.9450093100271829, 0.9503417267240578, 0.9503566544995494]}, {\"categories\": [\"0\", \"1\", \"2\", \"3\", \"4\", \"5\", \"6\", \"7\", \"8\", \"9\", \"10\", \"11\", \"12\", \"13\", \"14\", \"15\", \"16\", \"17\", \"18\", \"19\", \"20\", \"21\", \"22\", \"23\", \"24\", \"25\", \"26\", \"27\", \"28\", \"29\", \"30\", \"31\", \"32\", \"33\", \"34\", \"35\", \"36\", \"37\", \"38\", \"39\", \"42\", \"43\"], \"mode\": \"lines\", \"name\": \"average_precision_score_weighted_max\", \"stepped\": true, \"type\": \"scatter\", \"data\": [0.9474804923046368, 0.9497749635045584, 0.9497749635045584, 0.9497749635045584, 0.9497749635045584, 0.9497749635045584, 0.9497749635045584, 0.9497749635045584, 0.9497749635045584, 0.9497749635045584, 0.9497749635045584, 0.9497749635045584, 0.9497749635045584, 0.9497749635045584, 0.9497749635045584, 0.9497749635045584, 0.9497749635045584, 0.9497749635045584, 0.9497749635045584, 0.9497749635045584, 0.9497749635045584, 0.9497749635045584, 0.9497749635045584, 0.9497749635045584, 0.9497749635045584, 0.9497749635045584, 0.9497749635045584, 0.9497749635045584, 0.9497749635045584, 0.9497749635045584, 0.9497749635045584, 0.9497749635045584, 0.9497749635045584, 0.9497749635045584, 0.9497749635045584, 0.9497749635045584, 0.9497749635045584, 0.9497749635045584, 0.9499667379460203, 0.9499667379460203, 0.9503417267240578, 0.9503566544995494]}], \"log_loss\": [{\"categories\": [\"0\", \"1\", \"2\", \"3\", \"4\", \"5\", \"6\", \"7\", \"8\", \"9\", \"10\", \"11\", \"12\", \"13\", \"14\", \"15\", \"16\", \"17\", \"18\", \"19\", \"20\", \"21\", \"22\", \"23\", \"24\", \"25\", \"26\", \"27\", \"28\", \"29\", \"30\", \"31\", \"32\", \"33\", \"34\", \"35\", \"36\", \"37\", \"38\", \"39\", \"42\", \"43\"], \"mode\": \"markers\", \"name\": \"log_loss\", \"stepped\": false, \"type\": \"scatter\", \"data\": [0.23210554876318376, 0.2255707563493307, 0.29530960910543996, 0.34146467291318827, 0.4670384417655427, 0.529201128232836, 0.22763136880229715, 0.24873698608252984, 0.22910630409465801, 0.3295553249646763, 0.24029753954954658, 0.268900283510868, 0.3735173928350288, 0.2957096462035402, 0.2761796394058677, 0.23997565430738008, 0.29472375231018355, 0.2508921391251564, 0.3532710353780768, 0.352337499833216, 0.27183992072074575, 0.23359399990509613, 0.23352082663142984, 0.27969319416659216, 0.22703980908159763, 0.4310103862182811, 0.23340052878874282, 0.22659326799330906, 0.2524047895414469, 0.2667092162578359, 0.42987528113714046, 0.24024479587749656, 0.268789724679367, 0.24903173513811772, 0.23547092206083198, 0.22862964077618322, 0.23662636903791923, 0.2362790313153913, 0.22563165235704583, 0.23879431065493695, 0.2415734760282476, 0.23999395823071654]}, {\"categories\": [\"0\", \"1\", \"2\", \"3\", \"4\", \"5\", \"6\", \"7\", \"8\", \"9\", \"10\", \"11\", \"12\", \"13\", \"14\", \"15\", \"16\", \"17\", \"18\", \"19\", \"20\", \"21\", \"22\", \"23\", \"24\", \"25\", \"26\", \"27\", \"28\", \"29\", \"30\", \"31\", \"32\", \"33\", \"34\", \"35\", \"36\", \"37\", \"38\", \"39\", \"42\", \"43\"], \"mode\": \"lines\", \"name\": \"log_loss_min\", \"stepped\": true, \"type\": \"scatter\", \"data\": [0.23210554876318376, 0.2255707563493307, 0.2255707563493307, 0.2255707563493307, 0.2255707563493307, 0.2255707563493307, 0.2255707563493307, 0.2255707563493307, 0.2255707563493307, 0.2255707563493307, 0.2255707563493307, 0.2255707563493307, 0.2255707563493307, 0.2255707563493307, 0.2255707563493307, 0.2255707563493307, 0.2255707563493307, 0.2255707563493307, 0.2255707563493307, 0.2255707563493307, 0.2255707563493307, 0.2255707563493307, 0.2255707563493307, 0.2255707563493307, 0.2255707563493307, 0.2255707563493307, 0.2255707563493307, 0.2255707563493307, 0.2255707563493307, 0.2255707563493307, 0.2255707563493307, 0.2255707563493307, 0.2255707563493307, 0.2255707563493307, 0.2255707563493307, 0.2255707563493307, 0.2255707563493307, 0.2255707563493307, 0.2255707563493307, 0.2255707563493307, 0.2255707563493307, 0.2255707563493307]}], \"recall_score_weighted\": [{\"categories\": [\"0\", \"1\", \"2\", \"3\", \"4\", \"5\", \"6\", \"7\", \"8\", \"9\", \"10\", \"11\", \"12\", \"13\", \"14\", \"15\", \"16\", \"17\", \"18\", \"19\", \"20\", \"21\", \"22\", \"23\", \"24\", \"25\", \"26\", \"27\", \"28\", \"29\", \"30\", \"31\", \"32\", \"33\", \"34\", \"35\", \"36\", \"37\", \"38\", \"39\", \"42\", \"43\"], \"mode\": \"markers\", \"name\": \"recall_score_weighted\", \"stepped\": false, \"type\": \"scatter\", \"data\": [0.9001622060016222, 0.9051905920519059, 0.8532846715328467, 0.8452554744525548, 0.8317112733171127, 0.7890510948905108, 0.9022708840227089, 0.8980535279805353, 0.9016220600162206, 0.8452554744525548, 0.9021086780210869, 0.8798053527980535, 0.8874290348742905, 0.8800486618004867, 0.8852392538523924, 0.899918896999189, 0.8842660178426601, 0.8983779399837794, 0.8991889699918897, 0.9008110300081102, 0.8811841038118411, 0.9049472830494728, 0.9045417680454176, 0.8571776155717762, 0.905271695052717, 0.8452554744525548, 0.9033252230332524, 0.9036496350364963, 0.8969991889699919, 0.9012165450121654, 0.8452554744525548, 0.9015409570154095, 0.8969180859691809, 0.8991078669910787, 0.9012165450121654, 0.9009732360097323, 0.9007299270072994, 0.9011354420113543, 0.902514193025142, 0.900081103000811, 0.9082725060827249, 0.9046228710462287]}, {\"categories\": [\"0\", \"1\", \"2\", \"3\", \"4\", \"5\", \"6\", \"7\", \"8\", \"9\", \"10\", \"11\", \"12\", \"13\", \"14\", \"15\", \"16\", \"17\", \"18\", \"19\", \"20\", \"21\", \"22\", \"23\", \"24\", \"25\", \"26\", \"27\", \"28\", \"29\", \"30\", \"31\", \"32\", \"33\", \"34\", \"35\", \"36\", \"37\", \"38\", \"39\", \"42\", \"43\"], \"mode\": \"lines\", \"name\": \"recall_score_weighted_max\", \"stepped\": true, \"type\": \"scatter\", \"data\": [0.9001622060016222, 0.9051905920519059, 0.9051905920519059, 0.9051905920519059, 0.9051905920519059, 0.9051905920519059, 0.9051905920519059, 0.9051905920519059, 0.9051905920519059, 0.9051905920519059, 0.9051905920519059, 0.9051905920519059, 0.9051905920519059, 0.9051905920519059, 0.9051905920519059, 0.9051905920519059, 0.9051905920519059, 0.9051905920519059, 0.9051905920519059, 0.9051905920519059, 0.9051905920519059, 0.9051905920519059, 0.9051905920519059, 0.9051905920519059, 0.905271695052717, 0.905271695052717, 0.905271695052717, 0.905271695052717, 0.905271695052717, 0.905271695052717, 0.905271695052717, 0.905271695052717, 0.905271695052717, 0.905271695052717, 0.905271695052717, 0.905271695052717, 0.905271695052717, 0.905271695052717, 0.905271695052717, 0.905271695052717, 0.9082725060827249, 0.9082725060827249]}], \"f1_score_weighted\": [{\"categories\": [\"0\", \"1\", \"2\", \"3\", \"4\", \"5\", \"6\", \"7\", \"8\", \"9\", \"10\", \"11\", \"12\", \"13\", \"14\", \"15\", \"16\", \"17\", \"18\", \"19\", \"20\", \"21\", \"22\", \"23\", \"24\", \"25\", \"26\", \"27\", \"28\", \"29\", \"30\", \"31\", \"32\", \"33\", \"34\", \"35\", \"36\", \"37\", \"38\", \"39\", \"42\", \"43\"], \"mode\": \"markers\", \"name\": \"f1_score_weighted\", \"stepped\": false, \"type\": \"scatter\", \"data\": [0.896525296771615, 0.9012184656233285, 0.7943612579921108, 0.7743823073621229, 0.8488034601443383, 0.8138692066858004, 0.8977321179327243, 0.8932900020871907, 0.8973170234453588, 0.7743823073621229, 0.8984605326950638, 0.8542634905212977, 0.8698979827458974, 0.8592603615485147, 0.8611362818899325, 0.8960934110862269, 0.8681632469969042, 0.8942565960381174, 0.8926367488368053, 0.895082960458793, 0.8609782367141254, 0.9002238440676774, 0.9013691415565527, 0.813264847426377, 0.9018826054048291, 0.7743823073621229, 0.9002808282599662, 0.9002162245103063, 0.892697500082889, 0.8969265332426394, 0.7743823073621229, 0.8976867132906116, 0.8929658187906216, 0.8954539797677946, 0.8977380618346099, 0.8953702236793496, 0.8965383314696371, 0.8972064572866582, 0.8981136901994519, 0.8965393255641348, 0.9044997286488763, 0.9005918866840487]}, {\"categories\": [\"0\", \"1\", \"2\", \"3\", \"4\", \"5\", \"6\", \"7\", \"8\", \"9\", \"10\", \"11\", \"12\", \"13\", \"14\", \"15\", \"16\", \"17\", \"18\", \"19\", \"20\", \"21\", \"22\", \"23\", \"24\", \"25\", \"26\", \"27\", \"28\", \"29\", \"30\", \"31\", \"32\", \"33\", \"34\", \"35\", \"36\", \"37\", \"38\", \"39\", \"42\", \"43\"], \"mode\": \"lines\", \"name\": \"f1_score_weighted_max\", \"stepped\": true, \"type\": \"scatter\", \"data\": [0.896525296771615, 0.9012184656233285, 0.9012184656233285, 0.9012184656233285, 0.9012184656233285, 0.9012184656233285, 0.9012184656233285, 0.9012184656233285, 0.9012184656233285, 0.9012184656233285, 0.9012184656233285, 0.9012184656233285, 0.9012184656233285, 0.9012184656233285, 0.9012184656233285, 0.9012184656233285, 0.9012184656233285, 0.9012184656233285, 0.9012184656233285, 0.9012184656233285, 0.9012184656233285, 0.9012184656233285, 0.9013691415565527, 0.9013691415565527, 0.9018826054048291, 0.9018826054048291, 0.9018826054048291, 0.9018826054048291, 0.9018826054048291, 0.9018826054048291, 0.9018826054048291, 0.9018826054048291, 0.9018826054048291, 0.9018826054048291, 0.9018826054048291, 0.9018826054048291, 0.9018826054048291, 0.9018826054048291, 0.9018826054048291, 0.9018826054048291, 0.9044997286488763, 0.9044997286488763]}], \"norm_macro_recall\": [{\"categories\": [\"0\", \"1\", \"2\", \"3\", \"4\", \"5\", \"6\", \"7\", \"8\", \"9\", \"10\", \"11\", \"12\", \"13\", \"14\", \"15\", \"16\", \"17\", \"18\", \"19\", \"20\", \"21\", \"22\", \"23\", \"24\", \"25\", \"26\", \"27\", \"28\", \"29\", \"30\", \"31\", \"32\", \"33\", \"34\", \"35\", \"36\", \"37\", \"38\", \"39\", \"42\", \"43\"], \"mode\": \"markers\", \"name\": \"norm_macro_recall\", \"stepped\": false, \"type\": \"scatter\", \"data\": [0.5538566901080199, 0.5647973015365682, 0.056220176708622706, 0.0, 0.6727949950698212, 0.6165329470831274, 0.5470117037764224, 0.5297435485729018, 0.5488667812279114, 0.0, 0.5601752302887857, 0.2752809326969046, 0.35815026878492656, 0.31024107249276134, 0.3002942816776572, 0.5497589087840723, 0.3593367478008426, 0.540946882415595, 0.5054225089037976, 0.5242203038309635, 0.3225543044713289, 0.5514950408343987, 0.5758084487044134, 0.1436118699840092, 0.5746111497538714, 0.0, 0.5744802910292708, 0.5691058217278058, 0.5327567140329206, 0.5470530689802324, 0.0, 0.555415327987208, 0.5375010960723671, 0.5508802131931939, 0.560653226553643, 0.5258608216211033, 0.5477605872649618, 0.5516582954894373, 0.5497613584622684, 0.5550025043665467, 0.5778540784901761, 0.5620032368503746]}, {\"categories\": [\"0\", \"1\", \"2\", \"3\", \"4\", \"5\", \"6\", \"7\", \"8\", \"9\", \"10\", \"11\", \"12\", \"13\", \"14\", \"15\", \"16\", \"17\", \"18\", \"19\", \"20\", \"21\", \"22\", \"23\", \"24\", \"25\", \"26\", \"27\", \"28\", \"29\", \"30\", \"31\", \"32\", \"33\", \"34\", \"35\", \"36\", \"37\", \"38\", \"39\", \"42\", \"43\"], \"mode\": \"lines\", \"name\": \"norm_macro_recall_max\", \"stepped\": true, \"type\": \"scatter\", \"data\": [0.5538566901080199, 0.5647973015365682, 0.5647973015365682, 0.5647973015365682, 0.6727949950698212, 0.6727949950698212, 0.6727949950698212, 0.6727949950698212, 0.6727949950698212, 0.6727949950698212, 0.6727949950698212, 0.6727949950698212, 0.6727949950698212, 0.6727949950698212, 0.6727949950698212, 0.6727949950698212, 0.6727949950698212, 0.6727949950698212, 0.6727949950698212, 0.6727949950698212, 0.6727949950698212, 0.6727949950698212, 0.6727949950698212, 0.6727949950698212, 0.6727949950698212, 0.6727949950698212, 0.6727949950698212, 0.6727949950698212, 0.6727949950698212, 0.6727949950698212, 0.6727949950698212, 0.6727949950698212, 0.6727949950698212, 0.6727949950698212, 0.6727949950698212, 0.6727949950698212, 0.6727949950698212, 0.6727949950698212, 0.6727949950698212, 0.6727949950698212, 0.6727949950698212, 0.6727949950698212]}], \"average_precision_score_micro\": [{\"categories\": [\"0\", \"1\", \"2\", \"3\", \"4\", \"5\", \"6\", \"7\", \"8\", \"9\", \"10\", \"11\", \"12\", \"13\", \"14\", \"15\", \"16\", \"17\", \"18\", \"19\", \"20\", \"21\", \"22\", \"23\", \"24\", \"25\", \"26\", \"27\", \"28\", \"29\", \"30\", \"31\", \"32\", \"33\", \"34\", \"35\", \"36\", \"37\", \"38\", \"39\", \"42\", \"43\"], \"mode\": \"markers\", \"name\": \"average_precision_score_micro\", \"stepped\": false, \"type\": \"scatter\", \"data\": [0.9692024524545738, 0.9704549084235478, 0.9523716639810985, 0.9392218976745985, 0.8914795547205087, 0.8527719494806373, 0.9698814250811365, 0.9680704661018847, 0.9696856465699112, 0.9498419446692549, 0.9665667346218679, 0.9597756418075699, 0.9551564316335774, 0.9457428777627727, 0.9585917086421974, 0.9677975233939572, 0.9438296658456621, 0.9671080684822733, 0.9651367152929989, 0.9672328150288524, 0.9577557013350848, 0.9690045947407425, 0.9676158563344779, 0.9533162972803139, 0.9696486153414611, 0.7918623893220302, 0.9679588432234362, 0.970108884286636, 0.967584153490722, 0.9626895030607318, 0.9547941305163276, 0.9666394881575404, 0.9650235256392605, 0.9664571205162393, 0.9686117320764055, 0.9698827940194356, 0.9687831585048844, 0.9677949289000893, 0.9705261989110411, 0.9674977070716477, 0.9704458260247005, 0.9703437275770309]}, {\"categories\": [\"0\", \"1\", \"2\", \"3\", \"4\", \"5\", \"6\", \"7\", \"8\", \"9\", \"10\", \"11\", \"12\", \"13\", \"14\", \"15\", \"16\", \"17\", \"18\", \"19\", \"20\", \"21\", \"22\", \"23\", \"24\", \"25\", \"26\", \"27\", \"28\", \"29\", \"30\", \"31\", \"32\", \"33\", \"34\", \"35\", \"36\", \"37\", \"38\", \"39\", \"42\", \"43\"], \"mode\": \"lines\", \"name\": \"average_precision_score_micro_max\", \"stepped\": true, \"type\": \"scatter\", \"data\": [0.9692024524545738, 0.9704549084235478, 0.9704549084235478, 0.9704549084235478, 0.9704549084235478, 0.9704549084235478, 0.9704549084235478, 0.9704549084235478, 0.9704549084235478, 0.9704549084235478, 0.9704549084235478, 0.9704549084235478, 0.9704549084235478, 0.9704549084235478, 0.9704549084235478, 0.9704549084235478, 0.9704549084235478, 0.9704549084235478, 0.9704549084235478, 0.9704549084235478, 0.9704549084235478, 0.9704549084235478, 0.9704549084235478, 0.9704549084235478, 0.9704549084235478, 0.9704549084235478, 0.9704549084235478, 0.9704549084235478, 0.9704549084235478, 0.9704549084235478, 0.9704549084235478, 0.9704549084235478, 0.9704549084235478, 0.9704549084235478, 0.9704549084235478, 0.9704549084235478, 0.9704549084235478, 0.9704549084235478, 0.9705261989110411, 0.9705261989110411, 0.9705261989110411, 0.9705261989110411]}], \"accuracy\": [{\"categories\": [\"0\", \"1\", \"2\", \"3\", \"4\", \"5\", \"6\", \"7\", \"8\", \"9\", \"10\", \"11\", \"12\", \"13\", \"14\", \"15\", \"16\", \"17\", \"18\", \"19\", \"20\", \"21\", \"22\", \"23\", \"24\", \"25\", \"26\", \"27\", \"28\", \"29\", \"30\", \"31\", \"32\", \"33\", \"34\", \"35\", \"36\", \"37\", \"38\", \"39\", \"42\", \"43\"], \"mode\": \"markers\", \"name\": \"accuracy\", \"stepped\": false, \"type\": \"scatter\", \"data\": [0.9001622060016222, 0.9051905920519059, 0.8532846715328467, 0.8452554744525548, 0.8317112733171127, 0.7890510948905108, 0.9022708840227089, 0.8980535279805353, 0.9016220600162206, 0.8452554744525548, 0.9021086780210869, 0.8798053527980535, 0.8874290348742905, 0.8800486618004867, 0.8852392538523924, 0.899918896999189, 0.8842660178426601, 0.8983779399837794, 0.8991889699918897, 0.9008110300081102, 0.8811841038118411, 0.9049472830494728, 0.9045417680454176, 0.8571776155717762, 0.905271695052717, 0.8452554744525548, 0.9033252230332524, 0.9036496350364963, 0.8969991889699919, 0.9012165450121654, 0.8452554744525548, 0.9015409570154095, 0.8969180859691809, 0.8991078669910787, 0.9012165450121654, 0.9009732360097323, 0.9007299270072994, 0.9011354420113543, 0.902514193025142, 0.900081103000811, 0.9082725060827249, 0.9046228710462287]}, {\"categories\": [\"0\", \"1\", \"2\", \"3\", \"4\", \"5\", \"6\", \"7\", \"8\", \"9\", \"10\", \"11\", \"12\", \"13\", \"14\", \"15\", \"16\", \"17\", \"18\", \"19\", \"20\", \"21\", \"22\", \"23\", \"24\", \"25\", \"26\", \"27\", \"28\", \"29\", \"30\", \"31\", \"32\", \"33\", \"34\", \"35\", \"36\", \"37\", \"38\", \"39\", \"42\", \"43\"], \"mode\": \"lines\", \"name\": \"accuracy_max\", \"stepped\": true, \"type\": \"scatter\", \"data\": [0.9001622060016222, 0.9051905920519059, 0.9051905920519059, 0.9051905920519059, 0.9051905920519059, 0.9051905920519059, 0.9051905920519059, 0.9051905920519059, 0.9051905920519059, 0.9051905920519059, 0.9051905920519059, 0.9051905920519059, 0.9051905920519059, 0.9051905920519059, 0.9051905920519059, 0.9051905920519059, 0.9051905920519059, 0.9051905920519059, 0.9051905920519059, 0.9051905920519059, 0.9051905920519059, 0.9051905920519059, 0.9051905920519059, 0.9051905920519059, 0.905271695052717, 0.905271695052717, 0.905271695052717, 0.905271695052717, 0.905271695052717, 0.905271695052717, 0.905271695052717, 0.905271695052717, 0.905271695052717, 0.905271695052717, 0.905271695052717, 0.905271695052717, 0.905271695052717, 0.905271695052717, 0.905271695052717, 0.905271695052717, 0.9082725060827249, 0.9082725060827249]}], \"precision_score_weighted\": [{\"categories\": [\"0\", \"1\", \"2\", \"3\", \"4\", \"5\", \"6\", \"7\", \"8\", \"9\", \"10\", \"11\", \"12\", \"13\", \"14\", \"15\", \"16\", \"17\", \"18\", \"19\", \"20\", \"21\", \"22\", \"23\", \"24\", \"25\", \"26\", \"27\", \"28\", \"29\", \"30\", \"31\", \"32\", \"33\", \"34\", \"35\", \"36\", \"37\", \"38\", \"39\", \"42\", \"43\"], \"mode\": \"markers\", \"name\": \"precision_score_weighted\", \"stepped\": false, \"type\": \"scatter\", \"data\": [0.8947856717432913, 0.8997486911160756, 0.8546875419258848, 0.7144901265483075, 0.890589552904364, 0.8803120863612954, 0.8961848627930257, 0.8915132703742481, 0.8956903183567791, 0.7144901265483075, 0.896850058753445, 0.8728846336057577, 0.8792316211707849, 0.8688423047565833, 0.8827519913314429, 0.8943283005197463, 0.8729450238530281, 0.8924112577783682, 0.8923994198829681, 0.8938304838282637, 0.8700397326381862, 0.8989656624623962, 0.899798838984605, 0.7998566738848468, 0.9003453283197899, 0.7144901265483075, 0.8986877722534284, 0.8985993082047782, 0.8908064736477762, 0.8956609353330826, 0.7144901265483075, 0.8960620983032507, 0.8910766154990325, 0.8936430660783019, 0.8960440317182649, 0.8940911075996906, 0.8948403657896171, 0.8955251299706394, 0.8965733941256252, 0.8947885686460734, 0.9032187214790316, 0.8991094542524342]}, {\"categories\": [\"0\", \"1\", \"2\", \"3\", \"4\", \"5\", \"6\", \"7\", \"8\", \"9\", \"10\", \"11\", \"12\", \"13\", \"14\", \"15\", \"16\", \"17\", \"18\", \"19\", \"20\", \"21\", \"22\", \"23\", \"24\", \"25\", \"26\", \"27\", \"28\", \"29\", \"30\", \"31\", \"32\", \"33\", \"34\", \"35\", \"36\", \"37\", \"38\", \"39\", \"42\", \"43\"], \"mode\": \"lines\", \"name\": \"precision_score_weighted_max\", \"stepped\": true, \"type\": \"scatter\", \"data\": [0.8947856717432913, 0.8997486911160756, 0.8997486911160756, 0.8997486911160756, 0.8997486911160756, 0.8997486911160756, 0.8997486911160756, 0.8997486911160756, 0.8997486911160756, 0.8997486911160756, 0.8997486911160756, 0.8997486911160756, 0.8997486911160756, 0.8997486911160756, 0.8997486911160756, 0.8997486911160756, 0.8997486911160756, 0.8997486911160756, 0.8997486911160756, 0.8997486911160756, 0.8997486911160756, 0.8997486911160756, 0.899798838984605, 0.899798838984605, 0.9003453283197899, 0.9003453283197899, 0.9003453283197899, 0.9003453283197899, 0.9003453283197899, 0.9003453283197899, 0.9003453283197899, 0.9003453283197899, 0.9003453283197899, 0.9003453283197899, 0.9003453283197899, 0.9003453283197899, 0.9003453283197899, 0.9003453283197899, 0.9003453283197899, 0.9003453283197899, 0.9032187214790316, 0.9032187214790316]}], \"recall_score_micro\": [{\"categories\": [\"0\", \"1\", \"2\", \"3\", \"4\", \"5\", \"6\", \"7\", \"8\", \"9\", \"10\", \"11\", \"12\", \"13\", \"14\", \"15\", \"16\", \"17\", \"18\", \"19\", \"20\", \"21\", \"22\", \"23\", \"24\", \"25\", \"26\", \"27\", \"28\", \"29\", \"30\", \"31\", \"32\", \"33\", \"34\", \"35\", \"36\", \"37\", \"38\", \"39\", \"42\", \"43\"], \"mode\": \"markers\", \"name\": \"recall_score_micro\", \"stepped\": false, \"type\": \"scatter\", \"data\": [0.9001622060016222, 0.9051905920519059, 0.8532846715328467, 0.8452554744525548, 0.8317112733171127, 0.7890510948905108, 0.9022708840227089, 0.8980535279805353, 0.9016220600162206, 0.8452554744525548, 0.9021086780210869, 0.8798053527980535, 0.8874290348742905, 0.8800486618004867, 0.8852392538523924, 0.899918896999189, 0.8842660178426601, 0.8983779399837794, 0.8991889699918897, 0.9008110300081102, 0.8811841038118411, 0.9049472830494728, 0.9045417680454176, 0.8571776155717762, 0.905271695052717, 0.8452554744525548, 0.9033252230332524, 0.9036496350364963, 0.8969991889699919, 0.9012165450121654, 0.8452554744525548, 0.9015409570154095, 0.8969180859691809, 0.8991078669910787, 0.9012165450121654, 0.9009732360097323, 0.9007299270072994, 0.9011354420113543, 0.902514193025142, 0.900081103000811, 0.9082725060827249, 0.9046228710462287]}, {\"categories\": [\"0\", \"1\", \"2\", \"3\", \"4\", \"5\", \"6\", \"7\", \"8\", \"9\", \"10\", \"11\", \"12\", \"13\", \"14\", \"15\", \"16\", \"17\", \"18\", \"19\", \"20\", \"21\", \"22\", \"23\", \"24\", \"25\", \"26\", \"27\", \"28\", \"29\", \"30\", \"31\", \"32\", \"33\", \"34\", \"35\", \"36\", \"37\", \"38\", \"39\", \"42\", \"43\"], \"mode\": \"lines\", \"name\": \"recall_score_micro_max\", \"stepped\": true, \"type\": \"scatter\", \"data\": [0.9001622060016222, 0.9051905920519059, 0.9051905920519059, 0.9051905920519059, 0.9051905920519059, 0.9051905920519059, 0.9051905920519059, 0.9051905920519059, 0.9051905920519059, 0.9051905920519059, 0.9051905920519059, 0.9051905920519059, 0.9051905920519059, 0.9051905920519059, 0.9051905920519059, 0.9051905920519059, 0.9051905920519059, 0.9051905920519059, 0.9051905920519059, 0.9051905920519059, 0.9051905920519059, 0.9051905920519059, 0.9051905920519059, 0.9051905920519059, 0.905271695052717, 0.905271695052717, 0.905271695052717, 0.905271695052717, 0.905271695052717, 0.905271695052717, 0.905271695052717, 0.905271695052717, 0.905271695052717, 0.905271695052717, 0.905271695052717, 0.905271695052717, 0.905271695052717, 0.905271695052717, 0.905271695052717, 0.905271695052717, 0.9082725060827249, 0.9082725060827249]}], \"AUC_macro\": [{\"categories\": [\"0\", \"1\", \"2\", \"3\", \"4\", \"5\", \"6\", \"7\", \"8\", \"9\", \"10\", \"11\", \"12\", \"13\", \"14\", \"15\", \"16\", \"17\", \"18\", \"19\", \"20\", \"21\", \"22\", \"23\", \"24\", \"25\", \"26\", \"27\", \"28\", \"29\", \"30\", \"31\", \"32\", \"33\", \"34\", \"35\", \"36\", \"37\", \"38\", \"39\", \"42\", \"43\"], \"mode\": \"markers\", \"name\": \"AUC_macro\", \"stepped\": false, \"type\": \"scatter\", \"data\": [0.9302080032593238, 0.9335745193091164, 0.9041846894302562, 0.8599855485795738, 0.8998744589751971, 0.8744925365754571, 0.9319552555007157, 0.9273703065696335, 0.9315397747716044, 0.8962560783356944, 0.9242013991896222, 0.9189584301830163, 0.9076894868869526, 0.8844755867513775, 0.916358660062544, 0.9269179531852378, 0.8914673640956782, 0.9253712981522778, 0.9211412561240916, 0.926307002698502, 0.9090349339140849, 0.9311442945747382, 0.9267259075507015, 0.9036005694401857, 0.9314704354567169, 0.5, 0.9272436527746047, 0.9328501930595504, 0.9263363733988209, 0.9182406678778173, 0.9139359835548281, 0.9259085613099707, 0.9207821732544357, 0.9243090546606519, 0.9290653941467267, 0.932510206917032, 0.9296641763758932, 0.9267436683289038, 0.9335193813301116, 0.9264394207294737, 0.9339241775471206, 0.9336065699791755]}, {\"categories\": [\"0\", \"1\", \"2\", \"3\", \"4\", \"5\", \"6\", \"7\", \"8\", \"9\", \"10\", \"11\", \"12\", \"13\", \"14\", \"15\", \"16\", \"17\", \"18\", \"19\", \"20\", \"21\", \"22\", \"23\", \"24\", \"25\", \"26\", \"27\", \"28\", \"29\", \"30\", \"31\", \"32\", \"33\", \"34\", \"35\", \"36\", \"37\", \"38\", \"39\", \"42\", \"43\"], \"mode\": \"lines\", \"name\": \"AUC_macro_max\", \"stepped\": true, \"type\": \"scatter\", \"data\": [0.9302080032593238, 0.9335745193091164, 0.9335745193091164, 0.9335745193091164, 0.9335745193091164, 0.9335745193091164, 0.9335745193091164, 0.9335745193091164, 0.9335745193091164, 0.9335745193091164, 0.9335745193091164, 0.9335745193091164, 0.9335745193091164, 0.9335745193091164, 0.9335745193091164, 0.9335745193091164, 0.9335745193091164, 0.9335745193091164, 0.9335745193091164, 0.9335745193091164, 0.9335745193091164, 0.9335745193091164, 0.9335745193091164, 0.9335745193091164, 0.9335745193091164, 0.9335745193091164, 0.9335745193091164, 0.9335745193091164, 0.9335745193091164, 0.9335745193091164, 0.9335745193091164, 0.9335745193091164, 0.9335745193091164, 0.9335745193091164, 0.9335745193091164, 0.9335745193091164, 0.9335745193091164, 0.9335745193091164, 0.9335745193091164, 0.9335745193091164, 0.9339241775471206, 0.9339241775471206]}], \"balanced_accuracy\": [{\"categories\": [\"0\", \"1\", \"2\", \"3\", \"4\", \"5\", \"6\", \"7\", \"8\", \"9\", \"10\", \"11\", \"12\", \"13\", \"14\", \"15\", \"16\", \"17\", \"18\", \"19\", \"20\", \"21\", \"22\", \"23\", \"24\", \"25\", \"26\", \"27\", \"28\", \"29\", \"30\", \"31\", \"32\", \"33\", \"34\", \"35\", \"36\", \"37\", \"38\", \"39\", \"42\", \"43\"], \"mode\": \"markers\", \"name\": \"balanced_accuracy\", \"stepped\": false, \"type\": \"scatter\", \"data\": [0.77692834505401, 0.782398650768284, 0.5281100883543114, 0.5, 0.8363974975349106, 0.8082664735415638, 0.7735058518882112, 0.7648717742864509, 0.7744333906139557, 0.5, 0.7800876151443928, 0.6376404663484524, 0.6790751343924631, 0.6551205362463807, 0.6501471408388285, 0.774879454392036, 0.6796683739004212, 0.7704734412077975, 0.7527112544518988, 0.7621101519154818, 0.6612771522356645, 0.7757475204171994, 0.7879042243522068, 0.5718059349920046, 0.7873055748769356, 0.5, 0.7872401455146353, 0.7845529108639028, 0.7663783570164603, 0.7735265344901162, 0.5, 0.777707663993604, 0.7687505480361835, 0.775440106596597, 0.7803266132768215, 0.7629304108105516, 0.7738802936324808, 0.7758291477447186, 0.7748806792311341, 0.7775012521832734, 0.7889270392450879, 0.7810016184251873]}, {\"categories\": [\"0\", \"1\", \"2\", \"3\", \"4\", \"5\", \"6\", \"7\", \"8\", \"9\", \"10\", \"11\", \"12\", \"13\", \"14\", \"15\", \"16\", \"17\", \"18\", \"19\", \"20\", \"21\", \"22\", \"23\", \"24\", \"25\", \"26\", \"27\", \"28\", \"29\", \"30\", \"31\", \"32\", \"33\", \"34\", \"35\", \"36\", \"37\", \"38\", \"39\", \"42\", \"43\"], \"mode\": \"lines\", \"name\": \"balanced_accuracy_max\", \"stepped\": true, \"type\": \"scatter\", \"data\": [0.77692834505401, 0.782398650768284, 0.782398650768284, 0.782398650768284, 0.8363974975349106, 0.8363974975349106, 0.8363974975349106, 0.8363974975349106, 0.8363974975349106, 0.8363974975349106, 0.8363974975349106, 0.8363974975349106, 0.8363974975349106, 0.8363974975349106, 0.8363974975349106, 0.8363974975349106, 0.8363974975349106, 0.8363974975349106, 0.8363974975349106, 0.8363974975349106, 0.8363974975349106, 0.8363974975349106, 0.8363974975349106, 0.8363974975349106, 0.8363974975349106, 0.8363974975349106, 0.8363974975349106, 0.8363974975349106, 0.8363974975349106, 0.8363974975349106, 0.8363974975349106, 0.8363974975349106, 0.8363974975349106, 0.8363974975349106, 0.8363974975349106, 0.8363974975349106, 0.8363974975349106, 0.8363974975349106, 0.8363974975349106, 0.8363974975349106, 0.8363974975349106, 0.8363974975349106]}], \"recall_score_macro\": [{\"categories\": [\"0\", \"1\", \"2\", \"3\", \"4\", \"5\", \"6\", \"7\", \"8\", \"9\", \"10\", \"11\", \"12\", \"13\", \"14\", \"15\", \"16\", \"17\", \"18\", \"19\", \"20\", \"21\", \"22\", \"23\", \"24\", \"25\", \"26\", \"27\", \"28\", \"29\", \"30\", \"31\", \"32\", \"33\", \"34\", \"35\", \"36\", \"37\", \"38\", \"39\", \"42\", \"43\"], \"mode\": \"markers\", \"name\": \"recall_score_macro\", \"stepped\": false, \"type\": \"scatter\", \"data\": [0.77692834505401, 0.782398650768284, 0.5281100883543114, 0.5, 0.8363974975349106, 0.8082664735415638, 0.7735058518882112, 0.7648717742864509, 0.7744333906139557, 0.5, 0.7800876151443928, 0.6376404663484524, 0.6790751343924631, 0.6551205362463807, 0.6501471408388285, 0.774879454392036, 0.6796683739004212, 0.7704734412077975, 0.7527112544518988, 0.7621101519154818, 0.6612771522356645, 0.7757475204171994, 0.7879042243522068, 0.5718059349920046, 0.7873055748769356, 0.5, 0.7872401455146353, 0.7845529108639028, 0.7663783570164603, 0.7735265344901162, 0.5, 0.777707663993604, 0.7687505480361835, 0.775440106596597, 0.7803266132768215, 0.7629304108105516, 0.7738802936324808, 0.7758291477447186, 0.7748806792311341, 0.7775012521832734, 0.7889270392450879, 0.7810016184251873]}, {\"categories\": [\"0\", \"1\", \"2\", \"3\", \"4\", \"5\", \"6\", \"7\", \"8\", \"9\", \"10\", \"11\", \"12\", \"13\", \"14\", \"15\", \"16\", \"17\", \"18\", \"19\", \"20\", \"21\", \"22\", \"23\", \"24\", \"25\", \"26\", \"27\", \"28\", \"29\", \"30\", \"31\", \"32\", \"33\", \"34\", \"35\", \"36\", \"37\", \"38\", \"39\", \"42\", \"43\"], \"mode\": \"lines\", \"name\": \"recall_score_macro_max\", \"stepped\": true, \"type\": \"scatter\", \"data\": [0.77692834505401, 0.782398650768284, 0.782398650768284, 0.782398650768284, 0.8363974975349106, 0.8363974975349106, 0.8363974975349106, 0.8363974975349106, 0.8363974975349106, 0.8363974975349106, 0.8363974975349106, 0.8363974975349106, 0.8363974975349106, 0.8363974975349106, 0.8363974975349106, 0.8363974975349106, 0.8363974975349106, 0.8363974975349106, 0.8363974975349106, 0.8363974975349106, 0.8363974975349106, 0.8363974975349106, 0.8363974975349106, 0.8363974975349106, 0.8363974975349106, 0.8363974975349106, 0.8363974975349106, 0.8363974975349106, 0.8363974975349106, 0.8363974975349106, 0.8363974975349106, 0.8363974975349106, 0.8363974975349106, 0.8363974975349106, 0.8363974975349106, 0.8363974975349106, 0.8363974975349106, 0.8363974975349106, 0.8363974975349106, 0.8363974975349106, 0.8363974975349106, 0.8363974975349106]}], \"matthews_correlation\": [{\"categories\": [\"0\", \"1\", \"2\", \"3\", \"4\", \"5\", \"6\", \"7\", \"8\", \"9\", \"10\", \"11\", \"12\", \"13\", \"14\", \"15\", \"16\", \"17\", \"18\", \"19\", \"20\", \"21\", \"22\", \"23\", \"24\", \"25\", \"26\", \"27\", \"28\", \"29\", \"30\", \"31\", \"32\", \"33\", \"34\", \"35\", \"36\", \"37\", \"38\", \"39\", \"42\", \"43\"], \"mode\": \"markers\", \"name\": \"matthews_correlation\", \"stepped\": false, \"type\": \"scatter\", \"data\": [0.5952280497602397, 0.6134057692822686, 0.19407221757129425, 0.0, 0.5452002202775034, 0.4884432780752242, 0.599213249054629, 0.5811876244897592, 0.5978634883946253, 0.0, 0.6031823944317396, 0.4373649730759796, 0.4918345817825201, 0.44863863805867954, 0.4731382438719696, 0.5934871003575429, 0.48017944683128505, 0.5858849786012206, 0.5784308984758851, 0.5876955357178216, 0.456114023487971, 0.6087356690351213, 0.6150414356476089, 0.22894177247235845, 0.6167269219841369, 0.0, 0.6110095310946662, 0.6103906159886946, 0.5790366653983129, 0.5965529561191915, 0.0, 0.5997408287808393, 0.5803191535757384, 0.5913402080790986, 0.6005250855582539, 0.5889047766849832, 0.5948401338173158, 0.5974076924034156, 0.6008595470693741, 0.5954350596809102, 0.6265814674326827, 0.6110205943194015]}, {\"categories\": [\"0\", \"1\", \"2\", \"3\", \"4\", \"5\", \"6\", \"7\", \"8\", \"9\", \"10\", \"11\", \"12\", \"13\", \"14\", \"15\", \"16\", \"17\", \"18\", \"19\", \"20\", \"21\", \"22\", \"23\", \"24\", \"25\", \"26\", \"27\", \"28\", \"29\", \"30\", \"31\", \"32\", \"33\", \"34\", \"35\", \"36\", \"37\", \"38\", \"39\", \"42\", \"43\"], \"mode\": \"lines\", \"name\": \"matthews_correlation_max\", \"stepped\": true, \"type\": \"scatter\", \"data\": [0.5952280497602397, 0.6134057692822686, 0.6134057692822686, 0.6134057692822686, 0.6134057692822686, 0.6134057692822686, 0.6134057692822686, 0.6134057692822686, 0.6134057692822686, 0.6134057692822686, 0.6134057692822686, 0.6134057692822686, 0.6134057692822686, 0.6134057692822686, 0.6134057692822686, 0.6134057692822686, 0.6134057692822686, 0.6134057692822686, 0.6134057692822686, 0.6134057692822686, 0.6134057692822686, 0.6134057692822686, 0.6150414356476089, 0.6150414356476089, 0.6167269219841369, 0.6167269219841369, 0.6167269219841369, 0.6167269219841369, 0.6167269219841369, 0.6167269219841369, 0.6167269219841369, 0.6167269219841369, 0.6167269219841369, 0.6167269219841369, 0.6167269219841369, 0.6167269219841369, 0.6167269219841369, 0.6167269219841369, 0.6167269219841369, 0.6167269219841369, 0.6265814674326827, 0.6265814674326827]}], \"average_precision_score_macro\": [{\"categories\": [\"0\", \"1\", \"2\", \"3\", \"4\", \"5\", \"6\", \"7\", \"8\", \"9\", \"10\", \"11\", \"12\", \"13\", \"14\", \"15\", \"16\", \"17\", \"18\", \"19\", \"20\", \"21\", \"22\", \"23\", \"24\", \"25\", \"26\", \"27\", \"28\", \"29\", \"30\", \"31\", \"32\", \"33\", \"34\", \"35\", \"36\", \"37\", \"38\", \"39\", \"42\", \"43\"], \"mode\": \"markers\", \"name\": \"average_precision_score_macro\", \"stepped\": false, \"type\": \"scatter\", \"data\": [0.861599501682337, 0.86783193820032, 0.8189491726563946, 0.7522769054555066, 0.7919569566834704, 0.764357783253511, 0.8644519868715942, 0.8593915730313233, 0.8643950478458948, 0.7883050510385249, 0.8547502398038073, 0.84077713072607, 0.8348138253065072, 0.8001724154806351, 0.8506407809035376, 0.8578120931014084, 0.8067772494380319, 0.855475016266445, 0.8550499202756793, 0.8578945992725716, 0.8255306519256971, 0.8653767919327743, 0.8573906890323378, 0.7893108099649169, 0.8663683474980127, 0.5, 0.8597893465923488, 0.8663699572469157, 0.8559230715467799, 0.8508848771348537, 0.8307221135296171, 0.8581629164295962, 0.8476812012897063, 0.8524426456671156, 0.8602376064874483, 0.8667600347122213, 0.8600228211392101, 0.8587204058727268, 0.8682194656605292, 0.8562915180558989, 0.8695532524312992, 0.8698535131650962]}, {\"categories\": [\"0\", \"1\", \"2\", \"3\", \"4\", \"5\", \"6\", \"7\", \"8\", \"9\", \"10\", \"11\", \"12\", \"13\", \"14\", \"15\", \"16\", \"17\", \"18\", \"19\", \"20\", \"21\", \"22\", \"23\", \"24\", \"25\", \"26\", \"27\", \"28\", \"29\", \"30\", \"31\", \"32\", \"33\", \"34\", \"35\", \"36\", \"37\", \"38\", \"39\", \"42\", \"43\"], \"mode\": \"lines\", \"name\": \"average_precision_score_macro_max\", \"stepped\": true, \"type\": \"scatter\", \"data\": [0.861599501682337, 0.86783193820032, 0.86783193820032, 0.86783193820032, 0.86783193820032, 0.86783193820032, 0.86783193820032, 0.86783193820032, 0.86783193820032, 0.86783193820032, 0.86783193820032, 0.86783193820032, 0.86783193820032, 0.86783193820032, 0.86783193820032, 0.86783193820032, 0.86783193820032, 0.86783193820032, 0.86783193820032, 0.86783193820032, 0.86783193820032, 0.86783193820032, 0.86783193820032, 0.86783193820032, 0.86783193820032, 0.86783193820032, 0.86783193820032, 0.86783193820032, 0.86783193820032, 0.86783193820032, 0.86783193820032, 0.86783193820032, 0.86783193820032, 0.86783193820032, 0.86783193820032, 0.86783193820032, 0.86783193820032, 0.86783193820032, 0.8682194656605292, 0.8682194656605292, 0.8695532524312992, 0.8698535131650962]}], \"precision_score_macro\": [{\"categories\": [\"0\", \"1\", \"2\", \"3\", \"4\", \"5\", \"6\", \"7\", \"8\", \"9\", \"10\", \"11\", \"12\", \"13\", \"14\", \"15\", \"16\", \"17\", \"18\", \"19\", \"20\", \"21\", \"22\", \"23\", \"24\", \"25\", \"26\", \"27\", \"28\", \"29\", \"30\", \"31\", \"32\", \"33\", \"34\", \"35\", \"36\", \"37\", \"38\", \"39\", \"42\", \"43\"], \"mode\": \"markers\", \"name\": \"precision_score_macro\", \"stepped\": false, \"type\": \"scatter\", \"data\": [0.8198792276521926, 0.833135280130417, 0.8568434230718808, 0.4226277372262774, 0.720964434488371, 0.6942330859952195, 0.8282528806084164, 0.8188464190624268, 0.8256883936289263, 0.4226277372262774, 0.8248203510811553, 0.8489789298155171, 0.8413337866563363, 0.8247022720483032, 0.8737558635004851, 0.8203510875233668, 0.8208634831172542, 0.8173105814022122, 0.831758029364943, 0.8294782997254307, 0.8243719858126021, 0.8359986121259437, 0.8284825063856718, 0.6593967105281964, 0.8309815945869762, 0.4226277372262774, 0.8249674078472896, 0.8273587097563849, 0.8146821945864798, 0.8256205076522622, 0.4226277372262774, 0.8238953374400898, 0.8132888537469736, 0.817422966504199, 0.8216721807772366, 0.8297656777653394, 0.8230485619942072, 0.8235021246522495, 0.8284162718842691, 0.8194260831749567, 0.8397821564234746, 0.8321966170449268]}, {\"categories\": [\"0\", \"1\", \"2\", \"3\", \"4\", \"5\", \"6\", \"7\", \"8\", \"9\", \"10\", \"11\", \"12\", \"13\", \"14\", \"15\", \"16\", \"17\", \"18\", \"19\", \"20\", \"21\", \"22\", \"23\", \"24\", \"25\", \"26\", \"27\", \"28\", \"29\", \"30\", \"31\", \"32\", \"33\", \"34\", \"35\", \"36\", \"37\", \"38\", \"39\", \"42\", \"43\"], \"mode\": \"lines\", \"name\": \"precision_score_macro_max\", \"stepped\": true, \"type\": \"scatter\", \"data\": [0.8198792276521926, 0.833135280130417, 0.8568434230718808, 0.8568434230718808, 0.8568434230718808, 0.8568434230718808, 0.8568434230718808, 0.8568434230718808, 0.8568434230718808, 0.8568434230718808, 0.8568434230718808, 0.8568434230718808, 0.8568434230718808, 0.8568434230718808, 0.8737558635004851, 0.8737558635004851, 0.8737558635004851, 0.8737558635004851, 0.8737558635004851, 0.8737558635004851, 0.8737558635004851, 0.8737558635004851, 0.8737558635004851, 0.8737558635004851, 0.8737558635004851, 0.8737558635004851, 0.8737558635004851, 0.8737558635004851, 0.8737558635004851, 0.8737558635004851, 0.8737558635004851, 0.8737558635004851, 0.8737558635004851, 0.8737558635004851, 0.8737558635004851, 0.8737558635004851, 0.8737558635004851, 0.8737558635004851, 0.8737558635004851, 0.8737558635004851, 0.8737558635004851, 0.8737558635004851]}], \"AUC_micro\": [{\"categories\": [\"0\", \"1\", \"2\", \"3\", \"4\", \"5\", \"6\", \"7\", \"8\", \"9\", \"10\", \"11\", \"12\", \"13\", \"14\", \"15\", \"16\", \"17\", \"18\", \"19\", \"20\", \"21\", \"22\", \"23\", \"24\", \"25\", \"26\", \"27\", \"28\", \"29\", \"30\", \"31\", \"32\", \"33\", \"34\", \"35\", \"36\", \"37\", \"38\", \"39\", \"42\", \"43\"], \"mode\": \"markers\", \"name\": \"AUC_micro\", \"stepped\": false, \"type\": \"scatter\", \"data\": [0.9680599215017671, 0.9695271162259279, 0.951202613450469, 0.9392002573194965, 0.8909899104709696, 0.8515659391076302, 0.968805042988537, 0.9671256682117676, 0.9686795306681821, 0.948833517837727, 0.9660254596330041, 0.9588369316623352, 0.9586091131357262, 0.9488612428294884, 0.9582443469629788, 0.9667957605428968, 0.9495381272902718, 0.9662614180593296, 0.9648483610681916, 0.9666891821226097, 0.9574485706336099, 0.968198783257657, 0.9670474166424935, 0.9518244623226243, 0.9687583150308922, 0.8452554744525548, 0.9674141166580829, 0.9690251853430499, 0.9664065450713647, 0.9640162955859051, 0.9534455948836044, 0.966464165694812, 0.9643127753999404, 0.9656385331999378, 0.9675710933907963, 0.9689068262679004, 0.9677441328589498, 0.9669373553317824, 0.9694990952378134, 0.9666081777872496, 0.9695363118459714, 0.9694546365855438]}, {\"categories\": [\"0\", \"1\", \"2\", \"3\", \"4\", \"5\", \"6\", \"7\", \"8\", \"9\", \"10\", \"11\", \"12\", \"13\", \"14\", \"15\", \"16\", \"17\", \"18\", \"19\", \"20\", \"21\", \"22\", \"23\", \"24\", \"25\", \"26\", \"27\", \"28\", \"29\", \"30\", \"31\", \"32\", \"33\", \"34\", \"35\", \"36\", \"37\", \"38\", \"39\", \"42\", \"43\"], \"mode\": \"lines\", \"name\": \"AUC_micro_max\", \"stepped\": true, \"type\": \"scatter\", \"data\": [0.9680599215017671, 0.9695271162259279, 0.9695271162259279, 0.9695271162259279, 0.9695271162259279, 0.9695271162259279, 0.9695271162259279, 0.9695271162259279, 0.9695271162259279, 0.9695271162259279, 0.9695271162259279, 0.9695271162259279, 0.9695271162259279, 0.9695271162259279, 0.9695271162259279, 0.9695271162259279, 0.9695271162259279, 0.9695271162259279, 0.9695271162259279, 0.9695271162259279, 0.9695271162259279, 0.9695271162259279, 0.9695271162259279, 0.9695271162259279, 0.9695271162259279, 0.9695271162259279, 0.9695271162259279, 0.9695271162259279, 0.9695271162259279, 0.9695271162259279, 0.9695271162259279, 0.9695271162259279, 0.9695271162259279, 0.9695271162259279, 0.9695271162259279, 0.9695271162259279, 0.9695271162259279, 0.9695271162259279, 0.9695271162259279, 0.9695271162259279, 0.9695363118459714, 0.9695363118459714]}], \"precision_score_micro\": [{\"categories\": [\"0\", \"1\", \"2\", \"3\", \"4\", \"5\", \"6\", \"7\", \"8\", \"9\", \"10\", \"11\", \"12\", \"13\", \"14\", \"15\", \"16\", \"17\", \"18\", \"19\", \"20\", \"21\", \"22\", \"23\", \"24\", \"25\", \"26\", \"27\", \"28\", \"29\", \"30\", \"31\", \"32\", \"33\", \"34\", \"35\", \"36\", \"37\", \"38\", \"39\", \"42\", \"43\"], \"mode\": \"markers\", \"name\": \"precision_score_micro\", \"stepped\": false, \"type\": \"scatter\", \"data\": [0.9001622060016222, 0.9051905920519059, 0.8532846715328467, 0.8452554744525548, 0.8317112733171127, 0.7890510948905108, 0.9022708840227089, 0.8980535279805353, 0.9016220600162206, 0.8452554744525548, 0.9021086780210869, 0.8798053527980535, 0.8874290348742905, 0.8800486618004867, 0.8852392538523924, 0.899918896999189, 0.8842660178426601, 0.8983779399837794, 0.8991889699918897, 0.9008110300081102, 0.8811841038118411, 0.9049472830494728, 0.9045417680454176, 0.8571776155717762, 0.905271695052717, 0.8452554744525548, 0.9033252230332524, 0.9036496350364963, 0.8969991889699919, 0.9012165450121654, 0.8452554744525548, 0.9015409570154095, 0.8969180859691809, 0.8991078669910787, 0.9012165450121654, 0.9009732360097323, 0.9007299270072994, 0.9011354420113543, 0.902514193025142, 0.900081103000811, 0.9082725060827249, 0.9046228710462287]}, {\"categories\": [\"0\", \"1\", \"2\", \"3\", \"4\", \"5\", \"6\", \"7\", \"8\", \"9\", \"10\", \"11\", \"12\", \"13\", \"14\", \"15\", \"16\", \"17\", \"18\", \"19\", \"20\", \"21\", \"22\", \"23\", \"24\", \"25\", \"26\", \"27\", \"28\", \"29\", \"30\", \"31\", \"32\", \"33\", \"34\", \"35\", \"36\", \"37\", \"38\", \"39\", \"42\", \"43\"], \"mode\": \"lines\", \"name\": \"precision_score_micro_max\", \"stepped\": true, \"type\": \"scatter\", \"data\": [0.9001622060016222, 0.9051905920519059, 0.9051905920519059, 0.9051905920519059, 0.9051905920519059, 0.9051905920519059, 0.9051905920519059, 0.9051905920519059, 0.9051905920519059, 0.9051905920519059, 0.9051905920519059, 0.9051905920519059, 0.9051905920519059, 0.9051905920519059, 0.9051905920519059, 0.9051905920519059, 0.9051905920519059, 0.9051905920519059, 0.9051905920519059, 0.9051905920519059, 0.9051905920519059, 0.9051905920519059, 0.9051905920519059, 0.9051905920519059, 0.905271695052717, 0.905271695052717, 0.905271695052717, 0.905271695052717, 0.905271695052717, 0.905271695052717, 0.905271695052717, 0.905271695052717, 0.905271695052717, 0.905271695052717, 0.905271695052717, 0.905271695052717, 0.905271695052717, 0.905271695052717, 0.905271695052717, 0.905271695052717, 0.9082725060827249, 0.9082725060827249]}]}, \"metricName\": null, \"primaryMetricName\": \"accuracy\", \"showLegend\": false}, \"run_metrics\": [{\"name\": \"experiment_status\", \"run_id\": \"AutoML_918668b3-b496-4eac-a938-568ba54b9fbc\", \"categories\": [0, 1, 2, 3, 4, 5, 6, 7, 8, 9, 10, 11, 12, 13, 14], \"series\": [{\"data\": [\"DatasetEvaluation\", \"FeaturesGeneration\", \"DatasetFeaturization\", \"DatasetFeaturizationCompleted\", \"DatasetBalancing\", \"DatasetCrossValidationSplit\", \"ModelSelection\", \"BestRunExplainModel\", \"ModelExplanationDataSetSetup\", \"PickSurrogateModel\", \"EngineeredFeatureExplanations\", \"EngineeredFeatureExplanations\", \"RawFeaturesExplanations\", \"RawFeaturesExplanations\", \"BestRunExplainModel\"]}]}, {\"name\": \"experiment_status_description\", \"run_id\": \"AutoML_918668b3-b496-4eac-a938-568ba54b9fbc\", \"categories\": [0, 1, 2, 3, 4, 5, 6, 7, 8, 9, 10, 11, 12, 13, 14], \"series\": [{\"data\": [\"Gathering dataset statistics.\", \"Generating features for the dataset.\", \"Beginning to fit featurizers and featurize the dataset.\", \"Completed fit featurizers and featurizing the dataset.\", \"Performing class balancing sweeping\", \"Generating individually featurized CV splits.\", \"Beginning model selection.\", \"Best run model explanations started\", \"Model explanations data setup completed\", \"Choosing LightGBM as the surrogate model for explanations\", \"Computation of engineered features started\", \"Computation of engineered features completed\", \"Computation of raw features started\", \"Computation of raw features completed\", \"Best run model explanations completed\"]}]}, {\"name\": \"average_precision_score_micro\", \"run_id\": \"AutoML_918668b3-b496-4eac-a938-568ba54b9fbc\", \"categories\": [0], \"series\": [{\"data\": [0.9704458260247005]}]}, {\"name\": \"AUC_weighted\", \"run_id\": \"AutoML_918668b3-b496-4eac-a938-568ba54b9fbc\", \"categories\": [0], \"series\": [{\"data\": [0.9339241775471206]}]}, {\"name\": \"f1_score_micro\", \"run_id\": \"AutoML_918668b3-b496-4eac-a938-568ba54b9fbc\", \"categories\": [0], \"series\": [{\"data\": [0.9082725060827249]}]}, {\"name\": \"precision_score_macro\", \"run_id\": \"AutoML_918668b3-b496-4eac-a938-568ba54b9fbc\", \"categories\": [0], \"series\": [{\"data\": [0.8397821564234746]}]}, {\"name\": \"AUC_macro\", \"run_id\": \"AutoML_918668b3-b496-4eac-a938-568ba54b9fbc\", \"categories\": [0], \"series\": [{\"data\": [0.9339241775471206]}]}, {\"name\": \"log_loss\", \"run_id\": \"AutoML_918668b3-b496-4eac-a938-568ba54b9fbc\", \"categories\": [0], \"series\": [{\"data\": [0.2415734760282476]}]}, {\"name\": \"average_precision_score_weighted\", \"run_id\": \"AutoML_918668b3-b496-4eac-a938-568ba54b9fbc\", \"categories\": [0], \"series\": [{\"data\": [0.9503417267240578]}]}, {\"name\": \"AUC_micro\", \"run_id\": \"AutoML_918668b3-b496-4eac-a938-568ba54b9fbc\", \"categories\": [0], \"series\": [{\"data\": [0.9695363118459714]}]}, {\"name\": \"recall_score_micro\", \"run_id\": \"AutoML_918668b3-b496-4eac-a938-568ba54b9fbc\", \"categories\": [0], \"series\": [{\"data\": [0.9082725060827249]}]}, {\"name\": \"matthews_correlation\", \"run_id\": \"AutoML_918668b3-b496-4eac-a938-568ba54b9fbc\", \"categories\": [0], \"series\": [{\"data\": [0.6265814674326827]}]}, {\"name\": \"precision_score_weighted\", \"run_id\": \"AutoML_918668b3-b496-4eac-a938-568ba54b9fbc\", \"categories\": [0], \"series\": [{\"data\": [0.9032187214790316]}]}, {\"name\": \"recall_score_weighted\", \"run_id\": \"AutoML_918668b3-b496-4eac-a938-568ba54b9fbc\", \"categories\": [0], \"series\": [{\"data\": [0.9082725060827249]}]}, {\"name\": \"weighted_accuracy\", \"run_id\": \"AutoML_918668b3-b496-4eac-a938-568ba54b9fbc\", \"categories\": [0], \"series\": [{\"data\": [0.9506636670144618]}]}, {\"name\": \"precision_score_micro\", \"run_id\": \"AutoML_918668b3-b496-4eac-a938-568ba54b9fbc\", \"categories\": [0], \"series\": [{\"data\": [0.9082725060827249]}]}, {\"name\": \"f1_score_macro\", \"run_id\": \"AutoML_918668b3-b496-4eac-a938-568ba54b9fbc\", \"categories\": [0], \"series\": [{\"data\": [0.8109262548598518]}]}, {\"name\": \"f1_score_weighted\", \"run_id\": \"AutoML_918668b3-b496-4eac-a938-568ba54b9fbc\", \"categories\": [0], \"series\": [{\"data\": [0.9044997286488763]}]}, {\"name\": \"average_precision_score_macro\", \"run_id\": \"AutoML_918668b3-b496-4eac-a938-568ba54b9fbc\", \"categories\": [0], \"series\": [{\"data\": [0.8695532524312992]}]}, {\"name\": \"norm_macro_recall\", \"run_id\": \"AutoML_918668b3-b496-4eac-a938-568ba54b9fbc\", \"categories\": [0], \"series\": [{\"data\": [0.5778540784901761]}]}, {\"name\": \"recall_score_macro\", \"run_id\": \"AutoML_918668b3-b496-4eac-a938-568ba54b9fbc\", \"categories\": [0], \"series\": [{\"data\": [0.7889270392450879]}]}, {\"name\": \"balanced_accuracy\", \"run_id\": \"AutoML_918668b3-b496-4eac-a938-568ba54b9fbc\", \"categories\": [0], \"series\": [{\"data\": [0.7889270392450879]}]}, {\"name\": \"accuracy\", \"run_id\": \"AutoML_918668b3-b496-4eac-a938-568ba54b9fbc\", \"categories\": [0], \"series\": [{\"data\": [0.9082725060827249]}]}], \"run_logs\": \"\\nRun is completed.\", \"graph\": {}, \"widget_settings\": {\"childWidgetDisplay\": \"popup\", \"send_telemetry\": false, \"log_level\": \"INFO\", \"sdk_version\": \"1.20.0\"}, \"loading\": false}"
     },
     "metadata": {},
     "output_type": "display_data"
    },
    {
     "name": "stdout",
     "output_type": "stream",
     "text": [
      "\n",
      "\n",
      "****************************************************************************************************\n",
      "DATA GUARDRAILS: \n",
      "\n",
      "TYPE:         Cross validation\n",
      "STATUS:       DONE\n",
      "DESCRIPTION:  Each iteration of the trained model was validated through cross-validation.\n",
      "              \n",
      "DETAILS:      \n",
      "+---------------------------------+\n",
      "|Number of folds                  |\n",
      "+=================================+\n",
      "|3                                |\n",
      "+---------------------------------+\n",
      "\n",
      "****************************************************************************************************\n",
      "\n",
      "TYPE:         Class balancing detection\n",
      "STATUS:       ALERTED\n",
      "DESCRIPTION:  To decrease model bias, please cancel the current run and fix balancing problem.\n",
      "              Learn more about imbalanced data: https://aka.ms/AutomatedMLImbalancedData\n",
      "DETAILS:      Imbalanced data can lead to a falsely perceived positive effect of a model's accuracy because the input data has bias towards one class.\n",
      "+---------------------------------+---------------------------------+--------------------------------------+\n",
      "|Size of the smallest class       |Name/Label of the smallest class |Number of samples in the training data|\n",
      "+=================================+=================================+======================================+\n",
      "|1908                             |True                             |12330                                 |\n",
      "+---------------------------------+---------------------------------+--------------------------------------+\n",
      "\n",
      "****************************************************************************************************\n",
      "\n",
      "TYPE:         Missing feature values imputation\n",
      "STATUS:       DONE\n",
      "DESCRIPTION:  If the missing values are expected, let the run complete. Otherwise cancel the current run and use a script to customize the handling of missing feature values that may be more appropriate based on the data type and business requirement.\n",
      "              Learn more about missing value imputation: https://aka.ms/AutomatedMLFeaturization\n",
      "DETAILS:      \n",
      "+---------------------------------+---------------------------------+---------------------------------+\n",
      "|Column name                      |Missing value count              |Imputation type                  |\n",
      "+=================================+=================================+=================================+\n",
      "|Administrative                   |14                               |mean                             |\n",
      "|Administrative_Duration          |14                               |mean                             |\n",
      "|Informational                    |14                               |mean                             |\n",
      "|Informational_Duration           |14                               |mean                             |\n",
      "|ProductRelated                   |14                               |mean                             |\n",
      "|ProductRelated_Duration          |14                               |mean                             |\n",
      "|BounceRates                      |14                               |mean                             |\n",
      "|ExitRates                        |14                               |mean                             |\n",
      "+---------------------------------+---------------------------------+---------------------------------+\n",
      "\n",
      "****************************************************************************************************\n",
      "\n",
      "TYPE:         High cardinality feature detection\n",
      "STATUS:       PASSED\n",
      "DESCRIPTION:  Your inputs were analyzed, and no high cardinality features were detected.\n",
      "              Learn more about high cardinality feature handling: https://aka.ms/AutomatedMLFeaturization\n",
      "\n",
      "****************************************************************************************************\n",
      "\n",
      "****************************************************************************************************\n",
      "ITERATION: The iteration being evaluated.\n",
      "PIPELINE: A summary description of the pipeline being evaluated.\n",
      "DURATION: Time taken for the current iteration.\n",
      "METRIC: The result of computing score on the fitted pipeline.\n",
      "BEST: The best observed score thus far.\n",
      "****************************************************************************************************\n",
      "\n",
      " ITERATION   PIPELINE                                       DURATION      METRIC      BEST\n",
      "         0   MaxAbsScaler LightGBM                          0:00:45       0.9002    0.9002\n",
      "         1   MaxAbsScaler XGBoostClassifier                 0:03:30       0.9052    0.9052\n",
      "         2   MaxAbsScaler RandomForest                      0:00:43       0.8533    0.9052\n",
      "         3   MaxAbsScaler RandomForest                      0:00:42       0.8453    0.9052\n",
      "         4   MaxAbsScaler RandomForest                      0:00:59       0.8317    0.9052\n",
      "         5   MaxAbsScaler RandomForest                      0:03:26       0.7891    0.9052\n",
      "         6   SparseNormalizer XGBoostClassifier             0:03:54       0.9023    0.9052\n",
      "         7   SparseNormalizer XGBoostClassifier             0:00:55       0.8981    0.9052\n",
      "         8   SparseNormalizer XGBoostClassifier             0:00:59       0.9016    0.9052\n",
      "         9   MaxAbsScaler RandomForest                      0:00:58       0.8453    0.9052\n",
      "        10   SparseNormalizer LightGBM                      0:00:48       0.9021    0.9052\n",
      "        11   StandardScalerWrapper RandomForest             0:00:46       0.8798    0.9052\n",
      "        12   SparseNormalizer XGBoostClassifier             0:00:44       0.8874    0.9052\n",
      "        13   MaxAbsScaler LogisticRegression                0:00:47       0.8800    0.9052\n",
      "        14   MaxAbsScaler LightGBM                          0:00:53       0.8852    0.9052\n",
      "        15   SparseNormalizer XGBoostClassifier             0:00:58       0.8999    0.9052\n",
      "        16   StandardScalerWrapper LogisticRegression       0:00:44       0.8843    0.9052\n",
      "        17   SparseNormalizer XGBoostClassifier             0:00:49       0.8984    0.9052\n",
      "        18   SparseNormalizer XGBoostClassifier             0:00:46       0.8992    0.9052\n",
      "        19   StandardScalerWrapper XGBoostClassifier        0:00:44       0.9008    0.9052\n",
      "        20   SparseNormalizer GradientBoosting              0:00:41       0.8812    0.9052\n",
      "        21   MaxAbsScaler LightGBM                          0:00:42       0.9049    0.9052\n",
      "        22   MaxAbsScaler LightGBM                          0:00:54       0.9045    0.9052\n",
      "        23   MaxAbsScaler RandomForest                      0:00:55       0.8572    0.9052\n",
      "        24   StandardScalerWrapper LightGBM                 0:00:43       0.9053    0.9053\n",
      "        25   SparseNormalizer XGBoostClassifier             0:00:47       0.8453    0.9053\n",
      "        26   MaxAbsScaler LightGBM                          0:00:43       0.9033    0.9053\n",
      "        27   SparseNormalizer LightGBM                      0:00:47       0.9036    0.9053\n",
      "        28   SparseNormalizer XGBoostClassifier             0:00:53       0.8970    0.9053\n",
      "        29   SparseNormalizer XGBoostClassifier             0:00:45       0.9012    0.9053\n",
      "        30   MaxAbsScaler LightGBM                          0:00:50       0.8453    0.9053\n",
      "        31   SparseNormalizer XGBoostClassifier             0:00:46       0.9015    0.9053\n",
      "        32   SparseNormalizer XGBoostClassifier             0:01:29       0.8969    0.9053\n",
      "        33   SparseNormalizer XGBoostClassifier             0:01:05       0.8991    0.9053\n",
      "        34   SparseNormalizer XGBoostClassifier             0:00:59       0.9012    0.9053\n",
      "        35   SparseNormalizer LightGBM                      0:00:54       0.9010    0.9053\n",
      "        36   SparseNormalizer XGBoostClassifier             0:00:59       0.9007    0.9053\n",
      "        37   SparseNormalizer XGBoostClassifier             0:01:04       0.9011    0.9053\n",
      "        38   SparseNormalizer XGBoostClassifier             0:00:50       0.9025    0.9053\n",
      "        39   SparseNormalizer XGBoostClassifier             0:00:48       0.9001    0.9053\n",
      "        40                                                  0:00:13          nan    0.9053\n",
      "        41                                                  0:00:18          nan    0.9053\n",
      "        42    VotingEnsemble                                0:01:29       0.9083    0.9083\n",
      "        43    StackEnsemble                                 0:01:29       0.9046    0.9083\n"
     ]
    },
    {
     "data": {
      "text/plain": [
       "{'runId': 'AutoML_918668b3-b496-4eac-a938-568ba54b9fbc',\n",
       " 'target': 'project3',\n",
       " 'status': 'Completed',\n",
       " 'startTimeUtc': '2021-01-22T11:19:16.933414Z',\n",
       " 'endTimeUtc': '2021-01-22T11:45:52.495796Z',\n",
       " 'properties': {'num_iterations': '1000',\n",
       "  'training_type': 'TrainFull',\n",
       "  'acquisition_function': 'EI',\n",
       "  'primary_metric': 'accuracy',\n",
       "  'train_split': '0',\n",
       "  'acquisition_parameter': '0',\n",
       "  'num_cross_validation': None,\n",
       "  'target': 'project3',\n",
       "  'AMLSettingsJsonString': '{\"path\":null,\"name\":\"automl-experiment\",\"subscription_id\":\"f5091c60-1c3c-430f-8d81-d802f6bf2414\",\"resource_group\":\"aml-quickstarts-135691\",\"workspace_name\":\"quick-starts-ws-135691\",\"region\":\"southcentralus\",\"compute_target\":\"project3\",\"spark_service\":null,\"azure_service\":\"remote\",\"many_models\":false,\"pipeline_fetch_max_batch_size\":1,\"iterations\":1000,\"primary_metric\":\"accuracy\",\"task_type\":\"classification\",\"data_script\":null,\"validation_size\":0.0,\"n_cross_validations\":null,\"y_min\":null,\"y_max\":null,\"num_classes\":null,\"featurization\":\"auto\",\"_ignore_package_version_incompatibilities\":false,\"is_timeseries\":false,\"max_cores_per_iteration\":1,\"max_concurrent_iterations\":5,\"iteration_timeout_minutes\":null,\"mem_in_mb\":null,\"enforce_time_on_windows\":false,\"experiment_timeout_minutes\":15,\"experiment_exit_score\":null,\"whitelist_models\":null,\"blacklist_algos\":[\"TensorFlowLinearClassifier\",\"TensorFlowDNN\"],\"supported_models\":[\"GradientBoosting\",\"ExtremeRandomTrees\",\"XGBoostClassifier\",\"MultinomialNaiveBayes\",\"LightGBM\",\"TensorFlowLinearClassifier\",\"SVM\",\"AveragedPerceptronClassifier\",\"LogisticRegression\",\"DecisionTree\",\"LinearSVM\",\"BernoulliNaiveBayes\",\"KNN\",\"TensorFlowDNN\",\"SGD\",\"RandomForest\"],\"auto_blacklist\":true,\"blacklist_samples_reached\":false,\"exclude_nan_labels\":true,\"verbosity\":20,\"_debug_log\":\"azureml_automl.log\",\"show_warnings\":false,\"model_explainability\":true,\"service_url\":null,\"sdk_url\":null,\"sdk_packages\":null,\"enable_onnx_compatible_models\":false,\"enable_split_onnx_featurizer_estimator_models\":false,\"vm_type\":\"STANDARD_D2_V2\",\"telemetry_verbosity\":20,\"send_telemetry\":true,\"enable_dnn\":false,\"scenario\":\"SDK-1.13.0\",\"environment_label\":null,\"force_text_dnn\":false,\"enable_feature_sweeping\":true,\"enable_early_stopping\":true,\"early_stopping_n_iters\":10,\"metrics\":null,\"enable_ensembling\":true,\"enable_stack_ensembling\":true,\"ensemble_iterations\":15,\"enable_tf\":false,\"enable_subsampling\":null,\"subsample_seed\":null,\"enable_nimbusml\":false,\"enable_streaming\":false,\"force_streaming\":false,\"track_child_runs\":true,\"allowed_private_models\":[],\"label_column_name\":\"Revenue\",\"weight_column_name\":null,\"cv_split_column_names\":null,\"enable_local_managed\":false,\"_local_managed_run_id\":null,\"cost_mode\":1,\"lag_length\":0,\"metric_operation\":\"maximize\",\"preprocess\":true}',\n",
       "  'DataPrepJsonString': '{\\\\\"training_data\\\\\": \\\\\"{\\\\\\\\\\\\\"blocks\\\\\\\\\\\\\": [{\\\\\\\\\\\\\"id\\\\\\\\\\\\\": \\\\\\\\\\\\\"7cf00a8d-6851-4df7-9c86-181ab78ba18b\\\\\\\\\\\\\", \\\\\\\\\\\\\"type\\\\\\\\\\\\\": \\\\\\\\\\\\\"Microsoft.DPrep.GetFilesBlock\\\\\\\\\\\\\", \\\\\\\\\\\\\"arguments\\\\\\\\\\\\\": {\\\\\\\\\\\\\"isArchive\\\\\\\\\\\\\": false, \\\\\\\\\\\\\"path\\\\\\\\\\\\\": {\\\\\\\\\\\\\"target\\\\\\\\\\\\\": 4, \\\\\\\\\\\\\"resourceDetails\\\\\\\\\\\\\": [{\\\\\\\\\\\\\"path\\\\\\\\\\\\\": \\\\\\\\\\\\\"https://raw.githubusercontent.com/Bhosalenileshn/ML-Azure-Udacity-Capstone-Project/main/online_shoppers_intention.csv\\\\\\\\\\\\\"}]}}, \\\\\\\\\\\\\"localData\\\\\\\\\\\\\": {}, \\\\\\\\\\\\\"isEnabled\\\\\\\\\\\\\": true, \\\\\\\\\\\\\"name\\\\\\\\\\\\\": null, \\\\\\\\\\\\\"annotation\\\\\\\\\\\\\": null}, {\\\\\\\\\\\\\"id\\\\\\\\\\\\\": \\\\\\\\\\\\\"63b59711-6f95-473d-995b-f6f434869690\\\\\\\\\\\\\", \\\\\\\\\\\\\"type\\\\\\\\\\\\\": \\\\\\\\\\\\\"Microsoft.DPrep.ParseDelimitedBlock\\\\\\\\\\\\\", \\\\\\\\\\\\\"arguments\\\\\\\\\\\\\": {\\\\\\\\\\\\\"columnHeadersMode\\\\\\\\\\\\\": 3, \\\\\\\\\\\\\"fileEncoding\\\\\\\\\\\\\": 0, \\\\\\\\\\\\\"handleQuotedLineBreaks\\\\\\\\\\\\\": false, \\\\\\\\\\\\\"preview\\\\\\\\\\\\\": false, \\\\\\\\\\\\\"separator\\\\\\\\\\\\\": \\\\\\\\\\\\\",\\\\\\\\\\\\\", \\\\\\\\\\\\\"skipRows\\\\\\\\\\\\\": 0, \\\\\\\\\\\\\"skipRowsMode\\\\\\\\\\\\\": 0}, \\\\\\\\\\\\\"localData\\\\\\\\\\\\\": {}, \\\\\\\\\\\\\"isEnabled\\\\\\\\\\\\\": true, \\\\\\\\\\\\\"name\\\\\\\\\\\\\": null, \\\\\\\\\\\\\"annotation\\\\\\\\\\\\\": null}, {\\\\\\\\\\\\\"id\\\\\\\\\\\\\": \\\\\\\\\\\\\"46fc4129-d47e-4e58-9c75-cbdaa55392c8\\\\\\\\\\\\\", \\\\\\\\\\\\\"type\\\\\\\\\\\\\": \\\\\\\\\\\\\"Microsoft.DPrep.DropColumnsBlock\\\\\\\\\\\\\", \\\\\\\\\\\\\"arguments\\\\\\\\\\\\\": {\\\\\\\\\\\\\"columns\\\\\\\\\\\\\": {\\\\\\\\\\\\\"type\\\\\\\\\\\\\": 0, \\\\\\\\\\\\\"details\\\\\\\\\\\\\": {\\\\\\\\\\\\\"selectedColumns\\\\\\\\\\\\\": [\\\\\\\\\\\\\"Path\\\\\\\\\\\\\"]}}}, \\\\\\\\\\\\\"localData\\\\\\\\\\\\\": {}, \\\\\\\\\\\\\"isEnabled\\\\\\\\\\\\\": true, \\\\\\\\\\\\\"name\\\\\\\\\\\\\": null, \\\\\\\\\\\\\"annotation\\\\\\\\\\\\\": null}, {\\\\\\\\\\\\\"id\\\\\\\\\\\\\": \\\\\\\\\\\\\"4f516f28-933f-48b8-b938-bdc46d93d658\\\\\\\\\\\\\", \\\\\\\\\\\\\"type\\\\\\\\\\\\\": \\\\\\\\\\\\\"Microsoft.DPrep.SetColumnTypesBlock\\\\\\\\\\\\\", \\\\\\\\\\\\\"arguments\\\\\\\\\\\\\": {\\\\\\\\\\\\\"columnConversion\\\\\\\\\\\\\": [{\\\\\\\\\\\\\"column\\\\\\\\\\\\\": {\\\\\\\\\\\\\"type\\\\\\\\\\\\\": 2, \\\\\\\\\\\\\"details\\\\\\\\\\\\\": {\\\\\\\\\\\\\"selectedColumn\\\\\\\\\\\\\": \\\\\\\\\\\\\"Administrative\\\\\\\\\\\\\"}}, \\\\\\\\\\\\\"typeProperty\\\\\\\\\\\\\": 2}, {\\\\\\\\\\\\\"column\\\\\\\\\\\\\": {\\\\\\\\\\\\\"type\\\\\\\\\\\\\": 2, \\\\\\\\\\\\\"details\\\\\\\\\\\\\": {\\\\\\\\\\\\\"selectedColumn\\\\\\\\\\\\\": \\\\\\\\\\\\\"Administrative_Duration\\\\\\\\\\\\\"}}, \\\\\\\\\\\\\"typeProperty\\\\\\\\\\\\\": 3}, {\\\\\\\\\\\\\"column\\\\\\\\\\\\\": {\\\\\\\\\\\\\"type\\\\\\\\\\\\\": 2, \\\\\\\\\\\\\"details\\\\\\\\\\\\\": {\\\\\\\\\\\\\"selectedColumn\\\\\\\\\\\\\": \\\\\\\\\\\\\"Informational\\\\\\\\\\\\\"}}, \\\\\\\\\\\\\"typeProperty\\\\\\\\\\\\\": 2}, {\\\\\\\\\\\\\"column\\\\\\\\\\\\\": {\\\\\\\\\\\\\"type\\\\\\\\\\\\\": 2, \\\\\\\\\\\\\"details\\\\\\\\\\\\\": {\\\\\\\\\\\\\"selectedColumn\\\\\\\\\\\\\": \\\\\\\\\\\\\"Informational_Duration\\\\\\\\\\\\\"}}, \\\\\\\\\\\\\"typeProperty\\\\\\\\\\\\\": 3}, {\\\\\\\\\\\\\"column\\\\\\\\\\\\\": {\\\\\\\\\\\\\"type\\\\\\\\\\\\\": 2, \\\\\\\\\\\\\"details\\\\\\\\\\\\\": {\\\\\\\\\\\\\"selectedColumn\\\\\\\\\\\\\": \\\\\\\\\\\\\"ProductRelated\\\\\\\\\\\\\"}}, \\\\\\\\\\\\\"typeProperty\\\\\\\\\\\\\": 2}, {\\\\\\\\\\\\\"column\\\\\\\\\\\\\": {\\\\\\\\\\\\\"type\\\\\\\\\\\\\": 2, \\\\\\\\\\\\\"details\\\\\\\\\\\\\": {\\\\\\\\\\\\\"selectedColumn\\\\\\\\\\\\\": \\\\\\\\\\\\\"ProductRelated_Duration\\\\\\\\\\\\\"}}, \\\\\\\\\\\\\"typeProperty\\\\\\\\\\\\\": 3}, {\\\\\\\\\\\\\"column\\\\\\\\\\\\\": {\\\\\\\\\\\\\"type\\\\\\\\\\\\\": 2, \\\\\\\\\\\\\"details\\\\\\\\\\\\\": {\\\\\\\\\\\\\"selectedColumn\\\\\\\\\\\\\": \\\\\\\\\\\\\"BounceRates\\\\\\\\\\\\\"}}, \\\\\\\\\\\\\"typeProperty\\\\\\\\\\\\\": 3}, {\\\\\\\\\\\\\"column\\\\\\\\\\\\\": {\\\\\\\\\\\\\"type\\\\\\\\\\\\\": 2, \\\\\\\\\\\\\"details\\\\\\\\\\\\\": {\\\\\\\\\\\\\"selectedColumn\\\\\\\\\\\\\": \\\\\\\\\\\\\"ExitRates\\\\\\\\\\\\\"}}, \\\\\\\\\\\\\"typeProperty\\\\\\\\\\\\\": 3}, {\\\\\\\\\\\\\"column\\\\\\\\\\\\\": {\\\\\\\\\\\\\"type\\\\\\\\\\\\\": 2, \\\\\\\\\\\\\"details\\\\\\\\\\\\\": {\\\\\\\\\\\\\"selectedColumn\\\\\\\\\\\\\": \\\\\\\\\\\\\"PageValues\\\\\\\\\\\\\"}}, \\\\\\\\\\\\\"typeProperty\\\\\\\\\\\\\": 3}, {\\\\\\\\\\\\\"column\\\\\\\\\\\\\": {\\\\\\\\\\\\\"type\\\\\\\\\\\\\": 2, \\\\\\\\\\\\\"details\\\\\\\\\\\\\": {\\\\\\\\\\\\\"selectedColumn\\\\\\\\\\\\\": \\\\\\\\\\\\\"SpecialDay\\\\\\\\\\\\\"}}, \\\\\\\\\\\\\"typeProperty\\\\\\\\\\\\\": 3}, {\\\\\\\\\\\\\"column\\\\\\\\\\\\\": {\\\\\\\\\\\\\"type\\\\\\\\\\\\\": 2, \\\\\\\\\\\\\"details\\\\\\\\\\\\\": {\\\\\\\\\\\\\"selectedColumn\\\\\\\\\\\\\": \\\\\\\\\\\\\"Month\\\\\\\\\\\\\"}}, \\\\\\\\\\\\\"typeProperty\\\\\\\\\\\\\": 0}, {\\\\\\\\\\\\\"column\\\\\\\\\\\\\": {\\\\\\\\\\\\\"type\\\\\\\\\\\\\": 2, \\\\\\\\\\\\\"details\\\\\\\\\\\\\": {\\\\\\\\\\\\\"selectedColumn\\\\\\\\\\\\\": \\\\\\\\\\\\\"OperatingSystems\\\\\\\\\\\\\"}}, \\\\\\\\\\\\\"typeProperty\\\\\\\\\\\\\": 2}, {\\\\\\\\\\\\\"column\\\\\\\\\\\\\": {\\\\\\\\\\\\\"type\\\\\\\\\\\\\": 2, \\\\\\\\\\\\\"details\\\\\\\\\\\\\": {\\\\\\\\\\\\\"selectedColumn\\\\\\\\\\\\\": \\\\\\\\\\\\\"Browser\\\\\\\\\\\\\"}}, \\\\\\\\\\\\\"typeProperty\\\\\\\\\\\\\": 2}, {\\\\\\\\\\\\\"column\\\\\\\\\\\\\": {\\\\\\\\\\\\\"type\\\\\\\\\\\\\": 2, \\\\\\\\\\\\\"details\\\\\\\\\\\\\": {\\\\\\\\\\\\\"selectedColumn\\\\\\\\\\\\\": \\\\\\\\\\\\\"Region\\\\\\\\\\\\\"}}, \\\\\\\\\\\\\"typeProperty\\\\\\\\\\\\\": 2}, {\\\\\\\\\\\\\"column\\\\\\\\\\\\\": {\\\\\\\\\\\\\"type\\\\\\\\\\\\\": 2, \\\\\\\\\\\\\"details\\\\\\\\\\\\\": {\\\\\\\\\\\\\"selectedColumn\\\\\\\\\\\\\": \\\\\\\\\\\\\"TrafficType\\\\\\\\\\\\\"}}, \\\\\\\\\\\\\"typeProperty\\\\\\\\\\\\\": 2}, {\\\\\\\\\\\\\"column\\\\\\\\\\\\\": {\\\\\\\\\\\\\"type\\\\\\\\\\\\\": 2, \\\\\\\\\\\\\"details\\\\\\\\\\\\\": {\\\\\\\\\\\\\"selectedColumn\\\\\\\\\\\\\": \\\\\\\\\\\\\"VisitorType\\\\\\\\\\\\\"}}, \\\\\\\\\\\\\"typeProperty\\\\\\\\\\\\\": 0}, {\\\\\\\\\\\\\"column\\\\\\\\\\\\\": {\\\\\\\\\\\\\"type\\\\\\\\\\\\\": 2, \\\\\\\\\\\\\"details\\\\\\\\\\\\\": {\\\\\\\\\\\\\"selectedColumn\\\\\\\\\\\\\": \\\\\\\\\\\\\"Weekend\\\\\\\\\\\\\"}}, \\\\\\\\\\\\\"typeProperty\\\\\\\\\\\\\": 1}, {\\\\\\\\\\\\\"column\\\\\\\\\\\\\": {\\\\\\\\\\\\\"type\\\\\\\\\\\\\": 2, \\\\\\\\\\\\\"details\\\\\\\\\\\\\": {\\\\\\\\\\\\\"selectedColumn\\\\\\\\\\\\\": \\\\\\\\\\\\\"Revenue\\\\\\\\\\\\\"}}, \\\\\\\\\\\\\"typeProperty\\\\\\\\\\\\\": 1}]}, \\\\\\\\\\\\\"localData\\\\\\\\\\\\\": {}, \\\\\\\\\\\\\"isEnabled\\\\\\\\\\\\\": true, \\\\\\\\\\\\\"name\\\\\\\\\\\\\": null, \\\\\\\\\\\\\"annotation\\\\\\\\\\\\\": null}], \\\\\\\\\\\\\"inspectors\\\\\\\\\\\\\": [], \\\\\\\\\\\\\"meta\\\\\\\\\\\\\": {\\\\\\\\\\\\\"savedDatasetId\\\\\\\\\\\\\": \\\\\\\\\\\\\"9061b872-7291-45da-8113-c3826884f98b\\\\\\\\\\\\\", \\\\\\\\\\\\\"datasetType\\\\\\\\\\\\\": \\\\\\\\\\\\\"tabular\\\\\\\\\\\\\", \\\\\\\\\\\\\"subscriptionId\\\\\\\\\\\\\": \\\\\\\\\\\\\"f5091c60-1c3c-430f-8d81-d802f6bf2414\\\\\\\\\\\\\", \\\\\\\\\\\\\"workspaceId\\\\\\\\\\\\\": \\\\\\\\\\\\\"d865f395-57a8-4df9-9fdc-15c5cdc80f5e\\\\\\\\\\\\\", \\\\\\\\\\\\\"workspaceLocation\\\\\\\\\\\\\": \\\\\\\\\\\\\"southcentralus\\\\\\\\\\\\\"}}\\\\\", \\\\\"activities\\\\\": 0}',\n",
       "  'EnableSubsampling': None,\n",
       "  'runTemplate': 'AutoML',\n",
       "  'azureml.runsource': 'automl',\n",
       "  'display_task_type': 'classification',\n",
       "  'dependencies_versions': '{\"azureml-widgets\": \"1.19.0\", \"azureml-train\": \"1.19.0\", \"azureml-train-restclients-hyperdrive\": \"1.19.0\", \"azureml-train-core\": \"1.19.0\", \"azureml-train-automl\": \"1.19.0\", \"azureml-train-automl-runtime\": \"1.20.0\", \"azureml-train-automl-client\": \"1.20.0\", \"azureml-tensorboard\": \"1.19.0\", \"azureml-telemetry\": \"1.20.0\", \"azureml-sdk\": \"1.19.0\", \"azureml-samples\": \"0+unknown\", \"azureml-pipeline\": \"1.19.0\", \"azureml-pipeline-steps\": \"1.19.0\", \"azureml-pipeline-core\": \"1.20.0\", \"azureml-opendatasets\": \"1.19.0\", \"azureml-model-management-sdk\": \"1.0.1b6.post1\", \"azureml-mlflow\": \"1.19.0\", \"azureml-interpret\": \"1.20.0\", \"azureml-explain-model\": \"1.19.0\", \"azureml-defaults\": \"1.20.0\", \"azureml-dataset-runtime\": \"1.20.0\", \"azureml-dataprep\": \"2.7.2\", \"azureml-dataprep-rslex\": \"1.5.0\", \"azureml-dataprep-native\": \"27.0.0\", \"azureml-datadrift\": \"1.19.0\", \"azureml-core\": \"1.20.0\", \"azureml-contrib-services\": \"1.19.0\", \"azureml-contrib-server\": \"1.19.0\", \"azureml-contrib-reinforcementlearning\": \"1.19.0\", \"azureml-contrib-pipeline-steps\": \"1.19.0\", \"azureml-contrib-notebook\": \"1.19.0\", \"azureml-contrib-interpret\": \"1.19.0\", \"azureml-contrib-gbdt\": \"1.19.0\", \"azureml-contrib-fairness\": \"1.19.0\", \"azureml-contrib-dataset\": \"1.19.0\", \"azureml-cli-common\": \"1.19.0\", \"azureml-automl-runtime\": \"1.20.0\", \"azureml-automl-core\": \"1.20.0\", \"azureml-accel-models\": \"1.19.0\"}',\n",
       "  '_aml_system_scenario_identification': 'Remote.Parent',\n",
       "  'ClientType': 'SDK',\n",
       "  'environment_cpu_name': 'AzureML-AutoML',\n",
       "  'environment_cpu_label': 'prod',\n",
       "  'environment_gpu_name': 'AzureML-AutoML-GPU',\n",
       "  'environment_gpu_label': 'prod',\n",
       "  'root_attribution': 'automl',\n",
       "  'attribution': 'AutoML',\n",
       "  'Orchestrator': 'AutoML',\n",
       "  'CancelUri': 'https://southcentralus.experiments.azureml.net/jasmine/v1.0/subscriptions/f5091c60-1c3c-430f-8d81-d802f6bf2414/resourceGroups/aml-quickstarts-135691/providers/Microsoft.MachineLearningServices/workspaces/quick-starts-ws-135691/experimentids/0177a2a5-9aab-4c18-9759-3dbc918eb7e5/cancel/AutoML_918668b3-b496-4eac-a938-568ba54b9fbc',\n",
       "  'ClientSdkVersion': '1.20.0',\n",
       "  'snapshotId': '00000000-0000-0000-0000-000000000000',\n",
       "  'SetupRunId': 'AutoML_918668b3-b496-4eac-a938-568ba54b9fbc_setup',\n",
       "  'SetupRunContainerId': 'dcid.AutoML_918668b3-b496-4eac-a938-568ba54b9fbc_setup',\n",
       "  'FeaturizationRunJsonPath': 'featurizer_container.json',\n",
       "  'FeaturizationRunId': 'AutoML_918668b3-b496-4eac-a938-568ba54b9fbc_featurize',\n",
       "  'ProblemInfoJsonString': '{\"dataset_num_categorical\": 0, \"is_sparse\": true, \"subsampling\": false, \"dataset_classes\": 2, \"dataset_features\": 74, \"dataset_samples\": 12330, \"single_frequency_class_detected\": false}',\n",
       "  'ModelExplainRunId': 'AutoML_918668b3-b496-4eac-a938-568ba54b9fbc_ModelExplain'},\n",
       " 'inputDatasets': [{'dataset': {'id': '9061b872-7291-45da-8113-c3826884f98b'}, 'consumptionDetails': {'type': 'RunInput', 'inputName': 'training_data', 'mechanism': 'Direct'}}],\n",
       " 'outputDatasets': [],\n",
       " 'logFiles': {},\n",
       " 'submittedBy': 'ODL_User 135691'}"
      ]
     },
     "execution_count": 10,
     "metadata": {},
     "output_type": "execute_result"
    }
   ],
   "source": [
    "RunDetails(remote_run).show()\n",
    "remote_run.wait_for_completion(show_output=True)"
   ]
  },
  {
   "cell_type": "markdown",
   "metadata": {},
   "source": [
    "## Best Model\n",
    "\n",
    "TODO: In the cell below, get the best model from the automl experiments and display all the properties of the model.\n",
    "\n"
   ]
  },
  {
   "cell_type": "code",
   "execution_count": 12,
   "metadata": {
    "gather": {
     "logged": 1598431425670
    },
    "jupyter": {
     "outputs_hidden": false,
     "source_hidden": false
    },
    "nteract": {
     "transient": {
      "deleting": false
     }
    }
   },
   "outputs": [
    {
     "name": "stdout",
     "output_type": "stream",
     "text": [
      "Pipeline(memory=None,\n",
      "         steps=[('datatransformer',\n",
      "                 DataTransformer(enable_dnn=None, enable_feature_sweeping=None,\n",
      "                                 feature_sweeping_config=None,\n",
      "                                 feature_sweeping_timeout=None,\n",
      "                                 featurization_config=None, force_text_dnn=None,\n",
      "                                 is_cross_validation=None,\n",
      "                                 is_onnx_compatible=None, logger=None,\n",
      "                                 observer=None, task=None, working_dir=None)),\n",
      "                ('prefittedsoftvotingclassifier',...\n",
      "                                                                                               reg_lambda=0.20833333333333334,\n",
      "                                                                                               scale_pos_weight=1,\n",
      "                                                                                               seed=None,\n",
      "                                                                                               silent=None,\n",
      "                                                                                               subsample=1,\n",
      "                                                                                               tree_method='auto',\n",
      "                                                                                               verbose=-10,\n",
      "                                                                                               verbosity=0))],\n",
      "                                                                     verbose=False))],\n",
      "                                               flatten_transform=None,\n",
      "                                               weights=[0.07142857142857142,\n",
      "                                                        0.2857142857142857,\n",
      "                                                        0.07142857142857142,\n",
      "                                                        0.21428571428571427,\n",
      "                                                        0.07142857142857142,\n",
      "                                                        0.07142857142857142,\n",
      "                                                        0.07142857142857142,\n",
      "                                                        0.07142857142857142,\n",
      "                                                        0.07142857142857142]))],\n",
      "         verbose=False)\n",
      "Y_transformer(['LabelEncoder', LabelEncoder()])\n"
     ]
    }
   ],
   "source": [
    "automl_best_run, fitted_model = remote_run.get_output()\n",
    "print(fitted_model)"
   ]
  },
  {
   "cell_type": "code",
   "execution_count": 16,
   "metadata": {
    "gather": {
     "logged": 1598431426111
    },
    "jupyter": {
     "outputs_hidden": false,
     "source_hidden": false
    },
    "nteract": {
     "transient": {
      "deleting": false
     }
    }
   },
   "outputs": [],
   "source": [
    "#TODO: Save the best model\n",
    "automl_model = automl_best_run.register_model(model_name='classification_automl',model_path='outputs/')"
   ]
  },
  {
   "cell_type": "code",
   "execution_count": 17,
   "metadata": {},
   "outputs": [],
   "source": [
    "# env = automl_best_run.get_environment()\n",
    "# automl_best_run.download_files?"
   ]
  },
  {
   "cell_type": "code",
   "execution_count": 18,
   "metadata": {},
   "outputs": [
    {
     "name": "stdout",
     "output_type": "stream",
     "text": [
      "Metric name : average_precision_score_micro = 0.9704458260247005\n",
      "Metric name : AUC_weighted = 0.9339241775471206\n",
      "Metric name : f1_score_micro = 0.9082725060827249\n",
      "Metric name : f1_score_macro = 0.8109262548598518\n",
      "Metric name : matthews_correlation = 0.6265814674326827\n",
      "Metric name : accuracy = 0.9082725060827249\n",
      "Metric name : f1_score_weighted = 0.9044997286488763\n",
      "Metric name : recall_score_micro = 0.9082725060827249\n",
      "Metric name : average_precision_score_macro = 0.8695532524312992\n",
      "Metric name : precision_score_micro = 0.9082725060827249\n",
      "Metric name : recall_score_weighted = 0.9082725060827249\n",
      "Metric name : recall_score_macro = 0.7889270392450879\n",
      "Metric name : norm_macro_recall = 0.5778540784901761\n",
      "Metric name : balanced_accuracy = 0.7889270392450879\n",
      "Metric name : log_loss = 0.2415734760282476\n",
      "Metric name : weighted_accuracy = 0.9506636670144618\n",
      "Metric name : AUC_micro = 0.9695363118459714\n",
      "Metric name : precision_score_weighted = 0.9032187214790316\n",
      "Metric name : average_precision_score_weighted = 0.9503417267240578\n",
      "Metric name : precision_score_macro = 0.8397821564234746\n",
      "Metric name : AUC_macro = 0.9339241775471206\n",
      "Metric name : confusion_matrix = aml://artifactId/ExperimentRun/dcid.AutoML_918668b3-b496-4eac-a938-568ba54b9fbc_42/confusion_matrix\n",
      "Metric name : accuracy_table = aml://artifactId/ExperimentRun/dcid.AutoML_918668b3-b496-4eac-a938-568ba54b9fbc_42/accuracy_table\n"
     ]
    }
   ],
   "source": [
    "# automl metrics\n",
    "automl_metrics = automl_best_run.get_metrics()\n",
    "for metric in automl_metrics:\n",
    "    print('Metric name : {} = {}'.format(metric,automl_metrics[metric]))"
   ]
  },
  {
   "cell_type": "code",
   "execution_count": 55,
   "metadata": {},
   "outputs": [
    {
     "name": "stdout",
     "output_type": "stream",
     "text": [
      "Metric name : accuracy = 0.9082725060827249\n"
     ]
    }
   ],
   "source": [
    "# automl metrics\n",
    "#automl_metrics = automl_best_run.get_metrics()\n",
    "print('Metric name : accuracy = {}'.format(automl_metrics['accuracy']))"
   ]
  },
  {
   "cell_type": "code",
   "execution_count": 50,
   "metadata": {},
   "outputs": [
    {
     "name": "stdout",
     "output_type": "stream",
     "text": [
      "classification_hyperdrive version: 1\n",
      "{}\n",
      "classification_automl version: 1\n",
      "{}\n"
     ]
    }
   ],
   "source": [
    "for model in Model.list(ws):\n",
    "    print(model.name, 'version:', model.version)\n",
    "    print(model.properties)"
   ]
  },
  {
   "cell_type": "markdown",
   "metadata": {},
   "source": [
    "## Model Deployment\n",
    "\n",
    "Remember you have to deploy only one of the two models you trained.. Perform the steps in the rest of this notebook only if you wish to deploy this model.\n",
    "\n",
    "TODO: In the cell below, register the model, create an inference config and deploy the model as a web service."
   ]
  },
  {
   "cell_type": "code",
   "execution_count": 22,
   "metadata": {
    "gather": {
     "logged": 1598431435189
    },
    "jupyter": {
     "outputs_hidden": false,
     "source_hidden": false
    },
    "nteract": {
     "transient": {
      "deleting": false
     }
    }
   },
   "outputs": [],
   "source": [
    "# Download scoring file \n",
    "automl_best_run.download_file('outputs/scoring_file_v_1_0_0.py', 'score.py')\n",
    "\n",
    "# Download environment file\n",
    "automl_best_run.download_file('outputs/conda_env_v_1_0_0.yml', 'envFile.yml')\n",
    "automl_best_run.download_file('outputs/env_dependencies.json', 'envDependencies.json')\n"
   ]
  },
  {
   "cell_type": "markdown",
   "metadata": {
    "collapsed": true,
    "gather": {
     "logged": 1598431657736
    },
    "jupyter": {
     "outputs_hidden": false,
     "source_hidden": false
    },
    "nteract": {
     "transient": {
      "deleting": false
     }
    }
   },
   "source": [
    "TODO: In the cell below, send a request to the web service you deployed to test it."
   ]
  },
  {
   "cell_type": "code",
   "execution_count": 20,
   "metadata": {
    "gather": {
     "logged": 1598432707604
    },
    "jupyter": {
     "outputs_hidden": false,
     "source_hidden": false
    },
    "nteract": {
     "transient": {
      "deleting": false
     }
    }
   },
   "outputs": [],
   "source": [
    "from azureml.core.environment import Environment\n",
    "from azureml.core.model import InferenceConfig\n",
    "from azureml.core.webservice import AciWebservice\n",
    "from azureml.core import Model\n",
    "#automl_best_run.get_environment()"
   ]
  },
  {
   "cell_type": "code",
   "execution_count": 33,
   "metadata": {},
   "outputs": [
    {
     "name": "stdout",
     "output_type": "stream",
     "text": [
      "Tips: You can try get_logs(): https://aka.ms/debugimage#dockerlog or local deployment: https://aka.ms/debugimage#debug-locally to debug if deployment takes longer than 10 minutes.\n",
      "Running................................................\n",
      "Succeeded\n",
      "ACI service creation operation finished, operation \"Succeeded\"\n",
      "Healthy\n",
      "http://0e87fbaf-14c4-45a2-8d6c-8f9b5ea7de00.southcentralus.azurecontainer.io/score\n",
      "http://0e87fbaf-14c4-45a2-8d6c-8f9b5ea7de00.southcentralus.azurecontainer.io/swagger.json\n"
     ]
    }
   ],
   "source": [
    "inference_config = InferenceConfig(entry_script='score.py',\n",
    "                                    environment=automl_best_run.get_environment())\n",
    "\n",
    "deployment_config = AciWebservice.deploy_configuration(cpu_cores = 1, memory_gb = 4,enable_app_insights=True)\n",
    "service = Model.deploy(ws, \"shoppingintension\", [automl_model], inference_config, deployment_config)\n",
    "service.wait_for_deployment(show_output = True)\n",
    "print(service.state)\n",
    "\n",
    "print(service.scoring_uri)\n",
    "\n",
    "print(service.swagger_uri)"
   ]
  },
  {
   "cell_type": "code",
   "execution_count": 34,
   "metadata": {},
   "outputs": [
    {
     "name": "stdout",
     "output_type": "stream",
     "text": [
      "2021-01-22T12:50:56,251155700+00:00 - iot-server/run \n",
      "2021-01-22T12:50:56,277198200+00:00 - gunicorn/run \n",
      "2021-01-22T12:50:56,278819400+00:00 - rsyslog/run \n",
      "2021-01-22T12:50:56,293920500+00:00 - nginx/run \n",
      "/usr/sbin/nginx: /azureml-envs/azureml_23df5d07c5e8388dac3ecfdf573dafb1/lib/libcrypto.so.1.0.0: no version information available (required by /usr/sbin/nginx)\n",
      "/usr/sbin/nginx: /azureml-envs/azureml_23df5d07c5e8388dac3ecfdf573dafb1/lib/libcrypto.so.1.0.0: no version information available (required by /usr/sbin/nginx)\n",
      "/usr/sbin/nginx: /azureml-envs/azureml_23df5d07c5e8388dac3ecfdf573dafb1/lib/libssl.so.1.0.0: no version information available (required by /usr/sbin/nginx)\n",
      "/usr/sbin/nginx: /azureml-envs/azureml_23df5d07c5e8388dac3ecfdf573dafb1/lib/libssl.so.1.0.0: no version information available (required by /usr/sbin/nginx)\n",
      "/usr/sbin/nginx: /azureml-envs/azureml_23df5d07c5e8388dac3ecfdf573dafb1/lib/libssl.so.1.0.0: no version information available (required by /usr/sbin/nginx)\n",
      "rsyslogd: /azureml-envs/azureml_23df5d07c5e8388dac3ecfdf573dafb1/lib/libuuid.so.1: no version information available (required by rsyslogd)\n",
      "EdgeHubConnectionString and IOTEDGE_IOTHUBHOSTNAME are not set. Exiting...\n",
      "2021-01-22T12:50:58,156744500+00:00 - iot-server/finish 1 0\n",
      "2021-01-22T12:50:58,210949300+00:00 - Exit code 1 is normal. Not restarting iot-server.\n",
      "Starting gunicorn 19.9.0\n",
      "Listening at: http://127.0.0.1:31311 (67)\n",
      "Using worker: sync\n",
      "worker timeout is set to 300\n",
      "Booting worker with pid: 97\n",
      "SPARK_HOME not set. Skipping PySpark Initialization.\n",
      "Generating new fontManager, this may take some time...\n",
      "Initializing logger\n",
      "2021-01-22 12:51:04,353 | root | INFO | Starting up app insights client\n",
      "2021-01-22 12:51:04,354 | root | INFO | Starting up request id generator\n",
      "2021-01-22 12:51:04,354 | root | INFO | Starting up app insight hooks\n",
      "2021-01-22 12:51:04,355 | root | INFO | Invoking user's init function\n",
      "2021-01-22 12:51:15,149 | azureml.core | WARNING | Failure while loading azureml_run_type_providers. Failed to load entrypoint automl = azureml.train.automl.run:AutoMLRun._from_run_dto with exception cannot import name 'RunType'.\n",
      "Failure while loading azureml_run_type_providers. Failed to load entrypoint automl = azureml.train.automl.run:AutoMLRun._from_run_dto with exception cannot import name 'RunType'.\n",
      "2021-01-22 12:51:15,508 | root | INFO | Users's init has completed successfully\n",
      "2021-01-22 12:51:15,567 | root | INFO | Skipping middleware: dbg_model_info as it's not enabled.\n",
      "2021-01-22 12:51:15,568 | root | INFO | Skipping middleware: dbg_resource_usage as it's not enabled.\n",
      "2021-01-22 12:51:15,570 | root | INFO | Scoring timeout is found from os.environ: 60000 ms\n",
      "2021-01-22 12:51:15,592 | root | INFO | 200\n",
      "127.0.0.1 - - [22/Jan/2021:12:51:15 +0000] \"GET /swagger.json HTTP/1.0\" 200 3256 \"-\" \"Go-http-client/1.1\"\n",
      "2021-01-22 12:51:18,221 | root | INFO | 200\n",
      "127.0.0.1 - - [22/Jan/2021:12:51:18 +0000] \"GET /swagger.json HTTP/1.0\" 200 3256 \"-\" \"Go-http-client/1.1\"\n",
      "\n"
     ]
    }
   ],
   "source": [
    "print(service.get_logs())"
   ]
  },
  {
   "cell_type": "markdown",
   "metadata": {
    "collapsed": true,
    "gather": {
     "logged": 1598432765711
    },
    "jupyter": {
     "outputs_hidden": false,
     "source_hidden": false
    },
    "nteract": {
     "transient": {
      "deleting": false
     }
    }
   },
   "source": [
    "TODO: In the cell below, print the logs of the web service and delete the service"
   ]
  },
  {
   "cell_type": "code",
   "execution_count": 30,
   "metadata": {},
   "outputs": [
    {
     "data": {
      "text/plain": [
       "'azureml-models/classification_automl/1/outputs'"
      ]
     },
     "execution_count": 30,
     "metadata": {},
     "output_type": "execute_result"
    }
   ],
   "source": [
    "Model.get_model_path('classification_automl',_workspace=ws)"
   ]
  },
  {
   "cell_type": "code",
   "execution_count": 37,
   "metadata": {},
   "outputs": [
    {
     "name": "stdout",
     "output_type": "stream",
     "text": [
      "{\"data\": [{\"Administrative\": 0.0, \"Administrative_Duration\": 0.0, \"Informational\": 0.0, \"Informational_Duration\": 0.0, \"ProductRelated\": 3.0, \"ProductRelated_Duration\": 58.5, \"BounceRates\": 0.0, \"ExitRates\": 0.066666667, \"PageValues\": 0.0, \"SpecialDay\": 0.0, \"Month\": \"Dec\", \"OperatingSystems\": 2, \"Browser\": 4, \"Region\": 1, \"TrafficType\": 2, \"VisitorType\": \"Returning_Visitor\", \"Weekend\": false}, {\"Administrative\": 1.0, \"Administrative_Duration\": 0.0, \"Informational\": 0.0, \"Informational_Duration\": 0.0, \"ProductRelated\": 10.0, \"ProductRelated_Duration\": 304.0, \"BounceRates\": 0.0, \"ExitRates\": 0.02, \"PageValues\": 0.0, \"SpecialDay\": 0.0, \"Month\": \"May\", \"OperatingSystems\": 3, \"Browser\": 2, \"Region\": 4, \"TrafficType\": 4, \"VisitorType\": \"Returning_Visitor\", \"Weekend\": true}, {\"Administrative\": 4.0, \"Administrative_Duration\": 136.0, \"Informational\": 0.0, \"Informational_Duration\": 0.0, \"ProductRelated\": 31.0, \"ProductRelated_Duration\": 1141.833333, \"BounceRates\": 0.0, \"ExitRates\": 0.006060606, \"PageValues\": 10.63449802, \"SpecialDay\": 0.0, \"Month\": \"Mar\", \"OperatingSystems\": 1, \"Browser\": 1, \"Region\": 1, \"TrafficType\": 1, \"VisitorType\": \"Returning_Visitor\", \"Weekend\": false}, {\"Administrative\": 12.0, \"Administrative_Duration\": 203.4714286, \"Informational\": 1.0, \"Informational_Duration\": 0.0, \"ProductRelated\": 220.0, \"ProductRelated_Duration\": 11308.09795, \"BounceRates\": 0.001699507, \"ExitRates\": 0.012414872, \"PageValues\": 0.673127586, \"SpecialDay\": 0.8, \"Month\": \"May\", \"OperatingSystems\": 2, \"Browser\": 2, \"Region\": 5, \"TrafficType\": 6, \"VisitorType\": \"Returning_Visitor\", \"Weekend\": false}, {\"Administrative\": 0.0, \"Administrative_Duration\": 0.0, \"Informational\": 0.0, \"Informational_Duration\": 0.0, \"ProductRelated\": 3.0, \"ProductRelated_Duration\": 60.4, \"BounceRates\": 0.066666667, \"ExitRates\": 0.133333333, \"PageValues\": 0.0, \"SpecialDay\": 0.0, \"Month\": \"June\", \"OperatingSystems\": 3, \"Browser\": 2, \"Region\": 2, \"TrafficType\": 1, \"VisitorType\": \"Returning_Visitor\", \"Weekend\": false}, {\"Administrative\": 0.0, \"Administrative_Duration\": 0.0, \"Informational\": 0.0, \"Informational_Duration\": 0.0, \"ProductRelated\": 6.0, \"ProductRelated_Duration\": 44.33333333, \"BounceRates\": 0.025, \"ExitRates\": 0.094444444, \"PageValues\": 0.0, \"SpecialDay\": 0.0, \"Month\": \"Nov\", \"OperatingSystems\": 1, \"Browser\": 1, \"Region\": 1, \"TrafficType\": 2, \"VisitorType\": \"Returning_Visitor\", \"Weekend\": false}, {\"Administrative\": 1.0, \"Administrative_Duration\": 69.0, \"Informational\": 1.0, \"Informational_Duration\": 4.0, \"ProductRelated\": 17.0, \"ProductRelated_Duration\": 319.0, \"BounceRates\": 0.0, \"ExitRates\": 0.010526316, \"PageValues\": 0.0, \"SpecialDay\": 0.0, \"Month\": \"May\", \"OperatingSystems\": 2, \"Browser\": 2, \"Region\": 9, \"TrafficType\": 2, \"VisitorType\": \"Returning_Visitor\", \"Weekend\": true}, {\"Administrative\": 0.0, \"Administrative_Duration\": 0.0, \"Informational\": 0.0, \"Informational_Duration\": 0.0, \"ProductRelated\": 9.0, \"ProductRelated_Duration\": 273.25, \"BounceRates\": 0.066666667, \"ExitRates\": 0.077777778, \"PageValues\": 0.0, \"SpecialDay\": 0.0, \"Month\": \"Dec\", \"OperatingSystems\": 3, \"Browser\": 3, \"Region\": 5, \"TrafficType\": 1, \"VisitorType\": \"Returning_Visitor\", \"Weekend\": true}, {\"Administrative\": 10.0, \"Administrative_Duration\": 149.013357, \"Informational\": 2.0, \"Informational_Duration\": 138.0, \"ProductRelated\": 78.0, \"ProductRelated_Duration\": 2207.366936, \"BounceRates\": 0.002380952, \"ExitRates\": 0.012458392, \"PageValues\": 0.0, \"SpecialDay\": 0.0, \"Month\": \"Dec\", \"OperatingSystems\": 3, \"Browser\": 2, \"Region\": 1, \"TrafficType\": 2, \"VisitorType\": \"Returning_Visitor\", \"Weekend\": false}, {\"Administrative\": 2.0, \"Administrative_Duration\": 32.0, \"Informational\": 0.0, \"Informational_Duration\": 0.0, \"ProductRelated\": 7.0, \"ProductRelated_Duration\": 164.5, \"BounceRates\": 0.0, \"ExitRates\": 0.008333333, \"PageValues\": 0.0, \"SpecialDay\": 0.4, \"Month\": \"May\", \"OperatingSystems\": 2, \"Browser\": 2, \"Region\": 1, \"TrafficType\": 4, \"VisitorType\": \"Returning_Visitor\", \"Weekend\": false}]}\n"
     ]
    }
   ],
   "source": [
    "import json\n",
    "#Creating Test data\n",
    "#Created test data from the original data bytaking first 10 rows\n",
    "test_df = df.sample(10) \n",
    "test_df_label = test_df.pop('Revenue')\n",
    "\n",
    "test_data = json.dumps({'data': test_df.to_dict(orient='records')})\n",
    "\n",
    "print(test_data)"
   ]
  },
  {
   "cell_type": "code",
   "execution_count": 38,
   "metadata": {},
   "outputs": [],
   "source": [
    "# We will send POST request to the deployed service for that we will import the request module\n",
    "import requests \n",
    "\n",
    "# Set the content type\n",
    "headers = {'Content-type': 'application/json'}\n",
    "\n",
    "\n",
    "response = requests.post(service.scoring_uri, test_data, headers=headers)"
   ]
  },
  {
   "cell_type": "code",
   "execution_count": 46,
   "metadata": {},
   "outputs": [
    {
     "data": {
      "text/plain": [
       "'\"{\\\\\"result\\\\\": [false, false, true, false, false, false, false, false, false, false]}\"'"
      ]
     },
     "execution_count": 46,
     "metadata": {},
     "output_type": "execute_result"
    }
   ],
   "source": [
    "response.text"
   ]
  },
  {
   "cell_type": "code",
   "execution_count": 44,
   "metadata": {},
   "outputs": [
    {
     "data": {
      "text/plain": [
       "[False, False, True, False, False, False, False, False, False, False]"
      ]
     },
     "execution_count": 44,
     "metadata": {},
     "output_type": "execute_result"
    }
   ],
   "source": [
    "test_df_label.to_list()"
   ]
  },
  {
   "cell_type": "code",
   "execution_count": 32,
   "metadata": {},
   "outputs": [],
   "source": [
    "service.delete()"
   ]
  },
  {
   "cell_type": "code",
   "execution_count": 11,
   "metadata": {},
   "outputs": [],
   "source": [
    "# pip install --upgrade azureml-automl-core==1.20.0\n",
    "\n",
    "# pip install --upgrade\n",
    "# pip install --upgrade azureml-automl-runtime==1.20.0\n",
    "# pip install --upgrade azureml-core==1.20.0\n",
    "# pip install --upgrade azureml-dataprep==2.7.2\n",
    "# c\n",
    "# cc\n",
    "# pip install --upgrade azureml-dataset-runtime==1.20.0\n",
    "# pip install --upgrade azureml-defaults==1.20.0\n",
    "# pip install --upgrade azureml-interpret==1.20.0\n",
    "# pip install --upgrade azureml-pipeline-core==1.20.0\n",
    "# pip install --upgrade azureml-telemetry==1.20.0\n",
    "# pip install --upgrade azureml-train-automl-client==1.20.0\n",
    "# pip install --upgrade azureml-train-automl-runtime==1.20.0\n"
   ]
  }
 ],
 "metadata": {
  "kernel_info": {
   "name": "python3"
  },
  "kernelspec": {
   "display_name": "Python 3",
   "language": "python",
   "name": "python3"
  },
  "language_info": {
   "codemirror_mode": {
    "name": "ipython",
    "version": 3
   },
   "file_extension": ".py",
   "mimetype": "text/x-python",
   "name": "python",
   "nbconvert_exporter": "python",
   "pygments_lexer": "ipython3",
   "version": "3.6.9"
  },
  "nteract": {
   "version": "nteract-front-end@1.0.0"
  }
 },
 "nbformat": 4,
 "nbformat_minor": 2
}
