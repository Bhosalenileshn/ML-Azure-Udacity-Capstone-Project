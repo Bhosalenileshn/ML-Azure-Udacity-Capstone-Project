{
 "cells": [
  {
   "cell_type": "markdown",
   "metadata": {},
   "source": [
    "# Automated ML\n",
    "\n",
    "TODO: Import Dependencies. In the cell below, import all the dependencies that you will need to complete the project."
   ]
  },
  {
   "cell_type": "code",
   "execution_count": 16,
   "metadata": {
    "gather": {
     "logged": 1598423888013
    },
    "jupyter": {
     "outputs_hidden": false,
     "source_hidden": false
    },
    "nteract": {
     "transient": {
      "deleting": false
     }
    }
   },
   "outputs": [
    {
     "name": "stdout",
     "output_type": "stream",
     "text": [
      "SDK version: 1.20.0\n"
     ]
    }
   ],
   "source": [
    "import logging\n",
    "import os\n",
    "import csv\n",
    "\n",
    "from matplotlib import pyplot as plt\n",
    "import numpy as np\n",
    "import pandas as pd\n",
    "from sklearn import datasets\n",
    "import pkg_resources\n",
    "\n",
    "import azureml.core\n",
    "from azureml.core.experiment import Experiment\n",
    "from azureml.core.workspace import Workspace\n",
    "from azureml.train.automl import AutoMLConfig\n",
    "from azureml.core.dataset import Dataset\n",
    "\n",
    "from azureml.pipeline.steps import AutoMLStep\n",
    "from azureml.widgets import RunDetails\n",
    "from azureml.core import Workspace, Dataset\n",
    "\n",
    "from azureml.core.environment import Environment\n",
    "from azureml.core.model import InferenceConfig\n",
    "from azureml.core.webservice import AciWebservice\n",
    "from azureml.core import Model\n",
    "\n",
    "\n",
    "# Check core SDK version number\n",
    "print(\"SDK version:\", azureml.core.VERSION)\n"
   ]
  },
  {
   "cell_type": "code",
   "execution_count": 2,
   "metadata": {
    "gather": {
     "logged": 1598423890461
    },
    "jupyter": {
     "outputs_hidden": false,
     "source_hidden": false
    },
    "nteract": {
     "transient": {
      "deleting": false
     }
    }
   },
   "outputs": [
    {
     "name": "stdout",
     "output_type": "stream",
     "text": [
      "quick-starts-ws-136580\n",
      "aml-quickstarts-136580\n",
      "southcentralus\n",
      "cdbe0b43-92a0-4715-838a-f2648cc7ad21\n"
     ]
    }
   ],
   "source": [
    "ws = Workspace.from_config()\n",
    "\n",
    "# choose a name for experiment\n",
    "experiment_name = 'automl-experiment'\n",
    "project_folder = './pipeline-project'\n",
    "experiment=Experiment(ws, experiment_name)\n",
    "print(ws.name, ws.resource_group, ws.location, ws.subscription_id, sep = '\\n')"
   ]
  },
  {
   "cell_type": "code",
   "execution_count": 4,
   "metadata": {},
   "outputs": [
    {
     "name": "stdout",
     "output_type": "stream",
     "text": [
      "Found existing cluster, use it.\n",
      "Succeeded\n",
      "AmlCompute wait for completion finished\n",
      "\n",
      "Minimum number of nodes requested have been provisioned\n"
     ]
    }
   ],
   "source": [
    "from azureml.core.compute import AmlCompute\n",
    "from azureml.core.compute import ComputeTarget\n",
    "from azureml.core.compute_target import ComputeTargetException\n",
    "\n",
    "# NOTE: update the cluster name to match the existing cluster\n",
    "# Choose a name for your CPU cluster\n",
    "amlcompute_cluster_name = \"project3\"\n",
    "\n",
    "# Verify that cluster does not exist already\n",
    "try:\n",
    "    compute_target = ComputeTarget(workspace=ws, name=amlcompute_cluster_name)\n",
    "    print('Found existing cluster, use it.')\n",
    "except ComputeTargetException:\n",
    "    compute_config = AmlCompute.provisioning_configuration(vm_size='STANDARD_D2_V2',# for GPU, use \"STANDARD_NC6\"\n",
    "                                                           #vm_priority = 'lowpriority', # optional\n",
    "                                                           max_nodes=4)\n",
    "    compute_target = ComputeTarget.create(ws, amlcompute_cluster_name, compute_config)\n",
    "\n",
    "compute_target.wait_for_completion(show_output=True)"
   ]
  },
  {
   "cell_type": "markdown",
   "metadata": {},
   "source": [
    "## Dataset\n",
    "\n",
    "### Overview\n",
    "TODO: In this markdown cell, give an overview of the dataset you are using. Also mention the task you will be performing.\n",
    "\n",
    "Data is taken from **Kaggle** [link to the dataset](https://www.kaggle.com/roshansharma/online-shoppers-intention)  \n",
    "  \n",
    "Data consists of various Information related to customer behavior in online shopping websites. It helps us to perform Marketing Analytics.\n",
    "We will try to predict from the data if shopper will generate Revenue or not. \n",
    "\n",
    "We will perform classification task\n",
    "Data consists of various Information related to customer behavior in online shopping websites\n",
    "\n",
    "TODO: Get data. In the cell below, write code to access the data you will be using in this project. Remember that the dataset needs to be external."
   ]
  },
  {
   "cell_type": "code",
   "execution_count": 3,
   "metadata": {},
   "outputs": [],
   "source": [
    "dataset = Dataset.get_by_name(workspace=ws, name='online_shoppers_intention')\n",
    "df = dataset.to_pandas_dataframe()"
   ]
  },
  {
   "cell_type": "markdown",
   "metadata": {},
   "source": [
    "## AutoML Configuration\n",
    "\n",
    "TODO: Explain why you chose the automl settings and cofiguration you used below."
   ]
  },
  {
   "cell_type": "code",
   "execution_count": 5,
   "metadata": {
    "gather": {
     "logged": 1598429217746
    },
    "jupyter": {
     "outputs_hidden": false,
     "source_hidden": false
    },
    "nteract": {
     "transient": {
      "deleting": false
     }
    }
   },
   "outputs": [],
   "source": [
    "automl_settings = {\n",
    "    \"experiment_timeout_minutes\": 20,\n",
    "    \"max_concurrent_iterations\": 5,\n",
    "    \"primary_metric\" : 'accuracy'\n",
    "}\n",
    "automl_config = AutoMLConfig(compute_target=compute_target,\n",
    "                             task = \"classification\",\n",
    "                             training_data=dataset,\n",
    "                             label_column_name=\"Revenue\",   \n",
    "                             path = project_folder,\n",
    "                             enable_early_stopping= True,\n",
    "                             featurization= 'auto',\n",
    "                             debug_log = \"automl_errors.log\",\n",
    "                             **automl_settings\n",
    "                            )"
   ]
  },
  {
   "cell_type": "code",
   "execution_count": 6,
   "metadata": {
    "gather": {
     "logged": 1598431107951
    },
    "jupyter": {
     "outputs_hidden": false,
     "source_hidden": false
    },
    "nteract": {
     "transient": {
      "deleting": false
     }
    }
   },
   "outputs": [
    {
     "name": "stdout",
     "output_type": "stream",
     "text": [
      "Running on remote.\n",
      "No run_configuration provided, running on project3 with default configuration\n",
      "Running on remote compute: project3\n",
      "Parent Run ID: AutoML_2e54ca96-1a98-4bce-9b21-7973f640edda\n",
      "\n",
      "Current status: FeaturesGeneration. Generating features for the dataset.\n",
      "Current status: DatasetFeaturization. Beginning to fit featurizers and featurize the dataset.\n",
      "Current status: DatasetCrossValidationSplit. Generating individually featurized CV splits.\n",
      "Current status: ModelSelection. Beginning model selection.\n",
      "\n",
      "****************************************************************************************************\n",
      "DATA GUARDRAILS: \n",
      "\n",
      "TYPE:         Cross validation\n",
      "STATUS:       DONE\n",
      "DESCRIPTION:  Each iteration of the trained model was validated through cross-validation.\n",
      "              \n",
      "DETAILS:      \n",
      "+---------------------------------+\n",
      "|Number of folds                  |\n",
      "+=================================+\n",
      "|3                                |\n",
      "+---------------------------------+\n",
      "\n",
      "****************************************************************************************************\n",
      "\n",
      "TYPE:         Class balancing detection\n",
      "STATUS:       ALERTED\n",
      "DESCRIPTION:  To decrease model bias, please cancel the current run and fix balancing problem.\n",
      "              Learn more about imbalanced data: https://aka.ms/AutomatedMLImbalancedData\n",
      "DETAILS:      Imbalanced data can lead to a falsely perceived positive effect of a model's accuracy because the input data has bias towards one class.\n",
      "+---------------------------------+---------------------------------+--------------------------------------+\n",
      "|Size of the smallest class       |Name/Label of the smallest class |Number of samples in the training data|\n",
      "+=================================+=================================+======================================+\n",
      "|1908                             |True                             |12330                                 |\n",
      "+---------------------------------+---------------------------------+--------------------------------------+\n",
      "\n",
      "****************************************************************************************************\n",
      "\n",
      "TYPE:         Missing feature values imputation\n",
      "STATUS:       DONE\n",
      "DESCRIPTION:  If the missing values are expected, let the run complete. Otherwise cancel the current run and use a script to customize the handling of missing feature values that may be more appropriate based on the data type and business requirement.\n",
      "              Learn more about missing value imputation: https://aka.ms/AutomatedMLFeaturization\n",
      "DETAILS:      \n",
      "+---------------------------------+---------------------------------+---------------------------------+\n",
      "|Column name                      |Missing value count              |Imputation type                  |\n",
      "+=================================+=================================+=================================+\n",
      "|Administrative                   |14                               |mean                             |\n",
      "|Administrative_Duration          |14                               |mean                             |\n",
      "|Informational                    |14                               |mean                             |\n",
      "|Informational_Duration           |14                               |mean                             |\n",
      "|ProductRelated                   |14                               |mean                             |\n",
      "|ProductRelated_Duration          |14                               |mean                             |\n",
      "|BounceRates                      |14                               |mean                             |\n",
      "|ExitRates                        |14                               |mean                             |\n",
      "+---------------------------------+---------------------------------+---------------------------------+\n",
      "\n",
      "****************************************************************************************************\n",
      "\n",
      "TYPE:         High cardinality feature detection\n",
      "STATUS:       PASSED\n",
      "DESCRIPTION:  Your inputs were analyzed, and no high cardinality features were detected.\n",
      "              Learn more about high cardinality feature handling: https://aka.ms/AutomatedMLFeaturization\n",
      "\n",
      "****************************************************************************************************\n",
      "\n",
      "****************************************************************************************************\n",
      "ITERATION: The iteration being evaluated.\n",
      "PIPELINE: A summary description of the pipeline being evaluated.\n",
      "DURATION: Time taken for the current iteration.\n",
      "METRIC: The result of computing score on the fitted pipeline.\n",
      "BEST: The best observed score thus far.\n",
      "****************************************************************************************************\n",
      "\n",
      " ITERATION   PIPELINE                                       DURATION      METRIC      BEST\n",
      "         3   MaxAbsScaler RandomForest                      0:00:50       0.8453    0.8453\n",
      "         2   MaxAbsScaler RandomForest                      0:00:55       0.8645    0.8645\n",
      "         0   MaxAbsScaler LightGBM                          0:01:01       0.9002    0.9002\n",
      "         4   MaxAbsScaler RandomForest                      0:00:53       0.8236    0.9002\n",
      "         7   SparseNormalizer XGBoostClassifier             0:01:00       0.8981    0.9002\n",
      "         8   SparseNormalizer XGBoostClassifier             0:01:02       0.9016    0.9016\n",
      "         1   MaxAbsScaler XGBoostClassifier                 0:03:20       0.9052    0.9052\n",
      "         5   MaxAbsScaler RandomForest                      0:03:33       0.8590    0.9052\n",
      "         6   SparseNormalizer XGBoostClassifier             0:03:31       0.9023    0.9052\n",
      "         9   MaxAbsScaler RandomForest                      0:01:14       0.8453    0.9052\n",
      "        10   SparseNormalizer LightGBM                      0:00:54       0.9021    0.9052\n",
      "        11   StandardScalerWrapper RandomForest             0:00:48       0.8811    0.9052\n",
      "        12   SparseNormalizer XGBoostClassifier             0:00:52       0.8874    0.9052\n",
      "        13   MaxAbsScaler RandomForest                      0:00:46       0.8813    0.9052\n",
      "        14   MaxAbsScaler LightGBM                          0:00:56       0.8852    0.9052\n",
      "        15   MaxAbsScaler LogisticRegression                0:01:01       0.8800    0.9052\n",
      "        16   MaxAbsScaler RandomForest                      0:01:15       0.8842    0.9052\n",
      "        17   MaxAbsScaler LogisticRegression                0:00:55       0.8841    0.9052\n",
      "        18   MaxAbsScaler LogisticRegression                0:00:57       0.8841    0.9052\n",
      "        19   MaxAbsScaler LogisticRegression                0:00:53       0.8841    0.9052\n",
      "        20   SparseNormalizer GradientBoosting              0:00:52       0.8599    0.9052\n",
      "        21   MaxAbsScaler LightGBM                          0:00:47       0.9049    0.9052\n",
      "        22   SparseNormalizer XGBoostClassifier             0:00:56       0.9024    0.9052\n",
      "        23   SparseNormalizer XGBoostClassifier             0:01:10       0.8998    0.9052\n",
      "        25   SparseNormalizer XGBoostClassifier             0:00:47       0.8453    0.9052\n",
      "        26   MaxAbsScaler LightGBM                          0:00:55       0.9036    0.9052\n",
      "        24   MaxAbsScaler ExtremeRandomTrees                0:01:40       0.8625    0.9052\n",
      "        27   MaxAbsScaler LightGBM                          0:01:01       0.8655    0.9052\n",
      "        28   MaxAbsScaler LightGBM                          0:00:51       0.9021    0.9052\n",
      "        29   SparseNormalizer XGBoostClassifier             0:01:24       0.8991    0.9052\n",
      "        31   MaxAbsScaler LightGBM                          0:00:51       0.9033    0.9052\n",
      "        32   StandardScalerWrapper LightGBM                 0:00:46       0.8453    0.9052\n",
      "        30   SparseNormalizer XGBoostClassifier             0:01:30       0.8969    0.9052\n",
      "        33   SparseNormalizer XGBoostClassifier             0:01:01       0.8970    0.9052\n",
      "        35   SparseNormalizer XGBoostClassifier             0:00:48       0.8992    0.9052\n",
      "        36   MaxAbsScaler LogisticRegression                0:00:43       0.8491    0.9052\n",
      "        37                                                  0:00:08          nan    0.9052\n",
      "        34   SparseNormalizer XGBoostClassifier             0:00:54          nan    0.9052\n",
      "        38    VotingEnsemble                                0:01:36       0.9070    0.9070\n",
      "        39    StackEnsemble                                 0:01:29       0.9052    0.9070\n"
     ]
    }
   ],
   "source": [
    "# TODO: Submit your experiment\n",
    "remote_run = experiment.submit(automl_config,show_output=True)"
   ]
  },
  {
   "cell_type": "markdown",
   "metadata": {},
   "source": [
    "## Run Details\n",
    "\n",
    "OPTIONAL: Write about the different models trained and their performance. Why do you think some models did better than others?\n",
    "\n",
    "TODO: In the cell below, use the `RunDetails` widget to show the different experiments."
   ]
  },
  {
   "cell_type": "code",
   "execution_count": 7,
   "metadata": {
    "gather": {
     "logged": 1598431121770
    },
    "jupyter": {
     "outputs_hidden": false,
     "source_hidden": false
    },
    "nteract": {
     "transient": {
      "deleting": false
     }
    }
   },
   "outputs": [
    {
     "data": {
      "application/vnd.jupyter.widget-view+json": {
       "model_id": "f41770aea80a4613b4c3f32f553fa9dc",
       "version_major": 2,
       "version_minor": 0
      },
      "text/plain": [
       "_AutoMLWidget(widget_settings={'childWidgetDisplay': 'popup', 'send_telemetry': False, 'log_level': 'INFO', 's…"
      ]
     },
     "metadata": {},
     "output_type": "display_data"
    },
    {
     "data": {
      "application/aml.mini.widget.v1": "{\"status\": \"Completed\", \"workbench_run_details_uri\": \"https://ml.azure.com/experiments/automl-experiment/runs/AutoML_2e54ca96-1a98-4bce-9b21-7973f640edda?wsid=/subscriptions/cdbe0b43-92a0-4715-838a-f2648cc7ad21/resourcegroups/aml-quickstarts-136580/workspaces/quick-starts-ws-136580\", \"run_id\": \"AutoML_2e54ca96-1a98-4bce-9b21-7973f640edda\", \"run_properties\": {\"run_id\": \"AutoML_2e54ca96-1a98-4bce-9b21-7973f640edda\", \"created_utc\": \"2021-01-30T11:01:41.54773Z\", \"properties\": {\"num_iterations\": \"1000\", \"training_type\": \"TrainFull\", \"acquisition_function\": \"EI\", \"primary_metric\": \"accuracy\", \"train_split\": \"0\", \"acquisition_parameter\": \"0\", \"num_cross_validation\": null, \"target\": \"project3\", \"AMLSettingsJsonString\": \"{\\\"path\\\":null,\\\"name\\\":\\\"automl-experiment\\\",\\\"subscription_id\\\":\\\"cdbe0b43-92a0-4715-838a-f2648cc7ad21\\\",\\\"resource_group\\\":\\\"aml-quickstarts-136580\\\",\\\"workspace_name\\\":\\\"quick-starts-ws-136580\\\",\\\"region\\\":\\\"southcentralus\\\",\\\"compute_target\\\":\\\"project3\\\",\\\"spark_service\\\":null,\\\"azure_service\\\":\\\"remote\\\",\\\"many_models\\\":false,\\\"pipeline_fetch_max_batch_size\\\":1,\\\"iterations\\\":1000,\\\"primary_metric\\\":\\\"accuracy\\\",\\\"task_type\\\":\\\"classification\\\",\\\"data_script\\\":null,\\\"validation_size\\\":0.0,\\\"n_cross_validations\\\":null,\\\"y_min\\\":null,\\\"y_max\\\":null,\\\"num_classes\\\":null,\\\"featurization\\\":\\\"auto\\\",\\\"_ignore_package_version_incompatibilities\\\":false,\\\"is_timeseries\\\":false,\\\"max_cores_per_iteration\\\":1,\\\"max_concurrent_iterations\\\":5,\\\"iteration_timeout_minutes\\\":null,\\\"mem_in_mb\\\":null,\\\"enforce_time_on_windows\\\":false,\\\"experiment_timeout_minutes\\\":20,\\\"experiment_exit_score\\\":null,\\\"whitelist_models\\\":null,\\\"blacklist_algos\\\":[\\\"TensorFlowLinearClassifier\\\",\\\"TensorFlowDNN\\\"],\\\"supported_models\\\":[\\\"BernoulliNaiveBayes\\\",\\\"DecisionTree\\\",\\\"RandomForest\\\",\\\"LightGBM\\\",\\\"SGD\\\",\\\"TensorFlowLinearClassifier\\\",\\\"KNN\\\",\\\"ExtremeRandomTrees\\\",\\\"GradientBoosting\\\",\\\"MultinomialNaiveBayes\\\",\\\"AveragedPerceptronClassifier\\\",\\\"LinearSVM\\\",\\\"XGBoostClassifier\\\",\\\"SVM\\\",\\\"LogisticRegression\\\",\\\"TensorFlowDNN\\\"],\\\"auto_blacklist\\\":true,\\\"blacklist_samples_reached\\\":false,\\\"exclude_nan_labels\\\":true,\\\"verbosity\\\":20,\\\"_debug_log\\\":\\\"azureml_automl.log\\\",\\\"show_warnings\\\":false,\\\"model_explainability\\\":true,\\\"service_url\\\":null,\\\"sdk_url\\\":null,\\\"sdk_packages\\\":null,\\\"enable_onnx_compatible_models\\\":false,\\\"enable_split_onnx_featurizer_estimator_models\\\":false,\\\"vm_type\\\":\\\"STANDARD_D2_V2\\\",\\\"telemetry_verbosity\\\":20,\\\"send_telemetry\\\":true,\\\"enable_dnn\\\":false,\\\"scenario\\\":\\\"SDK-1.13.0\\\",\\\"environment_label\\\":null,\\\"force_text_dnn\\\":false,\\\"enable_feature_sweeping\\\":true,\\\"enable_early_stopping\\\":true,\\\"early_stopping_n_iters\\\":10,\\\"metrics\\\":null,\\\"enable_ensembling\\\":true,\\\"enable_stack_ensembling\\\":true,\\\"ensemble_iterations\\\":15,\\\"enable_tf\\\":false,\\\"enable_subsampling\\\":null,\\\"subsample_seed\\\":null,\\\"enable_nimbusml\\\":false,\\\"enable_streaming\\\":false,\\\"force_streaming\\\":false,\\\"track_child_runs\\\":true,\\\"allowed_private_models\\\":[],\\\"label_column_name\\\":\\\"Revenue\\\",\\\"weight_column_name\\\":null,\\\"cv_split_column_names\\\":null,\\\"enable_local_managed\\\":false,\\\"_local_managed_run_id\\\":null,\\\"cost_mode\\\":1,\\\"lag_length\\\":0,\\\"metric_operation\\\":\\\"maximize\\\",\\\"preprocess\\\":true}\", \"DataPrepJsonString\": \"{\\\\\\\"training_data\\\\\\\": \\\\\\\"{\\\\\\\\\\\\\\\"blocks\\\\\\\\\\\\\\\": [{\\\\\\\\\\\\\\\"id\\\\\\\\\\\\\\\": \\\\\\\\\\\\\\\"caa541d1-a8f0-4859-ac98-c846f740d944\\\\\\\\\\\\\\\", \\\\\\\\\\\\\\\"type\\\\\\\\\\\\\\\": \\\\\\\\\\\\\\\"Microsoft.DPrep.GetFilesBlock\\\\\\\\\\\\\\\", \\\\\\\\\\\\\\\"arguments\\\\\\\\\\\\\\\": {\\\\\\\\\\\\\\\"isArchive\\\\\\\\\\\\\\\": false, \\\\\\\\\\\\\\\"path\\\\\\\\\\\\\\\": {\\\\\\\\\\\\\\\"target\\\\\\\\\\\\\\\": 4, \\\\\\\\\\\\\\\"resourceDetails\\\\\\\\\\\\\\\": [{\\\\\\\\\\\\\\\"path\\\\\\\\\\\\\\\": \\\\\\\\\\\\\\\"https://raw.githubusercontent.com/Bhosalenileshn/ML-Azure-Udacity-Capstone-Project/main/online_shoppers_intention.csv\\\\\\\\\\\\\\\"}]}}, \\\\\\\\\\\\\\\"localData\\\\\\\\\\\\\\\": {}, \\\\\\\\\\\\\\\"isEnabled\\\\\\\\\\\\\\\": true, \\\\\\\\\\\\\\\"name\\\\\\\\\\\\\\\": null, \\\\\\\\\\\\\\\"annotation\\\\\\\\\\\\\\\": null}, {\\\\\\\\\\\\\\\"id\\\\\\\\\\\\\\\": \\\\\\\\\\\\\\\"068835bd-5558-4165-adaf-cc856b6d1507\\\\\\\\\\\\\\\", \\\\\\\\\\\\\\\"type\\\\\\\\\\\\\\\": \\\\\\\\\\\\\\\"Microsoft.DPrep.ParseDelimitedBlock\\\\\\\\\\\\\\\", \\\\\\\\\\\\\\\"arguments\\\\\\\\\\\\\\\": {\\\\\\\\\\\\\\\"columnHeadersMode\\\\\\\\\\\\\\\": 3, \\\\\\\\\\\\\\\"fileEncoding\\\\\\\\\\\\\\\": 0, \\\\\\\\\\\\\\\"handleQuotedLineBreaks\\\\\\\\\\\\\\\": false, \\\\\\\\\\\\\\\"preview\\\\\\\\\\\\\\\": false, \\\\\\\\\\\\\\\"separator\\\\\\\\\\\\\\\": \\\\\\\\\\\\\\\",\\\\\\\\\\\\\\\", \\\\\\\\\\\\\\\"skipRows\\\\\\\\\\\\\\\": 0, \\\\\\\\\\\\\\\"skipRowsMode\\\\\\\\\\\\\\\": 0}, \\\\\\\\\\\\\\\"localData\\\\\\\\\\\\\\\": {}, \\\\\\\\\\\\\\\"isEnabled\\\\\\\\\\\\\\\": true, \\\\\\\\\\\\\\\"name\\\\\\\\\\\\\\\": null, \\\\\\\\\\\\\\\"annotation\\\\\\\\\\\\\\\": null}, {\\\\\\\\\\\\\\\"id\\\\\\\\\\\\\\\": \\\\\\\\\\\\\\\"2aa41cad-3e74-49bf-944f-e3108f14e1fc\\\\\\\\\\\\\\\", \\\\\\\\\\\\\\\"type\\\\\\\\\\\\\\\": \\\\\\\\\\\\\\\"Microsoft.DPrep.DropColumnsBlock\\\\\\\\\\\\\\\", \\\\\\\\\\\\\\\"arguments\\\\\\\\\\\\\\\": {\\\\\\\\\\\\\\\"columns\\\\\\\\\\\\\\\": {\\\\\\\\\\\\\\\"type\\\\\\\\\\\\\\\": 0, \\\\\\\\\\\\\\\"details\\\\\\\\\\\\\\\": {\\\\\\\\\\\\\\\"selectedColumns\\\\\\\\\\\\\\\": [\\\\\\\\\\\\\\\"Path\\\\\\\\\\\\\\\"]}}}, \\\\\\\\\\\\\\\"localData\\\\\\\\\\\\\\\": {}, \\\\\\\\\\\\\\\"isEnabled\\\\\\\\\\\\\\\": true, \\\\\\\\\\\\\\\"name\\\\\\\\\\\\\\\": null, \\\\\\\\\\\\\\\"annotation\\\\\\\\\\\\\\\": null}, {\\\\\\\\\\\\\\\"id\\\\\\\\\\\\\\\": \\\\\\\\\\\\\\\"1b306bb6-ffb0-4e1e-86c5-cc43fd97ffc4\\\\\\\\\\\\\\\", \\\\\\\\\\\\\\\"type\\\\\\\\\\\\\\\": \\\\\\\\\\\\\\\"Microsoft.DPrep.SetColumnTypesBlock\\\\\\\\\\\\\\\", \\\\\\\\\\\\\\\"arguments\\\\\\\\\\\\\\\": {\\\\\\\\\\\\\\\"columnConversion\\\\\\\\\\\\\\\": [{\\\\\\\\\\\\\\\"column\\\\\\\\\\\\\\\": {\\\\\\\\\\\\\\\"type\\\\\\\\\\\\\\\": 2, \\\\\\\\\\\\\\\"details\\\\\\\\\\\\\\\": {\\\\\\\\\\\\\\\"selectedColumn\\\\\\\\\\\\\\\": \\\\\\\\\\\\\\\"Administrative\\\\\\\\\\\\\\\"}}, \\\\\\\\\\\\\\\"typeProperty\\\\\\\\\\\\\\\": 2}, {\\\\\\\\\\\\\\\"column\\\\\\\\\\\\\\\": {\\\\\\\\\\\\\\\"type\\\\\\\\\\\\\\\": 2, \\\\\\\\\\\\\\\"details\\\\\\\\\\\\\\\": {\\\\\\\\\\\\\\\"selectedColumn\\\\\\\\\\\\\\\": \\\\\\\\\\\\\\\"Administrative_Duration\\\\\\\\\\\\\\\"}}, \\\\\\\\\\\\\\\"typeProperty\\\\\\\\\\\\\\\": 3}, {\\\\\\\\\\\\\\\"column\\\\\\\\\\\\\\\": {\\\\\\\\\\\\\\\"type\\\\\\\\\\\\\\\": 2, \\\\\\\\\\\\\\\"details\\\\\\\\\\\\\\\": {\\\\\\\\\\\\\\\"selectedColumn\\\\\\\\\\\\\\\": \\\\\\\\\\\\\\\"Informational\\\\\\\\\\\\\\\"}}, \\\\\\\\\\\\\\\"typeProperty\\\\\\\\\\\\\\\": 2}, {\\\\\\\\\\\\\\\"column\\\\\\\\\\\\\\\": {\\\\\\\\\\\\\\\"type\\\\\\\\\\\\\\\": 2, \\\\\\\\\\\\\\\"details\\\\\\\\\\\\\\\": {\\\\\\\\\\\\\\\"selectedColumn\\\\\\\\\\\\\\\": \\\\\\\\\\\\\\\"Informational_Duration\\\\\\\\\\\\\\\"}}, \\\\\\\\\\\\\\\"typeProperty\\\\\\\\\\\\\\\": 3}, {\\\\\\\\\\\\\\\"column\\\\\\\\\\\\\\\": {\\\\\\\\\\\\\\\"type\\\\\\\\\\\\\\\": 2, \\\\\\\\\\\\\\\"details\\\\\\\\\\\\\\\": {\\\\\\\\\\\\\\\"selectedColumn\\\\\\\\\\\\\\\": \\\\\\\\\\\\\\\"ProductRelated\\\\\\\\\\\\\\\"}}, \\\\\\\\\\\\\\\"typeProperty\\\\\\\\\\\\\\\": 2}, {\\\\\\\\\\\\\\\"column\\\\\\\\\\\\\\\": {\\\\\\\\\\\\\\\"type\\\\\\\\\\\\\\\": 2, \\\\\\\\\\\\\\\"details\\\\\\\\\\\\\\\": {\\\\\\\\\\\\\\\"selectedColumn\\\\\\\\\\\\\\\": \\\\\\\\\\\\\\\"ProductRelated_Duration\\\\\\\\\\\\\\\"}}, \\\\\\\\\\\\\\\"typeProperty\\\\\\\\\\\\\\\": 3}, {\\\\\\\\\\\\\\\"column\\\\\\\\\\\\\\\": {\\\\\\\\\\\\\\\"type\\\\\\\\\\\\\\\": 2, \\\\\\\\\\\\\\\"details\\\\\\\\\\\\\\\": {\\\\\\\\\\\\\\\"selectedColumn\\\\\\\\\\\\\\\": \\\\\\\\\\\\\\\"BounceRates\\\\\\\\\\\\\\\"}}, \\\\\\\\\\\\\\\"typeProperty\\\\\\\\\\\\\\\": 3}, {\\\\\\\\\\\\\\\"column\\\\\\\\\\\\\\\": {\\\\\\\\\\\\\\\"type\\\\\\\\\\\\\\\": 2, \\\\\\\\\\\\\\\"details\\\\\\\\\\\\\\\": {\\\\\\\\\\\\\\\"selectedColumn\\\\\\\\\\\\\\\": \\\\\\\\\\\\\\\"ExitRates\\\\\\\\\\\\\\\"}}, \\\\\\\\\\\\\\\"typeProperty\\\\\\\\\\\\\\\": 3}, {\\\\\\\\\\\\\\\"column\\\\\\\\\\\\\\\": {\\\\\\\\\\\\\\\"type\\\\\\\\\\\\\\\": 2, \\\\\\\\\\\\\\\"details\\\\\\\\\\\\\\\": {\\\\\\\\\\\\\\\"selectedColumn\\\\\\\\\\\\\\\": \\\\\\\\\\\\\\\"PageValues\\\\\\\\\\\\\\\"}}, \\\\\\\\\\\\\\\"typeProperty\\\\\\\\\\\\\\\": 3}, {\\\\\\\\\\\\\\\"column\\\\\\\\\\\\\\\": {\\\\\\\\\\\\\\\"type\\\\\\\\\\\\\\\": 2, \\\\\\\\\\\\\\\"details\\\\\\\\\\\\\\\": {\\\\\\\\\\\\\\\"selectedColumn\\\\\\\\\\\\\\\": \\\\\\\\\\\\\\\"SpecialDay\\\\\\\\\\\\\\\"}}, \\\\\\\\\\\\\\\"typeProperty\\\\\\\\\\\\\\\": 3}, {\\\\\\\\\\\\\\\"column\\\\\\\\\\\\\\\": {\\\\\\\\\\\\\\\"type\\\\\\\\\\\\\\\": 2, \\\\\\\\\\\\\\\"details\\\\\\\\\\\\\\\": {\\\\\\\\\\\\\\\"selectedColumn\\\\\\\\\\\\\\\": \\\\\\\\\\\\\\\"Month\\\\\\\\\\\\\\\"}}, \\\\\\\\\\\\\\\"typeProperty\\\\\\\\\\\\\\\": 0}, {\\\\\\\\\\\\\\\"column\\\\\\\\\\\\\\\": {\\\\\\\\\\\\\\\"type\\\\\\\\\\\\\\\": 2, \\\\\\\\\\\\\\\"details\\\\\\\\\\\\\\\": {\\\\\\\\\\\\\\\"selectedColumn\\\\\\\\\\\\\\\": \\\\\\\\\\\\\\\"OperatingSystems\\\\\\\\\\\\\\\"}}, \\\\\\\\\\\\\\\"typeProperty\\\\\\\\\\\\\\\": 2}, {\\\\\\\\\\\\\\\"column\\\\\\\\\\\\\\\": {\\\\\\\\\\\\\\\"type\\\\\\\\\\\\\\\": 2, \\\\\\\\\\\\\\\"details\\\\\\\\\\\\\\\": {\\\\\\\\\\\\\\\"selectedColumn\\\\\\\\\\\\\\\": \\\\\\\\\\\\\\\"Browser\\\\\\\\\\\\\\\"}}, \\\\\\\\\\\\\\\"typeProperty\\\\\\\\\\\\\\\": 2}, {\\\\\\\\\\\\\\\"column\\\\\\\\\\\\\\\": {\\\\\\\\\\\\\\\"type\\\\\\\\\\\\\\\": 2, \\\\\\\\\\\\\\\"details\\\\\\\\\\\\\\\": {\\\\\\\\\\\\\\\"selectedColumn\\\\\\\\\\\\\\\": \\\\\\\\\\\\\\\"Region\\\\\\\\\\\\\\\"}}, \\\\\\\\\\\\\\\"typeProperty\\\\\\\\\\\\\\\": 2}, {\\\\\\\\\\\\\\\"column\\\\\\\\\\\\\\\": {\\\\\\\\\\\\\\\"type\\\\\\\\\\\\\\\": 2, \\\\\\\\\\\\\\\"details\\\\\\\\\\\\\\\": {\\\\\\\\\\\\\\\"selectedColumn\\\\\\\\\\\\\\\": \\\\\\\\\\\\\\\"TrafficType\\\\\\\\\\\\\\\"}}, \\\\\\\\\\\\\\\"typeProperty\\\\\\\\\\\\\\\": 2}, {\\\\\\\\\\\\\\\"column\\\\\\\\\\\\\\\": {\\\\\\\\\\\\\\\"type\\\\\\\\\\\\\\\": 2, \\\\\\\\\\\\\\\"details\\\\\\\\\\\\\\\": {\\\\\\\\\\\\\\\"selectedColumn\\\\\\\\\\\\\\\": \\\\\\\\\\\\\\\"VisitorType\\\\\\\\\\\\\\\"}}, \\\\\\\\\\\\\\\"typeProperty\\\\\\\\\\\\\\\": 0}, {\\\\\\\\\\\\\\\"column\\\\\\\\\\\\\\\": {\\\\\\\\\\\\\\\"type\\\\\\\\\\\\\\\": 2, \\\\\\\\\\\\\\\"details\\\\\\\\\\\\\\\": {\\\\\\\\\\\\\\\"selectedColumn\\\\\\\\\\\\\\\": \\\\\\\\\\\\\\\"Weekend\\\\\\\\\\\\\\\"}}, \\\\\\\\\\\\\\\"typeProperty\\\\\\\\\\\\\\\": 1}, {\\\\\\\\\\\\\\\"column\\\\\\\\\\\\\\\": {\\\\\\\\\\\\\\\"type\\\\\\\\\\\\\\\": 2, \\\\\\\\\\\\\\\"details\\\\\\\\\\\\\\\": {\\\\\\\\\\\\\\\"selectedColumn\\\\\\\\\\\\\\\": \\\\\\\\\\\\\\\"Revenue\\\\\\\\\\\\\\\"}}, \\\\\\\\\\\\\\\"typeProperty\\\\\\\\\\\\\\\": 1}]}, \\\\\\\\\\\\\\\"localData\\\\\\\\\\\\\\\": {}, \\\\\\\\\\\\\\\"isEnabled\\\\\\\\\\\\\\\": true, \\\\\\\\\\\\\\\"name\\\\\\\\\\\\\\\": null, \\\\\\\\\\\\\\\"annotation\\\\\\\\\\\\\\\": null}], \\\\\\\\\\\\\\\"inspectors\\\\\\\\\\\\\\\": [], \\\\\\\\\\\\\\\"meta\\\\\\\\\\\\\\\": {\\\\\\\\\\\\\\\"savedDatasetId\\\\\\\\\\\\\\\": \\\\\\\\\\\\\\\"31d04a19-716f-42c7-8268-bd315ff20180\\\\\\\\\\\\\\\", \\\\\\\\\\\\\\\"datasetType\\\\\\\\\\\\\\\": \\\\\\\\\\\\\\\"tabular\\\\\\\\\\\\\\\", \\\\\\\\\\\\\\\"subscriptionId\\\\\\\\\\\\\\\": \\\\\\\\\\\\\\\"cdbe0b43-92a0-4715-838a-f2648cc7ad21\\\\\\\\\\\\\\\", \\\\\\\\\\\\\\\"workspaceId\\\\\\\\\\\\\\\": \\\\\\\\\\\\\\\"169a2334-41c2-4a6d-aab9-a4a1560ab97e\\\\\\\\\\\\\\\", \\\\\\\\\\\\\\\"workspaceLocation\\\\\\\\\\\\\\\": \\\\\\\\\\\\\\\"southcentralus\\\\\\\\\\\\\\\"}}\\\\\\\", \\\\\\\"activities\\\\\\\": 0}\", \"EnableSubsampling\": null, \"runTemplate\": \"AutoML\", \"azureml.runsource\": \"automl\", \"display_task_type\": \"classification\", \"dependencies_versions\": \"{\\\"azureml-widgets\\\": \\\"1.20.0\\\", \\\"azureml-train\\\": \\\"1.20.0\\\", \\\"azureml-train-restclients-hyperdrive\\\": \\\"1.20.0\\\", \\\"azureml-train-core\\\": \\\"1.20.0\\\", \\\"azureml-train-automl\\\": \\\"1.20.0\\\", \\\"azureml-train-automl-runtime\\\": \\\"1.20.0\\\", \\\"azureml-train-automl-client\\\": \\\"1.20.0\\\", \\\"azureml-tensorboard\\\": \\\"1.20.0\\\", \\\"azureml-telemetry\\\": \\\"1.20.0\\\", \\\"azureml-sdk\\\": \\\"1.20.0\\\", \\\"azureml-samples\\\": \\\"0+unknown\\\", \\\"azureml-pipeline\\\": \\\"1.20.0\\\", \\\"azureml-pipeline-steps\\\": \\\"1.20.0\\\", \\\"azureml-pipeline-core\\\": \\\"1.20.0\\\", \\\"azureml-opendatasets\\\": \\\"1.20.0\\\", \\\"azureml-model-management-sdk\\\": \\\"1.0.1b6.post1\\\", \\\"azureml-mlflow\\\": \\\"1.20.0.post1\\\", \\\"azureml-interpret\\\": \\\"1.20.0\\\", \\\"azureml-explain-model\\\": \\\"1.20.0\\\", \\\"azureml-defaults\\\": \\\"1.20.0\\\", \\\"azureml-dataset-runtime\\\": \\\"1.20.0\\\", \\\"azureml-dataprep\\\": \\\"2.7.3\\\", \\\"azureml-dataprep-rslex\\\": \\\"1.5.0\\\", \\\"azureml-dataprep-native\\\": \\\"27.0.0\\\", \\\"azureml-datadrift\\\": \\\"1.20.0\\\", \\\"azureml-core\\\": \\\"1.20.0\\\", \\\"azureml-contrib-services\\\": \\\"1.20.0\\\", \\\"azureml-contrib-server\\\": \\\"1.20.0\\\", \\\"azureml-contrib-reinforcementlearning\\\": \\\"1.20.0\\\", \\\"azureml-contrib-pipeline-steps\\\": \\\"1.20.0\\\", \\\"azureml-contrib-notebook\\\": \\\"1.20.0\\\", \\\"azureml-contrib-interpret\\\": \\\"1.20.0\\\", \\\"azureml-contrib-gbdt\\\": \\\"1.20.0\\\", \\\"azureml-contrib-fairness\\\": \\\"1.20.0\\\", \\\"azureml-contrib-dataset\\\": \\\"1.20.0\\\", \\\"azureml-cli-common\\\": \\\"1.20.0\\\", \\\"azureml-automl-runtime\\\": \\\"1.20.0\\\", \\\"azureml-automl-core\\\": \\\"1.20.0\\\", \\\"azureml-accel-models\\\": \\\"1.20.0\\\"}\", \"_aml_system_scenario_identification\": \"Remote.Parent\", \"ClientType\": \"SDK\", \"environment_cpu_name\": \"AzureML-AutoML\", \"environment_cpu_label\": \"prod\", \"environment_gpu_name\": \"AzureML-AutoML-GPU\", \"environment_gpu_label\": \"prod\", \"root_attribution\": \"automl\", \"attribution\": \"AutoML\", \"Orchestrator\": \"AutoML\", \"CancelUri\": \"https://southcentralus.experiments.azureml.net/jasmine/v1.0/subscriptions/cdbe0b43-92a0-4715-838a-f2648cc7ad21/resourceGroups/aml-quickstarts-136580/providers/Microsoft.MachineLearningServices/workspaces/quick-starts-ws-136580/experimentids/5b97c859-839f-484b-9a04-e3aa4d078a6c/cancel/AutoML_2e54ca96-1a98-4bce-9b21-7973f640edda\", \"ClientSdkVersion\": \"1.20.0.post1\", \"snapshotId\": \"00000000-0000-0000-0000-000000000000\", \"SetupRunId\": \"AutoML_2e54ca96-1a98-4bce-9b21-7973f640edda_setup\", \"SetupRunContainerId\": \"dcid.AutoML_2e54ca96-1a98-4bce-9b21-7973f640edda_setup\", \"FeaturizationRunJsonPath\": \"featurizer_container.json\", \"FeaturizationRunId\": \"AutoML_2e54ca96-1a98-4bce-9b21-7973f640edda_featurize\", \"ProblemInfoJsonString\": \"{\\\"dataset_num_categorical\\\": 0, \\\"is_sparse\\\": true, \\\"subsampling\\\": false, \\\"dataset_classes\\\": 2, \\\"dataset_features\\\": 74, \\\"dataset_samples\\\": 12330, \\\"single_frequency_class_detected\\\": false}\", \"ModelExplainRunId\": \"AutoML_2e54ca96-1a98-4bce-9b21-7973f640edda_ModelExplain\"}, \"tags\": {\"model_explain_run\": \"best_run\", \"_aml_system_azureml.automlComponent\": \"AutoML\", \"pipeline_id\": \"\", \"score\": \"\", \"predicted_cost\": \"\", \"fit_time\": \"\", \"training_percent\": \"\", \"iteration\": \"\", \"run_preprocessor\": \"\", \"run_algorithm\": \"\", \"dynamic_whitelisting_iterations\": \"<25>;<30>;<35>;\", \"automl_best_child_run_id\": \"AutoML_2e54ca96-1a98-4bce-9b21-7973f640edda_38\", \"model_explain_best_run_child_id\": \"AutoML_2e54ca96-1a98-4bce-9b21-7973f640edda_38\"}, \"end_time_utc\": \"2021-01-30T11:24:05.180351Z\", \"status\": \"Completed\", \"log_files\": {}, \"log_groups\": [], \"run_duration\": \"0:22:23\"}, \"child_runs\": [{\"run_id\": \"AutoML_2e54ca96-1a98-4bce-9b21-7973f640edda_3\", \"run_number\": 5, \"metric\": null, \"status\": \"Completed\", \"run_type\": \"azureml.scriptrun\", \"training_percent\": \"100\", \"start_time\": \"2021-01-30T11:07:50.572989Z\", \"end_time\": \"2021-01-30T11:08:40.929957Z\", \"created_time\": \"2021-01-30T11:07:40.020994Z\", \"created_time_dt\": \"2021-01-30T11:07:40.020994Z\", \"duration\": \"0:01:00\", \"iteration\": \"3\", \"goal\": \"accuracy_max\", \"run_name\": \"MaxAbsScaler, RandomForest\", \"run_properties\": \"copy=True\", \"primary_metric\": 0.84525547, \"best_metric\": 0.90519059}, {\"run_id\": \"AutoML_2e54ca96-1a98-4bce-9b21-7973f640edda_0\", \"run_number\": 6, \"metric\": null, \"status\": \"Completed\", \"run_type\": \"azureml.scriptrun\", \"training_percent\": \"100\", \"start_time\": \"2021-01-30T11:09:38.475756Z\", \"end_time\": \"2021-01-30T11:10:39.013635Z\", \"created_time\": \"2021-01-30T11:07:40.034407Z\", \"created_time_dt\": \"2021-01-30T11:07:40.034407Z\", \"duration\": \"0:02:58\", \"iteration\": \"0\", \"goal\": \"accuracy_max\", \"run_name\": \"MaxAbsScaler, LightGBM\", \"run_properties\": \"copy=True\", \"primary_metric\": 0.90016221, \"best_metric\": 0.90016221}, {\"run_id\": \"AutoML_2e54ca96-1a98-4bce-9b21-7973f640edda_4\", \"run_number\": 7, \"metric\": null, \"status\": \"Completed\", \"run_type\": \"azureml.scriptrun\", \"training_percent\": \"100\", \"start_time\": \"2021-01-30T11:10:44.99457Z\", \"end_time\": \"2021-01-30T11:11:37.811045Z\", \"created_time\": \"2021-01-30T11:07:40.039694Z\", \"created_time_dt\": \"2021-01-30T11:07:40.039694Z\", \"duration\": \"0:03:57\", \"iteration\": \"4\", \"goal\": \"accuracy_max\", \"run_name\": \"MaxAbsScaler, RandomForest\", \"run_properties\": \"copy=True\", \"primary_metric\": 0.82360097, \"best_metric\": 0.90519059}, {\"run_id\": \"AutoML_2e54ca96-1a98-4bce-9b21-7973f640edda_2\", \"run_number\": 8, \"metric\": null, \"status\": \"Completed\", \"run_type\": \"azureml.scriptrun\", \"training_percent\": \"100\", \"start_time\": \"2021-01-30T11:08:44.200814Z\", \"end_time\": \"2021-01-30T11:09:38.873442Z\", \"created_time\": \"2021-01-30T11:07:40.049302Z\", \"created_time_dt\": \"2021-01-30T11:07:40.049302Z\", \"duration\": \"0:01:58\", \"iteration\": \"2\", \"goal\": \"accuracy_max\", \"run_name\": \"MaxAbsScaler, RandomForest\", \"run_properties\": \"copy=True\", \"primary_metric\": 0.86447689, \"best_metric\": 0.90519059}, {\"run_id\": \"AutoML_2e54ca96-1a98-4bce-9b21-7973f640edda_1\", \"run_number\": 9, \"metric\": null, \"status\": \"Completed\", \"run_type\": \"azureml.scriptrun\", \"training_percent\": \"100\", \"start_time\": \"2021-01-30T11:11:22.472686Z\", \"end_time\": \"2021-01-30T11:14:42.870294Z\", \"created_time\": \"2021-01-30T11:07:40.065016Z\", \"created_time_dt\": \"2021-01-30T11:07:40.065016Z\", \"duration\": \"0:07:02\", \"iteration\": \"1\", \"goal\": \"accuracy_max\", \"run_name\": \"MaxAbsScaler, XGBoostClassifier\", \"run_properties\": \"copy=True\", \"primary_metric\": 0.90519059, \"best_metric\": 0.90519059}, {\"run_id\": \"AutoML_2e54ca96-1a98-4bce-9b21-7973f640edda_5\", \"run_number\": 10, \"metric\": null, \"status\": \"Completed\", \"run_type\": \"azureml.scriptrun\", \"training_percent\": \"100\", \"start_time\": \"2021-01-30T11:11:19.518043Z\", \"end_time\": \"2021-01-30T11:14:52.234665Z\", \"created_time\": \"2021-01-30T11:08:43.496819Z\", \"created_time_dt\": \"2021-01-30T11:08:43.496819Z\", \"duration\": \"0:06:08\", \"iteration\": \"5\", \"goal\": \"accuracy_max\", \"run_name\": \"MaxAbsScaler, RandomForest\", \"run_properties\": \"copy=True\", \"primary_metric\": 0.85896188, \"best_metric\": 0.90519059}, {\"run_id\": \"AutoML_2e54ca96-1a98-4bce-9b21-7973f640edda_6\", \"run_number\": 11, \"metric\": null, \"status\": \"Completed\", \"run_type\": \"azureml.scriptrun\", \"training_percent\": \"100\", \"start_time\": \"2021-01-30T11:11:21.934358Z\", \"end_time\": \"2021-01-30T11:14:53.160483Z\", \"created_time\": \"2021-01-30T11:09:41.428563Z\", \"created_time_dt\": \"2021-01-30T11:09:41.428563Z\", \"duration\": \"0:05:11\", \"iteration\": \"6\", \"goal\": \"accuracy_max\", \"run_name\": \"SparseNormalizer, XGBoostClassifier\", \"run_properties\": \"<azureml.automl.runtime.shared.model_wrappers.SparseNormalizer object at 0x7fe203b9c828\", \"primary_metric\": 0.90227088, \"best_metric\": 0.90519059}, {\"run_id\": \"AutoML_2e54ca96-1a98-4bce-9b21-7973f640edda_7\", \"run_number\": 12, \"metric\": null, \"status\": \"Completed\", \"run_type\": \"azureml.scriptrun\", \"training_percent\": \"100\", \"start_time\": \"2021-01-30T11:11:38.597528Z\", \"end_time\": \"2021-01-30T11:12:38.900534Z\", \"created_time\": \"2021-01-30T11:10:41.360956Z\", \"created_time_dt\": \"2021-01-30T11:10:41.360956Z\", \"duration\": \"0:01:57\", \"iteration\": \"7\", \"goal\": \"accuracy_max\", \"run_name\": \"SparseNormalizer, XGBoostClassifier\", \"run_properties\": \"<azureml.automl.runtime.shared.model_wrappers.SparseNormalizer object at 0x7f43ffa56e80\", \"primary_metric\": 0.89805353, \"best_metric\": 0.90519059}, {\"run_id\": \"AutoML_2e54ca96-1a98-4bce-9b21-7973f640edda_8\", \"run_number\": 13, \"metric\": null, \"status\": \"Completed\", \"run_type\": \"azureml.scriptrun\", \"training_percent\": \"100\", \"start_time\": \"2021-01-30T11:12:42.804852Z\", \"end_time\": \"2021-01-30T11:13:45.013365Z\", \"created_time\": \"2021-01-30T11:11:39.842606Z\", \"created_time_dt\": \"2021-01-30T11:11:39.842606Z\", \"duration\": \"0:02:05\", \"iteration\": \"8\", \"goal\": \"accuracy_max\", \"run_name\": \"SparseNormalizer, XGBoostClassifier\", \"run_properties\": \"<azureml.automl.runtime.shared.model_wrappers.SparseNormalizer object at 0x7fb90a4bcb00\", \"primary_metric\": 0.90162206, \"best_metric\": 0.90519059}, {\"run_id\": \"AutoML_2e54ca96-1a98-4bce-9b21-7973f640edda_9\", \"run_number\": 14, \"metric\": null, \"status\": \"Completed\", \"run_type\": \"azureml.scriptrun\", \"training_percent\": \"100\", \"start_time\": \"2021-01-30T11:13:45.710586Z\", \"end_time\": \"2021-01-30T11:14:59.635153Z\", \"created_time\": \"2021-01-30T11:12:41.343446Z\", \"created_time_dt\": \"2021-01-30T11:12:41.343446Z\", \"duration\": \"0:02:18\", \"iteration\": \"9\", \"goal\": \"accuracy_max\", \"run_name\": \"MaxAbsScaler, RandomForest\", \"run_properties\": \"copy=True\", \"primary_metric\": 0.84525547, \"best_metric\": 0.90519059}, {\"run_id\": \"AutoML_2e54ca96-1a98-4bce-9b21-7973f640edda_10\", \"run_number\": 15, \"metric\": null, \"status\": \"Completed\", \"run_type\": \"azureml.scriptrun\", \"training_percent\": \"100\", \"start_time\": \"2021-01-30T11:14:40.215825Z\", \"end_time\": \"2021-01-30T11:15:34.547656Z\", \"created_time\": \"2021-01-30T11:13:48.357774Z\", \"created_time_dt\": \"2021-01-30T11:13:48.357774Z\", \"duration\": \"0:01:46\", \"iteration\": \"10\", \"goal\": \"accuracy_max\", \"run_name\": \"SparseNormalizer, LightGBM\", \"run_properties\": \"<azureml.automl.runtime.shared.model_wrappers.SparseNormalizer object at 0x7f3015fdc668\", \"primary_metric\": 0.90210868, \"best_metric\": 0.90519059}, {\"run_id\": \"AutoML_2e54ca96-1a98-4bce-9b21-7973f640edda_11\", \"run_number\": 16, \"metric\": null, \"status\": \"Completed\", \"run_type\": \"azureml.scriptrun\", \"training_percent\": \"100\", \"start_time\": \"2021-01-30T11:14:56.82324Z\", \"end_time\": \"2021-01-30T11:15:44.618926Z\", \"created_time\": \"2021-01-30T11:14:45.512556Z\", \"created_time_dt\": \"2021-01-30T11:14:45.512556Z\", \"duration\": \"0:00:59\", \"iteration\": \"11\", \"goal\": \"accuracy_max\", \"run_name\": \"StandardScalerWrapper, RandomForest\", \"run_properties\": \"<azureml.automl.runtime.shared.model_wrappers.StandardScalerWrapper object at 0x7fa75dfacac8\", \"primary_metric\": 0.881103, \"best_metric\": 0.90519059}, {\"run_id\": \"AutoML_2e54ca96-1a98-4bce-9b21-7973f640edda_12\", \"run_number\": 17, \"metric\": null, \"status\": \"Completed\", \"run_type\": \"azureml.scriptrun\", \"training_percent\": \"100\", \"start_time\": \"2021-01-30T11:15:06.781771Z\", \"end_time\": \"2021-01-30T11:15:58.368065Z\", \"created_time\": \"2021-01-30T11:14:54.506625Z\", \"created_time_dt\": \"2021-01-30T11:14:54.506625Z\", \"duration\": \"0:01:03\", \"iteration\": \"12\", \"goal\": \"accuracy_max\", \"run_name\": \"SparseNormalizer, XGBoostClassifier\", \"run_properties\": \"<azureml.automl.runtime.shared.model_wrappers.SparseNormalizer object at 0x7f2b6c69d358\", \"primary_metric\": 0.88742903, \"best_metric\": 0.90519059}, {\"run_id\": \"AutoML_2e54ca96-1a98-4bce-9b21-7973f640edda_13\", \"run_number\": 18, \"metric\": null, \"status\": \"Completed\", \"run_type\": \"azureml.scriptrun\", \"training_percent\": \"100\", \"start_time\": \"2021-01-30T11:15:11.647863Z\", \"end_time\": \"2021-01-30T11:15:57.971354Z\", \"created_time\": \"2021-01-30T11:14:59.223621Z\", \"created_time_dt\": \"2021-01-30T11:14:59.223621Z\", \"duration\": \"0:00:58\", \"iteration\": \"13\", \"goal\": \"accuracy_max\", \"run_name\": \"MaxAbsScaler, RandomForest\", \"run_properties\": \"copy=True\", \"primary_metric\": 0.88134631, \"best_metric\": 0.90519059}, {\"run_id\": \"AutoML_2e54ca96-1a98-4bce-9b21-7973f640edda_14\", \"run_number\": 19, \"metric\": null, \"status\": \"Completed\", \"run_type\": \"azureml.scriptrun\", \"training_percent\": \"100\", \"start_time\": \"2021-01-30T11:15:36.567714Z\", \"end_time\": \"2021-01-30T11:16:32.562738Z\", \"created_time\": \"2021-01-30T11:15:03.43677Z\", \"created_time_dt\": \"2021-01-30T11:15:03.43677Z\", \"duration\": \"0:01:29\", \"iteration\": \"14\", \"goal\": \"accuracy_max\", \"run_name\": \"MaxAbsScaler, LightGBM\", \"run_properties\": \"copy=True\", \"primary_metric\": 0.88523925, \"best_metric\": 0.90519059}, {\"run_id\": \"AutoML_2e54ca96-1a98-4bce-9b21-7973f640edda_15\", \"run_number\": 20, \"metric\": null, \"status\": \"Completed\", \"run_type\": \"azureml.scriptrun\", \"training_percent\": \"100\", \"start_time\": \"2021-01-30T11:15:49.669903Z\", \"end_time\": \"2021-01-30T11:16:50.877623Z\", \"created_time\": \"2021-01-30T11:15:36.919781Z\", \"created_time_dt\": \"2021-01-30T11:15:36.919781Z\", \"duration\": \"0:01:13\", \"iteration\": \"15\", \"goal\": \"accuracy_max\", \"run_name\": \"MaxAbsScaler, LogisticRegression\", \"run_properties\": \"copy=True\", \"primary_metric\": 0.88004866, \"best_metric\": 0.90519059}, {\"run_id\": \"AutoML_2e54ca96-1a98-4bce-9b21-7973f640edda_16\", \"run_number\": 21, \"metric\": null, \"status\": \"Completed\", \"run_type\": \"azureml.scriptrun\", \"training_percent\": \"100\", \"start_time\": \"2021-01-30T11:16:01.614176Z\", \"end_time\": \"2021-01-30T11:17:16.717763Z\", \"created_time\": \"2021-01-30T11:15:47.55286Z\", \"created_time_dt\": \"2021-01-30T11:15:47.55286Z\", \"duration\": \"0:01:29\", \"iteration\": \"16\", \"goal\": \"accuracy_max\", \"run_name\": \"MaxAbsScaler, RandomForest\", \"run_properties\": \"copy=True\", \"primary_metric\": 0.88418491, \"best_metric\": 0.90519059}, {\"run_id\": \"AutoML_2e54ca96-1a98-4bce-9b21-7973f640edda_17\", \"run_number\": 22, \"metric\": null, \"status\": \"Completed\", \"run_type\": \"azureml.scriptrun\", \"training_percent\": \"100\", \"start_time\": \"2021-01-30T11:16:12.520748Z\", \"end_time\": \"2021-01-30T11:17:07.444681Z\", \"created_time\": \"2021-01-30T11:16:00.442308Z\", \"created_time_dt\": \"2021-01-30T11:16:00.442308Z\", \"duration\": \"0:01:07\", \"iteration\": \"17\", \"goal\": \"accuracy_max\", \"run_name\": \"MaxAbsScaler, LogisticRegression\", \"run_properties\": \"copy=True\", \"primary_metric\": 0.88410381, \"best_metric\": 0.90519059}, {\"run_id\": \"AutoML_2e54ca96-1a98-4bce-9b21-7973f640edda_18\", \"run_number\": 23, \"metric\": null, \"status\": \"Completed\", \"run_type\": \"azureml.scriptrun\", \"training_percent\": \"100\", \"start_time\": \"2021-01-30T11:16:36.639225Z\", \"end_time\": \"2021-01-30T11:17:33.871342Z\", \"created_time\": \"2021-01-30T11:16:01.004019Z\", \"created_time_dt\": \"2021-01-30T11:16:01.004019Z\", \"duration\": \"0:01:32\", \"iteration\": \"18\", \"goal\": \"accuracy_max\", \"run_name\": \"MaxAbsScaler, LogisticRegression\", \"run_properties\": \"copy=True\", \"primary_metric\": 0.88410381, \"best_metric\": 0.90519059}, {\"run_id\": \"AutoML_2e54ca96-1a98-4bce-9b21-7973f640edda_19\", \"run_number\": 24, \"metric\": null, \"status\": \"Completed\", \"run_type\": \"azureml.scriptrun\", \"training_percent\": \"100\", \"start_time\": \"2021-01-30T11:16:52.103632Z\", \"end_time\": \"2021-01-30T11:17:44.887354Z\", \"created_time\": \"2021-01-30T11:16:34.846387Z\", \"created_time_dt\": \"2021-01-30T11:16:34.846387Z\", \"duration\": \"0:01:10\", \"iteration\": \"19\", \"goal\": \"accuracy_max\", \"run_name\": \"MaxAbsScaler, LogisticRegression\", \"run_properties\": \"copy=True\", \"primary_metric\": 0.88410381, \"best_metric\": 0.90519059}, {\"run_id\": \"AutoML_2e54ca96-1a98-4bce-9b21-7973f640edda_20\", \"run_number\": 25, \"metric\": null, \"status\": \"Completed\", \"run_type\": \"azureml.scriptrun\", \"training_percent\": \"100\", \"start_time\": \"2021-01-30T11:17:12.060905Z\", \"end_time\": \"2021-01-30T11:18:04.191537Z\", \"created_time\": \"2021-01-30T11:16:53.05542Z\", \"created_time_dt\": \"2021-01-30T11:16:53.05542Z\", \"duration\": \"0:01:11\", \"iteration\": \"20\", \"goal\": \"accuracy_max\", \"run_name\": \"SparseNormalizer, GradientBoosting\", \"run_properties\": \"<azureml.automl.runtime.shared.model_wrappers.SparseNormalizer object at 0x7fba0c1a00f0\", \"primary_metric\": 0.85985401, \"best_metric\": 0.90519059}, {\"run_id\": \"AutoML_2e54ca96-1a98-4bce-9b21-7973f640edda_21\", \"run_number\": 26, \"metric\": null, \"status\": \"Completed\", \"run_type\": \"azureml.scriptrun\", \"training_percent\": \"100\", \"start_time\": \"2021-01-30T11:17:23.197596Z\", \"end_time\": \"2021-01-30T11:18:09.765858Z\", \"created_time\": \"2021-01-30T11:17:10.352566Z\", \"created_time_dt\": \"2021-01-30T11:17:10.352566Z\", \"duration\": \"0:00:59\", \"iteration\": \"21\", \"goal\": \"accuracy_max\", \"run_name\": \"MaxAbsScaler, LightGBM\", \"run_properties\": \"copy=True\", \"primary_metric\": 0.90494728, \"best_metric\": 0.90519059}, {\"run_id\": \"AutoML_2e54ca96-1a98-4bce-9b21-7973f640edda_22\", \"run_number\": 27, \"metric\": null, \"status\": \"Completed\", \"run_type\": \"azureml.scriptrun\", \"training_percent\": \"100\", \"start_time\": \"2021-01-30T11:17:35.972495Z\", \"end_time\": \"2021-01-30T11:18:31.778709Z\", \"created_time\": \"2021-01-30T11:17:19.428957Z\", \"created_time_dt\": \"2021-01-30T11:17:19.428957Z\", \"duration\": \"0:01:12\", \"iteration\": \"22\", \"goal\": \"accuracy_max\", \"run_name\": \"SparseNormalizer, XGBoostClassifier\", \"run_properties\": \"<azureml.automl.runtime.shared.model_wrappers.SparseNormalizer object at 0x7faa10192cc0\", \"primary_metric\": 0.90243309, \"best_metric\": 0.90519059}, {\"run_id\": \"AutoML_2e54ca96-1a98-4bce-9b21-7973f640edda_23\", \"run_number\": 28, \"metric\": null, \"status\": \"Completed\", \"run_type\": \"azureml.scriptrun\", \"training_percent\": \"100\", \"start_time\": \"2021-01-30T11:17:49.596946Z\", \"end_time\": \"2021-01-30T11:18:59.692188Z\", \"created_time\": \"2021-01-30T11:17:36.970276Z\", \"created_time_dt\": \"2021-01-30T11:17:36.970276Z\", \"duration\": \"0:01:22\", \"iteration\": \"23\", \"goal\": \"accuracy_max\", \"run_name\": \"SparseNormalizer, XGBoostClassifier\", \"run_properties\": \"<azureml.automl.runtime.shared.model_wrappers.SparseNormalizer object at 0x7f52a787eda0\", \"primary_metric\": 0.89975669, \"best_metric\": 0.90519059}, {\"run_id\": \"AutoML_2e54ca96-1a98-4bce-9b21-7973f640edda_24\", \"run_number\": 29, \"metric\": null, \"status\": \"Completed\", \"run_type\": \"azureml.scriptrun\", \"training_percent\": \"100\", \"start_time\": \"2021-01-30T11:18:07.403286Z\", \"end_time\": \"2021-01-30T11:19:47.317067Z\", \"created_time\": \"2021-01-30T11:17:48.100097Z\", \"created_time_dt\": \"2021-01-30T11:17:48.100097Z\", \"duration\": \"0:01:59\", \"iteration\": \"24\", \"goal\": \"accuracy_max\", \"run_name\": \"MaxAbsScaler, ExtremeRandomTrees\", \"run_properties\": \"copy=True\", \"primary_metric\": 0.86253041, \"best_metric\": 0.90519059}, {\"run_id\": \"AutoML_2e54ca96-1a98-4bce-9b21-7973f640edda_25\", \"run_number\": 30, \"metric\": null, \"status\": \"Completed\", \"run_type\": \"azureml.scriptrun\", \"training_percent\": \"100\", \"start_time\": \"2021-01-30T11:18:18.255828Z\", \"end_time\": \"2021-01-30T11:19:05.601442Z\", \"created_time\": \"2021-01-30T11:18:08.332189Z\", \"created_time_dt\": \"2021-01-30T11:18:08.332189Z\", \"duration\": \"0:00:57\", \"iteration\": \"25\", \"goal\": \"accuracy_max\", \"run_name\": \"SparseNormalizer, XGBoostClassifier\", \"run_properties\": \"<azureml.automl.runtime.shared.model_wrappers.SparseNormalizer object at 0x7fd4dea53c50\", \"primary_metric\": 0.84525547, \"best_metric\": 0.90519059}, {\"run_id\": \"AutoML_2e54ca96-1a98-4bce-9b21-7973f640edda_26\", \"run_number\": 31, \"metric\": null, \"status\": \"Completed\", \"run_type\": \"azureml.scriptrun\", \"training_percent\": \"100\", \"start_time\": \"2021-01-30T11:18:34.438656Z\", \"end_time\": \"2021-01-30T11:19:29.627046Z\", \"created_time\": \"2021-01-30T11:18:12.269096Z\", \"created_time_dt\": \"2021-01-30T11:18:12.269096Z\", \"duration\": \"0:01:17\", \"iteration\": \"26\", \"goal\": \"accuracy_max\", \"run_name\": \"MaxAbsScaler, LightGBM\", \"run_properties\": \"copy=True\", \"primary_metric\": 0.90364964, \"best_metric\": 0.90519059}, {\"run_id\": \"AutoML_2e54ca96-1a98-4bce-9b21-7973f640edda_27\", \"run_number\": 32, \"metric\": null, \"status\": \"Completed\", \"run_type\": \"azureml.scriptrun\", \"training_percent\": \"100\", \"start_time\": \"2021-01-30T11:19:00.206922Z\", \"end_time\": \"2021-01-30T11:20:01.058517Z\", \"created_time\": \"2021-01-30T11:18:34.114842Z\", \"created_time_dt\": \"2021-01-30T11:18:34.114842Z\", \"duration\": \"0:01:26\", \"iteration\": \"27\", \"goal\": \"accuracy_max\", \"run_name\": \"MaxAbsScaler, LightGBM\", \"run_properties\": \"copy=True\", \"primary_metric\": 0.86553122, \"best_metric\": 0.90519059}, {\"run_id\": \"AutoML_2e54ca96-1a98-4bce-9b21-7973f640edda_28\", \"run_number\": 33, \"metric\": null, \"status\": \"Completed\", \"run_type\": \"azureml.scriptrun\", \"training_percent\": \"100\", \"start_time\": \"2021-01-30T11:19:13.278595Z\", \"end_time\": \"2021-01-30T11:20:04.376323Z\", \"created_time\": \"2021-01-30T11:19:02.5677Z\", \"created_time_dt\": \"2021-01-30T11:19:02.5677Z\", \"duration\": \"0:01:01\", \"iteration\": \"28\", \"goal\": \"accuracy_max\", \"run_name\": \"MaxAbsScaler, LightGBM\", \"run_properties\": \"copy=True\", \"primary_metric\": 0.90210868, \"best_metric\": 0.90519059}, {\"run_id\": \"AutoML_2e54ca96-1a98-4bce-9b21-7973f640edda_29\", \"run_number\": 34, \"metric\": null, \"status\": \"Completed\", \"run_type\": \"azureml.scriptrun\", \"training_percent\": \"100\", \"start_time\": \"2021-01-30T11:19:32.914358Z\", \"end_time\": \"2021-01-30T11:20:57.06273Z\", \"created_time\": \"2021-01-30T11:19:07.830798Z\", \"created_time_dt\": \"2021-01-30T11:19:07.830798Z\", \"duration\": \"0:01:49\", \"iteration\": \"29\", \"goal\": \"accuracy_max\", \"run_name\": \"SparseNormalizer, XGBoostClassifier\", \"run_properties\": \"<azureml.automl.runtime.shared.model_wrappers.SparseNormalizer object at 0x7fcf7c3d99b0\", \"primary_metric\": 0.89910787, \"best_metric\": 0.90519059}, {\"run_id\": \"AutoML_2e54ca96-1a98-4bce-9b21-7973f640edda_30\", \"run_number\": 35, \"metric\": null, \"status\": \"Completed\", \"run_type\": \"azureml.scriptrun\", \"training_percent\": \"100\", \"start_time\": \"2021-01-30T11:19:50.73885Z\", \"end_time\": \"2021-01-30T11:21:21.040862Z\", \"created_time\": \"2021-01-30T11:19:33.006905Z\", \"created_time_dt\": \"2021-01-30T11:19:33.006905Z\", \"duration\": \"0:01:48\", \"iteration\": \"30\", \"goal\": \"accuracy_max\", \"run_name\": \"SparseNormalizer, XGBoostClassifier\", \"run_properties\": \"<azureml.automl.runtime.shared.model_wrappers.SparseNormalizer object at 0x7f5b125b8dd8\", \"primary_metric\": 0.89691809, \"best_metric\": 0.90519059}, {\"run_id\": \"AutoML_2e54ca96-1a98-4bce-9b21-7973f640edda_31\", \"run_number\": 36, \"metric\": null, \"status\": \"Completed\", \"run_type\": \"azureml.scriptrun\", \"training_percent\": \"100\", \"start_time\": \"2021-01-30T11:20:09.066662Z\", \"end_time\": \"2021-01-30T11:21:00.154913Z\", \"created_time\": \"2021-01-30T11:19:49.58064Z\", \"created_time_dt\": \"2021-01-30T11:19:49.58064Z\", \"duration\": \"0:01:10\", \"iteration\": \"31\", \"goal\": \"accuracy_max\", \"run_name\": \"MaxAbsScaler, LightGBM\", \"run_properties\": \"copy=True\", \"primary_metric\": 0.90332522, \"best_metric\": 0.90519059}, {\"run_id\": \"AutoML_2e54ca96-1a98-4bce-9b21-7973f640edda_32\", \"run_number\": 37, \"metric\": null, \"status\": \"Completed\", \"run_type\": \"azureml.scriptrun\", \"training_percent\": \"100\", \"start_time\": \"2021-01-30T11:20:14.623019Z\", \"end_time\": \"2021-01-30T11:21:00.732825Z\", \"created_time\": \"2021-01-30T11:20:03.110497Z\", \"created_time_dt\": \"2021-01-30T11:20:03.110497Z\", \"duration\": \"0:00:57\", \"iteration\": \"32\", \"goal\": \"accuracy_max\", \"run_name\": \"StandardScalerWrapper, LightGBM\", \"run_properties\": \"<azureml.automl.runtime.shared.model_wrappers.StandardScalerWrapper object at 0x7f46dcec8278\", \"primary_metric\": 0.84525547, \"best_metric\": 0.90519059}, {\"run_id\": \"AutoML_2e54ca96-1a98-4bce-9b21-7973f640edda_33\", \"run_number\": 38, \"metric\": null, \"status\": \"Completed\", \"run_type\": \"azureml.scriptrun\", \"training_percent\": \"100\", \"start_time\": \"2021-01-30T11:20:56.47851Z\", \"end_time\": \"2021-01-30T11:21:57.836666Z\", \"created_time\": \"2021-01-30T11:20:07.309999Z\", \"created_time_dt\": \"2021-01-30T11:20:07.309999Z\", \"duration\": \"0:01:50\", \"iteration\": \"33\", \"goal\": \"accuracy_max\", \"run_name\": \"SparseNormalizer, XGBoostClassifier\", \"run_properties\": \"<azureml.automl.runtime.shared.model_wrappers.SparseNormalizer object at 0x7f21183ea898\", \"primary_metric\": 0.89699919, \"best_metric\": 0.90519059}, {\"run_id\": \"AutoML_2e54ca96-1a98-4bce-9b21-7973f640edda_34\", \"run_number\": 39, \"metric\": null, \"status\": \"Canceled\", \"run_type\": \"azureml.scriptrun\", \"training_percent\": \"100\", \"start_time\": \"2021-01-30T11:21:12.974279Z\", \"end_time\": \"2021-01-30T11:22:07.132954Z\", \"created_time\": \"2021-01-30T11:20:59.893664Z\", \"created_time_dt\": \"2021-01-30T11:20:59.893664Z\", \"duration\": \"0:01:07\", \"iteration\": \"34\", \"goal\": null, \"run_name\": \"SparseNormalizer, XGBoostClassifier\", \"run_properties\": null}, {\"run_id\": \"AutoML_2e54ca96-1a98-4bce-9b21-7973f640edda_35\", \"run_number\": 40, \"metric\": null, \"status\": \"Canceled\", \"run_type\": \"azureml.scriptrun\", \"training_percent\": \"100\", \"start_time\": \"2021-01-30T11:21:17.697508Z\", \"end_time\": \"2021-01-30T11:22:05.747661Z\", \"created_time\": \"2021-01-30T11:21:05.731412Z\", \"created_time_dt\": \"2021-01-30T11:21:05.731412Z\", \"duration\": \"0:01:00\", \"iteration\": \"35\", \"goal\": \"accuracy_max\", \"run_name\": \"SparseNormalizer, XGBoostClassifier\", \"run_properties\": \"<azureml.automl.runtime.shared.model_wrappers.SparseNormalizer object at 0x7f7a4dfd9c18\", \"primary_metric\": 0.89918897, \"best_metric\": 0.90519059}, {\"run_id\": \"AutoML_2e54ca96-1a98-4bce-9b21-7973f640edda_36\", \"run_number\": 41, \"metric\": null, \"status\": \"Canceled\", \"run_type\": \"azureml.scriptrun\", \"training_percent\": \"100\", \"start_time\": \"2021-01-30T11:21:22.688455Z\", \"end_time\": \"2021-01-30T11:22:05.965355Z\", \"created_time\": \"2021-01-30T11:21:05.73505Z\", \"created_time_dt\": \"2021-01-30T11:21:05.73505Z\", \"duration\": \"0:01:00\", \"iteration\": \"36\", \"goal\": \"accuracy_max\", \"run_name\": \"MaxAbsScaler, LogisticRegression\", \"run_properties\": \"copy=True\", \"primary_metric\": 0.84914842, \"best_metric\": 0.90519059}, {\"run_id\": \"AutoML_2e54ca96-1a98-4bce-9b21-7973f640edda_37\", \"run_number\": 42, \"metric\": null, \"status\": \"Canceled\", \"run_type\": \"azureml.scriptrun\", \"training_percent\": \"100\", \"start_time\": \"2021-01-30T11:21:58.084952Z\", \"end_time\": \"2021-01-30T11:22:05.935147Z\", \"created_time\": \"2021-01-30T11:21:23.743761Z\", \"created_time_dt\": \"2021-01-30T11:21:23.743761Z\", \"duration\": \"0:00:42\", \"iteration\": \"37\", \"goal\": null, \"run_name\": \"Canceled\", \"run_properties\": null}, {\"run_id\": \"AutoML_2e54ca96-1a98-4bce-9b21-7973f640edda_38\", \"run_number\": 43, \"metric\": null, \"status\": \"Completed\", \"run_type\": \"azureml.scriptrun\", \"training_percent\": \"100\", \"start_time\": \"2021-01-30T11:22:18.871149Z\", \"end_time\": \"2021-01-30T11:23:54.853539Z\", \"created_time\": \"2021-01-30T11:22:08.6574Z\", \"created_time_dt\": \"2021-01-30T11:22:08.6574Z\", \"duration\": \"0:01:46\", \"iteration\": \"38\", \"goal\": \"accuracy_max\", \"run_name\": \"VotingEnsemble\", \"run_properties\": \"classification_labels=None,\\n                              estimators=[('1',\\n                                           Pipeline(memory=None,\\n                                                    steps=[('maxabsscaler',\\n                                                            MaxAbsScaler(copy=True\", \"primary_metric\": 0.90697486, \"best_metric\": 0.90697486}, {\"run_id\": \"AutoML_2e54ca96-1a98-4bce-9b21-7973f640edda_39\", \"run_number\": 44, \"metric\": null, \"status\": \"Completed\", \"run_type\": \"azureml.scriptrun\", \"training_percent\": \"100\", \"start_time\": \"2021-01-30T11:22:21.880923Z\", \"end_time\": \"2021-01-30T11:23:50.722703Z\", \"created_time\": \"2021-01-30T11:22:08.794976Z\", \"created_time_dt\": \"2021-01-30T11:22:08.794976Z\", \"duration\": \"0:01:41\", \"iteration\": \"39\", \"goal\": \"accuracy_max\", \"run_name\": \"StackEnsemble\", \"run_properties\": \"base_learners=[('1',\\n                                        Pipeline(memory=None,\\n                                                 steps=[('maxabsscaler',\\n                                                         MaxAbsScaler(copy=True\", \"primary_metric\": 0.90519059, \"best_metric\": 0.90697486}], \"children_metrics\": {\"categories\": [0], \"series\": {\"precision_score_micro\": [{\"categories\": [\"0\", \"1\", \"2\", \"3\", \"4\", \"5\", \"6\", \"7\", \"8\", \"9\", \"10\", \"11\", \"12\", \"13\", \"14\", \"15\", \"16\", \"17\", \"18\", \"19\", \"20\", \"21\", \"22\", \"23\", \"24\", \"25\", \"26\", \"27\", \"28\", \"29\", \"30\", \"31\", \"32\", \"33\", \"35\", \"36\", \"38\", \"39\"], \"mode\": \"markers\", \"name\": \"precision_score_micro\", \"stepped\": false, \"type\": \"scatter\", \"data\": [0.9001622060016222, 0.9051905920519059, 0.8644768856447689, 0.8452554744525548, 0.8236009732360098, 0.8589618815896188, 0.9022708840227089, 0.8980535279805353, 0.9016220600162206, 0.8452554744525548, 0.9021086780210869, 0.88110300081103, 0.8874290348742905, 0.8813463098134631, 0.8852392538523924, 0.8800486618004867, 0.8841849148418491, 0.8841038118410381, 0.8841038118410381, 0.8841038118410381, 0.8598540145985402, 0.9049472830494728, 0.9024330900243309, 0.8997566909975668, 0.8625304136253042, 0.8452554744525548, 0.9036496350364963, 0.8655312246553123, 0.9021086780210869, 0.8991078669910787, 0.8969180859691809, 0.9033252230332524, 0.8452554744525548, 0.8969991889699919, 0.8991889699918897, 0.8491484184914843, 0.9069748580697485, 0.905190592051906]}, {\"categories\": [\"0\", \"1\", \"2\", \"3\", \"4\", \"5\", \"6\", \"7\", \"8\", \"9\", \"10\", \"11\", \"12\", \"13\", \"14\", \"15\", \"16\", \"17\", \"18\", \"19\", \"20\", \"21\", \"22\", \"23\", \"24\", \"25\", \"26\", \"27\", \"28\", \"29\", \"30\", \"31\", \"32\", \"33\", \"35\", \"36\", \"38\", \"39\"], \"mode\": \"lines\", \"name\": \"precision_score_micro_max\", \"stepped\": true, \"type\": \"scatter\", \"data\": [0.9001622060016222, 0.9051905920519059, 0.9051905920519059, 0.9051905920519059, 0.9051905920519059, 0.9051905920519059, 0.9051905920519059, 0.9051905920519059, 0.9051905920519059, 0.9051905920519059, 0.9051905920519059, 0.9051905920519059, 0.9051905920519059, 0.9051905920519059, 0.9051905920519059, 0.9051905920519059, 0.9051905920519059, 0.9051905920519059, 0.9051905920519059, 0.9051905920519059, 0.9051905920519059, 0.9051905920519059, 0.9051905920519059, 0.9051905920519059, 0.9051905920519059, 0.9051905920519059, 0.9051905920519059, 0.9051905920519059, 0.9051905920519059, 0.9051905920519059, 0.9051905920519059, 0.9051905920519059, 0.9051905920519059, 0.9051905920519059, 0.9051905920519059, 0.9051905920519059, 0.9069748580697485, 0.9069748580697485]}], \"average_precision_score_micro\": [{\"categories\": [\"0\", \"1\", \"2\", \"3\", \"4\", \"5\", \"6\", \"7\", \"8\", \"9\", \"10\", \"11\", \"12\", \"13\", \"14\", \"15\", \"16\", \"17\", \"18\", \"19\", \"20\", \"21\", \"22\", \"23\", \"24\", \"25\", \"26\", \"27\", \"28\", \"29\", \"30\", \"31\", \"32\", \"33\", \"35\", \"36\", \"38\", \"39\"], \"mode\": \"markers\", \"name\": \"average_precision_score_micro\", \"stepped\": false, \"type\": \"scatter\", \"data\": [0.9692024524545738, 0.9704549084235478, 0.9561522246535369, 0.9429959923199901, 0.8873403455009035, 0.8732034135424706, 0.9698814250811365, 0.9680704661018847, 0.9696856465699112, 0.9502436265898259, 0.9665667346218679, 0.9608895064230296, 0.9551564316335774, 0.9552779856195684, 0.9585917086421974, 0.9457382770707511, 0.9607007141344889, 0.9438802661672231, 0.9441882495044265, 0.9438844059278008, 0.9436042277089518, 0.9690045947407425, 0.969180941668163, 0.9671944739482757, 0.9564791222234801, 0.7918623893220302, 0.9697366368113723, 0.9585821388937436, 0.9671902388321088, 0.9664571205162393, 0.9650235256392605, 0.9679588432234362, 0.9550190824213859, 0.967584153490722, 0.9651367152929989, 0.8801288393061023, 0.9707518246581, 0.9706585193342742]}, {\"categories\": [\"0\", \"1\", \"2\", \"3\", \"4\", \"5\", \"6\", \"7\", \"8\", \"9\", \"10\", \"11\", \"12\", \"13\", \"14\", \"15\", \"16\", \"17\", \"18\", \"19\", \"20\", \"21\", \"22\", \"23\", \"24\", \"25\", \"26\", \"27\", \"28\", \"29\", \"30\", \"31\", \"32\", \"33\", \"35\", \"36\", \"38\", \"39\"], \"mode\": \"lines\", \"name\": \"average_precision_score_micro_max\", \"stepped\": true, \"type\": \"scatter\", \"data\": [0.9692024524545738, 0.9704549084235478, 0.9704549084235478, 0.9704549084235478, 0.9704549084235478, 0.9704549084235478, 0.9704549084235478, 0.9704549084235478, 0.9704549084235478, 0.9704549084235478, 0.9704549084235478, 0.9704549084235478, 0.9704549084235478, 0.9704549084235478, 0.9704549084235478, 0.9704549084235478, 0.9704549084235478, 0.9704549084235478, 0.9704549084235478, 0.9704549084235478, 0.9704549084235478, 0.9704549084235478, 0.9704549084235478, 0.9704549084235478, 0.9704549084235478, 0.9704549084235478, 0.9704549084235478, 0.9704549084235478, 0.9704549084235478, 0.9704549084235478, 0.9704549084235478, 0.9704549084235478, 0.9704549084235478, 0.9704549084235478, 0.9704549084235478, 0.9704549084235478, 0.9707518246581, 0.9707518246581]}], \"accuracy\": [{\"categories\": [\"0\", \"1\", \"2\", \"3\", \"4\", \"5\", \"6\", \"7\", \"8\", \"9\", \"10\", \"11\", \"12\", \"13\", \"14\", \"15\", \"16\", \"17\", \"18\", \"19\", \"20\", \"21\", \"22\", \"23\", \"24\", \"25\", \"26\", \"27\", \"28\", \"29\", \"30\", \"31\", \"32\", \"33\", \"35\", \"36\", \"38\", \"39\"], \"mode\": \"markers\", \"name\": \"accuracy\", \"stepped\": false, \"type\": \"scatter\", \"data\": [0.9001622060016222, 0.9051905920519059, 0.8644768856447689, 0.8452554744525548, 0.8236009732360098, 0.8589618815896188, 0.9022708840227089, 0.8980535279805353, 0.9016220600162206, 0.8452554744525548, 0.9021086780210869, 0.88110300081103, 0.8874290348742905, 0.8813463098134631, 0.8852392538523924, 0.8800486618004867, 0.8841849148418491, 0.8841038118410381, 0.8841038118410381, 0.8841038118410381, 0.8598540145985402, 0.9049472830494728, 0.9024330900243309, 0.8997566909975668, 0.8625304136253042, 0.8452554744525548, 0.9036496350364963, 0.8655312246553123, 0.9021086780210869, 0.8991078669910787, 0.8969180859691809, 0.9033252230332524, 0.8452554744525548, 0.8969991889699919, 0.8991889699918897, 0.8491484184914843, 0.9069748580697485, 0.905190592051906]}, {\"categories\": [\"0\", \"1\", \"2\", \"3\", \"4\", \"5\", \"6\", \"7\", \"8\", \"9\", \"10\", \"11\", \"12\", \"13\", \"14\", \"15\", \"16\", \"17\", \"18\", \"19\", \"20\", \"21\", \"22\", \"23\", \"24\", \"25\", \"26\", \"27\", \"28\", \"29\", \"30\", \"31\", \"32\", \"33\", \"35\", \"36\", \"38\", \"39\"], \"mode\": \"lines\", \"name\": \"accuracy_max\", \"stepped\": true, \"type\": \"scatter\", \"data\": [0.9001622060016222, 0.9051905920519059, 0.9051905920519059, 0.9051905920519059, 0.9051905920519059, 0.9051905920519059, 0.9051905920519059, 0.9051905920519059, 0.9051905920519059, 0.9051905920519059, 0.9051905920519059, 0.9051905920519059, 0.9051905920519059, 0.9051905920519059, 0.9051905920519059, 0.9051905920519059, 0.9051905920519059, 0.9051905920519059, 0.9051905920519059, 0.9051905920519059, 0.9051905920519059, 0.9051905920519059, 0.9051905920519059, 0.9051905920519059, 0.9051905920519059, 0.9051905920519059, 0.9051905920519059, 0.9051905920519059, 0.9051905920519059, 0.9051905920519059, 0.9051905920519059, 0.9051905920519059, 0.9051905920519059, 0.9051905920519059, 0.9051905920519059, 0.9051905920519059, 0.9069748580697485, 0.9069748580697485]}], \"f1_score_weighted\": [{\"categories\": [\"0\", \"1\", \"2\", \"3\", \"4\", \"5\", \"6\", \"7\", \"8\", \"9\", \"10\", \"11\", \"12\", \"13\", \"14\", \"15\", \"16\", \"17\", \"18\", \"19\", \"20\", \"21\", \"22\", \"23\", \"24\", \"25\", \"26\", \"27\", \"28\", \"29\", \"30\", \"31\", \"32\", \"33\", \"35\", \"36\", \"38\", \"39\"], \"mode\": \"markers\", \"name\": \"f1_score_weighted\", \"stepped\": false, \"type\": \"scatter\", \"data\": [0.896525296771615, 0.9012184656233285, 0.82151678269128, 0.7743823073621229, 0.8420367026260869, 0.8695113643633796, 0.8977321179327243, 0.8932900020871907, 0.8973170234453588, 0.7743823073621229, 0.8984605326950638, 0.8558309284780851, 0.8698979827458974, 0.8864300813801016, 0.8611362818899325, 0.8592603615485147, 0.8859050698056995, 0.8679287500717868, 0.8679287500717868, 0.8679287500717868, 0.813364161863646, 0.9002238440676774, 0.8978398819403103, 0.8958052883957525, 0.8161634417270238, 0.7743823073621229, 0.9004387135824382, 0.8231329747238832, 0.8986090028283288, 0.8954539797677946, 0.8929658187906216, 0.9002808282599662, 0.7743823073621229, 0.892697500082889, 0.8926367488368053, 0.8606588973371817, 0.9034140365855139, 0.900780617955891]}, {\"categories\": [\"0\", \"1\", \"2\", \"3\", \"4\", \"5\", \"6\", \"7\", \"8\", \"9\", \"10\", \"11\", \"12\", \"13\", \"14\", \"15\", \"16\", \"17\", \"18\", \"19\", \"20\", \"21\", \"22\", \"23\", \"24\", \"25\", \"26\", \"27\", \"28\", \"29\", \"30\", \"31\", \"32\", \"33\", \"35\", \"36\", \"38\", \"39\"], \"mode\": \"lines\", \"name\": \"f1_score_weighted_max\", \"stepped\": true, \"type\": \"scatter\", \"data\": [0.896525296771615, 0.9012184656233285, 0.9012184656233285, 0.9012184656233285, 0.9012184656233285, 0.9012184656233285, 0.9012184656233285, 0.9012184656233285, 0.9012184656233285, 0.9012184656233285, 0.9012184656233285, 0.9012184656233285, 0.9012184656233285, 0.9012184656233285, 0.9012184656233285, 0.9012184656233285, 0.9012184656233285, 0.9012184656233285, 0.9012184656233285, 0.9012184656233285, 0.9012184656233285, 0.9012184656233285, 0.9012184656233285, 0.9012184656233285, 0.9012184656233285, 0.9012184656233285, 0.9012184656233285, 0.9012184656233285, 0.9012184656233285, 0.9012184656233285, 0.9012184656233285, 0.9012184656233285, 0.9012184656233285, 0.9012184656233285, 0.9012184656233285, 0.9012184656233285, 0.9034140365855139, 0.9034140365855139]}], \"recall_score_weighted\": [{\"categories\": [\"0\", \"1\", \"2\", \"3\", \"4\", \"5\", \"6\", \"7\", \"8\", \"9\", \"10\", \"11\", \"12\", \"13\", \"14\", \"15\", \"16\", \"17\", \"18\", \"19\", \"20\", \"21\", \"22\", \"23\", \"24\", \"25\", \"26\", \"27\", \"28\", \"29\", \"30\", \"31\", \"32\", \"33\", \"35\", \"36\", \"38\", \"39\"], \"mode\": \"markers\", \"name\": \"recall_score_weighted\", \"stepped\": false, \"type\": \"scatter\", \"data\": [0.9001622060016222, 0.9051905920519059, 0.8644768856447689, 0.8452554744525548, 0.8236009732360098, 0.8589618815896188, 0.9022708840227089, 0.8980535279805353, 0.9016220600162206, 0.8452554744525548, 0.9021086780210869, 0.88110300081103, 0.8874290348742905, 0.8813463098134631, 0.8852392538523924, 0.8800486618004867, 0.8841849148418491, 0.8841038118410381, 0.8841038118410381, 0.8841038118410381, 0.8598540145985402, 0.9049472830494728, 0.9024330900243309, 0.8997566909975668, 0.8625304136253042, 0.8452554744525548, 0.9036496350364963, 0.8655312246553123, 0.9021086780210869, 0.8991078669910787, 0.8969180859691809, 0.9033252230332524, 0.8452554744525548, 0.8969991889699919, 0.8991889699918897, 0.8491484184914843, 0.9069748580697485, 0.905190592051906]}, {\"categories\": [\"0\", \"1\", \"2\", \"3\", \"4\", \"5\", \"6\", \"7\", \"8\", \"9\", \"10\", \"11\", \"12\", \"13\", \"14\", \"15\", \"16\", \"17\", \"18\", \"19\", \"20\", \"21\", \"22\", \"23\", \"24\", \"25\", \"26\", \"27\", \"28\", \"29\", \"30\", \"31\", \"32\", \"33\", \"35\", \"36\", \"38\", \"39\"], \"mode\": \"lines\", \"name\": \"recall_score_weighted_max\", \"stepped\": true, \"type\": \"scatter\", \"data\": [0.9001622060016222, 0.9051905920519059, 0.9051905920519059, 0.9051905920519059, 0.9051905920519059, 0.9051905920519059, 0.9051905920519059, 0.9051905920519059, 0.9051905920519059, 0.9051905920519059, 0.9051905920519059, 0.9051905920519059, 0.9051905920519059, 0.9051905920519059, 0.9051905920519059, 0.9051905920519059, 0.9051905920519059, 0.9051905920519059, 0.9051905920519059, 0.9051905920519059, 0.9051905920519059, 0.9051905920519059, 0.9051905920519059, 0.9051905920519059, 0.9051905920519059, 0.9051905920519059, 0.9051905920519059, 0.9051905920519059, 0.9051905920519059, 0.9051905920519059, 0.9051905920519059, 0.9051905920519059, 0.9051905920519059, 0.9051905920519059, 0.9051905920519059, 0.9051905920519059, 0.9069748580697485, 0.9069748580697485]}], \"AUC_micro\": [{\"categories\": [\"0\", \"1\", \"2\", \"3\", \"4\", \"5\", \"6\", \"7\", \"8\", \"9\", \"10\", \"11\", \"12\", \"13\", \"14\", \"15\", \"16\", \"17\", \"18\", \"19\", \"20\", \"21\", \"22\", \"23\", \"24\", \"25\", \"26\", \"27\", \"28\", \"29\", \"30\", \"31\", \"32\", \"33\", \"35\", \"36\", \"38\", \"39\"], \"mode\": \"markers\", \"name\": \"AUC_micro\", \"stepped\": false, \"type\": \"scatter\", \"data\": [0.9680599215017671, 0.9695271162259279, 0.954881769189937, 0.9427257317523181, 0.8864812742840341, 0.8824323204338121, 0.968805042988537, 0.9671256682117676, 0.9686795306681821, 0.9492495703119603, 0.9660254596330041, 0.9597601048221754, 0.9586091131357262, 0.9597408255930286, 0.9582443469629788, 0.9488585985953986, 0.9596182041703912, 0.9494053235930799, 0.949560662479305, 0.9494060734505085, 0.9432264194505123, 0.968198783257657, 0.9683274824720826, 0.9663870093120454, 0.9548728498331567, 0.8452554744525548, 0.968847232335431, 0.957069793966805, 0.9670470614468697, 0.9656385331999378, 0.9643127753999404, 0.9674141166580829, 0.9540117767082443, 0.9664065450713647, 0.9648483610681916, 0.9049709232915584, 0.9698179030434346, 0.9697049113688253]}, {\"categories\": [\"0\", \"1\", \"2\", \"3\", \"4\", \"5\", \"6\", \"7\", \"8\", \"9\", \"10\", \"11\", \"12\", \"13\", \"14\", \"15\", \"16\", \"17\", \"18\", \"19\", \"20\", \"21\", \"22\", \"23\", \"24\", \"25\", \"26\", \"27\", \"28\", \"29\", \"30\", \"31\", \"32\", \"33\", \"35\", \"36\", \"38\", \"39\"], \"mode\": \"lines\", \"name\": \"AUC_micro_max\", \"stepped\": true, \"type\": \"scatter\", \"data\": [0.9680599215017671, 0.9695271162259279, 0.9695271162259279, 0.9695271162259279, 0.9695271162259279, 0.9695271162259279, 0.9695271162259279, 0.9695271162259279, 0.9695271162259279, 0.9695271162259279, 0.9695271162259279, 0.9695271162259279, 0.9695271162259279, 0.9695271162259279, 0.9695271162259279, 0.9695271162259279, 0.9695271162259279, 0.9695271162259279, 0.9695271162259279, 0.9695271162259279, 0.9695271162259279, 0.9695271162259279, 0.9695271162259279, 0.9695271162259279, 0.9695271162259279, 0.9695271162259279, 0.9695271162259279, 0.9695271162259279, 0.9695271162259279, 0.9695271162259279, 0.9695271162259279, 0.9695271162259279, 0.9695271162259279, 0.9695271162259279, 0.9695271162259279, 0.9695271162259279, 0.9698179030434346, 0.9698179030434346]}], \"precision_score_macro\": [{\"categories\": [\"0\", \"1\", \"2\", \"3\", \"4\", \"5\", \"6\", \"7\", \"8\", \"9\", \"10\", \"11\", \"12\", \"13\", \"14\", \"15\", \"16\", \"17\", \"18\", \"19\", \"20\", \"21\", \"22\", \"23\", \"24\", \"25\", \"26\", \"27\", \"28\", \"29\", \"30\", \"31\", \"32\", \"33\", \"35\", \"36\", \"38\", \"39\"], \"mode\": \"markers\", \"name\": \"precision_score_macro\", \"stepped\": false, \"type\": \"scatter\", \"data\": [0.8198792276521926, 0.833135280130417, 0.7041481477346986, 0.4226277372262774, 0.7134751562736033, 0.7438697217050466, 0.8282528806084164, 0.8188464190624268, 0.8256883936289263, 0.4226277372262774, 0.8248203510811553, 0.8425616381646966, 0.8413337866563363, 0.7718782308991717, 0.8737558635004851, 0.8247022720483032, 0.7771632115595432, 0.8205166497145228, 0.8205166497145228, 0.8205166497145228, 0.6857908506405099, 0.8359986121259437, 0.8294136947804884, 0.8201103683335358, 0.8671411064667861, 0.4226277372262774, 0.8263760685167375, 0.8694981985351835, 0.8240909931434129, 0.817422966504199, 0.8132888537469736, 0.8249674078472896, 0.4226277372262774, 0.8146821945864798, 0.831758029364943, 0.7304003619919744, 0.8359940420836374, 0.8350129128437587]}, {\"categories\": [\"0\", \"1\", \"2\", \"3\", \"4\", \"5\", \"6\", \"7\", \"8\", \"9\", \"10\", \"11\", \"12\", \"13\", \"14\", \"15\", \"16\", \"17\", \"18\", \"19\", \"20\", \"21\", \"22\", \"23\", \"24\", \"25\", \"26\", \"27\", \"28\", \"29\", \"30\", \"31\", \"32\", \"33\", \"35\", \"36\", \"38\", \"39\"], \"mode\": \"lines\", \"name\": \"precision_score_macro_max\", \"stepped\": true, \"type\": \"scatter\", \"data\": [0.8198792276521926, 0.833135280130417, 0.833135280130417, 0.833135280130417, 0.833135280130417, 0.833135280130417, 0.833135280130417, 0.833135280130417, 0.833135280130417, 0.833135280130417, 0.833135280130417, 0.8425616381646966, 0.8425616381646966, 0.8425616381646966, 0.8737558635004851, 0.8737558635004851, 0.8737558635004851, 0.8737558635004851, 0.8737558635004851, 0.8737558635004851, 0.8737558635004851, 0.8737558635004851, 0.8737558635004851, 0.8737558635004851, 0.8737558635004851, 0.8737558635004851, 0.8737558635004851, 0.8737558635004851, 0.8737558635004851, 0.8737558635004851, 0.8737558635004851, 0.8737558635004851, 0.8737558635004851, 0.8737558635004851, 0.8737558635004851, 0.8737558635004851, 0.8737558635004851, 0.8737558635004851]}], \"average_precision_score_weighted\": [{\"categories\": [\"0\", \"1\", \"2\", \"3\", \"4\", \"5\", \"6\", \"7\", \"8\", \"9\", \"10\", \"11\", \"12\", \"13\", \"14\", \"15\", \"16\", \"17\", \"18\", \"19\", \"20\", \"21\", \"22\", \"23\", \"24\", \"25\", \"26\", \"27\", \"28\", \"29\", \"30\", \"31\", \"32\", \"33\", \"35\", \"36\", \"38\", \"39\"], \"mode\": \"markers\", \"name\": \"average_precision_score_weighted\", \"stepped\": false, \"type\": \"scatter\", \"data\": [0.9474804923046368, 0.9497749635045584, 0.9296523170202088, 0.9062453910839742, 0.9214550114391669, 0.9048328505402186, 0.9485605933217115, 0.9461605848980033, 0.9484142557453504, 0.9195169976464167, 0.9438989604863659, 0.9385571617087876, 0.9319178555946919, 0.9165987889887353, 0.940662654917443, 0.9203075261836088, 0.9188196567844663, 0.9230077511251374, 0.9232879140349673, 0.9230086763216322, 0.9099776678095055, 0.9484918097988383, 0.9484696005833317, 0.9444627535340967, 0.9373368100526384, 0.7384693041915057, 0.9486171451346389, 0.9424900817906708, 0.9449622545064903, 0.9433906827003254, 0.9413462784391956, 0.9459367541383364, 0.9405936832189745, 0.9451473927498252, 0.9432699575461507, 0.9274491989988792, 0.9506566653585944, 0.9508940322014641]}, {\"categories\": [\"0\", \"1\", \"2\", \"3\", \"4\", \"5\", \"6\", \"7\", \"8\", \"9\", \"10\", \"11\", \"12\", \"13\", \"14\", \"15\", \"16\", \"17\", \"18\", \"19\", \"20\", \"21\", \"22\", \"23\", \"24\", \"25\", \"26\", \"27\", \"28\", \"29\", \"30\", \"31\", \"32\", \"33\", \"35\", \"36\", \"38\", \"39\"], \"mode\": \"lines\", \"name\": \"average_precision_score_weighted_max\", \"stepped\": true, \"type\": \"scatter\", \"data\": [0.9474804923046368, 0.9497749635045584, 0.9497749635045584, 0.9497749635045584, 0.9497749635045584, 0.9497749635045584, 0.9497749635045584, 0.9497749635045584, 0.9497749635045584, 0.9497749635045584, 0.9497749635045584, 0.9497749635045584, 0.9497749635045584, 0.9497749635045584, 0.9497749635045584, 0.9497749635045584, 0.9497749635045584, 0.9497749635045584, 0.9497749635045584, 0.9497749635045584, 0.9497749635045584, 0.9497749635045584, 0.9497749635045584, 0.9497749635045584, 0.9497749635045584, 0.9497749635045584, 0.9497749635045584, 0.9497749635045584, 0.9497749635045584, 0.9497749635045584, 0.9497749635045584, 0.9497749635045584, 0.9497749635045584, 0.9497749635045584, 0.9497749635045584, 0.9497749635045584, 0.9506566653585944, 0.9508940322014641]}], \"precision_score_weighted\": [{\"categories\": [\"0\", \"1\", \"2\", \"3\", \"4\", \"5\", \"6\", \"7\", \"8\", \"9\", \"10\", \"11\", \"12\", \"13\", \"14\", \"15\", \"16\", \"17\", \"18\", \"19\", \"20\", \"21\", \"22\", \"23\", \"24\", \"25\", \"26\", \"27\", \"28\", \"29\", \"30\", \"31\", \"32\", \"33\", \"35\", \"36\", \"38\", \"39\"], \"mode\": \"markers\", \"name\": \"precision_score_weighted\", \"stepped\": false, \"type\": \"scatter\", \"data\": [0.8947856717432913, 0.8997486911160756, 0.8152082877070409, 0.7144901265483075, 0.8870895664443772, 0.8915166584534702, 0.8961848627930257, 0.8915132703742481, 0.8956903183567791, 0.7144901265483075, 0.896850058753445, 0.8737157551242684, 0.8792316211707849, 0.8947786852624381, 0.8827519913314429, 0.8688423047565833, 0.8880851716487411, 0.8727217692252448, 0.8727217692252448, 0.8727217692252448, 0.8063945719613277, 0.8989656624623962, 0.8963428106205912, 0.8940306542489078, 0.8638229267928539, 0.7144901265483075, 0.898850591913844, 0.8666455573640288, 0.8969372241103578, 0.8936430660783019, 0.8910766154990325, 0.8986877722534284, 0.7144901265483075, 0.8908064736477762, 0.8923994198829681, 0.8837275895981013, 0.9020007774464274, 0.8994403007518176]}, {\"categories\": [\"0\", \"1\", \"2\", \"3\", \"4\", \"5\", \"6\", \"7\", \"8\", \"9\", \"10\", \"11\", \"12\", \"13\", \"14\", \"15\", \"16\", \"17\", \"18\", \"19\", \"20\", \"21\", \"22\", \"23\", \"24\", \"25\", \"26\", \"27\", \"28\", \"29\", \"30\", \"31\", \"32\", \"33\", \"35\", \"36\", \"38\", \"39\"], \"mode\": \"lines\", \"name\": \"precision_score_weighted_max\", \"stepped\": true, \"type\": \"scatter\", \"data\": [0.8947856717432913, 0.8997486911160756, 0.8997486911160756, 0.8997486911160756, 0.8997486911160756, 0.8997486911160756, 0.8997486911160756, 0.8997486911160756, 0.8997486911160756, 0.8997486911160756, 0.8997486911160756, 0.8997486911160756, 0.8997486911160756, 0.8997486911160756, 0.8997486911160756, 0.8997486911160756, 0.8997486911160756, 0.8997486911160756, 0.8997486911160756, 0.8997486911160756, 0.8997486911160756, 0.8997486911160756, 0.8997486911160756, 0.8997486911160756, 0.8997486911160756, 0.8997486911160756, 0.8997486911160756, 0.8997486911160756, 0.8997486911160756, 0.8997486911160756, 0.8997486911160756, 0.8997486911160756, 0.8997486911160756, 0.8997486911160756, 0.8997486911160756, 0.8997486911160756, 0.9020007774464274, 0.9020007774464274]}], \"weighted_accuracy\": [{\"categories\": [\"0\", \"1\", \"2\", \"3\", \"4\", \"5\", \"6\", \"7\", \"8\", \"9\", \"10\", \"11\", \"12\", \"13\", \"14\", \"15\", \"16\", \"17\", \"18\", \"19\", \"20\", \"21\", \"22\", \"23\", \"24\", \"25\", \"26\", \"27\", \"28\", \"29\", \"30\", \"31\", \"32\", \"33\", \"35\", \"36\", \"38\", \"39\"], \"mode\": \"markers\", \"name\": \"weighted_accuracy\", \"stepped\": false, \"type\": \"scatter\", \"data\": [0.9438921597272083, 0.9488002101585732, 0.9645886860459655, 0.9674987125732741, 0.821633703379535, 0.8689429057671324, 0.9480230232075798, 0.9453315177477152, 0.9468240845343076, 0.9674987125732741, 0.9454216436310366, 0.9630922372495947, 0.9609489944922603, 0.9019959678490462, 0.9686476132374046, 0.959704696405475, 0.9159167978535572, 0.9566928339078103, 0.9566928339078103, 0.9566928339078103, 0.9642968563798991, 0.9508009208018394, 0.9484474427965619, 0.9444849685081315, 0.9683318116631771, 0.9674987125732741, 0.9452920838031722, 0.9685099985216722, 0.9450629246160425, 0.9430421725207276, 0.9423296665972342, 0.9445471110842564, 0.9674987125732741, 0.9433140306393305, 0.950919248711951, 0.8614018552744129, 0.9490188297230956, 0.9500037566491324]}, {\"categories\": [\"0\", \"1\", \"2\", \"3\", \"4\", \"5\", \"6\", \"7\", \"8\", \"9\", \"10\", \"11\", \"12\", \"13\", \"14\", \"15\", \"16\", \"17\", \"18\", \"19\", \"20\", \"21\", \"22\", \"23\", \"24\", \"25\", \"26\", \"27\", \"28\", \"29\", \"30\", \"31\", \"32\", \"33\", \"35\", \"36\", \"38\", \"39\"], \"mode\": \"lines\", \"name\": \"weighted_accuracy_max\", \"stepped\": true, \"type\": \"scatter\", \"data\": [0.9438921597272083, 0.9488002101585732, 0.9645886860459655, 0.9674987125732741, 0.9674987125732741, 0.9674987125732741, 0.9674987125732741, 0.9674987125732741, 0.9674987125732741, 0.9674987125732741, 0.9674987125732741, 0.9674987125732741, 0.9674987125732741, 0.9674987125732741, 0.9686476132374046, 0.9686476132374046, 0.9686476132374046, 0.9686476132374046, 0.9686476132374046, 0.9686476132374046, 0.9686476132374046, 0.9686476132374046, 0.9686476132374046, 0.9686476132374046, 0.9686476132374046, 0.9686476132374046, 0.9686476132374046, 0.9686476132374046, 0.9686476132374046, 0.9686476132374046, 0.9686476132374046, 0.9686476132374046, 0.9686476132374046, 0.9686476132374046, 0.9686476132374046, 0.9686476132374046, 0.9686476132374046, 0.9686476132374046]}], \"log_loss\": [{\"categories\": [\"0\", \"1\", \"2\", \"3\", \"4\", \"5\", \"6\", \"7\", \"8\", \"9\", \"10\", \"11\", \"12\", \"13\", \"14\", \"15\", \"16\", \"17\", \"18\", \"19\", \"20\", \"21\", \"22\", \"23\", \"24\", \"25\", \"26\", \"27\", \"28\", \"29\", \"30\", \"31\", \"32\", \"33\", \"35\", \"36\", \"38\", \"39\"], \"mode\": \"markers\", \"name\": \"log_loss\", \"stepped\": false, \"type\": \"scatter\", \"data\": [0.23210554876318376, 0.2255707563493307, 0.2846487817505384, 0.3340234212283432, 0.47137722074099814, 0.47913268687006666, 0.22763136880229715, 0.24873698608252984, 0.22910630409465801, 0.3274031662421169, 0.24029753954954658, 0.26548251145124285, 0.3735173928350288, 0.25604548130082466, 0.2761796394058677, 0.29571238945844025, 0.25896058242608977, 0.2945241330359929, 0.2941033407710061, 0.2945198458413412, 0.31388186124607126, 0.23359399990509613, 0.24679264176115448, 0.2450401987277354, 0.2851037492666721, 0.43102558999337326, 0.2274731293625679, 0.2844753078167781, 0.2340508253299403, 0.24903173513811772, 0.268789724679367, 0.23340052878874282, 0.3287082932671849, 0.2524047895414469, 0.3532710353780768, 0.44210158103649877, 0.23322515295495236, 0.24048539035666217]}, {\"categories\": [\"0\", \"1\", \"2\", \"3\", \"4\", \"5\", \"6\", \"7\", \"8\", \"9\", \"10\", \"11\", \"12\", \"13\", \"14\", \"15\", \"16\", \"17\", \"18\", \"19\", \"20\", \"21\", \"22\", \"23\", \"24\", \"25\", \"26\", \"27\", \"28\", \"29\", \"30\", \"31\", \"32\", \"33\", \"35\", \"36\", \"38\", \"39\"], \"mode\": \"lines\", \"name\": \"log_loss_min\", \"stepped\": true, \"type\": \"scatter\", \"data\": [0.23210554876318376, 0.2255707563493307, 0.2255707563493307, 0.2255707563493307, 0.2255707563493307, 0.2255707563493307, 0.2255707563493307, 0.2255707563493307, 0.2255707563493307, 0.2255707563493307, 0.2255707563493307, 0.2255707563493307, 0.2255707563493307, 0.2255707563493307, 0.2255707563493307, 0.2255707563493307, 0.2255707563493307, 0.2255707563493307, 0.2255707563493307, 0.2255707563493307, 0.2255707563493307, 0.2255707563493307, 0.2255707563493307, 0.2255707563493307, 0.2255707563493307, 0.2255707563493307, 0.2255707563493307, 0.2255707563493307, 0.2255707563493307, 0.2255707563493307, 0.2255707563493307, 0.2255707563493307, 0.2255707563493307, 0.2255707563493307, 0.2255707563493307, 0.2255707563493307, 0.2255707563493307, 0.2255707563493307]}], \"AUC_weighted\": [{\"categories\": [\"0\", \"1\", \"2\", \"3\", \"4\", \"5\", \"6\", \"7\", \"8\", \"9\", \"10\", \"11\", \"12\", \"13\", \"14\", \"15\", \"16\", \"17\", \"18\", \"19\", \"20\", \"21\", \"22\", \"23\", \"24\", \"25\", \"26\", \"27\", \"28\", \"29\", \"30\", \"31\", \"32\", \"33\", \"35\", \"36\", \"38\", \"39\"], \"mode\": \"markers\", \"name\": \"AUC_weighted\", \"stepped\": false, \"type\": \"scatter\", \"data\": [0.9302080032593238, 0.9335745716329092, 0.9108471795736932, 0.8727892879793782, 0.8952236668979392, 0.8813288785287622, 0.9319552555007157, 0.9273703065696335, 0.9315397501196868, 0.8978436106227493, 0.9242013991896222, 0.9199651370535936, 0.9076894868869525, 0.9110081673708534, 0.9163586600625439, 0.884465049181714, 0.9099115123277798, 0.8907713826678441, 0.8911106815445424, 0.8907701847434368, 0.8707243326603589, 0.9311442945747382, 0.9298949939548055, 0.9259431159179291, 0.9157733113050468, 0.5, 0.9319408032380722, 0.9235702838188619, 0.9266716011663894, 0.9243090546606519, 0.9207820980102177, 0.9272436527746047, 0.9160936205333247, 0.9263363733988211, 0.9211412561240914, 0.9014571666764283, 0.9343659993146863, 0.9346190376677797]}, {\"categories\": [\"0\", \"1\", \"2\", \"3\", \"4\", \"5\", \"6\", \"7\", \"8\", \"9\", \"10\", \"11\", \"12\", \"13\", \"14\", \"15\", \"16\", \"17\", \"18\", \"19\", \"20\", \"21\", \"22\", \"23\", \"24\", \"25\", \"26\", \"27\", \"28\", \"29\", \"30\", \"31\", \"32\", \"33\", \"35\", \"36\", \"38\", \"39\"], \"mode\": \"lines\", \"name\": \"AUC_weighted_max\", \"stepped\": true, \"type\": \"scatter\", \"data\": [0.9302080032593238, 0.9335745716329092, 0.9335745716329092, 0.9335745716329092, 0.9335745716329092, 0.9335745716329092, 0.9335745716329092, 0.9335745716329092, 0.9335745716329092, 0.9335745716329092, 0.9335745716329092, 0.9335745716329092, 0.9335745716329092, 0.9335745716329092, 0.9335745716329092, 0.9335745716329092, 0.9335745716329092, 0.9335745716329092, 0.9335745716329092, 0.9335745716329092, 0.9335745716329092, 0.9335745716329092, 0.9335745716329092, 0.9335745716329092, 0.9335745716329092, 0.9335745716329092, 0.9335745716329092, 0.9335745716329092, 0.9335745716329092, 0.9335745716329092, 0.9335745716329092, 0.9335745716329092, 0.9335745716329092, 0.9335745716329092, 0.9335745716329092, 0.9335745716329092, 0.9343659993146863, 0.9346190376677797]}], \"AUC_macro\": [{\"categories\": [\"0\", \"1\", \"2\", \"3\", \"4\", \"5\", \"6\", \"7\", \"8\", \"9\", \"10\", \"11\", \"12\", \"13\", \"14\", \"15\", \"16\", \"17\", \"18\", \"19\", \"20\", \"21\", \"22\", \"23\", \"24\", \"25\", \"26\", \"27\", \"28\", \"29\", \"30\", \"31\", \"32\", \"33\", \"35\", \"36\", \"38\", \"39\"], \"mode\": \"markers\", \"name\": \"AUC_macro\", \"stepped\": false, \"type\": \"scatter\", \"data\": [0.9302080032593238, 0.9335745193091164, 0.9108471795736932, 0.8727892879793782, 0.8952236668979392, 0.8813288785287621, 0.9319552555007157, 0.9273703065696335, 0.9315397747716044, 0.8978436106227492, 0.9242013991896222, 0.9199651370535934, 0.9076894868869526, 0.9110081673708535, 0.916358660062544, 0.884465049181714, 0.9099115123277798, 0.8907713826678441, 0.8911106815445423, 0.8907701847434367, 0.8707243326603589, 0.9311442945747382, 0.9298949939548056, 0.9259431159179291, 0.9157733113050468, 0.5, 0.9319408032380722, 0.9235702838188619, 0.9266716011663894, 0.9243090546606519, 0.9207821732544357, 0.9272436527746047, 0.9160936205333247, 0.9263363733988209, 0.9211412561240916, 0.9014571666764283, 0.9343659993146863, 0.9346190376677797]}, {\"categories\": [\"0\", \"1\", \"2\", \"3\", \"4\", \"5\", \"6\", \"7\", \"8\", \"9\", \"10\", \"11\", \"12\", \"13\", \"14\", \"15\", \"16\", \"17\", \"18\", \"19\", \"20\", \"21\", \"22\", \"23\", \"24\", \"25\", \"26\", \"27\", \"28\", \"29\", \"30\", \"31\", \"32\", \"33\", \"35\", \"36\", \"38\", \"39\"], \"mode\": \"lines\", \"name\": \"AUC_macro_max\", \"stepped\": true, \"type\": \"scatter\", \"data\": [0.9302080032593238, 0.9335745193091164, 0.9335745193091164, 0.9335745193091164, 0.9335745193091164, 0.9335745193091164, 0.9335745193091164, 0.9335745193091164, 0.9335745193091164, 0.9335745193091164, 0.9335745193091164, 0.9335745193091164, 0.9335745193091164, 0.9335745193091164, 0.9335745193091164, 0.9335745193091164, 0.9335745193091164, 0.9335745193091164, 0.9335745193091164, 0.9335745193091164, 0.9335745193091164, 0.9335745193091164, 0.9335745193091164, 0.9335745193091164, 0.9335745193091164, 0.9335745193091164, 0.9335745193091164, 0.9335745193091164, 0.9335745193091164, 0.9335745193091164, 0.9335745193091164, 0.9335745193091164, 0.9335745193091164, 0.9335745193091164, 0.9335745193091164, 0.9335745193091164, 0.9343659993146863, 0.9346190376677797]}], \"matthews_correlation\": [{\"categories\": [\"0\", \"1\", \"2\", \"3\", \"4\", \"5\", \"6\", \"7\", \"8\", \"9\", \"10\", \"11\", \"12\", \"13\", \"14\", \"15\", \"16\", \"17\", \"18\", \"19\", \"20\", \"21\", \"22\", \"23\", \"24\", \"25\", \"26\", \"27\", \"28\", \"29\", \"30\", \"31\", \"32\", \"33\", \"35\", \"36\", \"38\", \"39\"], \"mode\": \"markers\", \"name\": \"matthews_correlation\", \"stepped\": false, \"type\": \"scatter\", \"data\": [0.5952280497602397, 0.6134057692822686, 0.2739417678179344, 0.0, 0.530163550450166, 0.5676886391774096, 0.599213249054629, 0.5811876244897592, 0.5978634883946253, 0.0, 0.6031823944317396, 0.4458870213887646, 0.4918345817825201, 0.5925607788966725, 0.4731382438719696, 0.44863863805867954, 0.5716655425763323, 0.4792489899531675, 0.4792489899531675, 0.4792489899531675, 0.2373347541967994, 0.6087356690351213, 0.5994931277720409, 0.5919803438817955, 0.30031292773151086, 0.0, 0.611442495102101, 0.3316971256372038, 0.603517785521359, 0.5913402080790986, 0.5803191535757384, 0.6110095310946662, 0.0, 0.5790366653983129, 0.5784308984758851, 0.5385337520818788, 0.6226992221382309, 0.6114380379090282]}, {\"categories\": [\"0\", \"1\", \"2\", \"3\", \"4\", \"5\", \"6\", \"7\", \"8\", \"9\", \"10\", \"11\", \"12\", \"13\", \"14\", \"15\", \"16\", \"17\", \"18\", \"19\", \"20\", \"21\", \"22\", \"23\", \"24\", \"25\", \"26\", \"27\", \"28\", \"29\", \"30\", \"31\", \"32\", \"33\", \"35\", \"36\", \"38\", \"39\"], \"mode\": \"lines\", \"name\": \"matthews_correlation_max\", \"stepped\": true, \"type\": \"scatter\", \"data\": [0.5952280497602397, 0.6134057692822686, 0.6134057692822686, 0.6134057692822686, 0.6134057692822686, 0.6134057692822686, 0.6134057692822686, 0.6134057692822686, 0.6134057692822686, 0.6134057692822686, 0.6134057692822686, 0.6134057692822686, 0.6134057692822686, 0.6134057692822686, 0.6134057692822686, 0.6134057692822686, 0.6134057692822686, 0.6134057692822686, 0.6134057692822686, 0.6134057692822686, 0.6134057692822686, 0.6134057692822686, 0.6134057692822686, 0.6134057692822686, 0.6134057692822686, 0.6134057692822686, 0.6134057692822686, 0.6134057692822686, 0.6134057692822686, 0.6134057692822686, 0.6134057692822686, 0.6134057692822686, 0.6134057692822686, 0.6134057692822686, 0.6134057692822686, 0.6134057692822686, 0.6226992221382309, 0.6226992221382309]}], \"recall_score_micro\": [{\"categories\": [\"0\", \"1\", \"2\", \"3\", \"4\", \"5\", \"6\", \"7\", \"8\", \"9\", \"10\", \"11\", \"12\", \"13\", \"14\", \"15\", \"16\", \"17\", \"18\", \"19\", \"20\", \"21\", \"22\", \"23\", \"24\", \"25\", \"26\", \"27\", \"28\", \"29\", \"30\", \"31\", \"32\", \"33\", \"35\", \"36\", \"38\", \"39\"], \"mode\": \"markers\", \"name\": \"recall_score_micro\", \"stepped\": false, \"type\": \"scatter\", \"data\": [0.9001622060016222, 0.9051905920519059, 0.8644768856447689, 0.8452554744525548, 0.8236009732360098, 0.8589618815896188, 0.9022708840227089, 0.8980535279805353, 0.9016220600162206, 0.8452554744525548, 0.9021086780210869, 0.88110300081103, 0.8874290348742905, 0.8813463098134631, 0.8852392538523924, 0.8800486618004867, 0.8841849148418491, 0.8841038118410381, 0.8841038118410381, 0.8841038118410381, 0.8598540145985402, 0.9049472830494728, 0.9024330900243309, 0.8997566909975668, 0.8625304136253042, 0.8452554744525548, 0.9036496350364963, 0.8655312246553123, 0.9021086780210869, 0.8991078669910787, 0.8969180859691809, 0.9033252230332524, 0.8452554744525548, 0.8969991889699919, 0.8991889699918897, 0.8491484184914843, 0.9069748580697485, 0.905190592051906]}, {\"categories\": [\"0\", \"1\", \"2\", \"3\", \"4\", \"5\", \"6\", \"7\", \"8\", \"9\", \"10\", \"11\", \"12\", \"13\", \"14\", \"15\", \"16\", \"17\", \"18\", \"19\", \"20\", \"21\", \"22\", \"23\", \"24\", \"25\", \"26\", \"27\", \"28\", \"29\", \"30\", \"31\", \"32\", \"33\", \"35\", \"36\", \"38\", \"39\"], \"mode\": \"lines\", \"name\": \"recall_score_micro_max\", \"stepped\": true, \"type\": \"scatter\", \"data\": [0.9001622060016222, 0.9051905920519059, 0.9051905920519059, 0.9051905920519059, 0.9051905920519059, 0.9051905920519059, 0.9051905920519059, 0.9051905920519059, 0.9051905920519059, 0.9051905920519059, 0.9051905920519059, 0.9051905920519059, 0.9051905920519059, 0.9051905920519059, 0.9051905920519059, 0.9051905920519059, 0.9051905920519059, 0.9051905920519059, 0.9051905920519059, 0.9051905920519059, 0.9051905920519059, 0.9051905920519059, 0.9051905920519059, 0.9051905920519059, 0.9051905920519059, 0.9051905920519059, 0.9051905920519059, 0.9051905920519059, 0.9051905920519059, 0.9051905920519059, 0.9051905920519059, 0.9051905920519059, 0.9051905920519059, 0.9051905920519059, 0.9051905920519059, 0.9051905920519059, 0.9069748580697485, 0.9069748580697485]}], \"f1_score_micro\": [{\"categories\": [\"0\", \"1\", \"2\", \"3\", \"4\", \"5\", \"6\", \"7\", \"8\", \"9\", \"10\", \"11\", \"12\", \"13\", \"14\", \"15\", \"16\", \"17\", \"18\", \"19\", \"20\", \"21\", \"22\", \"23\", \"24\", \"25\", \"26\", \"27\", \"28\", \"29\", \"30\", \"31\", \"32\", \"33\", \"35\", \"36\", \"38\", \"39\"], \"mode\": \"markers\", \"name\": \"f1_score_micro\", \"stepped\": false, \"type\": \"scatter\", \"data\": [0.9001622060016222, 0.9051905920519059, 0.8644768856447689, 0.8452554744525548, 0.8236009732360098, 0.8589618815896188, 0.9022708840227088, 0.8980535279805353, 0.9016220600162206, 0.8452554744525548, 0.9021086780210869, 0.88110300081103, 0.8874290348742905, 0.8813463098134631, 0.8852392538523924, 0.8800486618004868, 0.8841849148418491, 0.8841038118410381, 0.8841038118410381, 0.8841038118410381, 0.8598540145985402, 0.9049472830494728, 0.9024330900243309, 0.8997566909975668, 0.8625304136253042, 0.8452554744525548, 0.9036496350364963, 0.8655312246553123, 0.9021086780210866, 0.8991078669910787, 0.8969180859691809, 0.9033252230332524, 0.8452554744525548, 0.8969991889699919, 0.8991889699918897, 0.8491484184914843, 0.9069748580697485, 0.905190592051906]}, {\"categories\": [\"0\", \"1\", \"2\", \"3\", \"4\", \"5\", \"6\", \"7\", \"8\", \"9\", \"10\", \"11\", \"12\", \"13\", \"14\", \"15\", \"16\", \"17\", \"18\", \"19\", \"20\", \"21\", \"22\", \"23\", \"24\", \"25\", \"26\", \"27\", \"28\", \"29\", \"30\", \"31\", \"32\", \"33\", \"35\", \"36\", \"38\", \"39\"], \"mode\": \"lines\", \"name\": \"f1_score_micro_max\", \"stepped\": true, \"type\": \"scatter\", \"data\": [0.9001622060016222, 0.9051905920519059, 0.9051905920519059, 0.9051905920519059, 0.9051905920519059, 0.9051905920519059, 0.9051905920519059, 0.9051905920519059, 0.9051905920519059, 0.9051905920519059, 0.9051905920519059, 0.9051905920519059, 0.9051905920519059, 0.9051905920519059, 0.9051905920519059, 0.9051905920519059, 0.9051905920519059, 0.9051905920519059, 0.9051905920519059, 0.9051905920519059, 0.9051905920519059, 0.9051905920519059, 0.9051905920519059, 0.9051905920519059, 0.9051905920519059, 0.9051905920519059, 0.9051905920519059, 0.9051905920519059, 0.9051905920519059, 0.9051905920519059, 0.9051905920519059, 0.9051905920519059, 0.9051905920519059, 0.9051905920519059, 0.9051905920519059, 0.9051905920519059, 0.9069748580697485, 0.9069748580697485]}], \"recall_score_macro\": [{\"categories\": [\"0\", \"1\", \"2\", \"3\", \"4\", \"5\", \"6\", \"7\", \"8\", \"9\", \"10\", \"11\", \"12\", \"13\", \"14\", \"15\", \"16\", \"17\", \"18\", \"19\", \"20\", \"21\", \"22\", \"23\", \"24\", \"25\", \"26\", \"27\", \"28\", \"29\", \"30\", \"31\", \"32\", \"33\", \"35\", \"36\", \"38\", \"39\"], \"mode\": \"markers\", \"name\": \"recall_score_macro\", \"stepped\": false, \"type\": \"scatter\", \"data\": [0.77692834505401, 0.782398650768284, 0.5828751905685422, 0.5, 0.8292135542449343, 0.8303921675239613, 0.7735058518882112, 0.7648717742864509, 0.7744333906139557, 0.5, 0.7800876151443928, 0.6516079635080719, 0.6790751343924631, 0.822878565141986, 0.6501471408388285, 0.6551205362463807, 0.7948560951748807, 0.6791660036860881, 0.6791660036860881, 0.6791660036860881, 0.566212113037131, 0.7757475204171994, 0.7727585707470483, 0.7736994697759042, 0.5635667613132836, 0.5, 0.7864127972599846, 0.5745478389479587, 0.780969135803474, 0.775440106596597, 0.7687505480361835, 0.7872401455146353, 0.5, 0.7663783570164603, 0.7527112544518988, 0.8147155151029977, 0.788545584339568, 0.7790593276282518]}, {\"categories\": [\"0\", \"1\", \"2\", \"3\", \"4\", \"5\", \"6\", \"7\", \"8\", \"9\", \"10\", \"11\", \"12\", \"13\", \"14\", \"15\", \"16\", \"17\", \"18\", \"19\", \"20\", \"21\", \"22\", \"23\", \"24\", \"25\", \"26\", \"27\", \"28\", \"29\", \"30\", \"31\", \"32\", \"33\", \"35\", \"36\", \"38\", \"39\"], \"mode\": \"lines\", \"name\": \"recall_score_macro_max\", \"stepped\": true, \"type\": \"scatter\", \"data\": [0.77692834505401, 0.782398650768284, 0.782398650768284, 0.782398650768284, 0.8292135542449343, 0.8303921675239613, 0.8303921675239613, 0.8303921675239613, 0.8303921675239613, 0.8303921675239613, 0.8303921675239613, 0.8303921675239613, 0.8303921675239613, 0.8303921675239613, 0.8303921675239613, 0.8303921675239613, 0.8303921675239613, 0.8303921675239613, 0.8303921675239613, 0.8303921675239613, 0.8303921675239613, 0.8303921675239613, 0.8303921675239613, 0.8303921675239613, 0.8303921675239613, 0.8303921675239613, 0.8303921675239613, 0.8303921675239613, 0.8303921675239613, 0.8303921675239613, 0.8303921675239613, 0.8303921675239613, 0.8303921675239613, 0.8303921675239613, 0.8303921675239613, 0.8303921675239613, 0.8303921675239613, 0.8303921675239613]}], \"average_precision_score_macro\": [{\"categories\": [\"0\", \"1\", \"2\", \"3\", \"4\", \"5\", \"6\", \"7\", \"8\", \"9\", \"10\", \"11\", \"12\", \"13\", \"14\", \"15\", \"16\", \"17\", \"18\", \"19\", \"20\", \"21\", \"22\", \"23\", \"24\", \"25\", \"26\", \"27\", \"28\", \"29\", \"30\", \"31\", \"32\", \"33\", \"35\", \"36\", \"38\", \"39\"], \"mode\": \"markers\", \"name\": \"average_precision_score_macro\", \"stepped\": false, \"type\": \"scatter\", \"data\": [0.861599501682337, 0.86783193820032, 0.8158383150030621, 0.7616882235100828, 0.7970087978214419, 0.7514387921203265, 0.8644519868715942, 0.8593915730313233, 0.8643950478458948, 0.7900335866568087, 0.8547502398038073, 0.8395036189674948, 0.8348138253065072, 0.7790964228098748, 0.8506407809035376, 0.8001661779897505, 0.7781949750078927, 0.8065821626547177, 0.8069137973771675, 0.8065849126614676, 0.7763222541739764, 0.8653767919327743, 0.8657882178214017, 0.8549902740286189, 0.8370921689452294, 0.5, 0.8650563445484057, 0.8502659434844074, 0.857983507323611, 0.8524426456671156, 0.8476812012897063, 0.8597893465923488, 0.8499929919252857, 0.8559230715467799, 0.8550499202756793, 0.8134597428712427, 0.8703245211802368, 0.8709246180409908]}, {\"categories\": [\"0\", \"1\", \"2\", \"3\", \"4\", \"5\", \"6\", \"7\", \"8\", \"9\", \"10\", \"11\", \"12\", \"13\", \"14\", \"15\", \"16\", \"17\", \"18\", \"19\", \"20\", \"21\", \"22\", \"23\", \"24\", \"25\", \"26\", \"27\", \"28\", \"29\", \"30\", \"31\", \"32\", \"33\", \"35\", \"36\", \"38\", \"39\"], \"mode\": \"lines\", \"name\": \"average_precision_score_macro_max\", \"stepped\": true, \"type\": \"scatter\", \"data\": [0.861599501682337, 0.86783193820032, 0.86783193820032, 0.86783193820032, 0.86783193820032, 0.86783193820032, 0.86783193820032, 0.86783193820032, 0.86783193820032, 0.86783193820032, 0.86783193820032, 0.86783193820032, 0.86783193820032, 0.86783193820032, 0.86783193820032, 0.86783193820032, 0.86783193820032, 0.86783193820032, 0.86783193820032, 0.86783193820032, 0.86783193820032, 0.86783193820032, 0.86783193820032, 0.86783193820032, 0.86783193820032, 0.86783193820032, 0.86783193820032, 0.86783193820032, 0.86783193820032, 0.86783193820032, 0.86783193820032, 0.86783193820032, 0.86783193820032, 0.86783193820032, 0.86783193820032, 0.86783193820032, 0.8703245211802368, 0.8709246180409908]}], \"balanced_accuracy\": [{\"categories\": [\"0\", \"1\", \"2\", \"3\", \"4\", \"5\", \"6\", \"7\", \"8\", \"9\", \"10\", \"11\", \"12\", \"13\", \"14\", \"15\", \"16\", \"17\", \"18\", \"19\", \"20\", \"21\", \"22\", \"23\", \"24\", \"25\", \"26\", \"27\", \"28\", \"29\", \"30\", \"31\", \"32\", \"33\", \"35\", \"36\", \"38\", \"39\"], \"mode\": \"markers\", \"name\": \"balanced_accuracy\", \"stepped\": false, \"type\": \"scatter\", \"data\": [0.77692834505401, 0.782398650768284, 0.5828751905685422, 0.5, 0.8292135542449343, 0.8303921675239613, 0.7735058518882112, 0.7648717742864509, 0.7744333906139557, 0.5, 0.7800876151443928, 0.6516079635080719, 0.6790751343924631, 0.822878565141986, 0.6501471408388285, 0.6551205362463807, 0.7948560951748807, 0.6791660036860881, 0.6791660036860881, 0.6791660036860881, 0.566212113037131, 0.7757475204171994, 0.7727585707470483, 0.7736994697759042, 0.5635667613132836, 0.5, 0.7864127972599846, 0.5745478389479587, 0.780969135803474, 0.775440106596597, 0.7687505480361835, 0.7872401455146353, 0.5, 0.7663783570164603, 0.7527112544518988, 0.8147155151029977, 0.788545584339568, 0.7790593276282518]}, {\"categories\": [\"0\", \"1\", \"2\", \"3\", \"4\", \"5\", \"6\", \"7\", \"8\", \"9\", \"10\", \"11\", \"12\", \"13\", \"14\", \"15\", \"16\", \"17\", \"18\", \"19\", \"20\", \"21\", \"22\", \"23\", \"24\", \"25\", \"26\", \"27\", \"28\", \"29\", \"30\", \"31\", \"32\", \"33\", \"35\", \"36\", \"38\", \"39\"], \"mode\": \"lines\", \"name\": \"balanced_accuracy_max\", \"stepped\": true, \"type\": \"scatter\", \"data\": [0.77692834505401, 0.782398650768284, 0.782398650768284, 0.782398650768284, 0.8292135542449343, 0.8303921675239613, 0.8303921675239613, 0.8303921675239613, 0.8303921675239613, 0.8303921675239613, 0.8303921675239613, 0.8303921675239613, 0.8303921675239613, 0.8303921675239613, 0.8303921675239613, 0.8303921675239613, 0.8303921675239613, 0.8303921675239613, 0.8303921675239613, 0.8303921675239613, 0.8303921675239613, 0.8303921675239613, 0.8303921675239613, 0.8303921675239613, 0.8303921675239613, 0.8303921675239613, 0.8303921675239613, 0.8303921675239613, 0.8303921675239613, 0.8303921675239613, 0.8303921675239613, 0.8303921675239613, 0.8303921675239613, 0.8303921675239613, 0.8303921675239613, 0.8303921675239613, 0.8303921675239613, 0.8303921675239613]}], \"f1_score_macro\": [{\"categories\": [\"0\", \"1\", \"2\", \"3\", \"4\", \"5\", \"6\", \"7\", \"8\", \"9\", \"10\", \"11\", \"12\", \"13\", \"14\", \"15\", \"16\", \"17\", \"18\", \"19\", \"20\", \"21\", \"22\", \"23\", \"24\", \"25\", \"26\", \"27\", \"28\", \"29\", \"30\", \"31\", \"32\", \"33\", \"35\", \"36\", \"38\", \"39\"], \"mode\": \"markers\", \"name\": \"f1_score_macro\", \"stepped\": false, \"type\": \"scatter\", \"data\": [0.7958091515195553, 0.8043225633710266, 0.5923321679406867, 0.45806432077149334, 0.7412709724043753, 0.7732986840135944, 0.7967616176213236, 0.7877474160035529, 0.796387865294561, 0.45806432077149334, 0.7996462965399896, 0.6849778090755748, 0.7206867933190768, 0.7932070310151579, 0.6949378922532284, 0.695882649621027, 0.7853830345943648, 0.719798257160715, 0.719798257160715, 0.719798257160715, 0.571342678490965, 0.8010639933453777, 0.7967847693805781, 0.7939135924139548, 0.5740174890760715, 0.45806432077149334, 0.8041808514208902, 0.5932827327861995, 0.8000114238805022, 0.7939178548417357, 0.7881924341971907, 0.8041272061993835, 0.45806432077149334, 0.7872182577473037, 0.7830897678273535, 0.7585644121883862, 0.8092988739077823, 0.8028014557267484]}, {\"categories\": [\"0\", \"1\", \"2\", \"3\", \"4\", \"5\", \"6\", \"7\", \"8\", \"9\", \"10\", \"11\", \"12\", \"13\", \"14\", \"15\", \"16\", \"17\", \"18\", \"19\", \"20\", \"21\", \"22\", \"23\", \"24\", \"25\", \"26\", \"27\", \"28\", \"29\", \"30\", \"31\", \"32\", \"33\", \"35\", \"36\", \"38\", \"39\"], \"mode\": \"lines\", \"name\": \"f1_score_macro_max\", \"stepped\": true, \"type\": \"scatter\", \"data\": [0.7958091515195553, 0.8043225633710266, 0.8043225633710266, 0.8043225633710266, 0.8043225633710266, 0.8043225633710266, 0.8043225633710266, 0.8043225633710266, 0.8043225633710266, 0.8043225633710266, 0.8043225633710266, 0.8043225633710266, 0.8043225633710266, 0.8043225633710266, 0.8043225633710266, 0.8043225633710266, 0.8043225633710266, 0.8043225633710266, 0.8043225633710266, 0.8043225633710266, 0.8043225633710266, 0.8043225633710266, 0.8043225633710266, 0.8043225633710266, 0.8043225633710266, 0.8043225633710266, 0.8043225633710266, 0.8043225633710266, 0.8043225633710266, 0.8043225633710266, 0.8043225633710266, 0.8043225633710266, 0.8043225633710266, 0.8043225633710266, 0.8043225633710266, 0.8043225633710266, 0.8092988739077823, 0.8092988739077823]}], \"norm_macro_recall\": [{\"categories\": [\"0\", \"1\", \"2\", \"3\", \"4\", \"5\", \"6\", \"7\", \"8\", \"9\", \"10\", \"11\", \"12\", \"13\", \"14\", \"15\", \"16\", \"17\", \"18\", \"19\", \"20\", \"21\", \"22\", \"23\", \"24\", \"25\", \"26\", \"27\", \"28\", \"29\", \"30\", \"31\", \"32\", \"33\", \"35\", \"36\", \"38\", \"39\"], \"mode\": \"markers\", \"name\": \"norm_macro_recall\", \"stepped\": false, \"type\": \"scatter\", \"data\": [0.5538566901080199, 0.5647973015365682, 0.16575038113708432, 0.0, 0.6584271084898687, 0.6607843350479227, 0.5470117037764224, 0.5297435485729018, 0.5488667812279114, 0.0, 0.5601752302887857, 0.3032159270161438, 0.35815026878492656, 0.645757130283972, 0.3002942816776572, 0.31024107249276134, 0.5897121903497614, 0.35833200737217635, 0.35833200737217635, 0.35833200737217635, 0.13242422607426216, 0.5514950408343987, 0.5455171414940967, 0.5473989395518085, 0.1271335226265673, 0.0, 0.5728255945199693, 0.14909567789591746, 0.5619382716069482, 0.5508802131931939, 0.5375010960723671, 0.5744802910292708, 0.0, 0.5327567140329206, 0.5054225089037976, 0.6294310302059952, 0.5770911686791361, 0.5581186552565037]}, {\"categories\": [\"0\", \"1\", \"2\", \"3\", \"4\", \"5\", \"6\", \"7\", \"8\", \"9\", \"10\", \"11\", \"12\", \"13\", \"14\", \"15\", \"16\", \"17\", \"18\", \"19\", \"20\", \"21\", \"22\", \"23\", \"24\", \"25\", \"26\", \"27\", \"28\", \"29\", \"30\", \"31\", \"32\", \"33\", \"35\", \"36\", \"38\", \"39\"], \"mode\": \"lines\", \"name\": \"norm_macro_recall_max\", \"stepped\": true, \"type\": \"scatter\", \"data\": [0.5538566901080199, 0.5647973015365682, 0.5647973015365682, 0.5647973015365682, 0.6584271084898687, 0.6607843350479227, 0.6607843350479227, 0.6607843350479227, 0.6607843350479227, 0.6607843350479227, 0.6607843350479227, 0.6607843350479227, 0.6607843350479227, 0.6607843350479227, 0.6607843350479227, 0.6607843350479227, 0.6607843350479227, 0.6607843350479227, 0.6607843350479227, 0.6607843350479227, 0.6607843350479227, 0.6607843350479227, 0.6607843350479227, 0.6607843350479227, 0.6607843350479227, 0.6607843350479227, 0.6607843350479227, 0.6607843350479227, 0.6607843350479227, 0.6607843350479227, 0.6607843350479227, 0.6607843350479227, 0.6607843350479227, 0.6607843350479227, 0.6607843350479227, 0.6607843350479227, 0.6607843350479227, 0.6607843350479227]}]}, \"metricName\": null, \"primaryMetricName\": \"accuracy\", \"showLegend\": false}, \"run_metrics\": [{\"name\": \"experiment_status\", \"run_id\": \"AutoML_2e54ca96-1a98-4bce-9b21-7973f640edda\", \"categories\": [0, 1, 2, 3, 4, 5, 6, 7, 8, 9, 10, 11, 12, 13, 14], \"series\": [{\"data\": [\"DatasetEvaluation\", \"FeaturesGeneration\", \"DatasetFeaturization\", \"DatasetFeaturizationCompleted\", \"DatasetBalancing\", \"DatasetCrossValidationSplit\", \"ModelSelection\", \"BestRunExplainModel\", \"ModelExplanationDataSetSetup\", \"PickSurrogateModel\", \"EngineeredFeatureExplanations\", \"EngineeredFeatureExplanations\", \"RawFeaturesExplanations\", \"RawFeaturesExplanations\", \"BestRunExplainModel\"]}]}, {\"name\": \"experiment_status_description\", \"run_id\": \"AutoML_2e54ca96-1a98-4bce-9b21-7973f640edda\", \"categories\": [0, 1, 2, 3, 4, 5, 6, 7, 8, 9, 10, 11, 12, 13, 14], \"series\": [{\"data\": [\"Gathering dataset statistics.\", \"Generating features for the dataset.\", \"Beginning to fit featurizers and featurize the dataset.\", \"Completed fit featurizers and featurizing the dataset.\", \"Performing class balancing sweeping\", \"Generating individually featurized CV splits.\", \"Beginning model selection.\", \"Best run model explanations started\", \"Model explanations data setup completed\", \"Choosing LightGBM as the surrogate model for explanations\", \"Computation of engineered features started\", \"Computation of engineered features completed\", \"Computation of raw features started\", \"Computation of raw features completed\", \"Best run model explanations completed\"]}]}, {\"name\": \"f1_score_micro\", \"run_id\": \"AutoML_2e54ca96-1a98-4bce-9b21-7973f640edda\", \"categories\": [0], \"series\": [{\"data\": [0.9069748580697485]}]}, {\"name\": \"recall_score_micro\", \"run_id\": \"AutoML_2e54ca96-1a98-4bce-9b21-7973f640edda\", \"categories\": [0], \"series\": [{\"data\": [0.9069748580697485]}]}, {\"name\": \"average_precision_score_micro\", \"run_id\": \"AutoML_2e54ca96-1a98-4bce-9b21-7973f640edda\", \"categories\": [0], \"series\": [{\"data\": [0.9707518246581]}]}, {\"name\": \"AUC_macro\", \"run_id\": \"AutoML_2e54ca96-1a98-4bce-9b21-7973f640edda\", \"categories\": [0], \"series\": [{\"data\": [0.9343659993146863]}]}, {\"name\": \"matthews_correlation\", \"run_id\": \"AutoML_2e54ca96-1a98-4bce-9b21-7973f640edda\", \"categories\": [0], \"series\": [{\"data\": [0.6226992221382309]}]}, {\"name\": \"f1_score_weighted\", \"run_id\": \"AutoML_2e54ca96-1a98-4bce-9b21-7973f640edda\", \"categories\": [0], \"series\": [{\"data\": [0.9034140365855139]}]}, {\"name\": \"precision_score_macro\", \"run_id\": \"AutoML_2e54ca96-1a98-4bce-9b21-7973f640edda\", \"categories\": [0], \"series\": [{\"data\": [0.8359940420836374]}]}, {\"name\": \"AUC_weighted\", \"run_id\": \"AutoML_2e54ca96-1a98-4bce-9b21-7973f640edda\", \"categories\": [0], \"series\": [{\"data\": [0.9343659993146863]}]}, {\"name\": \"accuracy\", \"run_id\": \"AutoML_2e54ca96-1a98-4bce-9b21-7973f640edda\", \"categories\": [0], \"series\": [{\"data\": [0.9069748580697485]}]}, {\"name\": \"average_precision_score_macro\", \"run_id\": \"AutoML_2e54ca96-1a98-4bce-9b21-7973f640edda\", \"categories\": [0], \"series\": [{\"data\": [0.8703245211802368]}]}, {\"name\": \"AUC_micro\", \"run_id\": \"AutoML_2e54ca96-1a98-4bce-9b21-7973f640edda\", \"categories\": [0], \"series\": [{\"data\": [0.9698179030434346]}]}, {\"name\": \"norm_macro_recall\", \"run_id\": \"AutoML_2e54ca96-1a98-4bce-9b21-7973f640edda\", \"categories\": [0], \"series\": [{\"data\": [0.5770911686791361]}]}, {\"name\": \"precision_score_micro\", \"run_id\": \"AutoML_2e54ca96-1a98-4bce-9b21-7973f640edda\", \"categories\": [0], \"series\": [{\"data\": [0.9069748580697485]}]}, {\"name\": \"precision_score_weighted\", \"run_id\": \"AutoML_2e54ca96-1a98-4bce-9b21-7973f640edda\", \"categories\": [0], \"series\": [{\"data\": [0.9020007774464274]}]}, {\"name\": \"f1_score_macro\", \"run_id\": \"AutoML_2e54ca96-1a98-4bce-9b21-7973f640edda\", \"categories\": [0], \"series\": [{\"data\": [0.8092988739077823]}]}, {\"name\": \"recall_score_weighted\", \"run_id\": \"AutoML_2e54ca96-1a98-4bce-9b21-7973f640edda\", \"categories\": [0], \"series\": [{\"data\": [0.9069748580697485]}]}, {\"name\": \"balanced_accuracy\", \"run_id\": \"AutoML_2e54ca96-1a98-4bce-9b21-7973f640edda\", \"categories\": [0], \"series\": [{\"data\": [0.788545584339568]}]}, {\"name\": \"recall_score_macro\", \"run_id\": \"AutoML_2e54ca96-1a98-4bce-9b21-7973f640edda\", \"categories\": [0], \"series\": [{\"data\": [0.788545584339568]}]}, {\"name\": \"average_precision_score_weighted\", \"run_id\": \"AutoML_2e54ca96-1a98-4bce-9b21-7973f640edda\", \"categories\": [0], \"series\": [{\"data\": [0.9506566653585944]}]}, {\"name\": \"log_loss\", \"run_id\": \"AutoML_2e54ca96-1a98-4bce-9b21-7973f640edda\", \"categories\": [0], \"series\": [{\"data\": [0.23322515295495236]}]}, {\"name\": \"weighted_accuracy\", \"run_id\": \"AutoML_2e54ca96-1a98-4bce-9b21-7973f640edda\", \"categories\": [0], \"series\": [{\"data\": [0.9490188297230956]}]}], \"run_logs\": \"\\nRun is completed.\", \"graph\": {}, \"widget_settings\": {\"childWidgetDisplay\": \"popup\", \"send_telemetry\": false, \"log_level\": \"INFO\", \"sdk_version\": \"1.20.0\"}, \"loading\": false}"
     },
     "metadata": {},
     "output_type": "display_data"
    },
    {
     "name": "stdout",
     "output_type": "stream",
     "text": [
      "\n",
      "\n",
      "****************************************************************************************************\n",
      "DATA GUARDRAILS: \n",
      "\n",
      "TYPE:         Cross validation\n",
      "STATUS:       DONE\n",
      "DESCRIPTION:  Each iteration of the trained model was validated through cross-validation.\n",
      "              \n",
      "DETAILS:      \n",
      "+---------------------------------+\n",
      "|Number of folds                  |\n",
      "+=================================+\n",
      "|3                                |\n",
      "+---------------------------------+\n",
      "\n",
      "****************************************************************************************************\n",
      "\n",
      "TYPE:         Class balancing detection\n",
      "STATUS:       ALERTED\n",
      "DESCRIPTION:  To decrease model bias, please cancel the current run and fix balancing problem.\n",
      "              Learn more about imbalanced data: https://aka.ms/AutomatedMLImbalancedData\n",
      "DETAILS:      Imbalanced data can lead to a falsely perceived positive effect of a model's accuracy because the input data has bias towards one class.\n",
      "+---------------------------------+---------------------------------+--------------------------------------+\n",
      "|Size of the smallest class       |Name/Label of the smallest class |Number of samples in the training data|\n",
      "+=================================+=================================+======================================+\n",
      "|1908                             |True                             |12330                                 |\n",
      "+---------------------------------+---------------------------------+--------------------------------------+\n",
      "\n",
      "****************************************************************************************************\n",
      "\n",
      "TYPE:         Missing feature values imputation\n",
      "STATUS:       DONE\n",
      "DESCRIPTION:  If the missing values are expected, let the run complete. Otherwise cancel the current run and use a script to customize the handling of missing feature values that may be more appropriate based on the data type and business requirement.\n",
      "              Learn more about missing value imputation: https://aka.ms/AutomatedMLFeaturization\n",
      "DETAILS:      \n",
      "+---------------------------------+---------------------------------+---------------------------------+\n",
      "|Column name                      |Missing value count              |Imputation type                  |\n",
      "+=================================+=================================+=================================+\n",
      "|Administrative                   |14                               |mean                             |\n",
      "|Administrative_Duration          |14                               |mean                             |\n",
      "|Informational                    |14                               |mean                             |\n",
      "|Informational_Duration           |14                               |mean                             |\n",
      "|ProductRelated                   |14                               |mean                             |\n",
      "|ProductRelated_Duration          |14                               |mean                             |\n",
      "|BounceRates                      |14                               |mean                             |\n",
      "|ExitRates                        |14                               |mean                             |\n",
      "+---------------------------------+---------------------------------+---------------------------------+\n",
      "\n",
      "****************************************************************************************************\n",
      "\n",
      "TYPE:         High cardinality feature detection\n",
      "STATUS:       PASSED\n",
      "DESCRIPTION:  Your inputs were analyzed, and no high cardinality features were detected.\n",
      "              Learn more about high cardinality feature handling: https://aka.ms/AutomatedMLFeaturization\n",
      "\n",
      "****************************************************************************************************\n",
      "\n",
      "****************************************************************************************************\n",
      "ITERATION: The iteration being evaluated.\n",
      "PIPELINE: A summary description of the pipeline being evaluated.\n",
      "DURATION: Time taken for the current iteration.\n",
      "METRIC: The result of computing score on the fitted pipeline.\n",
      "BEST: The best observed score thus far.\n",
      "****************************************************************************************************\n",
      "\n",
      " ITERATION   PIPELINE                                       DURATION      METRIC      BEST\n",
      "         0   MaxAbsScaler LightGBM                          0:01:01       0.9002    0.9002\n",
      "         1   MaxAbsScaler XGBoostClassifier                 0:03:20       0.9052    0.9052\n",
      "         2   MaxAbsScaler RandomForest                      0:00:55       0.8645    0.9052\n",
      "         3   MaxAbsScaler RandomForest                      0:00:50       0.8453    0.9052\n",
      "         4   MaxAbsScaler RandomForest                      0:00:53       0.8236    0.9052\n",
      "         5   MaxAbsScaler RandomForest                      0:03:33       0.8590    0.9052\n",
      "         6   SparseNormalizer XGBoostClassifier             0:03:31       0.9023    0.9052\n",
      "         7   SparseNormalizer XGBoostClassifier             0:01:00       0.8981    0.9052\n",
      "         8   SparseNormalizer XGBoostClassifier             0:01:02       0.9016    0.9052\n",
      "         9   MaxAbsScaler RandomForest                      0:01:14       0.8453    0.9052\n",
      "        10   SparseNormalizer LightGBM                      0:00:54       0.9021    0.9052\n",
      "        11   StandardScalerWrapper RandomForest             0:00:48       0.8811    0.9052\n",
      "        12   SparseNormalizer XGBoostClassifier             0:00:52       0.8874    0.9052\n",
      "        13   MaxAbsScaler RandomForest                      0:00:46       0.8813    0.9052\n",
      "        14   MaxAbsScaler LightGBM                          0:00:56       0.8852    0.9052\n",
      "        15   MaxAbsScaler LogisticRegression                0:01:01       0.8800    0.9052\n",
      "        16   MaxAbsScaler RandomForest                      0:01:15       0.8842    0.9052\n",
      "        17   MaxAbsScaler LogisticRegression                0:00:55       0.8841    0.9052\n",
      "        18   MaxAbsScaler LogisticRegression                0:00:57       0.8841    0.9052\n",
      "        19   MaxAbsScaler LogisticRegression                0:00:53       0.8841    0.9052\n",
      "        20   SparseNormalizer GradientBoosting              0:00:52       0.8599    0.9052\n",
      "        21   MaxAbsScaler LightGBM                          0:00:47       0.9049    0.9052\n",
      "        22   SparseNormalizer XGBoostClassifier             0:00:56       0.9024    0.9052\n",
      "        23   SparseNormalizer XGBoostClassifier             0:01:10       0.8998    0.9052\n",
      "        24   MaxAbsScaler ExtremeRandomTrees                0:01:40       0.8625    0.9052\n",
      "        25   SparseNormalizer XGBoostClassifier             0:00:47       0.8453    0.9052\n",
      "        26   MaxAbsScaler LightGBM                          0:00:55       0.9036    0.9052\n",
      "        27   MaxAbsScaler LightGBM                          0:01:01       0.8655    0.9052\n",
      "        28   MaxAbsScaler LightGBM                          0:00:51       0.9021    0.9052\n",
      "        29   SparseNormalizer XGBoostClassifier             0:01:24       0.8991    0.9052\n",
      "        30   SparseNormalizer XGBoostClassifier             0:01:30       0.8969    0.9052\n",
      "        31   MaxAbsScaler LightGBM                          0:00:51       0.9033    0.9052\n",
      "        32   StandardScalerWrapper LightGBM                 0:00:46       0.8453    0.9052\n",
      "        33   SparseNormalizer XGBoostClassifier             0:01:01       0.8970    0.9052\n",
      "        34   SparseNormalizer XGBoostClassifier             0:00:54          nan    0.9052\n",
      "        35   SparseNormalizer XGBoostClassifier             0:00:48       0.8992    0.9052\n",
      "        36   MaxAbsScaler LogisticRegression                0:00:43       0.8491    0.9052\n",
      "        37                                                  0:00:08          nan    0.9052\n",
      "        38    VotingEnsemble                                0:01:36       0.9070    0.9070\n",
      "        39    StackEnsemble                                 0:01:29       0.9052    0.9070\n"
     ]
    },
    {
     "data": {
      "text/plain": [
       "{'runId': 'AutoML_2e54ca96-1a98-4bce-9b21-7973f640edda',\n",
       " 'target': 'project3',\n",
       " 'status': 'Completed',\n",
       " 'startTimeUtc': '2021-01-30T11:01:56.276164Z',\n",
       " 'endTimeUtc': '2021-01-30T11:24:05.180351Z',\n",
       " 'properties': {'num_iterations': '1000',\n",
       "  'training_type': 'TrainFull',\n",
       "  'acquisition_function': 'EI',\n",
       "  'primary_metric': 'accuracy',\n",
       "  'train_split': '0',\n",
       "  'acquisition_parameter': '0',\n",
       "  'num_cross_validation': None,\n",
       "  'target': 'project3',\n",
       "  'AMLSettingsJsonString': '{\"path\":null,\"name\":\"automl-experiment\",\"subscription_id\":\"cdbe0b43-92a0-4715-838a-f2648cc7ad21\",\"resource_group\":\"aml-quickstarts-136580\",\"workspace_name\":\"quick-starts-ws-136580\",\"region\":\"southcentralus\",\"compute_target\":\"project3\",\"spark_service\":null,\"azure_service\":\"remote\",\"many_models\":false,\"pipeline_fetch_max_batch_size\":1,\"iterations\":1000,\"primary_metric\":\"accuracy\",\"task_type\":\"classification\",\"data_script\":null,\"validation_size\":0.0,\"n_cross_validations\":null,\"y_min\":null,\"y_max\":null,\"num_classes\":null,\"featurization\":\"auto\",\"_ignore_package_version_incompatibilities\":false,\"is_timeseries\":false,\"max_cores_per_iteration\":1,\"max_concurrent_iterations\":5,\"iteration_timeout_minutes\":null,\"mem_in_mb\":null,\"enforce_time_on_windows\":false,\"experiment_timeout_minutes\":20,\"experiment_exit_score\":null,\"whitelist_models\":null,\"blacklist_algos\":[\"TensorFlowLinearClassifier\",\"TensorFlowDNN\"],\"supported_models\":[\"BernoulliNaiveBayes\",\"DecisionTree\",\"RandomForest\",\"LightGBM\",\"SGD\",\"TensorFlowLinearClassifier\",\"KNN\",\"ExtremeRandomTrees\",\"GradientBoosting\",\"MultinomialNaiveBayes\",\"AveragedPerceptronClassifier\",\"LinearSVM\",\"XGBoostClassifier\",\"SVM\",\"LogisticRegression\",\"TensorFlowDNN\"],\"auto_blacklist\":true,\"blacklist_samples_reached\":false,\"exclude_nan_labels\":true,\"verbosity\":20,\"_debug_log\":\"azureml_automl.log\",\"show_warnings\":false,\"model_explainability\":true,\"service_url\":null,\"sdk_url\":null,\"sdk_packages\":null,\"enable_onnx_compatible_models\":false,\"enable_split_onnx_featurizer_estimator_models\":false,\"vm_type\":\"STANDARD_D2_V2\",\"telemetry_verbosity\":20,\"send_telemetry\":true,\"enable_dnn\":false,\"scenario\":\"SDK-1.13.0\",\"environment_label\":null,\"force_text_dnn\":false,\"enable_feature_sweeping\":true,\"enable_early_stopping\":true,\"early_stopping_n_iters\":10,\"metrics\":null,\"enable_ensembling\":true,\"enable_stack_ensembling\":true,\"ensemble_iterations\":15,\"enable_tf\":false,\"enable_subsampling\":null,\"subsample_seed\":null,\"enable_nimbusml\":false,\"enable_streaming\":false,\"force_streaming\":false,\"track_child_runs\":true,\"allowed_private_models\":[],\"label_column_name\":\"Revenue\",\"weight_column_name\":null,\"cv_split_column_names\":null,\"enable_local_managed\":false,\"_local_managed_run_id\":null,\"cost_mode\":1,\"lag_length\":0,\"metric_operation\":\"maximize\",\"preprocess\":true}',\n",
       "  'DataPrepJsonString': '{\\\\\"training_data\\\\\": \\\\\"{\\\\\\\\\\\\\"blocks\\\\\\\\\\\\\": [{\\\\\\\\\\\\\"id\\\\\\\\\\\\\": \\\\\\\\\\\\\"caa541d1-a8f0-4859-ac98-c846f740d944\\\\\\\\\\\\\", \\\\\\\\\\\\\"type\\\\\\\\\\\\\": \\\\\\\\\\\\\"Microsoft.DPrep.GetFilesBlock\\\\\\\\\\\\\", \\\\\\\\\\\\\"arguments\\\\\\\\\\\\\": {\\\\\\\\\\\\\"isArchive\\\\\\\\\\\\\": false, \\\\\\\\\\\\\"path\\\\\\\\\\\\\": {\\\\\\\\\\\\\"target\\\\\\\\\\\\\": 4, \\\\\\\\\\\\\"resourceDetails\\\\\\\\\\\\\": [{\\\\\\\\\\\\\"path\\\\\\\\\\\\\": \\\\\\\\\\\\\"https://raw.githubusercontent.com/Bhosalenileshn/ML-Azure-Udacity-Capstone-Project/main/online_shoppers_intention.csv\\\\\\\\\\\\\"}]}}, \\\\\\\\\\\\\"localData\\\\\\\\\\\\\": {}, \\\\\\\\\\\\\"isEnabled\\\\\\\\\\\\\": true, \\\\\\\\\\\\\"name\\\\\\\\\\\\\": null, \\\\\\\\\\\\\"annotation\\\\\\\\\\\\\": null}, {\\\\\\\\\\\\\"id\\\\\\\\\\\\\": \\\\\\\\\\\\\"068835bd-5558-4165-adaf-cc856b6d1507\\\\\\\\\\\\\", \\\\\\\\\\\\\"type\\\\\\\\\\\\\": \\\\\\\\\\\\\"Microsoft.DPrep.ParseDelimitedBlock\\\\\\\\\\\\\", \\\\\\\\\\\\\"arguments\\\\\\\\\\\\\": {\\\\\\\\\\\\\"columnHeadersMode\\\\\\\\\\\\\": 3, \\\\\\\\\\\\\"fileEncoding\\\\\\\\\\\\\": 0, \\\\\\\\\\\\\"handleQuotedLineBreaks\\\\\\\\\\\\\": false, \\\\\\\\\\\\\"preview\\\\\\\\\\\\\": false, \\\\\\\\\\\\\"separator\\\\\\\\\\\\\": \\\\\\\\\\\\\",\\\\\\\\\\\\\", \\\\\\\\\\\\\"skipRows\\\\\\\\\\\\\": 0, \\\\\\\\\\\\\"skipRowsMode\\\\\\\\\\\\\": 0}, \\\\\\\\\\\\\"localData\\\\\\\\\\\\\": {}, \\\\\\\\\\\\\"isEnabled\\\\\\\\\\\\\": true, \\\\\\\\\\\\\"name\\\\\\\\\\\\\": null, \\\\\\\\\\\\\"annotation\\\\\\\\\\\\\": null}, {\\\\\\\\\\\\\"id\\\\\\\\\\\\\": \\\\\\\\\\\\\"2aa41cad-3e74-49bf-944f-e3108f14e1fc\\\\\\\\\\\\\", \\\\\\\\\\\\\"type\\\\\\\\\\\\\": \\\\\\\\\\\\\"Microsoft.DPrep.DropColumnsBlock\\\\\\\\\\\\\", \\\\\\\\\\\\\"arguments\\\\\\\\\\\\\": {\\\\\\\\\\\\\"columns\\\\\\\\\\\\\": {\\\\\\\\\\\\\"type\\\\\\\\\\\\\": 0, \\\\\\\\\\\\\"details\\\\\\\\\\\\\": {\\\\\\\\\\\\\"selectedColumns\\\\\\\\\\\\\": [\\\\\\\\\\\\\"Path\\\\\\\\\\\\\"]}}}, \\\\\\\\\\\\\"localData\\\\\\\\\\\\\": {}, \\\\\\\\\\\\\"isEnabled\\\\\\\\\\\\\": true, \\\\\\\\\\\\\"name\\\\\\\\\\\\\": null, \\\\\\\\\\\\\"annotation\\\\\\\\\\\\\": null}, {\\\\\\\\\\\\\"id\\\\\\\\\\\\\": \\\\\\\\\\\\\"1b306bb6-ffb0-4e1e-86c5-cc43fd97ffc4\\\\\\\\\\\\\", \\\\\\\\\\\\\"type\\\\\\\\\\\\\": \\\\\\\\\\\\\"Microsoft.DPrep.SetColumnTypesBlock\\\\\\\\\\\\\", \\\\\\\\\\\\\"arguments\\\\\\\\\\\\\": {\\\\\\\\\\\\\"columnConversion\\\\\\\\\\\\\": [{\\\\\\\\\\\\\"column\\\\\\\\\\\\\": {\\\\\\\\\\\\\"type\\\\\\\\\\\\\": 2, \\\\\\\\\\\\\"details\\\\\\\\\\\\\": {\\\\\\\\\\\\\"selectedColumn\\\\\\\\\\\\\": \\\\\\\\\\\\\"Administrative\\\\\\\\\\\\\"}}, \\\\\\\\\\\\\"typeProperty\\\\\\\\\\\\\": 2}, {\\\\\\\\\\\\\"column\\\\\\\\\\\\\": {\\\\\\\\\\\\\"type\\\\\\\\\\\\\": 2, \\\\\\\\\\\\\"details\\\\\\\\\\\\\": {\\\\\\\\\\\\\"selectedColumn\\\\\\\\\\\\\": \\\\\\\\\\\\\"Administrative_Duration\\\\\\\\\\\\\"}}, \\\\\\\\\\\\\"typeProperty\\\\\\\\\\\\\": 3}, {\\\\\\\\\\\\\"column\\\\\\\\\\\\\": {\\\\\\\\\\\\\"type\\\\\\\\\\\\\": 2, \\\\\\\\\\\\\"details\\\\\\\\\\\\\": {\\\\\\\\\\\\\"selectedColumn\\\\\\\\\\\\\": \\\\\\\\\\\\\"Informational\\\\\\\\\\\\\"}}, \\\\\\\\\\\\\"typeProperty\\\\\\\\\\\\\": 2}, {\\\\\\\\\\\\\"column\\\\\\\\\\\\\": {\\\\\\\\\\\\\"type\\\\\\\\\\\\\": 2, \\\\\\\\\\\\\"details\\\\\\\\\\\\\": {\\\\\\\\\\\\\"selectedColumn\\\\\\\\\\\\\": \\\\\\\\\\\\\"Informational_Duration\\\\\\\\\\\\\"}}, \\\\\\\\\\\\\"typeProperty\\\\\\\\\\\\\": 3}, {\\\\\\\\\\\\\"column\\\\\\\\\\\\\": {\\\\\\\\\\\\\"type\\\\\\\\\\\\\": 2, \\\\\\\\\\\\\"details\\\\\\\\\\\\\": {\\\\\\\\\\\\\"selectedColumn\\\\\\\\\\\\\": \\\\\\\\\\\\\"ProductRelated\\\\\\\\\\\\\"}}, \\\\\\\\\\\\\"typeProperty\\\\\\\\\\\\\": 2}, {\\\\\\\\\\\\\"column\\\\\\\\\\\\\": {\\\\\\\\\\\\\"type\\\\\\\\\\\\\": 2, \\\\\\\\\\\\\"details\\\\\\\\\\\\\": {\\\\\\\\\\\\\"selectedColumn\\\\\\\\\\\\\": \\\\\\\\\\\\\"ProductRelated_Duration\\\\\\\\\\\\\"}}, \\\\\\\\\\\\\"typeProperty\\\\\\\\\\\\\": 3}, {\\\\\\\\\\\\\"column\\\\\\\\\\\\\": {\\\\\\\\\\\\\"type\\\\\\\\\\\\\": 2, \\\\\\\\\\\\\"details\\\\\\\\\\\\\": {\\\\\\\\\\\\\"selectedColumn\\\\\\\\\\\\\": \\\\\\\\\\\\\"BounceRates\\\\\\\\\\\\\"}}, \\\\\\\\\\\\\"typeProperty\\\\\\\\\\\\\": 3}, {\\\\\\\\\\\\\"column\\\\\\\\\\\\\": {\\\\\\\\\\\\\"type\\\\\\\\\\\\\": 2, \\\\\\\\\\\\\"details\\\\\\\\\\\\\": {\\\\\\\\\\\\\"selectedColumn\\\\\\\\\\\\\": \\\\\\\\\\\\\"ExitRates\\\\\\\\\\\\\"}}, \\\\\\\\\\\\\"typeProperty\\\\\\\\\\\\\": 3}, {\\\\\\\\\\\\\"column\\\\\\\\\\\\\": {\\\\\\\\\\\\\"type\\\\\\\\\\\\\": 2, \\\\\\\\\\\\\"details\\\\\\\\\\\\\": {\\\\\\\\\\\\\"selectedColumn\\\\\\\\\\\\\": \\\\\\\\\\\\\"PageValues\\\\\\\\\\\\\"}}, \\\\\\\\\\\\\"typeProperty\\\\\\\\\\\\\": 3}, {\\\\\\\\\\\\\"column\\\\\\\\\\\\\": {\\\\\\\\\\\\\"type\\\\\\\\\\\\\": 2, \\\\\\\\\\\\\"details\\\\\\\\\\\\\": {\\\\\\\\\\\\\"selectedColumn\\\\\\\\\\\\\": \\\\\\\\\\\\\"SpecialDay\\\\\\\\\\\\\"}}, \\\\\\\\\\\\\"typeProperty\\\\\\\\\\\\\": 3}, {\\\\\\\\\\\\\"column\\\\\\\\\\\\\": {\\\\\\\\\\\\\"type\\\\\\\\\\\\\": 2, \\\\\\\\\\\\\"details\\\\\\\\\\\\\": {\\\\\\\\\\\\\"selectedColumn\\\\\\\\\\\\\": \\\\\\\\\\\\\"Month\\\\\\\\\\\\\"}}, \\\\\\\\\\\\\"typeProperty\\\\\\\\\\\\\": 0}, {\\\\\\\\\\\\\"column\\\\\\\\\\\\\": {\\\\\\\\\\\\\"type\\\\\\\\\\\\\": 2, \\\\\\\\\\\\\"details\\\\\\\\\\\\\": {\\\\\\\\\\\\\"selectedColumn\\\\\\\\\\\\\": \\\\\\\\\\\\\"OperatingSystems\\\\\\\\\\\\\"}}, \\\\\\\\\\\\\"typeProperty\\\\\\\\\\\\\": 2}, {\\\\\\\\\\\\\"column\\\\\\\\\\\\\": {\\\\\\\\\\\\\"type\\\\\\\\\\\\\": 2, \\\\\\\\\\\\\"details\\\\\\\\\\\\\": {\\\\\\\\\\\\\"selectedColumn\\\\\\\\\\\\\": \\\\\\\\\\\\\"Browser\\\\\\\\\\\\\"}}, \\\\\\\\\\\\\"typeProperty\\\\\\\\\\\\\": 2}, {\\\\\\\\\\\\\"column\\\\\\\\\\\\\": {\\\\\\\\\\\\\"type\\\\\\\\\\\\\": 2, \\\\\\\\\\\\\"details\\\\\\\\\\\\\": {\\\\\\\\\\\\\"selectedColumn\\\\\\\\\\\\\": \\\\\\\\\\\\\"Region\\\\\\\\\\\\\"}}, \\\\\\\\\\\\\"typeProperty\\\\\\\\\\\\\": 2}, {\\\\\\\\\\\\\"column\\\\\\\\\\\\\": {\\\\\\\\\\\\\"type\\\\\\\\\\\\\": 2, \\\\\\\\\\\\\"details\\\\\\\\\\\\\": {\\\\\\\\\\\\\"selectedColumn\\\\\\\\\\\\\": \\\\\\\\\\\\\"TrafficType\\\\\\\\\\\\\"}}, \\\\\\\\\\\\\"typeProperty\\\\\\\\\\\\\": 2}, {\\\\\\\\\\\\\"column\\\\\\\\\\\\\": {\\\\\\\\\\\\\"type\\\\\\\\\\\\\": 2, \\\\\\\\\\\\\"details\\\\\\\\\\\\\": {\\\\\\\\\\\\\"selectedColumn\\\\\\\\\\\\\": \\\\\\\\\\\\\"VisitorType\\\\\\\\\\\\\"}}, \\\\\\\\\\\\\"typeProperty\\\\\\\\\\\\\": 0}, {\\\\\\\\\\\\\"column\\\\\\\\\\\\\": {\\\\\\\\\\\\\"type\\\\\\\\\\\\\": 2, \\\\\\\\\\\\\"details\\\\\\\\\\\\\": {\\\\\\\\\\\\\"selectedColumn\\\\\\\\\\\\\": \\\\\\\\\\\\\"Weekend\\\\\\\\\\\\\"}}, \\\\\\\\\\\\\"typeProperty\\\\\\\\\\\\\": 1}, {\\\\\\\\\\\\\"column\\\\\\\\\\\\\": {\\\\\\\\\\\\\"type\\\\\\\\\\\\\": 2, \\\\\\\\\\\\\"details\\\\\\\\\\\\\": {\\\\\\\\\\\\\"selectedColumn\\\\\\\\\\\\\": \\\\\\\\\\\\\"Revenue\\\\\\\\\\\\\"}}, \\\\\\\\\\\\\"typeProperty\\\\\\\\\\\\\": 1}]}, \\\\\\\\\\\\\"localData\\\\\\\\\\\\\": {}, \\\\\\\\\\\\\"isEnabled\\\\\\\\\\\\\": true, \\\\\\\\\\\\\"name\\\\\\\\\\\\\": null, \\\\\\\\\\\\\"annotation\\\\\\\\\\\\\": null}], \\\\\\\\\\\\\"inspectors\\\\\\\\\\\\\": [], \\\\\\\\\\\\\"meta\\\\\\\\\\\\\": {\\\\\\\\\\\\\"savedDatasetId\\\\\\\\\\\\\": \\\\\\\\\\\\\"31d04a19-716f-42c7-8268-bd315ff20180\\\\\\\\\\\\\", \\\\\\\\\\\\\"datasetType\\\\\\\\\\\\\": \\\\\\\\\\\\\"tabular\\\\\\\\\\\\\", \\\\\\\\\\\\\"subscriptionId\\\\\\\\\\\\\": \\\\\\\\\\\\\"cdbe0b43-92a0-4715-838a-f2648cc7ad21\\\\\\\\\\\\\", \\\\\\\\\\\\\"workspaceId\\\\\\\\\\\\\": \\\\\\\\\\\\\"169a2334-41c2-4a6d-aab9-a4a1560ab97e\\\\\\\\\\\\\", \\\\\\\\\\\\\"workspaceLocation\\\\\\\\\\\\\": \\\\\\\\\\\\\"southcentralus\\\\\\\\\\\\\"}}\\\\\", \\\\\"activities\\\\\": 0}',\n",
       "  'EnableSubsampling': None,\n",
       "  'runTemplate': 'AutoML',\n",
       "  'azureml.runsource': 'automl',\n",
       "  'display_task_type': 'classification',\n",
       "  'dependencies_versions': '{\"azureml-widgets\": \"1.20.0\", \"azureml-train\": \"1.20.0\", \"azureml-train-restclients-hyperdrive\": \"1.20.0\", \"azureml-train-core\": \"1.20.0\", \"azureml-train-automl\": \"1.20.0\", \"azureml-train-automl-runtime\": \"1.20.0\", \"azureml-train-automl-client\": \"1.20.0\", \"azureml-tensorboard\": \"1.20.0\", \"azureml-telemetry\": \"1.20.0\", \"azureml-sdk\": \"1.20.0\", \"azureml-samples\": \"0+unknown\", \"azureml-pipeline\": \"1.20.0\", \"azureml-pipeline-steps\": \"1.20.0\", \"azureml-pipeline-core\": \"1.20.0\", \"azureml-opendatasets\": \"1.20.0\", \"azureml-model-management-sdk\": \"1.0.1b6.post1\", \"azureml-mlflow\": \"1.20.0.post1\", \"azureml-interpret\": \"1.20.0\", \"azureml-explain-model\": \"1.20.0\", \"azureml-defaults\": \"1.20.0\", \"azureml-dataset-runtime\": \"1.20.0\", \"azureml-dataprep\": \"2.7.3\", \"azureml-dataprep-rslex\": \"1.5.0\", \"azureml-dataprep-native\": \"27.0.0\", \"azureml-datadrift\": \"1.20.0\", \"azureml-core\": \"1.20.0\", \"azureml-contrib-services\": \"1.20.0\", \"azureml-contrib-server\": \"1.20.0\", \"azureml-contrib-reinforcementlearning\": \"1.20.0\", \"azureml-contrib-pipeline-steps\": \"1.20.0\", \"azureml-contrib-notebook\": \"1.20.0\", \"azureml-contrib-interpret\": \"1.20.0\", \"azureml-contrib-gbdt\": \"1.20.0\", \"azureml-contrib-fairness\": \"1.20.0\", \"azureml-contrib-dataset\": \"1.20.0\", \"azureml-cli-common\": \"1.20.0\", \"azureml-automl-runtime\": \"1.20.0\", \"azureml-automl-core\": \"1.20.0\", \"azureml-accel-models\": \"1.20.0\"}',\n",
       "  '_aml_system_scenario_identification': 'Remote.Parent',\n",
       "  'ClientType': 'SDK',\n",
       "  'environment_cpu_name': 'AzureML-AutoML',\n",
       "  'environment_cpu_label': 'prod',\n",
       "  'environment_gpu_name': 'AzureML-AutoML-GPU',\n",
       "  'environment_gpu_label': 'prod',\n",
       "  'root_attribution': 'automl',\n",
       "  'attribution': 'AutoML',\n",
       "  'Orchestrator': 'AutoML',\n",
       "  'CancelUri': 'https://southcentralus.experiments.azureml.net/jasmine/v1.0/subscriptions/cdbe0b43-92a0-4715-838a-f2648cc7ad21/resourceGroups/aml-quickstarts-136580/providers/Microsoft.MachineLearningServices/workspaces/quick-starts-ws-136580/experimentids/5b97c859-839f-484b-9a04-e3aa4d078a6c/cancel/AutoML_2e54ca96-1a98-4bce-9b21-7973f640edda',\n",
       "  'ClientSdkVersion': '1.20.0.post1',\n",
       "  'snapshotId': '00000000-0000-0000-0000-000000000000',\n",
       "  'SetupRunId': 'AutoML_2e54ca96-1a98-4bce-9b21-7973f640edda_setup',\n",
       "  'SetupRunContainerId': 'dcid.AutoML_2e54ca96-1a98-4bce-9b21-7973f640edda_setup',\n",
       "  'FeaturizationRunJsonPath': 'featurizer_container.json',\n",
       "  'FeaturizationRunId': 'AutoML_2e54ca96-1a98-4bce-9b21-7973f640edda_featurize',\n",
       "  'ProblemInfoJsonString': '{\"dataset_num_categorical\": 0, \"is_sparse\": true, \"subsampling\": false, \"dataset_classes\": 2, \"dataset_features\": 74, \"dataset_samples\": 12330, \"single_frequency_class_detected\": false}',\n",
       "  'ModelExplainRunId': 'AutoML_2e54ca96-1a98-4bce-9b21-7973f640edda_ModelExplain'},\n",
       " 'inputDatasets': [{'dataset': {'id': '31d04a19-716f-42c7-8268-bd315ff20180'}, 'consumptionDetails': {'type': 'RunInput', 'inputName': 'training_data', 'mechanism': 'Direct'}}],\n",
       " 'outputDatasets': [],\n",
       " 'logFiles': {},\n",
       " 'submittedBy': 'ODL_User 136580'}"
      ]
     },
     "execution_count": 7,
     "metadata": {},
     "output_type": "execute_result"
    }
   ],
   "source": [
    "RunDetails(remote_run).show()\n",
    "remote_run.wait_for_completion(show_output=True)"
   ]
  },
  {
   "cell_type": "markdown",
   "metadata": {},
   "source": [
    "## Best Model\n",
    "\n",
    "TODO: In the cell below, get the best model from the automl experiments and display all the properties of the model.\n",
    "\n"
   ]
  },
  {
   "cell_type": "code",
   "execution_count": 8,
   "metadata": {
    "gather": {
     "logged": 1598431425670
    },
    "jupyter": {
     "outputs_hidden": false,
     "source_hidden": false
    },
    "nteract": {
     "transient": {
      "deleting": false
     }
    }
   },
   "outputs": [
    {
     "name": "stdout",
     "output_type": "stream",
     "text": [
      "Pipeline(memory=None,\n",
      "         steps=[('datatransformer',\n",
      "                 DataTransformer(enable_dnn=None, enable_feature_sweeping=None,\n",
      "                                 feature_sweeping_config=None,\n",
      "                                 feature_sweeping_timeout=None,\n",
      "                                 featurization_config=None, force_text_dnn=None,\n",
      "                                 is_cross_validation=None,\n",
      "                                 is_onnx_compatible=None, logger=None,\n",
      "                                 observer=None, task=None, working_dir=None)),\n",
      "                ('prefittedsoftvotingclassifier',...\n",
      "                                                                                               scale_pos_weight=1,\n",
      "                                                                                               seed=None,\n",
      "                                                                                               silent=None,\n",
      "                                                                                               subsample=0.7,\n",
      "                                                                                               tree_method='hist',\n",
      "                                                                                               verbose=-10,\n",
      "                                                                                               verbosity=0))],\n",
      "                                                                     verbose=False))],\n",
      "                                               flatten_transform=None,\n",
      "                                               weights=[0.09090909090909091,\n",
      "                                                        0.09090909090909091,\n",
      "                                                        0.09090909090909091,\n",
      "                                                        0.18181818181818182,\n",
      "                                                        0.09090909090909091,\n",
      "                                                        0.09090909090909091,\n",
      "                                                        0.09090909090909091,\n",
      "                                                        0.09090909090909091,\n",
      "                                                        0.09090909090909091,\n",
      "                                                        0.09090909090909091]))],\n",
      "         verbose=False)\n",
      "Y_transformer(['LabelEncoder', LabelEncoder()])\n"
     ]
    }
   ],
   "source": [
    "automl_best_run, fitted_model = remote_run.get_output()\n",
    "print(fitted_model)"
   ]
  },
  {
   "cell_type": "code",
   "execution_count": 9,
   "metadata": {
    "gather": {
     "logged": 1598431426111
    },
    "jupyter": {
     "outputs_hidden": false,
     "source_hidden": false
    },
    "nteract": {
     "transient": {
      "deleting": false
     }
    }
   },
   "outputs": [],
   "source": [
    "#TODO: Save the best model\n",
    "automl_model = automl_best_run.register_model(model_name='classification_automl',model_path='outputs/')"
   ]
  },
  {
   "cell_type": "code",
   "execution_count": 10,
   "metadata": {},
   "outputs": [],
   "source": [
    "# env = automl_best_run.get_environment()\n",
    "# automl_best_run.download_files?"
   ]
  },
  {
   "cell_type": "code",
   "execution_count": 11,
   "metadata": {},
   "outputs": [
    {
     "name": "stdout",
     "output_type": "stream",
     "text": [
      "Metric name : log_loss = 0.23322515295495236\n",
      "Metric name : weighted_accuracy = 0.9490188297230956\n",
      "Metric name : recall_score_macro = 0.788545584339568\n",
      "Metric name : balanced_accuracy = 0.788545584339568\n",
      "Metric name : norm_macro_recall = 0.5770911686791361\n",
      "Metric name : precision_score_weighted = 0.9020007774464274\n",
      "Metric name : f1_score_macro = 0.8092988739077823\n",
      "Metric name : precision_score_micro = 0.9069748580697485\n",
      "Metric name : average_precision_score_weighted = 0.9506566653585944\n",
      "Metric name : AUC_macro = 0.9343659993146863\n",
      "Metric name : f1_score_weighted = 0.9034140365855139\n",
      "Metric name : accuracy = 0.9069748580697485\n",
      "Metric name : precision_score_macro = 0.8359940420836374\n",
      "Metric name : matthews_correlation = 0.6226992221382309\n",
      "Metric name : AUC_weighted = 0.9343659993146863\n",
      "Metric name : AUC_micro = 0.9698179030434346\n",
      "Metric name : f1_score_micro = 0.9069748580697485\n",
      "Metric name : recall_score_micro = 0.9069748580697485\n",
      "Metric name : average_precision_score_macro = 0.8703245211802368\n",
      "Metric name : recall_score_weighted = 0.9069748580697485\n",
      "Metric name : average_precision_score_micro = 0.9707518246581\n",
      "Metric name : confusion_matrix = aml://artifactId/ExperimentRun/dcid.AutoML_2e54ca96-1a98-4bce-9b21-7973f640edda_38/confusion_matrix\n",
      "Metric name : accuracy_table = aml://artifactId/ExperimentRun/dcid.AutoML_2e54ca96-1a98-4bce-9b21-7973f640edda_38/accuracy_table\n"
     ]
    }
   ],
   "source": [
    "# automl metrics\n",
    "automl_metrics = automl_best_run.get_metrics()\n",
    "for metric in automl_metrics:\n",
    "    print('Metric name : {} = {}'.format(metric,automl_metrics[metric]))"
   ]
  },
  {
   "cell_type": "code",
   "execution_count": 12,
   "metadata": {},
   "outputs": [
    {
     "name": "stdout",
     "output_type": "stream",
     "text": [
      "Metric name : accuracy = 0.9069748580697485\n"
     ]
    }
   ],
   "source": [
    "# automl metrics\n",
    "#automl_metrics = automl_best_run.get_metrics()\n",
    "print('Metric name : accuracy = {}'.format(automl_metrics['accuracy']))"
   ]
  },
  {
   "cell_type": "code",
   "execution_count": 14,
   "metadata": {},
   "outputs": [],
   "source": [
    "# for model in Model.list(ws):\n",
    "#     print(model.name, 'version:', model.version)\n",
    "#     print(model.properties)"
   ]
  },
  {
   "cell_type": "markdown",
   "metadata": {},
   "source": [
    "## Model Deployment\n",
    "\n",
    "Remember you have to deploy only one of the two models you trained.. Perform the steps in the rest of this notebook only if you wish to deploy this model.\n",
    "\n",
    "TODO: In the cell below, register the model, create an inference config and deploy the model as a web service."
   ]
  },
  {
   "cell_type": "code",
   "execution_count": 15,
   "metadata": {
    "gather": {
     "logged": 1598431435189
    },
    "jupyter": {
     "outputs_hidden": false,
     "source_hidden": false
    },
    "nteract": {
     "transient": {
      "deleting": false
     }
    }
   },
   "outputs": [],
   "source": [
    "# Download scoring file \n",
    "automl_best_run.download_file('outputs/scoring_file_v_1_0_0.py', 'score.py')\n",
    "\n",
    "# Download environment file\n",
    "automl_best_run.download_file('outputs/conda_env_v_1_0_0.yml', 'envFile.yml')\n",
    "automl_best_run.download_file('outputs/env_dependencies.json', 'envDependencies.json')\n"
   ]
  },
  {
   "cell_type": "markdown",
   "metadata": {
    "collapsed": true,
    "gather": {
     "logged": 1598431657736
    },
    "jupyter": {
     "outputs_hidden": false,
     "source_hidden": false
    },
    "nteract": {
     "transient": {
      "deleting": false
     }
    }
   },
   "source": [
    "TODO: In the cell below, send a request to the web service you deployed to test it."
   ]
  },
  {
   "cell_type": "code",
   "execution_count": 17,
   "metadata": {
    "gather": {
     "logged": 1598432707604
    },
    "jupyter": {
     "outputs_hidden": false,
     "source_hidden": false
    },
    "nteract": {
     "transient": {
      "deleting": false
     }
    }
   },
   "outputs": [],
   "source": [
    "# from azureml.core.environment import Environment\n",
    "# from azureml.core.model import InferenceConfig\n",
    "# from azureml.core.webservice import AciWebservice\n",
    "# from azureml.core import Model\n",
    "# #automl_best_run.get_environment()"
   ]
  },
  {
   "cell_type": "code",
   "execution_count": 39,
   "metadata": {},
   "outputs": [
    {
     "name": "stdout",
     "output_type": "stream",
     "text": [
      "Tips: You can try get_logs(): https://aka.ms/debugimage#dockerlog or local deployment: https://aka.ms/debugimage#debug-locally to debug if deployment takes longer than 10 minutes.\n",
      "Running...................................................\n",
      "Succeeded\n",
      "ACI service creation operation finished, operation \"Succeeded\"\n",
      "Healthy\n",
      "http://6545377b-98c2-4470-8c67-f3c6bc9fd815.southcentralus.azurecontainer.io/score\n",
      "http://6545377b-98c2-4470-8c67-f3c6bc9fd815.southcentralus.azurecontainer.io/swagger.json\n"
     ]
    }
   ],
   "source": [
    "inference_config = InferenceConfig(entry_script='score.py',\n",
    "                                    environment=automl_best_run.get_environment())\n",
    "\n",
    "deployment_config = AciWebservice.deploy_configuration(cpu_cores = 1, memory_gb = 4,enable_app_insights=True,auth_enabled=True)\n",
    "  \n",
    "service = Model.deploy(ws, \"shopping-intension\", [automl_model], inference_config, deployment_config)\n",
    "\n",
    "service.wait_for_deployment(show_output = True)\n",
    "\n",
    "print(service.state)\n",
    "\n",
    "print(service.scoring_uri)\n",
    "\n",
    "print(service.swagger_uri)"
   ]
  },
  {
   "cell_type": "code",
   "execution_count": 40,
   "metadata": {
    "collapsed": true
   },
   "outputs": [
    {
     "name": "stdout",
     "output_type": "stream",
     "text": [
      "2021-01-30T12:36:46,249298600+00:00 - iot-server/run \n",
      "2021-01-30T12:36:46,261817900+00:00 - gunicorn/run \n",
      "2021-01-30T12:36:46,269977300+00:00 - rsyslog/run \n",
      "2021-01-30T12:36:46,323318400+00:00 - nginx/run \n",
      "rsyslogd: /azureml-envs/azureml_265db83b0c6014ce472c5de2f0b97e04/lib/libuuid.so.1: no version information available (required by rsyslogd)\n",
      "/usr/sbin/nginx: /azureml-envs/azureml_265db83b0c6014ce472c5de2f0b97e04/lib/libcrypto.so.1.0.0: no version information available (required by /usr/sbin/nginx)\n",
      "/usr/sbin/nginx: /azureml-envs/azureml_265db83b0c6014ce472c5de2f0b97e04/lib/libcrypto.so.1.0.0: no version information available (required by /usr/sbin/nginx)\n",
      "/usr/sbin/nginx: /azureml-envs/azureml_265db83b0c6014ce472c5de2f0b97e04/lib/libssl.so.1.0.0: no version information available (required by /usr/sbin/nginx)\n",
      "/usr/sbin/nginx: /azureml-envs/azureml_265db83b0c6014ce472c5de2f0b97e04/lib/libssl.so.1.0.0: no version information available (required by /usr/sbin/nginx)\n",
      "/usr/sbin/nginx: /azureml-envs/azureml_265db83b0c6014ce472c5de2f0b97e04/lib/libssl.so.1.0.0: no version information available (required by /usr/sbin/nginx)\n",
      "EdgeHubConnectionString and IOTEDGE_IOTHUBHOSTNAME are not set. Exiting...\n",
      "2021-01-30T12:36:48,545507900+00:00 - iot-server/finish 1 0\n",
      "2021-01-30T12:36:48,569236100+00:00 - Exit code 1 is normal. Not restarting iot-server.\n",
      "Starting gunicorn 19.9.0\n",
      "Listening at: http://127.0.0.1:31311 (68)\n",
      "Using worker: sync\n",
      "worker timeout is set to 300\n",
      "Booting worker with pid: 97\n",
      "SPARK_HOME not set. Skipping PySpark Initialization.\n",
      "Generating new fontManager, this may take some time...\n",
      "Initializing logger\n",
      "2021-01-30 12:36:56,567 | root | INFO | Starting up app insights client\n",
      "2021-01-30 12:36:56,568 | root | INFO | Starting up request id generator\n",
      "2021-01-30 12:36:56,568 | root | INFO | Starting up app insight hooks\n",
      "2021-01-30 12:36:56,568 | root | INFO | Invoking user's init function\n",
      "2021-01-30 12:37:09,795 | azureml.core | WARNING | Failure while loading azureml_run_type_providers. Failed to load entrypoint automl = azureml.train.automl.run:AutoMLRun._from_run_dto with exception cannot import name 'RunType'.\n",
      "Failure while loading azureml_run_type_providers. Failed to load entrypoint automl = azureml.train.automl.run:AutoMLRun._from_run_dto with exception cannot import name 'RunType'.\n",
      "2021-01-30 12:37:10,462 | root | INFO | Users's init has completed successfully\n",
      "2021-01-30 12:37:10,557 | root | INFO | Skipping middleware: dbg_model_info as it's not enabled.\n",
      "2021-01-30 12:37:10,558 | root | INFO | Skipping middleware: dbg_resource_usage as it's not enabled.\n",
      "2021-01-30 12:37:10,566 | root | INFO | Scoring timeout is found from os.environ: 60000 ms\n",
      "2021-01-30 12:37:14,377 | root | INFO | 200\n",
      "127.0.0.1 - - [30/Jan/2021:12:37:14 +0000] \"GET /swagger.json HTTP/1.0\" 200 3258 \"-\" \"Go-http-client/1.1\"\n",
      "2021-01-30 12:37:16,334 | root | INFO | 200\n",
      "127.0.0.1 - - [30/Jan/2021:12:37:16 +0000] \"GET /swagger.json HTTP/1.0\" 200 3258 \"-\" \"Go-http-client/1.1\"\n",
      "\n"
     ]
    }
   ],
   "source": [
    "print(service.get_logs())"
   ]
  },
  {
   "cell_type": "markdown",
   "metadata": {
    "collapsed": true,
    "gather": {
     "logged": 1598432765711
    },
    "jupyter": {
     "outputs_hidden": false,
     "source_hidden": false
    },
    "nteract": {
     "transient": {
      "deleting": false
     }
    }
   },
   "source": [
    "TODO: In the cell below, print the logs of the web service and delete the service"
   ]
  },
  {
   "cell_type": "code",
   "execution_count": 41,
   "metadata": {},
   "outputs": [
    {
     "data": {
      "text/plain": [
       "'azureml-models/classification_automl/1/outputs'"
      ]
     },
     "execution_count": 41,
     "metadata": {},
     "output_type": "execute_result"
    }
   ],
   "source": [
    "Model.get_model_path('classification_automl',_workspace=ws)"
   ]
  },
  {
   "cell_type": "code",
   "execution_count": 42,
   "metadata": {},
   "outputs": [
    {
     "name": "stdout",
     "output_type": "stream",
     "text": [
      "{\"data\": [{\"Administrative\": 0.0, \"Administrative_Duration\": 0.0, \"Informational\": 6.0, \"Informational_Duration\": 97.16666667, \"ProductRelated\": 81.0, \"ProductRelated_Duration\": 3466.794048, \"BounceRates\": 0.018431373, \"ExitRates\": 0.022050322, \"PageValues\": 0.0, \"SpecialDay\": 0.0, \"Month\": \"Nov\", \"OperatingSystems\": 3, \"Browser\": 2, \"Region\": 1, \"TrafficType\": 13, \"VisitorType\": \"Returning_Visitor\", \"Weekend\": true}, {\"Administrative\": 5.0, \"Administrative_Duration\": 497.75, \"Informational\": 1.0, \"Informational_Duration\": 10.0, \"ProductRelated\": 51.0, \"ProductRelated_Duration\": 4977.85, \"BounceRates\": 0.0, \"ExitRates\": 0.015536723, \"PageValues\": 15.35760339, \"SpecialDay\": 0.0, \"Month\": \"May\", \"OperatingSystems\": 2, \"Browser\": 2, \"Region\": 1, \"TrafficType\": 5, \"VisitorType\": \"Returning_Visitor\", \"Weekend\": false}, {\"Administrative\": 0.0, \"Administrative_Duration\": 0.0, \"Informational\": 0.0, \"Informational_Duration\": 0.0, \"ProductRelated\": 42.0, \"ProductRelated_Duration\": 1349.25, \"BounceRates\": 0.0, \"ExitRates\": 0.004065041, \"PageValues\": 0.0, \"SpecialDay\": 0.0, \"Month\": \"May\", \"OperatingSystems\": 1, \"Browser\": 1, \"Region\": 6, \"TrafficType\": 4, \"VisitorType\": \"Returning_Visitor\", \"Weekend\": true}, {\"Administrative\": 0.0, \"Administrative_Duration\": 0.0, \"Informational\": 0.0, \"Informational_Duration\": 0.0, \"ProductRelated\": 13.0, \"ProductRelated_Duration\": 365.75, \"BounceRates\": 0.0, \"ExitRates\": 0.030769231, \"PageValues\": 0.0, \"SpecialDay\": 1.0, \"Month\": \"May\", \"OperatingSystems\": 3, \"Browser\": 2, \"Region\": 3, \"TrafficType\": 4, \"VisitorType\": \"Returning_Visitor\", \"Weekend\": true}, {\"Administrative\": 8.0, \"Administrative_Duration\": 203.9166667, \"Informational\": 4.0, \"Informational_Duration\": 114.75, \"ProductRelated\": 118.0, \"ProductRelated_Duration\": 3903.167094, \"BounceRates\": 0.004098361, \"ExitRates\": 0.012520167, \"PageValues\": 55.01131298, \"SpecialDay\": 0.0, \"Month\": \"Nov\", \"OperatingSystems\": 2, \"Browser\": 2, \"Region\": 1, \"TrafficType\": 2, \"VisitorType\": \"Returning_Visitor\", \"Weekend\": false}, {\"Administrative\": 0.0, \"Administrative_Duration\": 0.0, \"Informational\": 0.0, \"Informational_Duration\": 0.0, \"ProductRelated\": 10.0, \"ProductRelated_Duration\": 224.0, \"BounceRates\": 0.0, \"ExitRates\": 0.01, \"PageValues\": 0.0, \"SpecialDay\": 0.4, \"Month\": \"May\", \"OperatingSystems\": 2, \"Browser\": 2, \"Region\": 1, \"TrafficType\": 4, \"VisitorType\": \"Returning_Visitor\", \"Weekend\": false}, {\"Administrative\": 0.0, \"Administrative_Duration\": 0.0, \"Informational\": 0.0, \"Informational_Duration\": 0.0, \"ProductRelated\": 2.0, \"ProductRelated_Duration\": 92.0, \"BounceRates\": 0.0, \"ExitRates\": 0.1, \"PageValues\": 0.0, \"SpecialDay\": 0.0, \"Month\": \"Mar\", \"OperatingSystems\": 2, \"Browser\": 2, \"Region\": 8, \"TrafficType\": 1, \"VisitorType\": \"Returning_Visitor\", \"Weekend\": false}, {\"Administrative\": 4.0, \"Administrative_Duration\": 76.16666667, \"Informational\": 0.0, \"Informational_Duration\": 0.0, \"ProductRelated\": 10.0, \"ProductRelated_Duration\": 182.1666667, \"BounceRates\": 0.0, \"ExitRates\": 0.018181818, \"PageValues\": 0.0, \"SpecialDay\": 0.4, \"Month\": \"May\", \"OperatingSystems\": 3, \"Browser\": 2, \"Region\": 1, \"TrafficType\": 1, \"VisitorType\": \"Returning_Visitor\", \"Weekend\": false}, {\"Administrative\": 1.0, \"Administrative_Duration\": 95.33333333, \"Informational\": 0.0, \"Informational_Duration\": 0.0, \"ProductRelated\": 16.0, \"ProductRelated_Duration\": 819.3333333, \"BounceRates\": 0.0, \"ExitRates\": 0.015625, \"PageValues\": 25.25564195, \"SpecialDay\": 0.0, \"Month\": \"Dec\", \"OperatingSystems\": 2, \"Browser\": 2, \"Region\": 7, \"TrafficType\": 2, \"VisitorType\": \"New_Visitor\", \"Weekend\": false}, {\"Administrative\": 0.0, \"Administrative_Duration\": 0.0, \"Informational\": 0.0, \"Informational_Duration\": 0.0, \"ProductRelated\": 1.0, \"ProductRelated_Duration\": 0.0, \"BounceRates\": 0.2, \"ExitRates\": 0.2, \"PageValues\": 0.0, \"SpecialDay\": 0.0, \"Month\": \"Mar\", \"OperatingSystems\": 2, \"Browser\": 4, \"Region\": 1, \"TrafficType\": 1, \"VisitorType\": \"Returning_Visitor\", \"Weekend\": false}]}\n"
     ]
    }
   ],
   "source": [
    "import json\n",
    "#Creating Test data\n",
    "#Created test data from the original data bytaking first 10 rows\n",
    "test_df = df.sample(10) \n",
    "test_df_label = test_df.pop('Revenue')\n",
    "\n",
    "test_data = json.dumps({'data': test_df.to_dict(orient='records')})\n",
    "\n",
    "print(test_data)"
   ]
  },
  {
   "cell_type": "code",
   "execution_count": 50,
   "metadata": {},
   "outputs": [],
   "source": [
    "# We will send POST request to the deployed service for that we will import the request module\n",
    "import requests \n",
    "key = 'ujlbv7heiX5PQE2ksMl1lE7uIaPsyhHW'\n",
    "# Set the content type\n",
    "headers = {'Content-type': 'application/json'}\n",
    "headers['Authorization'] = f'Bearer {key}'\n",
    "response = requests.post(service.scoring_uri, test_data, headers=headers)"
   ]
  },
  {
   "cell_type": "code",
   "execution_count": 51,
   "metadata": {},
   "outputs": [
    {
     "data": {
      "text/plain": [
       "'\"{\\\\\"result\\\\\": [false, true, false, false, true, false, false, false, true, false]}\"'"
      ]
     },
     "execution_count": 51,
     "metadata": {},
     "output_type": "execute_result"
    }
   ],
   "source": [
    "response.text"
   ]
  },
  {
   "cell_type": "code",
   "execution_count": 52,
   "metadata": {},
   "outputs": [
    {
     "data": {
      "text/plain": [
       "[False, True, False, False, True, False, False, False, True, False]"
      ]
     },
     "execution_count": 52,
     "metadata": {},
     "output_type": "execute_result"
    }
   ],
   "source": [
    "test_df_label.to_list()"
   ]
  },
  {
   "cell_type": "code",
   "execution_count": 53,
   "metadata": {},
   "outputs": [],
   "source": [
    "service.delete()"
   ]
  },
  {
   "cell_type": "code",
   "execution_count": 54,
   "metadata": {},
   "outputs": [
    {
     "ename": "NameError",
     "evalue": "name 'cpu_cluster' is not defined",
     "output_type": "error",
     "traceback": [
      "\u001b[0;31m---------------------------------------------------------------------------\u001b[0m",
      "\u001b[0;31mNameError\u001b[0m                                 Traceback (most recent call last)",
      "\u001b[0;32m<ipython-input-54-ea94b98ea247>\u001b[0m in \u001b[0;36m<module>\u001b[0;34m\u001b[0m\n\u001b[1;32m      1\u001b[0m \u001b[0;31m# Deleting cluster\u001b[0m\u001b[0;34m\u001b[0m\u001b[0;34m\u001b[0m\u001b[0;34m\u001b[0m\u001b[0m\n\u001b[0;32m----> 2\u001b[0;31m \u001b[0mcpu_cluster\u001b[0m\u001b[0;34m.\u001b[0m\u001b[0mdelete\u001b[0m\u001b[0;34m(\u001b[0m\u001b[0;34m)\u001b[0m\u001b[0;34m\u001b[0m\u001b[0;34m\u001b[0m\u001b[0m\n\u001b[0m",
      "\u001b[0;31mNameError\u001b[0m: name 'cpu_cluster' is not defined"
     ]
    }
   ],
   "source": [
    "\n",
    "# Deleting cluster\n",
    "compute_target.delete()"
   ]
  },
  {
   "cell_type": "code",
   "execution_count": 11,
   "metadata": {},
   "outputs": [],
   "source": [
    "# pip install --upgrade azureml-automl-core==1.20.0\n",
    "\n",
    "# pip install --upgrade\n",
    "# pip install --upgrade azureml-automl-runtime==1.20.0\n",
    "# pip install --upgrade azureml-core==1.20.0\n",
    "# pip install --upgrade azureml-dataprep==2.7.2\n",
    "# c\n",
    "# cc\n",
    "# pip install --upgrade azureml-dataset-runtime==1.20.0\n",
    "# pip install --upgrade azureml-defaults==1.20.0\n",
    "# pip install --upgrade azureml-interpret==1.20.0\n",
    "# pip install --upgrade azureml-pipeline-core==1.20.0\n",
    "# pip install --upgrade azureml-telemetry==1.20.0\n",
    "# pip install --upgrade azureml-train-automl-client==1.20.0\n",
    "# pip install --upgrade azureml-train-automl-runtime==1.20.0\n"
   ]
  }
 ],
 "metadata": {
  "kernel_info": {
   "name": "python3"
  },
  "kernelspec": {
   "display_name": "Python 3",
   "language": "python",
   "name": "python3"
  },
  "language_info": {
   "codemirror_mode": {
    "name": "ipython",
    "version": 3
   },
   "file_extension": ".py",
   "mimetype": "text/x-python",
   "name": "python",
   "nbconvert_exporter": "python",
   "pygments_lexer": "ipython3",
   "version": "3.6.9"
  },
  "nteract": {
   "version": "nteract-front-end@1.0.0"
  }
 },
 "nbformat": 4,
 "nbformat_minor": 2
}
