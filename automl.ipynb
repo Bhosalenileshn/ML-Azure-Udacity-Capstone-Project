{
 "cells": [
  {
   "cell_type": "markdown",
   "metadata": {},
   "source": [
    "# Automated ML\n",
    "\n",
    "TODO: Import Dependencies. In the cell below, import all the dependencies that you will need to complete the project."
   ]
  },
  {
   "cell_type": "code",
   "execution_count": 2,
   "metadata": {},
   "outputs": [],
   "source": [
    "# !pip uninstall azureml-train-automl-runtime "
   ]
  },
  {
   "cell_type": "code",
   "execution_count": 3,
   "metadata": {},
   "outputs": [],
   "source": [
    "# import azureml.automl.runtime\n",
    "# import azureml.core\n",
    "# import azureml.dataprep\n",
    "# import azureml.dataprep.native\n",
    "# import azureml.dataprep.rslex\n",
    "# import azureml.dataset.runtime\n",
    "# import azureml.defaults\n",
    "# import azureml.interpret\n",
    "# import azureml.pipeline.core\n",
    "# import azureml.telemetry\n",
    "# import azureml.train.automl.client\n",
    "# import azureml.train.automl.runtime"
   ]
  },
  {
   "cell_type": "code",
   "execution_count": 4,
   "metadata": {},
   "outputs": [],
   "source": [
    "# import azureml.train.automl\n",
    "# import azureml.automl.core\n",
    "# import importlib\n",
    "# importlib.reload(azureml.train.automl)\n",
    "# importlib.reload(azureml.automl.core)\n",
    "# importlib.reload(azureml-automl-core==1.20.0)\n",
    "\n",
    "\n",
    "# importlib.reload(azureml-automl-runtime==1.20.0)\n",
    "# importlib.reload(azureml-core==1.20.0)\n",
    "# importlib.reload(azureml-dataprep==2.7.2\n",
    "# importlib.reload(azureml-dataprep-native==27.0).0)\n",
    "# importlib.reload(azureml-dataprep-rslex==1.5.0)\n",
    "# importlib.reload(azureml-dataset-runtime==1.20.0)\n",
    "# importlib.reload(azureml-defaults==1.20.0)\n",
    "# importlib.reload(azureml-interpret==1.20.0)\n",
    "# importlib.reload(azureml-pipeline-core==1.20.0)\n",
    "# importlib.reload(azureml-telemetry==1.20.0)\n",
    "# importlib.reload(azureml-train-automl-client==1.20.0)"
   ]
  },
  {
   "cell_type": "code",
   "execution_count": 5,
   "metadata": {},
   "outputs": [],
   "source": [
    "#!pip install --upgrade azureml-automl-core==1.20.0"
   ]
  },
  {
   "cell_type": "code",
   "execution_count": 6,
   "metadata": {
    "gather": {
     "logged": 1598423888013
    },
    "jupyter": {
     "outputs_hidden": false,
     "source_hidden": false
    },
    "nteract": {
     "transient": {
      "deleting": false
     }
    }
   },
   "outputs": [
    {
     "name": "stdout",
     "output_type": "stream",
     "text": [
      "SDK version: 1.20.0\n"
     ]
    }
   ],
   "source": [
    "import logging\n",
    "import os\n",
    "import csv\n",
    "\n",
    "from matplotlib import pyplot as plt\n",
    "import numpy as np\n",
    "import pandas as pd\n",
    "from sklearn import datasets\n",
    "import pkg_resources\n",
    "\n",
    "import azureml.core\n",
    "from azureml.core.experiment import Experiment\n",
    "from azureml.core.workspace import Workspace\n",
    "from azureml.train.automl import AutoMLConfig\n",
    "from azureml.core.dataset import Dataset\n",
    "\n",
    "from azureml.pipeline.steps import AutoMLStep\n",
    "from azureml.widgets import RunDetails\n",
    "from azureml.core import Workspace, Dataset\n",
    "\n",
    "# Check core SDK version number\n",
    "print(\"SDK version:\", azureml.core.VERSION)\n"
   ]
  },
  {
   "cell_type": "code",
   "execution_count": 7,
   "metadata": {},
   "outputs": [],
   "source": [
    "# import azureml.train.automl.runtime"
   ]
  },
  {
   "cell_type": "code",
   "execution_count": 8,
   "metadata": {},
   "outputs": [],
   "source": [
    "#pip show azureml-core"
   ]
  },
  {
   "cell_type": "code",
   "execution_count": null,
   "metadata": {},
   "outputs": [],
   "source": []
  },
  {
   "cell_type": "code",
   "execution_count": 9,
   "metadata": {},
   "outputs": [],
   "source": [
    "#!pip install --upgrade --upgrade-strategy eager azureml-sdk"
   ]
  },
  {
   "cell_type": "markdown",
   "metadata": {},
   "source": [
    "## Dataset\n",
    "\n",
    "### Overview\n",
    "TODO: In this markdown cell, give an overview of the dataset you are using. Also mention the task you will be performing.\n",
    "\n",
    "\n",
    "TODO: Get data. In the cell below, write code to access the data you will be using in this project. Remember that the dataset needs to be external."
   ]
  },
  {
   "cell_type": "code",
   "execution_count": 10,
   "metadata": {
    "gather": {
     "logged": 1598423890461
    },
    "jupyter": {
     "outputs_hidden": false,
     "source_hidden": false
    },
    "nteract": {
     "transient": {
      "deleting": false
     }
    }
   },
   "outputs": [
    {
     "name": "stdout",
     "output_type": "stream",
     "text": [
      "quick-starts-ws-135575\n",
      "aml-quickstarts-135575\n",
      "southcentralus\n",
      "6b4af8be-9931-443e-90f6-c4c34a1f9737\n"
     ]
    }
   ],
   "source": [
    "ws = Workspace.from_config()\n",
    "\n",
    "# choose a name for experiment\n",
    "experiment_name = 'automl-experiment'\n",
    "project_folder = './pipeline-project'\n",
    "experiment=Experiment(ws, experiment_name)\n",
    "print(ws.name, ws.resource_group, ws.location, ws.subscription_id, sep = '\\n')"
   ]
  },
  {
   "cell_type": "code",
   "execution_count": 11,
   "metadata": {},
   "outputs": [
    {
     "data": {
      "text/html": [
       "<div>\n",
       "<style scoped>\n",
       "    .dataframe tbody tr th:only-of-type {\n",
       "        vertical-align: middle;\n",
       "    }\n",
       "\n",
       "    .dataframe tbody tr th {\n",
       "        vertical-align: top;\n",
       "    }\n",
       "\n",
       "    .dataframe thead th {\n",
       "        text-align: right;\n",
       "    }\n",
       "</style>\n",
       "<table border=\"1\" class=\"dataframe\">\n",
       "  <thead>\n",
       "    <tr style=\"text-align: right;\">\n",
       "      <th></th>\n",
       "      <th>Administrative</th>\n",
       "      <th>Administrative_Duration</th>\n",
       "      <th>Informational</th>\n",
       "      <th>Informational_Duration</th>\n",
       "      <th>ProductRelated</th>\n",
       "      <th>ProductRelated_Duration</th>\n",
       "      <th>BounceRates</th>\n",
       "      <th>ExitRates</th>\n",
       "      <th>PageValues</th>\n",
       "      <th>SpecialDay</th>\n",
       "      <th>Month</th>\n",
       "      <th>OperatingSystems</th>\n",
       "      <th>Browser</th>\n",
       "      <th>Region</th>\n",
       "      <th>TrafficType</th>\n",
       "      <th>VisitorType</th>\n",
       "      <th>Weekend</th>\n",
       "      <th>Revenue</th>\n",
       "    </tr>\n",
       "  </thead>\n",
       "  <tbody>\n",
       "    <tr>\n",
       "      <th>0</th>\n",
       "      <td>0.0</td>\n",
       "      <td>0.0</td>\n",
       "      <td>0.0</td>\n",
       "      <td>0.0</td>\n",
       "      <td>1.0</td>\n",
       "      <td>0.000000</td>\n",
       "      <td>0.200000</td>\n",
       "      <td>0.200000</td>\n",
       "      <td>0.000000</td>\n",
       "      <td>0.0</td>\n",
       "      <td>Feb</td>\n",
       "      <td>1</td>\n",
       "      <td>1</td>\n",
       "      <td>1</td>\n",
       "      <td>1</td>\n",
       "      <td>Returning_Visitor</td>\n",
       "      <td>False</td>\n",
       "      <td>False</td>\n",
       "    </tr>\n",
       "    <tr>\n",
       "      <th>1</th>\n",
       "      <td>0.0</td>\n",
       "      <td>0.0</td>\n",
       "      <td>0.0</td>\n",
       "      <td>0.0</td>\n",
       "      <td>2.0</td>\n",
       "      <td>64.000000</td>\n",
       "      <td>0.000000</td>\n",
       "      <td>0.100000</td>\n",
       "      <td>0.000000</td>\n",
       "      <td>0.0</td>\n",
       "      <td>Feb</td>\n",
       "      <td>2</td>\n",
       "      <td>2</td>\n",
       "      <td>1</td>\n",
       "      <td>2</td>\n",
       "      <td>Returning_Visitor</td>\n",
       "      <td>False</td>\n",
       "      <td>False</td>\n",
       "    </tr>\n",
       "    <tr>\n",
       "      <th>2</th>\n",
       "      <td>0.0</td>\n",
       "      <td>-1.0</td>\n",
       "      <td>0.0</td>\n",
       "      <td>-1.0</td>\n",
       "      <td>1.0</td>\n",
       "      <td>-1.000000</td>\n",
       "      <td>0.200000</td>\n",
       "      <td>0.200000</td>\n",
       "      <td>0.000000</td>\n",
       "      <td>0.0</td>\n",
       "      <td>Feb</td>\n",
       "      <td>4</td>\n",
       "      <td>1</td>\n",
       "      <td>9</td>\n",
       "      <td>3</td>\n",
       "      <td>Returning_Visitor</td>\n",
       "      <td>False</td>\n",
       "      <td>False</td>\n",
       "    </tr>\n",
       "    <tr>\n",
       "      <th>3</th>\n",
       "      <td>0.0</td>\n",
       "      <td>0.0</td>\n",
       "      <td>0.0</td>\n",
       "      <td>0.0</td>\n",
       "      <td>2.0</td>\n",
       "      <td>2.666667</td>\n",
       "      <td>0.050000</td>\n",
       "      <td>0.140000</td>\n",
       "      <td>0.000000</td>\n",
       "      <td>0.0</td>\n",
       "      <td>Feb</td>\n",
       "      <td>3</td>\n",
       "      <td>2</td>\n",
       "      <td>2</td>\n",
       "      <td>4</td>\n",
       "      <td>Returning_Visitor</td>\n",
       "      <td>False</td>\n",
       "      <td>False</td>\n",
       "    </tr>\n",
       "    <tr>\n",
       "      <th>4</th>\n",
       "      <td>0.0</td>\n",
       "      <td>0.0</td>\n",
       "      <td>0.0</td>\n",
       "      <td>0.0</td>\n",
       "      <td>10.0</td>\n",
       "      <td>627.500000</td>\n",
       "      <td>0.020000</td>\n",
       "      <td>0.050000</td>\n",
       "      <td>0.000000</td>\n",
       "      <td>0.0</td>\n",
       "      <td>Feb</td>\n",
       "      <td>3</td>\n",
       "      <td>3</td>\n",
       "      <td>1</td>\n",
       "      <td>4</td>\n",
       "      <td>Returning_Visitor</td>\n",
       "      <td>True</td>\n",
       "      <td>False</td>\n",
       "    </tr>\n",
       "    <tr>\n",
       "      <th>...</th>\n",
       "      <td>...</td>\n",
       "      <td>...</td>\n",
       "      <td>...</td>\n",
       "      <td>...</td>\n",
       "      <td>...</td>\n",
       "      <td>...</td>\n",
       "      <td>...</td>\n",
       "      <td>...</td>\n",
       "      <td>...</td>\n",
       "      <td>...</td>\n",
       "      <td>...</td>\n",
       "      <td>...</td>\n",
       "      <td>...</td>\n",
       "      <td>...</td>\n",
       "      <td>...</td>\n",
       "      <td>...</td>\n",
       "      <td>...</td>\n",
       "      <td>...</td>\n",
       "    </tr>\n",
       "    <tr>\n",
       "      <th>12325</th>\n",
       "      <td>3.0</td>\n",
       "      <td>145.0</td>\n",
       "      <td>0.0</td>\n",
       "      <td>0.0</td>\n",
       "      <td>53.0</td>\n",
       "      <td>1783.791667</td>\n",
       "      <td>0.007143</td>\n",
       "      <td>0.029031</td>\n",
       "      <td>12.241717</td>\n",
       "      <td>0.0</td>\n",
       "      <td>Dec</td>\n",
       "      <td>4</td>\n",
       "      <td>6</td>\n",
       "      <td>1</td>\n",
       "      <td>1</td>\n",
       "      <td>Returning_Visitor</td>\n",
       "      <td>True</td>\n",
       "      <td>False</td>\n",
       "    </tr>\n",
       "    <tr>\n",
       "      <th>12326</th>\n",
       "      <td>0.0</td>\n",
       "      <td>0.0</td>\n",
       "      <td>0.0</td>\n",
       "      <td>0.0</td>\n",
       "      <td>5.0</td>\n",
       "      <td>465.750000</td>\n",
       "      <td>0.000000</td>\n",
       "      <td>0.021333</td>\n",
       "      <td>0.000000</td>\n",
       "      <td>0.0</td>\n",
       "      <td>Nov</td>\n",
       "      <td>3</td>\n",
       "      <td>2</td>\n",
       "      <td>1</td>\n",
       "      <td>8</td>\n",
       "      <td>Returning_Visitor</td>\n",
       "      <td>True</td>\n",
       "      <td>False</td>\n",
       "    </tr>\n",
       "    <tr>\n",
       "      <th>12327</th>\n",
       "      <td>0.0</td>\n",
       "      <td>0.0</td>\n",
       "      <td>0.0</td>\n",
       "      <td>0.0</td>\n",
       "      <td>6.0</td>\n",
       "      <td>184.250000</td>\n",
       "      <td>0.083333</td>\n",
       "      <td>0.086667</td>\n",
       "      <td>0.000000</td>\n",
       "      <td>0.0</td>\n",
       "      <td>Nov</td>\n",
       "      <td>3</td>\n",
       "      <td>2</td>\n",
       "      <td>1</td>\n",
       "      <td>13</td>\n",
       "      <td>Returning_Visitor</td>\n",
       "      <td>True</td>\n",
       "      <td>False</td>\n",
       "    </tr>\n",
       "    <tr>\n",
       "      <th>12328</th>\n",
       "      <td>4.0</td>\n",
       "      <td>75.0</td>\n",
       "      <td>0.0</td>\n",
       "      <td>0.0</td>\n",
       "      <td>15.0</td>\n",
       "      <td>346.000000</td>\n",
       "      <td>0.000000</td>\n",
       "      <td>0.021053</td>\n",
       "      <td>0.000000</td>\n",
       "      <td>0.0</td>\n",
       "      <td>Nov</td>\n",
       "      <td>2</td>\n",
       "      <td>2</td>\n",
       "      <td>3</td>\n",
       "      <td>11</td>\n",
       "      <td>Returning_Visitor</td>\n",
       "      <td>False</td>\n",
       "      <td>False</td>\n",
       "    </tr>\n",
       "    <tr>\n",
       "      <th>12329</th>\n",
       "      <td>0.0</td>\n",
       "      <td>0.0</td>\n",
       "      <td>0.0</td>\n",
       "      <td>0.0</td>\n",
       "      <td>3.0</td>\n",
       "      <td>21.250000</td>\n",
       "      <td>0.000000</td>\n",
       "      <td>0.066667</td>\n",
       "      <td>0.000000</td>\n",
       "      <td>0.0</td>\n",
       "      <td>Nov</td>\n",
       "      <td>3</td>\n",
       "      <td>2</td>\n",
       "      <td>1</td>\n",
       "      <td>2</td>\n",
       "      <td>New_Visitor</td>\n",
       "      <td>True</td>\n",
       "      <td>False</td>\n",
       "    </tr>\n",
       "  </tbody>\n",
       "</table>\n",
       "<p>12330 rows × 18 columns</p>\n",
       "</div>"
      ],
      "text/plain": [
       "       Administrative  Administrative_Duration  Informational  \\\n",
       "0                 0.0                      0.0            0.0   \n",
       "1                 0.0                      0.0            0.0   \n",
       "2                 0.0                     -1.0            0.0   \n",
       "3                 0.0                      0.0            0.0   \n",
       "4                 0.0                      0.0            0.0   \n",
       "...               ...                      ...            ...   \n",
       "12325             3.0                    145.0            0.0   \n",
       "12326             0.0                      0.0            0.0   \n",
       "12327             0.0                      0.0            0.0   \n",
       "12328             4.0                     75.0            0.0   \n",
       "12329             0.0                      0.0            0.0   \n",
       "\n",
       "       Informational_Duration  ProductRelated  ProductRelated_Duration  \\\n",
       "0                         0.0             1.0                 0.000000   \n",
       "1                         0.0             2.0                64.000000   \n",
       "2                        -1.0             1.0                -1.000000   \n",
       "3                         0.0             2.0                 2.666667   \n",
       "4                         0.0            10.0               627.500000   \n",
       "...                       ...             ...                      ...   \n",
       "12325                     0.0            53.0              1783.791667   \n",
       "12326                     0.0             5.0               465.750000   \n",
       "12327                     0.0             6.0               184.250000   \n",
       "12328                     0.0            15.0               346.000000   \n",
       "12329                     0.0             3.0                21.250000   \n",
       "\n",
       "       BounceRates  ExitRates  PageValues  SpecialDay Month  OperatingSystems  \\\n",
       "0         0.200000   0.200000    0.000000         0.0   Feb                 1   \n",
       "1         0.000000   0.100000    0.000000         0.0   Feb                 2   \n",
       "2         0.200000   0.200000    0.000000         0.0   Feb                 4   \n",
       "3         0.050000   0.140000    0.000000         0.0   Feb                 3   \n",
       "4         0.020000   0.050000    0.000000         0.0   Feb                 3   \n",
       "...            ...        ...         ...         ...   ...               ...   \n",
       "12325     0.007143   0.029031   12.241717         0.0   Dec                 4   \n",
       "12326     0.000000   0.021333    0.000000         0.0   Nov                 3   \n",
       "12327     0.083333   0.086667    0.000000         0.0   Nov                 3   \n",
       "12328     0.000000   0.021053    0.000000         0.0   Nov                 2   \n",
       "12329     0.000000   0.066667    0.000000         0.0   Nov                 3   \n",
       "\n",
       "       Browser  Region  TrafficType        VisitorType  Weekend  Revenue  \n",
       "0            1       1            1  Returning_Visitor    False    False  \n",
       "1            2       1            2  Returning_Visitor    False    False  \n",
       "2            1       9            3  Returning_Visitor    False    False  \n",
       "3            2       2            4  Returning_Visitor    False    False  \n",
       "4            3       1            4  Returning_Visitor     True    False  \n",
       "...        ...     ...          ...                ...      ...      ...  \n",
       "12325        6       1            1  Returning_Visitor     True    False  \n",
       "12326        2       1            8  Returning_Visitor     True    False  \n",
       "12327        2       1           13  Returning_Visitor     True    False  \n",
       "12328        2       3           11  Returning_Visitor    False    False  \n",
       "12329        2       1            2        New_Visitor     True    False  \n",
       "\n",
       "[12330 rows x 18 columns]"
      ]
     },
     "execution_count": 11,
     "metadata": {},
     "output_type": "execute_result"
    }
   ],
   "source": [
    "#from azureml.core import Workspace, Dataset\n",
    "\n",
    "# subscription_id = 'aa7cf8e8-d23f-4bce-a7b9-1f0b4e0ac8ee'\n",
    "# resource_group = 'aml-quickstarts-135086'\n",
    "# workspace_name = 'quick-starts-ws-135086'\n",
    "\n",
    "#workspace = Workspace(subscription_id, resource_group, workspace_name)\n",
    "\n",
    "dataset = Dataset.get_by_name(workspace=ws, name='online_shoppers_intention')\n",
    "dataset.to_pandas_dataframe()"
   ]
  },
  {
   "cell_type": "code",
   "execution_count": 12,
   "metadata": {},
   "outputs": [
    {
     "name": "stdout",
     "output_type": "stream",
     "text": [
      "Found existing cluster, use it.\n",
      "Succeeded\n",
      "AmlCompute wait for completion finished\n",
      "\n",
      "Minimum number of nodes requested have been provisioned\n"
     ]
    }
   ],
   "source": [
    "from azureml.core.compute import AmlCompute\n",
    "from azureml.core.compute import ComputeTarget\n",
    "from azureml.core.compute_target import ComputeTargetException\n",
    "\n",
    "# NOTE: update the cluster name to match the existing cluster\n",
    "# Choose a name for your CPU cluster\n",
    "amlcompute_cluster_name = \"project3\"\n",
    "\n",
    "# Verify that cluster does not exist already\n",
    "try:\n",
    "    compute_target = ComputeTarget(workspace=ws, name=amlcompute_cluster_name)\n",
    "    print('Found existing cluster, use it.')\n",
    "except ComputeTargetException:\n",
    "    compute_config = AmlCompute.provisioning_configuration(vm_size='STANDARD_D2_V2',# for GPU, use \"STANDARD_NC6\"\n",
    "                                                           #vm_priority = 'lowpriority', # optional\n",
    "                                                           max_nodes=4)\n",
    "    compute_target = ComputeTarget.create(ws, amlcompute_cluster_name, compute_config)\n",
    "\n",
    "compute_target.wait_for_completion(show_output=True)"
   ]
  },
  {
   "cell_type": "markdown",
   "metadata": {},
   "source": [
    "## AutoML Configuration\n",
    "\n",
    "TODO: Explain why you chose the automl settings and cofiguration you used below."
   ]
  },
  {
   "cell_type": "code",
   "execution_count": 13,
   "metadata": {
    "gather": {
     "logged": 1598429217746
    },
    "jupyter": {
     "outputs_hidden": false,
     "source_hidden": false
    },
    "nteract": {
     "transient": {
      "deleting": false
     }
    }
   },
   "outputs": [],
   "source": [
    "automl_settings = {\n",
    "    \"experiment_timeout_minutes\": 15,\n",
    "    \"max_concurrent_iterations\": 5,\n",
    "    \"primary_metric\" : 'accuracy'\n",
    "}\n",
    "automl_config = AutoMLConfig(compute_target=compute_target,\n",
    "                             task = \"classification\",\n",
    "                             training_data=dataset,\n",
    "                             label_column_name=\"Revenue\",   \n",
    "                             path = project_folder,\n",
    "                             enable_early_stopping= True,\n",
    "                             featurization= 'auto',\n",
    "                             debug_log = \"automl_errors.log\",\n",
    "                             **automl_settings\n",
    "                            )"
   ]
  },
  {
   "cell_type": "code",
   "execution_count": 14,
   "metadata": {
    "gather": {
     "logged": 1598431107951
    },
    "jupyter": {
     "outputs_hidden": false,
     "source_hidden": false
    },
    "nteract": {
     "transient": {
      "deleting": false
     }
    }
   },
   "outputs": [
    {
     "name": "stdout",
     "output_type": "stream",
     "text": [
      "Running on remote.\n",
      "No run_configuration provided, running on project3 with default configuration\n",
      "Running on remote compute: project3\n",
      "Parent Run ID: AutoML_44bf19f9-8522-4820-8221-ed309fa9485b\n",
      "\n",
      "Current status: FeaturesGeneration. Generating features for the dataset.\n",
      "Current status: DatasetBalancing. Performing class balancing sweeping\n",
      "Current status: DatasetCrossValidationSplit. Generating individually featurized CV splits.\n",
      "Current status: ModelSelection. Beginning model selection.\n",
      "\n",
      "****************************************************************************************************\n",
      "DATA GUARDRAILS: \n",
      "\n",
      "TYPE:         Cross validation\n",
      "STATUS:       DONE\n",
      "DESCRIPTION:  Each iteration of the trained model was validated through cross-validation.\n",
      "              \n",
      "DETAILS:      \n",
      "+---------------------------------+\n",
      "|Number of folds                  |\n",
      "+=================================+\n",
      "|3                                |\n",
      "+---------------------------------+\n",
      "\n",
      "****************************************************************************************************\n",
      "\n",
      "TYPE:         Class balancing detection\n",
      "STATUS:       ALERTED\n",
      "DESCRIPTION:  To decrease model bias, please cancel the current run and fix balancing problem.\n",
      "              Learn more about imbalanced data: https://aka.ms/AutomatedMLImbalancedData\n",
      "DETAILS:      Imbalanced data can lead to a falsely perceived positive effect of a model's accuracy because the input data has bias towards one class.\n",
      "+---------------------------------+---------------------------------+--------------------------------------+\n",
      "|Size of the smallest class       |Name/Label of the smallest class |Number of samples in the training data|\n",
      "+=================================+=================================+======================================+\n",
      "|1908                             |True                             |12330                                 |\n",
      "+---------------------------------+---------------------------------+--------------------------------------+\n",
      "\n",
      "****************************************************************************************************\n",
      "\n",
      "TYPE:         Missing feature values imputation\n",
      "STATUS:       DONE\n",
      "DESCRIPTION:  If the missing values are expected, let the run complete. Otherwise cancel the current run and use a script to customize the handling of missing feature values that may be more appropriate based on the data type and business requirement.\n",
      "              Learn more about missing value imputation: https://aka.ms/AutomatedMLFeaturization\n",
      "DETAILS:      \n",
      "+---------------------------------+---------------------------------+---------------------------------+\n",
      "|Column name                      |Missing value count              |Imputation type                  |\n",
      "+=================================+=================================+=================================+\n",
      "|Administrative                   |14                               |mean                             |\n",
      "|Administrative_Duration          |14                               |mean                             |\n",
      "|Informational                    |14                               |mean                             |\n",
      "|Informational_Duration           |14                               |mean                             |\n",
      "|ProductRelated                   |14                               |mean                             |\n",
      "|ProductRelated_Duration          |14                               |mean                             |\n",
      "|BounceRates                      |14                               |mean                             |\n",
      "|ExitRates                        |14                               |mean                             |\n",
      "+---------------------------------+---------------------------------+---------------------------------+\n",
      "\n",
      "****************************************************************************************************\n",
      "\n",
      "TYPE:         High cardinality feature detection\n",
      "STATUS:       PASSED\n",
      "DESCRIPTION:  Your inputs were analyzed, and no high cardinality features were detected.\n",
      "              Learn more about high cardinality feature handling: https://aka.ms/AutomatedMLFeaturization\n",
      "\n",
      "****************************************************************************************************\n",
      "\n",
      "****************************************************************************************************\n",
      "ITERATION: The iteration being evaluated.\n",
      "PIPELINE: A summary description of the pipeline being evaluated.\n",
      "DURATION: Time taken for the current iteration.\n",
      "METRIC: The result of computing score on the fitted pipeline.\n",
      "BEST: The best observed score thus far.\n",
      "****************************************************************************************************\n",
      "\n",
      " ITERATION   PIPELINE                                       DURATION      METRIC      BEST\n",
      "         0   MaxAbsScaler LightGBM                          0:00:42       0.9002    0.9002\n",
      "         2   MaxAbsScaler RandomForest                      0:00:45       0.8568    0.9002\n",
      "         4   MaxAbsScaler RandomForest                      0:00:51       0.8240    0.9002\n",
      "         3   MaxAbsScaler RandomForest                      0:00:48       0.8454    0.9002\n",
      "         1   MaxAbsScaler XGBoostClassifier                 0:00:45       0.9052    0.9052\n",
      "         8   SparseNormalizer XGBoostClassifier             0:00:51       0.8981    0.9052\n",
      "         9   SparseNormalizer XGBoostClassifier             0:00:55       0.9016    0.9052\n",
      "        10   MaxAbsScaler RandomForest                      0:00:59       0.8453    0.9052\n",
      "        11   SparseNormalizer LightGBM                      0:00:42       0.9021    0.9052\n",
      "        12   SparseNormalizer XGBoostClassifier             0:00:52       0.8874    0.9052\n",
      "         7   SparseNormalizer XGBoostClassifier             0:05:21       0.9023    0.9052\n",
      "         6   SparseNormalizer XGBoostClassifier             0:05:24       0.9004    0.9052\n",
      "        13   MaxAbsScaler LightGBM                          0:00:41       0.8852    0.9052\n",
      "         5   MaxAbsScaler RandomForest                      0:06:15       0.7708    0.9052\n",
      "        15   StandardScalerWrapper LogisticRegression       0:00:42       0.8843    0.9052\n",
      "        14   MaxAbsScaler LogisticRegression                0:01:14       0.8800    0.9052\n",
      "        16   MaxAbsScaler GradientBoosting                  0:00:51       0.8976    0.9052\n",
      "        17   StandardScalerWrapper LightGBM                 0:00:46       0.9054    0.9054\n",
      "        18   SparseNormalizer XGBoostClassifier             0:00:53       0.8984    0.9054\n",
      "        19   SparseNormalizer GradientBoosting              0:00:47       0.8667    0.9054\n",
      "        20   SparseNormalizer XGBoostClassifier             0:00:41       0.8992    0.9054\n",
      "        21   MaxAbsScaler LightGBM                          0:00:36       0.8453    0.9054\n",
      "        22   SparseNormalizer XGBoostClassifier             0:00:51       0.8987    0.9054\n",
      "        23   MaxAbsScaler LightGBM                          0:00:48       0.9041    0.9054\n",
      "        24   StandardScalerWrapper ExtremeRandomTrees       0:00:49       0.8453    0.9054\n",
      "        25   StandardScalerWrapper LightGBM                 0:00:50       0.8453    0.9054\n",
      "        26   MaxAbsScaler ExtremeRandomTrees                0:01:10       0.8453    0.9054\n",
      "        27   StandardScalerWrapper ExtremeRandomTrees       0:00:45       0.8453    0.9054\n",
      "        29   SparseNormalizer XGBoostClassifier             0:00:43       0.8985    0.9054\n",
      "        28   SparseNormalizer ExtremeRandomTrees            0:01:20       0.8477    0.9054\n",
      "        30   TruncatedSVDWrapper LightGBM                   0:00:48       0.8453    0.9054\n",
      "        31   SparseNormalizer XGBoostClassifier             0:00:42       0.9016    0.9054\n",
      "        32   SparseNormalizer LightGBM                      0:00:49       0.9017    0.9054\n",
      "        33   MaxAbsScaler LightGBM                          0:00:48       0.9049    0.9054\n",
      "        34   MaxAbsScaler RandomForest                      0:00:48       0.8998    0.9054\n",
      "        35   StandardScalerWrapper LightGBM                 0:00:40       0.8453    0.9054\n",
      "        36   SparseNormalizer XGBoostClassifier             0:00:30          nan    0.9054\n",
      "        37                                                  0:00:34          nan    0.9054\n",
      "        39    StackEnsemble                                 0:01:25       0.9060    0.9060\n",
      "        38    VotingEnsemble                                0:01:32       0.9067    0.9067\n"
     ]
    }
   ],
   "source": [
    "# TODO: Submit your experiment\n",
    "remote_run = experiment.submit(automl_config,show_output=True)"
   ]
  },
  {
   "cell_type": "markdown",
   "metadata": {},
   "source": [
    "## Run Details\n",
    "\n",
    "OPTIONAL: Write about the different models trained and their performance. Why do you think some models did better than others?\n",
    "\n",
    "TODO: In the cell below, use the `RunDetails` widget to show the different experiments."
   ]
  },
  {
   "cell_type": "code",
   "execution_count": 15,
   "metadata": {
    "gather": {
     "logged": 1598431121770
    },
    "jupyter": {
     "outputs_hidden": false,
     "source_hidden": false
    },
    "nteract": {
     "transient": {
      "deleting": false
     }
    }
   },
   "outputs": [
    {
     "data": {
      "application/vnd.jupyter.widget-view+json": {
       "model_id": "fd2bb924f6a34d7c8754d233c1e5fe32",
       "version_major": 2,
       "version_minor": 0
      },
      "text/plain": [
       "_AutoMLWidget(widget_settings={'childWidgetDisplay': 'popup', 'send_telemetry': False, 'log_level': 'INFO', 's…"
      ]
     },
     "metadata": {},
     "output_type": "display_data"
    },
    {
     "data": {
      "application/aml.mini.widget.v1": "{\"status\": \"Completed\", \"workbench_run_details_uri\": \"https://ml.azure.com/experiments/automl-experiment/runs/AutoML_44bf19f9-8522-4820-8221-ed309fa9485b?wsid=/subscriptions/6b4af8be-9931-443e-90f6-c4c34a1f9737/resourcegroups/aml-quickstarts-135575/workspaces/quick-starts-ws-135575\", \"run_id\": \"AutoML_44bf19f9-8522-4820-8221-ed309fa9485b\", \"run_properties\": {\"run_id\": \"AutoML_44bf19f9-8522-4820-8221-ed309fa9485b\", \"created_utc\": \"2021-01-21T11:42:08.420583Z\", \"properties\": {\"num_iterations\": \"1000\", \"training_type\": \"TrainFull\", \"acquisition_function\": \"EI\", \"primary_metric\": \"accuracy\", \"train_split\": \"0\", \"acquisition_parameter\": \"0\", \"num_cross_validation\": null, \"target\": \"project3\", \"AMLSettingsJsonString\": \"{\\\"path\\\":null,\\\"name\\\":\\\"automl-experiment\\\",\\\"subscription_id\\\":\\\"6b4af8be-9931-443e-90f6-c4c34a1f9737\\\",\\\"resource_group\\\":\\\"aml-quickstarts-135575\\\",\\\"workspace_name\\\":\\\"quick-starts-ws-135575\\\",\\\"region\\\":\\\"southcentralus\\\",\\\"compute_target\\\":\\\"project3\\\",\\\"spark_service\\\":null,\\\"azure_service\\\":\\\"remote\\\",\\\"many_models\\\":false,\\\"pipeline_fetch_max_batch_size\\\":1,\\\"iterations\\\":1000,\\\"primary_metric\\\":\\\"accuracy\\\",\\\"task_type\\\":\\\"classification\\\",\\\"data_script\\\":null,\\\"validation_size\\\":0.0,\\\"n_cross_validations\\\":null,\\\"y_min\\\":null,\\\"y_max\\\":null,\\\"num_classes\\\":null,\\\"featurization\\\":\\\"auto\\\",\\\"_ignore_package_version_incompatibilities\\\":false,\\\"is_timeseries\\\":false,\\\"max_cores_per_iteration\\\":1,\\\"max_concurrent_iterations\\\":5,\\\"iteration_timeout_minutes\\\":null,\\\"mem_in_mb\\\":null,\\\"enforce_time_on_windows\\\":false,\\\"experiment_timeout_minutes\\\":15,\\\"experiment_exit_score\\\":null,\\\"whitelist_models\\\":null,\\\"blacklist_algos\\\":[\\\"TensorFlowLinearClassifier\\\",\\\"TensorFlowDNN\\\"],\\\"supported_models\\\":[\\\"TensorFlowLinearClassifier\\\",\\\"LinearSVM\\\",\\\"SGD\\\",\\\"LogisticRegression\\\",\\\"XGBoostClassifier\\\",\\\"ExtremeRandomTrees\\\",\\\"GradientBoosting\\\",\\\"TensorFlowDNN\\\",\\\"KNN\\\",\\\"LightGBM\\\",\\\"RandomForest\\\",\\\"MultinomialNaiveBayes\\\",\\\"SVM\\\",\\\"AveragedPerceptronClassifier\\\",\\\"DecisionTree\\\",\\\"BernoulliNaiveBayes\\\"],\\\"auto_blacklist\\\":true,\\\"blacklist_samples_reached\\\":false,\\\"exclude_nan_labels\\\":true,\\\"verbosity\\\":20,\\\"_debug_log\\\":\\\"azureml_automl.log\\\",\\\"show_warnings\\\":false,\\\"model_explainability\\\":true,\\\"service_url\\\":null,\\\"sdk_url\\\":null,\\\"sdk_packages\\\":null,\\\"enable_onnx_compatible_models\\\":false,\\\"enable_split_onnx_featurizer_estimator_models\\\":false,\\\"vm_type\\\":\\\"STANDARD_D2_V2\\\",\\\"telemetry_verbosity\\\":20,\\\"send_telemetry\\\":true,\\\"enable_dnn\\\":false,\\\"scenario\\\":\\\"SDK-1.13.0\\\",\\\"environment_label\\\":null,\\\"force_text_dnn\\\":false,\\\"enable_feature_sweeping\\\":true,\\\"enable_early_stopping\\\":true,\\\"early_stopping_n_iters\\\":10,\\\"metrics\\\":null,\\\"enable_ensembling\\\":true,\\\"enable_stack_ensembling\\\":true,\\\"ensemble_iterations\\\":15,\\\"enable_tf\\\":false,\\\"enable_subsampling\\\":null,\\\"subsample_seed\\\":null,\\\"enable_nimbusml\\\":false,\\\"enable_streaming\\\":false,\\\"force_streaming\\\":false,\\\"track_child_runs\\\":true,\\\"allowed_private_models\\\":[],\\\"label_column_name\\\":\\\"Revenue\\\",\\\"weight_column_name\\\":null,\\\"cv_split_column_names\\\":null,\\\"enable_local_managed\\\":false,\\\"_local_managed_run_id\\\":null,\\\"cost_mode\\\":1,\\\"lag_length\\\":0,\\\"metric_operation\\\":\\\"maximize\\\",\\\"preprocess\\\":true}\", \"DataPrepJsonString\": \"{\\\\\\\"training_data\\\\\\\": \\\\\\\"{\\\\\\\\\\\\\\\"blocks\\\\\\\\\\\\\\\": [{\\\\\\\\\\\\\\\"id\\\\\\\\\\\\\\\": \\\\\\\\\\\\\\\"06f98543-b0db-47c6-996f-6b340e732d5a\\\\\\\\\\\\\\\", \\\\\\\\\\\\\\\"type\\\\\\\\\\\\\\\": \\\\\\\\\\\\\\\"Microsoft.DPrep.GetFilesBlock\\\\\\\\\\\\\\\", \\\\\\\\\\\\\\\"arguments\\\\\\\\\\\\\\\": {\\\\\\\\\\\\\\\"isArchive\\\\\\\\\\\\\\\": false, \\\\\\\\\\\\\\\"path\\\\\\\\\\\\\\\": {\\\\\\\\\\\\\\\"target\\\\\\\\\\\\\\\": 4, \\\\\\\\\\\\\\\"resourceDetails\\\\\\\\\\\\\\\": [{\\\\\\\\\\\\\\\"path\\\\\\\\\\\\\\\": \\\\\\\\\\\\\\\"https://raw.githubusercontent.com/Bhosalenileshn/ML-Azure-Udacity-Capstone-Project/main/online_shoppers_intention.csv\\\\\\\\\\\\\\\"}]}}, \\\\\\\\\\\\\\\"localData\\\\\\\\\\\\\\\": {}, \\\\\\\\\\\\\\\"isEnabled\\\\\\\\\\\\\\\": true, \\\\\\\\\\\\\\\"name\\\\\\\\\\\\\\\": null, \\\\\\\\\\\\\\\"annotation\\\\\\\\\\\\\\\": null}, {\\\\\\\\\\\\\\\"id\\\\\\\\\\\\\\\": \\\\\\\\\\\\\\\"0d87ff29-01c5-4f19-a1ab-972fe573f70e\\\\\\\\\\\\\\\", \\\\\\\\\\\\\\\"type\\\\\\\\\\\\\\\": \\\\\\\\\\\\\\\"Microsoft.DPrep.ParseDelimitedBlock\\\\\\\\\\\\\\\", \\\\\\\\\\\\\\\"arguments\\\\\\\\\\\\\\\": {\\\\\\\\\\\\\\\"columnHeadersMode\\\\\\\\\\\\\\\": 3, \\\\\\\\\\\\\\\"fileEncoding\\\\\\\\\\\\\\\": 0, \\\\\\\\\\\\\\\"handleQuotedLineBreaks\\\\\\\\\\\\\\\": false, \\\\\\\\\\\\\\\"preview\\\\\\\\\\\\\\\": false, \\\\\\\\\\\\\\\"separator\\\\\\\\\\\\\\\": \\\\\\\\\\\\\\\",\\\\\\\\\\\\\\\", \\\\\\\\\\\\\\\"skipRows\\\\\\\\\\\\\\\": 0, \\\\\\\\\\\\\\\"skipRowsMode\\\\\\\\\\\\\\\": 0}, \\\\\\\\\\\\\\\"localData\\\\\\\\\\\\\\\": {}, \\\\\\\\\\\\\\\"isEnabled\\\\\\\\\\\\\\\": true, \\\\\\\\\\\\\\\"name\\\\\\\\\\\\\\\": null, \\\\\\\\\\\\\\\"annotation\\\\\\\\\\\\\\\": null}, {\\\\\\\\\\\\\\\"id\\\\\\\\\\\\\\\": \\\\\\\\\\\\\\\"b72a2c54-aa32-49f7-9feb-7b35d330053d\\\\\\\\\\\\\\\", \\\\\\\\\\\\\\\"type\\\\\\\\\\\\\\\": \\\\\\\\\\\\\\\"Microsoft.DPrep.DropColumnsBlock\\\\\\\\\\\\\\\", \\\\\\\\\\\\\\\"arguments\\\\\\\\\\\\\\\": {\\\\\\\\\\\\\\\"columns\\\\\\\\\\\\\\\": {\\\\\\\\\\\\\\\"type\\\\\\\\\\\\\\\": 0, \\\\\\\\\\\\\\\"details\\\\\\\\\\\\\\\": {\\\\\\\\\\\\\\\"selectedColumns\\\\\\\\\\\\\\\": [\\\\\\\\\\\\\\\"Path\\\\\\\\\\\\\\\"]}}}, \\\\\\\\\\\\\\\"localData\\\\\\\\\\\\\\\": {}, \\\\\\\\\\\\\\\"isEnabled\\\\\\\\\\\\\\\": true, \\\\\\\\\\\\\\\"name\\\\\\\\\\\\\\\": null, \\\\\\\\\\\\\\\"annotation\\\\\\\\\\\\\\\": null}, {\\\\\\\\\\\\\\\"id\\\\\\\\\\\\\\\": \\\\\\\\\\\\\\\"3cfb5feb-b37b-4758-a502-632fea63e12a\\\\\\\\\\\\\\\", \\\\\\\\\\\\\\\"type\\\\\\\\\\\\\\\": \\\\\\\\\\\\\\\"Microsoft.DPrep.SetColumnTypesBlock\\\\\\\\\\\\\\\", \\\\\\\\\\\\\\\"arguments\\\\\\\\\\\\\\\": {\\\\\\\\\\\\\\\"columnConversion\\\\\\\\\\\\\\\": [{\\\\\\\\\\\\\\\"column\\\\\\\\\\\\\\\": {\\\\\\\\\\\\\\\"type\\\\\\\\\\\\\\\": 2, \\\\\\\\\\\\\\\"details\\\\\\\\\\\\\\\": {\\\\\\\\\\\\\\\"selectedColumn\\\\\\\\\\\\\\\": \\\\\\\\\\\\\\\"Administrative\\\\\\\\\\\\\\\"}}, \\\\\\\\\\\\\\\"typeProperty\\\\\\\\\\\\\\\": 2}, {\\\\\\\\\\\\\\\"column\\\\\\\\\\\\\\\": {\\\\\\\\\\\\\\\"type\\\\\\\\\\\\\\\": 2, \\\\\\\\\\\\\\\"details\\\\\\\\\\\\\\\": {\\\\\\\\\\\\\\\"selectedColumn\\\\\\\\\\\\\\\": \\\\\\\\\\\\\\\"Administrative_Duration\\\\\\\\\\\\\\\"}}, \\\\\\\\\\\\\\\"typeProperty\\\\\\\\\\\\\\\": 3}, {\\\\\\\\\\\\\\\"column\\\\\\\\\\\\\\\": {\\\\\\\\\\\\\\\"type\\\\\\\\\\\\\\\": 2, \\\\\\\\\\\\\\\"details\\\\\\\\\\\\\\\": {\\\\\\\\\\\\\\\"selectedColumn\\\\\\\\\\\\\\\": \\\\\\\\\\\\\\\"Informational\\\\\\\\\\\\\\\"}}, \\\\\\\\\\\\\\\"typeProperty\\\\\\\\\\\\\\\": 2}, {\\\\\\\\\\\\\\\"column\\\\\\\\\\\\\\\": {\\\\\\\\\\\\\\\"type\\\\\\\\\\\\\\\": 2, \\\\\\\\\\\\\\\"details\\\\\\\\\\\\\\\": {\\\\\\\\\\\\\\\"selectedColumn\\\\\\\\\\\\\\\": \\\\\\\\\\\\\\\"Informational_Duration\\\\\\\\\\\\\\\"}}, \\\\\\\\\\\\\\\"typeProperty\\\\\\\\\\\\\\\": 3}, {\\\\\\\\\\\\\\\"column\\\\\\\\\\\\\\\": {\\\\\\\\\\\\\\\"type\\\\\\\\\\\\\\\": 2, \\\\\\\\\\\\\\\"details\\\\\\\\\\\\\\\": {\\\\\\\\\\\\\\\"selectedColumn\\\\\\\\\\\\\\\": \\\\\\\\\\\\\\\"ProductRelated\\\\\\\\\\\\\\\"}}, \\\\\\\\\\\\\\\"typeProperty\\\\\\\\\\\\\\\": 2}, {\\\\\\\\\\\\\\\"column\\\\\\\\\\\\\\\": {\\\\\\\\\\\\\\\"type\\\\\\\\\\\\\\\": 2, \\\\\\\\\\\\\\\"details\\\\\\\\\\\\\\\": {\\\\\\\\\\\\\\\"selectedColumn\\\\\\\\\\\\\\\": \\\\\\\\\\\\\\\"ProductRelated_Duration\\\\\\\\\\\\\\\"}}, \\\\\\\\\\\\\\\"typeProperty\\\\\\\\\\\\\\\": 3}, {\\\\\\\\\\\\\\\"column\\\\\\\\\\\\\\\": {\\\\\\\\\\\\\\\"type\\\\\\\\\\\\\\\": 2, \\\\\\\\\\\\\\\"details\\\\\\\\\\\\\\\": {\\\\\\\\\\\\\\\"selectedColumn\\\\\\\\\\\\\\\": \\\\\\\\\\\\\\\"BounceRates\\\\\\\\\\\\\\\"}}, \\\\\\\\\\\\\\\"typeProperty\\\\\\\\\\\\\\\": 3}, {\\\\\\\\\\\\\\\"column\\\\\\\\\\\\\\\": {\\\\\\\\\\\\\\\"type\\\\\\\\\\\\\\\": 2, \\\\\\\\\\\\\\\"details\\\\\\\\\\\\\\\": {\\\\\\\\\\\\\\\"selectedColumn\\\\\\\\\\\\\\\": \\\\\\\\\\\\\\\"ExitRates\\\\\\\\\\\\\\\"}}, \\\\\\\\\\\\\\\"typeProperty\\\\\\\\\\\\\\\": 3}, {\\\\\\\\\\\\\\\"column\\\\\\\\\\\\\\\": {\\\\\\\\\\\\\\\"type\\\\\\\\\\\\\\\": 2, \\\\\\\\\\\\\\\"details\\\\\\\\\\\\\\\": {\\\\\\\\\\\\\\\"selectedColumn\\\\\\\\\\\\\\\": \\\\\\\\\\\\\\\"PageValues\\\\\\\\\\\\\\\"}}, \\\\\\\\\\\\\\\"typeProperty\\\\\\\\\\\\\\\": 3}, {\\\\\\\\\\\\\\\"column\\\\\\\\\\\\\\\": {\\\\\\\\\\\\\\\"type\\\\\\\\\\\\\\\": 2, \\\\\\\\\\\\\\\"details\\\\\\\\\\\\\\\": {\\\\\\\\\\\\\\\"selectedColumn\\\\\\\\\\\\\\\": \\\\\\\\\\\\\\\"SpecialDay\\\\\\\\\\\\\\\"}}, \\\\\\\\\\\\\\\"typeProperty\\\\\\\\\\\\\\\": 3}, {\\\\\\\\\\\\\\\"column\\\\\\\\\\\\\\\": {\\\\\\\\\\\\\\\"type\\\\\\\\\\\\\\\": 2, \\\\\\\\\\\\\\\"details\\\\\\\\\\\\\\\": {\\\\\\\\\\\\\\\"selectedColumn\\\\\\\\\\\\\\\": \\\\\\\\\\\\\\\"Month\\\\\\\\\\\\\\\"}}, \\\\\\\\\\\\\\\"typeProperty\\\\\\\\\\\\\\\": 0}, {\\\\\\\\\\\\\\\"column\\\\\\\\\\\\\\\": {\\\\\\\\\\\\\\\"type\\\\\\\\\\\\\\\": 2, \\\\\\\\\\\\\\\"details\\\\\\\\\\\\\\\": {\\\\\\\\\\\\\\\"selectedColumn\\\\\\\\\\\\\\\": \\\\\\\\\\\\\\\"OperatingSystems\\\\\\\\\\\\\\\"}}, \\\\\\\\\\\\\\\"typeProperty\\\\\\\\\\\\\\\": 2}, {\\\\\\\\\\\\\\\"column\\\\\\\\\\\\\\\": {\\\\\\\\\\\\\\\"type\\\\\\\\\\\\\\\": 2, \\\\\\\\\\\\\\\"details\\\\\\\\\\\\\\\": {\\\\\\\\\\\\\\\"selectedColumn\\\\\\\\\\\\\\\": \\\\\\\\\\\\\\\"Browser\\\\\\\\\\\\\\\"}}, \\\\\\\\\\\\\\\"typeProperty\\\\\\\\\\\\\\\": 2}, {\\\\\\\\\\\\\\\"column\\\\\\\\\\\\\\\": {\\\\\\\\\\\\\\\"type\\\\\\\\\\\\\\\": 2, \\\\\\\\\\\\\\\"details\\\\\\\\\\\\\\\": {\\\\\\\\\\\\\\\"selectedColumn\\\\\\\\\\\\\\\": \\\\\\\\\\\\\\\"Region\\\\\\\\\\\\\\\"}}, \\\\\\\\\\\\\\\"typeProperty\\\\\\\\\\\\\\\": 2}, {\\\\\\\\\\\\\\\"column\\\\\\\\\\\\\\\": {\\\\\\\\\\\\\\\"type\\\\\\\\\\\\\\\": 2, \\\\\\\\\\\\\\\"details\\\\\\\\\\\\\\\": {\\\\\\\\\\\\\\\"selectedColumn\\\\\\\\\\\\\\\": \\\\\\\\\\\\\\\"TrafficType\\\\\\\\\\\\\\\"}}, \\\\\\\\\\\\\\\"typeProperty\\\\\\\\\\\\\\\": 2}, {\\\\\\\\\\\\\\\"column\\\\\\\\\\\\\\\": {\\\\\\\\\\\\\\\"type\\\\\\\\\\\\\\\": 2, \\\\\\\\\\\\\\\"details\\\\\\\\\\\\\\\": {\\\\\\\\\\\\\\\"selectedColumn\\\\\\\\\\\\\\\": \\\\\\\\\\\\\\\"VisitorType\\\\\\\\\\\\\\\"}}, \\\\\\\\\\\\\\\"typeProperty\\\\\\\\\\\\\\\": 0}, {\\\\\\\\\\\\\\\"column\\\\\\\\\\\\\\\": {\\\\\\\\\\\\\\\"type\\\\\\\\\\\\\\\": 2, \\\\\\\\\\\\\\\"details\\\\\\\\\\\\\\\": {\\\\\\\\\\\\\\\"selectedColumn\\\\\\\\\\\\\\\": \\\\\\\\\\\\\\\"Weekend\\\\\\\\\\\\\\\"}}, \\\\\\\\\\\\\\\"typeProperty\\\\\\\\\\\\\\\": 1}, {\\\\\\\\\\\\\\\"column\\\\\\\\\\\\\\\": {\\\\\\\\\\\\\\\"type\\\\\\\\\\\\\\\": 2, \\\\\\\\\\\\\\\"details\\\\\\\\\\\\\\\": {\\\\\\\\\\\\\\\"selectedColumn\\\\\\\\\\\\\\\": \\\\\\\\\\\\\\\"Revenue\\\\\\\\\\\\\\\"}}, \\\\\\\\\\\\\\\"typeProperty\\\\\\\\\\\\\\\": 1}]}, \\\\\\\\\\\\\\\"localData\\\\\\\\\\\\\\\": {}, \\\\\\\\\\\\\\\"isEnabled\\\\\\\\\\\\\\\": true, \\\\\\\\\\\\\\\"name\\\\\\\\\\\\\\\": null, \\\\\\\\\\\\\\\"annotation\\\\\\\\\\\\\\\": null}], \\\\\\\\\\\\\\\"inspectors\\\\\\\\\\\\\\\": [], \\\\\\\\\\\\\\\"meta\\\\\\\\\\\\\\\": {\\\\\\\\\\\\\\\"savedDatasetId\\\\\\\\\\\\\\\": \\\\\\\\\\\\\\\"de41807b-2bc0-4b77-9f31-9b4c87c3ac68\\\\\\\\\\\\\\\", \\\\\\\\\\\\\\\"datasetType\\\\\\\\\\\\\\\": \\\\\\\\\\\\\\\"tabular\\\\\\\\\\\\\\\", \\\\\\\\\\\\\\\"subscriptionId\\\\\\\\\\\\\\\": \\\\\\\\\\\\\\\"6b4af8be-9931-443e-90f6-c4c34a1f9737\\\\\\\\\\\\\\\", \\\\\\\\\\\\\\\"workspaceId\\\\\\\\\\\\\\\": \\\\\\\\\\\\\\\"cf685b6f-ed03-4402-98a1-df050744c7f8\\\\\\\\\\\\\\\", \\\\\\\\\\\\\\\"workspaceLocation\\\\\\\\\\\\\\\": \\\\\\\\\\\\\\\"southcentralus\\\\\\\\\\\\\\\"}}\\\\\\\", \\\\\\\"activities\\\\\\\": 0}\", \"EnableSubsampling\": null, \"runTemplate\": \"AutoML\", \"azureml.runsource\": \"automl\", \"display_task_type\": \"classification\", \"dependencies_versions\": \"{\\\"azureml-widgets\\\": \\\"1.19.0\\\", \\\"azureml-train\\\": \\\"1.19.0\\\", \\\"azureml-train-restclients-hyperdrive\\\": \\\"1.19.0\\\", \\\"azureml-train-core\\\": \\\"1.19.0\\\", \\\"azureml-train-automl\\\": \\\"1.20.0\\\", \\\"azureml-train-automl-runtime\\\": \\\"1.20.0\\\", \\\"azureml-train-automl-client\\\": \\\"1.20.0\\\", \\\"azureml-tensorboard\\\": \\\"1.19.0\\\", \\\"azureml-telemetry\\\": \\\"1.20.0\\\", \\\"azureml-sdk\\\": \\\"1.19.0\\\", \\\"azureml-samples\\\": \\\"0+unknown\\\", \\\"azureml-pipeline\\\": \\\"1.19.0\\\", \\\"azureml-pipeline-steps\\\": \\\"1.19.0\\\", \\\"azureml-pipeline-core\\\": \\\"1.20.0\\\", \\\"azureml-opendatasets\\\": \\\"1.19.0\\\", \\\"azureml-model-management-sdk\\\": \\\"1.0.1b6.post1\\\", \\\"azureml-mlflow\\\": \\\"1.19.0\\\", \\\"azureml-interpret\\\": \\\"1.20.0\\\", \\\"azureml-explain-model\\\": \\\"1.19.0\\\", \\\"azureml-defaults\\\": \\\"1.20.0\\\", \\\"azureml-dataset-runtime\\\": \\\"1.20.0\\\", \\\"azureml-dataprep\\\": \\\"2.7.2\\\", \\\"azureml-dataprep-rslex\\\": \\\"1.5.0\\\", \\\"azureml-dataprep-native\\\": \\\"27.0.0\\\", \\\"azureml-datadrift\\\": \\\"1.20.0\\\", \\\"azureml-core\\\": \\\"1.20.0\\\", \\\"azureml-contrib-services\\\": \\\"1.19.0\\\", \\\"azureml-contrib-server\\\": \\\"1.19.0\\\", \\\"azureml-contrib-reinforcementlearning\\\": \\\"1.19.0\\\", \\\"azureml-contrib-pipeline-steps\\\": \\\"1.19.0\\\", \\\"azureml-contrib-notebook\\\": \\\"1.19.0\\\", \\\"azureml-contrib-interpret\\\": \\\"1.19.0\\\", \\\"azureml-contrib-gbdt\\\": \\\"1.19.0\\\", \\\"azureml-contrib-fairness\\\": \\\"1.19.0\\\", \\\"azureml-contrib-dataset\\\": \\\"1.19.0\\\", \\\"azureml-cli-common\\\": \\\"1.19.0\\\", \\\"azureml-automl-runtime\\\": \\\"1.20.0\\\", \\\"azureml-automl-core\\\": \\\"1.20.0\\\", \\\"azureml-accel-models\\\": \\\"1.19.0\\\"}\", \"_aml_system_scenario_identification\": \"Remote.Parent\", \"ClientType\": \"SDK\", \"environment_cpu_name\": \"AzureML-AutoML\", \"environment_cpu_label\": \"prod\", \"environment_gpu_name\": \"AzureML-AutoML-GPU\", \"environment_gpu_label\": \"prod\", \"root_attribution\": \"automl\", \"attribution\": \"AutoML\", \"Orchestrator\": \"AutoML\", \"CancelUri\": \"https://southcentralus.experiments.azureml.net/jasmine/v1.0/subscriptions/6b4af8be-9931-443e-90f6-c4c34a1f9737/resourceGroups/aml-quickstarts-135575/providers/Microsoft.MachineLearningServices/workspaces/quick-starts-ws-135575/experimentids/7d9c12a8-1475-4e25-a81c-615217e1676b/cancel/AutoML_44bf19f9-8522-4820-8221-ed309fa9485b\", \"ClientSdkVersion\": \"1.20.0\", \"snapshotId\": \"00000000-0000-0000-0000-000000000000\", \"SetupRunId\": \"AutoML_44bf19f9-8522-4820-8221-ed309fa9485b_setup\", \"SetupRunContainerId\": \"dcid.AutoML_44bf19f9-8522-4820-8221-ed309fa9485b_setup\", \"FeaturizationRunJsonPath\": \"featurizer_container.json\", \"FeaturizationRunId\": \"AutoML_44bf19f9-8522-4820-8221-ed309fa9485b_featurize\", \"ProblemInfoJsonString\": \"{\\\"dataset_num_categorical\\\": 0, \\\"is_sparse\\\": true, \\\"subsampling\\\": false, \\\"dataset_classes\\\": 2, \\\"dataset_features\\\": 74, \\\"dataset_samples\\\": 12330, \\\"single_frequency_class_detected\\\": false}\", \"ModelExplainRunId\": \"AutoML_44bf19f9-8522-4820-8221-ed309fa9485b_ModelExplain\"}, \"tags\": {\"model_explain_run\": \"best_run\", \"_aml_system_azureml.automlComponent\": \"AutoML\", \"pipeline_id\": \"\", \"score\": \"\", \"predicted_cost\": \"\", \"fit_time\": \"\", \"training_percent\": \"\", \"iteration\": \"\", \"run_preprocessor\": \"\", \"run_algorithm\": \"\", \"dynamic_whitelisting_iterations\": \"<25>;<30>;<35>;\", \"automl_best_child_run_id\": \"AutoML_44bf19f9-8522-4820-8221-ed309fa9485b_38\", \"model_explain_best_run_child_id\": \"AutoML_44bf19f9-8522-4820-8221-ed309fa9485b_38\"}, \"end_time_utc\": \"2021-01-21T12:11:19.548375Z\", \"status\": \"Completed\", \"log_files\": {}, \"log_groups\": [], \"run_duration\": \"0:29:11\"}, \"child_runs\": [{\"run_id\": \"AutoML_44bf19f9-8522-4820-8221-ed309fa9485b_0\", \"run_number\": 54, \"metric\": null, \"status\": \"Completed\", \"run_type\": \"azureml.scriptrun\", \"training_percent\": \"100\", \"start_time\": \"2021-01-21T11:54:49.879491Z\", \"end_time\": \"2021-01-21T11:55:31.804495Z\", \"created_time\": \"2021-01-21T11:54:38.34563Z\", \"created_time_dt\": \"2021-01-21T11:54:38.34563Z\", \"duration\": \"0:00:53\", \"iteration\": \"0\", \"goal\": \"accuracy_max\", \"run_name\": \"MaxAbsScaler, LightGBM\", \"run_properties\": \"copy=True\", \"primary_metric\": 0.90016221, \"best_metric\": 0.90016221}, {\"run_id\": \"AutoML_44bf19f9-8522-4820-8221-ed309fa9485b_2\", \"run_number\": 55, \"metric\": null, \"status\": \"Completed\", \"run_type\": \"azureml.scriptrun\", \"training_percent\": \"100\", \"start_time\": \"2021-01-21T11:55:37.714312Z\", \"end_time\": \"2021-01-21T11:56:22.744203Z\", \"created_time\": \"2021-01-21T11:54:38.499773Z\", \"created_time_dt\": \"2021-01-21T11:54:38.499773Z\", \"duration\": \"0:01:44\", \"iteration\": \"2\", \"goal\": \"accuracy_max\", \"run_name\": \"MaxAbsScaler, RandomForest\", \"run_properties\": \"copy=True\", \"primary_metric\": 0.8567721, \"best_metric\": 0.90519059}, {\"run_id\": \"AutoML_44bf19f9-8522-4820-8221-ed309fa9485b_1\", \"run_number\": 56, \"metric\": null, \"status\": \"Completed\", \"run_type\": \"azureml.scriptrun\", \"training_percent\": \"100\", \"start_time\": \"2021-01-21T11:58:09.484536Z\", \"end_time\": \"2021-01-21T11:58:54.145609Z\", \"created_time\": \"2021-01-21T11:54:38.527229Z\", \"created_time_dt\": \"2021-01-21T11:54:38.527229Z\", \"duration\": \"0:04:15\", \"iteration\": \"1\", \"goal\": \"accuracy_max\", \"run_name\": \"MaxAbsScaler, XGBoostClassifier\", \"run_properties\": \"copy=True\", \"primary_metric\": 0.90519059, \"best_metric\": 0.90519059}, {\"run_id\": \"AutoML_44bf19f9-8522-4820-8221-ed309fa9485b_3\", \"run_number\": 57, \"metric\": null, \"status\": \"Completed\", \"run_type\": \"azureml.scriptrun\", \"training_percent\": \"100\", \"start_time\": \"2021-01-21T11:57:14.560224Z\", \"end_time\": \"2021-01-21T11:58:02.315823Z\", \"created_time\": \"2021-01-21T11:54:38.671822Z\", \"created_time_dt\": \"2021-01-21T11:54:38.671822Z\", \"duration\": \"0:03:23\", \"iteration\": \"3\", \"goal\": \"accuracy_max\", \"run_name\": \"MaxAbsScaler, RandomForest\", \"run_properties\": \"copy=True\", \"primary_metric\": 0.84541768, \"best_metric\": 0.90519059}, {\"run_id\": \"AutoML_44bf19f9-8522-4820-8221-ed309fa9485b_4\", \"run_number\": 58, \"metric\": null, \"status\": \"Completed\", \"run_type\": \"azureml.scriptrun\", \"training_percent\": \"100\", \"start_time\": \"2021-01-21T11:56:21.97563Z\", \"end_time\": \"2021-01-21T11:57:13.38435Z\", \"created_time\": \"2021-01-21T11:54:38.86889Z\", \"created_time_dt\": \"2021-01-21T11:54:38.86889Z\", \"duration\": \"0:02:34\", \"iteration\": \"4\", \"goal\": \"accuracy_max\", \"run_name\": \"MaxAbsScaler, RandomForest\", \"run_properties\": \"copy=True\", \"primary_metric\": 0.82400649, \"best_metric\": 0.90519059}, {\"run_id\": \"AutoML_44bf19f9-8522-4820-8221-ed309fa9485b_5\", \"run_number\": 59, \"metric\": null, \"status\": \"Completed\", \"run_type\": \"azureml.scriptrun\", \"training_percent\": \"100\", \"start_time\": \"2021-01-21T11:58:15.422371Z\", \"end_time\": \"2021-01-21T12:04:30.339346Z\", \"created_time\": \"2021-01-21T11:55:35.055968Z\", \"created_time_dt\": \"2021-01-21T11:55:35.055968Z\", \"duration\": \"0:08:55\", \"iteration\": \"5\", \"goal\": \"accuracy_max\", \"run_name\": \"MaxAbsScaler, RandomForest\", \"run_properties\": \"copy=True\", \"primary_metric\": 0.77080292, \"best_metric\": 0.90519059}, {\"run_id\": \"AutoML_44bf19f9-8522-4820-8221-ed309fa9485b_6\", \"run_number\": 60, \"metric\": null, \"status\": \"Completed\", \"run_type\": \"azureml.scriptrun\", \"training_percent\": \"100\", \"start_time\": \"2021-01-21T11:58:19.582225Z\", \"end_time\": \"2021-01-21T12:03:43.757026Z\", \"created_time\": \"2021-01-21T11:56:28.094929Z\", \"created_time_dt\": \"2021-01-21T11:56:28.094929Z\", \"duration\": \"0:07:15\", \"iteration\": \"6\", \"goal\": \"accuracy_max\", \"run_name\": \"SparseNormalizer, XGBoostClassifier\", \"run_properties\": \"<azureml.automl.runtime.shared.model_wrappers.SparseNormalizer object at 0x7f47deceef28\", \"primary_metric\": 0.90040552, \"best_metric\": 0.90519059}, {\"run_id\": \"AutoML_44bf19f9-8522-4820-8221-ed309fa9485b_7\", \"run_number\": 61, \"metric\": null, \"status\": \"Completed\", \"run_type\": \"azureml.scriptrun\", \"training_percent\": \"100\", \"start_time\": \"2021-01-21T11:58:15.163859Z\", \"end_time\": \"2021-01-21T12:03:36.528732Z\", \"created_time\": \"2021-01-21T11:57:17.986659Z\", \"created_time_dt\": \"2021-01-21T11:57:17.986659Z\", \"duration\": \"0:06:18\", \"iteration\": \"7\", \"goal\": \"accuracy_max\", \"run_name\": \"SparseNormalizer, XGBoostClassifier\", \"run_properties\": \"<azureml.automl.runtime.shared.model_wrappers.SparseNormalizer object at 0x7f18e5c16198\", \"primary_metric\": 0.90227088, \"best_metric\": 0.90519059}, {\"run_id\": \"AutoML_44bf19f9-8522-4820-8221-ed309fa9485b_8\", \"run_number\": 62, \"metric\": null, \"status\": \"Completed\", \"run_type\": \"azureml.scriptrun\", \"training_percent\": \"100\", \"start_time\": \"2021-01-21T11:58:57.047967Z\", \"end_time\": \"2021-01-21T11:59:47.743718Z\", \"created_time\": \"2021-01-21T11:58:06.289749Z\", \"created_time_dt\": \"2021-01-21T11:58:06.289749Z\", \"duration\": \"0:01:41\", \"iteration\": \"8\", \"goal\": \"accuracy_max\", \"run_name\": \"SparseNormalizer, XGBoostClassifier\", \"run_properties\": \"<azureml.automl.runtime.shared.model_wrappers.SparseNormalizer object at 0x7f818146d588\", \"primary_metric\": 0.89805353, \"best_metric\": 0.90519059}, {\"run_id\": \"AutoML_44bf19f9-8522-4820-8221-ed309fa9485b_9\", \"run_number\": 63, \"metric\": null, \"status\": \"Completed\", \"run_type\": \"azureml.scriptrun\", \"training_percent\": \"100\", \"start_time\": \"2021-01-21T11:59:51.820559Z\", \"end_time\": \"2021-01-21T12:00:46.350019Z\", \"created_time\": \"2021-01-21T11:58:58.572091Z\", \"created_time_dt\": \"2021-01-21T11:58:58.572091Z\", \"duration\": \"0:01:47\", \"iteration\": \"9\", \"goal\": \"accuracy_max\", \"run_name\": \"SparseNormalizer, XGBoostClassifier\", \"run_properties\": \"<azureml.automl.runtime.shared.model_wrappers.SparseNormalizer object at 0x7f06e9a23cc0\", \"primary_metric\": 0.90162206, \"best_metric\": 0.90519059}, {\"run_id\": \"AutoML_44bf19f9-8522-4820-8221-ed309fa9485b_10\", \"run_number\": 64, \"metric\": null, \"status\": \"Completed\", \"run_type\": \"azureml.scriptrun\", \"training_percent\": \"100\", \"start_time\": \"2021-01-21T12:00:49.220734Z\", \"end_time\": \"2021-01-21T12:01:48.444102Z\", \"created_time\": \"2021-01-21T11:59:51.131187Z\", \"created_time_dt\": \"2021-01-21T11:59:51.131187Z\", \"duration\": \"0:01:57\", \"iteration\": \"10\", \"goal\": \"accuracy_max\", \"run_name\": \"MaxAbsScaler, RandomForest\", \"run_properties\": \"copy=True\", \"primary_metric\": 0.84525547, \"best_metric\": 0.90519059}, {\"run_id\": \"AutoML_44bf19f9-8522-4820-8221-ed309fa9485b_11\", \"run_number\": 65, \"metric\": null, \"status\": \"Completed\", \"run_type\": \"azureml.scriptrun\", \"training_percent\": \"100\", \"start_time\": \"2021-01-21T12:01:54.218974Z\", \"end_time\": \"2021-01-21T12:02:36.459568Z\", \"created_time\": \"2021-01-21T12:00:49.681222Z\", \"created_time_dt\": \"2021-01-21T12:00:49.681222Z\", \"duration\": \"0:01:46\", \"iteration\": \"11\", \"goal\": \"accuracy_max\", \"run_name\": \"SparseNormalizer, LightGBM\", \"run_properties\": \"<azureml.automl.runtime.shared.model_wrappers.SparseNormalizer object at 0x7fcfcccd49e8\", \"primary_metric\": 0.90210868, \"best_metric\": 0.90519059}, {\"run_id\": \"AutoML_44bf19f9-8522-4820-8221-ed309fa9485b_12\", \"run_number\": 66, \"metric\": null, \"status\": \"Completed\", \"run_type\": \"azureml.scriptrun\", \"training_percent\": \"100\", \"start_time\": \"2021-01-21T12:02:41.692665Z\", \"end_time\": \"2021-01-21T12:03:33.635831Z\", \"created_time\": \"2021-01-21T12:01:51.64681Z\", \"created_time_dt\": \"2021-01-21T12:01:51.64681Z\", \"duration\": \"0:01:41\", \"iteration\": \"12\", \"goal\": \"accuracy_max\", \"run_name\": \"SparseNormalizer, XGBoostClassifier\", \"run_properties\": \"<azureml.automl.runtime.shared.model_wrappers.SparseNormalizer object at 0x7f4518c98e80\", \"primary_metric\": 0.88742903, \"best_metric\": 0.90519059}, {\"run_id\": \"AutoML_44bf19f9-8522-4820-8221-ed309fa9485b_13\", \"run_number\": 67, \"metric\": null, \"status\": \"Completed\", \"run_type\": \"azureml.scriptrun\", \"training_percent\": \"100\", \"start_time\": \"2021-01-21T12:03:36.405349Z\", \"end_time\": \"2021-01-21T12:04:17.541375Z\", \"created_time\": \"2021-01-21T12:02:40.022207Z\", \"created_time_dt\": \"2021-01-21T12:02:40.022207Z\", \"duration\": \"0:01:37\", \"iteration\": \"13\", \"goal\": \"accuracy_max\", \"run_name\": \"MaxAbsScaler, LightGBM\", \"run_properties\": \"copy=True\", \"primary_metric\": 0.88523925, \"best_metric\": 0.90519059}, {\"run_id\": \"AutoML_44bf19f9-8522-4820-8221-ed309fa9485b_14\", \"run_number\": 68, \"metric\": null, \"status\": \"Completed\", \"run_type\": \"azureml.scriptrun\", \"training_percent\": \"100\", \"start_time\": \"2021-01-21T12:03:50.579348Z\", \"end_time\": \"2021-01-21T12:05:04.562775Z\", \"created_time\": \"2021-01-21T12:03:36.857484Z\", \"created_time_dt\": \"2021-01-21T12:03:36.857484Z\", \"duration\": \"0:01:27\", \"iteration\": \"14\", \"goal\": \"accuracy_max\", \"run_name\": \"MaxAbsScaler, LogisticRegression\", \"run_properties\": \"copy=True\", \"primary_metric\": 0.88004866, \"best_metric\": 0.90519059}, {\"run_id\": \"AutoML_44bf19f9-8522-4820-8221-ed309fa9485b_15\", \"run_number\": 69, \"metric\": null, \"status\": \"Completed\", \"run_type\": \"azureml.scriptrun\", \"training_percent\": \"100\", \"start_time\": \"2021-01-21T12:03:55.185874Z\", \"end_time\": \"2021-01-21T12:04:36.893718Z\", \"created_time\": \"2021-01-21T12:03:43.543436Z\", \"created_time_dt\": \"2021-01-21T12:03:43.543436Z\", \"duration\": \"0:00:53\", \"iteration\": \"15\", \"goal\": \"accuracy_max\", \"run_name\": \"StandardScalerWrapper, LogisticRegression\", \"run_properties\": \"<azureml.automl.runtime.shared.model_wrappers.StandardScalerWrapper object at 0x7f8e2a6a2048\", \"primary_metric\": 0.88426602, \"best_metric\": 0.90519059}, {\"run_id\": \"AutoML_44bf19f9-8522-4820-8221-ed309fa9485b_16\", \"run_number\": 70, \"metric\": null, \"status\": \"Completed\", \"run_type\": \"azureml.scriptrun\", \"training_percent\": \"100\", \"start_time\": \"2021-01-21T12:04:21.134361Z\", \"end_time\": \"2021-01-21T12:05:12.283403Z\", \"created_time\": \"2021-01-21T12:03:49.658198Z\", \"created_time_dt\": \"2021-01-21T12:03:49.658198Z\", \"duration\": \"0:01:22\", \"iteration\": \"16\", \"goal\": \"accuracy_max\", \"run_name\": \"MaxAbsScaler, GradientBoosting\", \"run_properties\": \"copy=True\", \"primary_metric\": 0.89764801, \"best_metric\": 0.90519059}, {\"run_id\": \"AutoML_44bf19f9-8522-4820-8221-ed309fa9485b_17\", \"run_number\": 71, \"metric\": null, \"status\": \"Completed\", \"run_type\": \"azureml.scriptrun\", \"training_percent\": \"100\", \"start_time\": \"2021-01-21T12:04:31.189267Z\", \"end_time\": \"2021-01-21T12:05:17.496252Z\", \"created_time\": \"2021-01-21T12:04:20.178137Z\", \"created_time_dt\": \"2021-01-21T12:04:20.178137Z\", \"duration\": \"0:00:57\", \"iteration\": \"17\", \"goal\": \"accuracy_max\", \"run_name\": \"StandardScalerWrapper, LightGBM\", \"run_properties\": \"<azureml.automl.runtime.shared.model_wrappers.StandardScalerWrapper object at 0x7f25a5549358\", \"primary_metric\": 0.9053528, \"best_metric\": 0.9053528}, {\"run_id\": \"AutoML_44bf19f9-8522-4820-8221-ed309fa9485b_18\", \"run_number\": 72, \"metric\": null, \"status\": \"Completed\", \"run_type\": \"azureml.scriptrun\", \"training_percent\": \"100\", \"start_time\": \"2021-01-21T12:04:43.242207Z\", \"end_time\": \"2021-01-21T12:05:36.553702Z\", \"created_time\": \"2021-01-21T12:04:32.854625Z\", \"created_time_dt\": \"2021-01-21T12:04:32.854625Z\", \"duration\": \"0:01:03\", \"iteration\": \"18\", \"goal\": \"accuracy_max\", \"run_name\": \"SparseNormalizer, XGBoostClassifier\", \"run_properties\": \"<azureml.automl.runtime.shared.model_wrappers.SparseNormalizer object at 0x7fe2191f8390\", \"primary_metric\": 0.89837794, \"best_metric\": 0.9053528}, {\"run_id\": \"AutoML_44bf19f9-8522-4820-8221-ed309fa9485b_19\", \"run_number\": 73, \"metric\": null, \"status\": \"Completed\", \"run_type\": \"azureml.scriptrun\", \"training_percent\": \"100\", \"start_time\": \"2021-01-21T12:05:08.270353Z\", \"end_time\": \"2021-01-21T12:05:55.6482Z\", \"created_time\": \"2021-01-21T12:04:39.013878Z\", \"created_time_dt\": \"2021-01-21T12:04:39.013878Z\", \"duration\": \"0:01:16\", \"iteration\": \"19\", \"goal\": \"accuracy_max\", \"run_name\": \"SparseNormalizer, GradientBoosting\", \"run_properties\": \"<azureml.automl.runtime.shared.model_wrappers.SparseNormalizer object at 0x7fa55adf2978\", \"primary_metric\": 0.86674777, \"best_metric\": 0.9053528}, {\"run_id\": \"AutoML_44bf19f9-8522-4820-8221-ed309fa9485b_20\", \"run_number\": 74, \"metric\": null, \"status\": \"Completed\", \"run_type\": \"azureml.scriptrun\", \"training_percent\": \"100\", \"start_time\": \"2021-01-21T12:05:18.487476Z\", \"end_time\": \"2021-01-21T12:05:59.150179Z\", \"created_time\": \"2021-01-21T12:05:06.738796Z\", \"created_time_dt\": \"2021-01-21T12:05:06.738796Z\", \"duration\": \"0:00:52\", \"iteration\": \"20\", \"goal\": \"accuracy_max\", \"run_name\": \"SparseNormalizer, XGBoostClassifier\", \"run_properties\": \"<azureml.automl.runtime.shared.model_wrappers.SparseNormalizer object at 0x7efc706d4358\", \"primary_metric\": 0.89918897, \"best_metric\": 0.9053528}, {\"run_id\": \"AutoML_44bf19f9-8522-4820-8221-ed309fa9485b_21\", \"run_number\": 75, \"metric\": null, \"status\": \"Completed\", \"run_type\": \"azureml.scriptrun\", \"training_percent\": \"100\", \"start_time\": \"2021-01-21T12:05:25.731232Z\", \"end_time\": \"2021-01-21T12:06:01.943178Z\", \"created_time\": \"2021-01-21T12:05:14.51921Z\", \"created_time_dt\": \"2021-01-21T12:05:14.51921Z\", \"duration\": \"0:00:47\", \"iteration\": \"21\", \"goal\": \"accuracy_max\", \"run_name\": \"MaxAbsScaler, LightGBM\", \"run_properties\": \"copy=True\", \"primary_metric\": 0.84525547, \"best_metric\": 0.9053528}, {\"run_id\": \"AutoML_44bf19f9-8522-4820-8221-ed309fa9485b_22\", \"run_number\": 76, \"metric\": null, \"status\": \"Completed\", \"run_type\": \"azureml.scriptrun\", \"training_percent\": \"100\", \"start_time\": \"2021-01-21T12:05:38.397374Z\", \"end_time\": \"2021-01-21T12:06:29.210107Z\", \"created_time\": \"2021-01-21T12:05:19.701534Z\", \"created_time_dt\": \"2021-01-21T12:05:19.701534Z\", \"duration\": \"0:01:09\", \"iteration\": \"22\", \"goal\": \"accuracy_max\", \"run_name\": \"SparseNormalizer, XGBoostClassifier\", \"run_properties\": \"<azureml.automl.runtime.shared.model_wrappers.SparseNormalizer object at 0x7fd5f98cd048\", \"primary_metric\": 0.89870235, \"best_metric\": 0.9053528}, {\"run_id\": \"AutoML_44bf19f9-8522-4820-8221-ed309fa9485b_23\", \"run_number\": 77, \"metric\": null, \"status\": \"Completed\", \"run_type\": \"azureml.scriptrun\", \"training_percent\": \"100\", \"start_time\": \"2021-01-21T12:06:00.010076Z\", \"end_time\": \"2021-01-21T12:06:48.462287Z\", \"created_time\": \"2021-01-21T12:05:38.738666Z\", \"created_time_dt\": \"2021-01-21T12:05:38.738666Z\", \"duration\": \"0:01:09\", \"iteration\": \"23\", \"goal\": \"accuracy_max\", \"run_name\": \"MaxAbsScaler, LightGBM\", \"run_properties\": \"copy=True\", \"primary_metric\": 0.90405515, \"best_metric\": 0.9053528}, {\"run_id\": \"AutoML_44bf19f9-8522-4820-8221-ed309fa9485b_24\", \"run_number\": 78, \"metric\": null, \"status\": \"Completed\", \"run_type\": \"azureml.scriptrun\", \"training_percent\": \"100\", \"start_time\": \"2021-01-21T12:06:10.421341Z\", \"end_time\": \"2021-01-21T12:06:58.931209Z\", \"created_time\": \"2021-01-21T12:05:57.92269Z\", \"created_time_dt\": \"2021-01-21T12:05:57.92269Z\", \"duration\": \"0:01:01\", \"iteration\": \"24\", \"goal\": \"accuracy_max\", \"run_name\": \"StandardScalerWrapper, ExtremeRandomTrees\", \"run_properties\": \"<azureml.automl.runtime.shared.model_wrappers.StandardScalerWrapper object at 0x7f2400264358\", \"primary_metric\": 0.84525547, \"best_metric\": 0.9053528}, {\"run_id\": \"AutoML_44bf19f9-8522-4820-8221-ed309fa9485b_25\", \"run_number\": 79, \"metric\": null, \"status\": \"Completed\", \"run_type\": \"azureml.scriptrun\", \"training_percent\": \"100\", \"start_time\": \"2021-01-21T12:06:14.303771Z\", \"end_time\": \"2021-01-21T12:07:04.69697Z\", \"created_time\": \"2021-01-21T12:06:03.336236Z\", \"created_time_dt\": \"2021-01-21T12:06:03.336236Z\", \"duration\": \"0:01:01\", \"iteration\": \"25\", \"goal\": \"accuracy_max\", \"run_name\": \"StandardScalerWrapper, LightGBM\", \"run_properties\": \"<azureml.automl.runtime.shared.model_wrappers.StandardScalerWrapper object at 0x7fa7f7f0cc50\", \"primary_metric\": 0.84525547, \"best_metric\": 0.9053528}, {\"run_id\": \"AutoML_44bf19f9-8522-4820-8221-ed309fa9485b_26\", \"run_number\": 80, \"metric\": null, \"status\": \"Completed\", \"run_type\": \"azureml.scriptrun\", \"training_percent\": \"100\", \"start_time\": \"2021-01-21T12:06:34.314754Z\", \"end_time\": \"2021-01-21T12:07:44.563979Z\", \"created_time\": \"2021-01-21T12:06:07.701941Z\", \"created_time_dt\": \"2021-01-21T12:06:07.701941Z\", \"duration\": \"0:01:36\", \"iteration\": \"26\", \"goal\": \"accuracy_max\", \"run_name\": \"MaxAbsScaler, ExtremeRandomTrees\", \"run_properties\": \"copy=True\", \"primary_metric\": 0.84525547, \"best_metric\": 0.9053528}, {\"run_id\": \"AutoML_44bf19f9-8522-4820-8221-ed309fa9485b_27\", \"run_number\": 81, \"metric\": null, \"status\": \"Completed\", \"run_type\": \"azureml.scriptrun\", \"training_percent\": \"100\", \"start_time\": \"2021-01-21T12:06:50.3919Z\", \"end_time\": \"2021-01-21T12:07:35.090189Z\", \"created_time\": \"2021-01-21T12:06:31.488001Z\", \"created_time_dt\": \"2021-01-21T12:06:31.488001Z\", \"duration\": \"0:01:03\", \"iteration\": \"27\", \"goal\": \"accuracy_max\", \"run_name\": \"StandardScalerWrapper, ExtremeRandomTrees\", \"run_properties\": \"<azureml.automl.runtime.shared.model_wrappers.StandardScalerWrapper object at 0x7fbf412db518\", \"primary_metric\": 0.84525547, \"best_metric\": 0.9053528}, {\"run_id\": \"AutoML_44bf19f9-8522-4820-8221-ed309fa9485b_28\", \"run_number\": 82, \"metric\": null, \"status\": \"Completed\", \"run_type\": \"azureml.scriptrun\", \"training_percent\": \"100\", \"start_time\": \"2021-01-21T12:07:03.185307Z\", \"end_time\": \"2021-01-21T12:08:23.01388Z\", \"created_time\": \"2021-01-21T12:06:50.856711Z\", \"created_time_dt\": \"2021-01-21T12:06:50.856711Z\", \"duration\": \"0:01:32\", \"iteration\": \"28\", \"goal\": \"accuracy_max\", \"run_name\": \"SparseNormalizer, ExtremeRandomTrees\", \"run_properties\": \"<azureml.automl.runtime.shared.model_wrappers.SparseNormalizer object at 0x7efc6a250390\", \"primary_metric\": 0.84768856, \"best_metric\": 0.9053528}, {\"run_id\": \"AutoML_44bf19f9-8522-4820-8221-ed309fa9485b_29\", \"run_number\": 83, \"metric\": null, \"status\": \"Completed\", \"run_type\": \"azureml.scriptrun\", \"training_percent\": \"100\", \"start_time\": \"2021-01-21T12:07:13.967264Z\", \"end_time\": \"2021-01-21T12:07:56.936902Z\", \"created_time\": \"2021-01-21T12:07:01.237262Z\", \"created_time_dt\": \"2021-01-21T12:07:01.237262Z\", \"duration\": \"0:00:55\", \"iteration\": \"29\", \"goal\": \"accuracy_max\", \"run_name\": \"SparseNormalizer, XGBoostClassifier\", \"run_properties\": \"<azureml.automl.runtime.shared.model_wrappers.SparseNormalizer object at 0x7fba62b25a90\", \"primary_metric\": 0.89845904, \"best_metric\": 0.9053528}, {\"run_id\": \"AutoML_44bf19f9-8522-4820-8221-ed309fa9485b_30\", \"run_number\": 84, \"metric\": null, \"status\": \"Completed\", \"run_type\": \"azureml.scriptrun\", \"training_percent\": \"100\", \"start_time\": \"2021-01-21T12:07:36.314492Z\", \"end_time\": \"2021-01-21T12:08:23.918902Z\", \"created_time\": \"2021-01-21T12:07:07.809656Z\", \"created_time_dt\": \"2021-01-21T12:07:07.809656Z\", \"duration\": \"0:01:16\", \"iteration\": \"30\", \"goal\": \"accuracy_max\", \"run_name\": \"TruncatedSVDWrapper, LightGBM\", \"run_properties\": \"n_components=0.45526315789473687, random_state=None\", \"primary_metric\": 0.84525547, \"best_metric\": 0.9053528}, {\"run_id\": \"AutoML_44bf19f9-8522-4820-8221-ed309fa9485b_31\", \"run_number\": 85, \"metric\": null, \"status\": \"Completed\", \"run_type\": \"azureml.scriptrun\", \"training_percent\": \"100\", \"start_time\": \"2021-01-21T12:07:49.307722Z\", \"end_time\": \"2021-01-21T12:08:31.086124Z\", \"created_time\": \"2021-01-21T12:07:37.486627Z\", \"created_time_dt\": \"2021-01-21T12:07:37.486627Z\", \"duration\": \"0:00:53\", \"iteration\": \"31\", \"goal\": \"accuracy_max\", \"run_name\": \"SparseNormalizer, XGBoostClassifier\", \"run_properties\": \"<azureml.automl.runtime.shared.model_wrappers.SparseNormalizer object at 0x7f3572cc3780\", \"primary_metric\": 0.90162206, \"best_metric\": 0.9053528}, {\"run_id\": \"AutoML_44bf19f9-8522-4820-8221-ed309fa9485b_32\", \"run_number\": 86, \"metric\": null, \"status\": \"Completed\", \"run_type\": \"azureml.scriptrun\", \"training_percent\": \"100\", \"start_time\": \"2021-01-21T12:07:59.747198Z\", \"end_time\": \"2021-01-21T12:08:48.538713Z\", \"created_time\": \"2021-01-21T12:07:46.778385Z\", \"created_time_dt\": \"2021-01-21T12:07:46.778385Z\", \"duration\": \"0:01:01\", \"iteration\": \"32\", \"goal\": \"accuracy_max\", \"run_name\": \"SparseNormalizer, LightGBM\", \"run_properties\": \"<azureml.automl.runtime.shared.model_wrappers.SparseNormalizer object at 0x7fc3f8e6b5c0\", \"primary_metric\": 0.90170316, \"best_metric\": 0.9053528}, {\"run_id\": \"AutoML_44bf19f9-8522-4820-8221-ed309fa9485b_33\", \"run_number\": 87, \"metric\": null, \"status\": \"Completed\", \"run_type\": \"azureml.scriptrun\", \"training_percent\": \"100\", \"start_time\": \"2021-01-21T12:08:28.662918Z\", \"end_time\": \"2021-01-21T12:09:16.290719Z\", \"created_time\": \"2021-01-21T12:07:59.149135Z\", \"created_time_dt\": \"2021-01-21T12:07:59.149135Z\", \"duration\": \"0:01:17\", \"iteration\": \"33\", \"goal\": \"accuracy_max\", \"run_name\": \"MaxAbsScaler, LightGBM\", \"run_properties\": \"copy=True\", \"primary_metric\": 0.90486618, \"best_metric\": 0.9053528}, {\"run_id\": \"AutoML_44bf19f9-8522-4820-8221-ed309fa9485b_34\", \"run_number\": 88, \"metric\": null, \"status\": \"Canceled\", \"run_type\": \"azureml.scriptrun\", \"training_percent\": \"100\", \"start_time\": \"2021-01-21T12:08:37.380951Z\", \"end_time\": \"2021-01-21T12:09:25.325292Z\", \"created_time\": \"2021-01-21T12:08:25.208896Z\", \"created_time_dt\": \"2021-01-21T12:08:25.208896Z\", \"duration\": \"0:01:00\", \"iteration\": \"34\", \"goal\": \"accuracy_max\", \"run_name\": \"MaxAbsScaler, RandomForest\", \"run_properties\": \"copy=True\", \"primary_metric\": 0.89975669, \"best_metric\": 0.9053528}, {\"run_id\": \"AutoML_44bf19f9-8522-4820-8221-ed309fa9485b_35\", \"run_number\": 89, \"metric\": null, \"status\": \"Canceled\", \"run_type\": \"azureml.scriptrun\", \"training_percent\": \"100\", \"start_time\": \"2021-01-21T12:08:43.482767Z\", \"end_time\": \"2021-01-21T12:09:23.908548Z\", \"created_time\": \"2021-01-21T12:08:30.645891Z\", \"created_time_dt\": \"2021-01-21T12:08:30.645891Z\", \"duration\": \"0:00:53\", \"iteration\": \"35\", \"goal\": \"accuracy_max\", \"run_name\": \"StandardScalerWrapper, LightGBM\", \"run_properties\": \"<azureml.automl.runtime.shared.model_wrappers.StandardScalerWrapper object at 0x7f778edb7860\", \"primary_metric\": 0.84525547, \"best_metric\": 0.9053528}, {\"run_id\": \"AutoML_44bf19f9-8522-4820-8221-ed309fa9485b_36\", \"run_number\": 90, \"metric\": null, \"status\": \"Canceled\", \"run_type\": \"azureml.scriptrun\", \"training_percent\": \"100\", \"start_time\": \"2021-01-21T12:08:54.935862Z\", \"end_time\": \"2021-01-21T12:09:25.019496Z\", \"created_time\": \"2021-01-21T12:08:35.771133Z\", \"created_time_dt\": \"2021-01-21T12:08:35.771133Z\", \"duration\": \"0:00:49\", \"iteration\": \"36\", \"goal\": null, \"run_name\": \"SparseNormalizer, XGBoostClassifier\", \"run_properties\": null}, {\"run_id\": \"AutoML_44bf19f9-8522-4820-8221-ed309fa9485b_37\", \"run_number\": 91, \"metric\": null, \"status\": \"Canceled\", \"run_type\": \"azureml.scriptrun\", \"training_percent\": \"100\", \"start_time\": \"2021-01-21T12:08:50.753678Z\", \"end_time\": \"2021-01-21T12:09:25.223401Z\", \"created_time\": \"2021-01-21T12:08:50.753678Z\", \"created_time_dt\": \"2021-01-21T12:08:50.753678Z\", \"duration\": \"0:00:34\", \"iteration\": \"37\", \"goal\": null, \"run_name\": \"Canceled\", \"run_properties\": null}, {\"run_id\": \"AutoML_44bf19f9-8522-4820-8221-ed309fa9485b_38\", \"run_number\": 92, \"metric\": null, \"status\": \"Completed\", \"run_type\": \"azureml.scriptrun\", \"training_percent\": \"100\", \"start_time\": \"2021-01-21T12:09:37.477149Z\", \"end_time\": \"2021-01-21T12:11:09.840909Z\", \"created_time\": \"2021-01-21T12:09:26.949252Z\", \"created_time_dt\": \"2021-01-21T12:09:26.949252Z\", \"duration\": \"0:01:42\", \"iteration\": \"38\", \"goal\": \"accuracy_max\", \"run_name\": \"VotingEnsemble\", \"run_properties\": \"classification_labels=None,\\n                              estimators=[('17',\\n                                           Pipeline(memory=None,\\n                                                    steps=[('standardscalerwrapper',\\n                                                            <azureml.automl.runtime.shared.model_wrappers.StandardScalerWrapper object at 0x7f5a540987b8>\", \"primary_metric\": 0.90665045, \"best_metric\": 0.90665045}, {\"run_id\": \"AutoML_44bf19f9-8522-4820-8221-ed309fa9485b_39\", \"run_number\": 93, \"metric\": null, \"status\": \"Completed\", \"run_type\": \"azureml.scriptrun\", \"training_percent\": \"100\", \"start_time\": \"2021-01-21T12:09:37.952328Z\", \"end_time\": \"2021-01-21T12:11:03.311502Z\", \"created_time\": \"2021-01-21T12:09:26.981262Z\", \"created_time_dt\": \"2021-01-21T12:09:26.981262Z\", \"duration\": \"0:01:36\", \"iteration\": \"39\", \"goal\": \"accuracy_max\", \"run_name\": \"StackEnsemble\", \"run_properties\": \"base_learners=[('17',\\n                                        Pipeline(memory=None,\\n                                                 steps=[('standardscalerwrapper',\\n                                                         <azureml.automl.runtime.shared.model_wrappers.StandardScalerWrapper object at 0x7fb9e035a588>\", \"primary_metric\": 0.90600162, \"best_metric\": 0.90665045}], \"children_metrics\": {\"categories\": [0], \"series\": {\"average_precision_score_macro\": [{\"categories\": [\"0\", \"1\", \"2\", \"3\", \"4\", \"5\", \"6\", \"7\", \"8\", \"9\", \"10\", \"11\", \"12\", \"13\", \"14\", \"15\", \"16\", \"17\", \"18\", \"19\", \"20\", \"21\", \"22\", \"23\", \"24\", \"25\", \"26\", \"27\", \"28\", \"29\", \"30\", \"31\", \"32\", \"33\", \"34\", \"35\", \"38\", \"39\"], \"mode\": \"markers\", \"name\": \"average_precision_score_macro\", \"stepped\": false, \"type\": \"scatter\", \"data\": [0.861599501682337, 0.86783193820032, 0.8176806086210853, 0.7785900050566315, 0.7773513899873468, 0.7441633825283208, 0.8587021158919329, 0.8644519868715942, 0.8593915730313233, 0.8643950478458948, 0.7873629439763711, 0.8547502398038073, 0.8348138253065072, 0.8506407809035376, 0.8001800899572933, 0.8067687275894818, 0.8332647117245688, 0.8686266523604033, 0.855475016266445, 0.8046037907913344, 0.8550499202756793, 0.7911235009713077, 0.8588091234028813, 0.860294417342168, 0.7167195818596114, 0.8172519293775165, 0.7735795213528025, 0.7567908758631443, 0.830775639204866, 0.8445220766765722, 0.7676151105798074, 0.8597637708680613, 0.8505304917297445, 0.8653934069513168, 0.8607598938393265, 0.8152669249147553, 0.870383831093613, 0.8701354427022444]}, {\"categories\": [\"0\", \"1\", \"2\", \"3\", \"4\", \"5\", \"6\", \"7\", \"8\", \"9\", \"10\", \"11\", \"12\", \"13\", \"14\", \"15\", \"16\", \"17\", \"18\", \"19\", \"20\", \"21\", \"22\", \"23\", \"24\", \"25\", \"26\", \"27\", \"28\", \"29\", \"30\", \"31\", \"32\", \"33\", \"34\", \"35\", \"38\", \"39\"], \"mode\": \"lines\", \"name\": \"average_precision_score_macro_max\", \"stepped\": true, \"type\": \"scatter\", \"data\": [0.861599501682337, 0.86783193820032, 0.86783193820032, 0.86783193820032, 0.86783193820032, 0.86783193820032, 0.86783193820032, 0.86783193820032, 0.86783193820032, 0.86783193820032, 0.86783193820032, 0.86783193820032, 0.86783193820032, 0.86783193820032, 0.86783193820032, 0.86783193820032, 0.86783193820032, 0.8686266523604033, 0.8686266523604033, 0.8686266523604033, 0.8686266523604033, 0.8686266523604033, 0.8686266523604033, 0.8686266523604033, 0.8686266523604033, 0.8686266523604033, 0.8686266523604033, 0.8686266523604033, 0.8686266523604033, 0.8686266523604033, 0.8686266523604033, 0.8686266523604033, 0.8686266523604033, 0.8686266523604033, 0.8686266523604033, 0.8686266523604033, 0.870383831093613, 0.870383831093613]}], \"weighted_accuracy\": [{\"categories\": [\"0\", \"1\", \"2\", \"3\", \"4\", \"5\", \"6\", \"7\", \"8\", \"9\", \"10\", \"11\", \"12\", \"13\", \"14\", \"15\", \"16\", \"17\", \"18\", \"19\", \"20\", \"21\", \"22\", \"23\", \"24\", \"25\", \"26\", \"27\", \"28\", \"29\", \"30\", \"31\", \"32\", \"33\", \"34\", \"35\", \"38\", \"39\"], \"mode\": \"markers\", \"name\": \"weighted_accuracy\", \"stepped\": false, \"type\": \"scatter\", \"data\": [0.9438921597272083, 0.9488002101585732, 0.9669181126316597, 0.9675328434675005, 0.8246913642115681, 0.7589444815313445, 0.9433961733589064, 0.9480230232075798, 0.9453315177477152, 0.9468240845343076, 0.9674987125732741, 0.9454216436310366, 0.9609489944922603, 0.9686476132374046, 0.959704696405475, 0.9567291742275043, 0.9445661911299766, 0.9511894672125738, 0.9438012342874901, 0.9625872094783592, 0.950919248711951, 0.9674229077502043, 0.9474260990837596, 0.944466075973161, 0.9674987125732741, 0.9674987125732741, 0.9674987125732741, 0.9674987125732741, 0.9677694831672762, 0.9394384252224306, 0.9674987125732741, 0.9452399180185216, 0.9461634208515365, 0.946152085368758, 0.940693790400862, 0.9674987125732741, 0.951071908145629, 0.950709944998422]}, {\"categories\": [\"0\", \"1\", \"2\", \"3\", \"4\", \"5\", \"6\", \"7\", \"8\", \"9\", \"10\", \"11\", \"12\", \"13\", \"14\", \"15\", \"16\", \"17\", \"18\", \"19\", \"20\", \"21\", \"22\", \"23\", \"24\", \"25\", \"26\", \"27\", \"28\", \"29\", \"30\", \"31\", \"32\", \"33\", \"34\", \"35\", \"38\", \"39\"], \"mode\": \"lines\", \"name\": \"weighted_accuracy_max\", \"stepped\": true, \"type\": \"scatter\", \"data\": [0.9438921597272083, 0.9488002101585732, 0.9669181126316597, 0.9675328434675005, 0.9675328434675005, 0.9675328434675005, 0.9675328434675005, 0.9675328434675005, 0.9675328434675005, 0.9675328434675005, 0.9675328434675005, 0.9675328434675005, 0.9675328434675005, 0.9686476132374046, 0.9686476132374046, 0.9686476132374046, 0.9686476132374046, 0.9686476132374046, 0.9686476132374046, 0.9686476132374046, 0.9686476132374046, 0.9686476132374046, 0.9686476132374046, 0.9686476132374046, 0.9686476132374046, 0.9686476132374046, 0.9686476132374046, 0.9686476132374046, 0.9686476132374046, 0.9686476132374046, 0.9686476132374046, 0.9686476132374046, 0.9686476132374046, 0.9686476132374046, 0.9686476132374046, 0.9686476132374046, 0.9686476132374046, 0.9686476132374046]}], \"recall_score_macro\": [{\"categories\": [\"0\", \"1\", \"2\", \"3\", \"4\", \"5\", \"6\", \"7\", \"8\", \"9\", \"10\", \"11\", \"12\", \"13\", \"14\", \"15\", \"16\", \"17\", \"18\", \"19\", \"20\", \"21\", \"22\", \"23\", \"24\", \"25\", \"26\", \"27\", \"28\", \"29\", \"30\", \"31\", \"32\", \"33\", \"34\", \"35\", \"38\", \"39\"], \"mode\": \"markers\", \"name\": \"recall_score_macro\", \"stepped\": false, \"type\": \"scatter\", \"data\": [0.77692834505401, 0.782398650768284, 0.546140293717091, 0.5005224660397074, 0.822511563991692, 0.8044343871285013, 0.7793742105398523, 0.7735058518882112, 0.7648717742864509, 0.7744333906139557, 0.5, 0.7800876151443928, 0.6790751343924631, 0.6501471408388285, 0.6551205362463807, 0.6796683739004212, 0.7655123616805826, 0.7762045409831186, 0.7704734412077975, 0.5945520030111392, 0.7527112544518988, 0.500213229947657, 0.7615348311803186, 0.7902616786774804, 0.5, 0.5, 0.5, 0.5, 0.5086676871733284, 0.7829589572360253, 0.5, 0.778892514737342, 0.7764927007165339, 0.7886677422429762, 0.7844229033382034, 0.5, 0.7816172679864851, 0.7801245474733068]}, {\"categories\": [\"0\", \"1\", \"2\", \"3\", \"4\", \"5\", \"6\", \"7\", \"8\", \"9\", \"10\", \"11\", \"12\", \"13\", \"14\", \"15\", \"16\", \"17\", \"18\", \"19\", \"20\", \"21\", \"22\", \"23\", \"24\", \"25\", \"26\", \"27\", \"28\", \"29\", \"30\", \"31\", \"32\", \"33\", \"34\", \"35\", \"38\", \"39\"], \"mode\": \"lines\", \"name\": \"recall_score_macro_max\", \"stepped\": true, \"type\": \"scatter\", \"data\": [0.77692834505401, 0.782398650768284, 0.782398650768284, 0.782398650768284, 0.822511563991692, 0.822511563991692, 0.822511563991692, 0.822511563991692, 0.822511563991692, 0.822511563991692, 0.822511563991692, 0.822511563991692, 0.822511563991692, 0.822511563991692, 0.822511563991692, 0.822511563991692, 0.822511563991692, 0.822511563991692, 0.822511563991692, 0.822511563991692, 0.822511563991692, 0.822511563991692, 0.822511563991692, 0.822511563991692, 0.822511563991692, 0.822511563991692, 0.822511563991692, 0.822511563991692, 0.822511563991692, 0.822511563991692, 0.822511563991692, 0.822511563991692, 0.822511563991692, 0.822511563991692, 0.822511563991692, 0.822511563991692, 0.822511563991692, 0.822511563991692]}], \"log_loss\": [{\"categories\": [\"0\", \"1\", \"2\", \"3\", \"4\", \"5\", \"6\", \"7\", \"8\", \"9\", \"10\", \"11\", \"12\", \"13\", \"14\", \"15\", \"16\", \"17\", \"18\", \"19\", \"20\", \"21\", \"22\", \"23\", \"24\", \"25\", \"26\", \"27\", \"28\", \"29\", \"30\", \"31\", \"32\", \"33\", \"34\", \"35\", \"38\", \"39\"], \"mode\": \"markers\", \"name\": \"log_loss\", \"stepped\": false, \"type\": \"scatter\", \"data\": [0.23210554876318376, 0.2255707563493307, 0.2884412732024822, 0.32421802677212164, 0.4799447582974313, 0.5177122029087325, 0.23194879529393417, 0.22763136880229715, 0.24873698608252984, 0.22910630409465801, 0.331936152139175, 0.24029753954954658, 0.3735173928350288, 0.2761796394058677, 0.29570779886292226, 0.2947199984540145, 0.24952109852478419, 0.22839517086696595, 0.2508921391251564, 0.29343405457688454, 0.3532710353780768, 0.339011797103933, 0.23415076640411647, 0.23205344992988342, 0.37826405693525916, 0.41620742675149125, 0.3408539408067514, 0.34798936117720913, 0.3072079325051652, 0.26421599001373886, 0.40103316370490383, 0.23333182222025428, 0.23895737975679462, 0.2262470363316522, 0.23014365094614045, 0.4308733558109689, 0.2266087483783482, 0.24033693561416025]}, {\"categories\": [\"0\", \"1\", \"2\", \"3\", \"4\", \"5\", \"6\", \"7\", \"8\", \"9\", \"10\", \"11\", \"12\", \"13\", \"14\", \"15\", \"16\", \"17\", \"18\", \"19\", \"20\", \"21\", \"22\", \"23\", \"24\", \"25\", \"26\", \"27\", \"28\", \"29\", \"30\", \"31\", \"32\", \"33\", \"34\", \"35\", \"38\", \"39\"], \"mode\": \"lines\", \"name\": \"log_loss_min\", \"stepped\": true, \"type\": \"scatter\", \"data\": [0.23210554876318376, 0.2255707563493307, 0.2255707563493307, 0.2255707563493307, 0.2255707563493307, 0.2255707563493307, 0.2255707563493307, 0.2255707563493307, 0.2255707563493307, 0.2255707563493307, 0.2255707563493307, 0.2255707563493307, 0.2255707563493307, 0.2255707563493307, 0.2255707563493307, 0.2255707563493307, 0.2255707563493307, 0.2255707563493307, 0.2255707563493307, 0.2255707563493307, 0.2255707563493307, 0.2255707563493307, 0.2255707563493307, 0.2255707563493307, 0.2255707563493307, 0.2255707563493307, 0.2255707563493307, 0.2255707563493307, 0.2255707563493307, 0.2255707563493307, 0.2255707563493307, 0.2255707563493307, 0.2255707563493307, 0.2255707563493307, 0.2255707563493307, 0.2255707563493307, 0.2255707563493307, 0.2255707563493307]}], \"recall_score_weighted\": [{\"categories\": [\"0\", \"1\", \"2\", \"3\", \"4\", \"5\", \"6\", \"7\", \"8\", \"9\", \"10\", \"11\", \"12\", \"13\", \"14\", \"15\", \"16\", \"17\", \"18\", \"19\", \"20\", \"21\", \"22\", \"23\", \"24\", \"25\", \"26\", \"27\", \"28\", \"29\", \"30\", \"31\", \"32\", \"33\", \"34\", \"35\", \"38\", \"39\"], \"mode\": \"markers\", \"name\": \"recall_score_weighted\", \"stepped\": false, \"type\": \"scatter\", \"data\": [0.9001622060016222, 0.9051905920519059, 0.856772100567721, 0.8454176804541769, 0.824006488240065, 0.7708029197080292, 0.9004055150040552, 0.9022708840227089, 0.8980535279805353, 0.9016220600162206, 0.8452554744525548, 0.9021086780210869, 0.8874290348742905, 0.8852392538523924, 0.8800486618004867, 0.8842660178426601, 0.8976480129764801, 0.905352798053528, 0.8983779399837794, 0.8667477696674778, 0.8991889699918897, 0.8452554744525548, 0.8987023519870235, 0.9040551500405515, 0.8452554744525548, 0.8452554744525548, 0.8452554744525548, 0.8452554744525548, 0.8476885644768858, 0.8984590429845905, 0.8452554744525548, 0.9016220600162206, 0.9017031630170317, 0.9048661800486618, 0.899756690997567, 0.8452554744525548, 0.9066504460665045, 0.9060016220600162]}, {\"categories\": [\"0\", \"1\", \"2\", \"3\", \"4\", \"5\", \"6\", \"7\", \"8\", \"9\", \"10\", \"11\", \"12\", \"13\", \"14\", \"15\", \"16\", \"17\", \"18\", \"19\", \"20\", \"21\", \"22\", \"23\", \"24\", \"25\", \"26\", \"27\", \"28\", \"29\", \"30\", \"31\", \"32\", \"33\", \"34\", \"35\", \"38\", \"39\"], \"mode\": \"lines\", \"name\": \"recall_score_weighted_max\", \"stepped\": true, \"type\": \"scatter\", \"data\": [0.9001622060016222, 0.9051905920519059, 0.9051905920519059, 0.9051905920519059, 0.9051905920519059, 0.9051905920519059, 0.9051905920519059, 0.9051905920519059, 0.9051905920519059, 0.9051905920519059, 0.9051905920519059, 0.9051905920519059, 0.9051905920519059, 0.9051905920519059, 0.9051905920519059, 0.9051905920519059, 0.9051905920519059, 0.905352798053528, 0.905352798053528, 0.905352798053528, 0.905352798053528, 0.905352798053528, 0.905352798053528, 0.905352798053528, 0.905352798053528, 0.905352798053528, 0.905352798053528, 0.905352798053528, 0.905352798053528, 0.905352798053528, 0.905352798053528, 0.905352798053528, 0.905352798053528, 0.905352798053528, 0.905352798053528, 0.905352798053528, 0.9066504460665045, 0.9066504460665045]}], \"balanced_accuracy\": [{\"categories\": [\"0\", \"1\", \"2\", \"3\", \"4\", \"5\", \"6\", \"7\", \"8\", \"9\", \"10\", \"11\", \"12\", \"13\", \"14\", \"15\", \"16\", \"17\", \"18\", \"19\", \"20\", \"21\", \"22\", \"23\", \"24\", \"25\", \"26\", \"27\", \"28\", \"29\", \"30\", \"31\", \"32\", \"33\", \"34\", \"35\", \"38\", \"39\"], \"mode\": \"markers\", \"name\": \"balanced_accuracy\", \"stepped\": false, \"type\": \"scatter\", \"data\": [0.77692834505401, 0.782398650768284, 0.546140293717091, 0.5005224660397074, 0.822511563991692, 0.8044343871285013, 0.7793742105398523, 0.7735058518882112, 0.7648717742864509, 0.7744333906139557, 0.5, 0.7800876151443928, 0.6790751343924631, 0.6501471408388285, 0.6551205362463807, 0.6796683739004212, 0.7655123616805826, 0.7762045409831186, 0.7704734412077975, 0.5945520030111392, 0.7527112544518988, 0.500213229947657, 0.7615348311803186, 0.7902616786774804, 0.5, 0.5, 0.5, 0.5, 0.5086676871733284, 0.7829589572360253, 0.5, 0.778892514737342, 0.7764927007165339, 0.7886677422429762, 0.7844229033382034, 0.5, 0.7816172679864851, 0.7801245474733068]}, {\"categories\": [\"0\", \"1\", \"2\", \"3\", \"4\", \"5\", \"6\", \"7\", \"8\", \"9\", \"10\", \"11\", \"12\", \"13\", \"14\", \"15\", \"16\", \"17\", \"18\", \"19\", \"20\", \"21\", \"22\", \"23\", \"24\", \"25\", \"26\", \"27\", \"28\", \"29\", \"30\", \"31\", \"32\", \"33\", \"34\", \"35\", \"38\", \"39\"], \"mode\": \"lines\", \"name\": \"balanced_accuracy_max\", \"stepped\": true, \"type\": \"scatter\", \"data\": [0.77692834505401, 0.782398650768284, 0.782398650768284, 0.782398650768284, 0.822511563991692, 0.822511563991692, 0.822511563991692, 0.822511563991692, 0.822511563991692, 0.822511563991692, 0.822511563991692, 0.822511563991692, 0.822511563991692, 0.822511563991692, 0.822511563991692, 0.822511563991692, 0.822511563991692, 0.822511563991692, 0.822511563991692, 0.822511563991692, 0.822511563991692, 0.822511563991692, 0.822511563991692, 0.822511563991692, 0.822511563991692, 0.822511563991692, 0.822511563991692, 0.822511563991692, 0.822511563991692, 0.822511563991692, 0.822511563991692, 0.822511563991692, 0.822511563991692, 0.822511563991692, 0.822511563991692, 0.822511563991692, 0.822511563991692, 0.822511563991692]}], \"matthews_correlation\": [{\"categories\": [\"0\", \"1\", \"2\", \"3\", \"4\", \"5\", \"6\", \"7\", \"8\", \"9\", \"10\", \"11\", \"12\", \"13\", \"14\", \"15\", \"16\", \"17\", \"18\", \"19\", \"20\", \"21\", \"22\", \"23\", \"24\", \"25\", \"26\", \"27\", \"28\", \"29\", \"30\", \"31\", \"32\", \"33\", \"34\", \"35\", \"38\", \"39\"], \"mode\": \"markers\", \"name\": \"matthews_correlation\", \"stepped\": false, \"type\": \"scatter\", \"data\": [0.5952280497602397, 0.6134057692822686, 0.2247941612260794, 0.01715765948805686, 0.5222585167554584, 0.4697915382677081, 0.597585144165262, 0.599213249054629, 0.5811876244897592, 0.5978634883946253, 0.0, 0.6031823944317396, 0.4918345817825201, 0.4731382438719696, 0.44863863805867954, 0.48017944683128505, 0.5803171595527253, 0.6102824320729395, 0.5858849786012206, 0.33504278709877217, 0.5784308984758851, 0.007002420361341179, 0.5808432708662606, 0.6151888043502901, 0.0, 0.0, 0.0, 0.0, 0.1116788174211784, 0.5951901342673559, 0.0, 0.600719787129172, 0.5996428064132451, 0.6163398101140526, 0.5993685584544338, 0.0, 0.6173852809670701, 0.6145677962798594]}, {\"categories\": [\"0\", \"1\", \"2\", \"3\", \"4\", \"5\", \"6\", \"7\", \"8\", \"9\", \"10\", \"11\", \"12\", \"13\", \"14\", \"15\", \"16\", \"17\", \"18\", \"19\", \"20\", \"21\", \"22\", \"23\", \"24\", \"25\", \"26\", \"27\", \"28\", \"29\", \"30\", \"31\", \"32\", \"33\", \"34\", \"35\", \"38\", \"39\"], \"mode\": \"lines\", \"name\": \"matthews_correlation_max\", \"stepped\": true, \"type\": \"scatter\", \"data\": [0.5952280497602397, 0.6134057692822686, 0.6134057692822686, 0.6134057692822686, 0.6134057692822686, 0.6134057692822686, 0.6134057692822686, 0.6134057692822686, 0.6134057692822686, 0.6134057692822686, 0.6134057692822686, 0.6134057692822686, 0.6134057692822686, 0.6134057692822686, 0.6134057692822686, 0.6134057692822686, 0.6134057692822686, 0.6134057692822686, 0.6134057692822686, 0.6134057692822686, 0.6134057692822686, 0.6134057692822686, 0.6134057692822686, 0.6151888043502901, 0.6151888043502901, 0.6151888043502901, 0.6151888043502901, 0.6151888043502901, 0.6151888043502901, 0.6151888043502901, 0.6151888043502901, 0.6151888043502901, 0.6151888043502901, 0.6163398101140526, 0.6163398101140526, 0.6163398101140526, 0.6173852809670701, 0.6173852809670701]}], \"f1_score_macro\": [{\"categories\": [\"0\", \"1\", \"2\", \"3\", \"4\", \"5\", \"6\", \"7\", \"8\", \"9\", \"10\", \"11\", \"12\", \"13\", \"14\", \"15\", \"16\", \"17\", \"18\", \"19\", \"20\", \"21\", \"22\", \"23\", \"24\", \"25\", \"26\", \"27\", \"28\", \"29\", \"30\", \"31\", \"32\", \"33\", \"34\", \"35\", \"38\", \"39\"], \"mode\": \"markers\", \"name\": \"f1_score_macro\", \"stepped\": false, \"type\": \"scatter\", \"data\": [0.7958091515195553, 0.8043225633710266, 0.5421165970929457, 0.45914626243098544, 0.7390952295992834, 0.693690112037686, 0.7971724533324028, 0.7967616176213236, 0.7877474160035529, 0.796387865294561, 0.45806432077149334, 0.7996462965399896, 0.7206867933190768, 0.6949378922532284, 0.695882649621027, 0.7203410657827485, 0.7875065536793887, 0.801771958672159, 0.7907757266709708, 0.6151624910890587, 0.7830897678273535, 0.45858145372386144, 0.7868098048427409, 0.8063835058139595, 0.45806432077149334, 0.45806432077149334, 0.45806432077149334, 0.45806432077149334, 0.47584960536206794, 0.7965009875865224, 0.45806432077149334, 0.7983645935232686, 0.7975947169782728, 0.8066123833032236, 0.7986161995412623, 0.45806432077149334, 0.8057216466566705, 0.804297053084945]}, {\"categories\": [\"0\", \"1\", \"2\", \"3\", \"4\", \"5\", \"6\", \"7\", \"8\", \"9\", \"10\", \"11\", \"12\", \"13\", \"14\", \"15\", \"16\", \"17\", \"18\", \"19\", \"20\", \"21\", \"22\", \"23\", \"24\", \"25\", \"26\", \"27\", \"28\", \"29\", \"30\", \"31\", \"32\", \"33\", \"34\", \"35\", \"38\", \"39\"], \"mode\": \"lines\", \"name\": \"f1_score_macro_max\", \"stepped\": true, \"type\": \"scatter\", \"data\": [0.7958091515195553, 0.8043225633710266, 0.8043225633710266, 0.8043225633710266, 0.8043225633710266, 0.8043225633710266, 0.8043225633710266, 0.8043225633710266, 0.8043225633710266, 0.8043225633710266, 0.8043225633710266, 0.8043225633710266, 0.8043225633710266, 0.8043225633710266, 0.8043225633710266, 0.8043225633710266, 0.8043225633710266, 0.8043225633710266, 0.8043225633710266, 0.8043225633710266, 0.8043225633710266, 0.8043225633710266, 0.8043225633710266, 0.8063835058139595, 0.8063835058139595, 0.8063835058139595, 0.8063835058139595, 0.8063835058139595, 0.8063835058139595, 0.8063835058139595, 0.8063835058139595, 0.8063835058139595, 0.8063835058139595, 0.8066123833032236, 0.8066123833032236, 0.8066123833032236, 0.8066123833032236, 0.8066123833032236]}], \"precision_score_micro\": [{\"categories\": [\"0\", \"1\", \"2\", \"3\", \"4\", \"5\", \"6\", \"7\", \"8\", \"9\", \"10\", \"11\", \"12\", \"13\", \"14\", \"15\", \"16\", \"17\", \"18\", \"19\", \"20\", \"21\", \"22\", \"23\", \"24\", \"25\", \"26\", \"27\", \"28\", \"29\", \"30\", \"31\", \"32\", \"33\", \"34\", \"35\", \"38\", \"39\"], \"mode\": \"markers\", \"name\": \"precision_score_micro\", \"stepped\": false, \"type\": \"scatter\", \"data\": [0.9001622060016222, 0.9051905920519059, 0.856772100567721, 0.8454176804541769, 0.824006488240065, 0.7708029197080292, 0.9004055150040552, 0.9022708840227089, 0.8980535279805353, 0.9016220600162206, 0.8452554744525548, 0.9021086780210869, 0.8874290348742905, 0.8852392538523924, 0.8800486618004867, 0.8842660178426601, 0.8976480129764801, 0.905352798053528, 0.8983779399837794, 0.8667477696674778, 0.8991889699918897, 0.8452554744525548, 0.8987023519870235, 0.9040551500405515, 0.8452554744525548, 0.8452554744525548, 0.8452554744525548, 0.8452554744525548, 0.8476885644768858, 0.8984590429845905, 0.8452554744525548, 0.9016220600162206, 0.9017031630170317, 0.9048661800486618, 0.899756690997567, 0.8452554744525548, 0.9066504460665045, 0.9060016220600162]}, {\"categories\": [\"0\", \"1\", \"2\", \"3\", \"4\", \"5\", \"6\", \"7\", \"8\", \"9\", \"10\", \"11\", \"12\", \"13\", \"14\", \"15\", \"16\", \"17\", \"18\", \"19\", \"20\", \"21\", \"22\", \"23\", \"24\", \"25\", \"26\", \"27\", \"28\", \"29\", \"30\", \"31\", \"32\", \"33\", \"34\", \"35\", \"38\", \"39\"], \"mode\": \"lines\", \"name\": \"precision_score_micro_max\", \"stepped\": true, \"type\": \"scatter\", \"data\": [0.9001622060016222, 0.9051905920519059, 0.9051905920519059, 0.9051905920519059, 0.9051905920519059, 0.9051905920519059, 0.9051905920519059, 0.9051905920519059, 0.9051905920519059, 0.9051905920519059, 0.9051905920519059, 0.9051905920519059, 0.9051905920519059, 0.9051905920519059, 0.9051905920519059, 0.9051905920519059, 0.9051905920519059, 0.905352798053528, 0.905352798053528, 0.905352798053528, 0.905352798053528, 0.905352798053528, 0.905352798053528, 0.905352798053528, 0.905352798053528, 0.905352798053528, 0.905352798053528, 0.905352798053528, 0.905352798053528, 0.905352798053528, 0.905352798053528, 0.905352798053528, 0.905352798053528, 0.905352798053528, 0.905352798053528, 0.905352798053528, 0.9066504460665045, 0.9066504460665045]}], \"norm_macro_recall\": [{\"categories\": [\"0\", \"1\", \"2\", \"3\", \"4\", \"5\", \"6\", \"7\", \"8\", \"9\", \"10\", \"11\", \"12\", \"13\", \"14\", \"15\", \"16\", \"17\", \"18\", \"19\", \"20\", \"21\", \"22\", \"23\", \"24\", \"25\", \"26\", \"27\", \"28\", \"29\", \"30\", \"31\", \"32\", \"33\", \"34\", \"35\", \"38\", \"39\"], \"mode\": \"markers\", \"name\": \"norm_macro_recall\", \"stepped\": false, \"type\": \"scatter\", \"data\": [0.5538566901080199, 0.5647973015365682, 0.09228058743418233, 0.0010449320794148065, 0.6450231279833839, 0.6088687742570029, 0.5587484210797045, 0.5470117037764224, 0.5297435485729018, 0.5488667812279114, 0.0, 0.5601752302887857, 0.35815026878492656, 0.3002942816776572, 0.31024107249276134, 0.3593367478008426, 0.5310247233611652, 0.5524090819662372, 0.540946882415595, 0.1891040060222783, 0.5054225089037976, 0.0004264598953141648, 0.5230696623606373, 0.5805233573549607, 0.0, 0.0, 0.0, 0.0, 0.017335374346656884, 0.5659179144720504, 0.0, 0.557785029474684, 0.5529854014330678, 0.5773354844859524, 0.5688458066764067, 0.0, 0.5632345359729701, 0.5602490949466136]}, {\"categories\": [\"0\", \"1\", \"2\", \"3\", \"4\", \"5\", \"6\", \"7\", \"8\", \"9\", \"10\", \"11\", \"12\", \"13\", \"14\", \"15\", \"16\", \"17\", \"18\", \"19\", \"20\", \"21\", \"22\", \"23\", \"24\", \"25\", \"26\", \"27\", \"28\", \"29\", \"30\", \"31\", \"32\", \"33\", \"34\", \"35\", \"38\", \"39\"], \"mode\": \"lines\", \"name\": \"norm_macro_recall_max\", \"stepped\": true, \"type\": \"scatter\", \"data\": [0.5538566901080199, 0.5647973015365682, 0.5647973015365682, 0.5647973015365682, 0.6450231279833839, 0.6450231279833839, 0.6450231279833839, 0.6450231279833839, 0.6450231279833839, 0.6450231279833839, 0.6450231279833839, 0.6450231279833839, 0.6450231279833839, 0.6450231279833839, 0.6450231279833839, 0.6450231279833839, 0.6450231279833839, 0.6450231279833839, 0.6450231279833839, 0.6450231279833839, 0.6450231279833839, 0.6450231279833839, 0.6450231279833839, 0.6450231279833839, 0.6450231279833839, 0.6450231279833839, 0.6450231279833839, 0.6450231279833839, 0.6450231279833839, 0.6450231279833839, 0.6450231279833839, 0.6450231279833839, 0.6450231279833839, 0.6450231279833839, 0.6450231279833839, 0.6450231279833839, 0.6450231279833839, 0.6450231279833839]}], \"AUC_macro\": [{\"categories\": [\"0\", \"1\", \"2\", \"3\", \"4\", \"5\", \"6\", \"7\", \"8\", \"9\", \"10\", \"11\", \"12\", \"13\", \"14\", \"15\", \"16\", \"17\", \"18\", \"19\", \"20\", \"21\", \"22\", \"23\", \"24\", \"25\", \"26\", \"27\", \"28\", \"29\", \"30\", \"31\", \"32\", \"33\", \"34\", \"35\", \"38\", \"39\"], \"mode\": \"markers\", \"name\": \"AUC_macro\", \"stepped\": false, \"type\": \"scatter\", \"data\": [0.9302080032593238, 0.9335745193091164, 0.9109762239308168, 0.8856101110829032, 0.8926416958717512, 0.8683233155333613, 0.928218956270118, 0.9319552555007157, 0.9273703065696335, 0.9315397747716044, 0.8949702748467466, 0.9242013991896222, 0.9076894868869526, 0.916358660062544, 0.8844772301441138, 0.8914586946445769, 0.9154334341766036, 0.9327745216919201, 0.9253712981522778, 0.8979313611616767, 0.9211412561240916, 0.8844731228206476, 0.9283456212364397, 0.9289304484494106, 0.82280979886909, 0.9054120904587778, 0.8760341900462881, 0.8573327255200902, 0.9055566066811972, 0.9161389761577063, 0.8678893587882633, 0.9281822000350798, 0.9226557273624777, 0.9325644801352099, 0.9311825260175896, 0.9017136814002203, 0.9345713195927745, 0.9344348998213906]}, {\"categories\": [\"0\", \"1\", \"2\", \"3\", \"4\", \"5\", \"6\", \"7\", \"8\", \"9\", \"10\", \"11\", \"12\", \"13\", \"14\", \"15\", \"16\", \"17\", \"18\", \"19\", \"20\", \"21\", \"22\", \"23\", \"24\", \"25\", \"26\", \"27\", \"28\", \"29\", \"30\", \"31\", \"32\", \"33\", \"34\", \"35\", \"38\", \"39\"], \"mode\": \"lines\", \"name\": \"AUC_macro_max\", \"stepped\": true, \"type\": \"scatter\", \"data\": [0.9302080032593238, 0.9335745193091164, 0.9335745193091164, 0.9335745193091164, 0.9335745193091164, 0.9335745193091164, 0.9335745193091164, 0.9335745193091164, 0.9335745193091164, 0.9335745193091164, 0.9335745193091164, 0.9335745193091164, 0.9335745193091164, 0.9335745193091164, 0.9335745193091164, 0.9335745193091164, 0.9335745193091164, 0.9335745193091164, 0.9335745193091164, 0.9335745193091164, 0.9335745193091164, 0.9335745193091164, 0.9335745193091164, 0.9335745193091164, 0.9335745193091164, 0.9335745193091164, 0.9335745193091164, 0.9335745193091164, 0.9335745193091164, 0.9335745193091164, 0.9335745193091164, 0.9335745193091164, 0.9335745193091164, 0.9335745193091164, 0.9335745193091164, 0.9335745193091164, 0.9345713195927745, 0.9345713195927745]}], \"precision_score_weighted\": [{\"categories\": [\"0\", \"1\", \"2\", \"3\", \"4\", \"5\", \"6\", \"7\", \"8\", \"9\", \"10\", \"11\", \"12\", \"13\", \"14\", \"15\", \"16\", \"17\", \"18\", \"19\", \"20\", \"21\", \"22\", \"23\", \"24\", \"25\", \"26\", \"27\", \"28\", \"29\", \"30\", \"31\", \"32\", \"33\", \"34\", \"35\", \"38\", \"39\"], \"mode\": \"markers\", \"name\": \"precision_score_weighted\", \"stepped\": false, \"type\": \"scatter\", \"data\": [0.8947856717432913, 0.8997486911160756, 0.859994178173476, 0.76634965320804, 0.8842226142253925, 0.877293967328879, 0.8952497449026483, 0.8961848627930257, 0.8915132703742481, 0.8956903183567791, 0.7144901265483075, 0.896850058753445, 0.8792316211707849, 0.8827519913314429, 0.8688423047565833, 0.8729450238530281, 0.8912151639565801, 0.8994031241150919, 0.8924112577783682, 0.856523968028052, 0.8923994198829681, 0.7404092493040402, 0.8917157494559529, 0.8996689949728706, 0.7144901265483075, 0.7144901265483075, 0.7144901265483075, 0.7144901265483075, 0.8597223102264264, 0.8944417044873356, 0.7144901265483075, 0.8962321435673276, 0.8960161851692572, 0.9001351419956333, 0.8955155034214805, 0.7144901265483075, 0.9010439041808679, 0.9003149533613778]}, {\"categories\": [\"0\", \"1\", \"2\", \"3\", \"4\", \"5\", \"6\", \"7\", \"8\", \"9\", \"10\", \"11\", \"12\", \"13\", \"14\", \"15\", \"16\", \"17\", \"18\", \"19\", \"20\", \"21\", \"22\", \"23\", \"24\", \"25\", \"26\", \"27\", \"28\", \"29\", \"30\", \"31\", \"32\", \"33\", \"34\", \"35\", \"38\", \"39\"], \"mode\": \"lines\", \"name\": \"precision_score_weighted_max\", \"stepped\": true, \"type\": \"scatter\", \"data\": [0.8947856717432913, 0.8997486911160756, 0.8997486911160756, 0.8997486911160756, 0.8997486911160756, 0.8997486911160756, 0.8997486911160756, 0.8997486911160756, 0.8997486911160756, 0.8997486911160756, 0.8997486911160756, 0.8997486911160756, 0.8997486911160756, 0.8997486911160756, 0.8997486911160756, 0.8997486911160756, 0.8997486911160756, 0.8997486911160756, 0.8997486911160756, 0.8997486911160756, 0.8997486911160756, 0.8997486911160756, 0.8997486911160756, 0.8997486911160756, 0.8997486911160756, 0.8997486911160756, 0.8997486911160756, 0.8997486911160756, 0.8997486911160756, 0.8997486911160756, 0.8997486911160756, 0.8997486911160756, 0.8997486911160756, 0.9001351419956333, 0.9001351419956333, 0.9001351419956333, 0.9010439041808679, 0.9010439041808679]}], \"f1_score_weighted\": [{\"categories\": [\"0\", \"1\", \"2\", \"3\", \"4\", \"5\", \"6\", \"7\", \"8\", \"9\", \"10\", \"11\", \"12\", \"13\", \"14\", \"15\", \"16\", \"17\", \"18\", \"19\", \"20\", \"21\", \"22\", \"23\", \"24\", \"25\", \"26\", \"27\", \"28\", \"29\", \"30\", \"31\", \"32\", \"33\", \"34\", \"35\", \"38\", \"39\"], \"mode\": \"markers\", \"name\": \"f1_score_weighted\", \"stepped\": false, \"type\": \"scatter\", \"data\": [0.896525296771615, 0.9012184656233285, 0.8039003979863204, 0.774773751697122, 0.8418900352768093, 0.7993730349671231, 0.8969741159401066, 0.8977321179327243, 0.8932900020871907, 0.8973170234453588, 0.7743823073621229, 0.8984605326950638, 0.8698979827458974, 0.8611362818899325, 0.8592603615485147, 0.8681632469969042, 0.8930368478464249, 0.9006105876762446, 0.8942565960381174, 0.830613915711545, 0.8926367488368053, 0.7745377545367971, 0.8933121818196105, 0.9012257022659701, 0.7743823073621229, 0.7743823073621229, 0.7743823073621229, 0.7743823073621229, 0.7806142015631011, 0.895875262384377, 0.7743823073621229, 0.8978734528993022, 0.8976937325245687, 0.9016796964293171, 0.8970733198898343, 0.7743823073621229, 0.9022832171189696, 0.901588178082358]}, {\"categories\": [\"0\", \"1\", \"2\", \"3\", \"4\", \"5\", \"6\", \"7\", \"8\", \"9\", \"10\", \"11\", \"12\", \"13\", \"14\", \"15\", \"16\", \"17\", \"18\", \"19\", \"20\", \"21\", \"22\", \"23\", \"24\", \"25\", \"26\", \"27\", \"28\", \"29\", \"30\", \"31\", \"32\", \"33\", \"34\", \"35\", \"38\", \"39\"], \"mode\": \"lines\", \"name\": \"f1_score_weighted_max\", \"stepped\": true, \"type\": \"scatter\", \"data\": [0.896525296771615, 0.9012184656233285, 0.9012184656233285, 0.9012184656233285, 0.9012184656233285, 0.9012184656233285, 0.9012184656233285, 0.9012184656233285, 0.9012184656233285, 0.9012184656233285, 0.9012184656233285, 0.9012184656233285, 0.9012184656233285, 0.9012184656233285, 0.9012184656233285, 0.9012184656233285, 0.9012184656233285, 0.9012184656233285, 0.9012184656233285, 0.9012184656233285, 0.9012184656233285, 0.9012184656233285, 0.9012184656233285, 0.9012257022659701, 0.9012257022659701, 0.9012257022659701, 0.9012257022659701, 0.9012257022659701, 0.9012257022659701, 0.9012257022659701, 0.9012257022659701, 0.9012257022659701, 0.9012257022659701, 0.9016796964293171, 0.9016796964293171, 0.9016796964293171, 0.9022832171189696, 0.9022832171189696]}], \"average_precision_score_weighted\": [{\"categories\": [\"0\", \"1\", \"2\", \"3\", \"4\", \"5\", \"6\", \"7\", \"8\", \"9\", \"10\", \"11\", \"12\", \"13\", \"14\", \"15\", \"16\", \"17\", \"18\", \"19\", \"20\", \"21\", \"22\", \"23\", \"24\", \"25\", \"26\", \"27\", \"28\", \"29\", \"30\", \"31\", \"32\", \"33\", \"34\", \"35\", \"38\", \"39\"], \"mode\": \"markers\", \"name\": \"average_precision_score_weighted\", \"stepped\": false, \"type\": \"scatter\", \"data\": [0.9474804923046368, 0.9497749635045584, 0.9299569476164198, 0.9137013484236344, 0.9152627231269211, 0.9007934407467536, 0.9459493667853817, 0.9485605933217115, 0.9461605848980033, 0.9484142557453504, 0.9182376556081481, 0.9438989604863659, 0.9319178555946919, 0.940662654917443, 0.9203145693050595, 0.9231951763096754, 0.9352562126088086, 0.949830535203119, 0.9445368030775683, 0.924089611765932, 0.9432699575461507, 0.9164106558236543, 0.9460684890810068, 0.9464969169521487, 0.8860130265072947, 0.9292396328306453, 0.9112782664049561, 0.9032956459300684, 0.9322215843524705, 0.9365007031405309, 0.9082420684003205, 0.946113545400157, 0.9422764761421941, 0.9488911615747528, 0.9474056509837755, 0.9276117585393893, 0.9506736350786168, 0.950540745791725]}, {\"categories\": [\"0\", \"1\", \"2\", \"3\", \"4\", \"5\", \"6\", \"7\", \"8\", \"9\", \"10\", \"11\", \"12\", \"13\", \"14\", \"15\", \"16\", \"17\", \"18\", \"19\", \"20\", \"21\", \"22\", \"23\", \"24\", \"25\", \"26\", \"27\", \"28\", \"29\", \"30\", \"31\", \"32\", \"33\", \"34\", \"35\", \"38\", \"39\"], \"mode\": \"lines\", \"name\": \"average_precision_score_weighted_max\", \"stepped\": true, \"type\": \"scatter\", \"data\": [0.9474804923046368, 0.9497749635045584, 0.9497749635045584, 0.9497749635045584, 0.9497749635045584, 0.9497749635045584, 0.9497749635045584, 0.9497749635045584, 0.9497749635045584, 0.9497749635045584, 0.9497749635045584, 0.9497749635045584, 0.9497749635045584, 0.9497749635045584, 0.9497749635045584, 0.9497749635045584, 0.9497749635045584, 0.949830535203119, 0.949830535203119, 0.949830535203119, 0.949830535203119, 0.949830535203119, 0.949830535203119, 0.949830535203119, 0.949830535203119, 0.949830535203119, 0.949830535203119, 0.949830535203119, 0.949830535203119, 0.949830535203119, 0.949830535203119, 0.949830535203119, 0.949830535203119, 0.949830535203119, 0.949830535203119, 0.949830535203119, 0.9506736350786168, 0.9506736350786168]}], \"AUC_micro\": [{\"categories\": [\"0\", \"1\", \"2\", \"3\", \"4\", \"5\", \"6\", \"7\", \"8\", \"9\", \"10\", \"11\", \"12\", \"13\", \"14\", \"15\", \"16\", \"17\", \"18\", \"19\", \"20\", \"21\", \"22\", \"23\", \"24\", \"25\", \"26\", \"27\", \"28\", \"29\", \"30\", \"31\", \"32\", \"33\", \"34\", \"35\", \"38\", \"39\"], \"mode\": \"markers\", \"name\": \"AUC_micro\", \"stepped\": false, \"type\": \"scatter\", \"data\": [0.9680599215017671, 0.9695271162259279, 0.9534791806031616, 0.9460747528923776, 0.8841405745881211, 0.8507970984464137, 0.9674698330383237, 0.968805042988537, 0.9671256682117676, 0.9686795306681821, 0.9484931614975837, 0.9660254596330041, 0.9586091131357262, 0.9582443469629788, 0.9488616769574733, 0.9495361934474301, 0.9626688215201189, 0.9691304416462923, 0.9662614180593296, 0.9518971195608202, 0.9648483610681916, 0.9455238444795694, 0.9673610938446572, 0.9678458174728622, 0.9296488101933251, 0.9511952135416358, 0.9434609274947067, 0.9386617412873474, 0.9512847228388813, 0.9634352744774185, 0.9414899667102768, 0.9675212180052609, 0.9654904363578241, 0.9690542324518562, 0.9677661747207275, 0.9502469004248534, 0.9696798503442438, 0.9695513089945399]}, {\"categories\": [\"0\", \"1\", \"2\", \"3\", \"4\", \"5\", \"6\", \"7\", \"8\", \"9\", \"10\", \"11\", \"12\", \"13\", \"14\", \"15\", \"16\", \"17\", \"18\", \"19\", \"20\", \"21\", \"22\", \"23\", \"24\", \"25\", \"26\", \"27\", \"28\", \"29\", \"30\", \"31\", \"32\", \"33\", \"34\", \"35\", \"38\", \"39\"], \"mode\": \"lines\", \"name\": \"AUC_micro_max\", \"stepped\": true, \"type\": \"scatter\", \"data\": [0.9680599215017671, 0.9695271162259279, 0.9695271162259279, 0.9695271162259279, 0.9695271162259279, 0.9695271162259279, 0.9695271162259279, 0.9695271162259279, 0.9695271162259279, 0.9695271162259279, 0.9695271162259279, 0.9695271162259279, 0.9695271162259279, 0.9695271162259279, 0.9695271162259279, 0.9695271162259279, 0.9695271162259279, 0.9695271162259279, 0.9695271162259279, 0.9695271162259279, 0.9695271162259279, 0.9695271162259279, 0.9695271162259279, 0.9695271162259279, 0.9695271162259279, 0.9695271162259279, 0.9695271162259279, 0.9695271162259279, 0.9695271162259279, 0.9695271162259279, 0.9695271162259279, 0.9695271162259279, 0.9695271162259279, 0.9695271162259279, 0.9695271162259279, 0.9695271162259279, 0.9696798503442438, 0.9696798503442438]}], \"accuracy\": [{\"categories\": [\"0\", \"1\", \"2\", \"3\", \"4\", \"5\", \"6\", \"7\", \"8\", \"9\", \"10\", \"11\", \"12\", \"13\", \"14\", \"15\", \"16\", \"17\", \"18\", \"19\", \"20\", \"21\", \"22\", \"23\", \"24\", \"25\", \"26\", \"27\", \"28\", \"29\", \"30\", \"31\", \"32\", \"33\", \"34\", \"35\", \"38\", \"39\"], \"mode\": \"markers\", \"name\": \"accuracy\", \"stepped\": false, \"type\": \"scatter\", \"data\": [0.9001622060016222, 0.9051905920519059, 0.856772100567721, 0.8454176804541769, 0.824006488240065, 0.7708029197080292, 0.9004055150040552, 0.9022708840227089, 0.8980535279805353, 0.9016220600162206, 0.8452554744525548, 0.9021086780210869, 0.8874290348742905, 0.8852392538523924, 0.8800486618004867, 0.8842660178426601, 0.8976480129764801, 0.905352798053528, 0.8983779399837794, 0.8667477696674778, 0.8991889699918897, 0.8452554744525548, 0.8987023519870235, 0.9040551500405515, 0.8452554744525548, 0.8452554744525548, 0.8452554744525548, 0.8452554744525548, 0.8476885644768858, 0.8984590429845905, 0.8452554744525548, 0.9016220600162206, 0.9017031630170317, 0.9048661800486618, 0.899756690997567, 0.8452554744525548, 0.9066504460665045, 0.9060016220600162]}, {\"categories\": [\"0\", \"1\", \"2\", \"3\", \"4\", \"5\", \"6\", \"7\", \"8\", \"9\", \"10\", \"11\", \"12\", \"13\", \"14\", \"15\", \"16\", \"17\", \"18\", \"19\", \"20\", \"21\", \"22\", \"23\", \"24\", \"25\", \"26\", \"27\", \"28\", \"29\", \"30\", \"31\", \"32\", \"33\", \"34\", \"35\", \"38\", \"39\"], \"mode\": \"lines\", \"name\": \"accuracy_max\", \"stepped\": true, \"type\": \"scatter\", \"data\": [0.9001622060016222, 0.9051905920519059, 0.9051905920519059, 0.9051905920519059, 0.9051905920519059, 0.9051905920519059, 0.9051905920519059, 0.9051905920519059, 0.9051905920519059, 0.9051905920519059, 0.9051905920519059, 0.9051905920519059, 0.9051905920519059, 0.9051905920519059, 0.9051905920519059, 0.9051905920519059, 0.9051905920519059, 0.905352798053528, 0.905352798053528, 0.905352798053528, 0.905352798053528, 0.905352798053528, 0.905352798053528, 0.905352798053528, 0.905352798053528, 0.905352798053528, 0.905352798053528, 0.905352798053528, 0.905352798053528, 0.905352798053528, 0.905352798053528, 0.905352798053528, 0.905352798053528, 0.905352798053528, 0.905352798053528, 0.905352798053528, 0.9066504460665045, 0.9066504460665045]}], \"precision_score_macro\": [{\"categories\": [\"0\", \"1\", \"2\", \"3\", \"4\", \"5\", \"6\", \"7\", \"8\", \"9\", \"10\", \"11\", \"12\", \"13\", \"14\", \"15\", \"16\", \"17\", \"18\", \"19\", \"20\", \"21\", \"22\", \"23\", \"24\", \"25\", \"26\", \"27\", \"28\", \"29\", \"30\", \"31\", \"32\", \"33\", \"34\", \"35\", \"38\", \"39\"], \"mode\": \"markers\", \"name\": \"precision_score_macro\", \"stepped\": false, \"type\": \"scatter\", \"data\": [0.8198792276521926, 0.833135280130417, 0.8634166087920173, 0.5893629505382254, 0.7115272284297007, 0.6814201391764395, 0.8196180860468969, 0.8282528806084164, 0.8188464190624268, 0.8256883936289263, 0.4226277372262774, 0.8248203510811553, 0.8413337866563363, 0.8737558635004851, 0.8247022720483032, 0.8208634831172542, 0.817145779405171, 0.8371545287472985, 0.8173105814022122, 0.8232858784501035, 0.831758029364943, 0.5059890459617892, 0.8225563055315095, 0.8259800196915911, 0.4226277372262774, 0.4226277372262774, 0.4226277372262774, 0.4226277372262774, 0.8870417234187356, 0.8131801826499067, 0.4226277372262774, 0.823578618635252, 0.825127379278986, 0.829035837254168, 0.8158642602903291, 0.4226277372262774, 0.838460702434111, 0.8371512889393665]}, {\"categories\": [\"0\", \"1\", \"2\", \"3\", \"4\", \"5\", \"6\", \"7\", \"8\", \"9\", \"10\", \"11\", \"12\", \"13\", \"14\", \"15\", \"16\", \"17\", \"18\", \"19\", \"20\", \"21\", \"22\", \"23\", \"24\", \"25\", \"26\", \"27\", \"28\", \"29\", \"30\", \"31\", \"32\", \"33\", \"34\", \"35\", \"38\", \"39\"], \"mode\": \"lines\", \"name\": \"precision_score_macro_max\", \"stepped\": true, \"type\": \"scatter\", \"data\": [0.8198792276521926, 0.833135280130417, 0.8634166087920173, 0.8634166087920173, 0.8634166087920173, 0.8634166087920173, 0.8634166087920173, 0.8634166087920173, 0.8634166087920173, 0.8634166087920173, 0.8634166087920173, 0.8634166087920173, 0.8634166087920173, 0.8737558635004851, 0.8737558635004851, 0.8737558635004851, 0.8737558635004851, 0.8737558635004851, 0.8737558635004851, 0.8737558635004851, 0.8737558635004851, 0.8737558635004851, 0.8737558635004851, 0.8737558635004851, 0.8737558635004851, 0.8737558635004851, 0.8737558635004851, 0.8737558635004851, 0.8870417234187356, 0.8870417234187356, 0.8870417234187356, 0.8870417234187356, 0.8870417234187356, 0.8870417234187356, 0.8870417234187356, 0.8870417234187356, 0.8870417234187356, 0.8870417234187356]}], \"average_precision_score_micro\": [{\"categories\": [\"0\", \"1\", \"2\", \"3\", \"4\", \"5\", \"6\", \"7\", \"8\", \"9\", \"10\", \"11\", \"12\", \"13\", \"14\", \"15\", \"16\", \"17\", \"18\", \"19\", \"20\", \"21\", \"22\", \"23\", \"24\", \"25\", \"26\", \"27\", \"28\", \"29\", \"30\", \"31\", \"32\", \"33\", \"34\", \"35\", \"38\", \"39\"], \"mode\": \"markers\", \"name\": \"average_precision_score_micro\", \"stepped\": false, \"type\": \"scatter\", \"data\": [0.9692024524545738, 0.9704549084235478, 0.9542784559756504, 0.9464696706332513, 0.8833647824999414, 0.8561378086651494, 0.9682270646507215, 0.9698814250811365, 0.9680704661018847, 0.9696856465699112, 0.9494854745398663, 0.9665667346218679, 0.9551564316335774, 0.9585917086421974, 0.9457426906762935, 0.9438281814141813, 0.9625339965137719, 0.9699840085031747, 0.9671080684822733, 0.9525099962314315, 0.9651367152929989, 0.9456457524706515, 0.9682564879679266, 0.9685318951196568, 0.9310971652215562, 0.9526514801387599, 0.9449271409680762, 0.9397413849692016, 0.9512376986319621, 0.9599619993141908, 0.9425351663355098, 0.9681065271008255, 0.9659751285626061, 0.9700318238781125, 0.968884818511682, 0.951093268293724, 0.9705713961284251, 0.9704046394106713]}, {\"categories\": [\"0\", \"1\", \"2\", \"3\", \"4\", \"5\", \"6\", \"7\", \"8\", \"9\", \"10\", \"11\", \"12\", \"13\", \"14\", \"15\", \"16\", \"17\", \"18\", \"19\", \"20\", \"21\", \"22\", \"23\", \"24\", \"25\", \"26\", \"27\", \"28\", \"29\", \"30\", \"31\", \"32\", \"33\", \"34\", \"35\", \"38\", \"39\"], \"mode\": \"lines\", \"name\": \"average_precision_score_micro_max\", \"stepped\": true, \"type\": \"scatter\", \"data\": [0.9692024524545738, 0.9704549084235478, 0.9704549084235478, 0.9704549084235478, 0.9704549084235478, 0.9704549084235478, 0.9704549084235478, 0.9704549084235478, 0.9704549084235478, 0.9704549084235478, 0.9704549084235478, 0.9704549084235478, 0.9704549084235478, 0.9704549084235478, 0.9704549084235478, 0.9704549084235478, 0.9704549084235478, 0.9704549084235478, 0.9704549084235478, 0.9704549084235478, 0.9704549084235478, 0.9704549084235478, 0.9704549084235478, 0.9704549084235478, 0.9704549084235478, 0.9704549084235478, 0.9704549084235478, 0.9704549084235478, 0.9704549084235478, 0.9704549084235478, 0.9704549084235478, 0.9704549084235478, 0.9704549084235478, 0.9704549084235478, 0.9704549084235478, 0.9704549084235478, 0.9705713961284251, 0.9705713961284251]}], \"AUC_weighted\": [{\"categories\": [\"0\", \"1\", \"2\", \"3\", \"4\", \"5\", \"6\", \"7\", \"8\", \"9\", \"10\", \"11\", \"12\", \"13\", \"14\", \"15\", \"16\", \"17\", \"18\", \"19\", \"20\", \"21\", \"22\", \"23\", \"24\", \"25\", \"26\", \"27\", \"28\", \"29\", \"30\", \"31\", \"32\", \"33\", \"34\", \"35\", \"38\", \"39\"], \"mode\": \"markers\", \"name\": \"AUC_weighted\", \"stepped\": false, \"type\": \"scatter\", \"data\": [0.9302080032593238, 0.9335745716329092, 0.9109762239308168, 0.8856101110829032, 0.8926416958717515, 0.8683233155333613, 0.9282189809220354, 0.9319552555007157, 0.9273703065696335, 0.9315397501196868, 0.8949702748467465, 0.9242013991896222, 0.9076894868869525, 0.9163586600625439, 0.8844772301441138, 0.8914586946445769, 0.9154334341766036, 0.9327745216919201, 0.9253712722118949, 0.8979313611616767, 0.9211412561240914, 0.8844731228206476, 0.9283456212364397, 0.9289304484494108, 0.82280979886909, 0.9054120904587778, 0.8760341900462881, 0.8573327255200902, 0.9055566066811972, 0.9161389761577063, 0.8678893587882633, 0.9281822277069551, 0.9226557273624777, 0.9325644801352099, 0.9311825260175896, 0.9017136814002203, 0.9345713195927745, 0.9344348998213906]}, {\"categories\": [\"0\", \"1\", \"2\", \"3\", \"4\", \"5\", \"6\", \"7\", \"8\", \"9\", \"10\", \"11\", \"12\", \"13\", \"14\", \"15\", \"16\", \"17\", \"18\", \"19\", \"20\", \"21\", \"22\", \"23\", \"24\", \"25\", \"26\", \"27\", \"28\", \"29\", \"30\", \"31\", \"32\", \"33\", \"34\", \"35\", \"38\", \"39\"], \"mode\": \"lines\", \"name\": \"AUC_weighted_max\", \"stepped\": true, \"type\": \"scatter\", \"data\": [0.9302080032593238, 0.9335745716329092, 0.9335745716329092, 0.9335745716329092, 0.9335745716329092, 0.9335745716329092, 0.9335745716329092, 0.9335745716329092, 0.9335745716329092, 0.9335745716329092, 0.9335745716329092, 0.9335745716329092, 0.9335745716329092, 0.9335745716329092, 0.9335745716329092, 0.9335745716329092, 0.9335745716329092, 0.9335745716329092, 0.9335745716329092, 0.9335745716329092, 0.9335745716329092, 0.9335745716329092, 0.9335745716329092, 0.9335745716329092, 0.9335745716329092, 0.9335745716329092, 0.9335745716329092, 0.9335745716329092, 0.9335745716329092, 0.9335745716329092, 0.9335745716329092, 0.9335745716329092, 0.9335745716329092, 0.9335745716329092, 0.9335745716329092, 0.9335745716329092, 0.9345713195927745, 0.9345713195927745]}], \"f1_score_micro\": [{\"categories\": [\"0\", \"1\", \"2\", \"3\", \"4\", \"5\", \"6\", \"7\", \"8\", \"9\", \"10\", \"11\", \"12\", \"13\", \"14\", \"15\", \"16\", \"17\", \"18\", \"19\", \"20\", \"21\", \"22\", \"23\", \"24\", \"25\", \"26\", \"27\", \"28\", \"29\", \"30\", \"31\", \"32\", \"33\", \"34\", \"35\", \"38\", \"39\"], \"mode\": \"markers\", \"name\": \"f1_score_micro\", \"stepped\": false, \"type\": \"scatter\", \"data\": [0.9001622060016222, 0.9051905920519059, 0.856772100567721, 0.8454176804541769, 0.824006488240065, 0.7708029197080292, 0.9004055150040552, 0.9022708840227088, 0.8980535279805353, 0.9016220600162206, 0.8452554744525548, 0.9021086780210869, 0.8874290348742905, 0.8852392538523924, 0.8800486618004868, 0.8842660178426601, 0.8976480129764801, 0.905352798053528, 0.8983779399837794, 0.8667477696674778, 0.8991889699918897, 0.8452554744525548, 0.8987023519870235, 0.9040551500405515, 0.8452554744525548, 0.8452554744525548, 0.8452554744525548, 0.8452554744525548, 0.8476885644768858, 0.8984590429845905, 0.8452554744525548, 0.9016220600162206, 0.9017031630170317, 0.9048661800486618, 0.899756690997567, 0.8452554744525548, 0.9066504460665045, 0.9060016220600162]}, {\"categories\": [\"0\", \"1\", \"2\", \"3\", \"4\", \"5\", \"6\", \"7\", \"8\", \"9\", \"10\", \"11\", \"12\", \"13\", \"14\", \"15\", \"16\", \"17\", \"18\", \"19\", \"20\", \"21\", \"22\", \"23\", \"24\", \"25\", \"26\", \"27\", \"28\", \"29\", \"30\", \"31\", \"32\", \"33\", \"34\", \"35\", \"38\", \"39\"], \"mode\": \"lines\", \"name\": \"f1_score_micro_max\", \"stepped\": true, \"type\": \"scatter\", \"data\": [0.9001622060016222, 0.9051905920519059, 0.9051905920519059, 0.9051905920519059, 0.9051905920519059, 0.9051905920519059, 0.9051905920519059, 0.9051905920519059, 0.9051905920519059, 0.9051905920519059, 0.9051905920519059, 0.9051905920519059, 0.9051905920519059, 0.9051905920519059, 0.9051905920519059, 0.9051905920519059, 0.9051905920519059, 0.905352798053528, 0.905352798053528, 0.905352798053528, 0.905352798053528, 0.905352798053528, 0.905352798053528, 0.905352798053528, 0.905352798053528, 0.905352798053528, 0.905352798053528, 0.905352798053528, 0.905352798053528, 0.905352798053528, 0.905352798053528, 0.905352798053528, 0.905352798053528, 0.905352798053528, 0.905352798053528, 0.905352798053528, 0.9066504460665045, 0.9066504460665045]}], \"recall_score_micro\": [{\"categories\": [\"0\", \"1\", \"2\", \"3\", \"4\", \"5\", \"6\", \"7\", \"8\", \"9\", \"10\", \"11\", \"12\", \"13\", \"14\", \"15\", \"16\", \"17\", \"18\", \"19\", \"20\", \"21\", \"22\", \"23\", \"24\", \"25\", \"26\", \"27\", \"28\", \"29\", \"30\", \"31\", \"32\", \"33\", \"34\", \"35\", \"38\", \"39\"], \"mode\": \"markers\", \"name\": \"recall_score_micro\", \"stepped\": false, \"type\": \"scatter\", \"data\": [0.9001622060016222, 0.9051905920519059, 0.856772100567721, 0.8454176804541769, 0.824006488240065, 0.7708029197080292, 0.9004055150040552, 0.9022708840227089, 0.8980535279805353, 0.9016220600162206, 0.8452554744525548, 0.9021086780210869, 0.8874290348742905, 0.8852392538523924, 0.8800486618004867, 0.8842660178426601, 0.8976480129764801, 0.905352798053528, 0.8983779399837794, 0.8667477696674778, 0.8991889699918897, 0.8452554744525548, 0.8987023519870235, 0.9040551500405515, 0.8452554744525548, 0.8452554744525548, 0.8452554744525548, 0.8452554744525548, 0.8476885644768858, 0.8984590429845905, 0.8452554744525548, 0.9016220600162206, 0.9017031630170317, 0.9048661800486618, 0.899756690997567, 0.8452554744525548, 0.9066504460665045, 0.9060016220600162]}, {\"categories\": [\"0\", \"1\", \"2\", \"3\", \"4\", \"5\", \"6\", \"7\", \"8\", \"9\", \"10\", \"11\", \"12\", \"13\", \"14\", \"15\", \"16\", \"17\", \"18\", \"19\", \"20\", \"21\", \"22\", \"23\", \"24\", \"25\", \"26\", \"27\", \"28\", \"29\", \"30\", \"31\", \"32\", \"33\", \"34\", \"35\", \"38\", \"39\"], \"mode\": \"lines\", \"name\": \"recall_score_micro_max\", \"stepped\": true, \"type\": \"scatter\", \"data\": [0.9001622060016222, 0.9051905920519059, 0.9051905920519059, 0.9051905920519059, 0.9051905920519059, 0.9051905920519059, 0.9051905920519059, 0.9051905920519059, 0.9051905920519059, 0.9051905920519059, 0.9051905920519059, 0.9051905920519059, 0.9051905920519059, 0.9051905920519059, 0.9051905920519059, 0.9051905920519059, 0.9051905920519059, 0.905352798053528, 0.905352798053528, 0.905352798053528, 0.905352798053528, 0.905352798053528, 0.905352798053528, 0.905352798053528, 0.905352798053528, 0.905352798053528, 0.905352798053528, 0.905352798053528, 0.905352798053528, 0.905352798053528, 0.905352798053528, 0.905352798053528, 0.905352798053528, 0.905352798053528, 0.905352798053528, 0.905352798053528, 0.9066504460665045, 0.9066504460665045]}]}, \"metricName\": null, \"primaryMetricName\": \"accuracy\", \"showLegend\": false}, \"run_metrics\": [{\"name\": \"experiment_status\", \"run_id\": \"AutoML_44bf19f9-8522-4820-8221-ed309fa9485b\", \"categories\": [0, 1, 2, 3, 4, 5, 6, 7, 8, 9, 10, 11, 12, 13, 14], \"series\": [{\"data\": [\"DatasetEvaluation\", \"FeaturesGeneration\", \"DatasetFeaturization\", \"DatasetFeaturizationCompleted\", \"DatasetBalancing\", \"DatasetCrossValidationSplit\", \"ModelSelection\", \"BestRunExplainModel\", \"ModelExplanationDataSetSetup\", \"PickSurrogateModel\", \"EngineeredFeatureExplanations\", \"EngineeredFeatureExplanations\", \"RawFeaturesExplanations\", \"RawFeaturesExplanations\", \"BestRunExplainModel\"]}]}, {\"name\": \"experiment_status_description\", \"run_id\": \"AutoML_44bf19f9-8522-4820-8221-ed309fa9485b\", \"categories\": [0, 1, 2, 3, 4, 5, 6, 7, 8, 9, 10, 11, 12, 13, 14], \"series\": [{\"data\": [\"Gathering dataset statistics.\", \"Generating features for the dataset.\", \"Beginning to fit featurizers and featurize the dataset.\", \"Completed fit featurizers and featurizing the dataset.\", \"Performing class balancing sweeping\", \"Generating individually featurized CV splits.\", \"Beginning model selection.\", \"Best run model explanations started\", \"Model explanations data setup completed\", \"Choosing LightGBM as the surrogate model for explanations\", \"Computation of engineered features started\", \"Computation of engineered features completed\", \"Computation of raw features started\", \"Computation of raw features completed\", \"Best run model explanations completed\"]}]}, {\"name\": \"accuracy\", \"run_id\": \"AutoML_44bf19f9-8522-4820-8221-ed309fa9485b\", \"categories\": [0], \"series\": [{\"data\": [0.9066504460665045]}]}, {\"name\": \"matthews_correlation\", \"run_id\": \"AutoML_44bf19f9-8522-4820-8221-ed309fa9485b\", \"categories\": [0], \"series\": [{\"data\": [0.6173852809670701]}]}, {\"name\": \"recall_score_micro\", \"run_id\": \"AutoML_44bf19f9-8522-4820-8221-ed309fa9485b\", \"categories\": [0], \"series\": [{\"data\": [0.9066504460665045]}]}, {\"name\": \"f1_score_macro\", \"run_id\": \"AutoML_44bf19f9-8522-4820-8221-ed309fa9485b\", \"categories\": [0], \"series\": [{\"data\": [0.8057216466566705]}]}, {\"name\": \"recall_score_macro\", \"run_id\": \"AutoML_44bf19f9-8522-4820-8221-ed309fa9485b\", \"categories\": [0], \"series\": [{\"data\": [0.7816172679864851]}]}, {\"name\": \"average_precision_score_micro\", \"run_id\": \"AutoML_44bf19f9-8522-4820-8221-ed309fa9485b\", \"categories\": [0], \"series\": [{\"data\": [0.9705713961284251]}]}, {\"name\": \"AUC_micro\", \"run_id\": \"AutoML_44bf19f9-8522-4820-8221-ed309fa9485b\", \"categories\": [0], \"series\": [{\"data\": [0.9696798503442438]}]}, {\"name\": \"AUC_weighted\", \"run_id\": \"AutoML_44bf19f9-8522-4820-8221-ed309fa9485b\", \"categories\": [0], \"series\": [{\"data\": [0.9345713195927745]}]}, {\"name\": \"average_precision_score_weighted\", \"run_id\": \"AutoML_44bf19f9-8522-4820-8221-ed309fa9485b\", \"categories\": [0], \"series\": [{\"data\": [0.9506736350786168]}]}, {\"name\": \"average_precision_score_macro\", \"run_id\": \"AutoML_44bf19f9-8522-4820-8221-ed309fa9485b\", \"categories\": [0], \"series\": [{\"data\": [0.870383831093613]}]}, {\"name\": \"precision_score_weighted\", \"run_id\": \"AutoML_44bf19f9-8522-4820-8221-ed309fa9485b\", \"categories\": [0], \"series\": [{\"data\": [0.9010439041808679]}]}, {\"name\": \"log_loss\", \"run_id\": \"AutoML_44bf19f9-8522-4820-8221-ed309fa9485b\", \"categories\": [0], \"series\": [{\"data\": [0.2266087483783482]}]}, {\"name\": \"precision_score_micro\", \"run_id\": \"AutoML_44bf19f9-8522-4820-8221-ed309fa9485b\", \"categories\": [0], \"series\": [{\"data\": [0.9066504460665045]}]}, {\"name\": \"weighted_accuracy\", \"run_id\": \"AutoML_44bf19f9-8522-4820-8221-ed309fa9485b\", \"categories\": [0], \"series\": [{\"data\": [0.951071908145629]}]}, {\"name\": \"f1_score_weighted\", \"run_id\": \"AutoML_44bf19f9-8522-4820-8221-ed309fa9485b\", \"categories\": [0], \"series\": [{\"data\": [0.9022832171189696]}]}, {\"name\": \"norm_macro_recall\", \"run_id\": \"AutoML_44bf19f9-8522-4820-8221-ed309fa9485b\", \"categories\": [0], \"series\": [{\"data\": [0.5632345359729701]}]}, {\"name\": \"balanced_accuracy\", \"run_id\": \"AutoML_44bf19f9-8522-4820-8221-ed309fa9485b\", \"categories\": [0], \"series\": [{\"data\": [0.7816172679864851]}]}, {\"name\": \"recall_score_weighted\", \"run_id\": \"AutoML_44bf19f9-8522-4820-8221-ed309fa9485b\", \"categories\": [0], \"series\": [{\"data\": [0.9066504460665045]}]}, {\"name\": \"AUC_macro\", \"run_id\": \"AutoML_44bf19f9-8522-4820-8221-ed309fa9485b\", \"categories\": [0], \"series\": [{\"data\": [0.9345713195927745]}]}, {\"name\": \"precision_score_macro\", \"run_id\": \"AutoML_44bf19f9-8522-4820-8221-ed309fa9485b\", \"categories\": [0], \"series\": [{\"data\": [0.838460702434111]}]}, {\"name\": \"f1_score_micro\", \"run_id\": \"AutoML_44bf19f9-8522-4820-8221-ed309fa9485b\", \"categories\": [0], \"series\": [{\"data\": [0.9066504460665045]}]}], \"run_logs\": \"\\nRun is completed.\", \"graph\": {}, \"widget_settings\": {\"childWidgetDisplay\": \"popup\", \"send_telemetry\": false, \"log_level\": \"INFO\", \"sdk_version\": \"1.20.0\"}, \"loading\": false}"
     },
     "metadata": {},
     "output_type": "display_data"
    },
    {
     "name": "stdout",
     "output_type": "stream",
     "text": [
      "\n",
      "\n",
      "****************************************************************************************************\n",
      "DATA GUARDRAILS: \n",
      "\n",
      "TYPE:         Cross validation\n",
      "STATUS:       DONE\n",
      "DESCRIPTION:  Each iteration of the trained model was validated through cross-validation.\n",
      "              \n",
      "DETAILS:      \n",
      "+---------------------------------+\n",
      "|Number of folds                  |\n",
      "+=================================+\n",
      "|3                                |\n",
      "+---------------------------------+\n",
      "\n",
      "****************************************************************************************************\n",
      "\n",
      "TYPE:         Class balancing detection\n",
      "STATUS:       ALERTED\n",
      "DESCRIPTION:  To decrease model bias, please cancel the current run and fix balancing problem.\n",
      "              Learn more about imbalanced data: https://aka.ms/AutomatedMLImbalancedData\n",
      "DETAILS:      Imbalanced data can lead to a falsely perceived positive effect of a model's accuracy because the input data has bias towards one class.\n",
      "+---------------------------------+---------------------------------+--------------------------------------+\n",
      "|Size of the smallest class       |Name/Label of the smallest class |Number of samples in the training data|\n",
      "+=================================+=================================+======================================+\n",
      "|1908                             |True                             |12330                                 |\n",
      "+---------------------------------+---------------------------------+--------------------------------------+\n",
      "\n",
      "****************************************************************************************************\n",
      "\n",
      "TYPE:         Missing feature values imputation\n",
      "STATUS:       DONE\n",
      "DESCRIPTION:  If the missing values are expected, let the run complete. Otherwise cancel the current run and use a script to customize the handling of missing feature values that may be more appropriate based on the data type and business requirement.\n",
      "              Learn more about missing value imputation: https://aka.ms/AutomatedMLFeaturization\n",
      "DETAILS:      \n",
      "+---------------------------------+---------------------------------+---------------------------------+\n",
      "|Column name                      |Missing value count              |Imputation type                  |\n",
      "+=================================+=================================+=================================+\n",
      "|Administrative                   |14                               |mean                             |\n",
      "|Administrative_Duration          |14                               |mean                             |\n",
      "|Informational                    |14                               |mean                             |\n",
      "|Informational_Duration           |14                               |mean                             |\n",
      "|ProductRelated                   |14                               |mean                             |\n",
      "|ProductRelated_Duration          |14                               |mean                             |\n",
      "|BounceRates                      |14                               |mean                             |\n",
      "|ExitRates                        |14                               |mean                             |\n",
      "+---------------------------------+---------------------------------+---------------------------------+\n",
      "\n",
      "****************************************************************************************************\n",
      "\n",
      "TYPE:         High cardinality feature detection\n",
      "STATUS:       PASSED\n",
      "DESCRIPTION:  Your inputs were analyzed, and no high cardinality features were detected.\n",
      "              Learn more about high cardinality feature handling: https://aka.ms/AutomatedMLFeaturization\n",
      "\n",
      "****************************************************************************************************\n",
      "\n",
      "****************************************************************************************************\n",
      "ITERATION: The iteration being evaluated.\n",
      "PIPELINE: A summary description of the pipeline being evaluated.\n",
      "DURATION: Time taken for the current iteration.\n",
      "METRIC: The result of computing score on the fitted pipeline.\n",
      "BEST: The best observed score thus far.\n",
      "****************************************************************************************************\n",
      "\n",
      " ITERATION   PIPELINE                                       DURATION      METRIC      BEST\n",
      "         0   MaxAbsScaler LightGBM                          0:00:42       0.9002    0.9002\n",
      "         1   MaxAbsScaler XGBoostClassifier                 0:00:45       0.9052    0.9052\n",
      "         2   MaxAbsScaler RandomForest                      0:00:45       0.8568    0.9052\n",
      "         3   MaxAbsScaler RandomForest                      0:00:48       0.8454    0.9052\n",
      "         4   MaxAbsScaler RandomForest                      0:00:51       0.8240    0.9052\n",
      "         5   MaxAbsScaler RandomForest                      0:06:15       0.7708    0.9052\n",
      "         6   SparseNormalizer XGBoostClassifier             0:05:24       0.9004    0.9052\n",
      "         7   SparseNormalizer XGBoostClassifier             0:05:21       0.9023    0.9052\n",
      "         8   SparseNormalizer XGBoostClassifier             0:00:51       0.8981    0.9052\n",
      "         9   SparseNormalizer XGBoostClassifier             0:00:55       0.9016    0.9052\n",
      "        10   MaxAbsScaler RandomForest                      0:00:59       0.8453    0.9052\n",
      "        11   SparseNormalizer LightGBM                      0:00:42       0.9021    0.9052\n",
      "        12   SparseNormalizer XGBoostClassifier             0:00:52       0.8874    0.9052\n",
      "        13   MaxAbsScaler LightGBM                          0:00:41       0.8852    0.9052\n",
      "        14   MaxAbsScaler LogisticRegression                0:01:14       0.8800    0.9052\n",
      "        15   StandardScalerWrapper LogisticRegression       0:00:42       0.8843    0.9052\n",
      "        16   MaxAbsScaler GradientBoosting                  0:00:51       0.8976    0.9052\n",
      "        17   StandardScalerWrapper LightGBM                 0:00:46       0.9054    0.9054\n",
      "        18   SparseNormalizer XGBoostClassifier             0:00:53       0.8984    0.9054\n",
      "        19   SparseNormalizer GradientBoosting              0:00:47       0.8667    0.9054\n",
      "        20   SparseNormalizer XGBoostClassifier             0:00:41       0.8992    0.9054\n",
      "        21   MaxAbsScaler LightGBM                          0:00:36       0.8453    0.9054\n",
      "        22   SparseNormalizer XGBoostClassifier             0:00:51       0.8987    0.9054\n",
      "        23   MaxAbsScaler LightGBM                          0:00:48       0.9041    0.9054\n",
      "        24   StandardScalerWrapper ExtremeRandomTrees       0:00:49       0.8453    0.9054\n",
      "        25   StandardScalerWrapper LightGBM                 0:00:50       0.8453    0.9054\n",
      "        26   MaxAbsScaler ExtremeRandomTrees                0:01:10       0.8453    0.9054\n",
      "        27   StandardScalerWrapper ExtremeRandomTrees       0:00:45       0.8453    0.9054\n",
      "        28   SparseNormalizer ExtremeRandomTrees            0:01:20       0.8477    0.9054\n",
      "        29   SparseNormalizer XGBoostClassifier             0:00:43       0.8985    0.9054\n",
      "        30   TruncatedSVDWrapper LightGBM                   0:00:48       0.8453    0.9054\n",
      "        31   SparseNormalizer XGBoostClassifier             0:00:42       0.9016    0.9054\n",
      "        32   SparseNormalizer LightGBM                      0:00:49       0.9017    0.9054\n",
      "        33   MaxAbsScaler LightGBM                          0:00:48       0.9049    0.9054\n",
      "        34   MaxAbsScaler RandomForest                      0:00:48       0.8998    0.9054\n",
      "        35   StandardScalerWrapper LightGBM                 0:00:40       0.8453    0.9054\n",
      "        36   SparseNormalizer XGBoostClassifier             0:00:30          nan    0.9054\n",
      "        37                                                  0:00:34          nan    0.9054\n",
      "        38    VotingEnsemble                                0:01:32       0.9067    0.9067\n",
      "        39    StackEnsemble                                 0:01:25       0.9060    0.9067\n"
     ]
    },
    {
     "data": {
      "text/plain": [
       "{'runId': 'AutoML_44bf19f9-8522-4820-8221-ed309fa9485b',\n",
       " 'target': 'project3',\n",
       " 'status': 'Completed',\n",
       " 'startTimeUtc': '2021-01-21T11:42:31.248795Z',\n",
       " 'endTimeUtc': '2021-01-21T12:11:19.548375Z',\n",
       " 'properties': {'num_iterations': '1000',\n",
       "  'training_type': 'TrainFull',\n",
       "  'acquisition_function': 'EI',\n",
       "  'primary_metric': 'accuracy',\n",
       "  'train_split': '0',\n",
       "  'acquisition_parameter': '0',\n",
       "  'num_cross_validation': None,\n",
       "  'target': 'project3',\n",
       "  'AMLSettingsJsonString': '{\"path\":null,\"name\":\"automl-experiment\",\"subscription_id\":\"6b4af8be-9931-443e-90f6-c4c34a1f9737\",\"resource_group\":\"aml-quickstarts-135575\",\"workspace_name\":\"quick-starts-ws-135575\",\"region\":\"southcentralus\",\"compute_target\":\"project3\",\"spark_service\":null,\"azure_service\":\"remote\",\"many_models\":false,\"pipeline_fetch_max_batch_size\":1,\"iterations\":1000,\"primary_metric\":\"accuracy\",\"task_type\":\"classification\",\"data_script\":null,\"validation_size\":0.0,\"n_cross_validations\":null,\"y_min\":null,\"y_max\":null,\"num_classes\":null,\"featurization\":\"auto\",\"_ignore_package_version_incompatibilities\":false,\"is_timeseries\":false,\"max_cores_per_iteration\":1,\"max_concurrent_iterations\":5,\"iteration_timeout_minutes\":null,\"mem_in_mb\":null,\"enforce_time_on_windows\":false,\"experiment_timeout_minutes\":15,\"experiment_exit_score\":null,\"whitelist_models\":null,\"blacklist_algos\":[\"TensorFlowLinearClassifier\",\"TensorFlowDNN\"],\"supported_models\":[\"TensorFlowLinearClassifier\",\"LinearSVM\",\"SGD\",\"LogisticRegression\",\"XGBoostClassifier\",\"ExtremeRandomTrees\",\"GradientBoosting\",\"TensorFlowDNN\",\"KNN\",\"LightGBM\",\"RandomForest\",\"MultinomialNaiveBayes\",\"SVM\",\"AveragedPerceptronClassifier\",\"DecisionTree\",\"BernoulliNaiveBayes\"],\"auto_blacklist\":true,\"blacklist_samples_reached\":false,\"exclude_nan_labels\":true,\"verbosity\":20,\"_debug_log\":\"azureml_automl.log\",\"show_warnings\":false,\"model_explainability\":true,\"service_url\":null,\"sdk_url\":null,\"sdk_packages\":null,\"enable_onnx_compatible_models\":false,\"enable_split_onnx_featurizer_estimator_models\":false,\"vm_type\":\"STANDARD_D2_V2\",\"telemetry_verbosity\":20,\"send_telemetry\":true,\"enable_dnn\":false,\"scenario\":\"SDK-1.13.0\",\"environment_label\":null,\"force_text_dnn\":false,\"enable_feature_sweeping\":true,\"enable_early_stopping\":true,\"early_stopping_n_iters\":10,\"metrics\":null,\"enable_ensembling\":true,\"enable_stack_ensembling\":true,\"ensemble_iterations\":15,\"enable_tf\":false,\"enable_subsampling\":null,\"subsample_seed\":null,\"enable_nimbusml\":false,\"enable_streaming\":false,\"force_streaming\":false,\"track_child_runs\":true,\"allowed_private_models\":[],\"label_column_name\":\"Revenue\",\"weight_column_name\":null,\"cv_split_column_names\":null,\"enable_local_managed\":false,\"_local_managed_run_id\":null,\"cost_mode\":1,\"lag_length\":0,\"metric_operation\":\"maximize\",\"preprocess\":true}',\n",
       "  'DataPrepJsonString': '{\\\\\"training_data\\\\\": \\\\\"{\\\\\\\\\\\\\"blocks\\\\\\\\\\\\\": [{\\\\\\\\\\\\\"id\\\\\\\\\\\\\": \\\\\\\\\\\\\"06f98543-b0db-47c6-996f-6b340e732d5a\\\\\\\\\\\\\", \\\\\\\\\\\\\"type\\\\\\\\\\\\\": \\\\\\\\\\\\\"Microsoft.DPrep.GetFilesBlock\\\\\\\\\\\\\", \\\\\\\\\\\\\"arguments\\\\\\\\\\\\\": {\\\\\\\\\\\\\"isArchive\\\\\\\\\\\\\": false, \\\\\\\\\\\\\"path\\\\\\\\\\\\\": {\\\\\\\\\\\\\"target\\\\\\\\\\\\\": 4, \\\\\\\\\\\\\"resourceDetails\\\\\\\\\\\\\": [{\\\\\\\\\\\\\"path\\\\\\\\\\\\\": \\\\\\\\\\\\\"https://raw.githubusercontent.com/Bhosalenileshn/ML-Azure-Udacity-Capstone-Project/main/online_shoppers_intention.csv\\\\\\\\\\\\\"}]}}, \\\\\\\\\\\\\"localData\\\\\\\\\\\\\": {}, \\\\\\\\\\\\\"isEnabled\\\\\\\\\\\\\": true, \\\\\\\\\\\\\"name\\\\\\\\\\\\\": null, \\\\\\\\\\\\\"annotation\\\\\\\\\\\\\": null}, {\\\\\\\\\\\\\"id\\\\\\\\\\\\\": \\\\\\\\\\\\\"0d87ff29-01c5-4f19-a1ab-972fe573f70e\\\\\\\\\\\\\", \\\\\\\\\\\\\"type\\\\\\\\\\\\\": \\\\\\\\\\\\\"Microsoft.DPrep.ParseDelimitedBlock\\\\\\\\\\\\\", \\\\\\\\\\\\\"arguments\\\\\\\\\\\\\": {\\\\\\\\\\\\\"columnHeadersMode\\\\\\\\\\\\\": 3, \\\\\\\\\\\\\"fileEncoding\\\\\\\\\\\\\": 0, \\\\\\\\\\\\\"handleQuotedLineBreaks\\\\\\\\\\\\\": false, \\\\\\\\\\\\\"preview\\\\\\\\\\\\\": false, \\\\\\\\\\\\\"separator\\\\\\\\\\\\\": \\\\\\\\\\\\\",\\\\\\\\\\\\\", \\\\\\\\\\\\\"skipRows\\\\\\\\\\\\\": 0, \\\\\\\\\\\\\"skipRowsMode\\\\\\\\\\\\\": 0}, \\\\\\\\\\\\\"localData\\\\\\\\\\\\\": {}, \\\\\\\\\\\\\"isEnabled\\\\\\\\\\\\\": true, \\\\\\\\\\\\\"name\\\\\\\\\\\\\": null, \\\\\\\\\\\\\"annotation\\\\\\\\\\\\\": null}, {\\\\\\\\\\\\\"id\\\\\\\\\\\\\": \\\\\\\\\\\\\"b72a2c54-aa32-49f7-9feb-7b35d330053d\\\\\\\\\\\\\", \\\\\\\\\\\\\"type\\\\\\\\\\\\\": \\\\\\\\\\\\\"Microsoft.DPrep.DropColumnsBlock\\\\\\\\\\\\\", \\\\\\\\\\\\\"arguments\\\\\\\\\\\\\": {\\\\\\\\\\\\\"columns\\\\\\\\\\\\\": {\\\\\\\\\\\\\"type\\\\\\\\\\\\\": 0, \\\\\\\\\\\\\"details\\\\\\\\\\\\\": {\\\\\\\\\\\\\"selectedColumns\\\\\\\\\\\\\": [\\\\\\\\\\\\\"Path\\\\\\\\\\\\\"]}}}, \\\\\\\\\\\\\"localData\\\\\\\\\\\\\": {}, \\\\\\\\\\\\\"isEnabled\\\\\\\\\\\\\": true, \\\\\\\\\\\\\"name\\\\\\\\\\\\\": null, \\\\\\\\\\\\\"annotation\\\\\\\\\\\\\": null}, {\\\\\\\\\\\\\"id\\\\\\\\\\\\\": \\\\\\\\\\\\\"3cfb5feb-b37b-4758-a502-632fea63e12a\\\\\\\\\\\\\", \\\\\\\\\\\\\"type\\\\\\\\\\\\\": \\\\\\\\\\\\\"Microsoft.DPrep.SetColumnTypesBlock\\\\\\\\\\\\\", \\\\\\\\\\\\\"arguments\\\\\\\\\\\\\": {\\\\\\\\\\\\\"columnConversion\\\\\\\\\\\\\": [{\\\\\\\\\\\\\"column\\\\\\\\\\\\\": {\\\\\\\\\\\\\"type\\\\\\\\\\\\\": 2, \\\\\\\\\\\\\"details\\\\\\\\\\\\\": {\\\\\\\\\\\\\"selectedColumn\\\\\\\\\\\\\": \\\\\\\\\\\\\"Administrative\\\\\\\\\\\\\"}}, \\\\\\\\\\\\\"typeProperty\\\\\\\\\\\\\": 2}, {\\\\\\\\\\\\\"column\\\\\\\\\\\\\": {\\\\\\\\\\\\\"type\\\\\\\\\\\\\": 2, \\\\\\\\\\\\\"details\\\\\\\\\\\\\": {\\\\\\\\\\\\\"selectedColumn\\\\\\\\\\\\\": \\\\\\\\\\\\\"Administrative_Duration\\\\\\\\\\\\\"}}, \\\\\\\\\\\\\"typeProperty\\\\\\\\\\\\\": 3}, {\\\\\\\\\\\\\"column\\\\\\\\\\\\\": {\\\\\\\\\\\\\"type\\\\\\\\\\\\\": 2, \\\\\\\\\\\\\"details\\\\\\\\\\\\\": {\\\\\\\\\\\\\"selectedColumn\\\\\\\\\\\\\": \\\\\\\\\\\\\"Informational\\\\\\\\\\\\\"}}, \\\\\\\\\\\\\"typeProperty\\\\\\\\\\\\\": 2}, {\\\\\\\\\\\\\"column\\\\\\\\\\\\\": {\\\\\\\\\\\\\"type\\\\\\\\\\\\\": 2, \\\\\\\\\\\\\"details\\\\\\\\\\\\\": {\\\\\\\\\\\\\"selectedColumn\\\\\\\\\\\\\": \\\\\\\\\\\\\"Informational_Duration\\\\\\\\\\\\\"}}, \\\\\\\\\\\\\"typeProperty\\\\\\\\\\\\\": 3}, {\\\\\\\\\\\\\"column\\\\\\\\\\\\\": {\\\\\\\\\\\\\"type\\\\\\\\\\\\\": 2, \\\\\\\\\\\\\"details\\\\\\\\\\\\\": {\\\\\\\\\\\\\"selectedColumn\\\\\\\\\\\\\": \\\\\\\\\\\\\"ProductRelated\\\\\\\\\\\\\"}}, \\\\\\\\\\\\\"typeProperty\\\\\\\\\\\\\": 2}, {\\\\\\\\\\\\\"column\\\\\\\\\\\\\": {\\\\\\\\\\\\\"type\\\\\\\\\\\\\": 2, \\\\\\\\\\\\\"details\\\\\\\\\\\\\": {\\\\\\\\\\\\\"selectedColumn\\\\\\\\\\\\\": \\\\\\\\\\\\\"ProductRelated_Duration\\\\\\\\\\\\\"}}, \\\\\\\\\\\\\"typeProperty\\\\\\\\\\\\\": 3}, {\\\\\\\\\\\\\"column\\\\\\\\\\\\\": {\\\\\\\\\\\\\"type\\\\\\\\\\\\\": 2, \\\\\\\\\\\\\"details\\\\\\\\\\\\\": {\\\\\\\\\\\\\"selectedColumn\\\\\\\\\\\\\": \\\\\\\\\\\\\"BounceRates\\\\\\\\\\\\\"}}, \\\\\\\\\\\\\"typeProperty\\\\\\\\\\\\\": 3}, {\\\\\\\\\\\\\"column\\\\\\\\\\\\\": {\\\\\\\\\\\\\"type\\\\\\\\\\\\\": 2, \\\\\\\\\\\\\"details\\\\\\\\\\\\\": {\\\\\\\\\\\\\"selectedColumn\\\\\\\\\\\\\": \\\\\\\\\\\\\"ExitRates\\\\\\\\\\\\\"}}, \\\\\\\\\\\\\"typeProperty\\\\\\\\\\\\\": 3}, {\\\\\\\\\\\\\"column\\\\\\\\\\\\\": {\\\\\\\\\\\\\"type\\\\\\\\\\\\\": 2, \\\\\\\\\\\\\"details\\\\\\\\\\\\\": {\\\\\\\\\\\\\"selectedColumn\\\\\\\\\\\\\": \\\\\\\\\\\\\"PageValues\\\\\\\\\\\\\"}}, \\\\\\\\\\\\\"typeProperty\\\\\\\\\\\\\": 3}, {\\\\\\\\\\\\\"column\\\\\\\\\\\\\": {\\\\\\\\\\\\\"type\\\\\\\\\\\\\": 2, \\\\\\\\\\\\\"details\\\\\\\\\\\\\": {\\\\\\\\\\\\\"selectedColumn\\\\\\\\\\\\\": \\\\\\\\\\\\\"SpecialDay\\\\\\\\\\\\\"}}, \\\\\\\\\\\\\"typeProperty\\\\\\\\\\\\\": 3}, {\\\\\\\\\\\\\"column\\\\\\\\\\\\\": {\\\\\\\\\\\\\"type\\\\\\\\\\\\\": 2, \\\\\\\\\\\\\"details\\\\\\\\\\\\\": {\\\\\\\\\\\\\"selectedColumn\\\\\\\\\\\\\": \\\\\\\\\\\\\"Month\\\\\\\\\\\\\"}}, \\\\\\\\\\\\\"typeProperty\\\\\\\\\\\\\": 0}, {\\\\\\\\\\\\\"column\\\\\\\\\\\\\": {\\\\\\\\\\\\\"type\\\\\\\\\\\\\": 2, \\\\\\\\\\\\\"details\\\\\\\\\\\\\": {\\\\\\\\\\\\\"selectedColumn\\\\\\\\\\\\\": \\\\\\\\\\\\\"OperatingSystems\\\\\\\\\\\\\"}}, \\\\\\\\\\\\\"typeProperty\\\\\\\\\\\\\": 2}, {\\\\\\\\\\\\\"column\\\\\\\\\\\\\": {\\\\\\\\\\\\\"type\\\\\\\\\\\\\": 2, \\\\\\\\\\\\\"details\\\\\\\\\\\\\": {\\\\\\\\\\\\\"selectedColumn\\\\\\\\\\\\\": \\\\\\\\\\\\\"Browser\\\\\\\\\\\\\"}}, \\\\\\\\\\\\\"typeProperty\\\\\\\\\\\\\": 2}, {\\\\\\\\\\\\\"column\\\\\\\\\\\\\": {\\\\\\\\\\\\\"type\\\\\\\\\\\\\": 2, \\\\\\\\\\\\\"details\\\\\\\\\\\\\": {\\\\\\\\\\\\\"selectedColumn\\\\\\\\\\\\\": \\\\\\\\\\\\\"Region\\\\\\\\\\\\\"}}, \\\\\\\\\\\\\"typeProperty\\\\\\\\\\\\\": 2}, {\\\\\\\\\\\\\"column\\\\\\\\\\\\\": {\\\\\\\\\\\\\"type\\\\\\\\\\\\\": 2, \\\\\\\\\\\\\"details\\\\\\\\\\\\\": {\\\\\\\\\\\\\"selectedColumn\\\\\\\\\\\\\": \\\\\\\\\\\\\"TrafficType\\\\\\\\\\\\\"}}, \\\\\\\\\\\\\"typeProperty\\\\\\\\\\\\\": 2}, {\\\\\\\\\\\\\"column\\\\\\\\\\\\\": {\\\\\\\\\\\\\"type\\\\\\\\\\\\\": 2, \\\\\\\\\\\\\"details\\\\\\\\\\\\\": {\\\\\\\\\\\\\"selectedColumn\\\\\\\\\\\\\": \\\\\\\\\\\\\"VisitorType\\\\\\\\\\\\\"}}, \\\\\\\\\\\\\"typeProperty\\\\\\\\\\\\\": 0}, {\\\\\\\\\\\\\"column\\\\\\\\\\\\\": {\\\\\\\\\\\\\"type\\\\\\\\\\\\\": 2, \\\\\\\\\\\\\"details\\\\\\\\\\\\\": {\\\\\\\\\\\\\"selectedColumn\\\\\\\\\\\\\": \\\\\\\\\\\\\"Weekend\\\\\\\\\\\\\"}}, \\\\\\\\\\\\\"typeProperty\\\\\\\\\\\\\": 1}, {\\\\\\\\\\\\\"column\\\\\\\\\\\\\": {\\\\\\\\\\\\\"type\\\\\\\\\\\\\": 2, \\\\\\\\\\\\\"details\\\\\\\\\\\\\": {\\\\\\\\\\\\\"selectedColumn\\\\\\\\\\\\\": \\\\\\\\\\\\\"Revenue\\\\\\\\\\\\\"}}, \\\\\\\\\\\\\"typeProperty\\\\\\\\\\\\\": 1}]}, \\\\\\\\\\\\\"localData\\\\\\\\\\\\\": {}, \\\\\\\\\\\\\"isEnabled\\\\\\\\\\\\\": true, \\\\\\\\\\\\\"name\\\\\\\\\\\\\": null, \\\\\\\\\\\\\"annotation\\\\\\\\\\\\\": null}], \\\\\\\\\\\\\"inspectors\\\\\\\\\\\\\": [], \\\\\\\\\\\\\"meta\\\\\\\\\\\\\": {\\\\\\\\\\\\\"savedDatasetId\\\\\\\\\\\\\": \\\\\\\\\\\\\"de41807b-2bc0-4b77-9f31-9b4c87c3ac68\\\\\\\\\\\\\", \\\\\\\\\\\\\"datasetType\\\\\\\\\\\\\": \\\\\\\\\\\\\"tabular\\\\\\\\\\\\\", \\\\\\\\\\\\\"subscriptionId\\\\\\\\\\\\\": \\\\\\\\\\\\\"6b4af8be-9931-443e-90f6-c4c34a1f9737\\\\\\\\\\\\\", \\\\\\\\\\\\\"workspaceId\\\\\\\\\\\\\": \\\\\\\\\\\\\"cf685b6f-ed03-4402-98a1-df050744c7f8\\\\\\\\\\\\\", \\\\\\\\\\\\\"workspaceLocation\\\\\\\\\\\\\": \\\\\\\\\\\\\"southcentralus\\\\\\\\\\\\\"}}\\\\\", \\\\\"activities\\\\\": 0}',\n",
       "  'EnableSubsampling': None,\n",
       "  'runTemplate': 'AutoML',\n",
       "  'azureml.runsource': 'automl',\n",
       "  'display_task_type': 'classification',\n",
       "  'dependencies_versions': '{\"azureml-widgets\": \"1.19.0\", \"azureml-train\": \"1.19.0\", \"azureml-train-restclients-hyperdrive\": \"1.19.0\", \"azureml-train-core\": \"1.19.0\", \"azureml-train-automl\": \"1.20.0\", \"azureml-train-automl-runtime\": \"1.20.0\", \"azureml-train-automl-client\": \"1.20.0\", \"azureml-tensorboard\": \"1.19.0\", \"azureml-telemetry\": \"1.20.0\", \"azureml-sdk\": \"1.19.0\", \"azureml-samples\": \"0+unknown\", \"azureml-pipeline\": \"1.19.0\", \"azureml-pipeline-steps\": \"1.19.0\", \"azureml-pipeline-core\": \"1.20.0\", \"azureml-opendatasets\": \"1.19.0\", \"azureml-model-management-sdk\": \"1.0.1b6.post1\", \"azureml-mlflow\": \"1.19.0\", \"azureml-interpret\": \"1.20.0\", \"azureml-explain-model\": \"1.19.0\", \"azureml-defaults\": \"1.20.0\", \"azureml-dataset-runtime\": \"1.20.0\", \"azureml-dataprep\": \"2.7.2\", \"azureml-dataprep-rslex\": \"1.5.0\", \"azureml-dataprep-native\": \"27.0.0\", \"azureml-datadrift\": \"1.20.0\", \"azureml-core\": \"1.20.0\", \"azureml-contrib-services\": \"1.19.0\", \"azureml-contrib-server\": \"1.19.0\", \"azureml-contrib-reinforcementlearning\": \"1.19.0\", \"azureml-contrib-pipeline-steps\": \"1.19.0\", \"azureml-contrib-notebook\": \"1.19.0\", \"azureml-contrib-interpret\": \"1.19.0\", \"azureml-contrib-gbdt\": \"1.19.0\", \"azureml-contrib-fairness\": \"1.19.0\", \"azureml-contrib-dataset\": \"1.19.0\", \"azureml-cli-common\": \"1.19.0\", \"azureml-automl-runtime\": \"1.20.0\", \"azureml-automl-core\": \"1.20.0\", \"azureml-accel-models\": \"1.19.0\"}',\n",
       "  '_aml_system_scenario_identification': 'Remote.Parent',\n",
       "  'ClientType': 'SDK',\n",
       "  'environment_cpu_name': 'AzureML-AutoML',\n",
       "  'environment_cpu_label': 'prod',\n",
       "  'environment_gpu_name': 'AzureML-AutoML-GPU',\n",
       "  'environment_gpu_label': 'prod',\n",
       "  'root_attribution': 'automl',\n",
       "  'attribution': 'AutoML',\n",
       "  'Orchestrator': 'AutoML',\n",
       "  'CancelUri': 'https://southcentralus.experiments.azureml.net/jasmine/v1.0/subscriptions/6b4af8be-9931-443e-90f6-c4c34a1f9737/resourceGroups/aml-quickstarts-135575/providers/Microsoft.MachineLearningServices/workspaces/quick-starts-ws-135575/experimentids/7d9c12a8-1475-4e25-a81c-615217e1676b/cancel/AutoML_44bf19f9-8522-4820-8221-ed309fa9485b',\n",
       "  'ClientSdkVersion': '1.20.0',\n",
       "  'snapshotId': '00000000-0000-0000-0000-000000000000',\n",
       "  'SetupRunId': 'AutoML_44bf19f9-8522-4820-8221-ed309fa9485b_setup',\n",
       "  'SetupRunContainerId': 'dcid.AutoML_44bf19f9-8522-4820-8221-ed309fa9485b_setup',\n",
       "  'FeaturizationRunJsonPath': 'featurizer_container.json',\n",
       "  'FeaturizationRunId': 'AutoML_44bf19f9-8522-4820-8221-ed309fa9485b_featurize',\n",
       "  'ProblemInfoJsonString': '{\"dataset_num_categorical\": 0, \"is_sparse\": true, \"subsampling\": false, \"dataset_classes\": 2, \"dataset_features\": 74, \"dataset_samples\": 12330, \"single_frequency_class_detected\": false}',\n",
       "  'ModelExplainRunId': 'AutoML_44bf19f9-8522-4820-8221-ed309fa9485b_ModelExplain'},\n",
       " 'inputDatasets': [{'dataset': {'id': 'de41807b-2bc0-4b77-9f31-9b4c87c3ac68'}, 'consumptionDetails': {'type': 'RunInput', 'inputName': 'training_data', 'mechanism': 'Direct'}}],\n",
       " 'outputDatasets': [],\n",
       " 'logFiles': {},\n",
       " 'submittedBy': 'ODL_User 135575'}"
      ]
     },
     "execution_count": 15,
     "metadata": {},
     "output_type": "execute_result"
    }
   ],
   "source": [
    "RunDetails(remote_run).show()\n",
    "remote_run.wait_for_completion(show_output=True)"
   ]
  },
  {
   "cell_type": "markdown",
   "metadata": {},
   "source": [
    "## Best Model\n",
    "\n",
    "TODO: In the cell below, get the best model from the automl experiments and display all the properties of the model.\n",
    "\n"
   ]
  },
  {
   "cell_type": "code",
   "execution_count": 16,
   "metadata": {},
   "outputs": [],
   "source": [
    "# pip install --upgrade azureml-automl-core==1.20.0\n",
    "\n",
    "# pip install --upgrade\n",
    "# pip install --upgrade azureml-automl-runtime==1.20.0\n",
    "# pip install --upgrade azureml-core==1.20.0\n",
    "# pip install --upgrade azureml-dataprep==2.7.2\n",
    "# pip install --upgrade azureml-dataprep-native==27.0.0\n",
    "# pip install --upgrade azureml-dataprep-rslex==1.5.0\n",
    "# pip install --upgrade azureml-dataset-runtime==1.20.0\n",
    "# pip install --upgrade azureml-defaults==1.20.0\n",
    "# pip install --upgrade azureml-interpret==1.20.0\n",
    "# pip install --upgrade azureml-pipeline-core==1.20.0\n",
    "# pip install --upgrade azureml-telemetry==1.20.0\n",
    "# pip install --upgrade azureml-train-automl-client==1.20.0\n",
    "# pip install --upgrade azureml-train-automl-runtime==1.20.0\n"
   ]
  },
  {
   "cell_type": "code",
   "execution_count": 17,
   "metadata": {
    "gather": {
     "logged": 1598431425670
    },
    "jupyter": {
     "outputs_hidden": false,
     "source_hidden": false
    },
    "nteract": {
     "transient": {
      "deleting": false
     }
    }
   },
   "outputs": [
    {
     "name": "stdout",
     "output_type": "stream",
     "text": [
      "Pipeline(memory=None,\n",
      "         steps=[('datatransformer',\n",
      "                 DataTransformer(enable_dnn=None, enable_feature_sweeping=None,\n",
      "                                 feature_sweeping_config=None,\n",
      "                                 feature_sweeping_timeout=None,\n",
      "                                 featurization_config=None, force_text_dnn=None,\n",
      "                                 is_cross_validation=None,\n",
      "                                 is_onnx_compatible=None, logger=None,\n",
      "                                 observer=None, task=None, working_dir=None)),\n",
      "                ('prefittedsoftvotingclassifier',...\n",
      "                                                                                                    min_weight_fraction_leaf=0.0,\n",
      "                                                                                                    n_estimators=10,\n",
      "                                                                                                    n_jobs=1,\n",
      "                                                                                                    oob_score=False,\n",
      "                                                                                                    random_state=None,\n",
      "                                                                                                    verbose=0,\n",
      "                                                                                                    warm_start=False))],\n",
      "                                                                     verbose=False))],\n",
      "                                               flatten_transform=None,\n",
      "                                               weights=[0.16666666666666666,\n",
      "                                                        0.08333333333333333,\n",
      "                                                        0.08333333333333333,\n",
      "                                                        0.16666666666666666,\n",
      "                                                        0.16666666666666666,\n",
      "                                                        0.08333333333333333,\n",
      "                                                        0.08333333333333333,\n",
      "                                                        0.08333333333333333,\n",
      "                                                        0.08333333333333333]))],\n",
      "         verbose=False)\n",
      "Y_transformer(['LabelEncoder', LabelEncoder()])\n"
     ]
    }
   ],
   "source": [
    "automl_best_run, fitted_model = remote_run.get_output()\n",
    "print(fitted_model)"
   ]
  },
  {
   "cell_type": "code",
   "execution_count": 26,
   "metadata": {
    "gather": {
     "logged": 1598431426111
    },
    "jupyter": {
     "outputs_hidden": false,
     "source_hidden": false
    },
    "nteract": {
     "transient": {
      "deleting": false
     }
    }
   },
   "outputs": [],
   "source": [
    "#TODO: Save the best model\n",
    "automl_model = automl_best_run.register_model(model_name='classification_automl',model_path='outputs/')"
   ]
  },
  {
   "cell_type": "code",
   "execution_count": 27,
   "metadata": {},
   "outputs": [],
   "source": [
    "# env = automl_best_run.get_environment()\n",
    "# automl_best_run.download_files?"
   ]
  },
  {
   "cell_type": "code",
   "execution_count": 28,
   "metadata": {},
   "outputs": [
    {
     "name": "stdout",
     "output_type": "stream",
     "text": [
      "Metric name : precision_score_macro = 0.838460702434111\n",
      "Metric name : f1_score_micro = 0.9066504460665045\n",
      "Metric name : recall_score_micro = 0.9066504460665045\n",
      "Metric name : log_loss = 0.2266087483783482\n",
      "Metric name : f1_score_macro = 0.8057216466566705\n",
      "Metric name : recall_score_macro = 0.7816172679864851\n",
      "Metric name : precision_score_weighted = 0.9010439041808679\n",
      "Metric name : precision_score_micro = 0.9066504460665045\n",
      "Metric name : balanced_accuracy = 0.7816172679864851\n",
      "Metric name : accuracy = 0.9066504460665045\n",
      "Metric name : AUC_macro = 0.9345713195927745\n",
      "Metric name : matthews_correlation = 0.6173852809670701\n",
      "Metric name : average_precision_score_micro = 0.9705713961284251\n",
      "Metric name : AUC_micro = 0.9696798503442438\n",
      "Metric name : average_precision_score_weighted = 0.9506736350786168\n",
      "Metric name : weighted_accuracy = 0.951071908145629\n",
      "Metric name : AUC_weighted = 0.9345713195927745\n",
      "Metric name : norm_macro_recall = 0.5632345359729701\n",
      "Metric name : average_precision_score_macro = 0.870383831093613\n",
      "Metric name : f1_score_weighted = 0.9022832171189696\n",
      "Metric name : recall_score_weighted = 0.9066504460665045\n",
      "Metric name : accuracy_table = aml://artifactId/ExperimentRun/dcid.AutoML_44bf19f9-8522-4820-8221-ed309fa9485b_38/accuracy_table\n",
      "Metric name : confusion_matrix = aml://artifactId/ExperimentRun/dcid.AutoML_44bf19f9-8522-4820-8221-ed309fa9485b_38/confusion_matrix\n"
     ]
    }
   ],
   "source": [
    "# automl metrics\n",
    "automl_metrics = automl_best_run.get_metrics()\n",
    "for metric in automl_metrics:\n",
    "    print('Metric name : {} = {}'.format(metric,automl_metrics[metric]))"
   ]
  },
  {
   "cell_type": "markdown",
   "metadata": {},
   "source": [
    "## Model Deployment\n",
    "\n",
    "Remember you have to deploy only one of the two models you trained.. Perform the steps in the rest of this notebook only if you wish to deploy this model.\n",
    "\n",
    "TODO: In the cell below, register the model, create an inference config and deploy the model as a web service."
   ]
  },
  {
   "cell_type": "code",
   "execution_count": 23,
   "metadata": {
    "gather": {
     "logged": 1598431435189
    },
    "jupyter": {
     "outputs_hidden": false,
     "source_hidden": false
    },
    "nteract": {
     "transient": {
      "deleting": false
     }
    }
   },
   "outputs": [],
   "source": [
    "# Download scoring file \n",
    "automl_best_run.download_file('outputs/scoring_file_v_1_0_0.py', 'score.py')\n",
    "\n",
    "# Download environment file\n",
    "automl_best_run.download_file('outputs/conda_env_v_1_0_0.yml', 'envFile.yml')\n",
    "automl_best_run.download_file('outputs/env_dependencies.json', 'envDependencies.json')\n"
   ]
  },
  {
   "cell_type": "markdown",
   "metadata": {
    "collapsed": true,
    "gather": {
     "logged": 1598431657736
    },
    "jupyter": {
     "outputs_hidden": false,
     "source_hidden": false
    },
    "nteract": {
     "transient": {
      "deleting": false
     }
    }
   },
   "source": [
    "TODO: In the cell below, send a request to the web service you deployed to test it."
   ]
  },
  {
   "cell_type": "code",
   "execution_count": 33,
   "metadata": {
    "gather": {
     "logged": 1598432707604
    },
    "jupyter": {
     "outputs_hidden": false,
     "source_hidden": false
    },
    "nteract": {
     "transient": {
      "deleting": false
     }
    }
   },
   "outputs": [],
   "source": [
    "from azureml.core.environment import Environment\n",
    "from azureml.core.model import InferenceConfig\n",
    "from azureml.core.webservice import AciWebservice\n",
    "from azureml.core import Model\n",
    "#automl_best_run.get_environment()"
   ]
  },
  {
   "cell_type": "code",
   "execution_count": 35,
   "metadata": {},
   "outputs": [
    {
     "name": "stdout",
     "output_type": "stream",
     "text": [
      "Tips: You can try get_logs(): https://aka.ms/debugimage#dockerlog or local deployment: https://aka.ms/debugimage#debug-locally to debug if deployment takes longer than 10 minutes.\n",
      "Running.............................................................\n",
      "Failed\n"
     ]
    },
    {
     "name": "stderr",
     "output_type": "stream",
     "text": [
      "ERROR:azureml.core.webservice.webservice:Service deployment polling reached non-successful terminal state, current service state: Failed\n",
      "Operation ID: 65d4d5f3-870f-4d5a-81fb-f10edcf2bb61\n",
      "More information can be found using '.get_logs()'\n",
      "Error:\n",
      "{\n",
      "  \"code\": \"AciDeploymentFailed\",\n",
      "  \"message\": \"Aci Deployment failed with exception: Your container application crashed. This may be caused by errors in your scoring file's init() function.\\nPlease check the logs for your container instance: shoppingintension. From the AML SDK, you can run print(service.get_logs()) if you have service object to fetch the logs. \\nYou can interactively debug your scoring file locally. Please refer to https://docs.microsoft.com/azure/machine-learning/how-to-debug-visual-studio-code#debug-and-troubleshoot-deployments for more information.\\nYou can also try to run image viennaglobal.azurecr.io/azureml/azureml_1bf351e5bef2165541436fa8199c03af locally. Please refer to https://aka.ms/debugimage#service-launch-fails for more information.\",\n",
      "  \"details\": [\n",
      "    {\n",
      "      \"code\": \"CrashLoopBackOff\",\n",
      "      \"message\": \"Your container application crashed. This may be caused by errors in your scoring file's init() function.\\nPlease check the logs for your container instance: shoppingintension. From the AML SDK, you can run print(service.get_logs()) if you have service object to fetch the logs. \\nYou can interactively debug your scoring file locally. Please refer to https://docs.microsoft.com/azure/machine-learning/how-to-debug-visual-studio-code#debug-and-troubleshoot-deployments for more information.\\nYou can also try to run image viennaglobal.azurecr.io/azureml/azureml_1bf351e5bef2165541436fa8199c03af locally. Please refer to https://aka.ms/debugimage#service-launch-fails for more information.\"\n",
      "    },\n",
      "    {\n",
      "      \"code\": \"AciDeploymentFailed\",\n",
      "      \"message\": \"Your container application crashed. Please follow the steps to debug:\\n1. From the AML SDK, you can run print(service.get_logs()) if you have service object to fetch the logs. Please refer to https://aka.ms/debugimage#dockerlog for more information.\\n2. If your container application crashed. This may be caused by errors in your scoring file's init() function. You can try debugging locally first. Please refer to https://aka.ms/debugimage#debug-locally for more information.\\n3. You can also interactively debug your scoring file locally. Please refer to https://docs.microsoft.com/azure/machine-learning/how-to-debug-visual-studio-code#debug-and-troubleshoot-deployments for more information.\\n4. View the diagnostic events to check status of container, it may help you to debug the issue. {\\\"restartCount\\\":3,\\\"currentState\\\":{\\\"state\\\":\\\"Waiting\\\",\\\"startTime\\\":null,\\\"exitCode\\\":null,\\\"finishTime\\\":null,\\\"detailStatus\\\":\\\"CrashLoopBackOff: Back-off restarting failed\\\"},\\\"previousState\\\":{\\\"state\\\":\\\"Terminated\\\",\\\"startTime\\\":\\\"2021-01-21T12:50:30.626Z\\\",\\\"exitCode\\\":111,\\\"finishTime\\\":\\\"2021-01-21T12:50:36.953Z\\\",\\\"detailStatus\\\":\\\"Error\\\"},\\\"events\\\":null}\"\n",
      "    }\n",
      "  ]\n",
      "}\n",
      "\n"
     ]
    },
    {
     "ename": "WebserviceException",
     "evalue": "WebserviceException:\n\tMessage: Service deployment polling reached non-successful terminal state, current service state: Failed\nOperation ID: 65d4d5f3-870f-4d5a-81fb-f10edcf2bb61\nMore information can be found using '.get_logs()'\nError:\n{\n  \"code\": \"AciDeploymentFailed\",\n  \"message\": \"Aci Deployment failed with exception: Your container application crashed. This may be caused by errors in your scoring file's init() function.\\nPlease check the logs for your container instance: shoppingintension. From the AML SDK, you can run print(service.get_logs()) if you have service object to fetch the logs. \\nYou can interactively debug your scoring file locally. Please refer to https://docs.microsoft.com/azure/machine-learning/how-to-debug-visual-studio-code#debug-and-troubleshoot-deployments for more information.\\nYou can also try to run image viennaglobal.azurecr.io/azureml/azureml_1bf351e5bef2165541436fa8199c03af locally. Please refer to https://aka.ms/debugimage#service-launch-fails for more information.\",\n  \"details\": [\n    {\n      \"code\": \"CrashLoopBackOff\",\n      \"message\": \"Your container application crashed. This may be caused by errors in your scoring file's init() function.\\nPlease check the logs for your container instance: shoppingintension. From the AML SDK, you can run print(service.get_logs()) if you have service object to fetch the logs. \\nYou can interactively debug your scoring file locally. Please refer to https://docs.microsoft.com/azure/machine-learning/how-to-debug-visual-studio-code#debug-and-troubleshoot-deployments for more information.\\nYou can also try to run image viennaglobal.azurecr.io/azureml/azureml_1bf351e5bef2165541436fa8199c03af locally. Please refer to https://aka.ms/debugimage#service-launch-fails for more information.\"\n    },\n    {\n      \"code\": \"AciDeploymentFailed\",\n      \"message\": \"Your container application crashed. Please follow the steps to debug:\\n1. From the AML SDK, you can run print(service.get_logs()) if you have service object to fetch the logs. Please refer to https://aka.ms/debugimage#dockerlog for more information.\\n2. If your container application crashed. This may be caused by errors in your scoring file's init() function. You can try debugging locally first. Please refer to https://aka.ms/debugimage#debug-locally for more information.\\n3. You can also interactively debug your scoring file locally. Please refer to https://docs.microsoft.com/azure/machine-learning/how-to-debug-visual-studio-code#debug-and-troubleshoot-deployments for more information.\\n4. View the diagnostic events to check status of container, it may help you to debug the issue. {\\\"restartCount\\\":3,\\\"currentState\\\":{\\\"state\\\":\\\"Waiting\\\",\\\"startTime\\\":null,\\\"exitCode\\\":null,\\\"finishTime\\\":null,\\\"detailStatus\\\":\\\"CrashLoopBackOff: Back-off restarting failed\\\"},\\\"previousState\\\":{\\\"state\\\":\\\"Terminated\\\",\\\"startTime\\\":\\\"2021-01-21T12:50:30.626Z\\\",\\\"exitCode\\\":111,\\\"finishTime\\\":\\\"2021-01-21T12:50:36.953Z\\\",\\\"detailStatus\\\":\\\"Error\\\"},\\\"events\\\":null}\"\n    }\n  ]\n}\n\tInnerException None\n\tErrorResponse \n{\n    \"error\": {\n        \"message\": \"Service deployment polling reached non-successful terminal state, current service state: Failed\\nOperation ID: 65d4d5f3-870f-4d5a-81fb-f10edcf2bb61\\nMore information can be found using '.get_logs()'\\nError:\\n{\\n  \\\"code\\\": \\\"AciDeploymentFailed\\\",\\n  \\\"message\\\": \\\"Aci Deployment failed with exception: Your container application crashed. This may be caused by errors in your scoring file's init() function.\\\\nPlease check the logs for your container instance: shoppingintension. From the AML SDK, you can run print(service.get_logs()) if you have service object to fetch the logs. \\\\nYou can interactively debug your scoring file locally. Please refer to https://docs.microsoft.com/azure/machine-learning/how-to-debug-visual-studio-code#debug-and-troubleshoot-deployments for more information.\\\\nYou can also try to run image viennaglobal.azurecr.io/azureml/azureml_1bf351e5bef2165541436fa8199c03af locally. Please refer to https://aka.ms/debugimage#service-launch-fails for more information.\\\",\\n  \\\"details\\\": [\\n    {\\n      \\\"code\\\": \\\"CrashLoopBackOff\\\",\\n      \\\"message\\\": \\\"Your container application crashed. This may be caused by errors in your scoring file's init() function.\\\\nPlease check the logs for your container instance: shoppingintension. From the AML SDK, you can run print(service.get_logs()) if you have service object to fetch the logs. \\\\nYou can interactively debug your scoring file locally. Please refer to https://docs.microsoft.com/azure/machine-learning/how-to-debug-visual-studio-code#debug-and-troubleshoot-deployments for more information.\\\\nYou can also try to run image viennaglobal.azurecr.io/azureml/azureml_1bf351e5bef2165541436fa8199c03af locally. Please refer to https://aka.ms/debugimage#service-launch-fails for more information.\\\"\\n    },\\n    {\\n      \\\"code\\\": \\\"AciDeploymentFailed\\\",\\n      \\\"message\\\": \\\"Your container application crashed. Please follow the steps to debug:\\\\n1. From the AML SDK, you can run print(service.get_logs()) if you have service object to fetch the logs. Please refer to https://aka.ms/debugimage#dockerlog for more information.\\\\n2. If your container application crashed. This may be caused by errors in your scoring file's init() function. You can try debugging locally first. Please refer to https://aka.ms/debugimage#debug-locally for more information.\\\\n3. You can also interactively debug your scoring file locally. Please refer to https://docs.microsoft.com/azure/machine-learning/how-to-debug-visual-studio-code#debug-and-troubleshoot-deployments for more information.\\\\n4. View the diagnostic events to check status of container, it may help you to debug the issue. {\\\\\\\"restartCount\\\\\\\":3,\\\\\\\"currentState\\\\\\\":{\\\\\\\"state\\\\\\\":\\\\\\\"Waiting\\\\\\\",\\\\\\\"startTime\\\\\\\":null,\\\\\\\"exitCode\\\\\\\":null,\\\\\\\"finishTime\\\\\\\":null,\\\\\\\"detailStatus\\\\\\\":\\\\\\\"CrashLoopBackOff: Back-off restarting failed\\\\\\\"},\\\\\\\"previousState\\\\\\\":{\\\\\\\"state\\\\\\\":\\\\\\\"Terminated\\\\\\\",\\\\\\\"startTime\\\\\\\":\\\\\\\"2021-01-21T12:50:30.626Z\\\\\\\",\\\\\\\"exitCode\\\\\\\":111,\\\\\\\"finishTime\\\\\\\":\\\\\\\"2021-01-21T12:50:36.953Z\\\\\\\",\\\\\\\"detailStatus\\\\\\\":\\\\\\\"Error\\\\\\\"},\\\\\\\"events\\\\\\\":null}\\\"\\n    }\\n  ]\\n}\"\n    }\n}",
     "output_type": "error",
     "traceback": [
      "\u001b[0;31m---------------------------------------------------------------------------\u001b[0m",
      "\u001b[0;31mWebserviceException\u001b[0m                       Traceback (most recent call last)",
      "\u001b[0;32m<ipython-input-35-8359e4953a2b>\u001b[0m in \u001b[0;36m<module>\u001b[0;34m\u001b[0m\n\u001b[1;32m      4\u001b[0m \u001b[0mdeployment_config\u001b[0m \u001b[0;34m=\u001b[0m \u001b[0mAciWebservice\u001b[0m\u001b[0;34m.\u001b[0m\u001b[0mdeploy_configuration\u001b[0m\u001b[0;34m(\u001b[0m\u001b[0mcpu_cores\u001b[0m \u001b[0;34m=\u001b[0m \u001b[0;36m1\u001b[0m\u001b[0;34m,\u001b[0m \u001b[0mmemory_gb\u001b[0m \u001b[0;34m=\u001b[0m \u001b[0;36m1\u001b[0m\u001b[0;34m)\u001b[0m\u001b[0;34m\u001b[0m\u001b[0;34m\u001b[0m\u001b[0m\n\u001b[1;32m      5\u001b[0m \u001b[0mservice\u001b[0m \u001b[0;34m=\u001b[0m \u001b[0mModel\u001b[0m\u001b[0;34m.\u001b[0m\u001b[0mdeploy\u001b[0m\u001b[0;34m(\u001b[0m\u001b[0mws\u001b[0m\u001b[0;34m,\u001b[0m \u001b[0;34m\"shoppingintension\"\u001b[0m\u001b[0;34m,\u001b[0m \u001b[0;34m[\u001b[0m\u001b[0mautoml_model\u001b[0m\u001b[0;34m]\u001b[0m\u001b[0;34m,\u001b[0m \u001b[0minference_config\u001b[0m\u001b[0;34m,\u001b[0m \u001b[0mdeployment_config\u001b[0m\u001b[0;34m)\u001b[0m\u001b[0;34m\u001b[0m\u001b[0;34m\u001b[0m\u001b[0m\n\u001b[0;32m----> 6\u001b[0;31m \u001b[0mservice\u001b[0m\u001b[0;34m.\u001b[0m\u001b[0mwait_for_deployment\u001b[0m\u001b[0;34m(\u001b[0m\u001b[0mshow_output\u001b[0m \u001b[0;34m=\u001b[0m \u001b[0;32mTrue\u001b[0m\u001b[0;34m)\u001b[0m\u001b[0;34m\u001b[0m\u001b[0;34m\u001b[0m\u001b[0m\n\u001b[0m\u001b[1;32m      7\u001b[0m \u001b[0mprint\u001b[0m\u001b[0;34m(\u001b[0m\u001b[0mservice\u001b[0m\u001b[0;34m.\u001b[0m\u001b[0mstate\u001b[0m\u001b[0;34m)\u001b[0m\u001b[0;34m\u001b[0m\u001b[0;34m\u001b[0m\u001b[0m\n\u001b[1;32m      8\u001b[0m \u001b[0;34m\u001b[0m\u001b[0m\n",
      "\u001b[0;32m/anaconda/envs/azureml_py36/lib/python3.6/site-packages/azureml/core/webservice/webservice.py\u001b[0m in \u001b[0;36mwait_for_deployment\u001b[0;34m(self, show_output, timeout_sec)\u001b[0m\n\u001b[1;32m    913\u001b[0m                                           \u001b[0;34m'Error:\\n'\u001b[0m\u001b[0;34m\u001b[0m\u001b[0;34m\u001b[0m\u001b[0m\n\u001b[1;32m    914\u001b[0m                                           '{}'.format(self.state, self._operation_endpoint.split('/')[-1],\n\u001b[0;32m--> 915\u001b[0;31m                                                       logs_response, error_response), logger=module_logger)\n\u001b[0m\u001b[1;32m    916\u001b[0m             print('{} service creation operation finished, operation \"{}\"'.format(self._webservice_type,\n\u001b[1;32m    917\u001b[0m                                                                                   operation_state))\n",
      "\u001b[0;31mWebserviceException\u001b[0m: WebserviceException:\n\tMessage: Service deployment polling reached non-successful terminal state, current service state: Failed\nOperation ID: 65d4d5f3-870f-4d5a-81fb-f10edcf2bb61\nMore information can be found using '.get_logs()'\nError:\n{\n  \"code\": \"AciDeploymentFailed\",\n  \"message\": \"Aci Deployment failed with exception: Your container application crashed. This may be caused by errors in your scoring file's init() function.\\nPlease check the logs for your container instance: shoppingintension. From the AML SDK, you can run print(service.get_logs()) if you have service object to fetch the logs. \\nYou can interactively debug your scoring file locally. Please refer to https://docs.microsoft.com/azure/machine-learning/how-to-debug-visual-studio-code#debug-and-troubleshoot-deployments for more information.\\nYou can also try to run image viennaglobal.azurecr.io/azureml/azureml_1bf351e5bef2165541436fa8199c03af locally. Please refer to https://aka.ms/debugimage#service-launch-fails for more information.\",\n  \"details\": [\n    {\n      \"code\": \"CrashLoopBackOff\",\n      \"message\": \"Your container application crashed. This may be caused by errors in your scoring file's init() function.\\nPlease check the logs for your container instance: shoppingintension. From the AML SDK, you can run print(service.get_logs()) if you have service object to fetch the logs. \\nYou can interactively debug your scoring file locally. Please refer to https://docs.microsoft.com/azure/machine-learning/how-to-debug-visual-studio-code#debug-and-troubleshoot-deployments for more information.\\nYou can also try to run image viennaglobal.azurecr.io/azureml/azureml_1bf351e5bef2165541436fa8199c03af locally. Please refer to https://aka.ms/debugimage#service-launch-fails for more information.\"\n    },\n    {\n      \"code\": \"AciDeploymentFailed\",\n      \"message\": \"Your container application crashed. Please follow the steps to debug:\\n1. From the AML SDK, you can run print(service.get_logs()) if you have service object to fetch the logs. Please refer to https://aka.ms/debugimage#dockerlog for more information.\\n2. If your container application crashed. This may be caused by errors in your scoring file's init() function. You can try debugging locally first. Please refer to https://aka.ms/debugimage#debug-locally for more information.\\n3. You can also interactively debug your scoring file locally. Please refer to https://docs.microsoft.com/azure/machine-learning/how-to-debug-visual-studio-code#debug-and-troubleshoot-deployments for more information.\\n4. View the diagnostic events to check status of container, it may help you to debug the issue. {\\\"restartCount\\\":3,\\\"currentState\\\":{\\\"state\\\":\\\"Waiting\\\",\\\"startTime\\\":null,\\\"exitCode\\\":null,\\\"finishTime\\\":null,\\\"detailStatus\\\":\\\"CrashLoopBackOff: Back-off restarting failed\\\"},\\\"previousState\\\":{\\\"state\\\":\\\"Terminated\\\",\\\"startTime\\\":\\\"2021-01-21T12:50:30.626Z\\\",\\\"exitCode\\\":111,\\\"finishTime\\\":\\\"2021-01-21T12:50:36.953Z\\\",\\\"detailStatus\\\":\\\"Error\\\"},\\\"events\\\":null}\"\n    }\n  ]\n}\n\tInnerException None\n\tErrorResponse \n{\n    \"error\": {\n        \"message\": \"Service deployment polling reached non-successful terminal state, current service state: Failed\\nOperation ID: 65d4d5f3-870f-4d5a-81fb-f10edcf2bb61\\nMore information can be found using '.get_logs()'\\nError:\\n{\\n  \\\"code\\\": \\\"AciDeploymentFailed\\\",\\n  \\\"message\\\": \\\"Aci Deployment failed with exception: Your container application crashed. This may be caused by errors in your scoring file's init() function.\\\\nPlease check the logs for your container instance: shoppingintension. From the AML SDK, you can run print(service.get_logs()) if you have service object to fetch the logs. \\\\nYou can interactively debug your scoring file locally. Please refer to https://docs.microsoft.com/azure/machine-learning/how-to-debug-visual-studio-code#debug-and-troubleshoot-deployments for more information.\\\\nYou can also try to run image viennaglobal.azurecr.io/azureml/azureml_1bf351e5bef2165541436fa8199c03af locally. Please refer to https://aka.ms/debugimage#service-launch-fails for more information.\\\",\\n  \\\"details\\\": [\\n    {\\n      \\\"code\\\": \\\"CrashLoopBackOff\\\",\\n      \\\"message\\\": \\\"Your container application crashed. This may be caused by errors in your scoring file's init() function.\\\\nPlease check the logs for your container instance: shoppingintension. From the AML SDK, you can run print(service.get_logs()) if you have service object to fetch the logs. \\\\nYou can interactively debug your scoring file locally. Please refer to https://docs.microsoft.com/azure/machine-learning/how-to-debug-visual-studio-code#debug-and-troubleshoot-deployments for more information.\\\\nYou can also try to run image viennaglobal.azurecr.io/azureml/azureml_1bf351e5bef2165541436fa8199c03af locally. Please refer to https://aka.ms/debugimage#service-launch-fails for more information.\\\"\\n    },\\n    {\\n      \\\"code\\\": \\\"AciDeploymentFailed\\\",\\n      \\\"message\\\": \\\"Your container application crashed. Please follow the steps to debug:\\\\n1. From the AML SDK, you can run print(service.get_logs()) if you have service object to fetch the logs. Please refer to https://aka.ms/debugimage#dockerlog for more information.\\\\n2. If your container application crashed. This may be caused by errors in your scoring file's init() function. You can try debugging locally first. Please refer to https://aka.ms/debugimage#debug-locally for more information.\\\\n3. You can also interactively debug your scoring file locally. Please refer to https://docs.microsoft.com/azure/machine-learning/how-to-debug-visual-studio-code#debug-and-troubleshoot-deployments for more information.\\\\n4. View the diagnostic events to check status of container, it may help you to debug the issue. {\\\\\\\"restartCount\\\\\\\":3,\\\\\\\"currentState\\\\\\\":{\\\\\\\"state\\\\\\\":\\\\\\\"Waiting\\\\\\\",\\\\\\\"startTime\\\\\\\":null,\\\\\\\"exitCode\\\\\\\":null,\\\\\\\"finishTime\\\\\\\":null,\\\\\\\"detailStatus\\\\\\\":\\\\\\\"CrashLoopBackOff: Back-off restarting failed\\\\\\\"},\\\\\\\"previousState\\\\\\\":{\\\\\\\"state\\\\\\\":\\\\\\\"Terminated\\\\\\\",\\\\\\\"startTime\\\\\\\":\\\\\\\"2021-01-21T12:50:30.626Z\\\\\\\",\\\\\\\"exitCode\\\\\\\":111,\\\\\\\"finishTime\\\\\\\":\\\\\\\"2021-01-21T12:50:36.953Z\\\\\\\",\\\\\\\"detailStatus\\\\\\\":\\\\\\\"Error\\\\\\\"},\\\\\\\"events\\\\\\\":null}\\\"\\n    }\\n  ]\\n}\"\n    }\n}"
     ]
    }
   ],
   "source": [
    "inference_config = InferenceConfig(entry_script='score.py',\n",
    "                                    environment=automl_best_run.get_environment())\n",
    "\n",
    "deployment_config = AciWebservice.deploy_configuration(cpu_cores = 1, memory_gb = 1)\n",
    "service = Model.deploy(ws, \"shoppingintension\", [automl_model], inference_config, deployment_config)\n",
    "service.wait_for_deployment(show_output = True)\n",
    "print(service.state)\n",
    "\n",
    "print(service.scoring_uri)\n",
    "\n",
    "print(service.swagger_uri)"
   ]
  },
  {
   "cell_type": "code",
   "execution_count": 37,
   "metadata": {},
   "outputs": [
    {
     "data": {
      "text/plain": [
       "'2021-01-21T12:52:51,221748000+00:00 - rsyslog/run \\n2021-01-21T12:52:51,224160100+00:00 - gunicorn/run \\n2021-01-21T12:52:51,226858800+00:00 - iot-server/run \\nrsyslogd: /azureml-envs/azureml_23df5d07c5e8388dac3ecfdf573dafb1/lib/libuuid.so.1: no version information available (required by rsyslogd)\\n2021-01-21T12:52:51,294770100+00:00 - nginx/run \\n/usr/sbin/nginx: /azureml-envs/azureml_23df5d07c5e8388dac3ecfdf573dafb1/lib/libcrypto.so.1.0.0: no version information available (required by /usr/sbin/nginx)\\n/usr/sbin/nginx: /azureml-envs/azureml_23df5d07c5e8388dac3ecfdf573dafb1/lib/libcrypto.so.1.0.0: no version information available (required by /usr/sbin/nginx)\\n/usr/sbin/nginx: /azureml-envs/azureml_23df5d07c5e8388dac3ecfdf573dafb1/lib/libssl.so.1.0.0: no version information available (required by /usr/sbin/nginx)\\n/usr/sbin/nginx: /azureml-envs/azureml_23df5d07c5e8388dac3ecfdf573dafb1/lib/libssl.so.1.0.0: no version information available (required by /usr/sbin/nginx)\\n/usr/sbin/nginx: /azureml-envs/azureml_23df5d07c5e8388dac3ecfdf573dafb1/lib/libssl.so.1.0.0: no version information available (required by /usr/sbin/nginx)\\nEdgeHubConnectionString and IOTEDGE_IOTHUBHOSTNAME are not set. Exiting...\\n2021-01-21T12:52:51,559351900+00:00 - iot-server/finish 1 0\\n2021-01-21T12:52:51,561064100+00:00 - Exit code 1 is normal. Not restarting iot-server.\\n'"
      ]
     },
     "execution_count": 37,
     "metadata": {},
     "output_type": "execute_result"
    }
   ],
   "source": [
    "service.get_logs()"
   ]
  },
  {
   "cell_type": "markdown",
   "metadata": {
    "collapsed": true,
    "gather": {
     "logged": 1598432765711
    },
    "jupyter": {
     "outputs_hidden": false,
     "source_hidden": false
    },
    "nteract": {
     "transient": {
      "deleting": false
     }
    }
   },
   "source": [
    "TODO: In the cell below, print the logs of the web service and delete the service"
   ]
  },
  {
   "cell_type": "code",
   "execution_count": null,
   "metadata": {
    "jupyter": {
     "outputs_hidden": false,
     "source_hidden": false
    },
    "nteract": {
     "transient": {
      "deleting": false
     }
    }
   },
   "outputs": [],
   "source": []
  }
 ],
 "metadata": {
  "kernel_info": {
   "name": "python3"
  },
  "kernelspec": {
   "display_name": "Python 3",
   "language": "python",
   "name": "python3"
  },
  "language_info": {
   "codemirror_mode": {
    "name": "ipython",
    "version": 3
   },
   "file_extension": ".py",
   "mimetype": "text/x-python",
   "name": "python",
   "nbconvert_exporter": "python",
   "pygments_lexer": "ipython3",
   "version": "3.6.9"
  },
  "nteract": {
   "version": "nteract-front-end@1.0.0"
  }
 },
 "nbformat": 4,
 "nbformat_minor": 2
}
