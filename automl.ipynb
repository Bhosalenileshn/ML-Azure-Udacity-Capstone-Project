{
 "cells": [
  {
   "cell_type": "markdown",
   "metadata": {},
   "source": [
    "# Automated ML\n",
    "\n",
    "TODO: Import Dependencies. In the cell below, import all the dependencies that you will need to complete the project."
   ]
  },
  {
   "cell_type": "code",
   "execution_count": 1,
   "metadata": {
    "gather": {
     "logged": 1598423888013
    },
    "jupyter": {
     "outputs_hidden": false,
     "source_hidden": false
    },
    "nteract": {
     "transient": {
      "deleting": false
     }
    }
   },
   "outputs": [
    {
     "name": "stdout",
     "output_type": "stream",
     "text": [
      "SDK version: 1.20.0\n"
     ]
    }
   ],
   "source": [
    "import logging\n",
    "import os\n",
    "import csv\n",
    "\n",
    "from matplotlib import pyplot as plt\n",
    "import numpy as np\n",
    "import pandas as pd\n",
    "from sklearn import datasets\n",
    "import pkg_resources\n",
    "\n",
    "import azureml.core\n",
    "from azureml.core.experiment import Experiment\n",
    "from azureml.core.workspace import Workspace\n",
    "from azureml.train.automl import AutoMLConfig\n",
    "from azureml.core.dataset import Dataset\n",
    "\n",
    "from azureml.pipeline.steps import AutoMLStep\n",
    "from azureml.widgets import RunDetails\n",
    "from azureml.core import Workspace, Dataset\n",
    "\n",
    "# Check core SDK version number\n",
    "print(\"SDK version:\", azureml.core.VERSION)\n"
   ]
  },
  {
   "cell_type": "code",
   "execution_count": 13,
   "metadata": {},
   "outputs": [],
   "source": [
    "import azureml.train.automl.runtime"
   ]
  },
  {
   "cell_type": "code",
   "execution_count": 2,
   "metadata": {},
   "outputs": [],
   "source": [
    "#pip show azureml-core"
   ]
  },
  {
   "cell_type": "code",
   "execution_count": 3,
   "metadata": {},
   "outputs": [],
   "source": [
    "#!pip install --upgrade azureml-automl-core"
   ]
  },
  {
   "cell_type": "code",
   "execution_count": 4,
   "metadata": {},
   "outputs": [],
   "source": [
    "#!pip install --upgrade --upgrade-strategy eager azureml-sdk"
   ]
  },
  {
   "cell_type": "markdown",
   "metadata": {},
   "source": [
    "## Dataset\n",
    "\n",
    "### Overview\n",
    "TODO: In this markdown cell, give an overview of the dataset you are using. Also mention the task you will be performing.\n",
    "\n",
    "\n",
    "TODO: Get data. In the cell below, write code to access the data you will be using in this project. Remember that the dataset needs to be external."
   ]
  },
  {
   "cell_type": "code",
   "execution_count": 5,
   "metadata": {
    "gather": {
     "logged": 1598423890461
    },
    "jupyter": {
     "outputs_hidden": false,
     "source_hidden": false
    },
    "nteract": {
     "transient": {
      "deleting": false
     }
    }
   },
   "outputs": [
    {
     "name": "stdout",
     "output_type": "stream",
     "text": [
      "quick-starts-ws-135455\n",
      "aml-quickstarts-135455\n",
      "southcentralus\n",
      "61c5c3f0-6dc7-4ed9-a7f3-c704b20e3b30\n"
     ]
    }
   ],
   "source": [
    "ws = Workspace.from_config()\n",
    "\n",
    "# choose a name for experiment\n",
    "experiment_name = 'automl-experiment'\n",
    "project_folder = './pipeline-project'\n",
    "experiment=Experiment(ws, experiment_name)\n",
    "print(ws.name, ws.resource_group, ws.location, ws.subscription_id, sep = '\\n')"
   ]
  },
  {
   "cell_type": "code",
   "execution_count": 6,
   "metadata": {},
   "outputs": [
    {
     "data": {
      "text/html": [
       "<div>\n",
       "<style scoped>\n",
       "    .dataframe tbody tr th:only-of-type {\n",
       "        vertical-align: middle;\n",
       "    }\n",
       "\n",
       "    .dataframe tbody tr th {\n",
       "        vertical-align: top;\n",
       "    }\n",
       "\n",
       "    .dataframe thead th {\n",
       "        text-align: right;\n",
       "    }\n",
       "</style>\n",
       "<table border=\"1\" class=\"dataframe\">\n",
       "  <thead>\n",
       "    <tr style=\"text-align: right;\">\n",
       "      <th></th>\n",
       "      <th>Administrative</th>\n",
       "      <th>Administrative_Duration</th>\n",
       "      <th>Informational</th>\n",
       "      <th>Informational_Duration</th>\n",
       "      <th>ProductRelated</th>\n",
       "      <th>ProductRelated_Duration</th>\n",
       "      <th>BounceRates</th>\n",
       "      <th>ExitRates</th>\n",
       "      <th>PageValues</th>\n",
       "      <th>SpecialDay</th>\n",
       "      <th>Month</th>\n",
       "      <th>OperatingSystems</th>\n",
       "      <th>Browser</th>\n",
       "      <th>Region</th>\n",
       "      <th>TrafficType</th>\n",
       "      <th>VisitorType</th>\n",
       "      <th>Weekend</th>\n",
       "      <th>Revenue</th>\n",
       "    </tr>\n",
       "  </thead>\n",
       "  <tbody>\n",
       "    <tr>\n",
       "      <th>0</th>\n",
       "      <td>0.0</td>\n",
       "      <td>0.0</td>\n",
       "      <td>0.0</td>\n",
       "      <td>0.0</td>\n",
       "      <td>1.0</td>\n",
       "      <td>0.000000</td>\n",
       "      <td>0.200000</td>\n",
       "      <td>0.200000</td>\n",
       "      <td>0.000000</td>\n",
       "      <td>0.0</td>\n",
       "      <td>Feb</td>\n",
       "      <td>1</td>\n",
       "      <td>1</td>\n",
       "      <td>1</td>\n",
       "      <td>1</td>\n",
       "      <td>Returning_Visitor</td>\n",
       "      <td>False</td>\n",
       "      <td>False</td>\n",
       "    </tr>\n",
       "    <tr>\n",
       "      <th>1</th>\n",
       "      <td>0.0</td>\n",
       "      <td>0.0</td>\n",
       "      <td>0.0</td>\n",
       "      <td>0.0</td>\n",
       "      <td>2.0</td>\n",
       "      <td>64.000000</td>\n",
       "      <td>0.000000</td>\n",
       "      <td>0.100000</td>\n",
       "      <td>0.000000</td>\n",
       "      <td>0.0</td>\n",
       "      <td>Feb</td>\n",
       "      <td>2</td>\n",
       "      <td>2</td>\n",
       "      <td>1</td>\n",
       "      <td>2</td>\n",
       "      <td>Returning_Visitor</td>\n",
       "      <td>False</td>\n",
       "      <td>False</td>\n",
       "    </tr>\n",
       "    <tr>\n",
       "      <th>2</th>\n",
       "      <td>0.0</td>\n",
       "      <td>-1.0</td>\n",
       "      <td>0.0</td>\n",
       "      <td>-1.0</td>\n",
       "      <td>1.0</td>\n",
       "      <td>-1.000000</td>\n",
       "      <td>0.200000</td>\n",
       "      <td>0.200000</td>\n",
       "      <td>0.000000</td>\n",
       "      <td>0.0</td>\n",
       "      <td>Feb</td>\n",
       "      <td>4</td>\n",
       "      <td>1</td>\n",
       "      <td>9</td>\n",
       "      <td>3</td>\n",
       "      <td>Returning_Visitor</td>\n",
       "      <td>False</td>\n",
       "      <td>False</td>\n",
       "    </tr>\n",
       "    <tr>\n",
       "      <th>3</th>\n",
       "      <td>0.0</td>\n",
       "      <td>0.0</td>\n",
       "      <td>0.0</td>\n",
       "      <td>0.0</td>\n",
       "      <td>2.0</td>\n",
       "      <td>2.666667</td>\n",
       "      <td>0.050000</td>\n",
       "      <td>0.140000</td>\n",
       "      <td>0.000000</td>\n",
       "      <td>0.0</td>\n",
       "      <td>Feb</td>\n",
       "      <td>3</td>\n",
       "      <td>2</td>\n",
       "      <td>2</td>\n",
       "      <td>4</td>\n",
       "      <td>Returning_Visitor</td>\n",
       "      <td>False</td>\n",
       "      <td>False</td>\n",
       "    </tr>\n",
       "    <tr>\n",
       "      <th>4</th>\n",
       "      <td>0.0</td>\n",
       "      <td>0.0</td>\n",
       "      <td>0.0</td>\n",
       "      <td>0.0</td>\n",
       "      <td>10.0</td>\n",
       "      <td>627.500000</td>\n",
       "      <td>0.020000</td>\n",
       "      <td>0.050000</td>\n",
       "      <td>0.000000</td>\n",
       "      <td>0.0</td>\n",
       "      <td>Feb</td>\n",
       "      <td>3</td>\n",
       "      <td>3</td>\n",
       "      <td>1</td>\n",
       "      <td>4</td>\n",
       "      <td>Returning_Visitor</td>\n",
       "      <td>True</td>\n",
       "      <td>False</td>\n",
       "    </tr>\n",
       "    <tr>\n",
       "      <th>...</th>\n",
       "      <td>...</td>\n",
       "      <td>...</td>\n",
       "      <td>...</td>\n",
       "      <td>...</td>\n",
       "      <td>...</td>\n",
       "      <td>...</td>\n",
       "      <td>...</td>\n",
       "      <td>...</td>\n",
       "      <td>...</td>\n",
       "      <td>...</td>\n",
       "      <td>...</td>\n",
       "      <td>...</td>\n",
       "      <td>...</td>\n",
       "      <td>...</td>\n",
       "      <td>...</td>\n",
       "      <td>...</td>\n",
       "      <td>...</td>\n",
       "      <td>...</td>\n",
       "    </tr>\n",
       "    <tr>\n",
       "      <th>12325</th>\n",
       "      <td>3.0</td>\n",
       "      <td>145.0</td>\n",
       "      <td>0.0</td>\n",
       "      <td>0.0</td>\n",
       "      <td>53.0</td>\n",
       "      <td>1783.791667</td>\n",
       "      <td>0.007143</td>\n",
       "      <td>0.029031</td>\n",
       "      <td>12.241717</td>\n",
       "      <td>0.0</td>\n",
       "      <td>Dec</td>\n",
       "      <td>4</td>\n",
       "      <td>6</td>\n",
       "      <td>1</td>\n",
       "      <td>1</td>\n",
       "      <td>Returning_Visitor</td>\n",
       "      <td>True</td>\n",
       "      <td>False</td>\n",
       "    </tr>\n",
       "    <tr>\n",
       "      <th>12326</th>\n",
       "      <td>0.0</td>\n",
       "      <td>0.0</td>\n",
       "      <td>0.0</td>\n",
       "      <td>0.0</td>\n",
       "      <td>5.0</td>\n",
       "      <td>465.750000</td>\n",
       "      <td>0.000000</td>\n",
       "      <td>0.021333</td>\n",
       "      <td>0.000000</td>\n",
       "      <td>0.0</td>\n",
       "      <td>Nov</td>\n",
       "      <td>3</td>\n",
       "      <td>2</td>\n",
       "      <td>1</td>\n",
       "      <td>8</td>\n",
       "      <td>Returning_Visitor</td>\n",
       "      <td>True</td>\n",
       "      <td>False</td>\n",
       "    </tr>\n",
       "    <tr>\n",
       "      <th>12327</th>\n",
       "      <td>0.0</td>\n",
       "      <td>0.0</td>\n",
       "      <td>0.0</td>\n",
       "      <td>0.0</td>\n",
       "      <td>6.0</td>\n",
       "      <td>184.250000</td>\n",
       "      <td>0.083333</td>\n",
       "      <td>0.086667</td>\n",
       "      <td>0.000000</td>\n",
       "      <td>0.0</td>\n",
       "      <td>Nov</td>\n",
       "      <td>3</td>\n",
       "      <td>2</td>\n",
       "      <td>1</td>\n",
       "      <td>13</td>\n",
       "      <td>Returning_Visitor</td>\n",
       "      <td>True</td>\n",
       "      <td>False</td>\n",
       "    </tr>\n",
       "    <tr>\n",
       "      <th>12328</th>\n",
       "      <td>4.0</td>\n",
       "      <td>75.0</td>\n",
       "      <td>0.0</td>\n",
       "      <td>0.0</td>\n",
       "      <td>15.0</td>\n",
       "      <td>346.000000</td>\n",
       "      <td>0.000000</td>\n",
       "      <td>0.021053</td>\n",
       "      <td>0.000000</td>\n",
       "      <td>0.0</td>\n",
       "      <td>Nov</td>\n",
       "      <td>2</td>\n",
       "      <td>2</td>\n",
       "      <td>3</td>\n",
       "      <td>11</td>\n",
       "      <td>Returning_Visitor</td>\n",
       "      <td>False</td>\n",
       "      <td>False</td>\n",
       "    </tr>\n",
       "    <tr>\n",
       "      <th>12329</th>\n",
       "      <td>0.0</td>\n",
       "      <td>0.0</td>\n",
       "      <td>0.0</td>\n",
       "      <td>0.0</td>\n",
       "      <td>3.0</td>\n",
       "      <td>21.250000</td>\n",
       "      <td>0.000000</td>\n",
       "      <td>0.066667</td>\n",
       "      <td>0.000000</td>\n",
       "      <td>0.0</td>\n",
       "      <td>Nov</td>\n",
       "      <td>3</td>\n",
       "      <td>2</td>\n",
       "      <td>1</td>\n",
       "      <td>2</td>\n",
       "      <td>New_Visitor</td>\n",
       "      <td>True</td>\n",
       "      <td>False</td>\n",
       "    </tr>\n",
       "  </tbody>\n",
       "</table>\n",
       "<p>12330 rows × 18 columns</p>\n",
       "</div>"
      ],
      "text/plain": [
       "       Administrative  Administrative_Duration  Informational  \\\n",
       "0                 0.0                      0.0            0.0   \n",
       "1                 0.0                      0.0            0.0   \n",
       "2                 0.0                     -1.0            0.0   \n",
       "3                 0.0                      0.0            0.0   \n",
       "4                 0.0                      0.0            0.0   \n",
       "...               ...                      ...            ...   \n",
       "12325             3.0                    145.0            0.0   \n",
       "12326             0.0                      0.0            0.0   \n",
       "12327             0.0                      0.0            0.0   \n",
       "12328             4.0                     75.0            0.0   \n",
       "12329             0.0                      0.0            0.0   \n",
       "\n",
       "       Informational_Duration  ProductRelated  ProductRelated_Duration  \\\n",
       "0                         0.0             1.0                 0.000000   \n",
       "1                         0.0             2.0                64.000000   \n",
       "2                        -1.0             1.0                -1.000000   \n",
       "3                         0.0             2.0                 2.666667   \n",
       "4                         0.0            10.0               627.500000   \n",
       "...                       ...             ...                      ...   \n",
       "12325                     0.0            53.0              1783.791667   \n",
       "12326                     0.0             5.0               465.750000   \n",
       "12327                     0.0             6.0               184.250000   \n",
       "12328                     0.0            15.0               346.000000   \n",
       "12329                     0.0             3.0                21.250000   \n",
       "\n",
       "       BounceRates  ExitRates  PageValues  SpecialDay Month  OperatingSystems  \\\n",
       "0         0.200000   0.200000    0.000000         0.0   Feb                 1   \n",
       "1         0.000000   0.100000    0.000000         0.0   Feb                 2   \n",
       "2         0.200000   0.200000    0.000000         0.0   Feb                 4   \n",
       "3         0.050000   0.140000    0.000000         0.0   Feb                 3   \n",
       "4         0.020000   0.050000    0.000000         0.0   Feb                 3   \n",
       "...            ...        ...         ...         ...   ...               ...   \n",
       "12325     0.007143   0.029031   12.241717         0.0   Dec                 4   \n",
       "12326     0.000000   0.021333    0.000000         0.0   Nov                 3   \n",
       "12327     0.083333   0.086667    0.000000         0.0   Nov                 3   \n",
       "12328     0.000000   0.021053    0.000000         0.0   Nov                 2   \n",
       "12329     0.000000   0.066667    0.000000         0.0   Nov                 3   \n",
       "\n",
       "       Browser  Region  TrafficType        VisitorType  Weekend  Revenue  \n",
       "0            1       1            1  Returning_Visitor    False    False  \n",
       "1            2       1            2  Returning_Visitor    False    False  \n",
       "2            1       9            3  Returning_Visitor    False    False  \n",
       "3            2       2            4  Returning_Visitor    False    False  \n",
       "4            3       1            4  Returning_Visitor     True    False  \n",
       "...        ...     ...          ...                ...      ...      ...  \n",
       "12325        6       1            1  Returning_Visitor     True    False  \n",
       "12326        2       1            8  Returning_Visitor     True    False  \n",
       "12327        2       1           13  Returning_Visitor     True    False  \n",
       "12328        2       3           11  Returning_Visitor    False    False  \n",
       "12329        2       1            2        New_Visitor     True    False  \n",
       "\n",
       "[12330 rows x 18 columns]"
      ]
     },
     "execution_count": 6,
     "metadata": {},
     "output_type": "execute_result"
    }
   ],
   "source": [
    "#from azureml.core import Workspace, Dataset\n",
    "\n",
    "# subscription_id = 'aa7cf8e8-d23f-4bce-a7b9-1f0b4e0ac8ee'\n",
    "# resource_group = 'aml-quickstarts-135086'\n",
    "# workspace_name = 'quick-starts-ws-135086'\n",
    "\n",
    "#workspace = Workspace(subscription_id, resource_group, workspace_name)\n",
    "\n",
    "dataset = Dataset.get_by_name(workspace=ws, name='online_shoppers_intention')\n",
    "dataset.to_pandas_dataframe()"
   ]
  },
  {
   "cell_type": "code",
   "execution_count": 7,
   "metadata": {},
   "outputs": [
    {
     "name": "stdout",
     "output_type": "stream",
     "text": [
      "Found existing cluster, use it.\n",
      "Succeeded\n",
      "AmlCompute wait for completion finished\n",
      "\n",
      "Minimum number of nodes requested have been provisioned\n"
     ]
    }
   ],
   "source": [
    "from azureml.core.compute import AmlCompute\n",
    "from azureml.core.compute import ComputeTarget\n",
    "from azureml.core.compute_target import ComputeTargetException\n",
    "\n",
    "# NOTE: update the cluster name to match the existing cluster\n",
    "# Choose a name for your CPU cluster\n",
    "amlcompute_cluster_name = \"project3\"\n",
    "\n",
    "# Verify that cluster does not exist already\n",
    "try:\n",
    "    compute_target = ComputeTarget(workspace=ws, name=amlcompute_cluster_name)\n",
    "    print('Found existing cluster, use it.')\n",
    "except ComputeTargetException:\n",
    "    compute_config = AmlCompute.provisioning_configuration(vm_size='STANDARD_D2_V2',# for GPU, use \"STANDARD_NC6\"\n",
    "                                                           #vm_priority = 'lowpriority', # optional\n",
    "                                                           max_nodes=4)\n",
    "    compute_target = ComputeTarget.create(ws, amlcompute_cluster_name, compute_config)\n",
    "\n",
    "compute_target.wait_for_completion(show_output=True, min_node_count = 1, timeout_in_minutes = 10)"
   ]
  },
  {
   "cell_type": "markdown",
   "metadata": {},
   "source": [
    "## AutoML Configuration\n",
    "\n",
    "TODO: Explain why you chose the automl settings and cofiguration you used below."
   ]
  },
  {
   "cell_type": "code",
   "execution_count": 8,
   "metadata": {
    "gather": {
     "logged": 1598429217746
    },
    "jupyter": {
     "outputs_hidden": false,
     "source_hidden": false
    },
    "nteract": {
     "transient": {
      "deleting": false
     }
    }
   },
   "outputs": [],
   "source": [
    "automl_settings = {\n",
    "    \"experiment_timeout_minutes\": 20,\n",
    "    \"max_concurrent_iterations\": 5,\n",
    "    \"primary_metric\" : 'accuracy'\n",
    "}\n",
    "automl_config = AutoMLConfig(compute_target=compute_target,\n",
    "                             task = \"classification\",\n",
    "                             training_data=dataset,\n",
    "                             label_column_name=\"Revenue\",   \n",
    "                             path = project_folder,\n",
    "                             enable_early_stopping= True,\n",
    "                             featurization= 'auto',\n",
    "                             debug_log = \"automl_errors.log\",\n",
    "                             **automl_settings\n",
    "                            )"
   ]
  },
  {
   "cell_type": "code",
   "execution_count": 9,
   "metadata": {
    "gather": {
     "logged": 1598431107951
    },
    "jupyter": {
     "outputs_hidden": false,
     "source_hidden": false
    },
    "nteract": {
     "transient": {
      "deleting": false
     }
    }
   },
   "outputs": [
    {
     "name": "stdout",
     "output_type": "stream",
     "text": [
      "Running on remote.\n",
      "No run_configuration provided, running on project3 with default configuration\n",
      "Running on remote compute: project3\n",
      "Parent Run ID: AutoML_5d0cd4bd-cc27-4d78-9cb2-8db165609640\n",
      "\n",
      "Current status: FeaturesGeneration. Generating features for the dataset.\n",
      "Current status: DatasetFeaturization. Beginning to fit featurizers and featurize the dataset.\n",
      "Current status: DatasetCrossValidationSplit. Generating individually featurized CV splits.\n",
      "Current status: ModelSelection. Beginning model selection.\n",
      "\n",
      "****************************************************************************************************\n",
      "DATA GUARDRAILS: \n",
      "\n",
      "TYPE:         Cross validation\n",
      "STATUS:       DONE\n",
      "DESCRIPTION:  Each iteration of the trained model was validated through cross-validation.\n",
      "              \n",
      "DETAILS:      \n",
      "+---------------------------------+\n",
      "|Number of folds                  |\n",
      "+=================================+\n",
      "|3                                |\n",
      "+---------------------------------+\n",
      "\n",
      "****************************************************************************************************\n",
      "\n",
      "TYPE:         Class balancing detection\n",
      "STATUS:       ALERTED\n",
      "DESCRIPTION:  To decrease model bias, please cancel the current run and fix balancing problem.\n",
      "              Learn more about imbalanced data: https://aka.ms/AutomatedMLImbalancedData\n",
      "DETAILS:      Imbalanced data can lead to a falsely perceived positive effect of a model's accuracy because the input data has bias towards one class.\n",
      "+---------------------------------+---------------------------------+--------------------------------------+\n",
      "|Size of the smallest class       |Name/Label of the smallest class |Number of samples in the training data|\n",
      "+=================================+=================================+======================================+\n",
      "|1908                             |True                             |12330                                 |\n",
      "+---------------------------------+---------------------------------+--------------------------------------+\n",
      "\n",
      "****************************************************************************************************\n",
      "\n",
      "TYPE:         Missing feature values imputation\n",
      "STATUS:       DONE\n",
      "DESCRIPTION:  If the missing values are expected, let the run complete. Otherwise cancel the current run and use a script to customize the handling of missing feature values that may be more appropriate based on the data type and business requirement.\n",
      "              Learn more about missing value imputation: https://aka.ms/AutomatedMLFeaturization\n",
      "DETAILS:      \n",
      "+---------------------------------+---------------------------------+---------------------------------+\n",
      "|Column name                      |Missing value count              |Imputation type                  |\n",
      "+=================================+=================================+=================================+\n",
      "|Administrative                   |14                               |mean                             |\n",
      "|Administrative_Duration          |14                               |mean                             |\n",
      "|Informational                    |14                               |mean                             |\n",
      "|Informational_Duration           |14                               |mean                             |\n",
      "|ProductRelated                   |14                               |mean                             |\n",
      "|ProductRelated_Duration          |14                               |mean                             |\n",
      "|BounceRates                      |14                               |mean                             |\n",
      "|ExitRates                        |14                               |mean                             |\n",
      "+---------------------------------+---------------------------------+---------------------------------+\n",
      "\n",
      "****************************************************************************************************\n",
      "\n",
      "TYPE:         High cardinality feature detection\n",
      "STATUS:       PASSED\n",
      "DESCRIPTION:  Your inputs were analyzed, and no high cardinality features were detected.\n",
      "              Learn more about high cardinality feature handling: https://aka.ms/AutomatedMLFeaturization\n",
      "\n",
      "****************************************************************************************************\n",
      "\n",
      "****************************************************************************************************\n",
      "ITERATION: The iteration being evaluated.\n",
      "PIPELINE: A summary description of the pipeline being evaluated.\n",
      "DURATION: Time taken for the current iteration.\n",
      "METRIC: The result of computing score on the fitted pipeline.\n",
      "BEST: The best observed score thus far.\n",
      "****************************************************************************************************\n",
      "\n",
      " ITERATION   PIPELINE                                       DURATION      METRIC      BEST\n",
      "         1   MaxAbsScaler XGBoostClassifier                 0:00:48       0.9052    0.9052\n",
      "         4   MaxAbsScaler RandomForest                      0:00:48       0.8225    0.9052\n",
      "         0   MaxAbsScaler LightGBM                          0:01:01       0.9002    0.9052\n",
      "         6   StandardScalerWrapper XGBoostClassifier        0:00:50       0.9047    0.9052\n",
      "         7   StandardScalerWrapper LightGBM                 0:00:57       0.8942    0.9052\n",
      "         3   MaxAbsScaler RandomForest                      0:03:27       0.8453    0.9052\n",
      "         2   MaxAbsScaler RandomForest                      0:03:37       0.8467    0.9052\n",
      "         5   MaxAbsScaler RandomForest                      0:03:33       0.7560    0.9052\n",
      "         8   SparseNormalizer XGBoostClassifier             0:00:58       0.9023    0.9052\n",
      "         9   SparseNormalizer XGBoostClassifier             0:00:52       0.8981    0.9052\n",
      "        10   SparseNormalizer XGBoostClassifier             0:00:49       0.9029    0.9052\n",
      "        11   SparseNormalizer XGBoostClassifier             0:00:54       0.9016    0.9052\n",
      "        12   StandardScalerWrapper XGBoostClassifier        0:00:54       0.9019    0.9052\n",
      "        13   MaxAbsScaler LogisticRegression                0:00:48       0.8800    0.9052\n",
      "        15   MaxAbsScaler RandomForest                      0:00:46       0.8789    0.9052\n",
      "        14   SparseNormalizer XGBoostClassifier             0:01:01       0.8991    0.9052\n",
      "        16   StandardScalerWrapper RandomForest             0:00:55       0.8778    0.9052\n",
      "        17   MaxAbsScaler ExtremeRandomTrees                0:00:53       0.8453    0.9052\n",
      "        18   SparseNormalizer GradientBoosting              0:00:51       0.8849    0.9052\n",
      "        19   MaxAbsScaler LightGBM                          0:01:02       0.8618    0.9052\n",
      "        20   MaxAbsScaler LightGBM                          0:00:57       0.8738    0.9052\n",
      "        21   StandardScalerWrapper LightGBM                 0:01:03       0.9019    0.9052\n",
      "        22   MaxAbsScaler LightGBM                          0:00:47       0.9043    0.9052\n",
      "        23   StandardScalerWrapper LightGBM                 0:00:48       0.9019    0.9052\n",
      "        24   MaxAbsScaler RandomForest                      0:00:46       0.8453    0.9052\n",
      "        25   SparseNormalizer XGBoostClassifier             0:00:49       0.8453    0.9052\n",
      "        26   MaxAbsScaler LogisticRegression                0:00:52       0.8841    0.9052\n",
      "        27   SparseNormalizer XGBoostClassifier             0:00:55       0.8994    0.9052\n",
      "        28   SparseNormalizer XGBoostClassifier             0:01:00       0.9038    0.9052\n",
      "        29   SparseNormalizer XGBoostClassifier             0:01:05       0.9000    0.9052\n",
      "        30   SparseNormalizer XGBoostClassifier             0:00:56       0.8951    0.9052\n",
      "        31   SparseNormalizer XGBoostClassifier             0:00:51       0.9027    0.9052\n",
      "        33   StandardScalerWrapper XGBoostClassifier        0:00:50       0.9021    0.9052\n",
      "        32   SparseNormalizer XGBoostClassifier             0:01:07       0.9008    0.9052\n",
      "        34   MaxAbsScaler RandomForest                      0:00:50          nan    0.9052\n",
      "        35   StandardScalerWrapper XGBoostClassifier        0:00:39       0.9037    0.9052\n",
      "        36                                                  0:00:11          nan    0.9052\n",
      "        37                                                  0:00:17          nan    0.9052\n",
      "        38    VotingEnsemble                                0:01:26       0.9075    0.9075\n",
      "        39    StackEnsemble                                 0:01:39       0.9054    0.9075\n"
     ]
    }
   ],
   "source": [
    "# TODO: Submit your experiment\n",
    "remote_run = experiment.submit(automl_config,show_output=True)"
   ]
  },
  {
   "cell_type": "markdown",
   "metadata": {},
   "source": [
    "## Run Details\n",
    "\n",
    "OPTIONAL: Write about the different models trained and their performance. Why do you think some models did better than others?\n",
    "\n",
    "TODO: In the cell below, use the `RunDetails` widget to show the different experiments."
   ]
  },
  {
   "cell_type": "code",
   "execution_count": 16,
   "metadata": {
    "gather": {
     "logged": 1598431121770
    },
    "jupyter": {
     "outputs_hidden": false,
     "source_hidden": false
    },
    "nteract": {
     "transient": {
      "deleting": false
     }
    }
   },
   "outputs": [
    {
     "data": {
      "application/vnd.jupyter.widget-view+json": {
       "model_id": "588a7c9bccbc40acaa1022ba4473f838",
       "version_major": 2,
       "version_minor": 0
      },
      "text/plain": [
       "_AutoMLWidget(widget_settings={'childWidgetDisplay': 'popup', 'send_telemetry': False, 'log_level': 'INFO', 's…"
      ]
     },
     "metadata": {},
     "output_type": "display_data"
    },
    {
     "data": {
      "application/aml.mini.widget.v1": "{\"status\": \"Completed\", \"workbench_run_details_uri\": \"https://ml.azure.com/experiments/automl-experiment/runs/AutoML_5d0cd4bd-cc27-4d78-9cb2-8db165609640?wsid=/subscriptions/61c5c3f0-6dc7-4ed9-a7f3-c704b20e3b30/resourcegroups/aml-quickstarts-135455/workspaces/quick-starts-ws-135455\", \"run_id\": \"AutoML_5d0cd4bd-cc27-4d78-9cb2-8db165609640\", \"run_properties\": {\"run_id\": \"AutoML_5d0cd4bd-cc27-4d78-9cb2-8db165609640\", \"created_utc\": \"2021-01-20T08:42:25.388225Z\", \"properties\": {\"num_iterations\": \"1000\", \"training_type\": \"TrainFull\", \"acquisition_function\": \"EI\", \"primary_metric\": \"accuracy\", \"train_split\": \"0\", \"acquisition_parameter\": \"0\", \"num_cross_validation\": null, \"target\": \"project3\", \"AMLSettingsJsonString\": \"{\\\"path\\\":null,\\\"name\\\":\\\"automl-experiment\\\",\\\"subscription_id\\\":\\\"61c5c3f0-6dc7-4ed9-a7f3-c704b20e3b30\\\",\\\"resource_group\\\":\\\"aml-quickstarts-135455\\\",\\\"workspace_name\\\":\\\"quick-starts-ws-135455\\\",\\\"region\\\":\\\"southcentralus\\\",\\\"compute_target\\\":\\\"project3\\\",\\\"spark_service\\\":null,\\\"azure_service\\\":\\\"remote\\\",\\\"many_models\\\":false,\\\"pipeline_fetch_max_batch_size\\\":1,\\\"iterations\\\":1000,\\\"primary_metric\\\":\\\"accuracy\\\",\\\"task_type\\\":\\\"classification\\\",\\\"data_script\\\":null,\\\"validation_size\\\":0.0,\\\"n_cross_validations\\\":null,\\\"y_min\\\":null,\\\"y_max\\\":null,\\\"num_classes\\\":null,\\\"featurization\\\":\\\"auto\\\",\\\"_ignore_package_version_incompatibilities\\\":false,\\\"is_timeseries\\\":false,\\\"max_cores_per_iteration\\\":1,\\\"max_concurrent_iterations\\\":5,\\\"iteration_timeout_minutes\\\":null,\\\"mem_in_mb\\\":null,\\\"enforce_time_on_windows\\\":false,\\\"experiment_timeout_minutes\\\":20,\\\"experiment_exit_score\\\":null,\\\"whitelist_models\\\":null,\\\"blacklist_algos\\\":[\\\"TensorFlowLinearClassifier\\\",\\\"TensorFlowDNN\\\"],\\\"supported_models\\\":[\\\"ExtremeRandomTrees\\\",\\\"KNN\\\",\\\"MultinomialNaiveBayes\\\",\\\"AveragedPerceptronClassifier\\\",\\\"TensorFlowDNN\\\",\\\"SGD\\\",\\\"GradientBoosting\\\",\\\"LogisticRegression\\\",\\\"SVM\\\",\\\"LightGBM\\\",\\\"XGBoostClassifier\\\",\\\"BernoulliNaiveBayes\\\",\\\"DecisionTree\\\",\\\"RandomForest\\\",\\\"TensorFlowLinearClassifier\\\",\\\"LinearSVM\\\"],\\\"auto_blacklist\\\":true,\\\"blacklist_samples_reached\\\":false,\\\"exclude_nan_labels\\\":true,\\\"verbosity\\\":20,\\\"_debug_log\\\":\\\"azureml_automl.log\\\",\\\"show_warnings\\\":false,\\\"model_explainability\\\":true,\\\"service_url\\\":null,\\\"sdk_url\\\":null,\\\"sdk_packages\\\":null,\\\"enable_onnx_compatible_models\\\":false,\\\"enable_split_onnx_featurizer_estimator_models\\\":false,\\\"vm_type\\\":\\\"STANDARD_D2_V2\\\",\\\"telemetry_verbosity\\\":20,\\\"send_telemetry\\\":true,\\\"enable_dnn\\\":false,\\\"scenario\\\":\\\"SDK-1.13.0\\\",\\\"environment_label\\\":null,\\\"force_text_dnn\\\":false,\\\"enable_feature_sweeping\\\":true,\\\"enable_early_stopping\\\":true,\\\"early_stopping_n_iters\\\":10,\\\"metrics\\\":null,\\\"enable_ensembling\\\":true,\\\"enable_stack_ensembling\\\":true,\\\"ensemble_iterations\\\":15,\\\"enable_tf\\\":false,\\\"enable_subsampling\\\":null,\\\"subsample_seed\\\":null,\\\"enable_nimbusml\\\":false,\\\"enable_streaming\\\":false,\\\"force_streaming\\\":false,\\\"track_child_runs\\\":true,\\\"allowed_private_models\\\":[],\\\"label_column_name\\\":\\\"Revenue\\\",\\\"weight_column_name\\\":null,\\\"cv_split_column_names\\\":null,\\\"enable_local_managed\\\":false,\\\"_local_managed_run_id\\\":null,\\\"cost_mode\\\":1,\\\"lag_length\\\":0,\\\"metric_operation\\\":\\\"maximize\\\",\\\"preprocess\\\":true}\", \"DataPrepJsonString\": \"{\\\\\\\"training_data\\\\\\\": \\\\\\\"{\\\\\\\\\\\\\\\"blocks\\\\\\\\\\\\\\\": [{\\\\\\\\\\\\\\\"id\\\\\\\\\\\\\\\": \\\\\\\\\\\\\\\"348863c7-0073-4109-a93e-519af67030c5\\\\\\\\\\\\\\\", \\\\\\\\\\\\\\\"type\\\\\\\\\\\\\\\": \\\\\\\\\\\\\\\"Microsoft.DPrep.GetFilesBlock\\\\\\\\\\\\\\\", \\\\\\\\\\\\\\\"arguments\\\\\\\\\\\\\\\": {\\\\\\\\\\\\\\\"isArchive\\\\\\\\\\\\\\\": false, \\\\\\\\\\\\\\\"path\\\\\\\\\\\\\\\": {\\\\\\\\\\\\\\\"target\\\\\\\\\\\\\\\": 4, \\\\\\\\\\\\\\\"resourceDetails\\\\\\\\\\\\\\\": [{\\\\\\\\\\\\\\\"path\\\\\\\\\\\\\\\": \\\\\\\\\\\\\\\"https://raw.githubusercontent.com/Bhosalenileshn/ML-Azure-Udacity-Capstone-Project/main/online_shoppers_intention.csv\\\\\\\\\\\\\\\"}]}}, \\\\\\\\\\\\\\\"localData\\\\\\\\\\\\\\\": {}, \\\\\\\\\\\\\\\"isEnabled\\\\\\\\\\\\\\\": true, \\\\\\\\\\\\\\\"name\\\\\\\\\\\\\\\": null, \\\\\\\\\\\\\\\"annotation\\\\\\\\\\\\\\\": null}, {\\\\\\\\\\\\\\\"id\\\\\\\\\\\\\\\": \\\\\\\\\\\\\\\"65b1644c-ae28-4e58-b1ce-6b5b912797b7\\\\\\\\\\\\\\\", \\\\\\\\\\\\\\\"type\\\\\\\\\\\\\\\": \\\\\\\\\\\\\\\"Microsoft.DPrep.ParseDelimitedBlock\\\\\\\\\\\\\\\", \\\\\\\\\\\\\\\"arguments\\\\\\\\\\\\\\\": {\\\\\\\\\\\\\\\"columnHeadersMode\\\\\\\\\\\\\\\": 3, \\\\\\\\\\\\\\\"fileEncoding\\\\\\\\\\\\\\\": 0, \\\\\\\\\\\\\\\"handleQuotedLineBreaks\\\\\\\\\\\\\\\": false, \\\\\\\\\\\\\\\"preview\\\\\\\\\\\\\\\": false, \\\\\\\\\\\\\\\"separator\\\\\\\\\\\\\\\": \\\\\\\\\\\\\\\",\\\\\\\\\\\\\\\", \\\\\\\\\\\\\\\"skipRows\\\\\\\\\\\\\\\": 0, \\\\\\\\\\\\\\\"skipRowsMode\\\\\\\\\\\\\\\": 0}, \\\\\\\\\\\\\\\"localData\\\\\\\\\\\\\\\": {}, \\\\\\\\\\\\\\\"isEnabled\\\\\\\\\\\\\\\": true, \\\\\\\\\\\\\\\"name\\\\\\\\\\\\\\\": null, \\\\\\\\\\\\\\\"annotation\\\\\\\\\\\\\\\": null}, {\\\\\\\\\\\\\\\"id\\\\\\\\\\\\\\\": \\\\\\\\\\\\\\\"4424ee56-7c8c-4779-a98d-dffc5a5a71b6\\\\\\\\\\\\\\\", \\\\\\\\\\\\\\\"type\\\\\\\\\\\\\\\": \\\\\\\\\\\\\\\"Microsoft.DPrep.DropColumnsBlock\\\\\\\\\\\\\\\", \\\\\\\\\\\\\\\"arguments\\\\\\\\\\\\\\\": {\\\\\\\\\\\\\\\"columns\\\\\\\\\\\\\\\": {\\\\\\\\\\\\\\\"type\\\\\\\\\\\\\\\": 0, \\\\\\\\\\\\\\\"details\\\\\\\\\\\\\\\": {\\\\\\\\\\\\\\\"selectedColumns\\\\\\\\\\\\\\\": [\\\\\\\\\\\\\\\"Path\\\\\\\\\\\\\\\"]}}}, \\\\\\\\\\\\\\\"localData\\\\\\\\\\\\\\\": {}, \\\\\\\\\\\\\\\"isEnabled\\\\\\\\\\\\\\\": true, \\\\\\\\\\\\\\\"name\\\\\\\\\\\\\\\": null, \\\\\\\\\\\\\\\"annotation\\\\\\\\\\\\\\\": null}, {\\\\\\\\\\\\\\\"id\\\\\\\\\\\\\\\": \\\\\\\\\\\\\\\"aee3a0da-78b0-4ab9-9f24-93eb5fb5ba23\\\\\\\\\\\\\\\", \\\\\\\\\\\\\\\"type\\\\\\\\\\\\\\\": \\\\\\\\\\\\\\\"Microsoft.DPrep.SetColumnTypesBlock\\\\\\\\\\\\\\\", \\\\\\\\\\\\\\\"arguments\\\\\\\\\\\\\\\": {\\\\\\\\\\\\\\\"columnConversion\\\\\\\\\\\\\\\": [{\\\\\\\\\\\\\\\"column\\\\\\\\\\\\\\\": {\\\\\\\\\\\\\\\"type\\\\\\\\\\\\\\\": 2, \\\\\\\\\\\\\\\"details\\\\\\\\\\\\\\\": {\\\\\\\\\\\\\\\"selectedColumn\\\\\\\\\\\\\\\": \\\\\\\\\\\\\\\"Administrative\\\\\\\\\\\\\\\"}}, \\\\\\\\\\\\\\\"typeProperty\\\\\\\\\\\\\\\": 2}, {\\\\\\\\\\\\\\\"column\\\\\\\\\\\\\\\": {\\\\\\\\\\\\\\\"type\\\\\\\\\\\\\\\": 2, \\\\\\\\\\\\\\\"details\\\\\\\\\\\\\\\": {\\\\\\\\\\\\\\\"selectedColumn\\\\\\\\\\\\\\\": \\\\\\\\\\\\\\\"Administrative_Duration\\\\\\\\\\\\\\\"}}, \\\\\\\\\\\\\\\"typeProperty\\\\\\\\\\\\\\\": 3}, {\\\\\\\\\\\\\\\"column\\\\\\\\\\\\\\\": {\\\\\\\\\\\\\\\"type\\\\\\\\\\\\\\\": 2, \\\\\\\\\\\\\\\"details\\\\\\\\\\\\\\\": {\\\\\\\\\\\\\\\"selectedColumn\\\\\\\\\\\\\\\": \\\\\\\\\\\\\\\"Informational\\\\\\\\\\\\\\\"}}, \\\\\\\\\\\\\\\"typeProperty\\\\\\\\\\\\\\\": 2}, {\\\\\\\\\\\\\\\"column\\\\\\\\\\\\\\\": {\\\\\\\\\\\\\\\"type\\\\\\\\\\\\\\\": 2, \\\\\\\\\\\\\\\"details\\\\\\\\\\\\\\\": {\\\\\\\\\\\\\\\"selectedColumn\\\\\\\\\\\\\\\": \\\\\\\\\\\\\\\"Informational_Duration\\\\\\\\\\\\\\\"}}, \\\\\\\\\\\\\\\"typeProperty\\\\\\\\\\\\\\\": 3}, {\\\\\\\\\\\\\\\"column\\\\\\\\\\\\\\\": {\\\\\\\\\\\\\\\"type\\\\\\\\\\\\\\\": 2, \\\\\\\\\\\\\\\"details\\\\\\\\\\\\\\\": {\\\\\\\\\\\\\\\"selectedColumn\\\\\\\\\\\\\\\": \\\\\\\\\\\\\\\"ProductRelated\\\\\\\\\\\\\\\"}}, \\\\\\\\\\\\\\\"typeProperty\\\\\\\\\\\\\\\": 2}, {\\\\\\\\\\\\\\\"column\\\\\\\\\\\\\\\": {\\\\\\\\\\\\\\\"type\\\\\\\\\\\\\\\": 2, \\\\\\\\\\\\\\\"details\\\\\\\\\\\\\\\": {\\\\\\\\\\\\\\\"selectedColumn\\\\\\\\\\\\\\\": \\\\\\\\\\\\\\\"ProductRelated_Duration\\\\\\\\\\\\\\\"}}, \\\\\\\\\\\\\\\"typeProperty\\\\\\\\\\\\\\\": 3}, {\\\\\\\\\\\\\\\"column\\\\\\\\\\\\\\\": {\\\\\\\\\\\\\\\"type\\\\\\\\\\\\\\\": 2, \\\\\\\\\\\\\\\"details\\\\\\\\\\\\\\\": {\\\\\\\\\\\\\\\"selectedColumn\\\\\\\\\\\\\\\": \\\\\\\\\\\\\\\"BounceRates\\\\\\\\\\\\\\\"}}, \\\\\\\\\\\\\\\"typeProperty\\\\\\\\\\\\\\\": 3}, {\\\\\\\\\\\\\\\"column\\\\\\\\\\\\\\\": {\\\\\\\\\\\\\\\"type\\\\\\\\\\\\\\\": 2, \\\\\\\\\\\\\\\"details\\\\\\\\\\\\\\\": {\\\\\\\\\\\\\\\"selectedColumn\\\\\\\\\\\\\\\": \\\\\\\\\\\\\\\"ExitRates\\\\\\\\\\\\\\\"}}, \\\\\\\\\\\\\\\"typeProperty\\\\\\\\\\\\\\\": 3}, {\\\\\\\\\\\\\\\"column\\\\\\\\\\\\\\\": {\\\\\\\\\\\\\\\"type\\\\\\\\\\\\\\\": 2, \\\\\\\\\\\\\\\"details\\\\\\\\\\\\\\\": {\\\\\\\\\\\\\\\"selectedColumn\\\\\\\\\\\\\\\": \\\\\\\\\\\\\\\"PageValues\\\\\\\\\\\\\\\"}}, \\\\\\\\\\\\\\\"typeProperty\\\\\\\\\\\\\\\": 3}, {\\\\\\\\\\\\\\\"column\\\\\\\\\\\\\\\": {\\\\\\\\\\\\\\\"type\\\\\\\\\\\\\\\": 2, \\\\\\\\\\\\\\\"details\\\\\\\\\\\\\\\": {\\\\\\\\\\\\\\\"selectedColumn\\\\\\\\\\\\\\\": \\\\\\\\\\\\\\\"SpecialDay\\\\\\\\\\\\\\\"}}, \\\\\\\\\\\\\\\"typeProperty\\\\\\\\\\\\\\\": 3}, {\\\\\\\\\\\\\\\"column\\\\\\\\\\\\\\\": {\\\\\\\\\\\\\\\"type\\\\\\\\\\\\\\\": 2, \\\\\\\\\\\\\\\"details\\\\\\\\\\\\\\\": {\\\\\\\\\\\\\\\"selectedColumn\\\\\\\\\\\\\\\": \\\\\\\\\\\\\\\"Month\\\\\\\\\\\\\\\"}}, \\\\\\\\\\\\\\\"typeProperty\\\\\\\\\\\\\\\": 0}, {\\\\\\\\\\\\\\\"column\\\\\\\\\\\\\\\": {\\\\\\\\\\\\\\\"type\\\\\\\\\\\\\\\": 2, \\\\\\\\\\\\\\\"details\\\\\\\\\\\\\\\": {\\\\\\\\\\\\\\\"selectedColumn\\\\\\\\\\\\\\\": \\\\\\\\\\\\\\\"OperatingSystems\\\\\\\\\\\\\\\"}}, \\\\\\\\\\\\\\\"typeProperty\\\\\\\\\\\\\\\": 2}, {\\\\\\\\\\\\\\\"column\\\\\\\\\\\\\\\": {\\\\\\\\\\\\\\\"type\\\\\\\\\\\\\\\": 2, \\\\\\\\\\\\\\\"details\\\\\\\\\\\\\\\": {\\\\\\\\\\\\\\\"selectedColumn\\\\\\\\\\\\\\\": \\\\\\\\\\\\\\\"Browser\\\\\\\\\\\\\\\"}}, \\\\\\\\\\\\\\\"typeProperty\\\\\\\\\\\\\\\": 2}, {\\\\\\\\\\\\\\\"column\\\\\\\\\\\\\\\": {\\\\\\\\\\\\\\\"type\\\\\\\\\\\\\\\": 2, \\\\\\\\\\\\\\\"details\\\\\\\\\\\\\\\": {\\\\\\\\\\\\\\\"selectedColumn\\\\\\\\\\\\\\\": \\\\\\\\\\\\\\\"Region\\\\\\\\\\\\\\\"}}, \\\\\\\\\\\\\\\"typeProperty\\\\\\\\\\\\\\\": 2}, {\\\\\\\\\\\\\\\"column\\\\\\\\\\\\\\\": {\\\\\\\\\\\\\\\"type\\\\\\\\\\\\\\\": 2, \\\\\\\\\\\\\\\"details\\\\\\\\\\\\\\\": {\\\\\\\\\\\\\\\"selectedColumn\\\\\\\\\\\\\\\": \\\\\\\\\\\\\\\"TrafficType\\\\\\\\\\\\\\\"}}, \\\\\\\\\\\\\\\"typeProperty\\\\\\\\\\\\\\\": 2}, {\\\\\\\\\\\\\\\"column\\\\\\\\\\\\\\\": {\\\\\\\\\\\\\\\"type\\\\\\\\\\\\\\\": 2, \\\\\\\\\\\\\\\"details\\\\\\\\\\\\\\\": {\\\\\\\\\\\\\\\"selectedColumn\\\\\\\\\\\\\\\": \\\\\\\\\\\\\\\"VisitorType\\\\\\\\\\\\\\\"}}, \\\\\\\\\\\\\\\"typeProperty\\\\\\\\\\\\\\\": 0}, {\\\\\\\\\\\\\\\"column\\\\\\\\\\\\\\\": {\\\\\\\\\\\\\\\"type\\\\\\\\\\\\\\\": 2, \\\\\\\\\\\\\\\"details\\\\\\\\\\\\\\\": {\\\\\\\\\\\\\\\"selectedColumn\\\\\\\\\\\\\\\": \\\\\\\\\\\\\\\"Weekend\\\\\\\\\\\\\\\"}}, \\\\\\\\\\\\\\\"typeProperty\\\\\\\\\\\\\\\": 1}, {\\\\\\\\\\\\\\\"column\\\\\\\\\\\\\\\": {\\\\\\\\\\\\\\\"type\\\\\\\\\\\\\\\": 2, \\\\\\\\\\\\\\\"details\\\\\\\\\\\\\\\": {\\\\\\\\\\\\\\\"selectedColumn\\\\\\\\\\\\\\\": \\\\\\\\\\\\\\\"Revenue\\\\\\\\\\\\\\\"}}, \\\\\\\\\\\\\\\"typeProperty\\\\\\\\\\\\\\\": 1}]}, \\\\\\\\\\\\\\\"localData\\\\\\\\\\\\\\\": {}, \\\\\\\\\\\\\\\"isEnabled\\\\\\\\\\\\\\\": true, \\\\\\\\\\\\\\\"name\\\\\\\\\\\\\\\": null, \\\\\\\\\\\\\\\"annotation\\\\\\\\\\\\\\\": null}], \\\\\\\\\\\\\\\"inspectors\\\\\\\\\\\\\\\": [], \\\\\\\\\\\\\\\"meta\\\\\\\\\\\\\\\": {\\\\\\\\\\\\\\\"savedDatasetId\\\\\\\\\\\\\\\": \\\\\\\\\\\\\\\"d945b4c0-c21b-482d-aef6-838ec499f3d9\\\\\\\\\\\\\\\", \\\\\\\\\\\\\\\"datasetType\\\\\\\\\\\\\\\": \\\\\\\\\\\\\\\"tabular\\\\\\\\\\\\\\\", \\\\\\\\\\\\\\\"subscriptionId\\\\\\\\\\\\\\\": \\\\\\\\\\\\\\\"61c5c3f0-6dc7-4ed9-a7f3-c704b20e3b30\\\\\\\\\\\\\\\", \\\\\\\\\\\\\\\"workspaceId\\\\\\\\\\\\\\\": \\\\\\\\\\\\\\\"f7f685f2-3bfd-440b-8b60-5a01ef3753f3\\\\\\\\\\\\\\\", \\\\\\\\\\\\\\\"workspaceLocation\\\\\\\\\\\\\\\": \\\\\\\\\\\\\\\"southcentralus\\\\\\\\\\\\\\\"}}\\\\\\\", \\\\\\\"activities\\\\\\\": 0}\", \"EnableSubsampling\": null, \"runTemplate\": \"AutoML\", \"azureml.runsource\": \"automl\", \"display_task_type\": \"classification\", \"dependencies_versions\": \"{\\\"azureml-widgets\\\": \\\"1.19.0\\\", \\\"azureml-train\\\": \\\"1.20.0\\\", \\\"azureml-train-restclients-hyperdrive\\\": \\\"1.20.0\\\", \\\"azureml-train-core\\\": \\\"1.20.0\\\", \\\"azureml-train-automl\\\": \\\"1.19.0\\\", \\\"azureml-train-automl-runtime\\\": \\\"1.19.0\\\", \\\"azureml-train-automl-client\\\": \\\"1.20.0\\\", \\\"azureml-tensorboard\\\": \\\"1.19.0\\\", \\\"azureml-telemetry\\\": \\\"1.20.0\\\", \\\"azureml-sdk\\\": \\\"1.20.0\\\", \\\"azureml-samples\\\": \\\"0+unknown\\\", \\\"azureml-pipeline\\\": \\\"1.20.0\\\", \\\"azureml-pipeline-steps\\\": \\\"1.20.0\\\", \\\"azureml-pipeline-core\\\": \\\"1.20.0\\\", \\\"azureml-opendatasets\\\": \\\"1.19.0\\\", \\\"azureml-model-management-sdk\\\": \\\"1.0.1b6.post1\\\", \\\"azureml-mlflow\\\": \\\"1.19.0\\\", \\\"azureml-interpret\\\": \\\"1.19.0\\\", \\\"azureml-explain-model\\\": \\\"1.19.0\\\", \\\"azureml-defaults\\\": \\\"1.19.0\\\", \\\"azureml-dataset-runtime\\\": \\\"1.20.0\\\", \\\"azureml-dataprep\\\": \\\"2.7.3\\\", \\\"azureml-dataprep-rslex\\\": \\\"1.5.0\\\", \\\"azureml-dataprep-native\\\": \\\"27.0.0\\\", \\\"azureml-datadrift\\\": \\\"1.19.0\\\", \\\"azureml-core\\\": \\\"1.20.0\\\", \\\"azureml-contrib-services\\\": \\\"1.19.0\\\", \\\"azureml-contrib-server\\\": \\\"1.19.0\\\", \\\"azureml-contrib-reinforcementlearning\\\": \\\"1.19.0\\\", \\\"azureml-contrib-pipeline-steps\\\": \\\"1.19.0\\\", \\\"azureml-contrib-notebook\\\": \\\"1.19.0\\\", \\\"azureml-contrib-interpret\\\": \\\"1.19.0\\\", \\\"azureml-contrib-gbdt\\\": \\\"1.19.0\\\", \\\"azureml-contrib-fairness\\\": \\\"1.19.0\\\", \\\"azureml-contrib-dataset\\\": \\\"1.19.0\\\", \\\"azureml-cli-common\\\": \\\"1.19.0\\\", \\\"azureml-automl-runtime\\\": \\\"1.19.0\\\", \\\"azureml-automl-core\\\": \\\"1.20.0\\\", \\\"azureml-accel-models\\\": \\\"1.19.0\\\"}\", \"_aml_system_scenario_identification\": \"Remote.Parent\", \"ClientType\": \"SDK\", \"environment_cpu_name\": \"AzureML-AutoML\", \"environment_cpu_label\": \"prod\", \"environment_gpu_name\": \"AzureML-AutoML-GPU\", \"environment_gpu_label\": \"prod\", \"root_attribution\": \"automl\", \"attribution\": \"AutoML\", \"Orchestrator\": \"AutoML\", \"CancelUri\": \"https://southcentralus.experiments.azureml.net/jasmine/v1.0/subscriptions/61c5c3f0-6dc7-4ed9-a7f3-c704b20e3b30/resourceGroups/aml-quickstarts-135455/providers/Microsoft.MachineLearningServices/workspaces/quick-starts-ws-135455/experimentids/37424b18-e0a2-4260-ad63-5ec94ec95077/cancel/AutoML_5d0cd4bd-cc27-4d78-9cb2-8db165609640\", \"ClientSdkVersion\": \"1.20.0\", \"snapshotId\": \"00000000-0000-0000-0000-000000000000\", \"SetupRunId\": \"AutoML_5d0cd4bd-cc27-4d78-9cb2-8db165609640_setup\", \"SetupRunContainerId\": \"dcid.AutoML_5d0cd4bd-cc27-4d78-9cb2-8db165609640_setup\", \"FeaturizationRunJsonPath\": \"featurizer_container.json\", \"FeaturizationRunId\": \"AutoML_5d0cd4bd-cc27-4d78-9cb2-8db165609640_featurize\", \"ProblemInfoJsonString\": \"{\\\"dataset_num_categorical\\\": 0, \\\"is_sparse\\\": true, \\\"subsampling\\\": false, \\\"dataset_classes\\\": 2, \\\"dataset_features\\\": 74, \\\"dataset_samples\\\": 12330, \\\"single_frequency_class_detected\\\": false}\", \"ModelExplainRunId\": \"AutoML_5d0cd4bd-cc27-4d78-9cb2-8db165609640_ModelExplain\"}, \"tags\": {\"model_explain_run\": \"best_run\", \"_aml_system_azureml.automlComponent\": \"AutoML\", \"pipeline_id\": \"\", \"score\": \"\", \"predicted_cost\": \"\", \"fit_time\": \"\", \"training_percent\": \"\", \"iteration\": \"\", \"run_preprocessor\": \"\", \"run_algorithm\": \"\", \"dynamic_whitelisting_iterations\": \"<25>;<30>;<35>;\", \"automl_best_child_run_id\": \"AutoML_5d0cd4bd-cc27-4d78-9cb2-8db165609640_38\", \"model_explain_best_run_child_id\": \"AutoML_5d0cd4bd-cc27-4d78-9cb2-8db165609640_38\"}, \"end_time_utc\": \"2021-01-20T09:08:14.961937Z\", \"status\": \"Completed\", \"log_files\": {}, \"log_groups\": [], \"run_duration\": \"0:25:49\"}, \"child_runs\": [{\"run_id\": \"AutoML_5d0cd4bd-cc27-4d78-9cb2-8db165609640_3\", \"run_number\": 50, \"metric\": null, \"status\": \"Completed\", \"run_type\": \"azureml.scriptrun\", \"training_percent\": \"100\", \"start_time\": \"2021-01-20T08:55:35.4136Z\", \"end_time\": \"2021-01-20T08:59:02.227541Z\", \"created_time\": \"2021-01-20T08:53:36.151887Z\", \"created_time_dt\": \"2021-01-20T08:53:36.151887Z\", \"duration\": \"0:05:26\", \"iteration\": \"3\", \"goal\": \"accuracy_max\", \"run_name\": \"MaxAbsScaler, RandomForest\", \"run_properties\": \"copy=True\", \"primary_metric\": 0.84525547, \"best_metric\": 0.90519059}, {\"run_id\": \"AutoML_5d0cd4bd-cc27-4d78-9cb2-8db165609640_1\", \"run_number\": 51, \"metric\": null, \"status\": \"Completed\", \"run_type\": \"azureml.scriptrun\", \"training_percent\": \"100\", \"start_time\": \"2021-01-20T08:53:48.989358Z\", \"end_time\": \"2021-01-20T08:54:37.204983Z\", \"created_time\": \"2021-01-20T08:53:36.156174Z\", \"created_time_dt\": \"2021-01-20T08:53:36.156174Z\", \"duration\": \"0:01:01\", \"iteration\": \"1\", \"goal\": \"accuracy_max\", \"run_name\": \"MaxAbsScaler, XGBoostClassifier\", \"run_properties\": \"copy=True\", \"primary_metric\": 0.90519059, \"best_metric\": 0.90519059}, {\"run_id\": \"AutoML_5d0cd4bd-cc27-4d78-9cb2-8db165609640_2\", \"run_number\": 52, \"metric\": null, \"status\": \"Completed\", \"run_type\": \"azureml.scriptrun\", \"training_percent\": \"100\", \"start_time\": \"2021-01-20T08:55:31.257947Z\", \"end_time\": \"2021-01-20T08:59:08.103004Z\", \"created_time\": \"2021-01-20T08:53:36.193287Z\", \"created_time_dt\": \"2021-01-20T08:53:36.193287Z\", \"duration\": \"0:05:31\", \"iteration\": \"2\", \"goal\": \"accuracy_max\", \"run_name\": \"MaxAbsScaler, RandomForest\", \"run_properties\": \"copy=True\", \"primary_metric\": 0.84671533, \"best_metric\": 0.90519059}, {\"run_id\": \"AutoML_5d0cd4bd-cc27-4d78-9cb2-8db165609640_4\", \"run_number\": 53, \"metric\": null, \"status\": \"Completed\", \"run_type\": \"azureml.scriptrun\", \"training_percent\": \"100\", \"start_time\": \"2021-01-20T08:54:47.539899Z\", \"end_time\": \"2021-01-20T08:55:35.526713Z\", \"created_time\": \"2021-01-20T08:53:36.281557Z\", \"created_time_dt\": \"2021-01-20T08:53:36.281557Z\", \"duration\": \"0:01:59\", \"iteration\": \"4\", \"goal\": \"accuracy_max\", \"run_name\": \"MaxAbsScaler, RandomForest\", \"run_properties\": \"copy=True\", \"primary_metric\": 0.82246553, \"best_metric\": 0.90519059}, {\"run_id\": \"AutoML_5d0cd4bd-cc27-4d78-9cb2-8db165609640_0\", \"run_number\": 54, \"metric\": null, \"status\": \"Completed\", \"run_type\": \"azureml.scriptrun\", \"training_percent\": \"100\", \"start_time\": \"2021-01-20T08:55:37.729347Z\", \"end_time\": \"2021-01-20T08:56:39.181052Z\", \"created_time\": \"2021-01-20T08:53:36.146845Z\", \"created_time_dt\": \"2021-01-20T08:53:36.146845Z\", \"duration\": \"0:03:03\", \"iteration\": \"0\", \"goal\": \"accuracy_max\", \"run_name\": \"MaxAbsScaler, LightGBM\", \"run_properties\": \"copy=True\", \"primary_metric\": 0.90016221, \"best_metric\": 0.90016221}, {\"run_id\": \"AutoML_5d0cd4bd-cc27-4d78-9cb2-8db165609640_5\", \"run_number\": 55, \"metric\": null, \"status\": \"Completed\", \"run_type\": \"azureml.scriptrun\", \"training_percent\": \"100\", \"start_time\": \"2021-01-20T08:55:41.453859Z\", \"end_time\": \"2021-01-20T08:59:14.484782Z\", \"created_time\": \"2021-01-20T08:54:38.836454Z\", \"created_time_dt\": \"2021-01-20T08:54:38.836454Z\", \"duration\": \"0:04:35\", \"iteration\": \"5\", \"goal\": \"accuracy_max\", \"run_name\": \"MaxAbsScaler, RandomForest\", \"run_properties\": \"copy=True\", \"primary_metric\": 0.75596107, \"best_metric\": 0.90519059}, {\"run_id\": \"AutoML_5d0cd4bd-cc27-4d78-9cb2-8db165609640_6\", \"run_number\": 56, \"metric\": null, \"status\": \"Completed\", \"run_type\": \"azureml.scriptrun\", \"training_percent\": \"100\", \"start_time\": \"2021-01-20T08:56:40.682634Z\", \"end_time\": \"2021-01-20T08:57:30.660615Z\", \"created_time\": \"2021-01-20T08:55:38.965093Z\", \"created_time_dt\": \"2021-01-20T08:55:38.965093Z\", \"duration\": \"0:01:51\", \"iteration\": \"6\", \"goal\": \"accuracy_max\", \"run_name\": \"StandardScalerWrapper, XGBoostClassifier\", \"run_properties\": \"<azureml.automl.runtime.shared.model_wrappers.StandardScalerWrapper object at 0x7f0a6afe7668\", \"primary_metric\": 0.90470397, \"best_metric\": 0.90519059}, {\"run_id\": \"AutoML_5d0cd4bd-cc27-4d78-9cb2-8db165609640_7\", \"run_number\": 57, \"metric\": null, \"status\": \"Completed\", \"run_type\": \"azureml.scriptrun\", \"training_percent\": \"100\", \"start_time\": \"2021-01-20T08:57:34.982559Z\", \"end_time\": \"2021-01-20T08:58:32.477813Z\", \"created_time\": \"2021-01-20T08:56:43.169109Z\", \"created_time_dt\": \"2021-01-20T08:56:43.169109Z\", \"duration\": \"0:01:49\", \"iteration\": \"7\", \"goal\": \"accuracy_max\", \"run_name\": \"StandardScalerWrapper, LightGBM\", \"run_properties\": \"<azureml.automl.runtime.shared.model_wrappers.StandardScalerWrapper object at 0x7f5e3c1e9908\", \"primary_metric\": 0.89424169, \"best_metric\": 0.90519059}, {\"run_id\": \"AutoML_5d0cd4bd-cc27-4d78-9cb2-8db165609640_8\", \"run_number\": 58, \"metric\": null, \"status\": \"Completed\", \"run_type\": \"azureml.scriptrun\", \"training_percent\": \"100\", \"start_time\": \"2021-01-20T08:58:36.578218Z\", \"end_time\": \"2021-01-20T08:59:34.085112Z\", \"created_time\": \"2021-01-20T08:57:35.230566Z\", \"created_time_dt\": \"2021-01-20T08:57:35.230566Z\", \"duration\": \"0:01:58\", \"iteration\": \"8\", \"goal\": \"accuracy_max\", \"run_name\": \"SparseNormalizer, XGBoostClassifier\", \"run_properties\": \"<azureml.automl.runtime.shared.model_wrappers.SparseNormalizer object at 0x7fb20a90eda0\", \"primary_metric\": 0.90227088, \"best_metric\": 0.90519059}, {\"run_id\": \"AutoML_5d0cd4bd-cc27-4d78-9cb2-8db165609640_9\", \"run_number\": 59, \"metric\": null, \"status\": \"Completed\", \"run_type\": \"azureml.scriptrun\", \"training_percent\": \"100\", \"start_time\": \"2021-01-20T08:59:01.000141Z\", \"end_time\": \"2021-01-20T08:59:53.394835Z\", \"created_time\": \"2021-01-20T08:58:35.597557Z\", \"created_time_dt\": \"2021-01-20T08:58:35.597557Z\", \"duration\": \"0:01:17\", \"iteration\": \"9\", \"goal\": \"accuracy_max\", \"run_name\": \"SparseNormalizer, XGBoostClassifier\", \"run_properties\": \"<azureml.automl.runtime.shared.model_wrappers.SparseNormalizer object at 0x7fa862a47358\", \"primary_metric\": 0.89805353, \"best_metric\": 0.90519059}, {\"run_id\": \"AutoML_5d0cd4bd-cc27-4d78-9cb2-8db165609640_10\", \"run_number\": 60, \"metric\": null, \"status\": \"Completed\", \"run_type\": \"azureml.scriptrun\", \"training_percent\": \"100\", \"start_time\": \"2021-01-20T08:59:18.077903Z\", \"end_time\": \"2021-01-20T09:00:06.756809Z\", \"created_time\": \"2021-01-20T08:59:04.824556Z\", \"created_time_dt\": \"2021-01-20T08:59:04.824556Z\", \"duration\": \"0:01:01\", \"iteration\": \"10\", \"goal\": \"accuracy_max\", \"run_name\": \"SparseNormalizer, XGBoostClassifier\", \"run_properties\": \"<azureml.automl.runtime.shared.model_wrappers.SparseNormalizer object at 0x7ff9ab2ae9e8\", \"primary_metric\": 0.90291971, \"best_metric\": 0.90519059}, {\"run_id\": \"AutoML_5d0cd4bd-cc27-4d78-9cb2-8db165609640_11\", \"run_number\": 61, \"metric\": null, \"status\": \"Completed\", \"run_type\": \"azureml.scriptrun\", \"training_percent\": \"100\", \"start_time\": \"2021-01-20T08:59:21.260379Z\", \"end_time\": \"2021-01-20T09:00:15.586658Z\", \"created_time\": \"2021-01-20T08:59:10.484582Z\", \"created_time_dt\": \"2021-01-20T08:59:10.484582Z\", \"duration\": \"0:01:05\", \"iteration\": \"11\", \"goal\": \"accuracy_max\", \"run_name\": \"SparseNormalizer, XGBoostClassifier\", \"run_properties\": \"<azureml.automl.runtime.shared.model_wrappers.SparseNormalizer object at 0x7f429cf4cda0\", \"primary_metric\": 0.90162206, \"best_metric\": 0.90519059}, {\"run_id\": \"AutoML_5d0cd4bd-cc27-4d78-9cb2-8db165609640_12\", \"run_number\": 62, \"metric\": null, \"status\": \"Completed\", \"run_type\": \"azureml.scriptrun\", \"training_percent\": \"100\", \"start_time\": \"2021-01-20T08:59:34.860222Z\", \"end_time\": \"2021-01-20T09:00:29.143248Z\", \"created_time\": \"2021-01-20T08:59:16.902346Z\", \"created_time_dt\": \"2021-01-20T08:59:16.902346Z\", \"duration\": \"0:01:12\", \"iteration\": \"12\", \"goal\": \"accuracy_max\", \"run_name\": \"StandardScalerWrapper, XGBoostClassifier\", \"run_properties\": \"<azureml.automl.runtime.shared.model_wrappers.StandardScalerWrapper object at 0x7efed99c9908\", \"primary_metric\": 0.90194647, \"best_metric\": 0.90519059}, {\"run_id\": \"AutoML_5d0cd4bd-cc27-4d78-9cb2-8db165609640_13\", \"run_number\": 63, \"metric\": null, \"status\": \"Completed\", \"run_type\": \"azureml.scriptrun\", \"training_percent\": \"100\", \"start_time\": \"2021-01-20T08:59:57.022752Z\", \"end_time\": \"2021-01-20T09:00:45.133266Z\", \"created_time\": \"2021-01-20T08:59:40.283117Z\", \"created_time_dt\": \"2021-01-20T08:59:40.283117Z\", \"duration\": \"0:01:04\", \"iteration\": \"13\", \"goal\": \"accuracy_max\", \"run_name\": \"MaxAbsScaler, LogisticRegression\", \"run_properties\": \"copy=True\", \"primary_metric\": 0.88004866, \"best_metric\": 0.90519059}, {\"run_id\": \"AutoML_5d0cd4bd-cc27-4d78-9cb2-8db165609640_14\", \"run_number\": 64, \"metric\": null, \"status\": \"Completed\", \"run_type\": \"azureml.scriptrun\", \"training_percent\": \"100\", \"start_time\": \"2021-01-20T09:00:18.339739Z\", \"end_time\": \"2021-01-20T09:01:19.329883Z\", \"created_time\": \"2021-01-20T08:59:55.906369Z\", \"created_time_dt\": \"2021-01-20T08:59:55.906369Z\", \"duration\": \"0:01:23\", \"iteration\": \"14\", \"goal\": \"accuracy_max\", \"run_name\": \"SparseNormalizer, XGBoostClassifier\", \"run_properties\": \"<azureml.automl.runtime.shared.model_wrappers.SparseNormalizer object at 0x7fe9ed35de80\", \"primary_metric\": 0.89910787, \"best_metric\": 0.90519059}, {\"run_id\": \"AutoML_5d0cd4bd-cc27-4d78-9cb2-8db165609640_15\", \"run_number\": 65, \"metric\": null, \"status\": \"Completed\", \"run_type\": \"azureml.scriptrun\", \"training_percent\": \"100\", \"start_time\": \"2021-01-20T09:00:25.171574Z\", \"end_time\": \"2021-01-20T09:01:10.779633Z\", \"created_time\": \"2021-01-20T09:00:12.679687Z\", \"created_time_dt\": \"2021-01-20T09:00:12.679687Z\", \"duration\": \"0:00:58\", \"iteration\": \"15\", \"goal\": \"accuracy_max\", \"run_name\": \"MaxAbsScaler, RandomForest\", \"run_properties\": \"copy=True\", \"primary_metric\": 0.87891322, \"best_metric\": 0.90519059}, {\"run_id\": \"AutoML_5d0cd4bd-cc27-4d78-9cb2-8db165609640_16\", \"run_number\": 66, \"metric\": null, \"status\": \"Completed\", \"run_type\": \"azureml.scriptrun\", \"training_percent\": \"100\", \"start_time\": \"2021-01-20T09:00:33.152904Z\", \"end_time\": \"2021-01-20T09:01:27.776068Z\", \"created_time\": \"2021-01-20T09:00:18.808078Z\", \"created_time_dt\": \"2021-01-20T09:00:18.808078Z\", \"duration\": \"0:01:08\", \"iteration\": \"16\", \"goal\": \"accuracy_max\", \"run_name\": \"StandardScalerWrapper, RandomForest\", \"run_properties\": \"<azureml.automl.runtime.shared.model_wrappers.StandardScalerWrapper object at 0x7f3e40436c88\", \"primary_metric\": 0.87777778, \"best_metric\": 0.90519059}, {\"run_id\": \"AutoML_5d0cd4bd-cc27-4d78-9cb2-8db165609640_17\", \"run_number\": 67, \"metric\": null, \"status\": \"Completed\", \"run_type\": \"azureml.scriptrun\", \"training_percent\": \"100\", \"start_time\": \"2021-01-20T09:00:48.731312Z\", \"end_time\": \"2021-01-20T09:01:42.148359Z\", \"created_time\": \"2021-01-20T09:00:31.379078Z\", \"created_time_dt\": \"2021-01-20T09:00:31.379078Z\", \"duration\": \"0:01:10\", \"iteration\": \"17\", \"goal\": \"accuracy_max\", \"run_name\": \"MaxAbsScaler, ExtremeRandomTrees\", \"run_properties\": \"copy=True\", \"primary_metric\": 0.84525547, \"best_metric\": 0.90519059}, {\"run_id\": \"AutoML_5d0cd4bd-cc27-4d78-9cb2-8db165609640_18\", \"run_number\": 68, \"metric\": null, \"status\": \"Completed\", \"run_type\": \"azureml.scriptrun\", \"training_percent\": \"100\", \"start_time\": \"2021-01-20T09:01:16.01417Z\", \"end_time\": \"2021-01-20T09:02:06.93196Z\", \"created_time\": \"2021-01-20T09:00:47.267614Z\", \"created_time_dt\": \"2021-01-20T09:00:47.267614Z\", \"duration\": \"0:01:19\", \"iteration\": \"18\", \"goal\": \"accuracy_max\", \"run_name\": \"SparseNormalizer, GradientBoosting\", \"run_properties\": \"<azureml.automl.runtime.shared.model_wrappers.SparseNormalizer object at 0x7fcd661b4668\", \"primary_metric\": 0.88491484, \"best_metric\": 0.90519059}, {\"run_id\": \"AutoML_5d0cd4bd-cc27-4d78-9cb2-8db165609640_19\", \"run_number\": 69, \"metric\": null, \"status\": \"Completed\", \"run_type\": \"azureml.scriptrun\", \"training_percent\": \"100\", \"start_time\": \"2021-01-20T09:01:24.25512Z\", \"end_time\": \"2021-01-20T09:02:26.709505Z\", \"created_time\": \"2021-01-20T09:01:13.083585Z\", \"created_time_dt\": \"2021-01-20T09:01:13.083585Z\", \"duration\": \"0:01:13\", \"iteration\": \"19\", \"goal\": \"accuracy_max\", \"run_name\": \"MaxAbsScaler, LightGBM\", \"run_properties\": \"copy=True\", \"primary_metric\": 0.86180049, \"best_metric\": 0.90519059}, {\"run_id\": \"AutoML_5d0cd4bd-cc27-4d78-9cb2-8db165609640_20\", \"run_number\": 70, \"metric\": null, \"status\": \"Completed\", \"run_type\": \"azureml.scriptrun\", \"training_percent\": \"100\", \"start_time\": \"2021-01-20T09:01:34.277572Z\", \"end_time\": \"2021-01-20T09:02:31.601076Z\", \"created_time\": \"2021-01-20T09:01:21.404417Z\", \"created_time_dt\": \"2021-01-20T09:01:21.404417Z\", \"duration\": \"0:01:10\", \"iteration\": \"20\", \"goal\": \"accuracy_max\", \"run_name\": \"MaxAbsScaler, LightGBM\", \"run_properties\": \"copy=True\", \"primary_metric\": 0.87380373, \"best_metric\": 0.90519059}, {\"run_id\": \"AutoML_5d0cd4bd-cc27-4d78-9cb2-8db165609640_21\", \"run_number\": 71, \"metric\": null, \"status\": \"Completed\", \"run_type\": \"azureml.scriptrun\", \"training_percent\": \"100\", \"start_time\": \"2021-01-20T09:01:46.681967Z\", \"end_time\": \"2021-01-20T09:02:50.03964Z\", \"created_time\": \"2021-01-20T09:01:29.890232Z\", \"created_time_dt\": \"2021-01-20T09:01:29.890232Z\", \"duration\": \"0:01:20\", \"iteration\": \"21\", \"goal\": \"accuracy_max\", \"run_name\": \"StandardScalerWrapper, LightGBM\", \"run_properties\": \"<azureml.automl.runtime.shared.model_wrappers.StandardScalerWrapper object at 0x7f36f4442908\", \"primary_metric\": 0.90194647, \"best_metric\": 0.90519059}, {\"run_id\": \"AutoML_5d0cd4bd-cc27-4d78-9cb2-8db165609640_22\", \"run_number\": 72, \"metric\": null, \"status\": \"Completed\", \"run_type\": \"azureml.scriptrun\", \"training_percent\": \"100\", \"start_time\": \"2021-01-20T09:02:10.652979Z\", \"end_time\": \"2021-01-20T09:02:57.74896Z\", \"created_time\": \"2021-01-20T09:01:44.662067Z\", \"created_time_dt\": \"2021-01-20T09:01:44.662067Z\", \"duration\": \"0:01:13\", \"iteration\": \"22\", \"goal\": \"accuracy_max\", \"run_name\": \"MaxAbsScaler, LightGBM\", \"run_properties\": \"copy=True\", \"primary_metric\": 0.90429846, \"best_metric\": 0.90519059}, {\"run_id\": \"AutoML_5d0cd4bd-cc27-4d78-9cb2-8db165609640_23\", \"run_number\": 73, \"metric\": null, \"status\": \"Completed\", \"run_type\": \"azureml.scriptrun\", \"training_percent\": \"100\", \"start_time\": \"2021-01-20T09:02:30.752823Z\", \"end_time\": \"2021-01-20T09:03:18.661126Z\", \"created_time\": \"2021-01-20T09:02:09.280419Z\", \"created_time_dt\": \"2021-01-20T09:02:09.280419Z\", \"duration\": \"0:01:09\", \"iteration\": \"23\", \"goal\": \"accuracy_max\", \"run_name\": \"StandardScalerWrapper, LightGBM\", \"run_properties\": \"<azureml.automl.runtime.shared.model_wrappers.StandardScalerWrapper object at 0x7f3dfac2f978\", \"primary_metric\": 0.90194647, \"best_metric\": 0.90519059}, {\"run_id\": \"AutoML_5d0cd4bd-cc27-4d78-9cb2-8db165609640_24\", \"run_number\": 74, \"metric\": null, \"status\": \"Completed\", \"run_type\": \"azureml.scriptrun\", \"training_percent\": \"100\", \"start_time\": \"2021-01-20T09:02:41.443541Z\", \"end_time\": \"2021-01-20T09:03:27.053479Z\", \"created_time\": \"2021-01-20T09:02:28.913711Z\", \"created_time_dt\": \"2021-01-20T09:02:28.913711Z\", \"duration\": \"0:00:58\", \"iteration\": \"24\", \"goal\": \"accuracy_max\", \"run_name\": \"MaxAbsScaler, RandomForest\", \"run_properties\": \"copy=True\", \"primary_metric\": 0.84525547, \"best_metric\": 0.90519059}, {\"run_id\": \"AutoML_5d0cd4bd-cc27-4d78-9cb2-8db165609640_25\", \"run_number\": 75, \"metric\": null, \"status\": \"Completed\", \"run_type\": \"azureml.scriptrun\", \"training_percent\": \"100\", \"start_time\": \"2021-01-20T09:02:52.067284Z\", \"end_time\": \"2021-01-20T09:03:41.126071Z\", \"created_time\": \"2021-01-20T09:02:35.395639Z\", \"created_time_dt\": \"2021-01-20T09:02:35.395639Z\", \"duration\": \"0:01:05\", \"iteration\": \"25\", \"goal\": \"accuracy_max\", \"run_name\": \"SparseNormalizer, XGBoostClassifier\", \"run_properties\": \"<azureml.automl.runtime.shared.model_wrappers.SparseNormalizer object at 0x7f3c187bb7b8\", \"primary_metric\": 0.84525547, \"best_metric\": 0.90519059}, {\"run_id\": \"AutoML_5d0cd4bd-cc27-4d78-9cb2-8db165609640_26\", \"run_number\": 76, \"metric\": null, \"status\": \"Completed\", \"run_type\": \"azureml.scriptrun\", \"training_percent\": \"100\", \"start_time\": \"2021-01-20T09:03:06.157495Z\", \"end_time\": \"2021-01-20T09:03:58.20393Z\", \"created_time\": \"2021-01-20T09:02:52.246068Z\", \"created_time_dt\": \"2021-01-20T09:02:52.246068Z\", \"duration\": \"0:01:05\", \"iteration\": \"26\", \"goal\": \"accuracy_max\", \"run_name\": \"MaxAbsScaler, LogisticRegression\", \"run_properties\": \"copy=True\", \"primary_metric\": 0.88410381, \"best_metric\": 0.90519059}, {\"run_id\": \"AutoML_5d0cd4bd-cc27-4d78-9cb2-8db165609640_27\", \"run_number\": 77, \"metric\": null, \"status\": \"Completed\", \"run_type\": \"azureml.scriptrun\", \"training_percent\": \"100\", \"start_time\": \"2021-01-20T09:03:22.492982Z\", \"end_time\": \"2021-01-20T09:04:17.550904Z\", \"created_time\": \"2021-01-20T09:03:00.436623Z\", \"created_time_dt\": \"2021-01-20T09:03:00.436623Z\", \"duration\": \"0:01:17\", \"iteration\": \"27\", \"goal\": \"accuracy_max\", \"run_name\": \"SparseNormalizer, XGBoostClassifier\", \"run_properties\": \"<azureml.automl.runtime.shared.model_wrappers.SparseNormalizer object at 0x7fea555a7dd8\", \"primary_metric\": 0.89943228, \"best_metric\": 0.90519059}, {\"run_id\": \"AutoML_5d0cd4bd-cc27-4d78-9cb2-8db165609640_28\", \"run_number\": 78, \"metric\": null, \"status\": \"Completed\", \"run_type\": \"azureml.scriptrun\", \"training_percent\": \"100\", \"start_time\": \"2021-01-20T09:03:32.160925Z\", \"end_time\": \"2021-01-20T09:04:31.729869Z\", \"created_time\": \"2021-01-20T09:03:21.12758Z\", \"created_time_dt\": \"2021-01-20T09:03:21.12758Z\", \"duration\": \"0:01:10\", \"iteration\": \"28\", \"goal\": \"accuracy_max\", \"run_name\": \"SparseNormalizer, XGBoostClassifier\", \"run_properties\": \"<azureml.automl.runtime.shared.model_wrappers.SparseNormalizer object at 0x7f89fa32c9e8\", \"primary_metric\": 0.90381184, \"best_metric\": 0.90519059}, {\"run_id\": \"AutoML_5d0cd4bd-cc27-4d78-9cb2-8db165609640_29\", \"run_number\": 79, \"metric\": null, \"status\": \"Completed\", \"run_type\": \"azureml.scriptrun\", \"training_percent\": \"100\", \"start_time\": \"2021-01-20T09:03:44.691044Z\", \"end_time\": \"2021-01-20T09:04:49.345674Z\", \"created_time\": \"2021-01-20T09:03:29.281426Z\", \"created_time_dt\": \"2021-01-20T09:03:29.281426Z\", \"duration\": \"0:01:20\", \"iteration\": \"29\", \"goal\": \"accuracy_max\", \"run_name\": \"SparseNormalizer, XGBoostClassifier\", \"run_properties\": \"<azureml.automl.runtime.shared.model_wrappers.SparseNormalizer object at 0x7facae319e48\", \"primary_metric\": 0.9, \"best_metric\": 0.90519059}, {\"run_id\": \"AutoML_5d0cd4bd-cc27-4d78-9cb2-8db165609640_30\", \"run_number\": 80, \"metric\": null, \"status\": \"Completed\", \"run_type\": \"azureml.scriptrun\", \"training_percent\": \"100\", \"start_time\": \"2021-01-20T09:04:01.2386Z\", \"end_time\": \"2021-01-20T09:04:57.629489Z\", \"created_time\": \"2021-01-20T09:03:44.192903Z\", \"created_time_dt\": \"2021-01-20T09:03:44.192903Z\", \"duration\": \"0:01:13\", \"iteration\": \"30\", \"goal\": \"accuracy_max\", \"run_name\": \"SparseNormalizer, XGBoostClassifier\", \"run_properties\": \"<azureml.automl.runtime.shared.model_wrappers.SparseNormalizer object at 0x7f7f90a45588\", \"primary_metric\": 0.89505272, \"best_metric\": 0.90519059}, {\"run_id\": \"AutoML_5d0cd4bd-cc27-4d78-9cb2-8db165609640_31\", \"run_number\": 81, \"metric\": null, \"status\": \"Completed\", \"run_type\": \"azureml.scriptrun\", \"training_percent\": \"100\", \"start_time\": \"2021-01-20T09:04:20.795431Z\", \"end_time\": \"2021-01-20T09:05:11.465302Z\", \"created_time\": \"2021-01-20T09:04:00.778354Z\", \"created_time_dt\": \"2021-01-20T09:04:00.778354Z\", \"duration\": \"0:01:10\", \"iteration\": \"31\", \"goal\": \"accuracy_max\", \"run_name\": \"SparseNormalizer, XGBoostClassifier\", \"run_properties\": \"<azureml.automl.runtime.shared.model_wrappers.SparseNormalizer object at 0x7f4e68180be0\", \"primary_metric\": 0.9026764, \"best_metric\": 0.90519059}, {\"run_id\": \"AutoML_5d0cd4bd-cc27-4d78-9cb2-8db165609640_32\", \"run_number\": 82, \"metric\": null, \"status\": \"Completed\", \"run_type\": \"azureml.scriptrun\", \"training_percent\": \"100\", \"start_time\": \"2021-01-20T09:04:36.989058Z\", \"end_time\": \"2021-01-20T09:05:43.917247Z\", \"created_time\": \"2021-01-20T09:04:19.667781Z\", \"created_time_dt\": \"2021-01-20T09:04:19.667781Z\", \"duration\": \"0:01:24\", \"iteration\": \"32\", \"goal\": \"accuracy_max\", \"run_name\": \"SparseNormalizer, XGBoostClassifier\", \"run_properties\": \"<azureml.automl.runtime.shared.model_wrappers.SparseNormalizer object at 0x7f8148f841d0\", \"primary_metric\": 0.90081103, \"best_metric\": 0.90519059}, {\"run_id\": \"AutoML_5d0cd4bd-cc27-4d78-9cb2-8db165609640_33\", \"run_number\": 83, \"metric\": null, \"status\": \"Completed\", \"run_type\": \"azureml.scriptrun\", \"training_percent\": \"100\", \"start_time\": \"2021-01-20T09:04:51.039237Z\", \"end_time\": \"2021-01-20T09:05:40.789935Z\", \"created_time\": \"2021-01-20T09:04:34.098258Z\", \"created_time_dt\": \"2021-01-20T09:04:34.098258Z\", \"duration\": \"0:01:06\", \"iteration\": \"33\", \"goal\": \"accuracy_max\", \"run_name\": \"StandardScalerWrapper, XGBoostClassifier\", \"run_properties\": \"<azureml.automl.runtime.shared.model_wrappers.StandardScalerWrapper object at 0x7f2dd6b0b518\", \"primary_metric\": 0.90210868, \"best_metric\": 0.90519059}, {\"run_id\": \"AutoML_5d0cd4bd-cc27-4d78-9cb2-8db165609640_34\", \"run_number\": 84, \"metric\": null, \"status\": \"Canceled\", \"run_type\": \"azureml.scriptrun\", \"training_percent\": \"100\", \"start_time\": \"2021-01-20T09:05:03.802868Z\", \"end_time\": \"2021-01-20T09:05:54.298397Z\", \"created_time\": \"2021-01-20T09:04:51.462914Z\", \"created_time_dt\": \"2021-01-20T09:04:51.462914Z\", \"duration\": \"0:01:02\", \"iteration\": \"34\", \"goal\": null, \"run_name\": \"MaxAbsScaler, RandomForest\", \"run_properties\": null}, {\"run_id\": \"AutoML_5d0cd4bd-cc27-4d78-9cb2-8db165609640_35\", \"run_number\": 85, \"metric\": null, \"status\": \"Canceled\", \"run_type\": \"azureml.scriptrun\", \"training_percent\": \"100\", \"start_time\": \"2021-01-20T09:05:16.027895Z\", \"end_time\": \"2021-01-20T09:05:54.801863Z\", \"created_time\": \"2021-01-20T09:05:00.696664Z\", \"created_time_dt\": \"2021-01-20T09:05:00.696664Z\", \"duration\": \"0:00:54\", \"iteration\": \"35\", \"goal\": \"accuracy_max\", \"run_name\": \"StandardScalerWrapper, XGBoostClassifier\", \"run_properties\": \"<azureml.automl.runtime.shared.model_wrappers.StandardScalerWrapper object at 0x7fb35cccdba8\", \"primary_metric\": 0.90373074, \"best_metric\": 0.90519059}, {\"run_id\": \"AutoML_5d0cd4bd-cc27-4d78-9cb2-8db165609640_36\", \"run_number\": 86, \"metric\": null, \"status\": \"Canceled\", \"run_type\": \"azureml.scriptrun\", \"training_percent\": \"100\", \"start_time\": \"2021-01-20T09:05:43.170009Z\", \"end_time\": \"2021-01-20T09:05:53.69395Z\", \"created_time\": \"2021-01-20T09:05:13.631422Z\", \"created_time_dt\": \"2021-01-20T09:05:13.631422Z\", \"duration\": \"0:00:40\", \"iteration\": \"36\", \"goal\": null, \"run_name\": \"Canceled\", \"run_properties\": null}, {\"run_id\": \"AutoML_5d0cd4bd-cc27-4d78-9cb2-8db165609640_37\", \"run_number\": 87, \"metric\": null, \"status\": \"Canceled\", \"run_type\": \"azureml.scriptrun\", \"training_percent\": \"100\", \"start_time\": \"2021-01-20T09:05:43.052002Z\", \"end_time\": \"2021-01-20T09:06:00.097583Z\", \"created_time\": \"2021-01-20T09:05:43.052002Z\", \"created_time_dt\": \"2021-01-20T09:05:43.052002Z\", \"duration\": \"0:00:17\", \"iteration\": \"37\", \"goal\": null, \"run_name\": \"Canceled\", \"run_properties\": null}, {\"run_id\": \"AutoML_5d0cd4bd-cc27-4d78-9cb2-8db165609640_38\", \"run_number\": 88, \"metric\": null, \"status\": \"Completed\", \"run_type\": \"azureml.scriptrun\", \"training_percent\": \"100\", \"start_time\": \"2021-01-20T09:06:15.857807Z\", \"end_time\": \"2021-01-20T09:07:41.925104Z\", \"created_time\": \"2021-01-20T09:06:01.268173Z\", \"created_time_dt\": \"2021-01-20T09:06:01.268173Z\", \"duration\": \"0:01:40\", \"iteration\": \"38\", \"goal\": \"accuracy_max\", \"run_name\": \"VotingEnsemble\", \"run_properties\": \"classification_labels=None,\\n                              estimators=[('1',\\n                                           Pipeline(memory=None,\\n                                                    steps=[('maxabsscaler',\\n                                                            MaxAbsScaler(copy=True\", \"primary_metric\": 0.90754258, \"best_metric\": 0.90754258}, {\"run_id\": \"AutoML_5d0cd4bd-cc27-4d78-9cb2-8db165609640_39\", \"run_number\": 89, \"metric\": null, \"status\": \"Completed\", \"run_type\": \"azureml.scriptrun\", \"training_percent\": \"100\", \"start_time\": \"2021-01-20T09:06:22.141084Z\", \"end_time\": \"2021-01-20T09:08:00.819058Z\", \"created_time\": \"2021-01-20T09:06:01.418883Z\", \"created_time_dt\": \"2021-01-20T09:06:01.418883Z\", \"duration\": \"0:01:59\", \"iteration\": \"39\", \"goal\": \"accuracy_max\", \"run_name\": \"StackEnsemble\", \"run_properties\": \"base_learners=[('1',\\n                                        Pipeline(memory=None,\\n                                                 steps=[('maxabsscaler',\\n                                                         MaxAbsScaler(copy=True\", \"primary_metric\": 0.9054339, \"best_metric\": 0.90754258}], \"children_metrics\": {\"categories\": [0], \"series\": {\"precision_score_micro\": [{\"categories\": [\"0\", \"1\", \"2\", \"3\", \"4\", \"5\", \"6\", \"7\", \"8\", \"9\", \"10\", \"11\", \"12\", \"13\", \"14\", \"15\", \"16\", \"17\", \"18\", \"19\", \"20\", \"21\", \"22\", \"23\", \"24\", \"25\", \"26\", \"27\", \"28\", \"29\", \"30\", \"31\", \"32\", \"33\", \"35\", \"38\", \"39\"], \"mode\": \"markers\", \"name\": \"precision_score_micro\", \"stepped\": false, \"type\": \"scatter\", \"data\": [0.9001622060016222, 0.9051905920519059, 0.8467153284671532, 0.8452554744525548, 0.8224655312246553, 0.7559610705596107, 0.9047039740470396, 0.8942416869424168, 0.9022708840227089, 0.8980535279805353, 0.9029197080291972, 0.9016220600162206, 0.9019464720194647, 0.8800486618004867, 0.8991078669910787, 0.8789132197891322, 0.8777777777777778, 0.8452554744525548, 0.8849148418491484, 0.8618004866180048, 0.8738037307380373, 0.9019464720194647, 0.9042984590429844, 0.9019464720194647, 0.8452554744525548, 0.8452554744525548, 0.8841038118410381, 0.8994322789943228, 0.9038118410381184, 0.9, 0.8950527169505271, 0.902676399026764, 0.9008110300081104, 0.9021086780210869, 0.9037307380373073, 0.9075425790754258, 0.9054339010543391]}, {\"categories\": [\"0\", \"1\", \"2\", \"3\", \"4\", \"5\", \"6\", \"7\", \"8\", \"9\", \"10\", \"11\", \"12\", \"13\", \"14\", \"15\", \"16\", \"17\", \"18\", \"19\", \"20\", \"21\", \"22\", \"23\", \"24\", \"25\", \"26\", \"27\", \"28\", \"29\", \"30\", \"31\", \"32\", \"33\", \"35\", \"38\", \"39\"], \"mode\": \"lines\", \"name\": \"precision_score_micro_max\", \"stepped\": true, \"type\": \"scatter\", \"data\": [0.9001622060016222, 0.9051905920519059, 0.9051905920519059, 0.9051905920519059, 0.9051905920519059, 0.9051905920519059, 0.9051905920519059, 0.9051905920519059, 0.9051905920519059, 0.9051905920519059, 0.9051905920519059, 0.9051905920519059, 0.9051905920519059, 0.9051905920519059, 0.9051905920519059, 0.9051905920519059, 0.9051905920519059, 0.9051905920519059, 0.9051905920519059, 0.9051905920519059, 0.9051905920519059, 0.9051905920519059, 0.9051905920519059, 0.9051905920519059, 0.9051905920519059, 0.9051905920519059, 0.9051905920519059, 0.9051905920519059, 0.9051905920519059, 0.9051905920519059, 0.9051905920519059, 0.9051905920519059, 0.9051905920519059, 0.9051905920519059, 0.9051905920519059, 0.9075425790754258, 0.9075425790754258]}], \"recall_score_micro\": [{\"categories\": [\"0\", \"1\", \"2\", \"3\", \"4\", \"5\", \"6\", \"7\", \"8\", \"9\", \"10\", \"11\", \"12\", \"13\", \"14\", \"15\", \"16\", \"17\", \"18\", \"19\", \"20\", \"21\", \"22\", \"23\", \"24\", \"25\", \"26\", \"27\", \"28\", \"29\", \"30\", \"31\", \"32\", \"33\", \"35\", \"38\", \"39\"], \"mode\": \"markers\", \"name\": \"recall_score_micro\", \"stepped\": false, \"type\": \"scatter\", \"data\": [0.9001622060016222, 0.9051905920519059, 0.8467153284671532, 0.8452554744525548, 0.8224655312246553, 0.7559610705596107, 0.9047039740470396, 0.8942416869424168, 0.9022708840227089, 0.8980535279805353, 0.9029197080291972, 0.9016220600162206, 0.9019464720194647, 0.8800486618004867, 0.8991078669910787, 0.8789132197891322, 0.8777777777777778, 0.8452554744525548, 0.8849148418491484, 0.8618004866180048, 0.8738037307380373, 0.9019464720194647, 0.9042984590429844, 0.9019464720194647, 0.8452554744525548, 0.8452554744525548, 0.8841038118410381, 0.8994322789943228, 0.9038118410381184, 0.9, 0.8950527169505271, 0.902676399026764, 0.9008110300081104, 0.9021086780210869, 0.9037307380373073, 0.9075425790754258, 0.9054339010543391]}, {\"categories\": [\"0\", \"1\", \"2\", \"3\", \"4\", \"5\", \"6\", \"7\", \"8\", \"9\", \"10\", \"11\", \"12\", \"13\", \"14\", \"15\", \"16\", \"17\", \"18\", \"19\", \"20\", \"21\", \"22\", \"23\", \"24\", \"25\", \"26\", \"27\", \"28\", \"29\", \"30\", \"31\", \"32\", \"33\", \"35\", \"38\", \"39\"], \"mode\": \"lines\", \"name\": \"recall_score_micro_max\", \"stepped\": true, \"type\": \"scatter\", \"data\": [0.9001622060016222, 0.9051905920519059, 0.9051905920519059, 0.9051905920519059, 0.9051905920519059, 0.9051905920519059, 0.9051905920519059, 0.9051905920519059, 0.9051905920519059, 0.9051905920519059, 0.9051905920519059, 0.9051905920519059, 0.9051905920519059, 0.9051905920519059, 0.9051905920519059, 0.9051905920519059, 0.9051905920519059, 0.9051905920519059, 0.9051905920519059, 0.9051905920519059, 0.9051905920519059, 0.9051905920519059, 0.9051905920519059, 0.9051905920519059, 0.9051905920519059, 0.9051905920519059, 0.9051905920519059, 0.9051905920519059, 0.9051905920519059, 0.9051905920519059, 0.9051905920519059, 0.9051905920519059, 0.9051905920519059, 0.9051905920519059, 0.9051905920519059, 0.9075425790754258, 0.9075425790754258]}], \"log_loss\": [{\"categories\": [\"0\", \"1\", \"2\", \"3\", \"4\", \"5\", \"6\", \"7\", \"8\", \"9\", \"10\", \"11\", \"12\", \"13\", \"14\", \"15\", \"16\", \"17\", \"18\", \"19\", \"20\", \"21\", \"22\", \"23\", \"24\", \"25\", \"26\", \"27\", \"28\", \"29\", \"30\", \"31\", \"32\", \"33\", \"35\", \"38\", \"39\"], \"mode\": \"markers\", \"name\": \"log_loss\", \"stepped\": false, \"type\": \"scatter\", \"data\": [0.23210554876318376, 0.2255707563493307, 0.301281886044883, 0.33546341753863346, 0.47851021333164495, 0.5354061572137531, 0.24950015870827877, 0.2561703922656337, 0.22763136880229715, 0.24873698608252984, 0.22719425867895973, 0.22910630409465801, 0.23100973960881346, 0.29571049574804525, 0.24186745976945198, 0.2569287935986257, 0.26949797097644235, 0.34465466612670825, 0.26828624813640817, 0.29570952060689093, 0.2827003920156634, 0.23697385459260933, 0.233115920188425, 0.2409519909512554, 0.3235208519609577, 0.4310213844691708, 0.29409313128824977, 0.35484155008275825, 0.2312608987285207, 0.2326804862103471, 0.3656214207239817, 0.24878476558027116, 0.2274525816448962, 0.22749853162736158, 0.2316379019257417, 0.23531952089851857, 0.2407099478736814]}, {\"categories\": [\"0\", \"1\", \"2\", \"3\", \"4\", \"5\", \"6\", \"7\", \"8\", \"9\", \"10\", \"11\", \"12\", \"13\", \"14\", \"15\", \"16\", \"17\", \"18\", \"19\", \"20\", \"21\", \"22\", \"23\", \"24\", \"25\", \"26\", \"27\", \"28\", \"29\", \"30\", \"31\", \"32\", \"33\", \"35\", \"38\", \"39\"], \"mode\": \"lines\", \"name\": \"log_loss_min\", \"stepped\": true, \"type\": \"scatter\", \"data\": [0.23210554876318376, 0.2255707563493307, 0.2255707563493307, 0.2255707563493307, 0.2255707563493307, 0.2255707563493307, 0.2255707563493307, 0.2255707563493307, 0.2255707563493307, 0.2255707563493307, 0.2255707563493307, 0.2255707563493307, 0.2255707563493307, 0.2255707563493307, 0.2255707563493307, 0.2255707563493307, 0.2255707563493307, 0.2255707563493307, 0.2255707563493307, 0.2255707563493307, 0.2255707563493307, 0.2255707563493307, 0.2255707563493307, 0.2255707563493307, 0.2255707563493307, 0.2255707563493307, 0.2255707563493307, 0.2255707563493307, 0.2255707563493307, 0.2255707563493307, 0.2255707563493307, 0.2255707563493307, 0.2255707563493307, 0.2255707563493307, 0.2255707563493307, 0.2255707563493307, 0.2255707563493307]}], \"weighted_accuracy\": [{\"categories\": [\"0\", \"1\", \"2\", \"3\", \"4\", \"5\", \"6\", \"7\", \"8\", \"9\", \"10\", \"11\", \"12\", \"13\", \"14\", \"15\", \"16\", \"17\", \"18\", \"19\", \"20\", \"21\", \"22\", \"23\", \"24\", \"25\", \"26\", \"27\", \"28\", \"29\", \"30\", \"31\", \"32\", \"33\", \"35\", \"38\", \"39\"], \"mode\": \"markers\", \"name\": \"weighted_accuracy\", \"stepped\": false, \"type\": \"scatter\", \"data\": [0.9438921597272083, 0.9488002101585732, 0.9673562422184553, 0.9674987125732741, 0.8214770257099118, 0.7457719380098619, 0.9503002388965777, 0.9580721303867259, 0.9480230232075798, 0.9453315177477152, 0.9473296842250938, 0.9468240845343076, 0.9450322226425228, 0.959704696405475, 0.9433610469437855, 0.8954100483200582, 0.9665175622067451, 0.9674987125732741, 0.9583234761515359, 0.9702999575241362, 0.9637144568072636, 0.9420633529724237, 0.946584097235733, 0.9424281940233886, 0.9674987125732741, 0.9674987125732741, 0.9566928339078103, 0.9525242981512062, 0.9472997110360519, 0.944602299566491, 0.9580530050821395, 0.9458488885921814, 0.945215553391268, 0.9468848163872172, 0.9461556480327714, 0.9483103333666548, 0.9492205359730274]}, {\"categories\": [\"0\", \"1\", \"2\", \"3\", \"4\", \"5\", \"6\", \"7\", \"8\", \"9\", \"10\", \"11\", \"12\", \"13\", \"14\", \"15\", \"16\", \"17\", \"18\", \"19\", \"20\", \"21\", \"22\", \"23\", \"24\", \"25\", \"26\", \"27\", \"28\", \"29\", \"30\", \"31\", \"32\", \"33\", \"35\", \"38\", \"39\"], \"mode\": \"lines\", \"name\": \"weighted_accuracy_max\", \"stepped\": true, \"type\": \"scatter\", \"data\": [0.9438921597272083, 0.9488002101585732, 0.9673562422184553, 0.9674987125732741, 0.9674987125732741, 0.9674987125732741, 0.9674987125732741, 0.9674987125732741, 0.9674987125732741, 0.9674987125732741, 0.9674987125732741, 0.9674987125732741, 0.9674987125732741, 0.9674987125732741, 0.9674987125732741, 0.9674987125732741, 0.9674987125732741, 0.9674987125732741, 0.9674987125732741, 0.9702999575241362, 0.9702999575241362, 0.9702999575241362, 0.9702999575241362, 0.9702999575241362, 0.9702999575241362, 0.9702999575241362, 0.9702999575241362, 0.9702999575241362, 0.9702999575241362, 0.9702999575241362, 0.9702999575241362, 0.9702999575241362, 0.9702999575241362, 0.9702999575241362, 0.9702999575241362, 0.9702999575241362, 0.9702999575241362]}], \"accuracy\": [{\"categories\": [\"0\", \"1\", \"2\", \"3\", \"4\", \"5\", \"6\", \"7\", \"8\", \"9\", \"10\", \"11\", \"12\", \"13\", \"14\", \"15\", \"16\", \"17\", \"18\", \"19\", \"20\", \"21\", \"22\", \"23\", \"24\", \"25\", \"26\", \"27\", \"28\", \"29\", \"30\", \"31\", \"32\", \"33\", \"35\", \"38\", \"39\"], \"mode\": \"markers\", \"name\": \"accuracy\", \"stepped\": false, \"type\": \"scatter\", \"data\": [0.9001622060016222, 0.9051905920519059, 0.8467153284671532, 0.8452554744525548, 0.8224655312246553, 0.7559610705596107, 0.9047039740470396, 0.8942416869424168, 0.9022708840227089, 0.8980535279805353, 0.9029197080291972, 0.9016220600162206, 0.9019464720194647, 0.8800486618004867, 0.8991078669910787, 0.8789132197891322, 0.8777777777777778, 0.8452554744525548, 0.8849148418491484, 0.8618004866180048, 0.8738037307380373, 0.9019464720194647, 0.9042984590429844, 0.9019464720194647, 0.8452554744525548, 0.8452554744525548, 0.8841038118410381, 0.8994322789943228, 0.9038118410381184, 0.9, 0.8950527169505271, 0.902676399026764, 0.9008110300081104, 0.9021086780210869, 0.9037307380373073, 0.9075425790754258, 0.9054339010543391]}, {\"categories\": [\"0\", \"1\", \"2\", \"3\", \"4\", \"5\", \"6\", \"7\", \"8\", \"9\", \"10\", \"11\", \"12\", \"13\", \"14\", \"15\", \"16\", \"17\", \"18\", \"19\", \"20\", \"21\", \"22\", \"23\", \"24\", \"25\", \"26\", \"27\", \"28\", \"29\", \"30\", \"31\", \"32\", \"33\", \"35\", \"38\", \"39\"], \"mode\": \"lines\", \"name\": \"accuracy_max\", \"stepped\": true, \"type\": \"scatter\", \"data\": [0.9001622060016222, 0.9051905920519059, 0.9051905920519059, 0.9051905920519059, 0.9051905920519059, 0.9051905920519059, 0.9051905920519059, 0.9051905920519059, 0.9051905920519059, 0.9051905920519059, 0.9051905920519059, 0.9051905920519059, 0.9051905920519059, 0.9051905920519059, 0.9051905920519059, 0.9051905920519059, 0.9051905920519059, 0.9051905920519059, 0.9051905920519059, 0.9051905920519059, 0.9051905920519059, 0.9051905920519059, 0.9051905920519059, 0.9051905920519059, 0.9051905920519059, 0.9051905920519059, 0.9051905920519059, 0.9051905920519059, 0.9051905920519059, 0.9051905920519059, 0.9051905920519059, 0.9051905920519059, 0.9051905920519059, 0.9051905920519059, 0.9051905920519059, 0.9075425790754258, 0.9075425790754258]}], \"recall_score_macro\": [{\"categories\": [\"0\", \"1\", \"2\", \"3\", \"4\", \"5\", \"6\", \"7\", \"8\", \"9\", \"10\", \"11\", \"12\", \"13\", \"14\", \"15\", \"16\", \"17\", \"18\", \"19\", \"20\", \"21\", \"22\", \"23\", \"24\", \"25\", \"26\", \"27\", \"28\", \"29\", \"30\", \"31\", \"32\", \"33\", \"35\", \"38\", \"39\"], \"mode\": \"markers\", \"name\": \"recall_score_macro\", \"stepped\": false, \"type\": \"scatter\", \"data\": [0.77692834505401, 0.782398650768284, 0.5059387234556891, 0.5, 0.825598360173292, 0.7851210213831372, 0.7761782622662196, 0.7139474501097265, 0.7735058518882112, 0.7648717742864509, 0.7778601576644397, 0.7744333906139557, 0.7804313783681461, 0.6551205362463807, 0.7743686492040514, 0.8320734244391149, 0.6279313957314531, 0.5, 0.6783152495177384, 0.5552668565778446, 0.6197174083945739, 0.7888655490468176, 0.7850958082692193, 0.7880741132095165, 0.5, 0.5, 0.6791660036860881, 0.7487589032025689, 0.7813640673739705, 0.7743717143394656, 0.7163700459457972, 0.781093631880592, 0.7758931157278136, 0.7758133702028515, 0.7842401559489623, 0.7927363508376205, 0.7822732576929304]}, {\"categories\": [\"0\", \"1\", \"2\", \"3\", \"4\", \"5\", \"6\", \"7\", \"8\", \"9\", \"10\", \"11\", \"12\", \"13\", \"14\", \"15\", \"16\", \"17\", \"18\", \"19\", \"20\", \"21\", \"22\", \"23\", \"24\", \"25\", \"26\", \"27\", \"28\", \"29\", \"30\", \"31\", \"32\", \"33\", \"35\", \"38\", \"39\"], \"mode\": \"lines\", \"name\": \"recall_score_macro_max\", \"stepped\": true, \"type\": \"scatter\", \"data\": [0.77692834505401, 0.782398650768284, 0.782398650768284, 0.782398650768284, 0.825598360173292, 0.825598360173292, 0.825598360173292, 0.825598360173292, 0.825598360173292, 0.825598360173292, 0.825598360173292, 0.825598360173292, 0.825598360173292, 0.825598360173292, 0.825598360173292, 0.8320734244391149, 0.8320734244391149, 0.8320734244391149, 0.8320734244391149, 0.8320734244391149, 0.8320734244391149, 0.8320734244391149, 0.8320734244391149, 0.8320734244391149, 0.8320734244391149, 0.8320734244391149, 0.8320734244391149, 0.8320734244391149, 0.8320734244391149, 0.8320734244391149, 0.8320734244391149, 0.8320734244391149, 0.8320734244391149, 0.8320734244391149, 0.8320734244391149, 0.8320734244391149, 0.8320734244391149]}], \"AUC_micro\": [{\"categories\": [\"0\", \"1\", \"2\", \"3\", \"4\", \"5\", \"6\", \"7\", \"8\", \"9\", \"10\", \"11\", \"12\", \"13\", \"14\", \"15\", \"16\", \"17\", \"18\", \"19\", \"20\", \"21\", \"22\", \"23\", \"24\", \"25\", \"26\", \"27\", \"28\", \"29\", \"30\", \"31\", \"32\", \"33\", \"35\", \"38\", \"39\"], \"mode\": \"markers\", \"name\": \"AUC_micro\", \"stepped\": false, \"type\": \"scatter\", \"data\": [0.9680599215017671, 0.9695271162259279, 0.9499044523771468, 0.9433592626138846, 0.8839461839163475, 0.8462056622129083, 0.9684726982830237, 0.9621466839528536, 0.968805042988537, 0.9671256682117676, 0.9690531273988038, 0.9686795306681821, 0.9688996039568792, 0.9488600193778945, 0.9670418716441412, 0.9592890562254941, 0.9589082470503962, 0.9414845598435561, 0.9587284193992063, 0.9579428056113016, 0.9552462788325115, 0.9658458885119869, 0.9673806493370668, 0.9650848226883179, 0.9482725652819958, 0.8452554744525548, 0.9495695423699048, 0.9654430572082018, 0.9681088990316974, 0.9675097728129322, 0.9629830315157184, 0.9676015020828278, 0.9693246349871636, 0.9688732010821627, 0.9683527802937467, 0.96964569236507, 0.9699083397959202]}, {\"categories\": [\"0\", \"1\", \"2\", \"3\", \"4\", \"5\", \"6\", \"7\", \"8\", \"9\", \"10\", \"11\", \"12\", \"13\", \"14\", \"15\", \"16\", \"17\", \"18\", \"19\", \"20\", \"21\", \"22\", \"23\", \"24\", \"25\", \"26\", \"27\", \"28\", \"29\", \"30\", \"31\", \"32\", \"33\", \"35\", \"38\", \"39\"], \"mode\": \"lines\", \"name\": \"AUC_micro_max\", \"stepped\": true, \"type\": \"scatter\", \"data\": [0.9680599215017671, 0.9695271162259279, 0.9695271162259279, 0.9695271162259279, 0.9695271162259279, 0.9695271162259279, 0.9695271162259279, 0.9695271162259279, 0.9695271162259279, 0.9695271162259279, 0.9695271162259279, 0.9695271162259279, 0.9695271162259279, 0.9695271162259279, 0.9695271162259279, 0.9695271162259279, 0.9695271162259279, 0.9695271162259279, 0.9695271162259279, 0.9695271162259279, 0.9695271162259279, 0.9695271162259279, 0.9695271162259279, 0.9695271162259279, 0.9695271162259279, 0.9695271162259279, 0.9695271162259279, 0.9695271162259279, 0.9695271162259279, 0.9695271162259279, 0.9695271162259279, 0.9695271162259279, 0.9695271162259279, 0.9695271162259279, 0.9695271162259279, 0.96964569236507, 0.9699083397959202]}], \"f1_score_macro\": [{\"categories\": [\"0\", \"1\", \"2\", \"3\", \"4\", \"5\", \"6\", \"7\", \"8\", \"9\", \"10\", \"11\", \"12\", \"13\", \"14\", \"15\", \"16\", \"17\", \"18\", \"19\", \"20\", \"21\", \"22\", \"23\", \"24\", \"25\", \"26\", \"27\", \"28\", \"29\", \"30\", \"31\", \"32\", \"33\", \"35\", \"38\", \"39\"], \"mode\": \"markers\", \"name\": \"f1_score_macro\", \"stepped\": false, \"type\": \"scatter\", \"data\": [0.7958091515195553, 0.8043225633710266, 0.47058023316318714, 0.45806432077149334, 0.7388458690417746, 0.6753650538611714, 0.8010049537002276, 0.7547181149972609, 0.7967616176213236, 0.7877474160035529, 0.7996185860931074, 0.796387865294561, 0.7995603845624449, 0.695882649621027, 0.7934998352152217, 0.7939680032737483, 0.6637214569465528, 0.45806432077149334, 0.7189827271175103, 0.5617321418914768, 0.655694976832648, 0.8032805457098902, 0.8044228158420025, 0.8027442468109004, 0.45806432077149334, 0.45806432077149334, 0.719798257160715, 0.7807290694592793, 0.8021705451201601, 0.7944846985344621, 0.7566103459963341, 0.8007150278053277, 0.7960483896841, 0.7976981020457452, 0.8032858976033407, 0.8116894768790536, 0.8044537332620134]}, {\"categories\": [\"0\", \"1\", \"2\", \"3\", \"4\", \"5\", \"6\", \"7\", \"8\", \"9\", \"10\", \"11\", \"12\", \"13\", \"14\", \"15\", \"16\", \"17\", \"18\", \"19\", \"20\", \"21\", \"22\", \"23\", \"24\", \"25\", \"26\", \"27\", \"28\", \"29\", \"30\", \"31\", \"32\", \"33\", \"35\", \"38\", \"39\"], \"mode\": \"lines\", \"name\": \"f1_score_macro_max\", \"stepped\": true, \"type\": \"scatter\", \"data\": [0.7958091515195553, 0.8043225633710266, 0.8043225633710266, 0.8043225633710266, 0.8043225633710266, 0.8043225633710266, 0.8043225633710266, 0.8043225633710266, 0.8043225633710266, 0.8043225633710266, 0.8043225633710266, 0.8043225633710266, 0.8043225633710266, 0.8043225633710266, 0.8043225633710266, 0.8043225633710266, 0.8043225633710266, 0.8043225633710266, 0.8043225633710266, 0.8043225633710266, 0.8043225633710266, 0.8043225633710266, 0.8044228158420025, 0.8044228158420025, 0.8044228158420025, 0.8044228158420025, 0.8044228158420025, 0.8044228158420025, 0.8044228158420025, 0.8044228158420025, 0.8044228158420025, 0.8044228158420025, 0.8044228158420025, 0.8044228158420025, 0.8044228158420025, 0.8116894768790536, 0.8116894768790536]}], \"AUC_macro\": [{\"categories\": [\"0\", \"1\", \"2\", \"3\", \"4\", \"5\", \"6\", \"7\", \"8\", \"9\", \"10\", \"11\", \"12\", \"13\", \"14\", \"15\", \"16\", \"17\", \"18\", \"19\", \"20\", \"21\", \"22\", \"23\", \"24\", \"25\", \"26\", \"27\", \"28\", \"29\", \"30\", \"31\", \"32\", \"33\", \"35\", \"38\", \"39\"], \"mode\": \"markers\", \"name\": \"AUC_macro\", \"stepped\": false, \"type\": \"scatter\", \"data\": [0.9302080032593238, 0.9335745193091164, 0.9003978426216467, 0.8759106723576228, 0.8924631441325407, 0.8633979207283226, 0.9305766884149443, 0.9175889452060911, 0.9319552555007157, 0.9273703065696335, 0.9325925799372764, 0.9315397747716044, 0.9324918593298855, 0.8844719870637617, 0.927516381355406, 0.9096415157012446, 0.9207894246095177, 0.8680034188609135, 0.911861856911615, 0.9280872935877905, 0.9084322624797361, 0.9223181293574263, 0.9278455757240226, 0.9208666389916083, 0.8941742661521997, 0.5, 0.8911114374003422, 0.9231735791619956, 0.9294334919587, 0.9284633509449408, 0.9184933138494346, 0.9279106149615789, 0.9334111038127387, 0.9317829171212932, 0.9309629842932964, 0.9342295236057905, 0.9347309490971968]}, {\"categories\": [\"0\", \"1\", \"2\", \"3\", \"4\", \"5\", \"6\", \"7\", \"8\", \"9\", \"10\", \"11\", \"12\", \"13\", \"14\", \"15\", \"16\", \"17\", \"18\", \"19\", \"20\", \"21\", \"22\", \"23\", \"24\", \"25\", \"26\", \"27\", \"28\", \"29\", \"30\", \"31\", \"32\", \"33\", \"35\", \"38\", \"39\"], \"mode\": \"lines\", \"name\": \"AUC_macro_max\", \"stepped\": true, \"type\": \"scatter\", \"data\": [0.9302080032593238, 0.9335745193091164, 0.9335745193091164, 0.9335745193091164, 0.9335745193091164, 0.9335745193091164, 0.9335745193091164, 0.9335745193091164, 0.9335745193091164, 0.9335745193091164, 0.9335745193091164, 0.9335745193091164, 0.9335745193091164, 0.9335745193091164, 0.9335745193091164, 0.9335745193091164, 0.9335745193091164, 0.9335745193091164, 0.9335745193091164, 0.9335745193091164, 0.9335745193091164, 0.9335745193091164, 0.9335745193091164, 0.9335745193091164, 0.9335745193091164, 0.9335745193091164, 0.9335745193091164, 0.9335745193091164, 0.9335745193091164, 0.9335745193091164, 0.9335745193091164, 0.9335745193091164, 0.9335745193091164, 0.9335745193091164, 0.9335745193091164, 0.9342295236057905, 0.9347309490971968]}], \"f1_score_weighted\": [{\"categories\": [\"0\", \"1\", \"2\", \"3\", \"4\", \"5\", \"6\", \"7\", \"8\", \"9\", \"10\", \"11\", \"12\", \"13\", \"14\", \"15\", \"16\", \"17\", \"18\", \"19\", \"20\", \"21\", \"22\", \"23\", \"24\", \"25\", \"26\", \"27\", \"28\", \"29\", \"30\", \"31\", \"32\", \"33\", \"35\", \"38\", \"39\"], \"mode\": \"markers\", \"name\": \"f1_score_weighted\", \"stepped\": false, \"type\": \"scatter\", \"data\": [0.896525296771615, 0.9012184656233285, 0.7787620991946668, 0.7743823073621229, 0.8408962985325491, 0.7866764855499874, 0.9001032261475949, 0.8824492364570761, 0.8977321179327243, 0.8932900020871907, 0.898831190380705, 0.8973170234453588, 0.8984163994042506, 0.8592603615485147, 0.8953757959199701, 0.8852886865393327, 0.8486058393752721, 0.7743823073621229, 0.8678591000742996, 0.8122047986804887, 0.8449483658807662, 0.8993910290038519, 0.9008586675200965, 0.8992187875324321, 0.7743823073621229, 0.7743823073621229, 0.8679287500717868, 0.8921876968212694, 0.8999770590216846, 0.8960556087600877, 0.8834541338232924, 0.8990370195275762, 0.8968420253336865, 0.8979859278172363, 0.9002654645298408, 0.9043522792793751, 0.9013489043271193]}, {\"categories\": [\"0\", \"1\", \"2\", \"3\", \"4\", \"5\", \"6\", \"7\", \"8\", \"9\", \"10\", \"11\", \"12\", \"13\", \"14\", \"15\", \"16\", \"17\", \"18\", \"19\", \"20\", \"21\", \"22\", \"23\", \"24\", \"25\", \"26\", \"27\", \"28\", \"29\", \"30\", \"31\", \"32\", \"33\", \"35\", \"38\", \"39\"], \"mode\": \"lines\", \"name\": \"f1_score_weighted_max\", \"stepped\": true, \"type\": \"scatter\", \"data\": [0.896525296771615, 0.9012184656233285, 0.9012184656233285, 0.9012184656233285, 0.9012184656233285, 0.9012184656233285, 0.9012184656233285, 0.9012184656233285, 0.9012184656233285, 0.9012184656233285, 0.9012184656233285, 0.9012184656233285, 0.9012184656233285, 0.9012184656233285, 0.9012184656233285, 0.9012184656233285, 0.9012184656233285, 0.9012184656233285, 0.9012184656233285, 0.9012184656233285, 0.9012184656233285, 0.9012184656233285, 0.9012184656233285, 0.9012184656233285, 0.9012184656233285, 0.9012184656233285, 0.9012184656233285, 0.9012184656233285, 0.9012184656233285, 0.9012184656233285, 0.9012184656233285, 0.9012184656233285, 0.9012184656233285, 0.9012184656233285, 0.9012184656233285, 0.9043522792793751, 0.9043522792793751]}], \"f1_score_micro\": [{\"categories\": [\"0\", \"1\", \"2\", \"3\", \"4\", \"5\", \"6\", \"7\", \"8\", \"9\", \"10\", \"11\", \"12\", \"13\", \"14\", \"15\", \"16\", \"17\", \"18\", \"19\", \"20\", \"21\", \"22\", \"23\", \"24\", \"25\", \"26\", \"27\", \"28\", \"29\", \"30\", \"31\", \"32\", \"33\", \"35\", \"38\", \"39\"], \"mode\": \"markers\", \"name\": \"f1_score_micro\", \"stepped\": false, \"type\": \"scatter\", \"data\": [0.9001622060016222, 0.9051905920519059, 0.8467153284671532, 0.8452554744525548, 0.8224655312246553, 0.7559610705596107, 0.9047039740470396, 0.8942416869424168, 0.9022708840227088, 0.8980535279805353, 0.902919708029197, 0.9016220600162206, 0.9019464720194647, 0.8800486618004868, 0.8991078669910787, 0.8789132197891322, 0.8777777777777778, 0.8452554744525548, 0.8849148418491484, 0.8618004866180048, 0.8738037307380373, 0.9019464720194647, 0.9042984590429844, 0.9019464720194647, 0.8452554744525548, 0.8452554744525548, 0.8841038118410381, 0.8994322789943228, 0.9038118410381184, 0.9, 0.8950527169505271, 0.902676399026764, 0.9008110300081104, 0.9021086780210869, 0.9037307380373073, 0.9075425790754258, 0.9054339010543391]}, {\"categories\": [\"0\", \"1\", \"2\", \"3\", \"4\", \"5\", \"6\", \"7\", \"8\", \"9\", \"10\", \"11\", \"12\", \"13\", \"14\", \"15\", \"16\", \"17\", \"18\", \"19\", \"20\", \"21\", \"22\", \"23\", \"24\", \"25\", \"26\", \"27\", \"28\", \"29\", \"30\", \"31\", \"32\", \"33\", \"35\", \"38\", \"39\"], \"mode\": \"lines\", \"name\": \"f1_score_micro_max\", \"stepped\": true, \"type\": \"scatter\", \"data\": [0.9001622060016222, 0.9051905920519059, 0.9051905920519059, 0.9051905920519059, 0.9051905920519059, 0.9051905920519059, 0.9051905920519059, 0.9051905920519059, 0.9051905920519059, 0.9051905920519059, 0.9051905920519059, 0.9051905920519059, 0.9051905920519059, 0.9051905920519059, 0.9051905920519059, 0.9051905920519059, 0.9051905920519059, 0.9051905920519059, 0.9051905920519059, 0.9051905920519059, 0.9051905920519059, 0.9051905920519059, 0.9051905920519059, 0.9051905920519059, 0.9051905920519059, 0.9051905920519059, 0.9051905920519059, 0.9051905920519059, 0.9051905920519059, 0.9051905920519059, 0.9051905920519059, 0.9051905920519059, 0.9051905920519059, 0.9051905920519059, 0.9051905920519059, 0.9075425790754258, 0.9075425790754258]}], \"average_precision_score_macro\": [{\"categories\": [\"0\", \"1\", \"2\", \"3\", \"4\", \"5\", \"6\", \"7\", \"8\", \"9\", \"10\", \"11\", \"12\", \"13\", \"14\", \"15\", \"16\", \"17\", \"18\", \"19\", \"20\", \"21\", \"22\", \"23\", \"24\", \"25\", \"26\", \"27\", \"28\", \"29\", \"30\", \"31\", \"32\", \"33\", \"35\", \"38\", \"39\"], \"mode\": \"markers\", \"name\": \"average_precision_score_macro\", \"stepped\": false, \"type\": \"scatter\", \"data\": [0.861599501682337, 0.86783193820032, 0.7921676065821837, 0.7670084449198799, 0.7874264803363987, 0.7533252119868471, 0.8667590237880495, 0.8428516474964974, 0.8644519868715942, 0.8593915730313233, 0.865321555825665, 0.8643950478458948, 0.8676701852627784, 0.8001698423790939, 0.8592325665837602, 0.7745949526351802, 0.846621410916641, 0.7632016597178165, 0.8279118095640695, 0.863249265073938, 0.8235812998865907, 0.8547300546700759, 0.8582834661571518, 0.8523091182290409, 0.7869950095673345, 0.5, 0.8069179995628515, 0.8583359674674086, 0.8636443114955884, 0.8588560438539644, 0.8563697404253565, 0.8628514808127884, 0.8668718127990465, 0.8660565216731738, 0.8643284470725806, 0.8699337151188599, 0.8708591947656276]}, {\"categories\": [\"0\", \"1\", \"2\", \"3\", \"4\", \"5\", \"6\", \"7\", \"8\", \"9\", \"10\", \"11\", \"12\", \"13\", \"14\", \"15\", \"16\", \"17\", \"18\", \"19\", \"20\", \"21\", \"22\", \"23\", \"24\", \"25\", \"26\", \"27\", \"28\", \"29\", \"30\", \"31\", \"32\", \"33\", \"35\", \"38\", \"39\"], \"mode\": \"lines\", \"name\": \"average_precision_score_macro_max\", \"stepped\": true, \"type\": \"scatter\", \"data\": [0.861599501682337, 0.86783193820032, 0.86783193820032, 0.86783193820032, 0.86783193820032, 0.86783193820032, 0.86783193820032, 0.86783193820032, 0.86783193820032, 0.86783193820032, 0.86783193820032, 0.86783193820032, 0.86783193820032, 0.86783193820032, 0.86783193820032, 0.86783193820032, 0.86783193820032, 0.86783193820032, 0.86783193820032, 0.86783193820032, 0.86783193820032, 0.86783193820032, 0.86783193820032, 0.86783193820032, 0.86783193820032, 0.86783193820032, 0.86783193820032, 0.86783193820032, 0.86783193820032, 0.86783193820032, 0.86783193820032, 0.86783193820032, 0.86783193820032, 0.86783193820032, 0.86783193820032, 0.8699337151188599, 0.8708591947656276]}], \"matthews_correlation\": [{\"categories\": [\"0\", \"1\", \"2\", \"3\", \"4\", \"5\", \"6\", \"7\", \"8\", \"9\", \"10\", \"11\", \"12\", \"13\", \"14\", \"15\", \"16\", \"17\", \"18\", \"19\", \"20\", \"21\", \"22\", \"23\", \"24\", \"25\", \"26\", \"27\", \"28\", \"29\", \"30\", \"31\", \"32\", \"33\", \"35\", \"38\", \"39\"], \"mode\": \"markers\", \"name\": \"matthews_correlation\", \"stepped\": false, \"type\": \"scatter\", \"data\": [0.5952280497602397, 0.6134057692822686, 0.08072304691477143, 0.0, 0.5245296994038617, 0.4364753706716418, 0.6082522000071277, 0.5375869409406744, 0.599213249054629, 0.5811876244897592, 0.6039865437782787, 0.5978634883946253, 0.6026600047245451, 0.44863863805867954, 0.5906850600542795, 0.5976624415148193, 0.423105177066168, 0.0, 0.4820319756006258, 0.3000475966562437, 0.4002865297627583, 0.6084873834500336, 0.6124312542243526, 0.607694509123261, 0.0, 0.0, 0.4792489899531675, 0.5763456971051437, 0.6086737782539638, 0.5931262918635511, 0.5434211437154547, 0.6052373606468467, 0.5963996366009703, 0.6001767785921898, 0.610162443612894, 0.6267021629847426, 0.6139705853423508]}, {\"categories\": [\"0\", \"1\", \"2\", \"3\", \"4\", \"5\", \"6\", \"7\", \"8\", \"9\", \"10\", \"11\", \"12\", \"13\", \"14\", \"15\", \"16\", \"17\", \"18\", \"19\", \"20\", \"21\", \"22\", \"23\", \"24\", \"25\", \"26\", \"27\", \"28\", \"29\", \"30\", \"31\", \"32\", \"33\", \"35\", \"38\", \"39\"], \"mode\": \"lines\", \"name\": \"matthews_correlation_max\", \"stepped\": true, \"type\": \"scatter\", \"data\": [0.5952280497602397, 0.6134057692822686, 0.6134057692822686, 0.6134057692822686, 0.6134057692822686, 0.6134057692822686, 0.6134057692822686, 0.6134057692822686, 0.6134057692822686, 0.6134057692822686, 0.6134057692822686, 0.6134057692822686, 0.6134057692822686, 0.6134057692822686, 0.6134057692822686, 0.6134057692822686, 0.6134057692822686, 0.6134057692822686, 0.6134057692822686, 0.6134057692822686, 0.6134057692822686, 0.6134057692822686, 0.6134057692822686, 0.6134057692822686, 0.6134057692822686, 0.6134057692822686, 0.6134057692822686, 0.6134057692822686, 0.6134057692822686, 0.6134057692822686, 0.6134057692822686, 0.6134057692822686, 0.6134057692822686, 0.6134057692822686, 0.6134057692822686, 0.6267021629847426, 0.6267021629847426]}], \"norm_macro_recall\": [{\"categories\": [\"0\", \"1\", \"2\", \"3\", \"4\", \"5\", \"6\", \"7\", \"8\", \"9\", \"10\", \"11\", \"12\", \"13\", \"14\", \"15\", \"16\", \"17\", \"18\", \"19\", \"20\", \"21\", \"22\", \"23\", \"24\", \"25\", \"26\", \"27\", \"28\", \"29\", \"30\", \"31\", \"32\", \"33\", \"35\", \"38\", \"39\"], \"mode\": \"markers\", \"name\": \"norm_macro_recall\", \"stepped\": false, \"type\": \"scatter\", \"data\": [0.5538566901080199, 0.5647973015365682, 0.01187744691137819, 0.0, 0.6511967203465839, 0.5702420427662743, 0.5523565245324392, 0.42789490021945314, 0.5470117037764224, 0.5297435485729018, 0.5557203153288796, 0.5488667812279114, 0.560862756736292, 0.31024107249276134, 0.5487372984081028, 0.6641468488782301, 0.25586279146290597, 0.0, 0.3566304990354767, 0.11053371315568923, 0.23943481678914771, 0.577731098093635, 0.5701916165384385, 0.5761482264190331, 0.0, 0.0, 0.35833200737217635, 0.4975178064051378, 0.5627281347479409, 0.548743428678931, 0.43274009189159424, 0.562187263761184, 0.5517862314556273, 0.551626740405703, 0.5684803118979249, 0.5854727016752412, 0.5645465153858606]}, {\"categories\": [\"0\", \"1\", \"2\", \"3\", \"4\", \"5\", \"6\", \"7\", \"8\", \"9\", \"10\", \"11\", \"12\", \"13\", \"14\", \"15\", \"16\", \"17\", \"18\", \"19\", \"20\", \"21\", \"22\", \"23\", \"24\", \"25\", \"26\", \"27\", \"28\", \"29\", \"30\", \"31\", \"32\", \"33\", \"35\", \"38\", \"39\"], \"mode\": \"lines\", \"name\": \"norm_macro_recall_max\", \"stepped\": true, \"type\": \"scatter\", \"data\": [0.5538566901080199, 0.5647973015365682, 0.5647973015365682, 0.5647973015365682, 0.6511967203465839, 0.6511967203465839, 0.6511967203465839, 0.6511967203465839, 0.6511967203465839, 0.6511967203465839, 0.6511967203465839, 0.6511967203465839, 0.6511967203465839, 0.6511967203465839, 0.6511967203465839, 0.6641468488782301, 0.6641468488782301, 0.6641468488782301, 0.6641468488782301, 0.6641468488782301, 0.6641468488782301, 0.6641468488782301, 0.6641468488782301, 0.6641468488782301, 0.6641468488782301, 0.6641468488782301, 0.6641468488782301, 0.6641468488782301, 0.6641468488782301, 0.6641468488782301, 0.6641468488782301, 0.6641468488782301, 0.6641468488782301, 0.6641468488782301, 0.6641468488782301, 0.6641468488782301, 0.6641468488782301]}], \"average_precision_score_micro\": [{\"categories\": [\"0\", \"1\", \"2\", \"3\", \"4\", \"5\", \"6\", \"7\", \"8\", \"9\", \"10\", \"11\", \"12\", \"13\", \"14\", \"15\", \"16\", \"17\", \"18\", \"19\", \"20\", \"21\", \"22\", \"23\", \"24\", \"25\", \"26\", \"27\", \"28\", \"29\", \"30\", \"31\", \"32\", \"33\", \"35\", \"38\", \"39\"], \"mode\": \"markers\", \"name\": \"average_precision_score_micro\", \"stepped\": false, \"type\": \"scatter\", \"data\": [0.9692024524545738, 0.9704549084235478, 0.9513001509908752, 0.9434488218350602, 0.8835247153388167, 0.8513455383281517, 0.9692043096789869, 0.9623219276155308, 0.9698814250811365, 0.9680704661018847, 0.9700561034922903, 0.9696856465699112, 0.9698481085348648, 0.9457410041303875, 0.9681013229147526, 0.9540022779590833, 0.9599280384691667, 0.9429306974749608, 0.9589617400021243, 0.9595025771160612, 0.955753908477949, 0.9658875737520468, 0.9676220314685278, 0.9650686173354268, 0.9491611924511231, 0.7918623893220302, 0.9441997084904813, 0.9651629911922952, 0.9688550121764649, 0.9684559342485933, 0.9621136847579672, 0.9670536794142075, 0.9704194586527813, 0.9699675774985251, 0.9692423103588744, 0.9705938145008286, 0.9709574268060811]}, {\"categories\": [\"0\", \"1\", \"2\", \"3\", \"4\", \"5\", \"6\", \"7\", \"8\", \"9\", \"10\", \"11\", \"12\", \"13\", \"14\", \"15\", \"16\", \"17\", \"18\", \"19\", \"20\", \"21\", \"22\", \"23\", \"24\", \"25\", \"26\", \"27\", \"28\", \"29\", \"30\", \"31\", \"32\", \"33\", \"35\", \"38\", \"39\"], \"mode\": \"lines\", \"name\": \"average_precision_score_micro_max\", \"stepped\": true, \"type\": \"scatter\", \"data\": [0.9692024524545738, 0.9704549084235478, 0.9704549084235478, 0.9704549084235478, 0.9704549084235478, 0.9704549084235478, 0.9704549084235478, 0.9704549084235478, 0.9704549084235478, 0.9704549084235478, 0.9704549084235478, 0.9704549084235478, 0.9704549084235478, 0.9704549084235478, 0.9704549084235478, 0.9704549084235478, 0.9704549084235478, 0.9704549084235478, 0.9704549084235478, 0.9704549084235478, 0.9704549084235478, 0.9704549084235478, 0.9704549084235478, 0.9704549084235478, 0.9704549084235478, 0.9704549084235478, 0.9704549084235478, 0.9704549084235478, 0.9704549084235478, 0.9704549084235478, 0.9704549084235478, 0.9704549084235478, 0.9704549084235478, 0.9704549084235478, 0.9704549084235478, 0.9705938145008286, 0.9709574268060811]}], \"precision_score_macro\": [{\"categories\": [\"0\", \"1\", \"2\", \"3\", \"4\", \"5\", \"6\", \"7\", \"8\", \"9\", \"10\", \"11\", \"12\", \"13\", \"14\", \"15\", \"16\", \"17\", \"18\", \"19\", \"20\", \"21\", \"22\", \"23\", \"24\", \"25\", \"26\", \"27\", \"28\", \"29\", \"30\", \"31\", \"32\", \"33\", \"35\", \"38\", \"39\"], \"mode\": \"markers\", \"name\": \"precision_score_macro\", \"stepped\": false, \"type\": \"scatter\", \"data\": [0.8198792276521926, 0.833135280130417, 0.8501815191878958, 0.4226277372262774, 0.7113150374864432, 0.6672523329621124, 0.8349122342797525, 0.8378244958787633, 0.8282528806084164, 0.8188464190624268, 0.8282432248205458, 0.8256883936289263, 0.823789514576566, 0.8247022720483032, 0.8179334502386983, 0.7689396535419037, 0.8589747851173227, 0.4226277372262774, 0.8270010628463123, 0.9100820203923616, 0.8351995588654297, 0.8204556834290496, 0.8289225492999629, 0.8205633057668075, 0.4226277372262774, 0.4226277372262774, 0.8205166497145228, 0.8351122697600827, 0.8292317843481961, 0.8205820635149049, 0.8432244453663033, 0.8258210644405263, 0.8223950165499455, 0.8265014002839379, 0.8275013256435693, 0.8354382051466436, 0.8339594512138806]}, {\"categories\": [\"0\", \"1\", \"2\", \"3\", \"4\", \"5\", \"6\", \"7\", \"8\", \"9\", \"10\", \"11\", \"12\", \"13\", \"14\", \"15\", \"16\", \"17\", \"18\", \"19\", \"20\", \"21\", \"22\", \"23\", \"24\", \"25\", \"26\", \"27\", \"28\", \"29\", \"30\", \"31\", \"32\", \"33\", \"35\", \"38\", \"39\"], \"mode\": \"lines\", \"name\": \"precision_score_macro_max\", \"stepped\": true, \"type\": \"scatter\", \"data\": [0.8198792276521926, 0.833135280130417, 0.8501815191878958, 0.8501815191878958, 0.8501815191878958, 0.8501815191878958, 0.8501815191878958, 0.8501815191878958, 0.8501815191878958, 0.8501815191878958, 0.8501815191878958, 0.8501815191878958, 0.8501815191878958, 0.8501815191878958, 0.8501815191878958, 0.8501815191878958, 0.8589747851173227, 0.8589747851173227, 0.8589747851173227, 0.9100820203923616, 0.9100820203923616, 0.9100820203923616, 0.9100820203923616, 0.9100820203923616, 0.9100820203923616, 0.9100820203923616, 0.9100820203923616, 0.9100820203923616, 0.9100820203923616, 0.9100820203923616, 0.9100820203923616, 0.9100820203923616, 0.9100820203923616, 0.9100820203923616, 0.9100820203923616, 0.9100820203923616, 0.9100820203923616]}], \"balanced_accuracy\": [{\"categories\": [\"0\", \"1\", \"2\", \"3\", \"4\", \"5\", \"6\", \"7\", \"8\", \"9\", \"10\", \"11\", \"12\", \"13\", \"14\", \"15\", \"16\", \"17\", \"18\", \"19\", \"20\", \"21\", \"22\", \"23\", \"24\", \"25\", \"26\", \"27\", \"28\", \"29\", \"30\", \"31\", \"32\", \"33\", \"35\", \"38\", \"39\"], \"mode\": \"markers\", \"name\": \"balanced_accuracy\", \"stepped\": false, \"type\": \"scatter\", \"data\": [0.77692834505401, 0.782398650768284, 0.5059387234556891, 0.5, 0.825598360173292, 0.7851210213831372, 0.7761782622662196, 0.7139474501097265, 0.7735058518882112, 0.7648717742864509, 0.7778601576644397, 0.7744333906139557, 0.7804313783681461, 0.6551205362463807, 0.7743686492040514, 0.8320734244391149, 0.6279313957314531, 0.5, 0.6783152495177384, 0.5552668565778446, 0.6197174083945739, 0.7888655490468176, 0.7850958082692193, 0.7880741132095165, 0.5, 0.5, 0.6791660036860881, 0.7487589032025689, 0.7813640673739705, 0.7743717143394656, 0.7163700459457972, 0.781093631880592, 0.7758931157278136, 0.7758133702028515, 0.7842401559489623, 0.7927363508376205, 0.7822732576929304]}, {\"categories\": [\"0\", \"1\", \"2\", \"3\", \"4\", \"5\", \"6\", \"7\", \"8\", \"9\", \"10\", \"11\", \"12\", \"13\", \"14\", \"15\", \"16\", \"17\", \"18\", \"19\", \"20\", \"21\", \"22\", \"23\", \"24\", \"25\", \"26\", \"27\", \"28\", \"29\", \"30\", \"31\", \"32\", \"33\", \"35\", \"38\", \"39\"], \"mode\": \"lines\", \"name\": \"balanced_accuracy_max\", \"stepped\": true, \"type\": \"scatter\", \"data\": [0.77692834505401, 0.782398650768284, 0.782398650768284, 0.782398650768284, 0.825598360173292, 0.825598360173292, 0.825598360173292, 0.825598360173292, 0.825598360173292, 0.825598360173292, 0.825598360173292, 0.825598360173292, 0.825598360173292, 0.825598360173292, 0.825598360173292, 0.8320734244391149, 0.8320734244391149, 0.8320734244391149, 0.8320734244391149, 0.8320734244391149, 0.8320734244391149, 0.8320734244391149, 0.8320734244391149, 0.8320734244391149, 0.8320734244391149, 0.8320734244391149, 0.8320734244391149, 0.8320734244391149, 0.8320734244391149, 0.8320734244391149, 0.8320734244391149, 0.8320734244391149, 0.8320734244391149, 0.8320734244391149, 0.8320734244391149, 0.8320734244391149, 0.8320734244391149]}], \"recall_score_weighted\": [{\"categories\": [\"0\", \"1\", \"2\", \"3\", \"4\", \"5\", \"6\", \"7\", \"8\", \"9\", \"10\", \"11\", \"12\", \"13\", \"14\", \"15\", \"16\", \"17\", \"18\", \"19\", \"20\", \"21\", \"22\", \"23\", \"24\", \"25\", \"26\", \"27\", \"28\", \"29\", \"30\", \"31\", \"32\", \"33\", \"35\", \"38\", \"39\"], \"mode\": \"markers\", \"name\": \"recall_score_weighted\", \"stepped\": false, \"type\": \"scatter\", \"data\": [0.9001622060016222, 0.9051905920519059, 0.8467153284671532, 0.8452554744525548, 0.8224655312246553, 0.7559610705596107, 0.9047039740470396, 0.8942416869424168, 0.9022708840227089, 0.8980535279805353, 0.9029197080291972, 0.9016220600162206, 0.9019464720194647, 0.8800486618004867, 0.8991078669910787, 0.8789132197891322, 0.8777777777777778, 0.8452554744525548, 0.8849148418491484, 0.8618004866180048, 0.8738037307380373, 0.9019464720194647, 0.9042984590429844, 0.9019464720194647, 0.8452554744525548, 0.8452554744525548, 0.8841038118410381, 0.8994322789943228, 0.9038118410381184, 0.9, 0.8950527169505271, 0.902676399026764, 0.9008110300081104, 0.9021086780210869, 0.9037307380373073, 0.9075425790754258, 0.9054339010543391]}, {\"categories\": [\"0\", \"1\", \"2\", \"3\", \"4\", \"5\", \"6\", \"7\", \"8\", \"9\", \"10\", \"11\", \"12\", \"13\", \"14\", \"15\", \"16\", \"17\", \"18\", \"19\", \"20\", \"21\", \"22\", \"23\", \"24\", \"25\", \"26\", \"27\", \"28\", \"29\", \"30\", \"31\", \"32\", \"33\", \"35\", \"38\", \"39\"], \"mode\": \"lines\", \"name\": \"recall_score_weighted_max\", \"stepped\": true, \"type\": \"scatter\", \"data\": [0.9001622060016222, 0.9051905920519059, 0.9051905920519059, 0.9051905920519059, 0.9051905920519059, 0.9051905920519059, 0.9051905920519059, 0.9051905920519059, 0.9051905920519059, 0.9051905920519059, 0.9051905920519059, 0.9051905920519059, 0.9051905920519059, 0.9051905920519059, 0.9051905920519059, 0.9051905920519059, 0.9051905920519059, 0.9051905920519059, 0.9051905920519059, 0.9051905920519059, 0.9051905920519059, 0.9051905920519059, 0.9051905920519059, 0.9051905920519059, 0.9051905920519059, 0.9051905920519059, 0.9051905920519059, 0.9051905920519059, 0.9051905920519059, 0.9051905920519059, 0.9051905920519059, 0.9051905920519059, 0.9051905920519059, 0.9051905920519059, 0.9051905920519059, 0.9075425790754258, 0.9075425790754258]}], \"AUC_weighted\": [{\"categories\": [\"0\", \"1\", \"2\", \"3\", \"4\", \"5\", \"6\", \"7\", \"8\", \"9\", \"10\", \"11\", \"12\", \"13\", \"14\", \"15\", \"16\", \"17\", \"18\", \"19\", \"20\", \"21\", \"22\", \"23\", \"24\", \"25\", \"26\", \"27\", \"28\", \"29\", \"30\", \"31\", \"32\", \"33\", \"35\", \"38\", \"39\"], \"mode\": \"markers\", \"name\": \"AUC_weighted\", \"stepped\": false, \"type\": \"scatter\", \"data\": [0.9302080032593238, 0.9335745716329092, 0.9003978426216467, 0.8759106723576228, 0.8924631441325408, 0.8633979207283226, 0.9305766884149445, 0.9175889452060911, 0.9319552555007157, 0.9273703065696335, 0.9325925799372765, 0.9315397501196868, 0.9324918593298855, 0.8844719870637617, 0.927516381355406, 0.9096415157012445, 0.9207894246095177, 0.8680034188609137, 0.9118618569116151, 0.9280872935877905, 0.908432262479736, 0.9223181293574263, 0.9278455757240226, 0.9208666389916083, 0.8941742661521999, 0.5, 0.8911114374003422, 0.9231735791619955, 0.9294334919587, 0.9284633786168163, 0.9184933138494346, 0.9279106149615789, 0.9334111038127387, 0.9317829171212932, 0.9309629842932964, 0.9342295236057905, 0.9347309490971968]}, {\"categories\": [\"0\", \"1\", \"2\", \"3\", \"4\", \"5\", \"6\", \"7\", \"8\", \"9\", \"10\", \"11\", \"12\", \"13\", \"14\", \"15\", \"16\", \"17\", \"18\", \"19\", \"20\", \"21\", \"22\", \"23\", \"24\", \"25\", \"26\", \"27\", \"28\", \"29\", \"30\", \"31\", \"32\", \"33\", \"35\", \"38\", \"39\"], \"mode\": \"lines\", \"name\": \"AUC_weighted_max\", \"stepped\": true, \"type\": \"scatter\", \"data\": [0.9302080032593238, 0.9335745716329092, 0.9335745716329092, 0.9335745716329092, 0.9335745716329092, 0.9335745716329092, 0.9335745716329092, 0.9335745716329092, 0.9335745716329092, 0.9335745716329092, 0.9335745716329092, 0.9335745716329092, 0.9335745716329092, 0.9335745716329092, 0.9335745716329092, 0.9335745716329092, 0.9335745716329092, 0.9335745716329092, 0.9335745716329092, 0.9335745716329092, 0.9335745716329092, 0.9335745716329092, 0.9335745716329092, 0.9335745716329092, 0.9335745716329092, 0.9335745716329092, 0.9335745716329092, 0.9335745716329092, 0.9335745716329092, 0.9335745716329092, 0.9335745716329092, 0.9335745716329092, 0.9335745716329092, 0.9335745716329092, 0.9335745716329092, 0.9342295236057905, 0.9347309490971968]}], \"average_precision_score_weighted\": [{\"categories\": [\"0\", \"1\", \"2\", \"3\", \"4\", \"5\", \"6\", \"7\", \"8\", \"9\", \"10\", \"11\", \"12\", \"13\", \"14\", \"15\", \"16\", \"17\", \"18\", \"19\", \"20\", \"21\", \"22\", \"23\", \"24\", \"25\", \"26\", \"27\", \"28\", \"29\", \"30\", \"31\", \"32\", \"33\", \"35\", \"38\", \"39\"], \"mode\": \"markers\", \"name\": \"average_precision_score_weighted\", \"stepped\": false, \"type\": \"scatter\", \"data\": [0.9474804923046368, 0.9497749635045584, 0.9208004037085439, 0.9080001362497726, 0.9182812239297192, 0.9026510705635712, 0.9488058404813318, 0.9387267613499736, 0.9485605933217115, 0.9461605848980033, 0.9488736457980377, 0.9484142557453504, 0.9495517457013074, 0.9203104926416502, 0.9462335048233959, 0.9146601229125543, 0.9407221267234053, 0.9071981450983385, 0.9330536458462187, 0.9471543473117525, 0.9312570721543544, 0.9431556096831555, 0.945329607584537, 0.9421024071693337, 0.9178972901487606, 0.7384693041915057, 0.9232891315258499, 0.9441445861810361, 0.9476564462399861, 0.9462019065620867, 0.9421413842471514, 0.9462057111730587, 0.9495845018050574, 0.9490976581526919, 0.9482328914210703, 0.9505380634554972, 0.9509928900277004]}, {\"categories\": [\"0\", \"1\", \"2\", \"3\", \"4\", \"5\", \"6\", \"7\", \"8\", \"9\", \"10\", \"11\", \"12\", \"13\", \"14\", \"15\", \"16\", \"17\", \"18\", \"19\", \"20\", \"21\", \"22\", \"23\", \"24\", \"25\", \"26\", \"27\", \"28\", \"29\", \"30\", \"31\", \"32\", \"33\", \"35\", \"38\", \"39\"], \"mode\": \"lines\", \"name\": \"average_precision_score_weighted_max\", \"stepped\": true, \"type\": \"scatter\", \"data\": [0.9474804923046368, 0.9497749635045584, 0.9497749635045584, 0.9497749635045584, 0.9497749635045584, 0.9497749635045584, 0.9497749635045584, 0.9497749635045584, 0.9497749635045584, 0.9497749635045584, 0.9497749635045584, 0.9497749635045584, 0.9497749635045584, 0.9497749635045584, 0.9497749635045584, 0.9497749635045584, 0.9497749635045584, 0.9497749635045584, 0.9497749635045584, 0.9497749635045584, 0.9497749635045584, 0.9497749635045584, 0.9497749635045584, 0.9497749635045584, 0.9497749635045584, 0.9497749635045584, 0.9497749635045584, 0.9497749635045584, 0.9497749635045584, 0.9497749635045584, 0.9497749635045584, 0.9497749635045584, 0.9497749635045584, 0.9497749635045584, 0.9497749635045584, 0.9505380634554972, 0.9509928900277004]}], \"precision_score_weighted\": [{\"categories\": [\"0\", \"1\", \"2\", \"3\", \"4\", \"5\", \"6\", \"7\", \"8\", \"9\", \"10\", \"11\", \"12\", \"13\", \"14\", \"15\", \"16\", \"17\", \"18\", \"19\", \"20\", \"21\", \"22\", \"23\", \"24\", \"25\", \"26\", \"27\", \"28\", \"29\", \"30\", \"31\", \"32\", \"33\", \"35\", \"38\", \"39\"], \"mode\": \"markers\", \"name\": \"precision_score_weighted\", \"stepped\": false, \"type\": \"scatter\", \"data\": [0.8947856717432913, 0.8997486911160756, 0.8481811006935667, 0.7144901265483075, 0.8854109557087363, 0.8690159764283846, 0.8987702474883278, 0.885458971173957, 0.8961848627930257, 0.8915132703742481, 0.8972325529708166, 0.8956903183567791, 0.8967387022962693, 0.8688423047565833, 0.8935723815340135, 0.8968739421939155, 0.8738563349040316, 0.7144901265483075, 0.8744369973097527, 0.8755155720103599, 0.8647329598504377, 0.8978440728418396, 0.8993004343605269, 0.8976603768831696, 0.7144901265483075, 0.7144901265483075, 0.8727217692252448, 0.8926076506844294, 0.8984225710257924, 0.89429388547487, 0.8876100678013943, 0.8973989495722824, 0.8951432150930002, 0.8963624045128057, 0.8986929344919585, 0.9029081894524272, 0.8999357012136692]}, {\"categories\": [\"0\", \"1\", \"2\", \"3\", \"4\", \"5\", \"6\", \"7\", \"8\", \"9\", \"10\", \"11\", \"12\", \"13\", \"14\", \"15\", \"16\", \"17\", \"18\", \"19\", \"20\", \"21\", \"22\", \"23\", \"24\", \"25\", \"26\", \"27\", \"28\", \"29\", \"30\", \"31\", \"32\", \"33\", \"35\", \"38\", \"39\"], \"mode\": \"lines\", \"name\": \"precision_score_weighted_max\", \"stepped\": true, \"type\": \"scatter\", \"data\": [0.8947856717432913, 0.8997486911160756, 0.8997486911160756, 0.8997486911160756, 0.8997486911160756, 0.8997486911160756, 0.8997486911160756, 0.8997486911160756, 0.8997486911160756, 0.8997486911160756, 0.8997486911160756, 0.8997486911160756, 0.8997486911160756, 0.8997486911160756, 0.8997486911160756, 0.8997486911160756, 0.8997486911160756, 0.8997486911160756, 0.8997486911160756, 0.8997486911160756, 0.8997486911160756, 0.8997486911160756, 0.8997486911160756, 0.8997486911160756, 0.8997486911160756, 0.8997486911160756, 0.8997486911160756, 0.8997486911160756, 0.8997486911160756, 0.8997486911160756, 0.8997486911160756, 0.8997486911160756, 0.8997486911160756, 0.8997486911160756, 0.8997486911160756, 0.9029081894524272, 0.9029081894524272]}]}, \"metricName\": null, \"primaryMetricName\": \"accuracy\", \"showLegend\": false}, \"run_metrics\": [{\"name\": \"experiment_status\", \"run_id\": \"AutoML_5d0cd4bd-cc27-4d78-9cb2-8db165609640\", \"categories\": [0, 1, 2, 3, 4, 5, 6, 7, 8, 9, 10, 11, 12, 13, 14], \"series\": [{\"data\": [\"DatasetEvaluation\", \"FeaturesGeneration\", \"DatasetFeaturization\", \"DatasetFeaturizationCompleted\", \"DatasetBalancing\", \"DatasetCrossValidationSplit\", \"ModelSelection\", \"BestRunExplainModel\", \"ModelExplanationDataSetSetup\", \"PickSurrogateModel\", \"EngineeredFeatureExplanations\", \"EngineeredFeatureExplanations\", \"RawFeaturesExplanations\", \"RawFeaturesExplanations\", \"BestRunExplainModel\"]}]}, {\"name\": \"experiment_status_description\", \"run_id\": \"AutoML_5d0cd4bd-cc27-4d78-9cb2-8db165609640\", \"categories\": [0, 1, 2, 3, 4, 5, 6, 7, 8, 9, 10, 11, 12, 13, 14], \"series\": [{\"data\": [\"Gathering dataset statistics.\", \"Generating features for the dataset.\", \"Beginning to fit featurizers and featurize the dataset.\", \"Completed fit featurizers and featurizing the dataset.\", \"Performing class balancing sweeping\", \"Generating individually featurized CV splits.\", \"Beginning model selection.\", \"Best run model explanations started\", \"Model explanations data setup completed\", \"Choosing LightGBM as the surrogate model for explanations\", \"Computation of engineered features started\", \"Computation of engineered features completed\", \"Computation of raw features started\", \"Computation of raw features completed\", \"Best run model explanations completed\"]}]}, {\"name\": \"recall_score_macro\", \"run_id\": \"AutoML_5d0cd4bd-cc27-4d78-9cb2-8db165609640\", \"categories\": [0], \"series\": [{\"data\": [0.7927363508376205]}]}, {\"name\": \"precision_score_weighted\", \"run_id\": \"AutoML_5d0cd4bd-cc27-4d78-9cb2-8db165609640\", \"categories\": [0], \"series\": [{\"data\": [0.9029081894524272]}]}, {\"name\": \"accuracy\", \"run_id\": \"AutoML_5d0cd4bd-cc27-4d78-9cb2-8db165609640\", \"categories\": [0], \"series\": [{\"data\": [0.9075425790754258]}]}, {\"name\": \"precision_score_micro\", \"run_id\": \"AutoML_5d0cd4bd-cc27-4d78-9cb2-8db165609640\", \"categories\": [0], \"series\": [{\"data\": [0.9075425790754258]}]}, {\"name\": \"average_precision_score_weighted\", \"run_id\": \"AutoML_5d0cd4bd-cc27-4d78-9cb2-8db165609640\", \"categories\": [0], \"series\": [{\"data\": [0.9505380634554972]}]}, {\"name\": \"average_precision_score_micro\", \"run_id\": \"AutoML_5d0cd4bd-cc27-4d78-9cb2-8db165609640\", \"categories\": [0], \"series\": [{\"data\": [0.9705938145008286]}]}, {\"name\": \"average_precision_score_macro\", \"run_id\": \"AutoML_5d0cd4bd-cc27-4d78-9cb2-8db165609640\", \"categories\": [0], \"series\": [{\"data\": [0.8699337151188599]}]}, {\"name\": \"recall_score_weighted\", \"run_id\": \"AutoML_5d0cd4bd-cc27-4d78-9cb2-8db165609640\", \"categories\": [0], \"series\": [{\"data\": [0.9075425790754258]}]}, {\"name\": \"f1_score_weighted\", \"run_id\": \"AutoML_5d0cd4bd-cc27-4d78-9cb2-8db165609640\", \"categories\": [0], \"series\": [{\"data\": [0.9043522792793751]}]}, {\"name\": \"weighted_accuracy\", \"run_id\": \"AutoML_5d0cd4bd-cc27-4d78-9cb2-8db165609640\", \"categories\": [0], \"series\": [{\"data\": [0.9483103333666548]}]}, {\"name\": \"matthews_correlation\", \"run_id\": \"AutoML_5d0cd4bd-cc27-4d78-9cb2-8db165609640\", \"categories\": [0], \"series\": [{\"data\": [0.6267021629847426]}]}, {\"name\": \"norm_macro_recall\", \"run_id\": \"AutoML_5d0cd4bd-cc27-4d78-9cb2-8db165609640\", \"categories\": [0], \"series\": [{\"data\": [0.5854727016752412]}]}, {\"name\": \"AUC_weighted\", \"run_id\": \"AutoML_5d0cd4bd-cc27-4d78-9cb2-8db165609640\", \"categories\": [0], \"series\": [{\"data\": [0.9342295236057905]}]}, {\"name\": \"log_loss\", \"run_id\": \"AutoML_5d0cd4bd-cc27-4d78-9cb2-8db165609640\", \"categories\": [0], \"series\": [{\"data\": [0.23531952089851857]}]}, {\"name\": \"precision_score_macro\", \"run_id\": \"AutoML_5d0cd4bd-cc27-4d78-9cb2-8db165609640\", \"categories\": [0], \"series\": [{\"data\": [0.8354382051466436]}]}, {\"name\": \"AUC_micro\", \"run_id\": \"AutoML_5d0cd4bd-cc27-4d78-9cb2-8db165609640\", \"categories\": [0], \"series\": [{\"data\": [0.96964569236507]}]}, {\"name\": \"AUC_macro\", \"run_id\": \"AutoML_5d0cd4bd-cc27-4d78-9cb2-8db165609640\", \"categories\": [0], \"series\": [{\"data\": [0.9342295236057905]}]}, {\"name\": \"recall_score_micro\", \"run_id\": \"AutoML_5d0cd4bd-cc27-4d78-9cb2-8db165609640\", \"categories\": [0], \"series\": [{\"data\": [0.9075425790754258]}]}, {\"name\": \"balanced_accuracy\", \"run_id\": \"AutoML_5d0cd4bd-cc27-4d78-9cb2-8db165609640\", \"categories\": [0], \"series\": [{\"data\": [0.7927363508376205]}]}, {\"name\": \"f1_score_micro\", \"run_id\": \"AutoML_5d0cd4bd-cc27-4d78-9cb2-8db165609640\", \"categories\": [0], \"series\": [{\"data\": [0.9075425790754258]}]}, {\"name\": \"f1_score_macro\", \"run_id\": \"AutoML_5d0cd4bd-cc27-4d78-9cb2-8db165609640\", \"categories\": [0], \"series\": [{\"data\": [0.8116894768790536]}]}], \"run_logs\": \"\\nRun is completed.\", \"graph\": {}, \"widget_settings\": {\"childWidgetDisplay\": \"popup\", \"send_telemetry\": false, \"log_level\": \"INFO\", \"sdk_version\": \"1.20.0\"}, \"loading\": false}"
     },
     "metadata": {},
     "output_type": "display_data"
    },
    {
     "name": "stdout",
     "output_type": "stream",
     "text": [
      "\n",
      "\n",
      "****************************************************************************************************\n",
      "DATA GUARDRAILS: \n",
      "\n",
      "TYPE:         Cross validation\n",
      "STATUS:       DONE\n",
      "DESCRIPTION:  Each iteration of the trained model was validated through cross-validation.\n",
      "              \n",
      "DETAILS:      \n",
      "+---------------------------------+\n",
      "|Number of folds                  |\n",
      "+=================================+\n",
      "|3                                |\n",
      "+---------------------------------+\n",
      "\n",
      "****************************************************************************************************\n",
      "\n",
      "TYPE:         Class balancing detection\n",
      "STATUS:       ALERTED\n",
      "DESCRIPTION:  To decrease model bias, please cancel the current run and fix balancing problem.\n",
      "              Learn more about imbalanced data: https://aka.ms/AutomatedMLImbalancedData\n",
      "DETAILS:      Imbalanced data can lead to a falsely perceived positive effect of a model's accuracy because the input data has bias towards one class.\n",
      "+---------------------------------+---------------------------------+--------------------------------------+\n",
      "|Size of the smallest class       |Name/Label of the smallest class |Number of samples in the training data|\n",
      "+=================================+=================================+======================================+\n",
      "|1908                             |True                             |12330                                 |\n",
      "+---------------------------------+---------------------------------+--------------------------------------+\n",
      "\n",
      "****************************************************************************************************\n",
      "\n",
      "TYPE:         Missing feature values imputation\n",
      "STATUS:       DONE\n",
      "DESCRIPTION:  If the missing values are expected, let the run complete. Otherwise cancel the current run and use a script to customize the handling of missing feature values that may be more appropriate based on the data type and business requirement.\n",
      "              Learn more about missing value imputation: https://aka.ms/AutomatedMLFeaturization\n",
      "DETAILS:      \n",
      "+---------------------------------+---------------------------------+---------------------------------+\n",
      "|Column name                      |Missing value count              |Imputation type                  |\n",
      "+=================================+=================================+=================================+\n",
      "|Administrative                   |14                               |mean                             |\n",
      "|Administrative_Duration          |14                               |mean                             |\n",
      "|Informational                    |14                               |mean                             |\n",
      "|Informational_Duration           |14                               |mean                             |\n",
      "|ProductRelated                   |14                               |mean                             |\n",
      "|ProductRelated_Duration          |14                               |mean                             |\n",
      "|BounceRates                      |14                               |mean                             |\n",
      "|ExitRates                        |14                               |mean                             |\n",
      "+---------------------------------+---------------------------------+---------------------------------+\n",
      "\n",
      "****************************************************************************************************\n",
      "\n",
      "TYPE:         High cardinality feature detection\n",
      "STATUS:       PASSED\n",
      "DESCRIPTION:  Your inputs were analyzed, and no high cardinality features were detected.\n",
      "              Learn more about high cardinality feature handling: https://aka.ms/AutomatedMLFeaturization\n",
      "\n",
      "****************************************************************************************************\n",
      "\n",
      "****************************************************************************************************\n",
      "ITERATION: The iteration being evaluated.\n",
      "PIPELINE: A summary description of the pipeline being evaluated.\n",
      "DURATION: Time taken for the current iteration.\n",
      "METRIC: The result of computing score on the fitted pipeline.\n",
      "BEST: The best observed score thus far.\n",
      "****************************************************************************************************\n",
      "\n",
      " ITERATION   PIPELINE                                       DURATION      METRIC      BEST\n",
      "         0   MaxAbsScaler LightGBM                          0:01:01       0.9002    0.9002\n",
      "         1   MaxAbsScaler XGBoostClassifier                 0:00:48       0.9052    0.9052\n",
      "         2   MaxAbsScaler RandomForest                      0:03:37       0.8467    0.9052\n",
      "         3   MaxAbsScaler RandomForest                      0:03:27       0.8453    0.9052\n",
      "         4   MaxAbsScaler RandomForest                      0:00:48       0.8225    0.9052\n",
      "         5   MaxAbsScaler RandomForest                      0:03:33       0.7560    0.9052\n",
      "         6   StandardScalerWrapper XGBoostClassifier        0:00:50       0.9047    0.9052\n",
      "         7   StandardScalerWrapper LightGBM                 0:00:57       0.8942    0.9052\n",
      "         8   SparseNormalizer XGBoostClassifier             0:00:58       0.9023    0.9052\n",
      "         9   SparseNormalizer XGBoostClassifier             0:00:52       0.8981    0.9052\n",
      "        10   SparseNormalizer XGBoostClassifier             0:00:49       0.9029    0.9052\n",
      "        11   SparseNormalizer XGBoostClassifier             0:00:54       0.9016    0.9052\n",
      "        12   StandardScalerWrapper XGBoostClassifier        0:00:54       0.9019    0.9052\n",
      "        13   MaxAbsScaler LogisticRegression                0:00:48       0.8800    0.9052\n",
      "        14   SparseNormalizer XGBoostClassifier             0:01:01       0.8991    0.9052\n",
      "        15   MaxAbsScaler RandomForest                      0:00:46       0.8789    0.9052\n",
      "        16   StandardScalerWrapper RandomForest             0:00:55       0.8778    0.9052\n",
      "        17   MaxAbsScaler ExtremeRandomTrees                0:00:53       0.8453    0.9052\n",
      "        18   SparseNormalizer GradientBoosting              0:00:51       0.8849    0.9052\n",
      "        19   MaxAbsScaler LightGBM                          0:01:02       0.8618    0.9052\n",
      "        20   MaxAbsScaler LightGBM                          0:00:57       0.8738    0.9052\n",
      "        21   StandardScalerWrapper LightGBM                 0:01:03       0.9019    0.9052\n",
      "        22   MaxAbsScaler LightGBM                          0:00:47       0.9043    0.9052\n",
      "        23   StandardScalerWrapper LightGBM                 0:00:48       0.9019    0.9052\n",
      "        24   MaxAbsScaler RandomForest                      0:00:46       0.8453    0.9052\n",
      "        25   SparseNormalizer XGBoostClassifier             0:00:49       0.8453    0.9052\n",
      "        26   MaxAbsScaler LogisticRegression                0:00:52       0.8841    0.9052\n",
      "        27   SparseNormalizer XGBoostClassifier             0:00:55       0.8994    0.9052\n",
      "        28   SparseNormalizer XGBoostClassifier             0:01:00       0.9038    0.9052\n",
      "        29   SparseNormalizer XGBoostClassifier             0:01:05       0.9000    0.9052\n",
      "        30   SparseNormalizer XGBoostClassifier             0:00:56       0.8951    0.9052\n",
      "        31   SparseNormalizer XGBoostClassifier             0:00:51       0.9027    0.9052\n",
      "        32   SparseNormalizer XGBoostClassifier             0:01:07       0.9008    0.9052\n",
      "        33   StandardScalerWrapper XGBoostClassifier        0:00:50       0.9021    0.9052\n",
      "        34   MaxAbsScaler RandomForest                      0:00:50          nan    0.9052\n",
      "        35   StandardScalerWrapper XGBoostClassifier        0:00:39       0.9037    0.9052\n",
      "        36                                                  0:00:11          nan    0.9052\n",
      "        37                                                  0:00:17          nan    0.9052\n",
      "        38    VotingEnsemble                                0:01:26       0.9075    0.9075\n",
      "        39    StackEnsemble                                 0:01:39       0.9054    0.9075\n"
     ]
    },
    {
     "data": {
      "text/plain": [
       "{'runId': 'AutoML_5d0cd4bd-cc27-4d78-9cb2-8db165609640',\n",
       " 'target': 'project3',\n",
       " 'status': 'Completed',\n",
       " 'startTimeUtc': '2021-01-20T08:42:42.332747Z',\n",
       " 'endTimeUtc': '2021-01-20T09:08:14.961937Z',\n",
       " 'properties': {'num_iterations': '1000',\n",
       "  'training_type': 'TrainFull',\n",
       "  'acquisition_function': 'EI',\n",
       "  'primary_metric': 'accuracy',\n",
       "  'train_split': '0',\n",
       "  'acquisition_parameter': '0',\n",
       "  'num_cross_validation': None,\n",
       "  'target': 'project3',\n",
       "  'AMLSettingsJsonString': '{\"path\":null,\"name\":\"automl-experiment\",\"subscription_id\":\"61c5c3f0-6dc7-4ed9-a7f3-c704b20e3b30\",\"resource_group\":\"aml-quickstarts-135455\",\"workspace_name\":\"quick-starts-ws-135455\",\"region\":\"southcentralus\",\"compute_target\":\"project3\",\"spark_service\":null,\"azure_service\":\"remote\",\"many_models\":false,\"pipeline_fetch_max_batch_size\":1,\"iterations\":1000,\"primary_metric\":\"accuracy\",\"task_type\":\"classification\",\"data_script\":null,\"validation_size\":0.0,\"n_cross_validations\":null,\"y_min\":null,\"y_max\":null,\"num_classes\":null,\"featurization\":\"auto\",\"_ignore_package_version_incompatibilities\":false,\"is_timeseries\":false,\"max_cores_per_iteration\":1,\"max_concurrent_iterations\":5,\"iteration_timeout_minutes\":null,\"mem_in_mb\":null,\"enforce_time_on_windows\":false,\"experiment_timeout_minutes\":20,\"experiment_exit_score\":null,\"whitelist_models\":null,\"blacklist_algos\":[\"TensorFlowLinearClassifier\",\"TensorFlowDNN\"],\"supported_models\":[\"ExtremeRandomTrees\",\"KNN\",\"MultinomialNaiveBayes\",\"AveragedPerceptronClassifier\",\"TensorFlowDNN\",\"SGD\",\"GradientBoosting\",\"LogisticRegression\",\"SVM\",\"LightGBM\",\"XGBoostClassifier\",\"BernoulliNaiveBayes\",\"DecisionTree\",\"RandomForest\",\"TensorFlowLinearClassifier\",\"LinearSVM\"],\"auto_blacklist\":true,\"blacklist_samples_reached\":false,\"exclude_nan_labels\":true,\"verbosity\":20,\"_debug_log\":\"azureml_automl.log\",\"show_warnings\":false,\"model_explainability\":true,\"service_url\":null,\"sdk_url\":null,\"sdk_packages\":null,\"enable_onnx_compatible_models\":false,\"enable_split_onnx_featurizer_estimator_models\":false,\"vm_type\":\"STANDARD_D2_V2\",\"telemetry_verbosity\":20,\"send_telemetry\":true,\"enable_dnn\":false,\"scenario\":\"SDK-1.13.0\",\"environment_label\":null,\"force_text_dnn\":false,\"enable_feature_sweeping\":true,\"enable_early_stopping\":true,\"early_stopping_n_iters\":10,\"metrics\":null,\"enable_ensembling\":true,\"enable_stack_ensembling\":true,\"ensemble_iterations\":15,\"enable_tf\":false,\"enable_subsampling\":null,\"subsample_seed\":null,\"enable_nimbusml\":false,\"enable_streaming\":false,\"force_streaming\":false,\"track_child_runs\":true,\"allowed_private_models\":[],\"label_column_name\":\"Revenue\",\"weight_column_name\":null,\"cv_split_column_names\":null,\"enable_local_managed\":false,\"_local_managed_run_id\":null,\"cost_mode\":1,\"lag_length\":0,\"metric_operation\":\"maximize\",\"preprocess\":true}',\n",
       "  'DataPrepJsonString': '{\\\\\"training_data\\\\\": \\\\\"{\\\\\\\\\\\\\"blocks\\\\\\\\\\\\\": [{\\\\\\\\\\\\\"id\\\\\\\\\\\\\": \\\\\\\\\\\\\"348863c7-0073-4109-a93e-519af67030c5\\\\\\\\\\\\\", \\\\\\\\\\\\\"type\\\\\\\\\\\\\": \\\\\\\\\\\\\"Microsoft.DPrep.GetFilesBlock\\\\\\\\\\\\\", \\\\\\\\\\\\\"arguments\\\\\\\\\\\\\": {\\\\\\\\\\\\\"isArchive\\\\\\\\\\\\\": false, \\\\\\\\\\\\\"path\\\\\\\\\\\\\": {\\\\\\\\\\\\\"target\\\\\\\\\\\\\": 4, \\\\\\\\\\\\\"resourceDetails\\\\\\\\\\\\\": [{\\\\\\\\\\\\\"path\\\\\\\\\\\\\": \\\\\\\\\\\\\"https://raw.githubusercontent.com/Bhosalenileshn/ML-Azure-Udacity-Capstone-Project/main/online_shoppers_intention.csv\\\\\\\\\\\\\"}]}}, \\\\\\\\\\\\\"localData\\\\\\\\\\\\\": {}, \\\\\\\\\\\\\"isEnabled\\\\\\\\\\\\\": true, \\\\\\\\\\\\\"name\\\\\\\\\\\\\": null, \\\\\\\\\\\\\"annotation\\\\\\\\\\\\\": null}, {\\\\\\\\\\\\\"id\\\\\\\\\\\\\": \\\\\\\\\\\\\"65b1644c-ae28-4e58-b1ce-6b5b912797b7\\\\\\\\\\\\\", \\\\\\\\\\\\\"type\\\\\\\\\\\\\": \\\\\\\\\\\\\"Microsoft.DPrep.ParseDelimitedBlock\\\\\\\\\\\\\", \\\\\\\\\\\\\"arguments\\\\\\\\\\\\\": {\\\\\\\\\\\\\"columnHeadersMode\\\\\\\\\\\\\": 3, \\\\\\\\\\\\\"fileEncoding\\\\\\\\\\\\\": 0, \\\\\\\\\\\\\"handleQuotedLineBreaks\\\\\\\\\\\\\": false, \\\\\\\\\\\\\"preview\\\\\\\\\\\\\": false, \\\\\\\\\\\\\"separator\\\\\\\\\\\\\": \\\\\\\\\\\\\",\\\\\\\\\\\\\", \\\\\\\\\\\\\"skipRows\\\\\\\\\\\\\": 0, \\\\\\\\\\\\\"skipRowsMode\\\\\\\\\\\\\": 0}, \\\\\\\\\\\\\"localData\\\\\\\\\\\\\": {}, \\\\\\\\\\\\\"isEnabled\\\\\\\\\\\\\": true, \\\\\\\\\\\\\"name\\\\\\\\\\\\\": null, \\\\\\\\\\\\\"annotation\\\\\\\\\\\\\": null}, {\\\\\\\\\\\\\"id\\\\\\\\\\\\\": \\\\\\\\\\\\\"4424ee56-7c8c-4779-a98d-dffc5a5a71b6\\\\\\\\\\\\\", \\\\\\\\\\\\\"type\\\\\\\\\\\\\": \\\\\\\\\\\\\"Microsoft.DPrep.DropColumnsBlock\\\\\\\\\\\\\", \\\\\\\\\\\\\"arguments\\\\\\\\\\\\\": {\\\\\\\\\\\\\"columns\\\\\\\\\\\\\": {\\\\\\\\\\\\\"type\\\\\\\\\\\\\": 0, \\\\\\\\\\\\\"details\\\\\\\\\\\\\": {\\\\\\\\\\\\\"selectedColumns\\\\\\\\\\\\\": [\\\\\\\\\\\\\"Path\\\\\\\\\\\\\"]}}}, \\\\\\\\\\\\\"localData\\\\\\\\\\\\\": {}, \\\\\\\\\\\\\"isEnabled\\\\\\\\\\\\\": true, \\\\\\\\\\\\\"name\\\\\\\\\\\\\": null, \\\\\\\\\\\\\"annotation\\\\\\\\\\\\\": null}, {\\\\\\\\\\\\\"id\\\\\\\\\\\\\": \\\\\\\\\\\\\"aee3a0da-78b0-4ab9-9f24-93eb5fb5ba23\\\\\\\\\\\\\", \\\\\\\\\\\\\"type\\\\\\\\\\\\\": \\\\\\\\\\\\\"Microsoft.DPrep.SetColumnTypesBlock\\\\\\\\\\\\\", \\\\\\\\\\\\\"arguments\\\\\\\\\\\\\": {\\\\\\\\\\\\\"columnConversion\\\\\\\\\\\\\": [{\\\\\\\\\\\\\"column\\\\\\\\\\\\\": {\\\\\\\\\\\\\"type\\\\\\\\\\\\\": 2, \\\\\\\\\\\\\"details\\\\\\\\\\\\\": {\\\\\\\\\\\\\"selectedColumn\\\\\\\\\\\\\": \\\\\\\\\\\\\"Administrative\\\\\\\\\\\\\"}}, \\\\\\\\\\\\\"typeProperty\\\\\\\\\\\\\": 2}, {\\\\\\\\\\\\\"column\\\\\\\\\\\\\": {\\\\\\\\\\\\\"type\\\\\\\\\\\\\": 2, \\\\\\\\\\\\\"details\\\\\\\\\\\\\": {\\\\\\\\\\\\\"selectedColumn\\\\\\\\\\\\\": \\\\\\\\\\\\\"Administrative_Duration\\\\\\\\\\\\\"}}, \\\\\\\\\\\\\"typeProperty\\\\\\\\\\\\\": 3}, {\\\\\\\\\\\\\"column\\\\\\\\\\\\\": {\\\\\\\\\\\\\"type\\\\\\\\\\\\\": 2, \\\\\\\\\\\\\"details\\\\\\\\\\\\\": {\\\\\\\\\\\\\"selectedColumn\\\\\\\\\\\\\": \\\\\\\\\\\\\"Informational\\\\\\\\\\\\\"}}, \\\\\\\\\\\\\"typeProperty\\\\\\\\\\\\\": 2}, {\\\\\\\\\\\\\"column\\\\\\\\\\\\\": {\\\\\\\\\\\\\"type\\\\\\\\\\\\\": 2, \\\\\\\\\\\\\"details\\\\\\\\\\\\\": {\\\\\\\\\\\\\"selectedColumn\\\\\\\\\\\\\": \\\\\\\\\\\\\"Informational_Duration\\\\\\\\\\\\\"}}, \\\\\\\\\\\\\"typeProperty\\\\\\\\\\\\\": 3}, {\\\\\\\\\\\\\"column\\\\\\\\\\\\\": {\\\\\\\\\\\\\"type\\\\\\\\\\\\\": 2, \\\\\\\\\\\\\"details\\\\\\\\\\\\\": {\\\\\\\\\\\\\"selectedColumn\\\\\\\\\\\\\": \\\\\\\\\\\\\"ProductRelated\\\\\\\\\\\\\"}}, \\\\\\\\\\\\\"typeProperty\\\\\\\\\\\\\": 2}, {\\\\\\\\\\\\\"column\\\\\\\\\\\\\": {\\\\\\\\\\\\\"type\\\\\\\\\\\\\": 2, \\\\\\\\\\\\\"details\\\\\\\\\\\\\": {\\\\\\\\\\\\\"selectedColumn\\\\\\\\\\\\\": \\\\\\\\\\\\\"ProductRelated_Duration\\\\\\\\\\\\\"}}, \\\\\\\\\\\\\"typeProperty\\\\\\\\\\\\\": 3}, {\\\\\\\\\\\\\"column\\\\\\\\\\\\\": {\\\\\\\\\\\\\"type\\\\\\\\\\\\\": 2, \\\\\\\\\\\\\"details\\\\\\\\\\\\\": {\\\\\\\\\\\\\"selectedColumn\\\\\\\\\\\\\": \\\\\\\\\\\\\"BounceRates\\\\\\\\\\\\\"}}, \\\\\\\\\\\\\"typeProperty\\\\\\\\\\\\\": 3}, {\\\\\\\\\\\\\"column\\\\\\\\\\\\\": {\\\\\\\\\\\\\"type\\\\\\\\\\\\\": 2, \\\\\\\\\\\\\"details\\\\\\\\\\\\\": {\\\\\\\\\\\\\"selectedColumn\\\\\\\\\\\\\": \\\\\\\\\\\\\"ExitRates\\\\\\\\\\\\\"}}, \\\\\\\\\\\\\"typeProperty\\\\\\\\\\\\\": 3}, {\\\\\\\\\\\\\"column\\\\\\\\\\\\\": {\\\\\\\\\\\\\"type\\\\\\\\\\\\\": 2, \\\\\\\\\\\\\"details\\\\\\\\\\\\\": {\\\\\\\\\\\\\"selectedColumn\\\\\\\\\\\\\": \\\\\\\\\\\\\"PageValues\\\\\\\\\\\\\"}}, \\\\\\\\\\\\\"typeProperty\\\\\\\\\\\\\": 3}, {\\\\\\\\\\\\\"column\\\\\\\\\\\\\": {\\\\\\\\\\\\\"type\\\\\\\\\\\\\": 2, \\\\\\\\\\\\\"details\\\\\\\\\\\\\": {\\\\\\\\\\\\\"selectedColumn\\\\\\\\\\\\\": \\\\\\\\\\\\\"SpecialDay\\\\\\\\\\\\\"}}, \\\\\\\\\\\\\"typeProperty\\\\\\\\\\\\\": 3}, {\\\\\\\\\\\\\"column\\\\\\\\\\\\\": {\\\\\\\\\\\\\"type\\\\\\\\\\\\\": 2, \\\\\\\\\\\\\"details\\\\\\\\\\\\\": {\\\\\\\\\\\\\"selectedColumn\\\\\\\\\\\\\": \\\\\\\\\\\\\"Month\\\\\\\\\\\\\"}}, \\\\\\\\\\\\\"typeProperty\\\\\\\\\\\\\": 0}, {\\\\\\\\\\\\\"column\\\\\\\\\\\\\": {\\\\\\\\\\\\\"type\\\\\\\\\\\\\": 2, \\\\\\\\\\\\\"details\\\\\\\\\\\\\": {\\\\\\\\\\\\\"selectedColumn\\\\\\\\\\\\\": \\\\\\\\\\\\\"OperatingSystems\\\\\\\\\\\\\"}}, \\\\\\\\\\\\\"typeProperty\\\\\\\\\\\\\": 2}, {\\\\\\\\\\\\\"column\\\\\\\\\\\\\": {\\\\\\\\\\\\\"type\\\\\\\\\\\\\": 2, \\\\\\\\\\\\\"details\\\\\\\\\\\\\": {\\\\\\\\\\\\\"selectedColumn\\\\\\\\\\\\\": \\\\\\\\\\\\\"Browser\\\\\\\\\\\\\"}}, \\\\\\\\\\\\\"typeProperty\\\\\\\\\\\\\": 2}, {\\\\\\\\\\\\\"column\\\\\\\\\\\\\": {\\\\\\\\\\\\\"type\\\\\\\\\\\\\": 2, \\\\\\\\\\\\\"details\\\\\\\\\\\\\": {\\\\\\\\\\\\\"selectedColumn\\\\\\\\\\\\\": \\\\\\\\\\\\\"Region\\\\\\\\\\\\\"}}, \\\\\\\\\\\\\"typeProperty\\\\\\\\\\\\\": 2}, {\\\\\\\\\\\\\"column\\\\\\\\\\\\\": {\\\\\\\\\\\\\"type\\\\\\\\\\\\\": 2, \\\\\\\\\\\\\"details\\\\\\\\\\\\\": {\\\\\\\\\\\\\"selectedColumn\\\\\\\\\\\\\": \\\\\\\\\\\\\"TrafficType\\\\\\\\\\\\\"}}, \\\\\\\\\\\\\"typeProperty\\\\\\\\\\\\\": 2}, {\\\\\\\\\\\\\"column\\\\\\\\\\\\\": {\\\\\\\\\\\\\"type\\\\\\\\\\\\\": 2, \\\\\\\\\\\\\"details\\\\\\\\\\\\\": {\\\\\\\\\\\\\"selectedColumn\\\\\\\\\\\\\": \\\\\\\\\\\\\"VisitorType\\\\\\\\\\\\\"}}, \\\\\\\\\\\\\"typeProperty\\\\\\\\\\\\\": 0}, {\\\\\\\\\\\\\"column\\\\\\\\\\\\\": {\\\\\\\\\\\\\"type\\\\\\\\\\\\\": 2, \\\\\\\\\\\\\"details\\\\\\\\\\\\\": {\\\\\\\\\\\\\"selectedColumn\\\\\\\\\\\\\": \\\\\\\\\\\\\"Weekend\\\\\\\\\\\\\"}}, \\\\\\\\\\\\\"typeProperty\\\\\\\\\\\\\": 1}, {\\\\\\\\\\\\\"column\\\\\\\\\\\\\": {\\\\\\\\\\\\\"type\\\\\\\\\\\\\": 2, \\\\\\\\\\\\\"details\\\\\\\\\\\\\": {\\\\\\\\\\\\\"selectedColumn\\\\\\\\\\\\\": \\\\\\\\\\\\\"Revenue\\\\\\\\\\\\\"}}, \\\\\\\\\\\\\"typeProperty\\\\\\\\\\\\\": 1}]}, \\\\\\\\\\\\\"localData\\\\\\\\\\\\\": {}, \\\\\\\\\\\\\"isEnabled\\\\\\\\\\\\\": true, \\\\\\\\\\\\\"name\\\\\\\\\\\\\": null, \\\\\\\\\\\\\"annotation\\\\\\\\\\\\\": null}], \\\\\\\\\\\\\"inspectors\\\\\\\\\\\\\": [], \\\\\\\\\\\\\"meta\\\\\\\\\\\\\": {\\\\\\\\\\\\\"savedDatasetId\\\\\\\\\\\\\": \\\\\\\\\\\\\"d945b4c0-c21b-482d-aef6-838ec499f3d9\\\\\\\\\\\\\", \\\\\\\\\\\\\"datasetType\\\\\\\\\\\\\": \\\\\\\\\\\\\"tabular\\\\\\\\\\\\\", \\\\\\\\\\\\\"subscriptionId\\\\\\\\\\\\\": \\\\\\\\\\\\\"61c5c3f0-6dc7-4ed9-a7f3-c704b20e3b30\\\\\\\\\\\\\", \\\\\\\\\\\\\"workspaceId\\\\\\\\\\\\\": \\\\\\\\\\\\\"f7f685f2-3bfd-440b-8b60-5a01ef3753f3\\\\\\\\\\\\\", \\\\\\\\\\\\\"workspaceLocation\\\\\\\\\\\\\": \\\\\\\\\\\\\"southcentralus\\\\\\\\\\\\\"}}\\\\\", \\\\\"activities\\\\\": 0}',\n",
       "  'EnableSubsampling': None,\n",
       "  'runTemplate': 'AutoML',\n",
       "  'azureml.runsource': 'automl',\n",
       "  'display_task_type': 'classification',\n",
       "  'dependencies_versions': '{\"azureml-widgets\": \"1.19.0\", \"azureml-train\": \"1.20.0\", \"azureml-train-restclients-hyperdrive\": \"1.20.0\", \"azureml-train-core\": \"1.20.0\", \"azureml-train-automl\": \"1.19.0\", \"azureml-train-automl-runtime\": \"1.19.0\", \"azureml-train-automl-client\": \"1.20.0\", \"azureml-tensorboard\": \"1.19.0\", \"azureml-telemetry\": \"1.20.0\", \"azureml-sdk\": \"1.20.0\", \"azureml-samples\": \"0+unknown\", \"azureml-pipeline\": \"1.20.0\", \"azureml-pipeline-steps\": \"1.20.0\", \"azureml-pipeline-core\": \"1.20.0\", \"azureml-opendatasets\": \"1.19.0\", \"azureml-model-management-sdk\": \"1.0.1b6.post1\", \"azureml-mlflow\": \"1.19.0\", \"azureml-interpret\": \"1.19.0\", \"azureml-explain-model\": \"1.19.0\", \"azureml-defaults\": \"1.19.0\", \"azureml-dataset-runtime\": \"1.20.0\", \"azureml-dataprep\": \"2.7.3\", \"azureml-dataprep-rslex\": \"1.5.0\", \"azureml-dataprep-native\": \"27.0.0\", \"azureml-datadrift\": \"1.19.0\", \"azureml-core\": \"1.20.0\", \"azureml-contrib-services\": \"1.19.0\", \"azureml-contrib-server\": \"1.19.0\", \"azureml-contrib-reinforcementlearning\": \"1.19.0\", \"azureml-contrib-pipeline-steps\": \"1.19.0\", \"azureml-contrib-notebook\": \"1.19.0\", \"azureml-contrib-interpret\": \"1.19.0\", \"azureml-contrib-gbdt\": \"1.19.0\", \"azureml-contrib-fairness\": \"1.19.0\", \"azureml-contrib-dataset\": \"1.19.0\", \"azureml-cli-common\": \"1.19.0\", \"azureml-automl-runtime\": \"1.19.0\", \"azureml-automl-core\": \"1.20.0\", \"azureml-accel-models\": \"1.19.0\"}',\n",
       "  '_aml_system_scenario_identification': 'Remote.Parent',\n",
       "  'ClientType': 'SDK',\n",
       "  'environment_cpu_name': 'AzureML-AutoML',\n",
       "  'environment_cpu_label': 'prod',\n",
       "  'environment_gpu_name': 'AzureML-AutoML-GPU',\n",
       "  'environment_gpu_label': 'prod',\n",
       "  'root_attribution': 'automl',\n",
       "  'attribution': 'AutoML',\n",
       "  'Orchestrator': 'AutoML',\n",
       "  'CancelUri': 'https://southcentralus.experiments.azureml.net/jasmine/v1.0/subscriptions/61c5c3f0-6dc7-4ed9-a7f3-c704b20e3b30/resourceGroups/aml-quickstarts-135455/providers/Microsoft.MachineLearningServices/workspaces/quick-starts-ws-135455/experimentids/37424b18-e0a2-4260-ad63-5ec94ec95077/cancel/AutoML_5d0cd4bd-cc27-4d78-9cb2-8db165609640',\n",
       "  'ClientSdkVersion': '1.20.0',\n",
       "  'snapshotId': '00000000-0000-0000-0000-000000000000',\n",
       "  'SetupRunId': 'AutoML_5d0cd4bd-cc27-4d78-9cb2-8db165609640_setup',\n",
       "  'SetupRunContainerId': 'dcid.AutoML_5d0cd4bd-cc27-4d78-9cb2-8db165609640_setup',\n",
       "  'FeaturizationRunJsonPath': 'featurizer_container.json',\n",
       "  'FeaturizationRunId': 'AutoML_5d0cd4bd-cc27-4d78-9cb2-8db165609640_featurize',\n",
       "  'ProblemInfoJsonString': '{\"dataset_num_categorical\": 0, \"is_sparse\": true, \"subsampling\": false, \"dataset_classes\": 2, \"dataset_features\": 74, \"dataset_samples\": 12330, \"single_frequency_class_detected\": false}',\n",
       "  'ModelExplainRunId': 'AutoML_5d0cd4bd-cc27-4d78-9cb2-8db165609640_ModelExplain'},\n",
       " 'inputDatasets': [{'dataset': {'id': 'd945b4c0-c21b-482d-aef6-838ec499f3d9'}, 'consumptionDetails': {'type': 'RunInput', 'inputName': 'training_data', 'mechanism': 'Direct'}}],\n",
       " 'outputDatasets': [],\n",
       " 'logFiles': {},\n",
       " 'submittedBy': 'ODL_User 135455'}"
      ]
     },
     "execution_count": 16,
     "metadata": {},
     "output_type": "execute_result"
    }
   ],
   "source": [
    "RunDetails(remote_run).show()\n",
    "remote_run.wait_for_completion(show_output=True)"
   ]
  },
  {
   "cell_type": "markdown",
   "metadata": {},
   "source": [
    "## Best Model\n",
    "\n",
    "TODO: In the cell below, get the best model from the automl experiments and display all the properties of the model.\n",
    "\n"
   ]
  },
  {
   "cell_type": "code",
   "execution_count": 19,
   "metadata": {
    "gather": {
     "logged": 1598431425670
    },
    "jupyter": {
     "outputs_hidden": false,
     "source_hidden": false
    },
    "nteract": {
     "transient": {
      "deleting": false
     }
    }
   },
   "outputs": [
    {
     "ename": "ModuleNotFoundError",
     "evalue": "No module named 'azureml.automl.runtime._ml_engine.featurizer_suggestion'",
     "output_type": "error",
     "traceback": [
      "\u001b[0;31m---------------------------------------------------------------------------\u001b[0m",
      "\u001b[0;31mModuleNotFoundError\u001b[0m                       Traceback (most recent call last)",
      "\u001b[0;32m<ipython-input-19-15d53af0d786>\u001b[0m in \u001b[0;36m<module>\u001b[0;34m\u001b[0m\n\u001b[0;32m----> 1\u001b[0;31m \u001b[0mautoml_best_run\u001b[0m\u001b[0;34m,\u001b[0m \u001b[0mfitted_model\u001b[0m \u001b[0;34m=\u001b[0m \u001b[0mremote_run\u001b[0m\u001b[0;34m.\u001b[0m\u001b[0mget_output\u001b[0m\u001b[0;34m(\u001b[0m\u001b[0;34m)\u001b[0m\u001b[0;34m\u001b[0m\u001b[0;34m\u001b[0m\u001b[0m\n\u001b[0m\u001b[1;32m      2\u001b[0m \u001b[0mprint\u001b[0m\u001b[0;34m(\u001b[0m\u001b[0mfitted_model\u001b[0m\u001b[0;34m)\u001b[0m\u001b[0;34m\u001b[0m\u001b[0;34m\u001b[0m\u001b[0m\n",
      "\u001b[0;32m/anaconda/envs/azureml_py36/lib/python3.6/site-packages/azureml/train/automl/run.py\u001b[0m in \u001b[0;36mget_output\u001b[0;34m(self, iteration, metric, return_onnx_model, return_split_onnx_model, **kwargs)\u001b[0m\n\u001b[1;32m    694\u001b[0m                     \u001b[0mfitted_model\u001b[0m \u001b[0;34m=\u001b[0m \u001b[0m_download_automl_onnx_model\u001b[0m\u001b[0;34m(\u001b[0m\u001b[0mcurr_run\u001b[0m\u001b[0;34m,\u001b[0m \u001b[0mmodel_name\u001b[0m\u001b[0;34m)\u001b[0m\u001b[0;34m\u001b[0m\u001b[0;34m\u001b[0m\u001b[0m\n\u001b[1;32m    695\u001b[0m                 \u001b[0;32melse\u001b[0m\u001b[0;34m:\u001b[0m\u001b[0;34m\u001b[0m\u001b[0;34m\u001b[0m\u001b[0m\n\u001b[0;32m--> 696\u001b[0;31m                     \u001b[0mfitted_model\u001b[0m \u001b[0;34m=\u001b[0m \u001b[0m_download_automl_model\u001b[0m\u001b[0;34m(\u001b[0m\u001b[0mcurr_run\u001b[0m\u001b[0;34m,\u001b[0m \u001b[0mmodel_name\u001b[0m\u001b[0;34m)\u001b[0m\u001b[0;34m\u001b[0m\u001b[0;34m\u001b[0m\u001b[0m\n\u001b[0m\u001b[1;32m    697\u001b[0m \u001b[0;34m\u001b[0m\u001b[0m\n\u001b[1;32m    698\u001b[0m             \u001b[0;32mreturn\u001b[0m \u001b[0mcurr_run\u001b[0m\u001b[0;34m,\u001b[0m \u001b[0mfitted_model\u001b[0m\u001b[0;34m\u001b[0m\u001b[0;34m\u001b[0m\u001b[0m\n",
      "\u001b[0;32m/anaconda/envs/azureml_py36/lib/python3.6/site-packages/azureml/train/automl/_model_download_utilities.py\u001b[0m in \u001b[0;36m_download_automl_model\u001b[0;34m(run, model_name)\u001b[0m\n\u001b[1;32m     85\u001b[0m             \u001b[0;31m# Pass through any exceptions from loading the model.\u001b[0m\u001b[0;34m\u001b[0m\u001b[0;34m\u001b[0m\u001b[0;34m\u001b[0m\u001b[0m\n\u001b[1;32m     86\u001b[0m             \u001b[0;31m# Try is used here to ensure we can cleanup the side effect of model downlad.\u001b[0m\u001b[0;34m\u001b[0m\u001b[0;34m\u001b[0m\u001b[0;34m\u001b[0m\u001b[0m\n\u001b[0;32m---> 87\u001b[0;31m             \u001b[0mmodel\u001b[0m \u001b[0;34m=\u001b[0m \u001b[0m_load_automl_model\u001b[0m\u001b[0;34m(\u001b[0m\u001b[0mmodel_path\u001b[0m\u001b[0;34m)\u001b[0m\u001b[0;34m\u001b[0m\u001b[0;34m\u001b[0m\u001b[0m\n\u001b[0m\u001b[1;32m     88\u001b[0m             \u001b[0;32mif\u001b[0m \u001b[0mmodel\u001b[0m \u001b[0;32mis\u001b[0m \u001b[0;32mNone\u001b[0m\u001b[0;34m:\u001b[0m\u001b[0;34m\u001b[0m\u001b[0;34m\u001b[0m\u001b[0m\n\u001b[1;32m     89\u001b[0m                 \u001b[0;31m# If we can retrieve the automl runtime version, we do so we can inform the user what to install.\u001b[0m\u001b[0;34m\u001b[0m\u001b[0;34m\u001b[0m\u001b[0;34m\u001b[0m\u001b[0m\n",
      "\u001b[0;32m/anaconda/envs/azureml_py36/lib/python3.6/site-packages/azureml/train/automl/_model_download_utilities.py\u001b[0m in \u001b[0;36m_load_automl_model\u001b[0;34m(model_path)\u001b[0m\n\u001b[1;32m    151\u001b[0m         \u001b[0;32mimport\u001b[0m \u001b[0mazureml\u001b[0m\u001b[0;34m.\u001b[0m\u001b[0mtrain\u001b[0m\u001b[0;34m.\u001b[0m\u001b[0mautoml\u001b[0m\u001b[0;34m.\u001b[0m\u001b[0mruntime\u001b[0m\u001b[0;34m\u001b[0m\u001b[0;34m\u001b[0m\u001b[0m\n\u001b[1;32m    152\u001b[0m         \u001b[0;32mwith\u001b[0m \u001b[0mopen\u001b[0m\u001b[0;34m(\u001b[0m\u001b[0mmodel_path\u001b[0m\u001b[0;34m,\u001b[0m \u001b[0;34m\"rb\"\u001b[0m\u001b[0;34m)\u001b[0m \u001b[0;32mas\u001b[0m \u001b[0mmodel_file\u001b[0m\u001b[0;34m:\u001b[0m\u001b[0;34m\u001b[0m\u001b[0;34m\u001b[0m\u001b[0m\n\u001b[0;32m--> 153\u001b[0;31m             \u001b[0mfitted_model\u001b[0m \u001b[0;34m=\u001b[0m \u001b[0mpickle\u001b[0m\u001b[0;34m.\u001b[0m\u001b[0mload\u001b[0m\u001b[0;34m(\u001b[0m\u001b[0mmodel_file\u001b[0m\u001b[0;34m)\u001b[0m  \u001b[0;31m# type: Optional[Any]\u001b[0m\u001b[0;34m\u001b[0m\u001b[0;34m\u001b[0m\u001b[0m\n\u001b[0m\u001b[1;32m    154\u001b[0m             \u001b[0;32mreturn\u001b[0m \u001b[0mfitted_model\u001b[0m\u001b[0;34m\u001b[0m\u001b[0;34m\u001b[0m\u001b[0m\n\u001b[1;32m    155\u001b[0m     \u001b[0;32mexcept\u001b[0m \u001b[0mImportError\u001b[0m \u001b[0;32mas\u001b[0m \u001b[0me\u001b[0m\u001b[0;34m:\u001b[0m\u001b[0;34m\u001b[0m\u001b[0;34m\u001b[0m\u001b[0m\n",
      "\u001b[0;31mModuleNotFoundError\u001b[0m: No module named 'azureml.automl.runtime._ml_engine.featurizer_suggestion'"
     ]
    }
   ],
   "source": [
    "automl_best_run, fitted_model = remote_run.get_output()\n",
    "print(fitted_model)"
   ]
  },
  {
   "cell_type": "code",
   "execution_count": 18,
   "metadata": {
    "gather": {
     "logged": 1598431426111
    },
    "jupyter": {
     "outputs_hidden": false,
     "source_hidden": false
    },
    "nteract": {
     "transient": {
      "deleting": false
     }
    }
   },
   "outputs": [
    {
     "ename": "NameError",
     "evalue": "name 'automl_best_run' is not defined",
     "output_type": "error",
     "traceback": [
      "\u001b[0;31m---------------------------------------------------------------------------\u001b[0m",
      "\u001b[0;31mNameError\u001b[0m                                 Traceback (most recent call last)",
      "\u001b[0;32m<ipython-input-18-5a151f1915b5>\u001b[0m in \u001b[0;36m<module>\u001b[0;34m\u001b[0m\n\u001b[1;32m      1\u001b[0m \u001b[0;31m#TODO: Save the best model\u001b[0m\u001b[0;34m\u001b[0m\u001b[0;34m\u001b[0m\u001b[0;34m\u001b[0m\u001b[0m\n\u001b[0;32m----> 2\u001b[0;31m \u001b[0mautoml_best_run\u001b[0m\u001b[0;34m.\u001b[0m\u001b[0mregister_model\u001b[0m\u001b[0;34m(\u001b[0m\u001b[0mmodel_name\u001b[0m\u001b[0;34m=\u001b[0m\u001b[0;34m'classification_automl'\u001b[0m\u001b[0;34m,\u001b[0m\u001b[0mmodel_path\u001b[0m\u001b[0;34m=\u001b[0m\u001b[0;34m'outputs/'\u001b[0m\u001b[0;34m)\u001b[0m\u001b[0;34m\u001b[0m\u001b[0;34m\u001b[0m\u001b[0m\n\u001b[0m",
      "\u001b[0;31mNameError\u001b[0m: name 'automl_best_run' is not defined"
     ]
    }
   ],
   "source": [
    "#TODO: Save the best model\n",
    "automl_best_run.register_model(model_name='classification_automl',model_path='outputs/')"
   ]
  },
  {
   "cell_type": "code",
   "execution_count": null,
   "metadata": {},
   "outputs": [],
   "source": [
    "# automl metrics\n",
    "automl_metrics = automl_best_run.get_metrics()\n",
    "for metric in automl_metrics:\n",
    "    print('Metric name : {} = {}'.format(metric,automl_metrics[metric]))"
   ]
  },
  {
   "cell_type": "markdown",
   "metadata": {},
   "source": [
    "## Model Deployment\n",
    "\n",
    "Remember you have to deploy only one of the two models you trained.. Perform the steps in the rest of this notebook only if you wish to deploy this model.\n",
    "\n",
    "TODO: In the cell below, register the model, create an inference config and deploy the model as a web service."
   ]
  },
  {
   "cell_type": "code",
   "execution_count": null,
   "metadata": {
    "gather": {
     "logged": 1598431435189
    },
    "jupyter": {
     "outputs_hidden": false,
     "source_hidden": false
    },
    "nteract": {
     "transient": {
      "deleting": false
     }
    }
   },
   "outputs": [],
   "source": []
  },
  {
   "cell_type": "markdown",
   "metadata": {
    "collapsed": true,
    "gather": {
     "logged": 1598431657736
    },
    "jupyter": {
     "outputs_hidden": false,
     "source_hidden": false
    },
    "nteract": {
     "transient": {
      "deleting": false
     }
    }
   },
   "source": [
    "TODO: In the cell below, send a request to the web service you deployed to test it."
   ]
  },
  {
   "cell_type": "code",
   "execution_count": null,
   "metadata": {
    "gather": {
     "logged": 1598432707604
    },
    "jupyter": {
     "outputs_hidden": false,
     "source_hidden": false
    },
    "nteract": {
     "transient": {
      "deleting": false
     }
    }
   },
   "outputs": [],
   "source": []
  },
  {
   "cell_type": "markdown",
   "metadata": {
    "collapsed": true,
    "gather": {
     "logged": 1598432765711
    },
    "jupyter": {
     "outputs_hidden": false,
     "source_hidden": false
    },
    "nteract": {
     "transient": {
      "deleting": false
     }
    }
   },
   "source": [
    "TODO: In the cell below, print the logs of the web service and delete the service"
   ]
  },
  {
   "cell_type": "code",
   "execution_count": null,
   "metadata": {
    "jupyter": {
     "outputs_hidden": false,
     "source_hidden": false
    },
    "nteract": {
     "transient": {
      "deleting": false
     }
    }
   },
   "outputs": [],
   "source": []
  }
 ],
 "metadata": {
  "kernel_info": {
   "name": "python3-azureml"
  },
  "kernelspec": {
   "display_name": "Python 3",
   "language": "python",
   "name": "python3"
  },
  "language_info": {
   "codemirror_mode": {
    "name": "ipython",
    "version": 3
   },
   "file_extension": ".py",
   "mimetype": "text/x-python",
   "name": "python",
   "nbconvert_exporter": "python",
   "pygments_lexer": "ipython3",
   "version": "3.6.9"
  },
  "nteract": {
   "version": "nteract-front-end@1.0.0"
  }
 },
 "nbformat": 4,
 "nbformat_minor": 2
}
